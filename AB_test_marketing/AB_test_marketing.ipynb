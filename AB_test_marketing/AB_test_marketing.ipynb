{
 "cells": [
  {
   "cell_type": "markdown",
   "metadata": {},
   "source": [
    "# A/B-тест отдела маркетинга"
   ]
  },
  {
   "cell_type": "markdown",
   "metadata": {},
   "source": [
    "## Часть 1. Приоритизация гипотез"
   ]
  },
  {
   "cell_type": "code",
   "execution_count": 1,
   "metadata": {},
   "outputs": [],
   "source": [
    "import pandas as pd\n",
    "import numpy as np\n",
    "import datetime as dt\n",
    "import matplotlib.pyplot as plt\n",
    "import warnings\n",
    "warnings.filterwarnings('ignore')\n",
    "from scipy import stats as st\n",
    "pd.set_option('display.float_format', '{:,.3f}'.format)"
   ]
  },
  {
   "cell_type": "code",
   "execution_count": 2,
   "metadata": {},
   "outputs": [],
   "source": [
    "def pre(df):\n",
    "    df.columns = [x.lower().replace(' ', '_') for x in df.columns] #привожу названия столбцов к хорошему стилю\n",
    "    display(df.head())\n",
    "    display(df.info())\n",
    "    display(df.describe())\n",
    "    display('Количество дубликатов:', df.duplicated().sum())\n",
    "    return    "
   ]
  },
  {
   "cell_type": "code",
   "execution_count": 3,
   "metadata": {},
   "outputs": [
    {
     "data": {
      "text/html": [
       "<div>\n",
       "<style scoped>\n",
       "    .dataframe tbody tr th:only-of-type {\n",
       "        vertical-align: middle;\n",
       "    }\n",
       "\n",
       "    .dataframe tbody tr th {\n",
       "        vertical-align: top;\n",
       "    }\n",
       "\n",
       "    .dataframe thead th {\n",
       "        text-align: right;\n",
       "    }\n",
       "</style>\n",
       "<table border=\"1\" class=\"dataframe\">\n",
       "  <thead>\n",
       "    <tr style=\"text-align: right;\">\n",
       "      <th></th>\n",
       "      <th>hypothesis</th>\n",
       "      <th>reach</th>\n",
       "      <th>impact</th>\n",
       "      <th>confidence</th>\n",
       "      <th>efforts</th>\n",
       "    </tr>\n",
       "  </thead>\n",
       "  <tbody>\n",
       "    <tr>\n",
       "      <th>0</th>\n",
       "      <td>Добавить два новых канала привлечения трафика,...</td>\n",
       "      <td>3</td>\n",
       "      <td>10</td>\n",
       "      <td>8</td>\n",
       "      <td>6</td>\n",
       "    </tr>\n",
       "    <tr>\n",
       "      <th>1</th>\n",
       "      <td>Запустить собственную службу доставки, что сок...</td>\n",
       "      <td>2</td>\n",
       "      <td>5</td>\n",
       "      <td>4</td>\n",
       "      <td>10</td>\n",
       "    </tr>\n",
       "    <tr>\n",
       "      <th>2</th>\n",
       "      <td>Добавить блоки рекомендаций товаров на сайт ин...</td>\n",
       "      <td>8</td>\n",
       "      <td>3</td>\n",
       "      <td>7</td>\n",
       "      <td>3</td>\n",
       "    </tr>\n",
       "    <tr>\n",
       "      <th>3</th>\n",
       "      <td>Изменить структура категорий, что увеличит кон...</td>\n",
       "      <td>8</td>\n",
       "      <td>3</td>\n",
       "      <td>3</td>\n",
       "      <td>8</td>\n",
       "    </tr>\n",
       "    <tr>\n",
       "      <th>4</th>\n",
       "      <td>Изменить цвет фона главной страницы, чтобы уве...</td>\n",
       "      <td>3</td>\n",
       "      <td>1</td>\n",
       "      <td>1</td>\n",
       "      <td>1</td>\n",
       "    </tr>\n",
       "  </tbody>\n",
       "</table>\n",
       "</div>"
      ],
      "text/plain": [
       "                                          hypothesis  reach  impact  \\\n",
       "0  Добавить два новых канала привлечения трафика,...      3      10   \n",
       "1  Запустить собственную службу доставки, что сок...      2       5   \n",
       "2  Добавить блоки рекомендаций товаров на сайт ин...      8       3   \n",
       "3  Изменить структура категорий, что увеличит кон...      8       3   \n",
       "4  Изменить цвет фона главной страницы, чтобы уве...      3       1   \n",
       "\n",
       "   confidence  efforts  \n",
       "0           8        6  \n",
       "1           4       10  \n",
       "2           7        3  \n",
       "3           3        8  \n",
       "4           1        1  "
      ]
     },
     "metadata": {},
     "output_type": "display_data"
    },
    {
     "name": "stdout",
     "output_type": "stream",
     "text": [
      "<class 'pandas.core.frame.DataFrame'>\n",
      "RangeIndex: 9 entries, 0 to 8\n",
      "Data columns (total 5 columns):\n",
      " #   Column      Non-Null Count  Dtype \n",
      "---  ------      --------------  ----- \n",
      " 0   hypothesis  9 non-null      object\n",
      " 1   reach       9 non-null      int64 \n",
      " 2   impact      9 non-null      int64 \n",
      " 3   confidence  9 non-null      int64 \n",
      " 4   efforts     9 non-null      int64 \n",
      "dtypes: int64(4), object(1)\n",
      "memory usage: 488.0+ bytes\n"
     ]
    },
    {
     "data": {
      "text/plain": [
       "None"
      ]
     },
     "metadata": {},
     "output_type": "display_data"
    },
    {
     "data": {
      "text/html": [
       "<div>\n",
       "<style scoped>\n",
       "    .dataframe tbody tr th:only-of-type {\n",
       "        vertical-align: middle;\n",
       "    }\n",
       "\n",
       "    .dataframe tbody tr th {\n",
       "        vertical-align: top;\n",
       "    }\n",
       "\n",
       "    .dataframe thead th {\n",
       "        text-align: right;\n",
       "    }\n",
       "</style>\n",
       "<table border=\"1\" class=\"dataframe\">\n",
       "  <thead>\n",
       "    <tr style=\"text-align: right;\">\n",
       "      <th></th>\n",
       "      <th>reach</th>\n",
       "      <th>impact</th>\n",
       "      <th>confidence</th>\n",
       "      <th>efforts</th>\n",
       "    </tr>\n",
       "  </thead>\n",
       "  <tbody>\n",
       "    <tr>\n",
       "      <th>count</th>\n",
       "      <td>9.000</td>\n",
       "      <td>9.000</td>\n",
       "      <td>9.000</td>\n",
       "      <td>9.000</td>\n",
       "    </tr>\n",
       "    <tr>\n",
       "      <th>mean</th>\n",
       "      <td>4.778</td>\n",
       "      <td>4.778</td>\n",
       "      <td>5.556</td>\n",
       "      <td>4.889</td>\n",
       "    </tr>\n",
       "    <tr>\n",
       "      <th>std</th>\n",
       "      <td>3.153</td>\n",
       "      <td>3.193</td>\n",
       "      <td>3.046</td>\n",
       "      <td>2.804</td>\n",
       "    </tr>\n",
       "    <tr>\n",
       "      <th>min</th>\n",
       "      <td>1.000</td>\n",
       "      <td>1.000</td>\n",
       "      <td>1.000</td>\n",
       "      <td>1.000</td>\n",
       "    </tr>\n",
       "    <tr>\n",
       "      <th>25%</th>\n",
       "      <td>3.000</td>\n",
       "      <td>3.000</td>\n",
       "      <td>3.000</td>\n",
       "      <td>3.000</td>\n",
       "    </tr>\n",
       "    <tr>\n",
       "      <th>50%</th>\n",
       "      <td>3.000</td>\n",
       "      <td>3.000</td>\n",
       "      <td>7.000</td>\n",
       "      <td>5.000</td>\n",
       "    </tr>\n",
       "    <tr>\n",
       "      <th>75%</th>\n",
       "      <td>8.000</td>\n",
       "      <td>7.000</td>\n",
       "      <td>8.000</td>\n",
       "      <td>6.000</td>\n",
       "    </tr>\n",
       "    <tr>\n",
       "      <th>max</th>\n",
       "      <td>10.000</td>\n",
       "      <td>10.000</td>\n",
       "      <td>9.000</td>\n",
       "      <td>10.000</td>\n",
       "    </tr>\n",
       "  </tbody>\n",
       "</table>\n",
       "</div>"
      ],
      "text/plain": [
       "       reach  impact  confidence  efforts\n",
       "count  9.000   9.000       9.000    9.000\n",
       "mean   4.778   4.778       5.556    4.889\n",
       "std    3.153   3.193       3.046    2.804\n",
       "min    1.000   1.000       1.000    1.000\n",
       "25%    3.000   3.000       3.000    3.000\n",
       "50%    3.000   3.000       7.000    5.000\n",
       "75%    8.000   7.000       8.000    6.000\n",
       "max   10.000  10.000       9.000   10.000"
      ]
     },
     "metadata": {},
     "output_type": "display_data"
    },
    {
     "data": {
      "text/plain": [
       "'Количество дубликатов:'"
      ]
     },
     "metadata": {},
     "output_type": "display_data"
    },
    {
     "data": {
      "text/plain": [
       "0"
      ]
     },
     "metadata": {},
     "output_type": "display_data"
    }
   ],
   "source": [
    "df = pd.read_csv('')\n",
    "pre(df) #получение информации о датасете с приведением названий столбцов к хорошему стилю"
   ]
  },
  {
   "cell_type": "markdown",
   "metadata": {},
   "source": [
    "Исходя из полученной выше информации, в данных все хорошо и можно приступать к расчетам. \n",
    "Применим фреймворк ICE для приоритизации гипотез."
   ]
  },
  {
   "cell_type": "code",
   "execution_count": 4,
   "metadata": {},
   "outputs": [
    {
     "name": "stdout",
     "output_type": "stream",
     "text": [
      "                                          hypothesis    ICE\n",
      "8  Запустить акцию, дающую скидку на товар в день... 16.200\n",
      "0  Добавить два новых канала привлечения трафика,... 13.330\n",
      "7  Добавить форму подписки на все основные страни... 11.200\n",
      "6  Показать на главной странице баннеры с актуаль...  8.000\n",
      "2  Добавить блоки рекомендаций товаров на сайт ин...  7.000\n",
      "1  Запустить собственную службу доставки, что сок...  2.000\n",
      "5  Добавить страницу отзывов клиентов о магазине,...  1.330\n",
      "3  Изменить структура категорий, что увеличит кон...  1.120\n",
      "4  Изменить цвет фона главной страницы, чтобы уве...  1.000\n"
     ]
    }
   ],
   "source": [
    "df['ICE'] =  (df['impact'] * df['confidence'] / df['efforts']).round(2)\n",
    "print(df[['hypothesis', 'ICE']].sort_values(by='ICE', ascending = False))"
   ]
  },
  {
   "cell_type": "markdown",
   "metadata": {},
   "source": [
    "Наиболее перспективные гипотезы по ICE - это 8, 0 и 7.\n",
    "Далее применим фреймворк RICE для приоритизации гипотез."
   ]
  },
  {
   "cell_type": "code",
   "execution_count": 5,
   "metadata": {},
   "outputs": [
    {
     "name": "stdout",
     "output_type": "stream",
     "text": [
      "                                          hypothesis    RICE\n",
      "7  Добавить форму подписки на все основные страни... 112.000\n",
      "2  Добавить блоки рекомендаций товаров на сайт ин...  56.000\n",
      "0  Добавить два новых канала привлечения трафика,...  40.000\n",
      "6  Показать на главной странице баннеры с актуаль...  40.000\n",
      "8  Запустить акцию, дающую скидку на товар в день...  16.200\n",
      "3  Изменить структура категорий, что увеличит кон...   9.000\n",
      "1  Запустить собственную службу доставки, что сок...   4.000\n",
      "5  Добавить страницу отзывов клиентов о магазине,...   4.000\n",
      "4  Изменить цвет фона главной страницы, чтобы уве...   3.000\n"
     ]
    }
   ],
   "source": [
    "df['RICE'] = (df['reach'] * df['impact']* df['confidence'] / df['efforts']).round(2)\n",
    "print(df[['hypothesis', 'RICE']].sort_values(by = 'RICE', ascending = False))"
   ]
  },
  {
   "cell_type": "markdown",
   "metadata": {},
   "source": [
    "### Вывод\n",
    "Наиболее перспективные гипотезы по RICE это 7, 2, 0 и 6. \n",
    "После применения RICE вместо ICE приорететы гипотез изменились. Это произошло потому что во фреймворке ICE не учитывается критерий \"reach\" - скольких пользователей затронет изменение, которое вы хотите внести. Это важный параметр, упустить из виду который нельзя. Поэтому, наиболее приорететной будем считать гипотезу под номером  7. Она лидирует с отрывом в 2 раза по RICE и имеет хороший результат по ICE."
   ]
  },
  {
   "cell_type": "markdown",
   "metadata": {},
   "source": [
    "## Часть 2. Анализ A/B-теста"
   ]
  },
  {
   "cell_type": "code",
   "execution_count": 6,
   "metadata": {},
   "outputs": [
    {
     "name": "stdout",
     "output_type": "stream",
     "text": [
      "<class 'pandas.core.frame.DataFrame'>\n",
      "RangeIndex: 1197 entries, 0 to 1196\n",
      "Data columns (total 5 columns):\n",
      " #   Column         Non-Null Count  Dtype \n",
      "---  ------         --------------  ----- \n",
      " 0   transactionId  1197 non-null   int64 \n",
      " 1   visitorId      1197 non-null   int64 \n",
      " 2   date           1197 non-null   object\n",
      " 3   revenue        1197 non-null   int64 \n",
      " 4   group          1197 non-null   object\n",
      "dtypes: int64(3), object(2)\n",
      "memory usage: 46.9+ KB\n"
     ]
    }
   ],
   "source": [
    "#откроем датасет с заказами и посмотрим информацию по нему \n",
    "orders = pd.read_csv('', sep=',')\n",
    "orders.info()"
   ]
  },
  {
   "cell_type": "code",
   "execution_count": 7,
   "metadata": {},
   "outputs": [
    {
     "data": {
      "text/html": [
       "<div>\n",
       "<style scoped>\n",
       "    .dataframe tbody tr th:only-of-type {\n",
       "        vertical-align: middle;\n",
       "    }\n",
       "\n",
       "    .dataframe tbody tr th {\n",
       "        vertical-align: top;\n",
       "    }\n",
       "\n",
       "    .dataframe thead th {\n",
       "        text-align: right;\n",
       "    }\n",
       "</style>\n",
       "<table border=\"1\" class=\"dataframe\">\n",
       "  <thead>\n",
       "    <tr style=\"text-align: right;\">\n",
       "      <th></th>\n",
       "      <th>transactionId</th>\n",
       "      <th>visitorId</th>\n",
       "      <th>date</th>\n",
       "      <th>revenue</th>\n",
       "      <th>group</th>\n",
       "    </tr>\n",
       "  </thead>\n",
       "  <tbody>\n",
       "    <tr>\n",
       "      <th>0</th>\n",
       "      <td>3667963787</td>\n",
       "      <td>3312258926</td>\n",
       "      <td>2019-08-15</td>\n",
       "      <td>1650</td>\n",
       "      <td>B</td>\n",
       "    </tr>\n",
       "    <tr>\n",
       "      <th>1</th>\n",
       "      <td>2804400009</td>\n",
       "      <td>3642806036</td>\n",
       "      <td>2019-08-15</td>\n",
       "      <td>730</td>\n",
       "      <td>B</td>\n",
       "    </tr>\n",
       "    <tr>\n",
       "      <th>2</th>\n",
       "      <td>2961555356</td>\n",
       "      <td>4069496402</td>\n",
       "      <td>2019-08-15</td>\n",
       "      <td>400</td>\n",
       "      <td>A</td>\n",
       "    </tr>\n",
       "    <tr>\n",
       "      <th>3</th>\n",
       "      <td>3797467345</td>\n",
       "      <td>1196621759</td>\n",
       "      <td>2019-08-15</td>\n",
       "      <td>9759</td>\n",
       "      <td>B</td>\n",
       "    </tr>\n",
       "    <tr>\n",
       "      <th>4</th>\n",
       "      <td>2282983706</td>\n",
       "      <td>2322279887</td>\n",
       "      <td>2019-08-15</td>\n",
       "      <td>2308</td>\n",
       "      <td>B</td>\n",
       "    </tr>\n",
       "  </tbody>\n",
       "</table>\n",
       "</div>"
      ],
      "text/plain": [
       "   transactionId   visitorId        date  revenue group\n",
       "0     3667963787  3312258926  2019-08-15     1650     B\n",
       "1     2804400009  3642806036  2019-08-15      730     B\n",
       "2     2961555356  4069496402  2019-08-15      400     A\n",
       "3     3797467345  1196621759  2019-08-15     9759     B\n",
       "4     2282983706  2322279887  2019-08-15     2308     B"
      ]
     },
     "execution_count": 7,
     "metadata": {},
     "output_type": "execute_result"
    }
   ],
   "source": [
    "orders.head()"
   ]
  },
  {
   "cell_type": "code",
   "execution_count": 8,
   "metadata": {},
   "outputs": [
    {
     "name": "stdout",
     "output_type": "stream",
     "text": [
      "<class 'pandas.core.frame.DataFrame'>\n",
      "RangeIndex: 1197 entries, 0 to 1196\n",
      "Data columns (total 5 columns):\n",
      " #   Column         Non-Null Count  Dtype         \n",
      "---  ------         --------------  -----         \n",
      " 0   transactionId  1197 non-null   int64         \n",
      " 1   visitorId      1197 non-null   int64         \n",
      " 2   date           1197 non-null   datetime64[ns]\n",
      " 3   revenue        1197 non-null   int64         \n",
      " 4   group          1197 non-null   object        \n",
      "dtypes: datetime64[ns](1), int64(3), object(1)\n",
      "memory usage: 46.9+ KB\n"
     ]
    }
   ],
   "source": [
    "#замена типа данных\n",
    "orders['date'] = orders['date'].map(\n",
    "    lambda x: dt.datetime.strptime(x, '%Y-%m-%d')\n",
    ")\n",
    "orders.info() #проверка"
   ]
  },
  {
   "cell_type": "code",
   "execution_count": 9,
   "metadata": {},
   "outputs": [
    {
     "data": {
      "text/html": [
       "<div>\n",
       "<style scoped>\n",
       "    .dataframe tbody tr th:only-of-type {\n",
       "        vertical-align: middle;\n",
       "    }\n",
       "\n",
       "    .dataframe tbody tr th {\n",
       "        vertical-align: top;\n",
       "    }\n",
       "\n",
       "    .dataframe thead th {\n",
       "        text-align: right;\n",
       "    }\n",
       "</style>\n",
       "<table border=\"1\" class=\"dataframe\">\n",
       "  <thead>\n",
       "    <tr style=\"text-align: right;\">\n",
       "      <th></th>\n",
       "      <th>transactionId</th>\n",
       "      <th>visitorId</th>\n",
       "      <th>date</th>\n",
       "      <th>revenue</th>\n",
       "      <th>group</th>\n",
       "    </tr>\n",
       "  </thead>\n",
       "  <tbody>\n",
       "    <tr>\n",
       "      <th>0</th>\n",
       "      <td>3667963787</td>\n",
       "      <td>3312258926</td>\n",
       "      <td>2019-08-15</td>\n",
       "      <td>1650</td>\n",
       "      <td>B</td>\n",
       "    </tr>\n",
       "    <tr>\n",
       "      <th>1</th>\n",
       "      <td>2804400009</td>\n",
       "      <td>3642806036</td>\n",
       "      <td>2019-08-15</td>\n",
       "      <td>730</td>\n",
       "      <td>B</td>\n",
       "    </tr>\n",
       "    <tr>\n",
       "      <th>2</th>\n",
       "      <td>2961555356</td>\n",
       "      <td>4069496402</td>\n",
       "      <td>2019-08-15</td>\n",
       "      <td>400</td>\n",
       "      <td>A</td>\n",
       "    </tr>\n",
       "    <tr>\n",
       "      <th>3</th>\n",
       "      <td>3797467345</td>\n",
       "      <td>1196621759</td>\n",
       "      <td>2019-08-15</td>\n",
       "      <td>9759</td>\n",
       "      <td>B</td>\n",
       "    </tr>\n",
       "    <tr>\n",
       "      <th>4</th>\n",
       "      <td>2282983706</td>\n",
       "      <td>2322279887</td>\n",
       "      <td>2019-08-15</td>\n",
       "      <td>2308</td>\n",
       "      <td>B</td>\n",
       "    </tr>\n",
       "  </tbody>\n",
       "</table>\n",
       "</div>"
      ],
      "text/plain": [
       "   transactionId   visitorId       date  revenue group\n",
       "0     3667963787  3312258926 2019-08-15     1650     B\n",
       "1     2804400009  3642806036 2019-08-15      730     B\n",
       "2     2961555356  4069496402 2019-08-15      400     A\n",
       "3     3797467345  1196621759 2019-08-15     9759     B\n",
       "4     2282983706  2322279887 2019-08-15     2308     B"
      ]
     },
     "execution_count": 9,
     "metadata": {},
     "output_type": "execute_result"
    }
   ],
   "source": [
    "orders.head()"
   ]
  },
  {
   "cell_type": "code",
   "execution_count": 10,
   "metadata": {},
   "outputs": [
    {
     "data": {
      "text/html": [
       "<div>\n",
       "<style scoped>\n",
       "    .dataframe tbody tr th:only-of-type {\n",
       "        vertical-align: middle;\n",
       "    }\n",
       "\n",
       "    .dataframe tbody tr th {\n",
       "        vertical-align: top;\n",
       "    }\n",
       "\n",
       "    .dataframe thead th {\n",
       "        text-align: right;\n",
       "    }\n",
       "</style>\n",
       "<table border=\"1\" class=\"dataframe\">\n",
       "  <thead>\n",
       "    <tr style=\"text-align: right;\">\n",
       "      <th></th>\n",
       "      <th>count_group</th>\n",
       "      <th>name_group</th>\n",
       "    </tr>\n",
       "    <tr>\n",
       "      <th>visitorId</th>\n",
       "      <th></th>\n",
       "      <th></th>\n",
       "    </tr>\n",
       "  </thead>\n",
       "  <tbody>\n",
       "    <tr>\n",
       "      <th>8300375</th>\n",
       "      <td>2</td>\n",
       "      <td>[B, A]</td>\n",
       "    </tr>\n",
       "    <tr>\n",
       "      <th>199603092</th>\n",
       "      <td>2</td>\n",
       "      <td>[A, B]</td>\n",
       "    </tr>\n",
       "    <tr>\n",
       "      <th>232979603</th>\n",
       "      <td>2</td>\n",
       "      <td>[B, A]</td>\n",
       "    </tr>\n",
       "    <tr>\n",
       "      <th>237748145</th>\n",
       "      <td>2</td>\n",
       "      <td>[B, A]</td>\n",
       "    </tr>\n",
       "    <tr>\n",
       "      <th>276558944</th>\n",
       "      <td>2</td>\n",
       "      <td>[B, A]</td>\n",
       "    </tr>\n",
       "  </tbody>\n",
       "</table>\n",
       "</div>"
      ],
      "text/plain": [
       "           count_group name_group\n",
       "visitorId                        \n",
       "8300375              2     [B, A]\n",
       "199603092            2     [A, B]\n",
       "232979603            2     [B, A]\n",
       "237748145            2     [B, A]\n",
       "276558944            2     [B, A]"
      ]
     },
     "metadata": {},
     "output_type": "display_data"
    },
    {
     "name": "stdout",
     "output_type": "stream",
     "text": [
      "Количество дублирующихся пользователей 58\n"
     ]
    }
   ],
   "source": [
    "#найдем пользователей, которые попали в обе группы \n",
    "double_group = orders.groupby('visitorId').agg({'group' : ['nunique', 'unique']})\n",
    "double_group.columns = ['count_group', 'name_group']\n",
    "double_group = double_group.query('count_group > 1')\n",
    "display(double_group.head())\n",
    "print('Количество дублирующихся пользователей', double_group['count_group'].count())"
   ]
  },
  {
   "cell_type": "markdown",
   "metadata": {},
   "source": [
    "Уберем дублирующихся пользователей, так как они исказят результат теста. Цель теста - определить, как изменение повлияло на решение пользователя, а раз они заказали в обоих случаях, то решение на них не повлияло.\n",
    "С другой стороны, они уже учтены, как посетители и сумма чека может отличаться в зависимости от группы. Как раз на сумму заказа изменение могло повлиять. Поэтому, в итоге решила не удалять этих пользователей. А в реальной жизни такие данные не стоит брать в работу вообще."
   ]
  },
  {
   "cell_type": "code",
   "execution_count": 11,
   "metadata": {},
   "outputs": [
    {
     "name": "stdout",
     "output_type": "stream",
     "text": [
      "<class 'pandas.core.frame.DataFrame'>\n",
      "RangeIndex: 62 entries, 0 to 61\n",
      "Data columns (total 3 columns):\n",
      " #   Column    Non-Null Count  Dtype \n",
      "---  ------    --------------  ----- \n",
      " 0   date      62 non-null     object\n",
      " 1   group     62 non-null     object\n",
      " 2   visitors  62 non-null     int64 \n",
      "dtypes: int64(1), object(2)\n",
      "memory usage: 1.6+ KB\n"
     ]
    }
   ],
   "source": [
    "#откроем датасет с визитами и посмотрим информацию по нему \n",
    "visitors = pd.read_csv('', sep=',')\n",
    "visitors.info()"
   ]
  },
  {
   "cell_type": "code",
   "execution_count": 12,
   "metadata": {},
   "outputs": [
    {
     "data": {
      "text/html": [
       "<div>\n",
       "<style scoped>\n",
       "    .dataframe tbody tr th:only-of-type {\n",
       "        vertical-align: middle;\n",
       "    }\n",
       "\n",
       "    .dataframe tbody tr th {\n",
       "        vertical-align: top;\n",
       "    }\n",
       "\n",
       "    .dataframe thead th {\n",
       "        text-align: right;\n",
       "    }\n",
       "</style>\n",
       "<table border=\"1\" class=\"dataframe\">\n",
       "  <thead>\n",
       "    <tr style=\"text-align: right;\">\n",
       "      <th></th>\n",
       "      <th>date</th>\n",
       "      <th>group</th>\n",
       "      <th>visitors</th>\n",
       "    </tr>\n",
       "  </thead>\n",
       "  <tbody>\n",
       "    <tr>\n",
       "      <th>0</th>\n",
       "      <td>2019-08-01</td>\n",
       "      <td>A</td>\n",
       "      <td>719</td>\n",
       "    </tr>\n",
       "    <tr>\n",
       "      <th>1</th>\n",
       "      <td>2019-08-02</td>\n",
       "      <td>A</td>\n",
       "      <td>619</td>\n",
       "    </tr>\n",
       "    <tr>\n",
       "      <th>2</th>\n",
       "      <td>2019-08-03</td>\n",
       "      <td>A</td>\n",
       "      <td>507</td>\n",
       "    </tr>\n",
       "    <tr>\n",
       "      <th>3</th>\n",
       "      <td>2019-08-04</td>\n",
       "      <td>A</td>\n",
       "      <td>717</td>\n",
       "    </tr>\n",
       "    <tr>\n",
       "      <th>4</th>\n",
       "      <td>2019-08-05</td>\n",
       "      <td>A</td>\n",
       "      <td>756</td>\n",
       "    </tr>\n",
       "  </tbody>\n",
       "</table>\n",
       "</div>"
      ],
      "text/plain": [
       "        date group  visitors\n",
       "0 2019-08-01     A       719\n",
       "1 2019-08-02     A       619\n",
       "2 2019-08-03     A       507\n",
       "3 2019-08-04     A       717\n",
       "4 2019-08-05     A       756"
      ]
     },
     "execution_count": 12,
     "metadata": {},
     "output_type": "execute_result"
    }
   ],
   "source": [
    "#замена типа данных\n",
    "visitors['date'] = visitors['date'].map(\n",
    "    lambda x: dt.datetime.strptime(x, '%Y-%m-%d')\n",
    ")\n",
    "visitors.head()"
   ]
  },
  {
   "cell_type": "markdown",
   "metadata": {},
   "source": [
    "### График кумулятивной выручки по группам"
   ]
  },
  {
   "cell_type": "code",
   "execution_count": 13,
   "metadata": {},
   "outputs": [],
   "source": [
    "# создаем массив уникальных пар значений дат и групп теста\n",
    "datesGroups = orders[['date','group']].drop_duplicates()"
   ]
  },
  {
   "cell_type": "code",
   "execution_count": 14,
   "metadata": {},
   "outputs": [],
   "source": [
    "#кумулятивные данные по заказам\n",
    "ordersAggregated = datesGroups.apply(lambda x: orders[np.logical_and(orders['date'] <= x['date'], orders['group'] == x['group'])]\\\n",
    ".agg({'date' : 'max', 'group' : 'max', 'transactionId' : 'nunique', 'visitorId' : 'nunique', 'revenue' : 'sum'}), axis=1).sort_values(by=['date','group'])"
   ]
  },
  {
   "cell_type": "code",
   "execution_count": 15,
   "metadata": {},
   "outputs": [
    {
     "data": {
      "text/html": [
       "<div>\n",
       "<style scoped>\n",
       "    .dataframe tbody tr th:only-of-type {\n",
       "        vertical-align: middle;\n",
       "    }\n",
       "\n",
       "    .dataframe tbody tr th {\n",
       "        vertical-align: top;\n",
       "    }\n",
       "\n",
       "    .dataframe thead th {\n",
       "        text-align: right;\n",
       "    }\n",
       "</style>\n",
       "<table border=\"1\" class=\"dataframe\">\n",
       "  <thead>\n",
       "    <tr style=\"text-align: right;\">\n",
       "      <th></th>\n",
       "      <th>date</th>\n",
       "      <th>group</th>\n",
       "      <th>transactionId</th>\n",
       "      <th>visitorId</th>\n",
       "      <th>revenue</th>\n",
       "    </tr>\n",
       "  </thead>\n",
       "  <tbody>\n",
       "    <tr>\n",
       "      <th>55</th>\n",
       "      <td>2019-08-01</td>\n",
       "      <td>A</td>\n",
       "      <td>24</td>\n",
       "      <td>20</td>\n",
       "      <td>148579</td>\n",
       "    </tr>\n",
       "    <tr>\n",
       "      <th>66</th>\n",
       "      <td>2019-08-01</td>\n",
       "      <td>B</td>\n",
       "      <td>21</td>\n",
       "      <td>20</td>\n",
       "      <td>101217</td>\n",
       "    </tr>\n",
       "    <tr>\n",
       "      <th>175</th>\n",
       "      <td>2019-08-02</td>\n",
       "      <td>A</td>\n",
       "      <td>44</td>\n",
       "      <td>38</td>\n",
       "      <td>242401</td>\n",
       "    </tr>\n",
       "    <tr>\n",
       "      <th>173</th>\n",
       "      <td>2019-08-02</td>\n",
       "      <td>B</td>\n",
       "      <td>45</td>\n",
       "      <td>43</td>\n",
       "      <td>266748</td>\n",
       "    </tr>\n",
       "    <tr>\n",
       "      <th>291</th>\n",
       "      <td>2019-08-03</td>\n",
       "      <td>A</td>\n",
       "      <td>68</td>\n",
       "      <td>62</td>\n",
       "      <td>354874</td>\n",
       "    </tr>\n",
       "  </tbody>\n",
       "</table>\n",
       "</div>"
      ],
      "text/plain": [
       "          date group  transactionId  visitorId  revenue\n",
       "55  2019-08-01     A             24         20   148579\n",
       "66  2019-08-01     B             21         20   101217\n",
       "175 2019-08-02     A             44         38   242401\n",
       "173 2019-08-02     B             45         43   266748\n",
       "291 2019-08-03     A             68         62   354874"
      ]
     },
     "execution_count": 15,
     "metadata": {},
     "output_type": "execute_result"
    }
   ],
   "source": [
    "ordersAggregated.head() # здесь я обнаружила, что пользователь с ID 20 попал одновременно в группу А и В, \n",
    "#вернулась выше и изучила этот вопрос"
   ]
  },
  {
   "cell_type": "code",
   "execution_count": 16,
   "metadata": {},
   "outputs": [],
   "source": [
    "#кумулятивные данные по визитам\n",
    "visitorsAggregated = datesGroups.apply(lambda x: visitors[np.logical_and(visitors['date'] <= x['date'], visitors['group'] == x['group'])]\\\n",
    ".agg({'date' : 'max', 'group' : 'max', 'visitors' : 'sum'}), axis=1).sort_values(by=['date','group']) "
   ]
  },
  {
   "cell_type": "code",
   "execution_count": 17,
   "metadata": {},
   "outputs": [
    {
     "data": {
      "text/html": [
       "<div>\n",
       "<style scoped>\n",
       "    .dataframe tbody tr th:only-of-type {\n",
       "        vertical-align: middle;\n",
       "    }\n",
       "\n",
       "    .dataframe tbody tr th {\n",
       "        vertical-align: top;\n",
       "    }\n",
       "\n",
       "    .dataframe thead th {\n",
       "        text-align: right;\n",
       "    }\n",
       "</style>\n",
       "<table border=\"1\" class=\"dataframe\">\n",
       "  <thead>\n",
       "    <tr style=\"text-align: right;\">\n",
       "      <th></th>\n",
       "      <th>date</th>\n",
       "      <th>group</th>\n",
       "      <th>visitors</th>\n",
       "    </tr>\n",
       "  </thead>\n",
       "  <tbody>\n",
       "    <tr>\n",
       "      <th>55</th>\n",
       "      <td>2019-08-01</td>\n",
       "      <td>A</td>\n",
       "      <td>719</td>\n",
       "    </tr>\n",
       "    <tr>\n",
       "      <th>66</th>\n",
       "      <td>2019-08-01</td>\n",
       "      <td>B</td>\n",
       "      <td>713</td>\n",
       "    </tr>\n",
       "    <tr>\n",
       "      <th>175</th>\n",
       "      <td>2019-08-02</td>\n",
       "      <td>A</td>\n",
       "      <td>1338</td>\n",
       "    </tr>\n",
       "    <tr>\n",
       "      <th>173</th>\n",
       "      <td>2019-08-02</td>\n",
       "      <td>B</td>\n",
       "      <td>1294</td>\n",
       "    </tr>\n",
       "    <tr>\n",
       "      <th>291</th>\n",
       "      <td>2019-08-03</td>\n",
       "      <td>A</td>\n",
       "      <td>1845</td>\n",
       "    </tr>\n",
       "  </tbody>\n",
       "</table>\n",
       "</div>"
      ],
      "text/plain": [
       "          date group  visitors\n",
       "55  2019-08-01     A       719\n",
       "66  2019-08-01     B       713\n",
       "175 2019-08-02     A      1338\n",
       "173 2019-08-02     B      1294\n",
       "291 2019-08-03     A      1845"
      ]
     },
     "execution_count": 17,
     "metadata": {},
     "output_type": "execute_result"
    }
   ],
   "source": [
    "visitorsAggregated.head()"
   ]
  },
  {
   "cell_type": "code",
   "execution_count": 18,
   "metadata": {},
   "outputs": [
    {
     "data": {
      "text/html": [
       "<div>\n",
       "<style scoped>\n",
       "    .dataframe tbody tr th:only-of-type {\n",
       "        vertical-align: middle;\n",
       "    }\n",
       "\n",
       "    .dataframe tbody tr th {\n",
       "        vertical-align: top;\n",
       "    }\n",
       "\n",
       "    .dataframe thead th {\n",
       "        text-align: right;\n",
       "    }\n",
       "</style>\n",
       "<table border=\"1\" class=\"dataframe\">\n",
       "  <thead>\n",
       "    <tr style=\"text-align: right;\">\n",
       "      <th></th>\n",
       "      <th>date</th>\n",
       "      <th>group</th>\n",
       "      <th>orders</th>\n",
       "      <th>buyers</th>\n",
       "      <th>revenue</th>\n",
       "      <th>visitors</th>\n",
       "    </tr>\n",
       "  </thead>\n",
       "  <tbody>\n",
       "    <tr>\n",
       "      <th>0</th>\n",
       "      <td>2019-08-01</td>\n",
       "      <td>A</td>\n",
       "      <td>24</td>\n",
       "      <td>20</td>\n",
       "      <td>148579</td>\n",
       "      <td>719</td>\n",
       "    </tr>\n",
       "    <tr>\n",
       "      <th>1</th>\n",
       "      <td>2019-08-01</td>\n",
       "      <td>B</td>\n",
       "      <td>21</td>\n",
       "      <td>20</td>\n",
       "      <td>101217</td>\n",
       "      <td>713</td>\n",
       "    </tr>\n",
       "    <tr>\n",
       "      <th>2</th>\n",
       "      <td>2019-08-02</td>\n",
       "      <td>A</td>\n",
       "      <td>44</td>\n",
       "      <td>38</td>\n",
       "      <td>242401</td>\n",
       "      <td>1338</td>\n",
       "    </tr>\n",
       "    <tr>\n",
       "      <th>3</th>\n",
       "      <td>2019-08-02</td>\n",
       "      <td>B</td>\n",
       "      <td>45</td>\n",
       "      <td>43</td>\n",
       "      <td>266748</td>\n",
       "      <td>1294</td>\n",
       "    </tr>\n",
       "    <tr>\n",
       "      <th>4</th>\n",
       "      <td>2019-08-03</td>\n",
       "      <td>A</td>\n",
       "      <td>68</td>\n",
       "      <td>62</td>\n",
       "      <td>354874</td>\n",
       "      <td>1845</td>\n",
       "    </tr>\n",
       "  </tbody>\n",
       "</table>\n",
       "</div>"
      ],
      "text/plain": [
       "        date group  orders  buyers  revenue  visitors\n",
       "0 2019-08-01     A      24      20   148579       719\n",
       "1 2019-08-01     B      21      20   101217       713\n",
       "2 2019-08-02     A      44      38   242401      1338\n",
       "3 2019-08-02     B      45      43   266748      1294\n",
       "4 2019-08-03     A      68      62   354874      1845"
      ]
     },
     "execution_count": 18,
     "metadata": {},
     "output_type": "execute_result"
    }
   ],
   "source": [
    "# объединяем кумулятивные данные в одной таблице\n",
    "cumulativeData = ordersAggregated.merge(visitorsAggregated, on=['date', 'group'])\n",
    "cumulativeData.columns = ['date', 'group', 'orders', 'buyers', 'revenue', 'visitors']\n",
    "cumulativeData.head()"
   ]
  },
  {
   "cell_type": "code",
   "execution_count": 19,
   "metadata": {},
   "outputs": [
    {
     "data": {
      "image/png": "[encoded data removed]",
      "text/plain": [
       "<Figure size 1000x600 with 1 Axes>"
      ]
     },
     "metadata": {},
     "output_type": "display_data"
    }
   ],
   "source": [
    "# датафрейм с кумулятивным количеством заказов и кумулятивной выручкой по дням в группе А\n",
    "cumulativeRevenueA = cumulativeData.query('group == \"A\"')[['date','revenue', 'orders']]\n",
    "\n",
    "# датафрейм с кумулятивным количеством заказов и кумулятивной выручкой по дням в группе B\n",
    "cumulativeRevenueB = cumulativeData[cumulativeData['group']=='B'][['date','revenue', 'orders']]\n",
    "\n",
    "plt.figure(figsize = (10, 6))\n",
    "\n",
    "#график кумулятивной выручки группы А\n",
    "plt.plot(cumulativeRevenueA['date'], cumulativeRevenueA['revenue'], label='A')\n",
    "\n",
    "#график кумулятивной выручки группы B\n",
    "plt.plot(cumulativeRevenueB['date'], cumulativeRevenueB['revenue'], label='B')\n",
    "\n",
    "plt.xlabel('Дата')\n",
    "plt.ylabel('Кумулятивная выручка')\n",
    "plt.title('Изменение кумулятивной выручки по дням')\n",
    "\n",
    "plt.legend()\n",
    "plt.show()"
   ]
  },
  {
   "cell_type": "markdown",
   "metadata": {},
   "source": [
    "#### Вывод\n",
    "\n",
    "Выручка увеличивается в течение всего теста, но если у группы А это происходит равномерно, то у группы В наблюдается скачкообразное повышение между 17.08.2019 и 21.08.2019. Предположительно, причина этого явления - выбросы (резкое увеличение числа заказов или очень дорогие заказы). "
   ]
  },
  {
   "cell_type": "markdown",
   "metadata": {},
   "source": [
    "### График кумулятивного среднего чека по группам"
   ]
  },
  {
   "cell_type": "code",
   "execution_count": 20,
   "metadata": {},
   "outputs": [
    {
     "data": {
      "image/png": "[encoded data removed]",
      "text/plain": [
       "<Figure size 1000x600 with 1 Axes>"
      ]
     },
     "metadata": {},
     "output_type": "display_data"
    }
   ],
   "source": [
    "#График кумулятивного среднего чека по группам (делим выручку на число заказов)\n",
    "plt.figure(figsize = (10, 6))\n",
    "plt.plot(cumulativeRevenueA['date'], cumulativeRevenueA['revenue']/cumulativeRevenueA['orders'], label='A')\n",
    "plt.plot(cumulativeRevenueB['date'], cumulativeRevenueB['revenue']/cumulativeRevenueB['orders'], label='B')\n",
    "\n",
    "plt.xlabel('Дата')\n",
    "plt.ylabel('Кумулятивный средний чек')\n",
    "plt.title('Изменение кумулятивного среднего чека по дням')\n",
    "\n",
    "plt.legend() \n",
    "plt.show()"
   ]
  },
  {
   "cell_type": "markdown",
   "metadata": {},
   "source": [
    "#### Вывод\n",
    "Средний чек для группы А становится более равномерным ближе к концу теста, предположительно, установился. А для группы В наблюдается все тот же скачек между 17.08.2019 и 21.08.2019. Вероятно, в группу B в это время попали очень дорогие заказы. После, средний чек группы В начинает падать. Группе B нужно больше данных, чтобы придти к реальному среднему чеку и установиться."
   ]
  },
  {
   "cell_type": "markdown",
   "metadata": {},
   "source": [
    "### График относительного изменения кумулятивного среднего чека группы B к группе A"
   ]
  },
  {
   "cell_type": "code",
   "execution_count": 21,
   "metadata": {},
   "outputs": [
    {
     "data": {
      "image/png": "[encoded data removed]",
      "text/plain": [
       "<Figure size 1200x500 with 1 Axes>"
      ]
     },
     "metadata": {},
     "output_type": "display_data"
    }
   ],
   "source": [
    "#объединим кумулятивные данные в одной таблице\n",
    "mergedCumulativeRevenue = cumulativeRevenueA.merge(cumulativeRevenueB, on='date', how='left', suffixes=['A', 'B'])\n",
    "\n",
    "#отношение среднего чека группы В к группе А \n",
    "plt.figure(figsize = (12, 5))\n",
    "plt.plot(mergedCumulativeRevenue['date'], (mergedCumulativeRevenue['revenueB']/mergedCumulativeRevenue['ordersB'])/(mergedCumulativeRevenue['revenueA']/mergedCumulativeRevenue['ordersA'])-1)\n",
    "\n",
    "#ось X\n",
    "plt.axhline(y=0, color='purple', linestyle='--') \n",
    "\n",
    "plt.xlabel('Дата')\n",
    "plt.ylabel('Отношение кумулятивного среднего чека группы B к A')\n",
    "plt.title('Относительное изменение кумулятивного среднего чека группы B к группе A')\n",
    "\n",
    "plt.show()"
   ]
  },
  {
   "cell_type": "markdown",
   "metadata": {},
   "source": [
    "#### Вывод\n",
    "График различия изменения среднего чека имеет 2 резких скачка. Это явно указывает на наличие выбросов,  крупных заказов."
   ]
  },
  {
   "cell_type": "markdown",
   "metadata": {},
   "source": [
    "### График кумулятивной конверсии по группам"
   ]
  },
  {
   "cell_type": "code",
   "execution_count": 22,
   "metadata": {},
   "outputs": [],
   "source": [
    "#кумулятивная конверсия\n",
    "cumulativeData['conversion'] = cumulativeData['orders']/cumulativeData['visitors']"
   ]
  },
  {
   "cell_type": "code",
   "execution_count": 23,
   "metadata": {},
   "outputs": [],
   "source": [
    "# отделяем данные по группе A\n",
    "cumulativeDataA = cumulativeData.query('group == \"A\"')\n",
    "\n",
    "# отделяем данные по группе B\n",
    "cumulativeDataB = cumulativeData.query('group == \"B\"')"
   ]
  },
  {
   "cell_type": "code",
   "execution_count": 24,
   "metadata": {},
   "outputs": [
    {
     "data": {
      "image/png": "[encoded data removed]",
      "text/plain": [
       "<Figure size 1200x500 with 1 Axes>"
      ]
     },
     "metadata": {},
     "output_type": "display_data"
    }
   ],
   "source": [
    "# графики кумулятивной конверсии\n",
    "plt.figure(figsize = (12, 5))\n",
    "plt.plot(cumulativeDataA['date'], cumulativeDataA['conversion'], label='A')\n",
    "plt.plot(cumulativeDataB['date'], cumulativeDataB['conversion'], label='B')\n",
    "plt.legend()\n",
    "\n",
    "# задаем масштаб осей\n",
    "plt.axis([pd.to_datetime('2019-08-01'), pd.to_datetime('2019-09-01'), 0.02 , 0.04])\n",
    "\n",
    "plt.xlabel('Дата')\n",
    "plt.ylabel('Кумулятивная конверсия')\n",
    "plt.title('Изменение кумулятивной конверсии по дням')\n",
    "\n",
    "plt.show()"
   ]
  },
  {
   "cell_type": "markdown",
   "metadata": {},
   "source": [
    "#### Вывод \n",
    "Сначала конверсия группы А была выше, но очень быстро упала и зафиксировалась на этом уровне. В то время как конверсия группы В начала расти и также зафиксировалась стабильно выше, чем у группы А. "
   ]
  },
  {
   "cell_type": "markdown",
   "metadata": {},
   "source": [
    "### График относительного изменения кумулятивной конверсии группы B к группе A "
   ]
  },
  {
   "cell_type": "code",
   "execution_count": 25,
   "metadata": {},
   "outputs": [
    {
     "data": {
      "image/png": "[encoded data removed]",
      "text/plain": [
       "<Figure size 1200x500 with 1 Axes>"
      ]
     },
     "metadata": {},
     "output_type": "display_data"
    }
   ],
   "source": [
    "#собираем данные по кумулятивной конверсии в одном датафрейме\n",
    "mergedCumulativeConversions = cumulativeDataA[['date','conversion']].merge(cumulativeDataB[['date','conversion']], on='date', how='left', suffixes=['A', 'B'])\n",
    "\n",
    "#построение графика\n",
    "plt.figure(figsize = (12, 5))\n",
    "plt.plot(mergedCumulativeConversions['date'], mergedCumulativeConversions['conversionB']\\\n",
    "         /mergedCumulativeConversions['conversionA']-1, label=\"Относительный прирост конверсии группы B относительно группы A\")\n",
    "plt.legend()\n",
    "\n",
    "plt.axhline(y=0, color='purple', linestyle='--')\n",
    "plt.axhline(y=0.13, color='pink', linestyle='-')\n",
    "plt.axis([pd.to_datetime('2019-08-01'), pd.to_datetime('2019-09-01'), -0.3 , 0.25])\n",
    "\n",
    "plt.xlabel('Дата')\n",
    "plt.ylabel('Отношение кумулятивной конверсии группы В к А')\n",
    "plt.title('Относительное изменение кумулятивной конверсии группы B к группе A')\n",
    "\n",
    "plt.show()"
   ]
  },
  {
   "cell_type": "markdown",
   "metadata": {},
   "source": [
    "#### Вывод\n",
    "\n",
    "В начале теста группа В немного проигрывала группе А, но потом вышла вперед и колеблется вдоль одной линии. Предположительно, отношение конверсии можно считать установившемся. "
   ]
  },
  {
   "cell_type": "markdown",
   "metadata": {},
   "source": [
    "### Точечный график количества заказов по пользователям"
   ]
  },
  {
   "cell_type": "code",
   "execution_count": 26,
   "metadata": {},
   "outputs": [],
   "source": [
    "ordersByUsers = orders.groupby('visitorId', as_index=False).agg({'transactionId': 'nunique'})\n",
    "ordersByUsers.columns = ['visitorId', 'orders']"
   ]
  },
  {
   "cell_type": "code",
   "execution_count": 27,
   "metadata": {},
   "outputs": [
    {
     "data": {
      "image/png": "[encoded data removed]",
      "text/plain": [
       "<Figure size 1200x500 with 1 Axes>"
      ]
     },
     "metadata": {},
     "output_type": "display_data"
    }
   ],
   "source": [
    "#гистограмма \n",
    "plt.figure(figsize = (12, 5))\n",
    "ordersByUsers['orders'].hist(range=(1, 11))\n",
    "\n",
    "plt.xlabel('Заказы')\n",
    "plt.ylabel('Пользователи')\n",
    "plt.title('Гистограмма количества пользователей по числу заказов')\n",
    "\n",
    "plt.show()"
   ]
  },
  {
   "cell_type": "markdown",
   "metadata": {},
   "source": [
    "Есть пользователи, которые совершают 11, 5, 4, 3 заказов, большинство покупателей заказывали только один раз. Но много пользователей с 2 и 3 заказами."
   ]
  },
  {
   "cell_type": "code",
   "execution_count": 28,
   "metadata": {},
   "outputs": [
    {
     "data": {
      "image/png": "[encoded data removed]",
      "text/plain": [
       "<Figure size 1000x500 with 1 Axes>"
      ]
     },
     "metadata": {},
     "output_type": "display_data"
    }
   ],
   "source": [
    "#построим точечную диаграмму числа заказов на одного пользователя\n",
    "plt.figure(figsize = (10, 5)) \n",
    "x_values = pd.Series(range(0,len(ordersByUsers)))\n",
    "\n",
    "plt.scatter(x_values, ordersByUsers['orders']) \n",
    "\n",
    "plt.xlabel('Пользователи')\n",
    "plt.ylabel('Заказы')\n",
    "plt.title('Точечный график количества заказов на одного пользователя')\n",
    "\n",
    "plt.show()"
   ]
  },
  {
   "cell_type": "markdown",
   "metadata": {},
   "source": [
    "#### Вывод\n",
    "\n",
    "Вывод из гистограммы подтверждается: много пользователей с 2-3 заказами. Но пока не ясно, нужно считать их выбросами или нет. Предположительно, все, что больше 3 заказов можно считать выбросами-аномалиями. Необходима проверка. "
   ]
  },
  {
   "cell_type": "markdown",
   "metadata": {},
   "source": [
    "### Подсчет 95-го и 99-го перцентилей количества заказов на пользователя. Выбор границы для определения аномальных пользователей"
   ]
  },
  {
   "cell_type": "code",
   "execution_count": 29,
   "metadata": {},
   "outputs": [
    {
     "name": "stdout",
     "output_type": "stream",
     "text": [
      "[1. 2. 4.]\n"
     ]
    }
   ],
   "source": [
    "print(np.percentile(ordersByUsers['orders'], [90, 95, 99])) "
   ]
  },
  {
   "cell_type": "markdown",
   "metadata": {},
   "source": [
    "#### Вывод\n",
    "Не более 5% пользователей оформляли больше чем 2 заказа. И 10% пользователей заказывали более 1 раза. Не более 1 % заказали больше, чем 3 раза.\n",
    "Следует взять 2 заказа как максимальное число заказов на пользователя и отсеять тех пользователей, у кого число заказов больше (принять их за аномальные)."
   ]
  },
  {
   "cell_type": "markdown",
   "metadata": {},
   "source": [
    "### Точечный график стоимости заказов"
   ]
  },
  {
   "cell_type": "code",
   "execution_count": 30,
   "metadata": {},
   "outputs": [
    {
     "data": {
      "image/png": "[encoded data removed]",
      "text/plain": [
       "<Figure size 1200x500 with 1 Axes>"
      ]
     },
     "metadata": {},
     "output_type": "display_data"
    }
   ],
   "source": [
    "#предварительно построю гистограмму, чтобы посмотреть распределение сумм заказов\n",
    "plt.figure(figsize = (12, 5))\n",
    "orders['revenue'].hist()\n",
    "\n",
    "plt.xlabel('Сумма заказа')\n",
    "plt.ylabel('Число пользователей')\n",
    "plt.title('Гистограмма количества пользователей по сумме заказа')\n",
    "\n",
    "plt.show()"
   ]
  },
  {
   "cell_type": "code",
   "execution_count": 31,
   "metadata": {},
   "outputs": [
    {
     "data": {
      "text/plain": [
       "count       1,197.000\n",
       "mean        8,348.006\n",
       "std        39,191.132\n",
       "min            50.000\n",
       "25%         1,220.000\n",
       "50%         2,978.000\n",
       "75%         8,290.000\n",
       "max     1,294,500.000\n",
       "Name: revenue, dtype: float64"
      ]
     },
     "execution_count": 31,
     "metadata": {},
     "output_type": "execute_result"
    }
   ],
   "source": [
    "#гистограмма показала неожиданный результат, к тому же, странно выглядит шкала. Нужно посмотреть, \n",
    "#какие вообще есть значения в столбце \n",
    "orders['revenue'].describe()"
   ]
  },
  {
   "cell_type": "code",
   "execution_count": 32,
   "metadata": {},
   "outputs": [
    {
     "data": {
      "image/png": "[encoded data removed]",
      "text/plain": [
       "<Figure size 1000x500 with 1 Axes>"
      ]
     },
     "metadata": {},
     "output_type": "display_data"
    }
   ],
   "source": [
    "#здесь сразу видно максимальный заказ 1294500, который явно является выбросом. \n",
    "#построим точечную диаграмму стоимости заказов \n",
    "plt.figure(figsize = (10, 5))\n",
    "plt.ylim([0, 100000]) #пришлось внести ограничения, так как из-за выбросов, график был не наглядный\n",
    "x_values = pd.Series(range(0,len(orders['revenue'])))\n",
    "plt.scatter(x_values, orders['revenue']) \n",
    "\n",
    "plt.xlabel('Пользователи')\n",
    "plt.ylabel('Сумма заказа')\n",
    "plt.title('Точечный график стоимости заказов')\n",
    "\n",
    "plt.show()"
   ]
  },
  {
   "cell_type": "markdown",
   "metadata": {},
   "source": [
    "#### Вывод\n",
    "\n",
    "По диаграмме можно сделать вывод, что в данных есть очень большие выбросы. По графику, можно взять за выбросы заказы выше 40 000, но требуется проверка. "
   ]
  },
  {
   "cell_type": "markdown",
   "metadata": {},
   "source": [
    "### Подсчет 95-го и 99-го перцентилей стоимости заказов. Выбор границы для определения аномальных заказов"
   ]
  },
  {
   "cell_type": "code",
   "execution_count": 33,
   "metadata": {},
   "outputs": [
    {
     "name": "stdout",
     "output_type": "stream",
     "text": [
      "[18168.  28000.  58233.2]\n"
     ]
    }
   ],
   "source": [
    "print(np.percentile(orders['revenue'], [90, 95, 99])) "
   ]
  },
  {
   "cell_type": "markdown",
   "metadata": {},
   "source": [
    "#### Вывод\n",
    "Не более 5% пользователей оформляли заказов дороже 28 000 и не более 1 % дороже 58 233. \n",
    "Следует взять 28000 за максимальную сумму заказа и отсеять те заказы, где сумма больше. "
   ]
  },
  {
   "cell_type": "markdown",
   "metadata": {},
   "source": [
    "### Подсчет статистической значимости различий в числе заказов (конверсии) между группами по «сырым» данным"
   ]
  },
  {
   "cell_type": "code",
   "execution_count": 34,
   "metadata": {},
   "outputs": [],
   "source": [
    "#сгруппируем заказы по группам и для каждого платящего пользователя укажем число заказов\n",
    "ordersByUsersA = orders.query('group == \"A\"').groupby('visitorId', as_index=False)\\\n",
    "    .agg({'transactionId': 'nunique'})\n",
    "    \n",
    "ordersByUsersA.columns = ['userId', 'orders']\n",
    "\n",
    "ordersByUsersB = orders.query('group == \"B\"').groupby('visitorId', as_index=False)\\\n",
    "    .agg({'transactionId': 'nunique'})\n",
    "\n",
    "ordersByUsersB.columns = ['userId', 'orders']\n"
   ]
  },
  {
   "cell_type": "code",
   "execution_count": 35,
   "metadata": {},
   "outputs": [],
   "source": [
    "#создадим выборки с количеством заказов для платящих пользователей и нулями для не платящтх пользователей\n",
    "\n",
    "visitsA = visitors.query('group == \"A\"')\n",
    "sampleA = ordersByUsersA['orders'].append(pd.Series([0]*(visitsA['visitors'].sum()-ordersByUsersA.shape[0]),\\\n",
    "        name = 'orders'))\n",
    "\n",
    "visitsB = visitors.query('group == \"B\"')\n",
    "sampleB = ordersByUsersB['orders'].append(pd.Series([0]*(visitsB['visitors'].sum()-ordersByUsersB.shape[0]),\\\n",
    "        name = 'orders'))"
   ]
  },
  {
   "cell_type": "code",
   "execution_count": 36,
   "metadata": {},
   "outputs": [
    {
     "name": "stdout",
     "output_type": "stream",
     "text": [
      "p-значение A:  0.0\n",
      "Отвергаем нулевую гипотезу: распределение A не нормально\n",
      "p-значение B:  0.0\n",
      "Отвергаем нулевую гипотезу: распределение B не нормально\n"
     ]
    }
   ],
   "source": [
    "#проверим нормальность выборок\n",
    "#нулевая гипотеза - распределение нормально\n",
    "#распределение не нормально\n",
    "\n",
    "alpha = 0.05  # критический уровень статистической значимости\n",
    "\n",
    "results = st.shapiro(sampleA)\n",
    "p_value = results[1]  # второе значение в массиве результатов (с индексом 1) - p-value\n",
    "\n",
    "print('p-значение A: ', p_value)\n",
    "\n",
    "if p_value < alpha:\n",
    "    print('Отвергаем нулевую гипотезу: распределение A не нормально')\n",
    "else:\n",
    "    print('Не получилось отвергнуть нулевую гипотезу,  распределение A нормально') \n",
    "\n",
    "results = st.shapiro(sampleB)\n",
    "p_value = results[1]  # второе значение в массиве результатов (с индексом 1) - p-value\n",
    "\n",
    "print('p-значение B: ', p_value)\n",
    "\n",
    "if p_value < alpha:\n",
    "    print('Отвергаем нулевую гипотезу: распределение B не нормально')\n",
    "else:\n",
    "    print('Не получилось отвергнуть нулевую гипотезу,  распределение B нормально')\n",
    "    "
   ]
  },
  {
   "cell_type": "code",
   "execution_count": 37,
   "metadata": {},
   "outputs": [
    {
     "name": "stdout",
     "output_type": "stream",
     "text": [
      "p-value = 0.017\n",
      "Отвергаем нулевую гипотезу: статистически значимые различия в числе заказов между группами есть\n",
      "Относительный выйгрыш группы B 13.8 %\n"
     ]
    }
   ],
   "source": [
    "#распределения не нормальны, для проверки используем критерий Манна-Уитни\n",
    "#посчитаем статистическую значимость различия в числе заказов (конверсии) между группами.\n",
    "#нулевая гипотеза - статистически значимых различий в числе заказов между группами нет\n",
    "#альтернативная - различия есть\n",
    "\n",
    "p_value = st.mannwhitneyu(sampleA, sampleB)[1]\n",
    "print('p-value =', \"{0:.3f}\".format(p_value))\n",
    "if p_value < alpha:\n",
    "    print('Отвергаем нулевую гипотезу: статистически значимые различия в числе заказов между группами есть')\n",
    "else:\n",
    "    print('Не получилось отвергнуть нулевую гипотезу,статистически значимых различий в числе заказов между группами нет')\n",
    "\n",
    "otn = (sampleB.mean() / sampleA.mean() - 1)*100\n",
    "if otn > 0:\n",
    "    print('Относительный выйгрыш группы B '\"{0:.1f}\".format(otn), '%')\n",
    "else:\n",
    "    print('Относительный проигрыш группы B '\"{0:.1f}\".format(otn), '%')\n"
   ]
  },
  {
   "cell_type": "markdown",
   "metadata": {},
   "source": [
    "#### Вывод\n",
    "По сырым данным получено, что статистически значимые различия в числе заказов между группами есть и относительный выйгрыш группы B составил 13.8 %."
   ]
  },
  {
   "cell_type": "markdown",
   "metadata": {},
   "source": [
    "### Подсчет  статистической значимости различий в среднем чеке заказа между группами по «сырым» данным"
   ]
  },
  {
   "cell_type": "code",
   "execution_count": 38,
   "metadata": {},
   "outputs": [
    {
     "name": "stdout",
     "output_type": "stream",
     "text": [
      "p-value = 0.729\n",
      "Не получилось отвергнуть нулевую гипотезу, различий в среднем чеке между группами нет\n",
      "Относительный проигрыш группы B -20.6 %\n"
     ]
    }
   ],
   "source": [
    "#нулевая гипотеза-  различий в среднем чеке между группами нет\n",
    "#альтернативная - различия в среднем чеке между группами есть\n",
    "\n",
    "p_value = st.mannwhitneyu(orders.query('group == \"A\"')['revenue'], orders.query('group == \"B\"')['revenue'])[1]\n",
    "print('p-value =', \"{0:.3f}\".format(p_value))\n",
    "if p_value < alpha:\n",
    "    print('Отвергаем нулевую гипотезу:  различия в среднем чеке между группами есть')\n",
    "else:\n",
    "    print('Не получилось отвергнуть нулевую гипотезу, различий в среднем чеке между группами нет')\n",
    "\n",
    "otn = (orders.query('group == \"A\"')['revenue'].mean()/orders.query('group == \"B\"')['revenue'].mean()-1)*100\n",
    "if otn > 0:\n",
    "    print('Относительный выйгрыш группы B '\"{0:.1f}\".format(otn), '%')\n",
    "else:\n",
    "    print('Относительный проигрыш группы B '\"{0:.1f}\".format(otn), '%') "
   ]
  },
  {
   "cell_type": "markdown",
   "metadata": {},
   "source": [
    "#### Вывод\n",
    "Тест показал, что статистически значимых различий между средними чеками в группах нет. Но относительный проигрыш группы В составил 20,6%, это существенная разница. Возможно, после чистки выбросов, ситуация изменится. "
   ]
  },
  {
   "cell_type": "markdown",
   "metadata": {},
   "source": [
    "### Подсчет статистической значимости различий в конверсии между группами по «очищенным» данным"
   ]
  },
  {
   "cell_type": "code",
   "execution_count": 39,
   "metadata": {},
   "outputs": [],
   "source": [
    "#сначала произведем очистку данных\n",
    "\n",
    "quant95 = ordersByUsers['orders'].quantile(0.95).round(0)\n",
    "ordersByUsersAfiltr = ordersByUsersA.query('orders <= @quant95')\n",
    "\n",
    "ordersByUsersBfiltr = ordersByUsersB.query('orders <= @quant95')"
   ]
  },
  {
   "cell_type": "code",
   "execution_count": 40,
   "metadata": {},
   "outputs": [],
   "source": [
    "#создадим выборки с количеством заказов для платящих пользователей и нулями для не платящтх пользователей\n",
    "#по очищенным данным \n",
    "\n",
    "visitsA = visitors.query('group == \"A\"')\n",
    "sampleAFiltered = ordersByUsersAfiltr['orders'].append(pd.Series([0]*(visitsA['visitors'].sum()-ordersByUsersAfiltr.shape[0]),\\\n",
    "        name = 'orders'))\n",
    "\n",
    "visitsB = visitors.query('group == \"B\"')\n",
    "sampleBFiltered = ordersByUsersBfiltr['orders'].append(pd.Series([0]*(visitsB['visitors'].sum()-ordersByUsersBfiltr.shape[0]),\\\n",
    "        name = 'orders'))"
   ]
  },
  {
   "cell_type": "code",
   "execution_count": 41,
   "metadata": {},
   "outputs": [
    {
     "name": "stdout",
     "output_type": "stream",
     "text": [
      "p -value = 0.013\n",
      "Отвергаем нулевую гипотезу: статистически значимые различия в числе заказов между группами есть\n",
      "Относительный проигрыш группы B -14.4 %\n"
     ]
    }
   ],
   "source": [
    "#посчитаем статистическую значимость различия в числе заказов (конверсии) между группами по очищенным данным\n",
    "#нулевая гипотеза - статистически значимых различий в числе заказов между группами по очищенным данным нет\n",
    "#альтернативная - различия есть\n",
    "\n",
    "p_value = st.mannwhitneyu(sampleAFiltered, sampleBFiltered)[1]\n",
    "print('p -value =', \"{0:.3f}\".format(p_value))\n",
    "if p_value < alpha:\n",
    "    print('Отвергаем нулевую гипотезу: статистически значимые различия в числе заказов между группами есть')\n",
    "else:\n",
    "    print('Не получилось отвергнуть нулевую гипотезу,статистически значимых различий в числе заказов между группами нет')\n",
    "\n",
    "otn = (sampleAFiltered.mean() / sampleBFiltered.mean() - 1)*100\n",
    "if otn > 0:\n",
    "    print('Относительный выйгрыш группы B '\"{0:.1f}\".format(otn), '%')\n",
    "else:\n",
    "    print('Относительный проигрыш группы B '\"{0:.1f}\".format(otn), '%')"
   ]
  },
  {
   "cell_type": "markdown",
   "metadata": {},
   "source": [
    "По не очищеным дынным было:\n",
    "p-value = 0.017\n",
    "\n",
    "Отвергаем нулевую гипотезу: статистически значимые различия в числе заказов между группами есть.\n",
    "Относительный выйгрыш группы B 13.8 %"
   ]
  },
  {
   "cell_type": "markdown",
   "metadata": {},
   "source": [
    "#### Вывод\n",
    "По очищенным данным статистически значимые различия в числе заказов между группами есть, как и по не очищенным. Однако, после очистки данных оказалось, что число заказов группы B значительно ниже числа заказов группы A, а не наоборот, как было раньше. "
   ]
  },
  {
   "cell_type": "markdown",
   "metadata": {},
   "source": [
    "### Подсчет статистической значимости различий в среднем чеке заказа между группами по «очищенным» данным"
   ]
  },
  {
   "cell_type": "code",
   "execution_count": 42,
   "metadata": {},
   "outputs": [],
   "source": [
    "#сначала произведем очистку данных\n",
    "\n",
    "quant_95 = orders['revenue'].quantile(0.95).round(0)\n",
    "\n",
    "ordersfiltr = orders.query('revenue <= @quant_95')"
   ]
  },
  {
   "cell_type": "code",
   "execution_count": 43,
   "metadata": {},
   "outputs": [
    {
     "name": "stdout",
     "output_type": "stream",
     "text": [
      "p-value = 0.852\n",
      "Не получилось отвергнуть нулевую гипотезу, различий в среднем чеке между группами нет\n",
      "Относительный выйгрыш группы B 1.6 %\n"
     ]
    }
   ],
   "source": [
    "#нулевая гипотеза - различий в среднем чеке между группами нет\n",
    "#альтернативная - различия в среднем чеке между группами есть\n",
    "\n",
    "p_value = st.mannwhitneyu(ordersfiltr.query('group == \"A\"')['revenue'],ordersfiltr.query('group == \"B\"')['revenue'])[1]\n",
    "print('p-value =', \"{0:.3f}\".format(p_value))\n",
    "if p_value < alpha:\n",
    "    print('Отвергаем нулевую гипотезу:  различия в среднем чеке между группами есть')\n",
    "else:\n",
    "    print('Не получилось отвергнуть нулевую гипотезу, различий в среднем чеке между группами нет')\n",
    "\n",
    "otn = (ordersfiltr.query('group == \"A\"')['revenue'].mean()/ordersfiltr.query('group == \"B\"')['revenue'].mean()-1)*100\n",
    "if otn > 0:\n",
    "    print('Относительный выйгрыш группы B '\"{0:.1f}\".format(otn), '%')\n",
    "else:\n",
    "    print('Относительный проигрыш группы B '\"{0:.1f}\".format(otn), '%') "
   ]
  },
  {
   "cell_type": "markdown",
   "metadata": {},
   "source": [
    "Было по \"сырым\" данным:\n",
    "\n",
    "p-value = 0.729\n",
    "\n",
    "Не получилось отвергнуть нулевую гипотезу, различий в среднем чеке между группами нет\n",
    "\n",
    "Относительный проигрыш группы B -20.6 %"
   ]
  },
  {
   "cell_type": "markdown",
   "metadata": {},
   "source": [
    "#### Вывод\n",
    "Общий вывод по очищенным данным не изменился: различий в среднем чеке между группами нет. Но оказалось, что средний чек группы B немного выше среднего чека группы A. В то время как по \"сырым\" данным, чек группы B был значительно ниже среднего чека группы A."
   ]
  },
  {
   "cell_type": "markdown",
   "metadata": {},
   "source": [
    "### Решение по результатам теста"
   ]
  },
  {
   "cell_type": "markdown",
   "metadata": {},
   "source": [
    "Есть статистически значимые различия в числе заказов между группами, как по очищенным, так и по \"сырым\" данным.\n",
    "\n",
    "График различия конверсии между группами сообщает, что результаты группы B лучше группы A и нет значительной тенденции к улучшению.\n",
    "\n",
    "Нет статистически значимого различия по среднему чеку между группами ни по «сырым», ни по данным после фильтрации\n",
    "аномалий.\n",
    "\n",
    "График различия среднего чека говорит о том, что результаты группы B имеют 2 резких скачка и сделать из этого графика определённые выводы нельзя.\n",
    "\n",
    "Исходя из обнаруженных фактов, тест следует остановить и признать его успешным по конверсии пользователей. Продолжать смысла нет, потому как вероятность, что при имеющихся данных сегмент B уступит сегменту А по конверсии — практически нулевая. Также, вероятность, что есть различия в средних чеках между группами - практически нулевая."
   ]
  }
 ],
 "metadata": {
  "ExecuteTimeLog": [
   {
    "duration": 110,
    "start_time": "2022-04-24T21:24:42.062Z"
   },
   {
    "duration": 541,
    "start_time": "2022-04-24T21:24:49.284Z"
   },
   {
    "duration": 34,
    "start_time": "2022-04-24T21:24:49.828Z"
   },
   {
    "duration": 15,
    "start_time": "2022-04-24T21:26:11.041Z"
   },
   {
    "duration": 19,
    "start_time": "2022-04-24T21:26:31.915Z"
   },
   {
    "duration": 3,
    "start_time": "2022-04-24T21:45:32.412Z"
   },
   {
    "duration": 43,
    "start_time": "2022-04-24T21:45:32.864Z"
   },
   {
    "duration": 105,
    "start_time": "2022-04-24T21:45:47.475Z"
   },
   {
    "duration": 11,
    "start_time": "2022-04-24T21:46:29.404Z"
   },
   {
    "duration": 6,
    "start_time": "2022-04-24T21:47:07.712Z"
   },
   {
    "duration": 5,
    "start_time": "2022-04-24T21:47:56.392Z"
   },
   {
    "duration": 18,
    "start_time": "2022-04-24T21:47:56.932Z"
   },
   {
    "duration": 31,
    "start_time": "2022-04-24T21:48:06.191Z"
   },
   {
    "duration": 6,
    "start_time": "2022-04-24T21:49:07.716Z"
   },
   {
    "duration": 37,
    "start_time": "2022-04-24T21:49:08.419Z"
   },
   {
    "duration": 5,
    "start_time": "2022-04-24T21:49:30.367Z"
   },
   {
    "duration": 51,
    "start_time": "2022-04-24T21:49:31.214Z"
   },
   {
    "duration": 21,
    "start_time": "2022-04-24T21:50:27.896Z"
   },
   {
    "duration": 5,
    "start_time": "2022-04-24T21:50:39.838Z"
   },
   {
    "duration": 7,
    "start_time": "2022-04-24T21:50:44.192Z"
   },
   {
    "duration": 70,
    "start_time": "2022-04-24T21:50:44.486Z"
   },
   {
    "duration": 14,
    "start_time": "2022-04-24T21:50:45.261Z"
   },
   {
    "duration": 7,
    "start_time": "2022-04-24T21:52:41.785Z"
   },
   {
    "duration": 28,
    "start_time": "2022-04-24T21:52:55.414Z"
   },
   {
    "duration": 23,
    "start_time": "2022-04-24T21:53:04.563Z"
   },
   {
    "duration": 7,
    "start_time": "2022-04-24T21:53:25.488Z"
   },
   {
    "duration": 60,
    "start_time": "2022-04-24T21:53:26.091Z"
   },
   {
    "duration": 13,
    "start_time": "2022-04-24T21:58:25.686Z"
   },
   {
    "duration": 3432,
    "start_time": "2022-04-24T21:58:35.296Z"
   },
   {
    "duration": 12,
    "start_time": "2022-04-24T21:59:05.380Z"
   },
   {
    "duration": 12,
    "start_time": "2022-04-24T21:59:09.795Z"
   },
   {
    "duration": 58,
    "start_time": "2022-04-24T21:59:16.917Z"
   },
   {
    "duration": 11,
    "start_time": "2022-04-24T21:59:24.967Z"
   },
   {
    "duration": 15,
    "start_time": "2022-04-24T21:59:26.553Z"
   },
   {
    "duration": 11,
    "start_time": "2022-04-24T22:00:08.675Z"
   },
   {
    "duration": 14,
    "start_time": "2022-04-24T22:03:24.376Z"
   },
   {
    "duration": 5,
    "start_time": "2022-04-24T22:12:59.032Z"
   },
   {
    "duration": 23,
    "start_time": "2022-04-24T23:08:21.246Z"
   },
   {
    "duration": 69,
    "start_time": "2022-04-24T23:08:51.183Z"
   },
   {
    "duration": 419,
    "start_time": "2022-04-24T23:10:47.346Z"
   },
   {
    "duration": 3,
    "start_time": "2022-04-24T23:11:03.831Z"
   },
   {
    "duration": 20,
    "start_time": "2022-04-24T23:11:09.239Z"
   },
   {
    "duration": 431,
    "start_time": "2022-04-24T23:11:17.221Z"
   },
   {
    "duration": 407,
    "start_time": "2022-04-24T23:11:36.845Z"
   },
   {
    "duration": 752,
    "start_time": "2022-04-24T23:14:45.647Z"
   },
   {
    "duration": 6,
    "start_time": "2022-04-24T23:14:46.404Z"
   },
   {
    "duration": 89,
    "start_time": "2022-04-24T23:14:46.413Z"
   },
   {
    "duration": 14,
    "start_time": "2022-04-24T23:14:46.505Z"
   },
   {
    "duration": 11,
    "start_time": "2022-04-24T23:14:46.523Z"
   },
   {
    "duration": 93,
    "start_time": "2022-04-24T23:14:46.537Z"
   },
   {
    "duration": 19,
    "start_time": "2022-04-24T23:14:46.632Z"
   },
   {
    "duration": 100,
    "start_time": "2022-04-24T23:14:46.653Z"
   },
   {
    "duration": 519,
    "start_time": "2022-04-24T23:14:55.213Z"
   },
   {
    "duration": 24,
    "start_time": "2022-04-24T23:15:28.855Z"
   },
   {
    "duration": 17,
    "start_time": "2022-04-24T23:15:32.783Z"
   },
   {
    "duration": 461,
    "start_time": "2022-04-24T23:15:35.407Z"
   },
   {
    "duration": 23,
    "start_time": "2022-04-24T23:16:49.832Z"
   },
   {
    "duration": 18,
    "start_time": "2022-04-24T23:16:52.117Z"
   },
   {
    "duration": 23,
    "start_time": "2022-04-24T23:16:56.303Z"
   },
   {
    "duration": 18,
    "start_time": "2022-04-24T23:16:57.443Z"
   },
   {
    "duration": 433,
    "start_time": "2022-04-24T23:17:01.360Z"
   },
   {
    "duration": 517,
    "start_time": "2022-04-24T23:22:37.975Z"
   },
   {
    "duration": 5,
    "start_time": "2022-04-24T23:22:38.495Z"
   },
   {
    "duration": 91,
    "start_time": "2022-04-24T23:22:38.502Z"
   },
   {
    "duration": 11,
    "start_time": "2022-04-24T23:22:38.596Z"
   },
   {
    "duration": 11,
    "start_time": "2022-04-24T23:22:38.611Z"
   },
   {
    "duration": 24,
    "start_time": "2022-04-24T23:22:38.624Z"
   },
   {
    "duration": 39,
    "start_time": "2022-04-24T23:22:38.650Z"
   },
   {
    "duration": 96,
    "start_time": "2022-04-24T23:22:38.691Z"
   },
   {
    "duration": 487,
    "start_time": "2022-04-24T23:22:52.610Z"
   },
   {
    "duration": 5,
    "start_time": "2022-04-24T23:22:53.100Z"
   },
   {
    "duration": 88,
    "start_time": "2022-04-24T23:22:53.107Z"
   },
   {
    "duration": 12,
    "start_time": "2022-04-24T23:22:53.197Z"
   },
   {
    "duration": 12,
    "start_time": "2022-04-24T23:22:53.212Z"
   },
   {
    "duration": 29,
    "start_time": "2022-04-24T23:22:53.226Z"
   },
   {
    "duration": 32,
    "start_time": "2022-04-24T23:22:53.257Z"
   },
   {
    "duration": 621,
    "start_time": "2022-04-24T23:22:59.718Z"
   },
   {
    "duration": 24,
    "start_time": "2022-04-24T23:23:02.815Z"
   },
   {
    "duration": 512,
    "start_time": "2022-04-24T23:27:09.178Z"
   },
   {
    "duration": 5,
    "start_time": "2022-04-24T23:27:09.693Z"
   },
   {
    "duration": 90,
    "start_time": "2022-04-24T23:27:09.700Z"
   },
   {
    "duration": 12,
    "start_time": "2022-04-24T23:27:09.793Z"
   },
   {
    "duration": 24,
    "start_time": "2022-04-24T23:27:09.807Z"
   },
   {
    "duration": 29,
    "start_time": "2022-04-24T23:27:09.833Z"
   },
   {
    "duration": 29,
    "start_time": "2022-04-24T23:27:09.864Z"
   },
   {
    "duration": 25,
    "start_time": "2022-04-24T23:27:22.874Z"
   },
   {
    "duration": 20,
    "start_time": "2022-04-24T23:27:24.292Z"
   },
   {
    "duration": 524,
    "start_time": "2022-04-24T23:27:44.757Z"
   },
   {
    "duration": 33,
    "start_time": "2022-04-24T23:27:49.595Z"
   },
   {
    "duration": 28,
    "start_time": "2022-04-24T23:27:51.953Z"
   },
   {
    "duration": 66,
    "start_time": "2022-04-24T23:28:34.281Z"
   },
   {
    "duration": 31,
    "start_time": "2022-04-24T23:28:43.872Z"
   },
   {
    "duration": 400,
    "start_time": "2022-04-24T23:29:48.635Z"
   },
   {
    "duration": 71,
    "start_time": "2022-04-24T23:29:51.536Z"
   },
   {
    "duration": 31,
    "start_time": "2022-04-24T23:29:52.521Z"
   },
   {
    "duration": 50,
    "start_time": "2022-04-24T23:31:52.322Z"
   },
   {
    "duration": 415,
    "start_time": "2022-04-24T23:32:27.536Z"
   },
   {
    "duration": 46,
    "start_time": "2022-04-24T23:32:44.672Z"
   },
   {
    "duration": 393,
    "start_time": "2022-04-24T23:32:45.431Z"
   },
   {
    "duration": 46,
    "start_time": "2022-04-24T23:32:55.983Z"
   },
   {
    "duration": 412,
    "start_time": "2022-04-24T23:32:56.889Z"
   },
   {
    "duration": 6,
    "start_time": "2022-04-24T23:33:38.508Z"
   },
   {
    "duration": 49,
    "start_time": "2022-04-24T23:33:42.604Z"
   },
   {
    "duration": 6,
    "start_time": "2022-04-24T23:33:44.175Z"
   },
   {
    "duration": 49,
    "start_time": "2022-04-24T23:34:07.555Z"
   },
   {
    "duration": 16,
    "start_time": "2022-04-24T23:34:08.102Z"
   },
   {
    "duration": 693,
    "start_time": "2022-04-25T09:17:54.444Z"
   },
   {
    "duration": 14,
    "start_time": "2022-04-25T09:17:55.141Z"
   },
   {
    "duration": 113,
    "start_time": "2022-04-25T09:17:55.159Z"
   },
   {
    "duration": 12,
    "start_time": "2022-04-25T09:17:55.275Z"
   },
   {
    "duration": 15,
    "start_time": "2022-04-25T09:17:55.290Z"
   },
   {
    "duration": 99,
    "start_time": "2022-04-25T09:17:55.307Z"
   },
   {
    "duration": 51,
    "start_time": "2022-04-25T09:17:55.408Z"
   },
   {
    "duration": 49,
    "start_time": "2022-04-25T09:17:55.461Z"
   },
   {
    "duration": 49,
    "start_time": "2022-04-25T09:17:55.512Z"
   },
   {
    "duration": 23,
    "start_time": "2022-04-25T09:17:55.565Z"
   },
   {
    "duration": 123,
    "start_time": "2022-04-25T09:17:55.590Z"
   },
   {
    "duration": 8,
    "start_time": "2022-04-25T09:18:31.029Z"
   },
   {
    "duration": 37,
    "start_time": "2022-04-25T09:20:07.123Z"
   },
   {
    "duration": 31,
    "start_time": "2022-04-25T09:22:06.597Z"
   },
   {
    "duration": 44,
    "start_time": "2022-04-25T09:22:27.354Z"
   },
   {
    "duration": 30,
    "start_time": "2022-04-25T09:23:18.199Z"
   },
   {
    "duration": 46,
    "start_time": "2022-04-25T09:23:39.951Z"
   },
   {
    "duration": 18,
    "start_time": "2022-04-25T09:23:59.412Z"
   },
   {
    "duration": 7,
    "start_time": "2022-04-25T09:24:08.399Z"
   },
   {
    "duration": 30,
    "start_time": "2022-04-25T09:24:17.000Z"
   },
   {
    "duration": 53,
    "start_time": "2022-04-25T09:35:45.610Z"
   },
   {
    "duration": 641,
    "start_time": "2022-04-25T09:35:51.985Z"
   },
   {
    "duration": 6,
    "start_time": "2022-04-25T09:35:52.630Z"
   },
   {
    "duration": 118,
    "start_time": "2022-04-25T09:35:52.639Z"
   },
   {
    "duration": 14,
    "start_time": "2022-04-25T09:35:52.759Z"
   },
   {
    "duration": 21,
    "start_time": "2022-04-25T09:35:52.778Z"
   },
   {
    "duration": 42,
    "start_time": "2022-04-25T09:35:52.802Z"
   },
   {
    "duration": 44,
    "start_time": "2022-04-25T09:35:52.851Z"
   },
   {
    "duration": 21,
    "start_time": "2022-04-25T09:35:52.897Z"
   },
   {
    "duration": 12,
    "start_time": "2022-04-25T09:35:52.921Z"
   },
   {
    "duration": 53,
    "start_time": "2022-04-25T09:35:52.935Z"
   },
   {
    "duration": 133,
    "start_time": "2022-04-25T09:35:52.990Z"
   },
   {
    "duration": 48,
    "start_time": "2022-04-25T09:36:35.776Z"
   },
   {
    "duration": 40,
    "start_time": "2022-04-25T09:37:08.548Z"
   },
   {
    "duration": 40,
    "start_time": "2022-04-25T09:37:16.273Z"
   },
   {
    "duration": 27,
    "start_time": "2022-04-25T09:37:19.789Z"
   },
   {
    "duration": 511,
    "start_time": "2022-04-25T09:37:26.725Z"
   },
   {
    "duration": 5,
    "start_time": "2022-04-25T09:37:27.239Z"
   },
   {
    "duration": 114,
    "start_time": "2022-04-25T09:37:27.252Z"
   },
   {
    "duration": 15,
    "start_time": "2022-04-25T09:37:27.372Z"
   },
   {
    "duration": 17,
    "start_time": "2022-04-25T09:37:27.391Z"
   },
   {
    "duration": 52,
    "start_time": "2022-04-25T09:37:27.410Z"
   },
   {
    "duration": 35,
    "start_time": "2022-04-25T09:37:27.465Z"
   },
   {
    "duration": 20,
    "start_time": "2022-04-25T09:37:27.503Z"
   },
   {
    "duration": 30,
    "start_time": "2022-04-25T09:37:27.526Z"
   },
   {
    "duration": 31,
    "start_time": "2022-04-25T09:37:27.559Z"
   },
   {
    "duration": 144,
    "start_time": "2022-04-25T09:37:27.592Z"
   },
   {
    "duration": 299,
    "start_time": "2022-04-25T09:41:05.089Z"
   },
   {
    "duration": 22,
    "start_time": "2022-04-25T09:41:13.229Z"
   },
   {
    "duration": 18,
    "start_time": "2022-04-25T09:41:24.334Z"
   },
   {
    "duration": 16,
    "start_time": "2022-04-25T09:42:22.429Z"
   },
   {
    "duration": 284,
    "start_time": "2022-04-25T09:43:46.691Z"
   },
   {
    "duration": 12,
    "start_time": "2022-04-25T09:44:00.788Z"
   },
   {
    "duration": 334,
    "start_time": "2022-04-25T09:45:30.072Z"
   },
   {
    "duration": 11,
    "start_time": "2022-04-25T09:45:45.874Z"
   },
   {
    "duration": 403,
    "start_time": "2022-04-25T21:16:20.740Z"
   },
   {
    "duration": 3,
    "start_time": "2022-04-25T21:16:21.145Z"
   },
   {
    "duration": 58,
    "start_time": "2022-04-25T21:16:21.150Z"
   },
   {
    "duration": 9,
    "start_time": "2022-04-25T21:16:21.211Z"
   },
   {
    "duration": 9,
    "start_time": "2022-04-25T21:16:21.221Z"
   },
   {
    "duration": 29,
    "start_time": "2022-04-25T21:16:21.232Z"
   },
   {
    "duration": 20,
    "start_time": "2022-04-25T21:16:21.262Z"
   },
   {
    "duration": 17,
    "start_time": "2022-04-25T21:16:21.308Z"
   },
   {
    "duration": 9,
    "start_time": "2022-04-25T21:16:21.326Z"
   },
   {
    "duration": 6,
    "start_time": "2022-04-25T21:16:21.337Z"
   },
   {
    "duration": 182,
    "start_time": "2022-04-25T21:16:21.345Z"
   },
   {
    "duration": 8,
    "start_time": "2022-04-25T21:16:21.529Z"
   },
   {
    "duration": 135,
    "start_time": "2022-04-25T21:16:21.539Z"
   },
   {
    "duration": 7,
    "start_time": "2022-04-25T21:16:21.676Z"
   },
   {
    "duration": 338,
    "start_time": "2022-04-25T21:17:57.632Z"
   },
   {
    "duration": 17,
    "start_time": "2022-04-25T21:18:07.557Z"
   },
   {
    "duration": 14,
    "start_time": "2022-04-25T21:18:08.441Z"
   },
   {
    "duration": 288,
    "start_time": "2022-04-25T21:18:20.868Z"
   },
   {
    "duration": 18,
    "start_time": "2022-04-25T21:18:28.498Z"
   },
   {
    "duration": 9,
    "start_time": "2022-04-25T21:18:29.304Z"
   },
   {
    "duration": 74,
    "start_time": "2022-04-25T21:56:14.381Z"
   },
   {
    "duration": 29,
    "start_time": "2022-04-25T21:56:25.377Z"
   },
   {
    "duration": 27,
    "start_time": "2022-04-25T21:56:52.984Z"
   },
   {
    "duration": 12,
    "start_time": "2022-04-25T22:01:34.167Z"
   },
   {
    "duration": 859,
    "start_time": "2022-04-25T22:02:39.242Z"
   },
   {
    "duration": 13,
    "start_time": "2022-04-25T22:02:47.296Z"
   },
   {
    "duration": 12,
    "start_time": "2022-04-25T22:03:39.095Z"
   },
   {
    "duration": 10,
    "start_time": "2022-04-25T22:03:49.995Z"
   },
   {
    "duration": 11,
    "start_time": "2022-04-25T22:03:57.309Z"
   },
   {
    "duration": 308,
    "start_time": "2022-04-25T22:06:59.103Z"
   },
   {
    "duration": 33,
    "start_time": "2022-04-25T22:07:02.486Z"
   },
   {
    "duration": 12,
    "start_time": "2022-04-25T22:07:03.158Z"
   },
   {
    "duration": 13,
    "start_time": "2022-04-25T22:11:51.410Z"
   },
   {
    "duration": 68,
    "start_time": "2022-04-25T22:12:00.719Z"
   },
   {
    "duration": 61,
    "start_time": "2022-04-25T22:14:18.597Z"
   },
   {
    "duration": 72,
    "start_time": "2022-04-25T22:14:25.541Z"
   },
   {
    "duration": 1071,
    "start_time": "2022-04-25T22:14:32.491Z"
   },
   {
    "duration": 66,
    "start_time": "2022-04-25T22:14:47.588Z"
   },
   {
    "duration": 11,
    "start_time": "2022-04-25T22:18:05.094Z"
   },
   {
    "duration": 11,
    "start_time": "2022-04-25T22:20:13.434Z"
   },
   {
    "duration": 12,
    "start_time": "2022-04-25T22:22:16.502Z"
   },
   {
    "duration": 27,
    "start_time": "2022-04-25T22:22:21.104Z"
   },
   {
    "duration": 12,
    "start_time": "2022-04-25T22:22:22.110Z"
   },
   {
    "duration": 12,
    "start_time": "2022-04-25T22:22:22.959Z"
   },
   {
    "duration": 11,
    "start_time": "2022-04-25T22:25:19.753Z"
   },
   {
    "duration": 2,
    "start_time": "2022-04-25T22:25:57.083Z"
   },
   {
    "duration": 442,
    "start_time": "2022-04-25T22:38:07.477Z"
   },
   {
    "duration": 705,
    "start_time": "2022-04-25T22:38:07.921Z"
   },
   {
    "duration": 5,
    "start_time": "2022-04-25T22:38:08.628Z"
   },
   {
    "duration": 71,
    "start_time": "2022-04-25T22:38:08.636Z"
   },
   {
    "duration": 12,
    "start_time": "2022-04-25T22:38:08.710Z"
   },
   {
    "duration": 9,
    "start_time": "2022-04-25T22:38:08.724Z"
   },
   {
    "duration": 30,
    "start_time": "2022-04-25T22:38:08.735Z"
   },
   {
    "duration": 12,
    "start_time": "2022-04-25T22:38:08.767Z"
   },
   {
    "duration": 27,
    "start_time": "2022-04-25T22:38:08.781Z"
   },
   {
    "duration": 78,
    "start_time": "2022-04-25T22:38:08.811Z"
   },
   {
    "duration": 12,
    "start_time": "2022-04-25T22:38:08.907Z"
   },
   {
    "duration": 19,
    "start_time": "2022-04-25T22:38:08.922Z"
   },
   {
    "duration": 10,
    "start_time": "2022-04-25T22:38:08.943Z"
   },
   {
    "duration": 8,
    "start_time": "2022-04-25T22:38:08.955Z"
   },
   {
    "duration": 208,
    "start_time": "2022-04-25T22:38:08.965Z"
   },
   {
    "duration": 8,
    "start_time": "2022-04-25T22:38:09.175Z"
   },
   {
    "duration": 141,
    "start_time": "2022-04-25T22:38:09.185Z"
   },
   {
    "duration": 8,
    "start_time": "2022-04-25T22:38:09.328Z"
   },
   {
    "duration": 13,
    "start_time": "2022-04-25T22:41:31.553Z"
   },
   {
    "duration": 276,
    "start_time": "2022-04-25T22:46:23.619Z"
   },
   {
    "duration": 177,
    "start_time": "2022-04-25T22:46:52.980Z"
   },
   {
    "duration": 180,
    "start_time": "2022-04-25T22:48:06.330Z"
   },
   {
    "duration": 158,
    "start_time": "2022-04-25T22:50:37.667Z"
   },
   {
    "duration": 182,
    "start_time": "2022-04-25T22:50:48.503Z"
   },
   {
    "duration": 99,
    "start_time": "2022-04-25T22:54:24.133Z"
   },
   {
    "duration": 14,
    "start_time": "2022-04-25T22:55:29.950Z"
   },
   {
    "duration": 201,
    "start_time": "2022-04-25T22:56:01.480Z"
   },
   {
    "duration": 198,
    "start_time": "2022-04-25T22:56:12.852Z"
   },
   {
    "duration": 201,
    "start_time": "2022-04-25T23:05:43.787Z"
   },
   {
    "duration": 245,
    "start_time": "2022-04-25T23:22:23.038Z"
   },
   {
    "duration": 317,
    "start_time": "2022-04-25T23:22:46.271Z"
   },
   {
    "duration": 210,
    "start_time": "2022-04-25T23:23:06.009Z"
   },
   {
    "duration": 226,
    "start_time": "2022-04-25T23:23:49.451Z"
   },
   {
    "duration": 253,
    "start_time": "2022-04-25T23:24:10.533Z"
   },
   {
    "duration": 276,
    "start_time": "2022-04-25T23:24:45.575Z"
   },
   {
    "duration": 285,
    "start_time": "2022-04-25T23:25:02.390Z"
   },
   {
    "duration": 292,
    "start_time": "2022-04-25T23:25:09.775Z"
   },
   {
    "duration": 7,
    "start_time": "2022-04-25T23:37:21.248Z"
   },
   {
    "duration": 4,
    "start_time": "2022-04-25T23:37:22.596Z"
   },
   {
    "duration": 7,
    "start_time": "2022-04-25T23:37:23.406Z"
   },
   {
    "duration": 201,
    "start_time": "2022-04-25T23:38:31.008Z"
   },
   {
    "duration": 267,
    "start_time": "2022-04-25T23:39:43.530Z"
   },
   {
    "duration": 257,
    "start_time": "2022-04-25T23:39:51.533Z"
   },
   {
    "duration": 211,
    "start_time": "2022-04-25T23:40:13.112Z"
   },
   {
    "duration": 187,
    "start_time": "2022-04-25T23:40:30.594Z"
   },
   {
    "duration": 203,
    "start_time": "2022-04-25T23:42:44.004Z"
   },
   {
    "duration": 3,
    "start_time": "2022-04-25T23:42:56.711Z"
   },
   {
    "duration": 194,
    "start_time": "2022-04-25T23:43:07.332Z"
   },
   {
    "duration": 671,
    "start_time": "2022-04-25T23:43:15.930Z"
   },
   {
    "duration": 480,
    "start_time": "2022-04-25T23:43:16.602Z"
   },
   {
    "duration": 4,
    "start_time": "2022-04-25T23:43:17.086Z"
   },
   {
    "duration": 56,
    "start_time": "2022-04-25T23:43:17.092Z"
   },
   {
    "duration": 10,
    "start_time": "2022-04-25T23:43:17.149Z"
   },
   {
    "duration": 9,
    "start_time": "2022-04-25T23:43:17.161Z"
   },
   {
    "duration": 29,
    "start_time": "2022-04-25T23:43:17.208Z"
   },
   {
    "duration": 13,
    "start_time": "2022-04-25T23:43:17.239Z"
   },
   {
    "duration": 2,
    "start_time": "2022-04-25T23:43:17.256Z"
   },
   {
    "duration": 91,
    "start_time": "2022-04-25T23:43:17.260Z"
   },
   {
    "duration": 12,
    "start_time": "2022-04-25T23:43:17.353Z"
   },
   {
    "duration": 17,
    "start_time": "2022-04-25T23:43:17.366Z"
   },
   {
    "duration": 10,
    "start_time": "2022-04-25T23:43:17.407Z"
   },
   {
    "duration": 6,
    "start_time": "2022-04-25T23:43:17.419Z"
   },
   {
    "duration": 197,
    "start_time": "2022-04-25T23:43:17.427Z"
   },
   {
    "duration": 9,
    "start_time": "2022-04-25T23:43:17.625Z"
   },
   {
    "duration": 141,
    "start_time": "2022-04-25T23:43:17.635Z"
   },
   {
    "duration": 9,
    "start_time": "2022-04-25T23:43:17.778Z"
   },
   {
    "duration": 30,
    "start_time": "2022-04-25T23:43:17.789Z"
   },
   {
    "duration": 299,
    "start_time": "2022-04-25T23:43:17.821Z"
   },
   {
    "duration": 214,
    "start_time": "2022-04-25T23:43:18.121Z"
   },
   {
    "duration": 290,
    "start_time": "2022-04-25T23:43:18.336Z"
   },
   {
    "duration": 4,
    "start_time": "2022-04-25T23:43:18.627Z"
   },
   {
    "duration": 9,
    "start_time": "2022-04-25T23:43:18.633Z"
   },
   {
    "duration": 314,
    "start_time": "2022-04-25T23:43:18.644Z"
   },
   {
    "duration": 192,
    "start_time": "2022-04-25T23:44:23.652Z"
   },
   {
    "duration": 201,
    "start_time": "2022-04-25T23:48:01.456Z"
   },
   {
    "duration": 176,
    "start_time": "2022-04-25T23:48:37.846Z"
   },
   {
    "duration": 186,
    "start_time": "2022-04-25T23:48:43.147Z"
   },
   {
    "duration": 187,
    "start_time": "2022-04-25T23:49:45.164Z"
   },
   {
    "duration": 281,
    "start_time": "2022-04-25T23:49:53.178Z"
   },
   {
    "duration": 1210,
    "start_time": "2022-04-26T21:39:16.485Z"
   },
   {
    "duration": 641,
    "start_time": "2022-04-26T21:39:17.698Z"
   },
   {
    "duration": 6,
    "start_time": "2022-04-26T21:39:18.341Z"
   },
   {
    "duration": 141,
    "start_time": "2022-04-26T21:39:18.352Z"
   },
   {
    "duration": 14,
    "start_time": "2022-04-26T21:39:18.496Z"
   },
   {
    "duration": 14,
    "start_time": "2022-04-26T21:39:18.512Z"
   },
   {
    "duration": 92,
    "start_time": "2022-04-26T21:39:18.529Z"
   },
   {
    "duration": 31,
    "start_time": "2022-04-26T21:39:18.624Z"
   },
   {
    "duration": 7,
    "start_time": "2022-04-26T21:39:18.658Z"
   },
   {
    "duration": 232,
    "start_time": "2022-04-26T21:39:18.671Z"
   },
   {
    "duration": 22,
    "start_time": "2022-04-26T21:39:18.906Z"
   },
   {
    "duration": 64,
    "start_time": "2022-04-26T21:39:18.931Z"
   },
   {
    "duration": 18,
    "start_time": "2022-04-26T21:39:18.998Z"
   },
   {
    "duration": 11,
    "start_time": "2022-04-26T21:39:19.019Z"
   },
   {
    "duration": 315,
    "start_time": "2022-04-26T21:39:19.033Z"
   },
   {
    "duration": 11,
    "start_time": "2022-04-26T21:39:19.351Z"
   },
   {
    "duration": 234,
    "start_time": "2022-04-26T21:39:19.364Z"
   },
   {
    "duration": 14,
    "start_time": "2022-04-26T21:39:19.600Z"
   },
   {
    "duration": 25,
    "start_time": "2022-04-26T21:39:19.617Z"
   },
   {
    "duration": 702,
    "start_time": "2022-04-26T21:39:19.645Z"
   },
   {
    "duration": 468,
    "start_time": "2022-04-26T21:39:20.350Z"
   },
   {
    "duration": 566,
    "start_time": "2022-04-26T21:39:20.822Z"
   },
   {
    "duration": 7,
    "start_time": "2022-04-26T21:39:21.390Z"
   },
   {
    "duration": 21,
    "start_time": "2022-04-26T21:39:21.400Z"
   },
   {
    "duration": 496,
    "start_time": "2022-04-26T21:39:21.424Z"
   },
   {
    "duration": 4,
    "start_time": "2022-04-26T21:42:23.373Z"
   },
   {
    "duration": 420,
    "start_time": "2022-04-26T21:48:09.239Z"
   },
   {
    "duration": 568,
    "start_time": "2022-04-26T21:48:24.171Z"
   },
   {
    "duration": 705,
    "start_time": "2022-04-26T21:48:31.427Z"
   },
   {
    "duration": 573,
    "start_time": "2022-04-26T21:48:36.436Z"
   },
   {
    "duration": 411,
    "start_time": "2022-04-26T21:49:39.741Z"
   },
   {
    "duration": 491,
    "start_time": "2022-04-26T21:49:51.540Z"
   },
   {
    "duration": 427,
    "start_time": "2022-04-26T21:52:20.028Z"
   },
   {
    "duration": 443,
    "start_time": "2022-04-26T21:52:31.261Z"
   },
   {
    "duration": 4,
    "start_time": "2022-04-26T22:17:38.723Z"
   },
   {
    "duration": 4,
    "start_time": "2022-04-26T22:20:45.069Z"
   },
   {
    "duration": 904,
    "start_time": "2022-04-26T22:20:53.281Z"
   },
   {
    "duration": 567,
    "start_time": "2022-04-26T22:20:54.188Z"
   },
   {
    "duration": 6,
    "start_time": "2022-04-26T22:20:54.758Z"
   },
   {
    "duration": 79,
    "start_time": "2022-04-26T22:20:54.767Z"
   },
   {
    "duration": 13,
    "start_time": "2022-04-26T22:20:54.848Z"
   },
   {
    "duration": 12,
    "start_time": "2022-04-26T22:20:54.894Z"
   },
   {
    "duration": 56,
    "start_time": "2022-04-26T22:20:54.908Z"
   },
   {
    "duration": 21,
    "start_time": "2022-04-26T22:20:54.966Z"
   },
   {
    "duration": 4,
    "start_time": "2022-04-26T22:20:54.993Z"
   },
   {
    "duration": 155,
    "start_time": "2022-04-26T22:20:55.000Z"
   },
   {
    "duration": 3,
    "start_time": "2022-04-26T22:20:55.158Z"
   },
   {
    "duration": 40,
    "start_time": "2022-04-26T22:20:55.164Z"
   },
   {
    "duration": 14,
    "start_time": "2022-04-26T22:20:55.206Z"
   },
   {
    "duration": 10,
    "start_time": "2022-04-26T22:20:55.223Z"
   },
   {
    "duration": 294,
    "start_time": "2022-04-26T22:20:55.235Z"
   },
   {
    "duration": 11,
    "start_time": "2022-04-26T22:20:55.531Z"
   },
   {
    "duration": 226,
    "start_time": "2022-04-26T22:20:55.544Z"
   },
   {
    "duration": 10,
    "start_time": "2022-04-26T22:20:55.772Z"
   },
   {
    "duration": 18,
    "start_time": "2022-04-26T22:20:55.792Z"
   },
   {
    "duration": 451,
    "start_time": "2022-04-26T22:20:55.813Z"
   },
   {
    "duration": 306,
    "start_time": "2022-04-26T22:20:56.267Z"
   },
   {
    "duration": 401,
    "start_time": "2022-04-26T22:20:56.575Z"
   },
   {
    "duration": 15,
    "start_time": "2022-04-26T22:20:56.979Z"
   },
   {
    "duration": 13,
    "start_time": "2022-04-26T22:20:56.998Z"
   },
   {
    "duration": 343,
    "start_time": "2022-04-26T22:20:57.014Z"
   },
   {
    "duration": 427,
    "start_time": "2022-04-26T22:20:57.359Z"
   },
   {
    "duration": 12,
    "start_time": "2022-04-26T22:30:20.589Z"
   },
   {
    "duration": 13,
    "start_time": "2022-04-26T22:31:42.723Z"
   },
   {
    "duration": 149,
    "start_time": "2022-04-26T22:36:01.808Z"
   },
   {
    "duration": 197,
    "start_time": "2022-04-26T22:36:36.520Z"
   },
   {
    "duration": 205,
    "start_time": "2022-04-26T22:36:52.481Z"
   },
   {
    "duration": 203,
    "start_time": "2022-04-26T22:37:28.423Z"
   },
   {
    "duration": 236,
    "start_time": "2022-04-26T22:37:46.162Z"
   },
   {
    "duration": 12,
    "start_time": "2022-04-26T22:41:43.699Z"
   },
   {
    "duration": 20,
    "start_time": "2022-04-26T22:44:29.238Z"
   },
   {
    "duration": 317,
    "start_time": "2022-04-26T22:45:31.457Z"
   },
   {
    "duration": 5,
    "start_time": "2022-04-26T22:46:08.401Z"
   },
   {
    "duration": 12,
    "start_time": "2022-04-26T22:46:20.639Z"
   },
   {
    "duration": 15,
    "start_time": "2022-04-26T22:47:41.915Z"
   },
   {
    "duration": 324,
    "start_time": "2022-04-26T22:48:17.078Z"
   },
   {
    "duration": 328,
    "start_time": "2022-04-26T22:48:38.405Z"
   },
   {
    "duration": 15,
    "start_time": "2022-04-26T22:50:25.126Z"
   },
   {
    "duration": 887,
    "start_time": "2022-04-26T22:58:00.217Z"
   },
   {
    "duration": 21,
    "start_time": "2022-04-26T22:59:25.754Z"
   },
   {
    "duration": 12,
    "start_time": "2022-04-26T22:59:48.978Z"
   },
   {
    "duration": 17,
    "start_time": "2022-04-26T23:01:11.351Z"
   },
   {
    "duration": 4,
    "start_time": "2022-04-26T23:01:20.657Z"
   },
   {
    "duration": 10,
    "start_time": "2022-04-26T23:02:25.694Z"
   },
   {
    "duration": 23,
    "start_time": "2022-04-26T23:02:52.196Z"
   },
   {
    "duration": 209,
    "start_time": "2022-04-26T23:05:42.470Z"
   },
   {
    "duration": 198,
    "start_time": "2022-04-26T23:05:49.573Z"
   },
   {
    "duration": 9,
    "start_time": "2022-04-26T23:08:02.697Z"
   },
   {
    "duration": 202,
    "start_time": "2022-04-26T23:10:14.685Z"
   },
   {
    "duration": 183,
    "start_time": "2022-04-26T23:10:23.899Z"
   },
   {
    "duration": 184,
    "start_time": "2022-04-26T23:11:01.106Z"
   },
   {
    "duration": 182,
    "start_time": "2022-04-26T23:11:08.172Z"
   },
   {
    "duration": 166,
    "start_time": "2022-04-26T23:11:28.752Z"
   },
   {
    "duration": 161,
    "start_time": "2022-04-26T23:16:10.810Z"
   },
   {
    "duration": 5,
    "start_time": "2022-04-26T23:21:21.252Z"
   },
   {
    "duration": 238,
    "start_time": "2022-04-26T23:30:57.389Z"
   },
   {
    "duration": 287,
    "start_time": "2022-04-26T23:34:36.816Z"
   },
   {
    "duration": 203,
    "start_time": "2022-04-26T23:35:04.501Z"
   },
   {
    "duration": 188,
    "start_time": "2022-04-26T23:35:11.167Z"
   },
   {
    "duration": 213,
    "start_time": "2022-04-26T23:35:22.421Z"
   },
   {
    "duration": 242,
    "start_time": "2022-04-26T23:35:49.560Z"
   },
   {
    "duration": 16,
    "start_time": "2022-04-26T23:37:16.395Z"
   },
   {
    "duration": 16,
    "start_time": "2022-04-26T23:37:22.631Z"
   },
   {
    "duration": 222,
    "start_time": "2022-04-26T23:37:41.464Z"
   },
   {
    "duration": 213,
    "start_time": "2022-04-26T23:38:13.271Z"
   },
   {
    "duration": 226,
    "start_time": "2022-04-26T23:38:20.691Z"
   },
   {
    "duration": 212,
    "start_time": "2022-04-26T23:38:59.088Z"
   },
   {
    "duration": 6,
    "start_time": "2022-04-26T23:42:41.578Z"
   },
   {
    "duration": 7,
    "start_time": "2022-04-26T23:42:46.617Z"
   },
   {
    "duration": 6,
    "start_time": "2022-04-26T23:43:04.200Z"
   },
   {
    "duration": 7,
    "start_time": "2022-04-26T23:44:39.413Z"
   },
   {
    "duration": 6,
    "start_time": "2022-04-26T23:45:19.247Z"
   },
   {
    "duration": 3,
    "start_time": "2022-04-27T22:25:54.409Z"
   },
   {
    "duration": 31,
    "start_time": "2022-04-27T22:56:42.219Z"
   },
   {
    "duration": 1051,
    "start_time": "2022-04-27T22:56:50.429Z"
   },
   {
    "duration": 3,
    "start_time": "2022-04-27T22:56:51.482Z"
   },
   {
    "duration": 60,
    "start_time": "2022-04-27T22:56:51.487Z"
   },
   {
    "duration": 8,
    "start_time": "2022-04-27T22:56:51.550Z"
   },
   {
    "duration": 9,
    "start_time": "2022-04-27T22:56:51.559Z"
   },
   {
    "duration": 29,
    "start_time": "2022-04-27T22:56:51.570Z"
   },
   {
    "duration": 51,
    "start_time": "2022-04-27T22:56:51.601Z"
   },
   {
    "duration": 11,
    "start_time": "2022-04-27T22:56:51.654Z"
   },
   {
    "duration": 4,
    "start_time": "2022-04-27T22:56:51.667Z"
   },
   {
    "duration": 88,
    "start_time": "2022-04-27T22:56:51.675Z"
   },
   {
    "duration": 2,
    "start_time": "2022-04-27T22:56:51.765Z"
   },
   {
    "duration": 19,
    "start_time": "2022-04-27T22:56:51.769Z"
   },
   {
    "duration": 8,
    "start_time": "2022-04-27T22:56:51.790Z"
   },
   {
    "duration": 5,
    "start_time": "2022-04-27T22:56:51.800Z"
   },
   {
    "duration": 181,
    "start_time": "2022-04-27T22:56:51.807Z"
   },
   {
    "duration": 7,
    "start_time": "2022-04-27T22:56:51.990Z"
   },
   {
    "duration": 133,
    "start_time": "2022-04-27T22:56:51.999Z"
   },
   {
    "duration": 17,
    "start_time": "2022-04-27T22:56:52.133Z"
   },
   {
    "duration": 16,
    "start_time": "2022-04-27T22:56:52.152Z"
   },
   {
    "duration": 257,
    "start_time": "2022-04-27T22:56:52.169Z"
   },
   {
    "duration": 177,
    "start_time": "2022-04-27T22:56:52.428Z"
   },
   {
    "duration": 323,
    "start_time": "2022-04-27T22:56:52.606Z"
   },
   {
    "duration": 3,
    "start_time": "2022-04-27T22:56:52.931Z"
   },
   {
    "duration": 13,
    "start_time": "2022-04-27T22:56:52.935Z"
   },
   {
    "duration": 184,
    "start_time": "2022-04-27T22:56:52.949Z"
   },
   {
    "duration": 318,
    "start_time": "2022-04-27T22:56:53.135Z"
   },
   {
    "duration": 2,
    "start_time": "2022-04-27T22:56:53.455Z"
   },
   {
    "duration": 7,
    "start_time": "2022-04-27T22:56:53.460Z"
   },
   {
    "duration": 125,
    "start_time": "2022-04-27T22:56:53.468Z"
   },
   {
    "duration": 115,
    "start_time": "2022-04-27T22:56:53.595Z"
   },
   {
    "duration": 4,
    "start_time": "2022-04-27T22:56:53.711Z"
   },
   {
    "duration": 139,
    "start_time": "2022-04-27T22:56:53.717Z"
   },
   {
    "duration": 7,
    "start_time": "2022-04-27T22:56:53.857Z"
   },
   {
    "duration": 198,
    "start_time": "2022-04-27T22:56:53.865Z"
   },
   {
    "duration": 4,
    "start_time": "2022-04-27T22:56:54.065Z"
   },
   {
    "duration": 13,
    "start_time": "2022-04-27T22:56:54.070Z"
   },
   {
    "duration": 117,
    "start_time": "2022-04-27T22:56:54.084Z"
   },
   {
    "duration": 8,
    "start_time": "2022-04-27T23:13:32.879Z"
   },
   {
    "duration": 12,
    "start_time": "2022-04-27T23:19:55.089Z"
   },
   {
    "duration": 84,
    "start_time": "2022-04-27T23:20:36.060Z"
   },
   {
    "duration": 91,
    "start_time": "2022-04-27T23:20:49.988Z"
   },
   {
    "duration": 87,
    "start_time": "2022-04-27T23:21:02.837Z"
   },
   {
    "duration": 83,
    "start_time": "2022-04-27T23:21:08.754Z"
   },
   {
    "duration": 109,
    "start_time": "2022-04-27T23:21:59.386Z"
   },
   {
    "duration": 117,
    "start_time": "2022-04-27T23:22:05.653Z"
   },
   {
    "duration": 119,
    "start_time": "2022-04-27T23:22:11.650Z"
   },
   {
    "duration": 114,
    "start_time": "2022-04-27T23:22:20.475Z"
   },
   {
    "duration": 107,
    "start_time": "2022-04-27T23:22:24.811Z"
   },
   {
    "duration": 92,
    "start_time": "2022-04-27T23:23:59.035Z"
   },
   {
    "duration": 104,
    "start_time": "2022-04-27T23:24:22.268Z"
   },
   {
    "duration": 117,
    "start_time": "2022-04-27T23:25:27.337Z"
   },
   {
    "duration": 27,
    "start_time": "2022-04-27T23:25:36.726Z"
   },
   {
    "duration": 20,
    "start_time": "2022-04-27T23:30:45.685Z"
   },
   {
    "duration": 1709,
    "start_time": "2022-04-28T21:22:03.134Z"
   },
   {
    "duration": 6,
    "start_time": "2022-04-28T21:22:04.847Z"
   },
   {
    "duration": 115,
    "start_time": "2022-04-28T21:22:04.855Z"
   },
   {
    "duration": 22,
    "start_time": "2022-04-28T21:22:04.973Z"
   },
   {
    "duration": 12,
    "start_time": "2022-04-28T21:22:04.997Z"
   },
   {
    "duration": 92,
    "start_time": "2022-04-28T21:22:05.012Z"
   },
   {
    "duration": 21,
    "start_time": "2022-04-28T21:22:05.107Z"
   },
   {
    "duration": 26,
    "start_time": "2022-04-28T21:22:05.131Z"
   },
   {
    "duration": 34,
    "start_time": "2022-04-28T21:22:05.159Z"
   },
   {
    "duration": 141,
    "start_time": "2022-04-28T21:22:05.199Z"
   },
   {
    "duration": 4,
    "start_time": "2022-04-28T21:22:05.343Z"
   },
   {
    "duration": 66,
    "start_time": "2022-04-28T21:22:05.350Z"
   },
   {
    "duration": 16,
    "start_time": "2022-04-28T21:22:05.419Z"
   },
   {
    "duration": 16,
    "start_time": "2022-04-28T21:22:05.437Z"
   },
   {
    "duration": 276,
    "start_time": "2022-04-28T21:22:05.455Z"
   },
   {
    "duration": 11,
    "start_time": "2022-04-28T21:22:05.733Z"
   },
   {
    "duration": 229,
    "start_time": "2022-04-28T21:22:05.748Z"
   },
   {
    "duration": 19,
    "start_time": "2022-04-28T21:22:05.979Z"
   },
   {
    "duration": 25,
    "start_time": "2022-04-28T21:22:06.000Z"
   },
   {
    "duration": 551,
    "start_time": "2022-04-28T21:22:06.027Z"
   },
   {
    "duration": 360,
    "start_time": "2022-04-28T21:22:06.581Z"
   },
   {
    "duration": 505,
    "start_time": "2022-04-28T21:22:06.944Z"
   },
   {
    "duration": 6,
    "start_time": "2022-04-28T21:22:07.452Z"
   },
   {
    "duration": 39,
    "start_time": "2022-04-28T21:22:07.461Z"
   },
   {
    "duration": 429,
    "start_time": "2022-04-28T21:22:07.503Z"
   },
   {
    "duration": 482,
    "start_time": "2022-04-28T21:22:07.935Z"
   },
   {
    "duration": 4,
    "start_time": "2022-04-28T21:22:08.419Z"
   },
   {
    "duration": 13,
    "start_time": "2022-04-28T21:22:08.430Z"
   },
   {
    "duration": 262,
    "start_time": "2022-04-28T21:22:08.445Z"
   },
   {
    "duration": 206,
    "start_time": "2022-04-28T21:22:08.710Z"
   },
   {
    "duration": 5,
    "start_time": "2022-04-28T21:22:08.919Z"
   },
   {
    "duration": 257,
    "start_time": "2022-04-28T21:22:08.926Z"
   },
   {
    "duration": 16,
    "start_time": "2022-04-28T21:22:09.193Z"
   },
   {
    "duration": 301,
    "start_time": "2022-04-28T21:22:09.211Z"
   },
   {
    "duration": 6,
    "start_time": "2022-04-28T21:22:09.514Z"
   },
   {
    "duration": 172,
    "start_time": "2022-04-28T21:22:09.523Z"
   },
   {
    "duration": 190,
    "start_time": "2022-04-28T21:22:09.697Z"
   },
   {
    "duration": 33,
    "start_time": "2022-04-28T21:22:09.889Z"
   },
   {
    "duration": 62,
    "start_time": "2022-04-28T21:38:29.581Z"
   },
   {
    "duration": 33,
    "start_time": "2022-04-28T21:41:12.133Z"
   },
   {
    "duration": 141,
    "start_time": "2022-04-28T21:41:27.874Z"
   },
   {
    "duration": 12,
    "start_time": "2022-04-28T21:41:32.901Z"
   },
   {
    "duration": 242,
    "start_time": "2022-04-28T21:44:37.313Z"
   },
   {
    "duration": 294,
    "start_time": "2022-04-28T22:17:46.327Z"
   },
   {
    "duration": 235,
    "start_time": "2022-04-28T22:18:01.777Z"
   },
   {
    "duration": 217,
    "start_time": "2022-04-28T22:18:14.639Z"
   },
   {
    "duration": 26,
    "start_time": "2022-04-28T22:18:31.806Z"
   },
   {
    "duration": 25,
    "start_time": "2022-04-28T22:18:36.159Z"
   },
   {
    "duration": 25,
    "start_time": "2022-04-28T22:20:08.915Z"
   },
   {
    "duration": 18,
    "start_time": "2022-04-28T22:20:16.832Z"
   },
   {
    "duration": 16,
    "start_time": "2022-04-28T22:24:55.391Z"
   },
   {
    "duration": 18,
    "start_time": "2022-04-28T22:25:35.010Z"
   },
   {
    "duration": 205,
    "start_time": "2022-04-28T22:27:50.601Z"
   },
   {
    "duration": 274,
    "start_time": "2022-04-28T22:28:08.907Z"
   },
   {
    "duration": 234,
    "start_time": "2022-04-28T22:28:32.352Z"
   },
   {
    "duration": 13,
    "start_time": "2022-04-28T22:29:14.233Z"
   },
   {
    "duration": 7,
    "start_time": "2022-04-28T22:29:27.040Z"
   },
   {
    "duration": 6,
    "start_time": "2022-04-28T22:29:29.031Z"
   },
   {
    "duration": 9,
    "start_time": "2022-04-28T22:30:41.579Z"
   },
   {
    "duration": 14,
    "start_time": "2022-04-28T22:30:43.905Z"
   },
   {
    "duration": 16,
    "start_time": "2022-04-28T22:30:46.769Z"
   },
   {
    "duration": 58,
    "start_time": "2022-04-28T22:30:53.482Z"
   },
   {
    "duration": 23,
    "start_time": "2022-04-28T22:32:21.539Z"
   },
   {
    "duration": 18,
    "start_time": "2022-04-28T22:32:22.322Z"
   },
   {
    "duration": 10,
    "start_time": "2022-04-28T22:32:23.715Z"
   },
   {
    "duration": 21,
    "start_time": "2022-04-28T22:34:50.535Z"
   },
   {
    "duration": 21,
    "start_time": "2022-04-28T22:34:56.070Z"
   },
   {
    "duration": 11,
    "start_time": "2022-04-28T22:34:58.353Z"
   },
   {
    "duration": 17,
    "start_time": "2022-04-28T22:36:15.185Z"
   },
   {
    "duration": 10,
    "start_time": "2022-04-28T23:04:13.914Z"
   },
   {
    "duration": 5,
    "start_time": "2022-04-28T23:04:57.560Z"
   },
   {
    "duration": 8,
    "start_time": "2022-04-28T23:05:03.422Z"
   },
   {
    "duration": 8,
    "start_time": "2022-04-28T23:05:09.076Z"
   },
   {
    "duration": 12,
    "start_time": "2022-04-28T23:09:15.452Z"
   },
   {
    "duration": 30,
    "start_time": "2022-04-28T23:09:31.423Z"
   },
   {
    "duration": 29,
    "start_time": "2022-04-28T23:10:10.378Z"
   },
   {
    "duration": 50,
    "start_time": "2022-04-28T23:10:15.808Z"
   },
   {
    "duration": 207,
    "start_time": "2022-04-28T23:13:23.857Z"
   },
   {
    "duration": 31,
    "start_time": "2022-04-28T23:13:34.895Z"
   },
   {
    "duration": 34,
    "start_time": "2022-04-28T23:17:21.540Z"
   },
   {
    "duration": 32,
    "start_time": "2022-04-28T23:17:33.185Z"
   },
   {
    "duration": 16,
    "start_time": "2022-04-28T23:22:58.977Z"
   },
   {
    "duration": 9,
    "start_time": "2022-04-28T23:22:59.797Z"
   },
   {
    "duration": 34,
    "start_time": "2022-04-28T23:23:00.591Z"
   },
   {
    "duration": 33,
    "start_time": "2022-04-28T23:26:19.931Z"
   },
   {
    "duration": 25,
    "start_time": "2022-04-28T23:29:52.893Z"
   },
   {
    "duration": 4,
    "start_time": "2022-04-28T23:48:26.321Z"
   },
   {
    "duration": 1512,
    "start_time": "2022-04-28T23:55:57.317Z"
   },
   {
    "duration": 5,
    "start_time": "2022-04-28T23:55:58.831Z"
   },
   {
    "duration": 86,
    "start_time": "2022-04-28T23:55:58.838Z"
   },
   {
    "duration": 12,
    "start_time": "2022-04-28T23:55:58.926Z"
   },
   {
    "duration": 53,
    "start_time": "2022-04-28T23:55:58.941Z"
   },
   {
    "duration": 54,
    "start_time": "2022-04-28T23:55:58.997Z"
   },
   {
    "duration": 20,
    "start_time": "2022-04-28T23:55:59.053Z"
   },
   {
    "duration": 19,
    "start_time": "2022-04-28T23:55:59.076Z"
   },
   {
    "duration": 6,
    "start_time": "2022-04-28T23:55:59.098Z"
   },
   {
    "duration": 152,
    "start_time": "2022-04-28T23:55:59.108Z"
   },
   {
    "duration": 3,
    "start_time": "2022-04-28T23:55:59.262Z"
   },
   {
    "duration": 36,
    "start_time": "2022-04-28T23:55:59.267Z"
   },
   {
    "duration": 14,
    "start_time": "2022-04-28T23:55:59.305Z"
   },
   {
    "duration": 9,
    "start_time": "2022-04-28T23:55:59.322Z"
   },
   {
    "duration": 305,
    "start_time": "2022-04-28T23:55:59.334Z"
   },
   {
    "duration": 13,
    "start_time": "2022-04-28T23:55:59.642Z"
   },
   {
    "duration": 217,
    "start_time": "2022-04-28T23:55:59.657Z"
   },
   {
    "duration": 21,
    "start_time": "2022-04-28T23:55:59.876Z"
   },
   {
    "duration": 23,
    "start_time": "2022-04-28T23:55:59.900Z"
   },
   {
    "duration": 450,
    "start_time": "2022-04-28T23:55:59.925Z"
   },
   {
    "duration": 313,
    "start_time": "2022-04-28T23:56:00.377Z"
   },
   {
    "duration": 399,
    "start_time": "2022-04-28T23:56:00.694Z"
   },
   {
    "duration": 6,
    "start_time": "2022-04-28T23:56:01.095Z"
   },
   {
    "duration": 25,
    "start_time": "2022-04-28T23:56:01.103Z"
   },
   {
    "duration": 331,
    "start_time": "2022-04-28T23:56:01.130Z"
   },
   {
    "duration": 453,
    "start_time": "2022-04-28T23:56:01.463Z"
   },
   {
    "duration": 3,
    "start_time": "2022-04-28T23:56:01.918Z"
   },
   {
    "duration": 9,
    "start_time": "2022-04-28T23:56:01.926Z"
   },
   {
    "duration": 228,
    "start_time": "2022-04-28T23:56:01.937Z"
   },
   {
    "duration": 200,
    "start_time": "2022-04-28T23:56:02.167Z"
   },
   {
    "duration": 5,
    "start_time": "2022-04-28T23:56:02.369Z"
   },
   {
    "duration": 246,
    "start_time": "2022-04-28T23:56:02.392Z"
   },
   {
    "duration": 11,
    "start_time": "2022-04-28T23:56:02.641Z"
   },
   {
    "duration": 302,
    "start_time": "2022-04-28T23:56:02.654Z"
   },
   {
    "duration": 5,
    "start_time": "2022-04-28T23:56:02.958Z"
   },
   {
    "duration": 166,
    "start_time": "2022-04-28T23:56:02.966Z"
   },
   {
    "duration": 185,
    "start_time": "2022-04-28T23:56:03.135Z"
   },
   {
    "duration": 32,
    "start_time": "2022-04-28T23:56:03.323Z"
   },
   {
    "duration": 44,
    "start_time": "2022-04-28T23:56:03.357Z"
   },
   {
    "duration": 18,
    "start_time": "2022-04-28T23:56:03.403Z"
   },
   {
    "duration": 17,
    "start_time": "2022-04-28T23:56:03.424Z"
   },
   {
    "duration": 73,
    "start_time": "2022-04-28T23:56:03.444Z"
   },
   {
    "duration": 23,
    "start_time": "2022-04-28T23:56:03.520Z"
   },
   {
    "duration": 4,
    "start_time": "2022-04-28T23:56:03.545Z"
   },
   {
    "duration": 149,
    "start_time": "2022-04-28T23:59:04.757Z"
   },
   {
    "duration": 2289,
    "start_time": "2022-04-30T17:50:20.071Z"
   },
   {
    "duration": 7,
    "start_time": "2022-04-30T17:50:22.363Z"
   },
   {
    "duration": 78,
    "start_time": "2022-04-30T17:50:22.372Z"
   },
   {
    "duration": 43,
    "start_time": "2022-04-30T17:50:22.453Z"
   },
   {
    "duration": 11,
    "start_time": "2022-04-30T17:50:22.499Z"
   },
   {
    "duration": 55,
    "start_time": "2022-04-30T17:50:22.513Z"
   },
   {
    "duration": 18,
    "start_time": "2022-04-30T17:50:22.571Z"
   },
   {
    "duration": 13,
    "start_time": "2022-04-30T17:50:22.592Z"
   },
   {
    "duration": 6,
    "start_time": "2022-04-30T17:50:22.607Z"
   },
   {
    "duration": 147,
    "start_time": "2022-04-30T17:50:22.617Z"
   },
   {
    "duration": 4,
    "start_time": "2022-04-30T17:50:22.766Z"
   },
   {
    "duration": 34,
    "start_time": "2022-04-30T17:50:22.772Z"
   },
   {
    "duration": 12,
    "start_time": "2022-04-30T17:50:22.808Z"
   },
   {
    "duration": 8,
    "start_time": "2022-04-30T17:50:22.823Z"
   },
   {
    "duration": 318,
    "start_time": "2022-04-30T17:50:22.834Z"
   },
   {
    "duration": 13,
    "start_time": "2022-04-30T17:50:23.154Z"
   },
   {
    "duration": 236,
    "start_time": "2022-04-30T17:50:23.169Z"
   },
   {
    "duration": 17,
    "start_time": "2022-04-30T17:50:23.407Z"
   },
   {
    "duration": 26,
    "start_time": "2022-04-30T17:50:23.427Z"
   },
   {
    "duration": 632,
    "start_time": "2022-04-30T17:50:23.455Z"
   },
   {
    "duration": 326,
    "start_time": "2022-04-30T17:50:24.094Z"
   },
   {
    "duration": 484,
    "start_time": "2022-04-30T17:50:24.422Z"
   },
   {
    "duration": 6,
    "start_time": "2022-04-30T17:50:24.908Z"
   },
   {
    "duration": 15,
    "start_time": "2022-04-30T17:50:24.916Z"
   },
   {
    "duration": 369,
    "start_time": "2022-04-30T17:50:24.933Z"
   },
   {
    "duration": 408,
    "start_time": "2022-04-30T17:50:25.304Z"
   },
   {
    "duration": 4,
    "start_time": "2022-04-30T17:50:25.714Z"
   },
   {
    "duration": 14,
    "start_time": "2022-04-30T17:50:25.723Z"
   },
   {
    "duration": 224,
    "start_time": "2022-04-30T17:50:25.739Z"
   },
   {
    "duration": 207,
    "start_time": "2022-04-30T17:50:25.965Z"
   },
   {
    "duration": 6,
    "start_time": "2022-04-30T17:50:26.174Z"
   },
   {
    "duration": 385,
    "start_time": "2022-04-30T17:50:26.182Z"
   },
   {
    "duration": 26,
    "start_time": "2022-04-30T17:50:26.571Z"
   },
   {
    "duration": 421,
    "start_time": "2022-04-30T17:50:26.600Z"
   },
   {
    "duration": 6,
    "start_time": "2022-04-30T17:50:27.023Z"
   },
   {
    "duration": 175,
    "start_time": "2022-04-30T17:50:27.031Z"
   },
   {
    "duration": 186,
    "start_time": "2022-04-30T17:50:27.209Z"
   },
   {
    "duration": 35,
    "start_time": "2022-04-30T17:50:27.397Z"
   },
   {
    "duration": 24,
    "start_time": "2022-04-30T17:50:27.435Z"
   },
   {
    "duration": 44,
    "start_time": "2022-04-30T17:50:27.461Z"
   },
   {
    "duration": 9,
    "start_time": "2022-04-30T17:50:27.508Z"
   },
   {
    "duration": 39,
    "start_time": "2022-04-30T17:50:27.519Z"
   },
   {
    "duration": 50,
    "start_time": "2022-04-30T17:50:27.561Z"
   },
   {
    "duration": 158,
    "start_time": "2022-04-30T17:50:27.613Z"
   },
   {
    "duration": 3,
    "start_time": "2022-04-30T17:55:01.915Z"
   },
   {
    "duration": 4,
    "start_time": "2022-04-30T17:55:02.663Z"
   },
   {
    "duration": 4,
    "start_time": "2022-04-30T17:55:03.284Z"
   },
   {
    "duration": 24,
    "start_time": "2022-04-30T17:58:12.059Z"
   },
   {
    "duration": 23,
    "start_time": "2022-04-30T18:15:18.241Z"
   },
   {
    "duration": 9,
    "start_time": "2022-04-30T18:15:22.812Z"
   },
   {
    "duration": 32,
    "start_time": "2022-04-30T18:20:14.281Z"
   },
   {
    "duration": 24,
    "start_time": "2022-04-30T18:21:24.979Z"
   },
   {
    "duration": 49,
    "start_time": "2022-04-30T18:21:31.129Z"
   },
   {
    "duration": 22,
    "start_time": "2022-04-30T18:21:42.578Z"
   },
   {
    "duration": 9,
    "start_time": "2022-04-30T18:45:44.393Z"
   },
   {
    "duration": 11,
    "start_time": "2022-04-30T18:45:52.930Z"
   },
   {
    "duration": 12,
    "start_time": "2022-04-30T18:45:57.729Z"
   },
   {
    "duration": 208,
    "start_time": "2022-04-30T18:56:55.308Z"
   },
   {
    "duration": 208,
    "start_time": "2022-04-30T18:57:16.982Z"
   },
   {
    "duration": 245,
    "start_time": "2022-04-30T19:02:01.432Z"
   },
   {
    "duration": 202,
    "start_time": "2022-04-30T19:02:33.895Z"
   },
   {
    "duration": 7,
    "start_time": "2022-04-30T19:03:08.846Z"
   },
   {
    "duration": 7,
    "start_time": "2022-04-30T19:03:15.875Z"
   },
   {
    "duration": 13,
    "start_time": "2022-04-30T19:03:39.162Z"
   },
   {
    "duration": 8,
    "start_time": "2022-04-30T19:03:48.674Z"
   },
   {
    "duration": 27,
    "start_time": "2022-04-30T19:05:06.292Z"
   },
   {
    "duration": 25,
    "start_time": "2022-04-30T19:05:34.370Z"
   },
   {
    "duration": 31,
    "start_time": "2022-04-30T19:05:45.628Z"
   },
   {
    "duration": 19,
    "start_time": "2022-04-30T19:06:18.275Z"
   },
   {
    "duration": 29,
    "start_time": "2022-04-30T19:06:28.011Z"
   },
   {
    "duration": 29,
    "start_time": "2022-04-30T19:06:43.288Z"
   },
   {
    "duration": 28,
    "start_time": "2022-04-30T19:07:01.624Z"
   },
   {
    "duration": 38,
    "start_time": "2022-04-30T19:07:12.937Z"
   },
   {
    "duration": 42,
    "start_time": "2022-04-30T19:07:29.672Z"
   },
   {
    "duration": 24,
    "start_time": "2022-04-30T19:07:43.250Z"
   },
   {
    "duration": 23,
    "start_time": "2022-04-30T19:08:43.525Z"
   },
   {
    "duration": 13,
    "start_time": "2022-04-30T19:09:11.548Z"
   },
   {
    "duration": 8,
    "start_time": "2022-04-30T19:09:33.315Z"
   },
   {
    "duration": 9,
    "start_time": "2022-04-30T19:09:46.828Z"
   },
   {
    "duration": 22,
    "start_time": "2022-04-30T19:10:51.404Z"
   },
   {
    "duration": 13,
    "start_time": "2022-04-30T19:11:17.894Z"
   },
   {
    "duration": 23,
    "start_time": "2022-04-30T19:15:49.426Z"
   },
   {
    "duration": 51,
    "start_time": "2022-04-30T19:25:08.597Z"
   },
   {
    "duration": 17,
    "start_time": "2022-04-30T19:26:19.582Z"
   },
   {
    "duration": 39,
    "start_time": "2022-04-30T19:26:20.295Z"
   },
   {
    "duration": 3,
    "start_time": "2022-04-30T19:44:22.639Z"
   },
   {
    "duration": 9,
    "start_time": "2022-04-30T19:46:45.175Z"
   },
   {
    "duration": 9,
    "start_time": "2022-04-30T19:47:18.996Z"
   },
   {
    "duration": 14,
    "start_time": "2022-04-30T19:51:42.663Z"
   },
   {
    "duration": 14,
    "start_time": "2022-04-30T19:53:46.710Z"
   },
   {
    "duration": 23,
    "start_time": "2022-04-30T19:53:51.744Z"
   },
   {
    "duration": 12,
    "start_time": "2022-04-30T20:14:10.079Z"
   },
   {
    "duration": 15,
    "start_time": "2022-04-30T20:14:22.801Z"
   },
   {
    "duration": 23,
    "start_time": "2022-04-30T20:14:25.693Z"
   },
   {
    "duration": 32,
    "start_time": "2022-04-30T20:14:27.811Z"
   },
   {
    "duration": 11,
    "start_time": "2022-04-30T20:16:30.758Z"
   },
   {
    "duration": 11,
    "start_time": "2022-04-30T20:16:37.952Z"
   },
   {
    "duration": 23,
    "start_time": "2022-04-30T20:16:39.984Z"
   },
   {
    "duration": 11,
    "start_time": "2022-04-30T20:16:45.663Z"
   },
   {
    "duration": 23,
    "start_time": "2022-04-30T20:16:51.825Z"
   },
   {
    "duration": 47,
    "start_time": "2022-04-30T20:16:54.082Z"
   },
   {
    "duration": 21,
    "start_time": "2022-04-30T20:18:08.309Z"
   },
   {
    "duration": 11,
    "start_time": "2022-04-30T20:18:46.046Z"
   },
   {
    "duration": 22,
    "start_time": "2022-04-30T20:19:45.542Z"
   },
   {
    "duration": 8,
    "start_time": "2022-04-30T20:19:47.705Z"
   },
   {
    "duration": 22,
    "start_time": "2022-04-30T20:19:48.253Z"
   },
   {
    "duration": 10,
    "start_time": "2022-04-30T20:25:16.267Z"
   },
   {
    "duration": 21,
    "start_time": "2022-04-30T20:25:17.133Z"
   },
   {
    "duration": 21,
    "start_time": "2022-04-30T20:35:00.547Z"
   },
   {
    "duration": 3,
    "start_time": "2022-04-30T20:40:26.121Z"
   },
   {
    "duration": 217,
    "start_time": "2022-04-30T20:51:52.080Z"
   },
   {
    "duration": 1465,
    "start_time": "2022-04-30T22:02:18.251Z"
   },
   {
    "duration": 5,
    "start_time": "2022-04-30T22:02:19.718Z"
   },
   {
    "duration": 81,
    "start_time": "2022-04-30T22:02:19.725Z"
   },
   {
    "duration": 15,
    "start_time": "2022-04-30T22:02:19.808Z"
   },
   {
    "duration": 12,
    "start_time": "2022-04-30T22:02:19.825Z"
   },
   {
    "duration": 63,
    "start_time": "2022-04-30T22:02:19.839Z"
   },
   {
    "duration": 21,
    "start_time": "2022-04-30T22:02:19.905Z"
   },
   {
    "duration": 15,
    "start_time": "2022-04-30T22:02:19.928Z"
   },
   {
    "duration": 6,
    "start_time": "2022-04-30T22:02:19.945Z"
   },
   {
    "duration": 172,
    "start_time": "2022-04-30T22:02:19.955Z"
   },
   {
    "duration": 3,
    "start_time": "2022-04-30T22:02:20.130Z"
   },
   {
    "duration": 41,
    "start_time": "2022-04-30T22:02:20.136Z"
   },
   {
    "duration": 22,
    "start_time": "2022-04-30T22:02:20.180Z"
   },
   {
    "duration": 9,
    "start_time": "2022-04-30T22:02:20.204Z"
   },
   {
    "duration": 292,
    "start_time": "2022-04-30T22:02:20.215Z"
   },
   {
    "duration": 11,
    "start_time": "2022-04-30T22:02:20.510Z"
   },
   {
    "duration": 227,
    "start_time": "2022-04-30T22:02:20.523Z"
   },
   {
    "duration": 11,
    "start_time": "2022-04-30T22:02:20.752Z"
   },
   {
    "duration": 37,
    "start_time": "2022-04-30T22:02:20.765Z"
   },
   {
    "duration": 451,
    "start_time": "2022-04-30T22:02:20.804Z"
   },
   {
    "duration": 308,
    "start_time": "2022-04-30T22:02:21.257Z"
   },
   {
    "duration": 403,
    "start_time": "2022-04-30T22:02:21.567Z"
   },
   {
    "duration": 6,
    "start_time": "2022-04-30T22:02:21.972Z"
   },
   {
    "duration": 20,
    "start_time": "2022-04-30T22:02:21.980Z"
   },
   {
    "duration": 320,
    "start_time": "2022-04-30T22:02:22.002Z"
   },
   {
    "duration": 413,
    "start_time": "2022-04-30T22:02:22.324Z"
   },
   {
    "duration": 4,
    "start_time": "2022-04-30T22:02:22.740Z"
   },
   {
    "duration": 41,
    "start_time": "2022-04-30T22:02:22.752Z"
   },
   {
    "duration": 215,
    "start_time": "2022-04-30T22:02:22.795Z"
   },
   {
    "duration": 208,
    "start_time": "2022-04-30T22:02:23.013Z"
   },
   {
    "duration": 5,
    "start_time": "2022-04-30T22:02:23.224Z"
   },
   {
    "duration": 251,
    "start_time": "2022-04-30T22:02:23.231Z"
   },
   {
    "duration": 14,
    "start_time": "2022-04-30T22:02:23.485Z"
   },
   {
    "duration": 308,
    "start_time": "2022-04-30T22:02:23.501Z"
   },
   {
    "duration": 6,
    "start_time": "2022-04-30T22:02:23.811Z"
   },
   {
    "duration": 12,
    "start_time": "2022-04-30T22:02:23.819Z"
   },
   {
    "duration": 14,
    "start_time": "2022-04-30T22:02:23.833Z"
   },
   {
    "duration": 9,
    "start_time": "2022-04-30T22:02:23.850Z"
   },
   {
    "duration": 44,
    "start_time": "2022-04-30T22:02:23.862Z"
   },
   {
    "duration": 26,
    "start_time": "2022-04-30T22:02:23.909Z"
   },
   {
    "duration": 10,
    "start_time": "2022-04-30T22:02:23.938Z"
   },
   {
    "duration": 75,
    "start_time": "2022-04-30T22:02:23.950Z"
   },
   {
    "duration": 25,
    "start_time": "2022-04-30T22:02:24.028Z"
   },
   {
    "duration": 51,
    "start_time": "2022-04-30T22:02:24.055Z"
   },
   {
    "duration": 27,
    "start_time": "2022-04-30T22:02:24.109Z"
   },
   {
    "duration": 71,
    "start_time": "2022-04-30T22:02:24.138Z"
   },
   {
    "duration": 11,
    "start_time": "2022-04-30T22:02:24.212Z"
   },
   {
    "duration": 26,
    "start_time": "2022-04-30T22:02:24.225Z"
   },
   {
    "duration": 1413,
    "start_time": "2022-04-30T22:51:58.942Z"
   },
   {
    "duration": 5,
    "start_time": "2022-04-30T22:52:00.358Z"
   },
   {
    "duration": 96,
    "start_time": "2022-04-30T22:52:00.365Z"
   },
   {
    "duration": 37,
    "start_time": "2022-04-30T22:52:00.465Z"
   },
   {
    "duration": 26,
    "start_time": "2022-04-30T22:52:00.504Z"
   },
   {
    "duration": 69,
    "start_time": "2022-04-30T22:52:00.532Z"
   },
   {
    "duration": 25,
    "start_time": "2022-04-30T22:52:00.603Z"
   },
   {
    "duration": 34,
    "start_time": "2022-04-30T22:52:00.630Z"
   },
   {
    "duration": 11,
    "start_time": "2022-04-30T22:52:00.666Z"
   },
   {
    "duration": 144,
    "start_time": "2022-04-30T22:52:00.681Z"
   },
   {
    "duration": 3,
    "start_time": "2022-04-30T22:52:00.828Z"
   },
   {
    "duration": 51,
    "start_time": "2022-04-30T22:52:00.834Z"
   },
   {
    "duration": 13,
    "start_time": "2022-04-30T22:52:00.887Z"
   },
   {
    "duration": 15,
    "start_time": "2022-04-30T22:52:00.902Z"
   },
   {
    "duration": 281,
    "start_time": "2022-04-30T22:52:00.920Z"
   },
   {
    "duration": 11,
    "start_time": "2022-04-30T22:52:01.203Z"
   },
   {
    "duration": 236,
    "start_time": "2022-04-30T22:52:01.216Z"
   },
   {
    "duration": 48,
    "start_time": "2022-04-30T22:52:01.455Z"
   },
   {
    "duration": 22,
    "start_time": "2022-04-30T22:52:01.506Z"
   },
   {
    "duration": 445,
    "start_time": "2022-04-30T22:52:01.531Z"
   },
   {
    "duration": 301,
    "start_time": "2022-04-30T22:52:01.979Z"
   },
   {
    "duration": 387,
    "start_time": "2022-04-30T22:52:02.282Z"
   },
   {
    "duration": 6,
    "start_time": "2022-04-30T22:52:02.671Z"
   },
   {
    "duration": 10,
    "start_time": "2022-04-30T22:52:02.692Z"
   },
   {
    "duration": 315,
    "start_time": "2022-04-30T22:52:02.704Z"
   },
   {
    "duration": 411,
    "start_time": "2022-04-30T22:52:03.021Z"
   },
   {
    "duration": 3,
    "start_time": "2022-04-30T22:52:03.434Z"
   },
   {
    "duration": 12,
    "start_time": "2022-04-30T22:52:03.442Z"
   },
   {
    "duration": 226,
    "start_time": "2022-04-30T22:52:03.456Z"
   },
   {
    "duration": 193,
    "start_time": "2022-04-30T22:52:03.684Z"
   },
   {
    "duration": 14,
    "start_time": "2022-04-30T22:52:03.879Z"
   },
   {
    "duration": 238,
    "start_time": "2022-04-30T22:52:03.895Z"
   },
   {
    "duration": 11,
    "start_time": "2022-04-30T22:52:04.135Z"
   },
   {
    "duration": 290,
    "start_time": "2022-04-30T22:52:04.148Z"
   },
   {
    "duration": 6,
    "start_time": "2022-04-30T22:52:04.440Z"
   },
   {
    "duration": 45,
    "start_time": "2022-04-30T22:52:04.448Z"
   },
   {
    "duration": 25,
    "start_time": "2022-04-30T22:52:04.495Z"
   },
   {
    "duration": 10,
    "start_time": "2022-04-30T22:52:04.522Z"
   },
   {
    "duration": 66,
    "start_time": "2022-04-30T22:52:04.534Z"
   },
   {
    "duration": 25,
    "start_time": "2022-04-30T22:52:04.602Z"
   },
   {
    "duration": 15,
    "start_time": "2022-04-30T22:52:04.630Z"
   },
   {
    "duration": 64,
    "start_time": "2022-04-30T22:52:04.648Z"
   },
   {
    "duration": 34,
    "start_time": "2022-04-30T22:52:04.714Z"
   },
   {
    "duration": 44,
    "start_time": "2022-04-30T22:52:04.751Z"
   },
   {
    "duration": 22,
    "start_time": "2022-04-30T22:52:04.798Z"
   },
   {
    "duration": 418,
    "start_time": "2022-04-30T22:54:21.508Z"
   },
   {
    "duration": 296,
    "start_time": "2022-04-30T22:54:37.284Z"
   },
   {
    "duration": 276,
    "start_time": "2022-04-30T22:54:44.759Z"
   },
   {
    "duration": 280,
    "start_time": "2022-04-30T22:54:51.123Z"
   },
   {
    "duration": 278,
    "start_time": "2022-04-30T22:54:58.806Z"
   },
   {
    "duration": 369,
    "start_time": "2022-04-30T22:55:05.836Z"
   },
   {
    "duration": 282,
    "start_time": "2022-04-30T22:55:14.150Z"
   },
   {
    "duration": 409,
    "start_time": "2022-04-30T22:55:23.879Z"
   },
   {
    "duration": 6,
    "start_time": "2022-04-30T22:58:35.719Z"
   },
   {
    "duration": 8,
    "start_time": "2022-04-30T23:00:38.771Z"
   },
   {
    "duration": 22,
    "start_time": "2022-04-30T23:00:40.147Z"
   },
   {
    "duration": 26,
    "start_time": "2022-04-30T23:01:23.293Z"
   },
   {
    "duration": 1055,
    "start_time": "2022-05-01T09:28:29.224Z"
   },
   {
    "duration": 4,
    "start_time": "2022-05-01T09:28:30.281Z"
   },
   {
    "duration": 50,
    "start_time": "2022-05-01T09:28:30.286Z"
   },
   {
    "duration": 8,
    "start_time": "2022-05-01T09:28:30.338Z"
   },
   {
    "duration": 15,
    "start_time": "2022-05-01T09:28:30.347Z"
   },
   {
    "duration": 34,
    "start_time": "2022-05-01T09:28:30.363Z"
   },
   {
    "duration": 12,
    "start_time": "2022-05-01T09:28:30.398Z"
   },
   {
    "duration": 13,
    "start_time": "2022-05-01T09:28:30.411Z"
   },
   {
    "duration": 12,
    "start_time": "2022-05-01T09:28:30.426Z"
   },
   {
    "duration": 70,
    "start_time": "2022-05-01T09:28:30.441Z"
   },
   {
    "duration": 2,
    "start_time": "2022-05-01T09:28:30.513Z"
   },
   {
    "duration": 27,
    "start_time": "2022-05-01T09:28:30.516Z"
   },
   {
    "duration": 12,
    "start_time": "2022-05-01T09:28:30.544Z"
   },
   {
    "duration": 11,
    "start_time": "2022-05-01T09:28:30.557Z"
   },
   {
    "duration": 169,
    "start_time": "2022-05-01T09:28:30.570Z"
   },
   {
    "duration": 8,
    "start_time": "2022-05-01T09:28:30.740Z"
   },
   {
    "duration": 122,
    "start_time": "2022-05-01T09:28:30.750Z"
   },
   {
    "duration": 20,
    "start_time": "2022-05-01T09:28:30.873Z"
   },
   {
    "duration": 13,
    "start_time": "2022-05-01T09:28:30.895Z"
   },
   {
    "duration": 259,
    "start_time": "2022-05-01T09:28:30.909Z"
   },
   {
    "duration": 176,
    "start_time": "2022-05-01T09:28:31.170Z"
   },
   {
    "duration": 267,
    "start_time": "2022-05-01T09:28:31.348Z"
   },
   {
    "duration": 4,
    "start_time": "2022-05-01T09:28:31.617Z"
   },
   {
    "duration": 9,
    "start_time": "2022-05-01T09:28:31.623Z"
   },
   {
    "duration": 191,
    "start_time": "2022-05-01T09:28:31.633Z"
   },
   {
    "duration": 279,
    "start_time": "2022-05-01T09:28:31.825Z"
   },
   {
    "duration": 3,
    "start_time": "2022-05-01T09:28:32.105Z"
   },
   {
    "duration": 25,
    "start_time": "2022-05-01T09:28:32.111Z"
   },
   {
    "duration": 109,
    "start_time": "2022-05-01T09:28:32.138Z"
   },
   {
    "duration": 113,
    "start_time": "2022-05-01T09:28:32.248Z"
   },
   {
    "duration": 4,
    "start_time": "2022-05-01T09:28:32.362Z"
   },
   {
    "duration": 133,
    "start_time": "2022-05-01T09:28:32.367Z"
   },
   {
    "duration": 7,
    "start_time": "2022-05-01T09:28:32.502Z"
   },
   {
    "duration": 198,
    "start_time": "2022-05-01T09:28:32.510Z"
   },
   {
    "duration": 4,
    "start_time": "2022-05-01T09:28:32.710Z"
   },
   {
    "duration": 13,
    "start_time": "2022-05-01T09:28:32.715Z"
   },
   {
    "duration": 16,
    "start_time": "2022-05-01T09:28:32.730Z"
   },
   {
    "duration": 10,
    "start_time": "2022-05-01T09:28:32.747Z"
   },
   {
    "duration": 49,
    "start_time": "2022-05-01T09:28:32.759Z"
   },
   {
    "duration": 15,
    "start_time": "2022-05-01T09:28:32.809Z"
   },
   {
    "duration": 6,
    "start_time": "2022-05-01T09:28:32.826Z"
   },
   {
    "duration": 15,
    "start_time": "2022-05-01T09:28:32.834Z"
   },
   {
    "duration": 49,
    "start_time": "2022-05-01T09:28:32.850Z"
   },
   {
    "duration": 6,
    "start_time": "2022-05-01T09:28:32.900Z"
   },
   {
    "duration": 17,
    "start_time": "2022-05-01T09:28:32.907Z"
   },
   {
    "duration": 1093,
    "start_time": "2022-07-10T20:34:38.133Z"
   },
   {
    "duration": 3,
    "start_time": "2022-07-10T20:34:39.229Z"
   },
   {
    "duration": 78,
    "start_time": "2022-07-10T20:34:39.234Z"
   },
   {
    "duration": 9,
    "start_time": "2022-07-10T20:34:39.315Z"
   },
   {
    "duration": 9,
    "start_time": "2022-07-10T20:34:39.326Z"
   },
   {
    "duration": 101,
    "start_time": "2022-07-10T20:34:39.337Z"
   },
   {
    "duration": 0,
    "start_time": "2022-07-10T20:34:39.443Z"
   },
   {
    "duration": 0,
    "start_time": "2022-07-10T20:34:39.444Z"
   },
   {
    "duration": 0,
    "start_time": "2022-07-10T20:34:39.446Z"
   },
   {
    "duration": 0,
    "start_time": "2022-07-10T20:34:39.447Z"
   },
   {
    "duration": 0,
    "start_time": "2022-07-10T20:34:39.448Z"
   },
   {
    "duration": 0,
    "start_time": "2022-07-10T20:34:39.449Z"
   },
   {
    "duration": 0,
    "start_time": "2022-07-10T20:34:39.450Z"
   },
   {
    "duration": 0,
    "start_time": "2022-07-10T20:34:39.451Z"
   },
   {
    "duration": 0,
    "start_time": "2022-07-10T20:34:39.452Z"
   },
   {
    "duration": 0,
    "start_time": "2022-07-10T20:34:39.453Z"
   },
   {
    "duration": 0,
    "start_time": "2022-07-10T20:34:39.454Z"
   },
   {
    "duration": 0,
    "start_time": "2022-07-10T20:34:39.455Z"
   },
   {
    "duration": 0,
    "start_time": "2022-07-10T20:34:39.456Z"
   },
   {
    "duration": 0,
    "start_time": "2022-07-10T20:34:39.457Z"
   },
   {
    "duration": 0,
    "start_time": "2022-07-10T20:34:39.458Z"
   },
   {
    "duration": 0,
    "start_time": "2022-07-10T20:34:39.460Z"
   },
   {
    "duration": 0,
    "start_time": "2022-07-10T20:34:39.460Z"
   },
   {
    "duration": 0,
    "start_time": "2022-07-10T20:34:39.462Z"
   },
   {
    "duration": 0,
    "start_time": "2022-07-10T20:34:39.462Z"
   },
   {
    "duration": 0,
    "start_time": "2022-07-10T20:34:39.463Z"
   },
   {
    "duration": 0,
    "start_time": "2022-07-10T20:34:39.464Z"
   },
   {
    "duration": 0,
    "start_time": "2022-07-10T20:34:39.465Z"
   },
   {
    "duration": 0,
    "start_time": "2022-07-10T20:34:39.466Z"
   },
   {
    "duration": 0,
    "start_time": "2022-07-10T20:34:39.467Z"
   },
   {
    "duration": 0,
    "start_time": "2022-07-10T20:34:39.468Z"
   },
   {
    "duration": 0,
    "start_time": "2022-07-10T20:34:39.469Z"
   },
   {
    "duration": 0,
    "start_time": "2022-07-10T20:34:39.470Z"
   },
   {
    "duration": 0,
    "start_time": "2022-07-10T20:34:39.471Z"
   },
   {
    "duration": 0,
    "start_time": "2022-07-10T20:34:39.523Z"
   },
   {
    "duration": 0,
    "start_time": "2022-07-10T20:34:39.524Z"
   },
   {
    "duration": 0,
    "start_time": "2022-07-10T20:34:39.525Z"
   },
   {
    "duration": 0,
    "start_time": "2022-07-10T20:34:39.526Z"
   },
   {
    "duration": 0,
    "start_time": "2022-07-10T20:34:39.527Z"
   },
   {
    "duration": 0,
    "start_time": "2022-07-10T20:34:39.528Z"
   },
   {
    "duration": 0,
    "start_time": "2022-07-10T20:34:39.529Z"
   },
   {
    "duration": 0,
    "start_time": "2022-07-10T20:34:39.530Z"
   },
   {
    "duration": 0,
    "start_time": "2022-07-10T20:34:39.531Z"
   },
   {
    "duration": 0,
    "start_time": "2022-07-10T20:34:39.531Z"
   },
   {
    "duration": 0,
    "start_time": "2022-07-10T20:34:39.533Z"
   },
   {
    "duration": 0,
    "start_time": "2022-07-10T20:34:39.534Z"
   },
   {
    "duration": 1095,
    "start_time": "2022-07-10T20:35:07.728Z"
   },
   {
    "duration": 4,
    "start_time": "2022-07-10T20:35:08.826Z"
   },
   {
    "duration": 76,
    "start_time": "2022-07-10T20:35:08.832Z"
   },
   {
    "duration": 13,
    "start_time": "2022-07-10T20:35:08.911Z"
   },
   {
    "duration": 13,
    "start_time": "2022-07-10T20:35:08.926Z"
   },
   {
    "duration": 73,
    "start_time": "2022-07-10T20:35:08.941Z"
   },
   {
    "duration": 10,
    "start_time": "2022-07-10T20:35:09.016Z"
   },
   {
    "duration": 18,
    "start_time": "2022-07-10T20:35:09.028Z"
   },
   {
    "duration": 16,
    "start_time": "2022-07-10T20:35:09.048Z"
   },
   {
    "duration": 10,
    "start_time": "2022-07-10T20:35:09.067Z"
   },
   {
    "duration": 98,
    "start_time": "2022-07-10T20:35:09.079Z"
   },
   {
    "duration": 3,
    "start_time": "2022-07-10T20:35:09.179Z"
   },
   {
    "duration": 45,
    "start_time": "2022-07-10T20:35:09.184Z"
   },
   {
    "duration": 9,
    "start_time": "2022-07-10T20:35:09.231Z"
   },
   {
    "duration": 7,
    "start_time": "2022-07-10T20:35:09.242Z"
   },
   {
    "duration": 186,
    "start_time": "2022-07-10T20:35:09.251Z"
   },
   {
    "duration": 8,
    "start_time": "2022-07-10T20:35:09.438Z"
   },
   {
    "duration": 134,
    "start_time": "2022-07-10T20:35:09.447Z"
   },
   {
    "duration": 9,
    "start_time": "2022-07-10T20:35:09.583Z"
   },
   {
    "duration": 32,
    "start_time": "2022-07-10T20:35:09.594Z"
   },
   {
    "duration": 288,
    "start_time": "2022-07-10T20:35:09.628Z"
   },
   {
    "duration": 186,
    "start_time": "2022-07-10T20:35:09.924Z"
   },
   {
    "duration": 316,
    "start_time": "2022-07-10T20:35:10.112Z"
   },
   {
    "duration": 4,
    "start_time": "2022-07-10T20:35:10.430Z"
   },
   {
    "duration": 12,
    "start_time": "2022-07-10T20:35:10.436Z"
   },
   {
    "duration": 207,
    "start_time": "2022-07-10T20:35:10.450Z"
   },
   {
    "duration": 289,
    "start_time": "2022-07-10T20:35:10.659Z"
   },
   {
    "duration": 3,
    "start_time": "2022-07-10T20:35:10.951Z"
   },
   {
    "duration": 12,
    "start_time": "2022-07-10T20:35:10.956Z"
   },
   {
    "duration": 161,
    "start_time": "2022-07-10T20:35:10.970Z"
   },
   {
    "duration": 140,
    "start_time": "2022-07-10T20:35:11.133Z"
   },
   {
    "duration": 4,
    "start_time": "2022-07-10T20:35:11.274Z"
   },
   {
    "duration": 173,
    "start_time": "2022-07-10T20:35:11.280Z"
   },
   {
    "duration": 8,
    "start_time": "2022-07-10T20:35:11.455Z"
   },
   {
    "duration": 229,
    "start_time": "2022-07-10T20:35:11.465Z"
   },
   {
    "duration": 4,
    "start_time": "2022-07-10T20:35:11.696Z"
   },
   {
    "duration": 28,
    "start_time": "2022-07-10T20:35:11.702Z"
   },
   {
    "duration": 18,
    "start_time": "2022-07-10T20:35:11.732Z"
   },
   {
    "duration": 10,
    "start_time": "2022-07-10T20:35:11.752Z"
   },
   {
    "duration": 22,
    "start_time": "2022-07-10T20:35:11.764Z"
   },
   {
    "duration": 35,
    "start_time": "2022-07-10T20:35:11.788Z"
   },
   {
    "duration": 12,
    "start_time": "2022-07-10T20:35:11.825Z"
   },
   {
    "duration": 18,
    "start_time": "2022-07-10T20:35:11.839Z"
   },
   {
    "duration": 22,
    "start_time": "2022-07-10T20:35:11.860Z"
   },
   {
    "duration": 6,
    "start_time": "2022-07-10T20:35:11.884Z"
   },
   {
    "duration": 43,
    "start_time": "2022-07-10T20:35:11.891Z"
   },
   {
    "duration": 301,
    "start_time": "2022-07-10T20:41:53.011Z"
   },
   {
    "duration": 1155,
    "start_time": "2022-07-10T20:42:06.036Z"
   },
   {
    "duration": 3,
    "start_time": "2022-07-10T20:42:07.194Z"
   },
   {
    "duration": 91,
    "start_time": "2022-07-10T20:42:07.200Z"
   },
   {
    "duration": 11,
    "start_time": "2022-07-10T20:42:07.293Z"
   },
   {
    "duration": 24,
    "start_time": "2022-07-10T20:42:07.305Z"
   },
   {
    "duration": 59,
    "start_time": "2022-07-10T20:42:07.332Z"
   },
   {
    "duration": 9,
    "start_time": "2022-07-10T20:42:07.393Z"
   },
   {
    "duration": 32,
    "start_time": "2022-07-10T20:42:07.404Z"
   },
   {
    "duration": 24,
    "start_time": "2022-07-10T20:42:07.438Z"
   },
   {
    "duration": 19,
    "start_time": "2022-07-10T20:42:07.466Z"
   },
   {
    "duration": 112,
    "start_time": "2022-07-10T20:42:07.487Z"
   },
   {
    "duration": 2,
    "start_time": "2022-07-10T20:42:07.602Z"
   },
   {
    "duration": 55,
    "start_time": "2022-07-10T20:42:07.606Z"
   },
   {
    "duration": 21,
    "start_time": "2022-07-10T20:42:07.664Z"
   },
   {
    "duration": 50,
    "start_time": "2022-07-10T20:42:07.686Z"
   },
   {
    "duration": 235,
    "start_time": "2022-07-10T20:42:07.738Z"
   },
   {
    "duration": 11,
    "start_time": "2022-07-10T20:42:07.975Z"
   },
   {
    "duration": 175,
    "start_time": "2022-07-10T20:42:07.988Z"
   },
   {
    "duration": 58,
    "start_time": "2022-07-10T20:42:08.165Z"
   },
   {
    "duration": 24,
    "start_time": "2022-07-10T20:42:08.225Z"
   },
   {
    "duration": 423,
    "start_time": "2022-07-10T20:42:08.251Z"
   },
   {
    "duration": 211,
    "start_time": "2022-07-10T20:42:08.675Z"
   },
   {
    "duration": 442,
    "start_time": "2022-07-10T20:42:08.888Z"
   },
   {
    "duration": 4,
    "start_time": "2022-07-10T20:42:09.331Z"
   },
   {
    "duration": 9,
    "start_time": "2022-07-10T20:42:09.337Z"
   },
   {
    "duration": 285,
    "start_time": "2022-07-10T20:42:09.347Z"
   },
   {
    "duration": 389,
    "start_time": "2022-07-10T20:42:09.634Z"
   },
   {
    "duration": 2,
    "start_time": "2022-07-10T20:42:10.027Z"
   },
   {
    "duration": 22,
    "start_time": "2022-07-10T20:42:10.030Z"
   },
   {
    "duration": 139,
    "start_time": "2022-07-10T20:42:10.054Z"
   },
   {
    "duration": 128,
    "start_time": "2022-07-10T20:42:10.195Z"
   },
   {
    "duration": 4,
    "start_time": "2022-07-10T20:42:10.325Z"
   },
   {
    "duration": 155,
    "start_time": "2022-07-10T20:42:10.331Z"
   },
   {
    "duration": 8,
    "start_time": "2022-07-10T20:42:10.488Z"
   },
   {
    "duration": 227,
    "start_time": "2022-07-10T20:42:10.497Z"
   },
   {
    "duration": 5,
    "start_time": "2022-07-10T20:42:10.725Z"
   },
   {
    "duration": 17,
    "start_time": "2022-07-10T20:42:10.732Z"
   },
   {
    "duration": 15,
    "start_time": "2022-07-10T20:42:10.751Z"
   },
   {
    "duration": 9,
    "start_time": "2022-07-10T20:42:10.768Z"
   },
   {
    "duration": 47,
    "start_time": "2022-07-10T20:42:10.778Z"
   },
   {
    "duration": 16,
    "start_time": "2022-07-10T20:42:10.826Z"
   },
   {
    "duration": 8,
    "start_time": "2022-07-10T20:42:10.844Z"
   },
   {
    "duration": 19,
    "start_time": "2022-07-10T20:42:10.854Z"
   },
   {
    "duration": 26,
    "start_time": "2022-07-10T20:42:10.874Z"
   },
   {
    "duration": 8,
    "start_time": "2022-07-10T20:42:10.924Z"
   },
   {
    "duration": 35,
    "start_time": "2022-07-10T20:42:10.933Z"
   }
  ],
  "kernelspec": {
   "display_name": "Python 3 (ipykernel)",
   "language": "python",
   "name": "python3"
  },
  "language_info": {
   "codemirror_mode": {
    "name": "ipython",
    "version": 3
   },
   "file_extension": ".py",
   "mimetype": "text/x-python",
   "name": "python",
   "nbconvert_exporter": "python",
   "pygments_lexer": "ipython3",
   "version": "3.9.13"
  },
  "toc": {
   "base_numbering": 1,
   "nav_menu": {},
   "number_sections": true,
   "sideBar": true,
   "skip_h1_title": true,
   "title_cell": "Table of Contents",
   "title_sidebar": "Contents",
   "toc_cell": false,
   "toc_position": {
    "height": "calc(100% - 180px)",
    "left": "10px",
    "top": "150px",
    "width": "165px"
   },
   "toc_section_display": true,
   "toc_window_display": true
  }
 },
 "nbformat": 4,
 "nbformat_minor": 2
}
