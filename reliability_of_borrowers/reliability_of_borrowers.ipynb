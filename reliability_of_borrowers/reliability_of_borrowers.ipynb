{
 "cells": [
  {
   "cell_type": "markdown",
   "metadata": {},
   "source": [
    "# Исследование надёжности заёмщиков"
   ]
  },
  {
   "cell_type": "markdown",
   "metadata": {},
   "source": [
    "## Шаг 1. Обзор данных"
   ]
  },
  {
   "cell_type": "code",
   "execution_count": null,
   "metadata": {},
   "outputs": [],
   "source": [
    "import pandas as pd\n",
    "from pymystem3 import Mystem\n",
    "from collections import Counter"
   ]
  },
  {
   "cell_type": "code",
   "execution_count": 21,
   "metadata": {
    "scrolled": true
   },
   "outputs": [
    {
     "data": {
      "text/html": [
       "<div>\n",
       "<style scoped>\n",
       "    .dataframe tbody tr th:only-of-type {\n",
       "        vertical-align: middle;\n",
       "    }\n",
       "\n",
       "    .dataframe tbody tr th {\n",
       "        vertical-align: top;\n",
       "    }\n",
       "\n",
       "    .dataframe thead th {\n",
       "        text-align: right;\n",
       "    }\n",
       "</style>\n",
       "<table border=\"1\" class=\"dataframe\">\n",
       "  <thead>\n",
       "    <tr style=\"text-align: right;\">\n",
       "      <th></th>\n",
       "      <th>children</th>\n",
       "      <th>days_employed</th>\n",
       "      <th>dob_years</th>\n",
       "      <th>education</th>\n",
       "      <th>education_id</th>\n",
       "      <th>family_status</th>\n",
       "      <th>family_status_id</th>\n",
       "      <th>gender</th>\n",
       "      <th>income_type</th>\n",
       "      <th>debt</th>\n",
       "      <th>total_income</th>\n",
       "      <th>purpose</th>\n",
       "    </tr>\n",
       "  </thead>\n",
       "  <tbody>\n",
       "    <tr>\n",
       "      <th>0</th>\n",
       "      <td>1</td>\n",
       "      <td>-8437.673028</td>\n",
       "      <td>42</td>\n",
       "      <td>высшее</td>\n",
       "      <td>0</td>\n",
       "      <td>женат / замужем</td>\n",
       "      <td>0</td>\n",
       "      <td>F</td>\n",
       "      <td>сотрудник</td>\n",
       "      <td>0</td>\n",
       "      <td>253875.639453</td>\n",
       "      <td>покупка жилья</td>\n",
       "    </tr>\n",
       "    <tr>\n",
       "      <th>1</th>\n",
       "      <td>1</td>\n",
       "      <td>-4024.803754</td>\n",
       "      <td>36</td>\n",
       "      <td>среднее</td>\n",
       "      <td>1</td>\n",
       "      <td>женат / замужем</td>\n",
       "      <td>0</td>\n",
       "      <td>F</td>\n",
       "      <td>сотрудник</td>\n",
       "      <td>0</td>\n",
       "      <td>112080.014102</td>\n",
       "      <td>приобретение автомобиля</td>\n",
       "    </tr>\n",
       "    <tr>\n",
       "      <th>2</th>\n",
       "      <td>0</td>\n",
       "      <td>-5623.422610</td>\n",
       "      <td>33</td>\n",
       "      <td>Среднее</td>\n",
       "      <td>1</td>\n",
       "      <td>женат / замужем</td>\n",
       "      <td>0</td>\n",
       "      <td>M</td>\n",
       "      <td>сотрудник</td>\n",
       "      <td>0</td>\n",
       "      <td>145885.952297</td>\n",
       "      <td>покупка жилья</td>\n",
       "    </tr>\n",
       "    <tr>\n",
       "      <th>3</th>\n",
       "      <td>3</td>\n",
       "      <td>-4124.747207</td>\n",
       "      <td>32</td>\n",
       "      <td>среднее</td>\n",
       "      <td>1</td>\n",
       "      <td>женат / замужем</td>\n",
       "      <td>0</td>\n",
       "      <td>M</td>\n",
       "      <td>сотрудник</td>\n",
       "      <td>0</td>\n",
       "      <td>267628.550329</td>\n",
       "      <td>дополнительное образование</td>\n",
       "    </tr>\n",
       "    <tr>\n",
       "      <th>4</th>\n",
       "      <td>0</td>\n",
       "      <td>340266.072047</td>\n",
       "      <td>53</td>\n",
       "      <td>среднее</td>\n",
       "      <td>1</td>\n",
       "      <td>гражданский брак</td>\n",
       "      <td>1</td>\n",
       "      <td>F</td>\n",
       "      <td>пенсионер</td>\n",
       "      <td>0</td>\n",
       "      <td>158616.077870</td>\n",
       "      <td>сыграть свадьбу</td>\n",
       "    </tr>\n",
       "    <tr>\n",
       "      <th>5</th>\n",
       "      <td>0</td>\n",
       "      <td>-926.185831</td>\n",
       "      <td>27</td>\n",
       "      <td>высшее</td>\n",
       "      <td>0</td>\n",
       "      <td>гражданский брак</td>\n",
       "      <td>1</td>\n",
       "      <td>M</td>\n",
       "      <td>компаньон</td>\n",
       "      <td>0</td>\n",
       "      <td>255763.565419</td>\n",
       "      <td>покупка жилья</td>\n",
       "    </tr>\n",
       "    <tr>\n",
       "      <th>6</th>\n",
       "      <td>0</td>\n",
       "      <td>-2879.202052</td>\n",
       "      <td>43</td>\n",
       "      <td>высшее</td>\n",
       "      <td>0</td>\n",
       "      <td>женат / замужем</td>\n",
       "      <td>0</td>\n",
       "      <td>F</td>\n",
       "      <td>компаньон</td>\n",
       "      <td>0</td>\n",
       "      <td>240525.971920</td>\n",
       "      <td>операции с жильем</td>\n",
       "    </tr>\n",
       "    <tr>\n",
       "      <th>7</th>\n",
       "      <td>0</td>\n",
       "      <td>-152.779569</td>\n",
       "      <td>50</td>\n",
       "      <td>СРЕДНЕЕ</td>\n",
       "      <td>1</td>\n",
       "      <td>женат / замужем</td>\n",
       "      <td>0</td>\n",
       "      <td>M</td>\n",
       "      <td>сотрудник</td>\n",
       "      <td>0</td>\n",
       "      <td>135823.934197</td>\n",
       "      <td>образование</td>\n",
       "    </tr>\n",
       "    <tr>\n",
       "      <th>8</th>\n",
       "      <td>2</td>\n",
       "      <td>-6929.865299</td>\n",
       "      <td>35</td>\n",
       "      <td>ВЫСШЕЕ</td>\n",
       "      <td>0</td>\n",
       "      <td>гражданский брак</td>\n",
       "      <td>1</td>\n",
       "      <td>F</td>\n",
       "      <td>сотрудник</td>\n",
       "      <td>0</td>\n",
       "      <td>95856.832424</td>\n",
       "      <td>на проведение свадьбы</td>\n",
       "    </tr>\n",
       "    <tr>\n",
       "      <th>9</th>\n",
       "      <td>0</td>\n",
       "      <td>-2188.756445</td>\n",
       "      <td>41</td>\n",
       "      <td>среднее</td>\n",
       "      <td>1</td>\n",
       "      <td>женат / замужем</td>\n",
       "      <td>0</td>\n",
       "      <td>M</td>\n",
       "      <td>сотрудник</td>\n",
       "      <td>0</td>\n",
       "      <td>144425.938277</td>\n",
       "      <td>покупка жилья для семьи</td>\n",
       "    </tr>\n",
       "    <tr>\n",
       "      <th>10</th>\n",
       "      <td>2</td>\n",
       "      <td>-4171.483647</td>\n",
       "      <td>36</td>\n",
       "      <td>высшее</td>\n",
       "      <td>0</td>\n",
       "      <td>женат / замужем</td>\n",
       "      <td>0</td>\n",
       "      <td>M</td>\n",
       "      <td>компаньон</td>\n",
       "      <td>0</td>\n",
       "      <td>113943.491460</td>\n",
       "      <td>покупка недвижимости</td>\n",
       "    </tr>\n",
       "    <tr>\n",
       "      <th>11</th>\n",
       "      <td>0</td>\n",
       "      <td>-792.701887</td>\n",
       "      <td>40</td>\n",
       "      <td>среднее</td>\n",
       "      <td>1</td>\n",
       "      <td>женат / замужем</td>\n",
       "      <td>0</td>\n",
       "      <td>F</td>\n",
       "      <td>сотрудник</td>\n",
       "      <td>0</td>\n",
       "      <td>77069.234271</td>\n",
       "      <td>покупка коммерческой недвижимости</td>\n",
       "    </tr>\n",
       "    <tr>\n",
       "      <th>12</th>\n",
       "      <td>0</td>\n",
       "      <td>NaN</td>\n",
       "      <td>65</td>\n",
       "      <td>среднее</td>\n",
       "      <td>1</td>\n",
       "      <td>гражданский брак</td>\n",
       "      <td>1</td>\n",
       "      <td>M</td>\n",
       "      <td>пенсионер</td>\n",
       "      <td>0</td>\n",
       "      <td>NaN</td>\n",
       "      <td>сыграть свадьбу</td>\n",
       "    </tr>\n",
       "  </tbody>\n",
       "</table>\n",
       "</div>"
      ],
      "text/plain": [
       "    children  days_employed  dob_years education  education_id  \\\n",
       "0          1   -8437.673028         42    высшее             0   \n",
       "1          1   -4024.803754         36   среднее             1   \n",
       "2          0   -5623.422610         33   Среднее             1   \n",
       "3          3   -4124.747207         32   среднее             1   \n",
       "4          0  340266.072047         53   среднее             1   \n",
       "5          0    -926.185831         27    высшее             0   \n",
       "6          0   -2879.202052         43    высшее             0   \n",
       "7          0    -152.779569         50   СРЕДНЕЕ             1   \n",
       "8          2   -6929.865299         35    ВЫСШЕЕ             0   \n",
       "9          0   -2188.756445         41   среднее             1   \n",
       "10         2   -4171.483647         36    высшее             0   \n",
       "11         0    -792.701887         40   среднее             1   \n",
       "12         0            NaN         65   среднее             1   \n",
       "\n",
       "       family_status  family_status_id gender income_type  debt  \\\n",
       "0    женат / замужем                 0      F   сотрудник     0   \n",
       "1    женат / замужем                 0      F   сотрудник     0   \n",
       "2    женат / замужем                 0      M   сотрудник     0   \n",
       "3    женат / замужем                 0      M   сотрудник     0   \n",
       "4   гражданский брак                 1      F   пенсионер     0   \n",
       "5   гражданский брак                 1      M   компаньон     0   \n",
       "6    женат / замужем                 0      F   компаньон     0   \n",
       "7    женат / замужем                 0      M   сотрудник     0   \n",
       "8   гражданский брак                 1      F   сотрудник     0   \n",
       "9    женат / замужем                 0      M   сотрудник     0   \n",
       "10   женат / замужем                 0      M   компаньон     0   \n",
       "11   женат / замужем                 0      F   сотрудник     0   \n",
       "12  гражданский брак                 1      M   пенсионер     0   \n",
       "\n",
       "     total_income                            purpose  \n",
       "0   253875.639453                      покупка жилья  \n",
       "1   112080.014102            приобретение автомобиля  \n",
       "2   145885.952297                      покупка жилья  \n",
       "3   267628.550329         дополнительное образование  \n",
       "4   158616.077870                    сыграть свадьбу  \n",
       "5   255763.565419                      покупка жилья  \n",
       "6   240525.971920                  операции с жильем  \n",
       "7   135823.934197                        образование  \n",
       "8    95856.832424              на проведение свадьбы  \n",
       "9   144425.938277            покупка жилья для семьи  \n",
       "10  113943.491460               покупка недвижимости  \n",
       "11   77069.234271  покупка коммерческой недвижимости  \n",
       "12            NaN                    сыграть свадьбу  "
      ]
     },
     "metadata": {},
     "output_type": "display_data"
    },
    {
     "name": "stdout",
     "output_type": "stream",
     "text": [
      "<class 'pandas.core.frame.DataFrame'>\n",
      "RangeIndex: 21525 entries, 0 to 21524\n",
      "Data columns (total 12 columns):\n",
      " #   Column            Non-Null Count  Dtype  \n",
      "---  ------            --------------  -----  \n",
      " 0   children          21525 non-null  int64  \n",
      " 1   days_employed     19351 non-null  float64\n",
      " 2   dob_years         21525 non-null  int64  \n",
      " 3   education         21525 non-null  object \n",
      " 4   education_id      21525 non-null  int64  \n",
      " 5   family_status     21525 non-null  object \n",
      " 6   family_status_id  21525 non-null  int64  \n",
      " 7   gender            21525 non-null  object \n",
      " 8   income_type       21525 non-null  object \n",
      " 9   debt              21525 non-null  int64  \n",
      " 10  total_income      19351 non-null  float64\n",
      " 11  purpose           21525 non-null  object \n",
      "dtypes: float64(2), int64(5), object(5)\n",
      "memory usage: 2.0+ MB\n"
     ]
    }
   ],
   "source": [
    "display(df.head(13))\n",
    "df.info()"
   ]
  },
  {
   "cell_type": "markdown",
   "metadata": {},
   "source": [
    "В таблице двенадцать столбцов. Тип данных — `object`, `int` и `float`.\n",
    "\n",
    "Согласно документации к данным:\n",
    "* `children` — количество детей в семье;\n",
    "* `days_employed` — общий трудовой стаж в днях;\n",
    "* `dob_years` — возраст клиента в годах;\n",
    "* `education` — уровень образования клиента;\n",
    "* `education_id` — идентификатор уровня образования;\n",
    "* `family_status` — семейное положение;\n",
    "* `family_status_id` — идентификатор семейного положения;\n",
    "* `gender` — пол клиента;\n",
    "* `income_type` — тип занятости;\n",
    "* `debt` — есть ли задолженность по возврату кредитов;\n",
    "* `total_income` — ежемесячный доход;\n",
    "* `purpose` — цель получения кредита.\n",
    "\n",
    "В названиях колонок нарушений стиля нет.\n",
    "Количество значений в столбцах `days_employed` и `total_income` отличается от остальных и имеют тип данных `float`. Значит, в данных есть пропущенные значения. В столбце `days_employed`, значения имеют отрицательные значения, при этом строки, которые имеют положительные значения, очень большие. Стаж не может быть больше 100 лет. Предположительно, положительные значения указаны не в днях, а часах. \n",
    "\n",
    "В данных есть символы в разном регистре, в колонке с целью получения кредита нет единообразия. "
   ]
  },
  {
   "cell_type": "markdown",
   "metadata": {},
   "source": [
    "### Вывод\n",
    "В каждой строке таблицы - данные о заемщике банка. Столбцы описывают колличество детей, семейное положение, среднемесячный доход и другое.\n",
    "\n",
    "Предварительно можно утверждать, что данных достаточно для проверки гипотез. Но встречаются пропуски, данные в разных размерностях в одном столбце, отрицательные значения, значения в разном регистре. \n",
    "\n",
    "Чтобы двигаться дальше, нужно устранить проблемы в данных."
   ]
  },
  {
   "cell_type": "markdown",
   "metadata": {},
   "source": [
    "## Шаг 2. Предобработка данных"
   ]
  },
  {
   "cell_type": "markdown",
   "metadata": {},
   "source": [
    "### Обработка пропусков"
   ]
  },
  {
   "cell_type": "code",
   "execution_count": 22,
   "metadata": {
    "scrolled": true
   },
   "outputs": [
    {
     "data": {
      "text/html": [
       "<div>\n",
       "<style scoped>\n",
       "    .dataframe tbody tr th:only-of-type {\n",
       "        vertical-align: middle;\n",
       "    }\n",
       "\n",
       "    .dataframe tbody tr th {\n",
       "        vertical-align: top;\n",
       "    }\n",
       "\n",
       "    .dataframe thead th {\n",
       "        text-align: right;\n",
       "    }\n",
       "</style>\n",
       "<table border=\"1\" class=\"dataframe\">\n",
       "  <thead>\n",
       "    <tr style=\"text-align: right;\">\n",
       "      <th></th>\n",
       "      <th>children</th>\n",
       "      <th>days_employed</th>\n",
       "      <th>dob_years</th>\n",
       "      <th>education</th>\n",
       "      <th>education_id</th>\n",
       "      <th>family_status</th>\n",
       "      <th>family_status_id</th>\n",
       "      <th>gender</th>\n",
       "      <th>income_type</th>\n",
       "      <th>debt</th>\n",
       "      <th>total_income</th>\n",
       "      <th>purpose</th>\n",
       "    </tr>\n",
       "  </thead>\n",
       "  <tbody>\n",
       "    <tr>\n",
       "      <th>0</th>\n",
       "      <td>1</td>\n",
       "      <td>8437.673028</td>\n",
       "      <td>42</td>\n",
       "      <td>высшее</td>\n",
       "      <td>0</td>\n",
       "      <td>женат / замужем</td>\n",
       "      <td>0</td>\n",
       "      <td>F</td>\n",
       "      <td>сотрудник</td>\n",
       "      <td>0</td>\n",
       "      <td>253875.639453</td>\n",
       "      <td>покупка жилья</td>\n",
       "    </tr>\n",
       "    <tr>\n",
       "      <th>1</th>\n",
       "      <td>1</td>\n",
       "      <td>4024.803754</td>\n",
       "      <td>36</td>\n",
       "      <td>среднее</td>\n",
       "      <td>1</td>\n",
       "      <td>женат / замужем</td>\n",
       "      <td>0</td>\n",
       "      <td>F</td>\n",
       "      <td>сотрудник</td>\n",
       "      <td>0</td>\n",
       "      <td>112080.014102</td>\n",
       "      <td>приобретение автомобиля</td>\n",
       "    </tr>\n",
       "    <tr>\n",
       "      <th>2</th>\n",
       "      <td>0</td>\n",
       "      <td>5623.422610</td>\n",
       "      <td>33</td>\n",
       "      <td>Среднее</td>\n",
       "      <td>1</td>\n",
       "      <td>женат / замужем</td>\n",
       "      <td>0</td>\n",
       "      <td>M</td>\n",
       "      <td>сотрудник</td>\n",
       "      <td>0</td>\n",
       "      <td>145885.952297</td>\n",
       "      <td>покупка жилья</td>\n",
       "    </tr>\n",
       "    <tr>\n",
       "      <th>3</th>\n",
       "      <td>3</td>\n",
       "      <td>4124.747207</td>\n",
       "      <td>32</td>\n",
       "      <td>среднее</td>\n",
       "      <td>1</td>\n",
       "      <td>женат / замужем</td>\n",
       "      <td>0</td>\n",
       "      <td>M</td>\n",
       "      <td>сотрудник</td>\n",
       "      <td>0</td>\n",
       "      <td>267628.550329</td>\n",
       "      <td>дополнительное образование</td>\n",
       "    </tr>\n",
       "    <tr>\n",
       "      <th>4</th>\n",
       "      <td>0</td>\n",
       "      <td>14177.753002</td>\n",
       "      <td>53</td>\n",
       "      <td>среднее</td>\n",
       "      <td>1</td>\n",
       "      <td>гражданский брак</td>\n",
       "      <td>1</td>\n",
       "      <td>F</td>\n",
       "      <td>пенсионер</td>\n",
       "      <td>0</td>\n",
       "      <td>158616.077870</td>\n",
       "      <td>сыграть свадьбу</td>\n",
       "    </tr>\n",
       "    <tr>\n",
       "      <th>5</th>\n",
       "      <td>0</td>\n",
       "      <td>926.185831</td>\n",
       "      <td>27</td>\n",
       "      <td>высшее</td>\n",
       "      <td>0</td>\n",
       "      <td>гражданский брак</td>\n",
       "      <td>1</td>\n",
       "      <td>M</td>\n",
       "      <td>компаньон</td>\n",
       "      <td>0</td>\n",
       "      <td>255763.565419</td>\n",
       "      <td>покупка жилья</td>\n",
       "    </tr>\n",
       "    <tr>\n",
       "      <th>6</th>\n",
       "      <td>0</td>\n",
       "      <td>2879.202052</td>\n",
       "      <td>43</td>\n",
       "      <td>высшее</td>\n",
       "      <td>0</td>\n",
       "      <td>женат / замужем</td>\n",
       "      <td>0</td>\n",
       "      <td>F</td>\n",
       "      <td>компаньон</td>\n",
       "      <td>0</td>\n",
       "      <td>240525.971920</td>\n",
       "      <td>операции с жильем</td>\n",
       "    </tr>\n",
       "    <tr>\n",
       "      <th>7</th>\n",
       "      <td>0</td>\n",
       "      <td>152.779569</td>\n",
       "      <td>50</td>\n",
       "      <td>СРЕДНЕЕ</td>\n",
       "      <td>1</td>\n",
       "      <td>женат / замужем</td>\n",
       "      <td>0</td>\n",
       "      <td>M</td>\n",
       "      <td>сотрудник</td>\n",
       "      <td>0</td>\n",
       "      <td>135823.934197</td>\n",
       "      <td>образование</td>\n",
       "    </tr>\n",
       "    <tr>\n",
       "      <th>8</th>\n",
       "      <td>2</td>\n",
       "      <td>6929.865299</td>\n",
       "      <td>35</td>\n",
       "      <td>ВЫСШЕЕ</td>\n",
       "      <td>0</td>\n",
       "      <td>гражданский брак</td>\n",
       "      <td>1</td>\n",
       "      <td>F</td>\n",
       "      <td>сотрудник</td>\n",
       "      <td>0</td>\n",
       "      <td>95856.832424</td>\n",
       "      <td>на проведение свадьбы</td>\n",
       "    </tr>\n",
       "    <tr>\n",
       "      <th>9</th>\n",
       "      <td>0</td>\n",
       "      <td>2188.756445</td>\n",
       "      <td>41</td>\n",
       "      <td>среднее</td>\n",
       "      <td>1</td>\n",
       "      <td>женат / замужем</td>\n",
       "      <td>0</td>\n",
       "      <td>M</td>\n",
       "      <td>сотрудник</td>\n",
       "      <td>0</td>\n",
       "      <td>144425.938277</td>\n",
       "      <td>покупка жилья для семьи</td>\n",
       "    </tr>\n",
       "    <tr>\n",
       "      <th>10</th>\n",
       "      <td>2</td>\n",
       "      <td>4171.483647</td>\n",
       "      <td>36</td>\n",
       "      <td>высшее</td>\n",
       "      <td>0</td>\n",
       "      <td>женат / замужем</td>\n",
       "      <td>0</td>\n",
       "      <td>M</td>\n",
       "      <td>компаньон</td>\n",
       "      <td>0</td>\n",
       "      <td>113943.491460</td>\n",
       "      <td>покупка недвижимости</td>\n",
       "    </tr>\n",
       "    <tr>\n",
       "      <th>11</th>\n",
       "      <td>0</td>\n",
       "      <td>792.701887</td>\n",
       "      <td>40</td>\n",
       "      <td>среднее</td>\n",
       "      <td>1</td>\n",
       "      <td>женат / замужем</td>\n",
       "      <td>0</td>\n",
       "      <td>F</td>\n",
       "      <td>сотрудник</td>\n",
       "      <td>0</td>\n",
       "      <td>77069.234271</td>\n",
       "      <td>покупка коммерческой недвижимости</td>\n",
       "    </tr>\n",
       "    <tr>\n",
       "      <th>12</th>\n",
       "      <td>0</td>\n",
       "      <td>NaN</td>\n",
       "      <td>65</td>\n",
       "      <td>среднее</td>\n",
       "      <td>1</td>\n",
       "      <td>гражданский брак</td>\n",
       "      <td>1</td>\n",
       "      <td>M</td>\n",
       "      <td>пенсионер</td>\n",
       "      <td>0</td>\n",
       "      <td>NaN</td>\n",
       "      <td>сыграть свадьбу</td>\n",
       "    </tr>\n",
       "  </tbody>\n",
       "</table>\n",
       "</div>"
      ],
      "text/plain": [
       "    children  days_employed  dob_years education  education_id  \\\n",
       "0          1    8437.673028         42    высшее             0   \n",
       "1          1    4024.803754         36   среднее             1   \n",
       "2          0    5623.422610         33   Среднее             1   \n",
       "3          3    4124.747207         32   среднее             1   \n",
       "4          0   14177.753002         53   среднее             1   \n",
       "5          0     926.185831         27    высшее             0   \n",
       "6          0    2879.202052         43    высшее             0   \n",
       "7          0     152.779569         50   СРЕДНЕЕ             1   \n",
       "8          2    6929.865299         35    ВЫСШЕЕ             0   \n",
       "9          0    2188.756445         41   среднее             1   \n",
       "10         2    4171.483647         36    высшее             0   \n",
       "11         0     792.701887         40   среднее             1   \n",
       "12         0            NaN         65   среднее             1   \n",
       "\n",
       "       family_status  family_status_id gender income_type  debt  \\\n",
       "0    женат / замужем                 0      F   сотрудник     0   \n",
       "1    женат / замужем                 0      F   сотрудник     0   \n",
       "2    женат / замужем                 0      M   сотрудник     0   \n",
       "3    женат / замужем                 0      M   сотрудник     0   \n",
       "4   гражданский брак                 1      F   пенсионер     0   \n",
       "5   гражданский брак                 1      M   компаньон     0   \n",
       "6    женат / замужем                 0      F   компаньон     0   \n",
       "7    женат / замужем                 0      M   сотрудник     0   \n",
       "8   гражданский брак                 1      F   сотрудник     0   \n",
       "9    женат / замужем                 0      M   сотрудник     0   \n",
       "10   женат / замужем                 0      M   компаньон     0   \n",
       "11   женат / замужем                 0      F   сотрудник     0   \n",
       "12  гражданский брак                 1      M   пенсионер     0   \n",
       "\n",
       "     total_income                            purpose  \n",
       "0   253875.639453                      покупка жилья  \n",
       "1   112080.014102            приобретение автомобиля  \n",
       "2   145885.952297                      покупка жилья  \n",
       "3   267628.550329         дополнительное образование  \n",
       "4   158616.077870                    сыграть свадьбу  \n",
       "5   255763.565419                      покупка жилья  \n",
       "6   240525.971920                  операции с жильем  \n",
       "7   135823.934197                        образование  \n",
       "8    95856.832424              на проведение свадьбы  \n",
       "9   144425.938277            покупка жилья для семьи  \n",
       "10  113943.491460               покупка недвижимости  \n",
       "11   77069.234271  покупка коммерческой недвижимости  \n",
       "12            NaN                    сыграть свадьбу  "
      ]
     },
     "metadata": {},
     "output_type": "display_data"
    }
   ],
   "source": [
    "#Обработка артефактов\n",
    "#Судя по таблице, в колонке 'days_employed' данные в днях имеют отрицательное значение, \n",
    "#а положительные данные имеют неправдоподобно большое значение - следовательно, записаны в часах.\n",
    "df.loc[df['days_employed']>0, 'days_employed'] = df.loc[df['days_employed']>0, 'days_employed'] / 24\n",
    "df['days_employed'] = df['days_employed'].apply(abs)\n",
    "display(df.head(13))"
   ]
  },
  {
   "cell_type": "code",
   "execution_count": 24,
   "metadata": {},
   "outputs": [
    {
     "name": "stdout",
     "output_type": "stream",
     "text": [
      "children               0\n",
      "days_employed       2174\n",
      "dob_years              0\n",
      "education              0\n",
      "education_id           0\n",
      "family_status          0\n",
      "family_status_id       0\n",
      "gender                 0\n",
      "income_type            0\n",
      "debt                   0\n",
      "total_income           0\n",
      "purpose                0\n",
      "dtype: int64\n",
      "0        False\n",
      "1        False\n",
      "2        False\n",
      "3        False\n",
      "4        False\n",
      "         ...  \n",
      "21520    False\n",
      "21521    False\n",
      "21522    False\n",
      "21523    False\n",
      "21524    False\n",
      "Length: 21525, dtype: bool\n",
      "0        False\n",
      "1        False\n",
      "2        False\n",
      "3        False\n",
      "4        False\n",
      "         ...  \n",
      "21520    False\n",
      "21521    False\n",
      "21522    False\n",
      "21523    False\n",
      "21524    False\n",
      "Length: 21525, dtype: bool\n",
      "0        False\n",
      "1        False\n",
      "2        False\n",
      "3        False\n",
      "4        False\n",
      "         ...  \n",
      "21520    False\n",
      "21521    False\n",
      "21522    False\n",
      "21523    False\n",
      "21524    False\n",
      "Length: 21525, dtype: bool\n",
      "0        False\n",
      "1        False\n",
      "2        False\n",
      "3        False\n",
      "4        False\n",
      "         ...  \n",
      "21520    False\n",
      "21521    False\n",
      "21522    False\n",
      "21523    False\n",
      "21524    False\n",
      "Length: 21525, dtype: bool\n",
      "0        False\n",
      "1        False\n",
      "2        False\n",
      "3        False\n",
      "4        False\n",
      "         ...  \n",
      "21520    False\n",
      "21521    False\n",
      "21522    False\n",
      "21523    False\n",
      "21524    False\n",
      "Length: 21525, dtype: bool\n",
      "0        False\n",
      "1        False\n",
      "2        False\n",
      "3        False\n",
      "4        False\n",
      "         ...  \n",
      "21520    False\n",
      "21521    False\n",
      "21522    False\n",
      "21523    False\n",
      "21524    False\n",
      "Length: 21525, dtype: bool\n",
      "0        False\n",
      "1        False\n",
      "2        False\n",
      "3        False\n",
      "4        False\n",
      "         ...  \n",
      "21520    False\n",
      "21521    False\n",
      "21522    False\n",
      "21523    False\n",
      "21524    False\n",
      "Length: 21525, dtype: bool\n",
      "0        False\n",
      "1        False\n",
      "2        False\n",
      "3        False\n",
      "4        False\n",
      "         ...  \n",
      "21520    False\n",
      "21521    False\n",
      "21522    False\n",
      "21523    False\n",
      "21524    False\n",
      "Length: 21525, dtype: bool\n",
      "children               0\n",
      "days_employed       2174\n",
      "dob_years              0\n",
      "education              0\n",
      "education_id           0\n",
      "family_status          0\n",
      "family_status_id       0\n",
      "gender                 0\n",
      "income_type            0\n",
      "debt                   0\n",
      "total_income           0\n",
      "purpose                0\n",
      "dtype: int64\n"
     ]
    }
   ],
   "source": [
    "#Обработка пропусков медианным значением по группировке\n",
    "\n",
    "print(df.isna().sum())\n",
    "\n",
    "def fill_median_total(df):\n",
    "    income_medians = df.groupby('income_type').median()['total_income']\n",
    "    for income_type in income_medians.index:\n",
    "        change_ix = (df['income_type'] == income_type) & (df['total_income'].isna())\n",
    "        print(change_ix)\n",
    "        df.loc[change_ix, 'total_income'] = income_medians[income_type]    \n",
    "    return df.isna().sum()\n",
    "\n",
    "print(fill_median_total(df))"
   ]
  },
  {
   "cell_type": "code",
   "execution_count": 4,
   "metadata": {},
   "outputs": [
    {
     "name": "stdout",
     "output_type": "stream",
     "text": [
      "children            0\n",
      "days_employed       0\n",
      "dob_years           0\n",
      "education           0\n",
      "education_id        0\n",
      "family_status       0\n",
      "family_status_id    0\n",
      "gender              0\n",
      "income_type         0\n",
      "debt                0\n",
      "total_income        0\n",
      "purpose             0\n",
      "dtype: int64\n"
     ]
    }
   ],
   "source": [
    "def fill_median_type(df):\n",
    "    income_medians = df.groupby('income_type').median()['days_employed']\n",
    "    for income_type in income_medians.index:\n",
    "        change_ix = (df['income_type'] == income_type) & (df['days_employed'].isna())\n",
    "        df.loc[change_ix, 'days_employed'] = income_medians[income_type]    \n",
    "    return df.isna().sum()\n",
    "\n",
    "print(fill_median_type(df)) #проверка отсутствия  пропусков в данных "
   ]
  },
  {
   "cell_type": "markdown",
   "metadata": {},
   "source": [
    "### Вывод\n",
    "\n",
    "Произведена обработка артефактов - отрицательные значения заменены на положительные, данные в часах переведены в дни. Найденные пропуски могут помешать проверке только одной из четырех гипотез. Однако, пропуски составляют лишь одну десятую часть всех данных. В данном случае заменила пропуски на значения медианы по группировке income_type. Предполагаемые причины пропусков точно установить в условиях тренажера невозможно. Но можно предположить, что причина пропусков значений - ошибка в выгрузке данных. Так как такую информацию, как дни стажа и среднемесячный доход, невозможно не указать при получении кредита. "
   ]
  },
  {
   "cell_type": "markdown",
   "metadata": {},
   "source": [
    "### Замена типа данных"
   ]
  },
  {
   "cell_type": "code",
   "execution_count": 6,
   "metadata": {},
   "outputs": [
    {
     "name": "stdout",
     "output_type": "stream",
     "text": [
      "<class 'pandas.core.frame.DataFrame'>\n",
      "RangeIndex: 21525 entries, 0 to 21524\n",
      "Data columns (total 13 columns):\n",
      " #   Column            Non-Null Count  Dtype \n",
      "---  ------            --------------  ----- \n",
      " 0   children          21525 non-null  int64 \n",
      " 1   days_employed     21525 non-null  int64 \n",
      " 2   dob_years         21525 non-null  int64 \n",
      " 3   education         21525 non-null  object\n",
      " 4   education_id      21525 non-null  int64 \n",
      " 5   family_status     21525 non-null  object\n",
      " 6   family_status_id  21525 non-null  int64 \n",
      " 7   gender            21525 non-null  object\n",
      " 8   income_type       21525 non-null  object\n",
      " 9   debt              21525 non-null  int64 \n",
      " 10  total_income      21525 non-null  int64 \n",
      " 11  purpose           21525 non-null  object\n",
      " 12  income_type_id    21525 non-null  int64 \n",
      "dtypes: int64(8), object(5)\n",
      "memory usage: 2.1+ MB\n"
     ]
    }
   ],
   "source": [
    "columns_to_replace = ['days_employed', 'total_income']\n",
    "for column in columns_to_replace:\n",
    "    df[column] = df[column].astype('int')\n",
    "df.info() #проверка типов данных после обработки"
   ]
  },
  {
   "cell_type": "markdown",
   "metadata": {},
   "source": [
    "### Вывод\n",
    "\n",
    "Произведена замена вещественного типа данных на целочисленный методом 'astype'."
   ]
  },
  {
   "cell_type": "markdown",
   "metadata": {},
   "source": [
    "### Обработка дубликатов"
   ]
  },
  {
   "cell_type": "code",
   "execution_count": 7,
   "metadata": {},
   "outputs": [
    {
     "name": "stdout",
     "output_type": "stream",
     "text": [
      "Количество дубликатов: 54\n",
      "Количество дубликатов после приведения к нижнему регистру: 71\n",
      "Количество дубликатов после удаления: 0\n"
     ]
    }
   ],
   "source": [
    "print('Количество дубликатов:', df.duplicated().sum())  #получение колличества дубликатов\n",
    "\n",
    "df['education'] = df['education'].str.lower() #приведение к нижнему регистру в столбце\n",
    "\n",
    "print('Количество дубликатов после приведения к нижнему регистру:', df.duplicated().sum()) #повторное получение колличества дубликатов, видим, что оно увеличилось \n",
    "\n",
    "df = df.drop_duplicates().reset_index(drop = True)\n",
    "print('Количество дубликатов после удаления:', df.duplicated().sum()) #проверка, что все дубликаты удалены"
   ]
  },
  {
   "cell_type": "markdown",
   "metadata": {},
   "source": [
    "### Вывод\n",
    "\n",
    "В ходе удаления явных дубликатов выяснено, что при приведении к нижнему регистру значений в столбце 'education', количество дубликатов увеличилось. Явные дубликаты удалены методом drop_duplicates() с перезаписью индексов. На мой взгляд, причиной появления дубликатов в данном случае, может быть неверное соединение данных из разных источников. Эта гипотеза подкрепляется тем, что ранее мы видели в столбце со стажем, что одна часть данных имеет отрицательное значение и записана в днях, а другая положительное, но записана в часах. Очевидно слияние минимум из 2-х источников."
   ]
  },
  {
   "cell_type": "markdown",
   "metadata": {},
   "source": [
    "### Лемматизация"
   ]
  },
  {
   "cell_type": "code",
   "execution_count": 8,
   "metadata": {
    "scrolled": true
   },
   "outputs": [
    {
     "data": {
      "text/plain": [
       "Counter({'автомобиль': 9,\n",
       "         ' ': 96,\n",
       "         'высокий': 3,\n",
       "         'образование': 9,\n",
       "         'дополнительный': 2,\n",
       "         'жилье': 7,\n",
       "         'заниматься': 2,\n",
       "         'на': 4,\n",
       "         'покупка': 10,\n",
       "         'подержать': 2,\n",
       "         'свой': 4,\n",
       "         'проведение': 1,\n",
       "         'свадьба': 3,\n",
       "         'недвижимость': 10,\n",
       "         'операция': 4,\n",
       "         'с': 5,\n",
       "         'коммерческий': 2,\n",
       "         'со': 1,\n",
       "         'жилой': 2,\n",
       "         'для': 2,\n",
       "         'сдача': 1,\n",
       "         'семья': 1,\n",
       "         'получение': 3,\n",
       "         'приобретение': 1,\n",
       "         'профильный': 1,\n",
       "         'ремонт': 1,\n",
       "         'сделка': 2,\n",
       "         'строительство': 3,\n",
       "         'собственный': 1,\n",
       "         'сыграть': 1,\n",
       "         '\\n': 1})"
      ]
     },
     "metadata": {},
     "output_type": "display_data"
    },
    {
     "data": {
      "text/html": [
       "<div>\n",
       "<style scoped>\n",
       "    .dataframe tbody tr th:only-of-type {\n",
       "        vertical-align: middle;\n",
       "    }\n",
       "\n",
       "    .dataframe tbody tr th {\n",
       "        vertical-align: top;\n",
       "    }\n",
       "\n",
       "    .dataframe thead th {\n",
       "        text-align: right;\n",
       "    }\n",
       "</style>\n",
       "<table border=\"1\" class=\"dataframe\">\n",
       "  <thead>\n",
       "    <tr style=\"text-align: right;\">\n",
       "      <th></th>\n",
       "      <th>children</th>\n",
       "      <th>days_employed</th>\n",
       "      <th>dob_years</th>\n",
       "      <th>education</th>\n",
       "      <th>education_id</th>\n",
       "      <th>family_status</th>\n",
       "      <th>family_status_id</th>\n",
       "      <th>gender</th>\n",
       "      <th>income_type</th>\n",
       "      <th>debt</th>\n",
       "      <th>total_income</th>\n",
       "      <th>purpose</th>\n",
       "      <th>income_type_id</th>\n",
       "      <th>category_purpose</th>\n",
       "    </tr>\n",
       "  </thead>\n",
       "  <tbody>\n",
       "    <tr>\n",
       "      <th>0</th>\n",
       "      <td>1</td>\n",
       "      <td>8437</td>\n",
       "      <td>42</td>\n",
       "      <td>высшее</td>\n",
       "      <td>0</td>\n",
       "      <td>женат / замужем</td>\n",
       "      <td>0</td>\n",
       "      <td>F</td>\n",
       "      <td>сотрудник</td>\n",
       "      <td>0</td>\n",
       "      <td>253875</td>\n",
       "      <td>покупка жилья</td>\n",
       "      <td>5</td>\n",
       "      <td>недвижимость</td>\n",
       "    </tr>\n",
       "    <tr>\n",
       "      <th>1</th>\n",
       "      <td>1</td>\n",
       "      <td>4024</td>\n",
       "      <td>36</td>\n",
       "      <td>среднее</td>\n",
       "      <td>1</td>\n",
       "      <td>женат / замужем</td>\n",
       "      <td>0</td>\n",
       "      <td>F</td>\n",
       "      <td>сотрудник</td>\n",
       "      <td>0</td>\n",
       "      <td>112080</td>\n",
       "      <td>приобретение автомобиля</td>\n",
       "      <td>5</td>\n",
       "      <td>автомобиль</td>\n",
       "    </tr>\n",
       "    <tr>\n",
       "      <th>2</th>\n",
       "      <td>0</td>\n",
       "      <td>5623</td>\n",
       "      <td>33</td>\n",
       "      <td>среднее</td>\n",
       "      <td>1</td>\n",
       "      <td>женат / замужем</td>\n",
       "      <td>0</td>\n",
       "      <td>M</td>\n",
       "      <td>сотрудник</td>\n",
       "      <td>0</td>\n",
       "      <td>145885</td>\n",
       "      <td>покупка жилья</td>\n",
       "      <td>5</td>\n",
       "      <td>недвижимость</td>\n",
       "    </tr>\n",
       "    <tr>\n",
       "      <th>3</th>\n",
       "      <td>3</td>\n",
       "      <td>4124</td>\n",
       "      <td>32</td>\n",
       "      <td>среднее</td>\n",
       "      <td>1</td>\n",
       "      <td>женат / замужем</td>\n",
       "      <td>0</td>\n",
       "      <td>M</td>\n",
       "      <td>сотрудник</td>\n",
       "      <td>0</td>\n",
       "      <td>267628</td>\n",
       "      <td>дополнительное образование</td>\n",
       "      <td>5</td>\n",
       "      <td>образование</td>\n",
       "    </tr>\n",
       "    <tr>\n",
       "      <th>4</th>\n",
       "      <td>0</td>\n",
       "      <td>14177</td>\n",
       "      <td>53</td>\n",
       "      <td>среднее</td>\n",
       "      <td>1</td>\n",
       "      <td>гражданский брак</td>\n",
       "      <td>1</td>\n",
       "      <td>F</td>\n",
       "      <td>пенсионер</td>\n",
       "      <td>0</td>\n",
       "      <td>158616</td>\n",
       "      <td>сыграть свадьбу</td>\n",
       "      <td>2</td>\n",
       "      <td>свадьба</td>\n",
       "    </tr>\n",
       "  </tbody>\n",
       "</table>\n",
       "</div>"
      ],
      "text/plain": [
       "   children  days_employed  dob_years education  education_id  \\\n",
       "0         1           8437         42    высшее             0   \n",
       "1         1           4024         36   среднее             1   \n",
       "2         0           5623         33   среднее             1   \n",
       "3         3           4124         32   среднее             1   \n",
       "4         0          14177         53   среднее             1   \n",
       "\n",
       "      family_status  family_status_id gender income_type  debt  total_income  \\\n",
       "0   женат / замужем                 0      F   сотрудник     0        253875   \n",
       "1   женат / замужем                 0      F   сотрудник     0        112080   \n",
       "2   женат / замужем                 0      M   сотрудник     0        145885   \n",
       "3   женат / замужем                 0      M   сотрудник     0        267628   \n",
       "4  гражданский брак                 1      F   пенсионер     0        158616   \n",
       "\n",
       "                      purpose  income_type_id category_purpose  \n",
       "0               покупка жилья               5     недвижимость  \n",
       "1     приобретение автомобиля               5       автомобиль  \n",
       "2               покупка жилья               5     недвижимость  \n",
       "3  дополнительное образование               5      образование  \n",
       "4             сыграть свадьбу               2          свадьба  "
      ]
     },
     "metadata": {},
     "output_type": "display_data"
    },
    {
     "data": {
      "text/html": [
       "<div>\n",
       "<style scoped>\n",
       "    .dataframe tbody tr th:only-of-type {\n",
       "        vertical-align: middle;\n",
       "    }\n",
       "\n",
       "    .dataframe tbody tr th {\n",
       "        vertical-align: top;\n",
       "    }\n",
       "\n",
       "    .dataframe thead th {\n",
       "        text-align: right;\n",
       "    }\n",
       "</style>\n",
       "<table border=\"1\" class=\"dataframe\">\n",
       "  <thead>\n",
       "    <tr style=\"text-align: right;\">\n",
       "      <th></th>\n",
       "      <th>category_purpose</th>\n",
       "      <th>%</th>\n",
       "    </tr>\n",
       "    <tr>\n",
       "      <th>category_purpose</th>\n",
       "      <th></th>\n",
       "      <th></th>\n",
       "    </tr>\n",
       "  </thead>\n",
       "  <tbody>\n",
       "    <tr>\n",
       "      <th>автомобиль</th>\n",
       "      <td>4306</td>\n",
       "      <td>20.070849</td>\n",
       "    </tr>\n",
       "    <tr>\n",
       "      <th>недвижимость</th>\n",
       "      <td>10811</td>\n",
       "      <td>50.391535</td>\n",
       "    </tr>\n",
       "    <tr>\n",
       "      <th>образование</th>\n",
       "      <td>4013</td>\n",
       "      <td>18.705137</td>\n",
       "    </tr>\n",
       "    <tr>\n",
       "      <th>свадьба</th>\n",
       "      <td>2324</td>\n",
       "      <td>10.832479</td>\n",
       "    </tr>\n",
       "  </tbody>\n",
       "</table>\n",
       "</div>"
      ],
      "text/plain": [
       "                  category_purpose          %\n",
       "category_purpose                             \n",
       "автомобиль                    4306  20.070849\n",
       "недвижимость                 10811  50.391535\n",
       "образование                   4013  18.705137\n",
       "свадьба                       2324  10.832479"
      ]
     },
     "metadata": {},
     "output_type": "display_data"
    }
   ],
   "source": [
    "#Получение строки с уникальными значениями\n",
    "uni = df['purpose'].sort_values().unique()\n",
    "uni_str = ' '.join(uni)\n",
    "\n",
    "m = Mystem()\n",
    "lemmas = m.lemmatize(uni_str)\n",
    "\n",
    "display(Counter(lemmas))\n",
    "    \n",
    "def categorize(purpose):\n",
    "    lemmas = m.lemmatize(purpose)\n",
    "    \n",
    "    if 'автомобиль' in lemmas:\n",
    "        return 'автомобиль'\n",
    "    if 'образование' in lemmas:\n",
    "        return 'образование'\n",
    "    if 'жилье' in lemmas or 'недвижимость' in lemmas:\n",
    "        return 'недвижимость'\n",
    "    if 'свадьба' in lemmas:\n",
    "        return 'свадьба'\n",
    "    return 'прочее'\n",
    "\n",
    "\n",
    "df['category_purpose'] = df['purpose'].apply(categorize)\n",
    "display(df.head())\n",
    "#print(df['category'].sort_values().unique())\n",
    "\n",
    "report = df.groupby('category_purpose').agg({'category_purpose': 'count'})\n",
    "report['%'] = (report['category_purpose']/report['category_purpose'].sum())*100\n",
    "display(report)"
   ]
  },
  {
   "cell_type": "markdown",
   "metadata": {},
   "source": [
    "### Вывод\n",
    "\n",
    "Проведена лемматизация столбца с целью кредита, категории цели кредита выведены в отдельный столбец. Получена информация, что больше всего кредитов берут для покупки недвижимости. Далее идут, практически в равных долях, кредиты на покупку автомобиля и образование, меньше всего берут кредиты на свадьбы. "
   ]
  },
  {
   "cell_type": "markdown",
   "metadata": {},
   "source": [
    "### Категоризация данных"
   ]
  },
  {
   "cell_type": "code",
   "execution_count": 9,
   "metadata": {
    "scrolled": true
   },
   "outputs": [
    {
     "data": {
      "text/html": [
       "<div>\n",
       "<style scoped>\n",
       "    .dataframe tbody tr th:only-of-type {\n",
       "        vertical-align: middle;\n",
       "    }\n",
       "\n",
       "    .dataframe tbody tr th {\n",
       "        vertical-align: top;\n",
       "    }\n",
       "\n",
       "    .dataframe thead th {\n",
       "        text-align: right;\n",
       "    }\n",
       "</style>\n",
       "<table border=\"1\" class=\"dataframe\">\n",
       "  <thead>\n",
       "    <tr style=\"text-align: right;\">\n",
       "      <th></th>\n",
       "      <th>children</th>\n",
       "    </tr>\n",
       "  </thead>\n",
       "  <tbody>\n",
       "    <tr>\n",
       "      <th>0</th>\n",
       "      <td>1</td>\n",
       "    </tr>\n",
       "    <tr>\n",
       "      <th>2</th>\n",
       "      <td>0</td>\n",
       "    </tr>\n",
       "    <tr>\n",
       "      <th>3</th>\n",
       "      <td>3</td>\n",
       "    </tr>\n",
       "    <tr>\n",
       "      <th>8</th>\n",
       "      <td>2</td>\n",
       "    </tr>\n",
       "    <tr>\n",
       "      <th>291</th>\n",
       "      <td>-1</td>\n",
       "    </tr>\n",
       "    <tr>\n",
       "      <th>294</th>\n",
       "      <td>4</td>\n",
       "    </tr>\n",
       "    <tr>\n",
       "      <th>606</th>\n",
       "      <td>20</td>\n",
       "    </tr>\n",
       "    <tr>\n",
       "      <th>3977</th>\n",
       "      <td>5</td>\n",
       "    </tr>\n",
       "  </tbody>\n",
       "</table>\n",
       "</div>"
      ],
      "text/plain": [
       "      children\n",
       "0            1\n",
       "2            0\n",
       "3            3\n",
       "8            2\n",
       "291         -1\n",
       "294          4\n",
       "606         20\n",
       "3977         5"
      ]
     },
     "metadata": {},
     "output_type": "display_data"
    },
    {
     "data": {
      "text/html": [
       "<div>\n",
       "<style scoped>\n",
       "    .dataframe tbody tr th:only-of-type {\n",
       "        vertical-align: middle;\n",
       "    }\n",
       "\n",
       "    .dataframe tbody tr th {\n",
       "        vertical-align: top;\n",
       "    }\n",
       "\n",
       "    .dataframe thead th {\n",
       "        text-align: right;\n",
       "    }\n",
       "</style>\n",
       "<table border=\"1\" class=\"dataframe\">\n",
       "  <thead>\n",
       "    <tr style=\"text-align: right;\">\n",
       "      <th></th>\n",
       "      <th>children</th>\n",
       "    </tr>\n",
       "  </thead>\n",
       "  <tbody>\n",
       "    <tr>\n",
       "      <th>0</th>\n",
       "      <td>1</td>\n",
       "    </tr>\n",
       "    <tr>\n",
       "      <th>2</th>\n",
       "      <td>0</td>\n",
       "    </tr>\n",
       "    <tr>\n",
       "      <th>3</th>\n",
       "      <td>3</td>\n",
       "    </tr>\n",
       "    <tr>\n",
       "      <th>8</th>\n",
       "      <td>2</td>\n",
       "    </tr>\n",
       "    <tr>\n",
       "      <th>294</th>\n",
       "      <td>4</td>\n",
       "    </tr>\n",
       "    <tr>\n",
       "      <th>3977</th>\n",
       "      <td>5</td>\n",
       "    </tr>\n",
       "  </tbody>\n",
       "</table>\n",
       "</div>"
      ],
      "text/plain": [
       "      children\n",
       "0            1\n",
       "2            0\n",
       "3            3\n",
       "8            2\n",
       "294          4\n",
       "3977         5"
      ]
     },
     "metadata": {},
     "output_type": "display_data"
    },
    {
     "data": {
      "text/html": [
       "<div>\n",
       "<style scoped>\n",
       "    .dataframe tbody tr th:only-of-type {\n",
       "        vertical-align: middle;\n",
       "    }\n",
       "\n",
       "    .dataframe tbody tr th {\n",
       "        vertical-align: top;\n",
       "    }\n",
       "\n",
       "    .dataframe thead th {\n",
       "        text-align: right;\n",
       "    }\n",
       "</style>\n",
       "<table border=\"1\" class=\"dataframe\">\n",
       "  <thead>\n",
       "    <tr style=\"text-align: right;\">\n",
       "      <th></th>\n",
       "      <th>children</th>\n",
       "      <th>category_chi</th>\n",
       "    </tr>\n",
       "  </thead>\n",
       "  <tbody>\n",
       "    <tr>\n",
       "      <th>0</th>\n",
       "      <td>1</td>\n",
       "      <td>есть дети</td>\n",
       "    </tr>\n",
       "    <tr>\n",
       "      <th>2</th>\n",
       "      <td>0</td>\n",
       "      <td>нет детей</td>\n",
       "    </tr>\n",
       "    <tr>\n",
       "      <th>3</th>\n",
       "      <td>3</td>\n",
       "      <td>многодетные</td>\n",
       "    </tr>\n",
       "    <tr>\n",
       "      <th>8</th>\n",
       "      <td>2</td>\n",
       "      <td>есть дети</td>\n",
       "    </tr>\n",
       "    <tr>\n",
       "      <th>294</th>\n",
       "      <td>4</td>\n",
       "      <td>многодетные</td>\n",
       "    </tr>\n",
       "    <tr>\n",
       "      <th>3977</th>\n",
       "      <td>5</td>\n",
       "      <td>многодетные</td>\n",
       "    </tr>\n",
       "  </tbody>\n",
       "</table>\n",
       "</div>"
      ],
      "text/plain": [
       "      children category_chi\n",
       "0            1    есть дети\n",
       "2            0    нет детей\n",
       "3            3  многодетные\n",
       "8            2    есть дети\n",
       "294          4  многодетные\n",
       "3977         5  многодетные"
      ]
     },
     "metadata": {},
     "output_type": "display_data"
    },
    {
     "data": {
      "text/html": [
       "<div>\n",
       "<style scoped>\n",
       "    .dataframe tbody tr th:only-of-type {\n",
       "        vertical-align: middle;\n",
       "    }\n",
       "\n",
       "    .dataframe tbody tr th {\n",
       "        vertical-align: top;\n",
       "    }\n",
       "\n",
       "    .dataframe thead th {\n",
       "        text-align: right;\n",
       "    }\n",
       "</style>\n",
       "<table border=\"1\" class=\"dataframe\">\n",
       "  <thead>\n",
       "    <tr style=\"text-align: right;\">\n",
       "      <th></th>\n",
       "      <th>children</th>\n",
       "      <th>days_employed</th>\n",
       "      <th>dob_years</th>\n",
       "      <th>education</th>\n",
       "      <th>education_id</th>\n",
       "      <th>family_status</th>\n",
       "      <th>family_status_id</th>\n",
       "      <th>gender</th>\n",
       "      <th>income_type</th>\n",
       "      <th>debt</th>\n",
       "      <th>total_income</th>\n",
       "      <th>purpose</th>\n",
       "      <th>income_type_id</th>\n",
       "      <th>category_purpose</th>\n",
       "      <th>category_chi</th>\n",
       "    </tr>\n",
       "  </thead>\n",
       "  <tbody>\n",
       "    <tr>\n",
       "      <th>0</th>\n",
       "      <td>1</td>\n",
       "      <td>8437</td>\n",
       "      <td>42</td>\n",
       "      <td>высшее</td>\n",
       "      <td>0</td>\n",
       "      <td>женат / замужем</td>\n",
       "      <td>0</td>\n",
       "      <td>F</td>\n",
       "      <td>сотрудник</td>\n",
       "      <td>0</td>\n",
       "      <td>253875</td>\n",
       "      <td>покупка жилья</td>\n",
       "      <td>5</td>\n",
       "      <td>недвижимость</td>\n",
       "      <td>есть дети</td>\n",
       "    </tr>\n",
       "    <tr>\n",
       "      <th>1</th>\n",
       "      <td>1</td>\n",
       "      <td>4024</td>\n",
       "      <td>36</td>\n",
       "      <td>среднее</td>\n",
       "      <td>1</td>\n",
       "      <td>женат / замужем</td>\n",
       "      <td>0</td>\n",
       "      <td>F</td>\n",
       "      <td>сотрудник</td>\n",
       "      <td>0</td>\n",
       "      <td>112080</td>\n",
       "      <td>приобретение автомобиля</td>\n",
       "      <td>5</td>\n",
       "      <td>автомобиль</td>\n",
       "      <td>есть дети</td>\n",
       "    </tr>\n",
       "    <tr>\n",
       "      <th>2</th>\n",
       "      <td>0</td>\n",
       "      <td>5623</td>\n",
       "      <td>33</td>\n",
       "      <td>среднее</td>\n",
       "      <td>1</td>\n",
       "      <td>женат / замужем</td>\n",
       "      <td>0</td>\n",
       "      <td>M</td>\n",
       "      <td>сотрудник</td>\n",
       "      <td>0</td>\n",
       "      <td>145885</td>\n",
       "      <td>покупка жилья</td>\n",
       "      <td>5</td>\n",
       "      <td>недвижимость</td>\n",
       "      <td>нет детей</td>\n",
       "    </tr>\n",
       "    <tr>\n",
       "      <th>3</th>\n",
       "      <td>3</td>\n",
       "      <td>4124</td>\n",
       "      <td>32</td>\n",
       "      <td>среднее</td>\n",
       "      <td>1</td>\n",
       "      <td>женат / замужем</td>\n",
       "      <td>0</td>\n",
       "      <td>M</td>\n",
       "      <td>сотрудник</td>\n",
       "      <td>0</td>\n",
       "      <td>267628</td>\n",
       "      <td>дополнительное образование</td>\n",
       "      <td>5</td>\n",
       "      <td>образование</td>\n",
       "      <td>многодетные</td>\n",
       "    </tr>\n",
       "    <tr>\n",
       "      <th>4</th>\n",
       "      <td>0</td>\n",
       "      <td>14177</td>\n",
       "      <td>53</td>\n",
       "      <td>среднее</td>\n",
       "      <td>1</td>\n",
       "      <td>гражданский брак</td>\n",
       "      <td>1</td>\n",
       "      <td>F</td>\n",
       "      <td>пенсионер</td>\n",
       "      <td>0</td>\n",
       "      <td>158616</td>\n",
       "      <td>сыграть свадьбу</td>\n",
       "      <td>2</td>\n",
       "      <td>свадьба</td>\n",
       "      <td>нет детей</td>\n",
       "    </tr>\n",
       "  </tbody>\n",
       "</table>\n",
       "</div>"
      ],
      "text/plain": [
       "   children  days_employed  dob_years education  education_id  \\\n",
       "0         1           8437         42    высшее             0   \n",
       "1         1           4024         36   среднее             1   \n",
       "2         0           5623         33   среднее             1   \n",
       "3         3           4124         32   среднее             1   \n",
       "4         0          14177         53   среднее             1   \n",
       "\n",
       "      family_status  family_status_id gender income_type  debt  total_income  \\\n",
       "0   женат / замужем                 0      F   сотрудник     0        253875   \n",
       "1   женат / замужем                 0      F   сотрудник     0        112080   \n",
       "2   женат / замужем                 0      M   сотрудник     0        145885   \n",
       "3   женат / замужем                 0      M   сотрудник     0        267628   \n",
       "4  гражданский брак                 1      F   пенсионер     0        158616   \n",
       "\n",
       "                      purpose  income_type_id category_purpose category_chi  \n",
       "0               покупка жилья               5     недвижимость    есть дети  \n",
       "1     приобретение автомобиля               5       автомобиль    есть дети  \n",
       "2               покупка жилья               5     недвижимость    нет детей  \n",
       "3  дополнительное образование               5      образование  многодетные  \n",
       "4             сыграть свадьбу               2          свадьба    нет детей  "
      ]
     },
     "metadata": {},
     "output_type": "display_data"
    }
   ],
   "source": [
    "children = df[['children']].drop_duplicates()\n",
    "display(children)\n",
    "\n",
    "#замена непровдаподобных значений\n",
    "df.loc[df['children'] == -1, 'children'] = 1 \n",
    "df.loc[df['children'] == 20, 'children'] = 2\n",
    "        \n",
    "children = df[['children']].drop_duplicates()\n",
    "display(children)\n",
    "\n",
    "#категоризация\n",
    "def category_children(child):\n",
    "    if child == 0:\n",
    "        return 'нет детей'\n",
    "    if child < 3:\n",
    "        return 'есть дети'\n",
    "    return 'многодетные'\n",
    "\n",
    "children['category_chi'] = df['children'].apply(category_children)\n",
    "display(children)\n",
    "\n",
    "df['category_chi'] = df['children'].apply(category_children)\n",
    "display(df.head())"
   ]
  },
  {
   "cell_type": "code",
   "execution_count": 10,
   "metadata": {
    "scrolled": true
   },
   "outputs": [
    {
     "data": {
      "text/html": [
       "<div>\n",
       "<style scoped>\n",
       "    .dataframe tbody tr th:only-of-type {\n",
       "        vertical-align: middle;\n",
       "    }\n",
       "\n",
       "    .dataframe tbody tr th {\n",
       "        vertical-align: top;\n",
       "    }\n",
       "\n",
       "    .dataframe thead th {\n",
       "        text-align: right;\n",
       "    }\n",
       "</style>\n",
       "<table border=\"1\" class=\"dataframe\">\n",
       "  <thead>\n",
       "    <tr style=\"text-align: right;\">\n",
       "      <th></th>\n",
       "      <th>total_income</th>\n",
       "    </tr>\n",
       "  </thead>\n",
       "  <tbody>\n",
       "    <tr>\n",
       "      <th>0</th>\n",
       "      <td>253875</td>\n",
       "    </tr>\n",
       "    <tr>\n",
       "      <th>1</th>\n",
       "      <td>112080</td>\n",
       "    </tr>\n",
       "    <tr>\n",
       "      <th>2</th>\n",
       "      <td>145885</td>\n",
       "    </tr>\n",
       "    <tr>\n",
       "      <th>3</th>\n",
       "      <td>267628</td>\n",
       "    </tr>\n",
       "    <tr>\n",
       "      <th>4</th>\n",
       "      <td>158616</td>\n",
       "    </tr>\n",
       "    <tr>\n",
       "      <th>...</th>\n",
       "      <td>...</td>\n",
       "    </tr>\n",
       "    <tr>\n",
       "      <th>21449</th>\n",
       "      <td>224791</td>\n",
       "    </tr>\n",
       "    <tr>\n",
       "      <th>21450</th>\n",
       "      <td>155999</td>\n",
       "    </tr>\n",
       "    <tr>\n",
       "      <th>21451</th>\n",
       "      <td>89672</td>\n",
       "    </tr>\n",
       "    <tr>\n",
       "      <th>21452</th>\n",
       "      <td>244093</td>\n",
       "    </tr>\n",
       "    <tr>\n",
       "      <th>21453</th>\n",
       "      <td>82047</td>\n",
       "    </tr>\n",
       "  </tbody>\n",
       "</table>\n",
       "<p>18608 rows × 1 columns</p>\n",
       "</div>"
      ],
      "text/plain": [
       "       total_income\n",
       "0            253875\n",
       "1            112080\n",
       "2            145885\n",
       "3            267628\n",
       "4            158616\n",
       "...             ...\n",
       "21449        224791\n",
       "21450        155999\n",
       "21451         89672\n",
       "21452        244093\n",
       "21453         82047\n",
       "\n",
       "[18608 rows x 1 columns]"
      ]
     },
     "metadata": {},
     "output_type": "display_data"
    },
    {
     "name": "stdout",
     "output_type": "stream",
     "text": [
      "20667\n",
      "142594.0\n",
      "2265604\n"
     ]
    },
    {
     "data": {
      "text/html": [
       "<div>\n",
       "<style scoped>\n",
       "    .dataframe tbody tr th:only-of-type {\n",
       "        vertical-align: middle;\n",
       "    }\n",
       "\n",
       "    .dataframe tbody tr th {\n",
       "        vertical-align: top;\n",
       "    }\n",
       "\n",
       "    .dataframe thead th {\n",
       "        text-align: right;\n",
       "    }\n",
       "</style>\n",
       "<table border=\"1\" class=\"dataframe\">\n",
       "  <thead>\n",
       "    <tr style=\"text-align: right;\">\n",
       "      <th></th>\n",
       "      <th>total_income</th>\n",
       "    </tr>\n",
       "  </thead>\n",
       "  <tbody>\n",
       "    <tr>\n",
       "      <th>0</th>\n",
       "      <td>253875</td>\n",
       "    </tr>\n",
       "    <tr>\n",
       "      <th>1</th>\n",
       "      <td>112080</td>\n",
       "    </tr>\n",
       "    <tr>\n",
       "      <th>2</th>\n",
       "      <td>145885</td>\n",
       "    </tr>\n",
       "    <tr>\n",
       "      <th>3</th>\n",
       "      <td>267628</td>\n",
       "    </tr>\n",
       "    <tr>\n",
       "      <th>4</th>\n",
       "      <td>158616</td>\n",
       "    </tr>\n",
       "    <tr>\n",
       "      <th>...</th>\n",
       "      <td>...</td>\n",
       "    </tr>\n",
       "    <tr>\n",
       "      <th>21449</th>\n",
       "      <td>224791</td>\n",
       "    </tr>\n",
       "    <tr>\n",
       "      <th>21450</th>\n",
       "      <td>155999</td>\n",
       "    </tr>\n",
       "    <tr>\n",
       "      <th>21451</th>\n",
       "      <td>89672</td>\n",
       "    </tr>\n",
       "    <tr>\n",
       "      <th>21452</th>\n",
       "      <td>244093</td>\n",
       "    </tr>\n",
       "    <tr>\n",
       "      <th>21453</th>\n",
       "      <td>82047</td>\n",
       "    </tr>\n",
       "  </tbody>\n",
       "</table>\n",
       "<p>18608 rows × 1 columns</p>\n",
       "</div>"
      ],
      "text/plain": [
       "       total_income\n",
       "0            253875\n",
       "1            112080\n",
       "2            145885\n",
       "3            267628\n",
       "4            158616\n",
       "...             ...\n",
       "21449        224791\n",
       "21450        155999\n",
       "21451         89672\n",
       "21452        244093\n",
       "21453         82047\n",
       "\n",
       "[18608 rows x 1 columns]"
      ]
     },
     "metadata": {},
     "output_type": "display_data"
    },
    {
     "data": {
      "text/html": [
       "<div>\n",
       "<style scoped>\n",
       "    .dataframe tbody tr th:only-of-type {\n",
       "        vertical-align: middle;\n",
       "    }\n",
       "\n",
       "    .dataframe tbody tr th {\n",
       "        vertical-align: top;\n",
       "    }\n",
       "\n",
       "    .dataframe thead th {\n",
       "        text-align: right;\n",
       "    }\n",
       "</style>\n",
       "<table border=\"1\" class=\"dataframe\">\n",
       "  <thead>\n",
       "    <tr style=\"text-align: right;\">\n",
       "      <th></th>\n",
       "      <th>children</th>\n",
       "      <th>days_employed</th>\n",
       "      <th>dob_years</th>\n",
       "      <th>education</th>\n",
       "      <th>education_id</th>\n",
       "      <th>family_status</th>\n",
       "      <th>family_status_id</th>\n",
       "      <th>gender</th>\n",
       "      <th>income_type</th>\n",
       "      <th>debt</th>\n",
       "      <th>total_income</th>\n",
       "      <th>purpose</th>\n",
       "      <th>income_type_id</th>\n",
       "      <th>category_purpose</th>\n",
       "      <th>category_chi</th>\n",
       "      <th>category_income</th>\n",
       "    </tr>\n",
       "  </thead>\n",
       "  <tbody>\n",
       "    <tr>\n",
       "      <th>0</th>\n",
       "      <td>1</td>\n",
       "      <td>8437</td>\n",
       "      <td>42</td>\n",
       "      <td>высшее</td>\n",
       "      <td>0</td>\n",
       "      <td>женат / замужем</td>\n",
       "      <td>0</td>\n",
       "      <td>F</td>\n",
       "      <td>сотрудник</td>\n",
       "      <td>0</td>\n",
       "      <td>253875</td>\n",
       "      <td>покупка жилья</td>\n",
       "      <td>5</td>\n",
       "      <td>недвижимость</td>\n",
       "      <td>есть дети</td>\n",
       "      <td>обеспеченныe</td>\n",
       "    </tr>\n",
       "    <tr>\n",
       "      <th>1</th>\n",
       "      <td>1</td>\n",
       "      <td>4024</td>\n",
       "      <td>36</td>\n",
       "      <td>среднее</td>\n",
       "      <td>1</td>\n",
       "      <td>женат / замужем</td>\n",
       "      <td>0</td>\n",
       "      <td>F</td>\n",
       "      <td>сотрудник</td>\n",
       "      <td>0</td>\n",
       "      <td>112080</td>\n",
       "      <td>приобретение автомобиля</td>\n",
       "      <td>5</td>\n",
       "      <td>автомобиль</td>\n",
       "      <td>есть дети</td>\n",
       "      <td>нижний средний</td>\n",
       "    </tr>\n",
       "    <tr>\n",
       "      <th>2</th>\n",
       "      <td>0</td>\n",
       "      <td>5623</td>\n",
       "      <td>33</td>\n",
       "      <td>среднее</td>\n",
       "      <td>1</td>\n",
       "      <td>женат / замужем</td>\n",
       "      <td>0</td>\n",
       "      <td>M</td>\n",
       "      <td>сотрудник</td>\n",
       "      <td>0</td>\n",
       "      <td>145885</td>\n",
       "      <td>покупка жилья</td>\n",
       "      <td>5</td>\n",
       "      <td>недвижимость</td>\n",
       "      <td>нет детей</td>\n",
       "      <td>нижний средний</td>\n",
       "    </tr>\n",
       "    <tr>\n",
       "      <th>3</th>\n",
       "      <td>3</td>\n",
       "      <td>4124</td>\n",
       "      <td>32</td>\n",
       "      <td>среднее</td>\n",
       "      <td>1</td>\n",
       "      <td>женат / замужем</td>\n",
       "      <td>0</td>\n",
       "      <td>M</td>\n",
       "      <td>сотрудник</td>\n",
       "      <td>0</td>\n",
       "      <td>267628</td>\n",
       "      <td>дополнительное образование</td>\n",
       "      <td>5</td>\n",
       "      <td>образование</td>\n",
       "      <td>многодетные</td>\n",
       "      <td>обеспеченныe</td>\n",
       "    </tr>\n",
       "    <tr>\n",
       "      <th>4</th>\n",
       "      <td>0</td>\n",
       "      <td>14177</td>\n",
       "      <td>53</td>\n",
       "      <td>среднее</td>\n",
       "      <td>1</td>\n",
       "      <td>гражданский брак</td>\n",
       "      <td>1</td>\n",
       "      <td>F</td>\n",
       "      <td>пенсионер</td>\n",
       "      <td>0</td>\n",
       "      <td>158616</td>\n",
       "      <td>сыграть свадьбу</td>\n",
       "      <td>2</td>\n",
       "      <td>свадьба</td>\n",
       "      <td>нет детей</td>\n",
       "      <td>средний</td>\n",
       "    </tr>\n",
       "  </tbody>\n",
       "</table>\n",
       "</div>"
      ],
      "text/plain": [
       "   children  days_employed  dob_years education  education_id  \\\n",
       "0         1           8437         42    высшее             0   \n",
       "1         1           4024         36   среднее             1   \n",
       "2         0           5623         33   среднее             1   \n",
       "3         3           4124         32   среднее             1   \n",
       "4         0          14177         53   среднее             1   \n",
       "\n",
       "      family_status  family_status_id gender income_type  debt  total_income  \\\n",
       "0   женат / замужем                 0      F   сотрудник     0        253875   \n",
       "1   женат / замужем                 0      F   сотрудник     0        112080   \n",
       "2   женат / замужем                 0      M   сотрудник     0        145885   \n",
       "3   женат / замужем                 0      M   сотрудник     0        267628   \n",
       "4  гражданский брак                 1      F   пенсионер     0        158616   \n",
       "\n",
       "                      purpose  income_type_id category_purpose category_chi  \\\n",
       "0               покупка жилья               5     недвижимость    есть дети   \n",
       "1     приобретение автомобиля               5       автомобиль    есть дети   \n",
       "2               покупка жилья               5     недвижимость    нет детей   \n",
       "3  дополнительное образование               5      образование  многодетные   \n",
       "4             сыграть свадьбу               2          свадьба    нет детей   \n",
       "\n",
       "  category_income  \n",
       "0    обеспеченныe  \n",
       "1  нижний средний  \n",
       "2  нижний средний  \n",
       "3    обеспеченныe  \n",
       "4         средний  "
      ]
     },
     "metadata": {},
     "output_type": "display_data"
    }
   ],
   "source": [
    "display(df[['total_income']].drop_duplicates())\n",
    "\n",
    "#для категоризации необходимо знать пороговые и медианное значение\n",
    "mini = df['total_income'].min()\n",
    "print(mini)\n",
    "med = df['total_income'].median()\n",
    "print(med)\n",
    "maxi = df['total_income'].max()\n",
    "print(maxi)\n",
    "\n",
    "total_income = df[['total_income']].drop_duplicates()\n",
    "display(total_income)\n",
    "\n",
    "#категоризация\n",
    "#выше бедности <= 40000\n",
    "#40000 < ниже среднего <= 100000\n",
    "#100000 < нижний средний <= 150000\n",
    "#150000 < средний <= 250000\n",
    "#250000 < обеспеченныe <= 500000\n",
    "#богатые > 500000 \n",
    "\n",
    "def category_income(income):\n",
    "    if income <= 40000:\n",
    "        return 'выше бедности'\n",
    "    if 40000 < income <= 100000:\n",
    "        return 'ниже среднего'\n",
    "    if 100000 < income <= 150000:\n",
    "        return 'нижний средний'\n",
    "    if 150000 < income <= 250000:\n",
    "        return 'средний'\n",
    "    if 250000 < income <= 500000:\n",
    "        return 'обеспеченныe'\n",
    "    return 'богатые'\n",
    "\n",
    "df['category_income'] = df['total_income'].apply(category_income)\n",
    "display(df.head())"
   ]
  },
  {
   "cell_type": "code",
   "execution_count": 11,
   "metadata": {},
   "outputs": [
    {
     "data": {
      "text/html": [
       "<div>\n",
       "<style scoped>\n",
       "    .dataframe tbody tr th:only-of-type {\n",
       "        vertical-align: middle;\n",
       "    }\n",
       "\n",
       "    .dataframe tbody tr th {\n",
       "        vertical-align: top;\n",
       "    }\n",
       "\n",
       "    .dataframe thead th {\n",
       "        text-align: right;\n",
       "    }\n",
       "</style>\n",
       "<table border=\"1\" class=\"dataframe\">\n",
       "  <thead>\n",
       "    <tr style=\"text-align: right;\">\n",
       "      <th></th>\n",
       "      <th>days_employed</th>\n",
       "    </tr>\n",
       "  </thead>\n",
       "  <tbody>\n",
       "    <tr>\n",
       "      <th>0</th>\n",
       "      <td>8437</td>\n",
       "    </tr>\n",
       "    <tr>\n",
       "      <th>1</th>\n",
       "      <td>4024</td>\n",
       "    </tr>\n",
       "    <tr>\n",
       "      <th>2</th>\n",
       "      <td>5623</td>\n",
       "    </tr>\n",
       "    <tr>\n",
       "      <th>3</th>\n",
       "      <td>4124</td>\n",
       "    </tr>\n",
       "    <tr>\n",
       "      <th>4</th>\n",
       "      <td>14177</td>\n",
       "    </tr>\n",
       "    <tr>\n",
       "      <th>...</th>\n",
       "      <td>...</td>\n",
       "    </tr>\n",
       "    <tr>\n",
       "      <th>21402</th>\n",
       "      <td>9945</td>\n",
       "    </tr>\n",
       "    <tr>\n",
       "      <th>21409</th>\n",
       "      <td>8799</td>\n",
       "    </tr>\n",
       "    <tr>\n",
       "      <th>21423</th>\n",
       "      <td>960</td>\n",
       "    </tr>\n",
       "    <tr>\n",
       "      <th>21428</th>\n",
       "      <td>9929</td>\n",
       "    </tr>\n",
       "    <tr>\n",
       "      <th>21450</th>\n",
       "      <td>14330</td>\n",
       "    </tr>\n",
       "  </tbody>\n",
       "</table>\n",
       "<p>7787 rows × 1 columns</p>\n",
       "</div>"
      ],
      "text/plain": [
       "       days_employed\n",
       "0               8437\n",
       "1               4024\n",
       "2               5623\n",
       "3               4124\n",
       "4              14177\n",
       "...              ...\n",
       "21402           9945\n",
       "21409           8799\n",
       "21423            960\n",
       "21428           9929\n",
       "21450          14330\n",
       "\n",
       "[7787 rows x 1 columns]"
      ]
     },
     "metadata": {},
     "output_type": "display_data"
    },
    {
     "data": {
      "text/html": [
       "<div>\n",
       "<style scoped>\n",
       "    .dataframe tbody tr th:only-of-type {\n",
       "        vertical-align: middle;\n",
       "    }\n",
       "\n",
       "    .dataframe tbody tr th {\n",
       "        vertical-align: top;\n",
       "    }\n",
       "\n",
       "    .dataframe thead th {\n",
       "        text-align: right;\n",
       "    }\n",
       "</style>\n",
       "<table border=\"1\" class=\"dataframe\">\n",
       "  <thead>\n",
       "    <tr style=\"text-align: right;\">\n",
       "      <th></th>\n",
       "      <th>dob_years</th>\n",
       "    </tr>\n",
       "  </thead>\n",
       "  <tbody>\n",
       "    <tr>\n",
       "      <th>0</th>\n",
       "      <td>42</td>\n",
       "    </tr>\n",
       "    <tr>\n",
       "      <th>1</th>\n",
       "      <td>36</td>\n",
       "    </tr>\n",
       "    <tr>\n",
       "      <th>2</th>\n",
       "      <td>33</td>\n",
       "    </tr>\n",
       "    <tr>\n",
       "      <th>3</th>\n",
       "      <td>32</td>\n",
       "    </tr>\n",
       "    <tr>\n",
       "      <th>4</th>\n",
       "      <td>53</td>\n",
       "    </tr>\n",
       "    <tr>\n",
       "      <th>5</th>\n",
       "      <td>27</td>\n",
       "    </tr>\n",
       "    <tr>\n",
       "      <th>6</th>\n",
       "      <td>43</td>\n",
       "    </tr>\n",
       "    <tr>\n",
       "      <th>7</th>\n",
       "      <td>50</td>\n",
       "    </tr>\n",
       "    <tr>\n",
       "      <th>8</th>\n",
       "      <td>35</td>\n",
       "    </tr>\n",
       "    <tr>\n",
       "      <th>9</th>\n",
       "      <td>41</td>\n",
       "    </tr>\n",
       "    <tr>\n",
       "      <th>11</th>\n",
       "      <td>40</td>\n",
       "    </tr>\n",
       "    <tr>\n",
       "      <th>12</th>\n",
       "      <td>65</td>\n",
       "    </tr>\n",
       "    <tr>\n",
       "      <th>13</th>\n",
       "      <td>54</td>\n",
       "    </tr>\n",
       "    <tr>\n",
       "      <th>14</th>\n",
       "      <td>56</td>\n",
       "    </tr>\n",
       "    <tr>\n",
       "      <th>15</th>\n",
       "      <td>26</td>\n",
       "    </tr>\n",
       "    <tr>\n",
       "      <th>19</th>\n",
       "      <td>48</td>\n",
       "    </tr>\n",
       "    <tr>\n",
       "      <th>22</th>\n",
       "      <td>24</td>\n",
       "    </tr>\n",
       "    <tr>\n",
       "      <th>23</th>\n",
       "      <td>21</td>\n",
       "    </tr>\n",
       "    <tr>\n",
       "      <th>24</th>\n",
       "      <td>57</td>\n",
       "    </tr>\n",
       "    <tr>\n",
       "      <th>25</th>\n",
       "      <td>67</td>\n",
       "    </tr>\n",
       "    <tr>\n",
       "      <th>27</th>\n",
       "      <td>28</td>\n",
       "    </tr>\n",
       "    <tr>\n",
       "      <th>29</th>\n",
       "      <td>63</td>\n",
       "    </tr>\n",
       "    <tr>\n",
       "      <th>30</th>\n",
       "      <td>62</td>\n",
       "    </tr>\n",
       "    <tr>\n",
       "      <th>31</th>\n",
       "      <td>47</td>\n",
       "    </tr>\n",
       "    <tr>\n",
       "      <th>32</th>\n",
       "      <td>34</td>\n",
       "    </tr>\n",
       "    <tr>\n",
       "      <th>35</th>\n",
       "      <td>68</td>\n",
       "    </tr>\n",
       "    <tr>\n",
       "      <th>38</th>\n",
       "      <td>25</td>\n",
       "    </tr>\n",
       "    <tr>\n",
       "      <th>39</th>\n",
       "      <td>31</td>\n",
       "    </tr>\n",
       "    <tr>\n",
       "      <th>40</th>\n",
       "      <td>30</td>\n",
       "    </tr>\n",
       "    <tr>\n",
       "      <th>42</th>\n",
       "      <td>20</td>\n",
       "    </tr>\n",
       "    <tr>\n",
       "      <th>45</th>\n",
       "      <td>49</td>\n",
       "    </tr>\n",
       "    <tr>\n",
       "      <th>46</th>\n",
       "      <td>37</td>\n",
       "    </tr>\n",
       "    <tr>\n",
       "      <th>48</th>\n",
       "      <td>45</td>\n",
       "    </tr>\n",
       "    <tr>\n",
       "      <th>53</th>\n",
       "      <td>61</td>\n",
       "    </tr>\n",
       "    <tr>\n",
       "      <th>56</th>\n",
       "      <td>64</td>\n",
       "    </tr>\n",
       "    <tr>\n",
       "      <th>57</th>\n",
       "      <td>44</td>\n",
       "    </tr>\n",
       "    <tr>\n",
       "      <th>67</th>\n",
       "      <td>52</td>\n",
       "    </tr>\n",
       "    <tr>\n",
       "      <th>68</th>\n",
       "      <td>46</td>\n",
       "    </tr>\n",
       "    <tr>\n",
       "      <th>69</th>\n",
       "      <td>23</td>\n",
       "    </tr>\n",
       "    <tr>\n",
       "      <th>75</th>\n",
       "      <td>38</td>\n",
       "    </tr>\n",
       "    <tr>\n",
       "      <th>91</th>\n",
       "      <td>39</td>\n",
       "    </tr>\n",
       "    <tr>\n",
       "      <th>95</th>\n",
       "      <td>51</td>\n",
       "    </tr>\n",
       "    <tr>\n",
       "      <th>99</th>\n",
       "      <td>0</td>\n",
       "    </tr>\n",
       "    <tr>\n",
       "      <th>104</th>\n",
       "      <td>59</td>\n",
       "    </tr>\n",
       "    <tr>\n",
       "      <th>106</th>\n",
       "      <td>29</td>\n",
       "    </tr>\n",
       "    <tr>\n",
       "      <th>119</th>\n",
       "      <td>60</td>\n",
       "    </tr>\n",
       "    <tr>\n",
       "      <th>122</th>\n",
       "      <td>55</td>\n",
       "    </tr>\n",
       "    <tr>\n",
       "      <th>131</th>\n",
       "      <td>58</td>\n",
       "    </tr>\n",
       "    <tr>\n",
       "      <th>150</th>\n",
       "      <td>71</td>\n",
       "    </tr>\n",
       "    <tr>\n",
       "      <th>208</th>\n",
       "      <td>22</td>\n",
       "    </tr>\n",
       "    <tr>\n",
       "      <th>229</th>\n",
       "      <td>73</td>\n",
       "    </tr>\n",
       "    <tr>\n",
       "      <th>271</th>\n",
       "      <td>66</td>\n",
       "    </tr>\n",
       "    <tr>\n",
       "      <th>328</th>\n",
       "      <td>69</td>\n",
       "    </tr>\n",
       "    <tr>\n",
       "      <th>766</th>\n",
       "      <td>19</td>\n",
       "    </tr>\n",
       "    <tr>\n",
       "      <th>1239</th>\n",
       "      <td>72</td>\n",
       "    </tr>\n",
       "    <tr>\n",
       "      <th>1303</th>\n",
       "      <td>70</td>\n",
       "    </tr>\n",
       "    <tr>\n",
       "      <th>2557</th>\n",
       "      <td>74</td>\n",
       "    </tr>\n",
       "    <tr>\n",
       "      <th>8870</th>\n",
       "      <td>75</td>\n",
       "    </tr>\n",
       "  </tbody>\n",
       "</table>\n",
       "</div>"
      ],
      "text/plain": [
       "      dob_years\n",
       "0            42\n",
       "1            36\n",
       "2            33\n",
       "3            32\n",
       "4            53\n",
       "5            27\n",
       "6            43\n",
       "7            50\n",
       "8            35\n",
       "9            41\n",
       "11           40\n",
       "12           65\n",
       "13           54\n",
       "14           56\n",
       "15           26\n",
       "19           48\n",
       "22           24\n",
       "23           21\n",
       "24           57\n",
       "25           67\n",
       "27           28\n",
       "29           63\n",
       "30           62\n",
       "31           47\n",
       "32           34\n",
       "35           68\n",
       "38           25\n",
       "39           31\n",
       "40           30\n",
       "42           20\n",
       "45           49\n",
       "46           37\n",
       "48           45\n",
       "53           61\n",
       "56           64\n",
       "57           44\n",
       "67           52\n",
       "68           46\n",
       "69           23\n",
       "75           38\n",
       "91           39\n",
       "95           51\n",
       "99            0\n",
       "104          59\n",
       "106          29\n",
       "119          60\n",
       "122          55\n",
       "131          58\n",
       "150          71\n",
       "208          22\n",
       "229          73\n",
       "271          66\n",
       "328          69\n",
       "766          19\n",
       "1239         72\n",
       "1303         70\n",
       "2557         74\n",
       "8870         75"
      ]
     },
     "metadata": {},
     "output_type": "display_data"
    },
    {
     "data": {
      "text/html": [
       "<div>\n",
       "<style scoped>\n",
       "    .dataframe tbody tr th:only-of-type {\n",
       "        vertical-align: middle;\n",
       "    }\n",
       "\n",
       "    .dataframe tbody tr th {\n",
       "        vertical-align: top;\n",
       "    }\n",
       "\n",
       "    .dataframe thead th {\n",
       "        text-align: right;\n",
       "    }\n",
       "</style>\n",
       "<table border=\"1\" class=\"dataframe\">\n",
       "  <thead>\n",
       "    <tr style=\"text-align: right;\">\n",
       "      <th></th>\n",
       "      <th>education</th>\n",
       "      <th>education_id</th>\n",
       "    </tr>\n",
       "  </thead>\n",
       "  <tbody>\n",
       "    <tr>\n",
       "      <th>0</th>\n",
       "      <td>высшее</td>\n",
       "      <td>0</td>\n",
       "    </tr>\n",
       "    <tr>\n",
       "      <th>1</th>\n",
       "      <td>среднее</td>\n",
       "      <td>1</td>\n",
       "    </tr>\n",
       "    <tr>\n",
       "      <th>13</th>\n",
       "      <td>неоконченное высшее</td>\n",
       "      <td>2</td>\n",
       "    </tr>\n",
       "    <tr>\n",
       "      <th>31</th>\n",
       "      <td>начальное</td>\n",
       "      <td>3</td>\n",
       "    </tr>\n",
       "    <tr>\n",
       "      <th>2962</th>\n",
       "      <td>ученая степень</td>\n",
       "      <td>4</td>\n",
       "    </tr>\n",
       "  </tbody>\n",
       "</table>\n",
       "</div>"
      ],
      "text/plain": [
       "                education  education_id\n",
       "0                  высшее             0\n",
       "1                 среднее             1\n",
       "13    неоконченное высшее             2\n",
       "31              начальное             3\n",
       "2962       ученая степень             4"
      ]
     },
     "metadata": {},
     "output_type": "display_data"
    },
    {
     "data": {
      "text/html": [
       "<div>\n",
       "<style scoped>\n",
       "    .dataframe tbody tr th:only-of-type {\n",
       "        vertical-align: middle;\n",
       "    }\n",
       "\n",
       "    .dataframe tbody tr th {\n",
       "        vertical-align: top;\n",
       "    }\n",
       "\n",
       "    .dataframe thead th {\n",
       "        text-align: right;\n",
       "    }\n",
       "</style>\n",
       "<table border=\"1\" class=\"dataframe\">\n",
       "  <thead>\n",
       "    <tr style=\"text-align: right;\">\n",
       "      <th></th>\n",
       "      <th>family_status</th>\n",
       "      <th>family_status_id</th>\n",
       "    </tr>\n",
       "  </thead>\n",
       "  <tbody>\n",
       "    <tr>\n",
       "      <th>0</th>\n",
       "      <td>женат / замужем</td>\n",
       "      <td>0</td>\n",
       "    </tr>\n",
       "    <tr>\n",
       "      <th>4</th>\n",
       "      <td>гражданский брак</td>\n",
       "      <td>1</td>\n",
       "    </tr>\n",
       "    <tr>\n",
       "      <th>18</th>\n",
       "      <td>вдовец / вдова</td>\n",
       "      <td>2</td>\n",
       "    </tr>\n",
       "    <tr>\n",
       "      <th>19</th>\n",
       "      <td>в разводе</td>\n",
       "      <td>3</td>\n",
       "    </tr>\n",
       "    <tr>\n",
       "      <th>24</th>\n",
       "      <td>Не женат / не замужем</td>\n",
       "      <td>4</td>\n",
       "    </tr>\n",
       "  </tbody>\n",
       "</table>\n",
       "</div>"
      ],
      "text/plain": [
       "            family_status  family_status_id\n",
       "0         женат / замужем                 0\n",
       "4        гражданский брак                 1\n",
       "18         вдовец / вдова                 2\n",
       "19              в разводе                 3\n",
       "24  Не женат / не замужем                 4"
      ]
     },
     "metadata": {},
     "output_type": "display_data"
    },
    {
     "data": {
      "text/html": [
       "<div>\n",
       "<style scoped>\n",
       "    .dataframe tbody tr th:only-of-type {\n",
       "        vertical-align: middle;\n",
       "    }\n",
       "\n",
       "    .dataframe tbody tr th {\n",
       "        vertical-align: top;\n",
       "    }\n",
       "\n",
       "    .dataframe thead th {\n",
       "        text-align: right;\n",
       "    }\n",
       "</style>\n",
       "<table border=\"1\" class=\"dataframe\">\n",
       "  <thead>\n",
       "    <tr style=\"text-align: right;\">\n",
       "      <th></th>\n",
       "      <th>income_type</th>\n",
       "    </tr>\n",
       "  </thead>\n",
       "  <tbody>\n",
       "    <tr>\n",
       "      <th>0</th>\n",
       "      <td>сотрудник</td>\n",
       "    </tr>\n",
       "    <tr>\n",
       "      <th>4</th>\n",
       "      <td>пенсионер</td>\n",
       "    </tr>\n",
       "    <tr>\n",
       "      <th>5</th>\n",
       "      <td>компаньон</td>\n",
       "    </tr>\n",
       "    <tr>\n",
       "      <th>26</th>\n",
       "      <td>госслужащий</td>\n",
       "    </tr>\n",
       "    <tr>\n",
       "      <th>3132</th>\n",
       "      <td>безработный</td>\n",
       "    </tr>\n",
       "    <tr>\n",
       "      <th>5931</th>\n",
       "      <td>предприниматель</td>\n",
       "    </tr>\n",
       "    <tr>\n",
       "      <th>9399</th>\n",
       "      <td>студент</td>\n",
       "    </tr>\n",
       "    <tr>\n",
       "      <th>20778</th>\n",
       "      <td>в декрете</td>\n",
       "    </tr>\n",
       "  </tbody>\n",
       "</table>\n",
       "</div>"
      ],
      "text/plain": [
       "           income_type\n",
       "0            сотрудник\n",
       "4            пенсионер\n",
       "5            компаньон\n",
       "26         госслужащий\n",
       "3132       безработный\n",
       "5931   предприниматель\n",
       "9399           студент\n",
       "20778        в декрете"
      ]
     },
     "metadata": {},
     "output_type": "display_data"
    },
    {
     "data": {
      "text/html": [
       "<div>\n",
       "<style scoped>\n",
       "    .dataframe tbody tr th:only-of-type {\n",
       "        vertical-align: middle;\n",
       "    }\n",
       "\n",
       "    .dataframe tbody tr th {\n",
       "        vertical-align: top;\n",
       "    }\n",
       "\n",
       "    .dataframe thead th {\n",
       "        text-align: right;\n",
       "    }\n",
       "</style>\n",
       "<table border=\"1\" class=\"dataframe\">\n",
       "  <thead>\n",
       "    <tr style=\"text-align: right;\">\n",
       "      <th></th>\n",
       "      <th>debt</th>\n",
       "    </tr>\n",
       "  </thead>\n",
       "  <tbody>\n",
       "    <tr>\n",
       "      <th>0</th>\n",
       "      <td>0</td>\n",
       "    </tr>\n",
       "    <tr>\n",
       "      <th>14</th>\n",
       "      <td>1</td>\n",
       "    </tr>\n",
       "  </tbody>\n",
       "</table>\n",
       "</div>"
      ],
      "text/plain": [
       "    debt\n",
       "0      0\n",
       "14     1"
      ]
     },
     "metadata": {},
     "output_type": "display_data"
    },
    {
     "data": {
      "text/html": [
       "<div>\n",
       "<style scoped>\n",
       "    .dataframe tbody tr th:only-of-type {\n",
       "        vertical-align: middle;\n",
       "    }\n",
       "\n",
       "    .dataframe tbody tr th {\n",
       "        vertical-align: top;\n",
       "    }\n",
       "\n",
       "    .dataframe thead th {\n",
       "        text-align: right;\n",
       "    }\n",
       "</style>\n",
       "<table border=\"1\" class=\"dataframe\">\n",
       "  <thead>\n",
       "    <tr style=\"text-align: right;\">\n",
       "      <th></th>\n",
       "      <th>purpose</th>\n",
       "      <th>category_purpose</th>\n",
       "    </tr>\n",
       "  </thead>\n",
       "  <tbody>\n",
       "    <tr>\n",
       "      <th>0</th>\n",
       "      <td>покупка жилья</td>\n",
       "      <td>недвижимость</td>\n",
       "    </tr>\n",
       "    <tr>\n",
       "      <th>1</th>\n",
       "      <td>приобретение автомобиля</td>\n",
       "      <td>автомобиль</td>\n",
       "    </tr>\n",
       "    <tr>\n",
       "      <th>3</th>\n",
       "      <td>дополнительное образование</td>\n",
       "      <td>образование</td>\n",
       "    </tr>\n",
       "    <tr>\n",
       "      <th>4</th>\n",
       "      <td>сыграть свадьбу</td>\n",
       "      <td>свадьба</td>\n",
       "    </tr>\n",
       "    <tr>\n",
       "      <th>6</th>\n",
       "      <td>операции с жильем</td>\n",
       "      <td>недвижимость</td>\n",
       "    </tr>\n",
       "    <tr>\n",
       "      <th>7</th>\n",
       "      <td>образование</td>\n",
       "      <td>образование</td>\n",
       "    </tr>\n",
       "    <tr>\n",
       "      <th>8</th>\n",
       "      <td>на проведение свадьбы</td>\n",
       "      <td>свадьба</td>\n",
       "    </tr>\n",
       "    <tr>\n",
       "      <th>9</th>\n",
       "      <td>покупка жилья для семьи</td>\n",
       "      <td>недвижимость</td>\n",
       "    </tr>\n",
       "    <tr>\n",
       "      <th>10</th>\n",
       "      <td>покупка недвижимости</td>\n",
       "      <td>недвижимость</td>\n",
       "    </tr>\n",
       "    <tr>\n",
       "      <th>11</th>\n",
       "      <td>покупка коммерческой недвижимости</td>\n",
       "      <td>недвижимость</td>\n",
       "    </tr>\n",
       "    <tr>\n",
       "      <th>14</th>\n",
       "      <td>покупка жилой недвижимости</td>\n",
       "      <td>недвижимость</td>\n",
       "    </tr>\n",
       "    <tr>\n",
       "      <th>15</th>\n",
       "      <td>строительство собственной недвижимости</td>\n",
       "      <td>недвижимость</td>\n",
       "    </tr>\n",
       "    <tr>\n",
       "      <th>16</th>\n",
       "      <td>недвижимость</td>\n",
       "      <td>недвижимость</td>\n",
       "    </tr>\n",
       "    <tr>\n",
       "      <th>17</th>\n",
       "      <td>строительство недвижимости</td>\n",
       "      <td>недвижимость</td>\n",
       "    </tr>\n",
       "    <tr>\n",
       "      <th>18</th>\n",
       "      <td>на покупку подержанного автомобиля</td>\n",
       "      <td>автомобиль</td>\n",
       "    </tr>\n",
       "    <tr>\n",
       "      <th>19</th>\n",
       "      <td>на покупку своего автомобиля</td>\n",
       "      <td>автомобиль</td>\n",
       "    </tr>\n",
       "    <tr>\n",
       "      <th>24</th>\n",
       "      <td>операции с коммерческой недвижимостью</td>\n",
       "      <td>недвижимость</td>\n",
       "    </tr>\n",
       "    <tr>\n",
       "      <th>29</th>\n",
       "      <td>строительство жилой недвижимости</td>\n",
       "      <td>недвижимость</td>\n",
       "    </tr>\n",
       "    <tr>\n",
       "      <th>31</th>\n",
       "      <td>жилье</td>\n",
       "      <td>недвижимость</td>\n",
       "    </tr>\n",
       "    <tr>\n",
       "      <th>34</th>\n",
       "      <td>операции со своей недвижимостью</td>\n",
       "      <td>недвижимость</td>\n",
       "    </tr>\n",
       "    <tr>\n",
       "      <th>36</th>\n",
       "      <td>автомобили</td>\n",
       "      <td>автомобиль</td>\n",
       "    </tr>\n",
       "    <tr>\n",
       "      <th>39</th>\n",
       "      <td>заняться образованием</td>\n",
       "      <td>образование</td>\n",
       "    </tr>\n",
       "    <tr>\n",
       "      <th>41</th>\n",
       "      <td>сделка с подержанным автомобилем</td>\n",
       "      <td>автомобиль</td>\n",
       "    </tr>\n",
       "    <tr>\n",
       "      <th>42</th>\n",
       "      <td>получение образования</td>\n",
       "      <td>образование</td>\n",
       "    </tr>\n",
       "    <tr>\n",
       "      <th>49</th>\n",
       "      <td>автомобиль</td>\n",
       "      <td>автомобиль</td>\n",
       "    </tr>\n",
       "    <tr>\n",
       "      <th>51</th>\n",
       "      <td>свадьба</td>\n",
       "      <td>свадьба</td>\n",
       "    </tr>\n",
       "    <tr>\n",
       "      <th>52</th>\n",
       "      <td>получение дополнительного образования</td>\n",
       "      <td>образование</td>\n",
       "    </tr>\n",
       "    <tr>\n",
       "      <th>53</th>\n",
       "      <td>покупка своего жилья</td>\n",
       "      <td>недвижимость</td>\n",
       "    </tr>\n",
       "    <tr>\n",
       "      <th>59</th>\n",
       "      <td>операции с недвижимостью</td>\n",
       "      <td>недвижимость</td>\n",
       "    </tr>\n",
       "    <tr>\n",
       "      <th>62</th>\n",
       "      <td>получение высшего образования</td>\n",
       "      <td>образование</td>\n",
       "    </tr>\n",
       "    <tr>\n",
       "      <th>77</th>\n",
       "      <td>свой автомобиль</td>\n",
       "      <td>автомобиль</td>\n",
       "    </tr>\n",
       "    <tr>\n",
       "      <th>78</th>\n",
       "      <td>сделка с автомобилем</td>\n",
       "      <td>автомобиль</td>\n",
       "    </tr>\n",
       "    <tr>\n",
       "      <th>81</th>\n",
       "      <td>профильное образование</td>\n",
       "      <td>образование</td>\n",
       "    </tr>\n",
       "    <tr>\n",
       "      <th>85</th>\n",
       "      <td>высшее образование</td>\n",
       "      <td>образование</td>\n",
       "    </tr>\n",
       "    <tr>\n",
       "      <th>87</th>\n",
       "      <td>покупка жилья для сдачи</td>\n",
       "      <td>недвижимость</td>\n",
       "    </tr>\n",
       "    <tr>\n",
       "      <th>117</th>\n",
       "      <td>на покупку автомобиля</td>\n",
       "      <td>автомобиль</td>\n",
       "    </tr>\n",
       "    <tr>\n",
       "      <th>139</th>\n",
       "      <td>ремонт жилью</td>\n",
       "      <td>недвижимость</td>\n",
       "    </tr>\n",
       "    <tr>\n",
       "      <th>176</th>\n",
       "      <td>заняться высшим образованием</td>\n",
       "      <td>образование</td>\n",
       "    </tr>\n",
       "  </tbody>\n",
       "</table>\n",
       "</div>"
      ],
      "text/plain": [
       "                                    purpose category_purpose\n",
       "0                             покупка жилья     недвижимость\n",
       "1                   приобретение автомобиля       автомобиль\n",
       "3                дополнительное образование      образование\n",
       "4                           сыграть свадьбу          свадьба\n",
       "6                         операции с жильем     недвижимость\n",
       "7                               образование      образование\n",
       "8                     на проведение свадьбы          свадьба\n",
       "9                   покупка жилья для семьи     недвижимость\n",
       "10                     покупка недвижимости     недвижимость\n",
       "11        покупка коммерческой недвижимости     недвижимость\n",
       "14               покупка жилой недвижимости     недвижимость\n",
       "15   строительство собственной недвижимости     недвижимость\n",
       "16                             недвижимость     недвижимость\n",
       "17               строительство недвижимости     недвижимость\n",
       "18       на покупку подержанного автомобиля       автомобиль\n",
       "19             на покупку своего автомобиля       автомобиль\n",
       "24    операции с коммерческой недвижимостью     недвижимость\n",
       "29         строительство жилой недвижимости     недвижимость\n",
       "31                                    жилье     недвижимость\n",
       "34          операции со своей недвижимостью     недвижимость\n",
       "36                               автомобили       автомобиль\n",
       "39                    заняться образованием      образование\n",
       "41         сделка с подержанным автомобилем       автомобиль\n",
       "42                    получение образования      образование\n",
       "49                               автомобиль       автомобиль\n",
       "51                                  свадьба          свадьба\n",
       "52    получение дополнительного образования      образование\n",
       "53                     покупка своего жилья     недвижимость\n",
       "59                 операции с недвижимостью     недвижимость\n",
       "62            получение высшего образования      образование\n",
       "77                          свой автомобиль       автомобиль\n",
       "78                     сделка с автомобилем       автомобиль\n",
       "81                   профильное образование      образование\n",
       "85                       высшее образование      образование\n",
       "87                  покупка жилья для сдачи     недвижимость\n",
       "117                   на покупку автомобиля       автомобиль\n",
       "139                            ремонт жилью     недвижимость\n",
       "176            заняться высшим образованием      образование"
      ]
     },
     "metadata": {},
     "output_type": "display_data"
    }
   ],
   "source": [
    "#просмотр уникальных значений и выделение словарей\n",
    "display(df[['days_employed']].drop_duplicates())\n",
    "display(df[['dob_years']].drop_duplicates())\n",
    "display(df[['education', 'education_id']].drop_duplicates())\n",
    "display(df[['family_status', 'family_status_id']].drop_duplicates())\n",
    "display(df[['income_type']].drop_duplicates())\n",
    "display(df[['debt']].drop_duplicates())\n",
    "display(df[['purpose', 'category_purpose']].drop_duplicates())"
   ]
  },
  {
   "cell_type": "markdown",
   "metadata": {},
   "source": [
    "### Вывод\n",
    "\n",
    "В таблице присутствуют словари, они были выделены. Для удобства дальнейшей работы, были выделены категории в столбцах с количеством детей и среднемесячным заработком, столбцы с ними были добавлены в таблицу. На следующем этапе проекта будет удобно группировать по ним и вычислять процент отсутствия задолженности. "
   ]
  },
  {
   "cell_type": "markdown",
   "metadata": {},
   "source": [
    "## Шаг 3. Ответы на вопросы"
   ]
  },
  {
   "cell_type": "markdown",
   "metadata": {},
   "source": [
    "- Есть ли зависимость между наличием детей и возвратом кредита в срок?"
   ]
  },
  {
   "cell_type": "code",
   "execution_count": 12,
   "metadata": {},
   "outputs": [
    {
     "data": {
      "text/html": [
       "<div>\n",
       "<style scoped>\n",
       "    .dataframe tbody tr th:only-of-type {\n",
       "        vertical-align: middle;\n",
       "    }\n",
       "\n",
       "    .dataframe tbody tr th {\n",
       "        vertical-align: top;\n",
       "    }\n",
       "\n",
       "    .dataframe thead th {\n",
       "        text-align: right;\n",
       "    }\n",
       "</style>\n",
       "<table border=\"1\" class=\"dataframe\">\n",
       "  <thead>\n",
       "    <tr style=\"text-align: right;\">\n",
       "      <th></th>\n",
       "      <th>total</th>\n",
       "      <th>debt</th>\n",
       "      <th>% debt</th>\n",
       "    </tr>\n",
       "    <tr>\n",
       "      <th>category_chi</th>\n",
       "      <th></th>\n",
       "      <th></th>\n",
       "      <th></th>\n",
       "    </tr>\n",
       "  </thead>\n",
       "  <tbody>\n",
       "    <tr>\n",
       "      <th>есть дети</th>\n",
       "      <td>6983</td>\n",
       "      <td>647</td>\n",
       "      <td>9.265359</td>\n",
       "    </tr>\n",
       "    <tr>\n",
       "      <th>многодетные</th>\n",
       "      <td>380</td>\n",
       "      <td>31</td>\n",
       "      <td>8.157895</td>\n",
       "    </tr>\n",
       "    <tr>\n",
       "      <th>нет детей</th>\n",
       "      <td>14091</td>\n",
       "      <td>1063</td>\n",
       "      <td>7.543822</td>\n",
       "    </tr>\n",
       "  </tbody>\n",
       "</table>\n",
       "</div>"
      ],
      "text/plain": [
       "              total  debt    % debt\n",
       "category_chi                       \n",
       "есть дети      6983   647  9.265359\n",
       "многодетные     380    31  8.157895\n",
       "нет детей     14091  1063  7.543822"
      ]
     },
     "execution_count": 12,
     "metadata": {},
     "output_type": "execute_result"
    }
   ],
   "source": [
    "report_chi = df.groupby('category_chi').agg({'debt':['count', 'sum', 'mean']})\n",
    "report_chi.columns = ['total', 'debt', '% debt']\n",
    "report_chi['% debt'] = report_chi['% debt']*100\n",
    "report_chi"
   ]
  },
  {
   "cell_type": "markdown",
   "metadata": {},
   "source": [
    "### Вывод\n",
    "\n",
    "Меньше всего просрочек допускают люди без детей, больше всего просрочек у клиентов с 1-2 детьми. Как мы видим из таблицы, процент просрочек по кредитам увеличивается с появлением детей. Причем между бездетными и многодетными разница всего 0.62%. А между теми, у кого нет детей  и у кого 1-2 ребенка (есть дети) - 1.72%. Возможно, это связно с тем, что многодетные люди берут кредиты на много реже, чем бездетные и люди, у кого 1-2 ребенка. "
   ]
  },
  {
   "cell_type": "markdown",
   "metadata": {},
   "source": [
    "- Есть ли зависимость между семейным положением и возвратом кредита в срок?"
   ]
  },
  {
   "cell_type": "code",
   "execution_count": 13,
   "metadata": {},
   "outputs": [
    {
     "data": {
      "text/html": [
       "<div>\n",
       "<style scoped>\n",
       "    .dataframe tbody tr th:only-of-type {\n",
       "        vertical-align: middle;\n",
       "    }\n",
       "\n",
       "    .dataframe tbody tr th {\n",
       "        vertical-align: top;\n",
       "    }\n",
       "\n",
       "    .dataframe thead th {\n",
       "        text-align: right;\n",
       "    }\n",
       "</style>\n",
       "<table border=\"1\" class=\"dataframe\">\n",
       "  <thead>\n",
       "    <tr style=\"text-align: right;\">\n",
       "      <th></th>\n",
       "      <th>total</th>\n",
       "      <th>debt</th>\n",
       "      <th>% debt</th>\n",
       "    </tr>\n",
       "    <tr>\n",
       "      <th>family_status</th>\n",
       "      <th></th>\n",
       "      <th></th>\n",
       "      <th></th>\n",
       "    </tr>\n",
       "  </thead>\n",
       "  <tbody>\n",
       "    <tr>\n",
       "      <th>Не женат / не замужем</th>\n",
       "      <td>2810</td>\n",
       "      <td>274</td>\n",
       "      <td>9.750890</td>\n",
       "    </tr>\n",
       "    <tr>\n",
       "      <th>в разводе</th>\n",
       "      <td>1195</td>\n",
       "      <td>85</td>\n",
       "      <td>7.112971</td>\n",
       "    </tr>\n",
       "    <tr>\n",
       "      <th>вдовец / вдова</th>\n",
       "      <td>959</td>\n",
       "      <td>63</td>\n",
       "      <td>6.569343</td>\n",
       "    </tr>\n",
       "    <tr>\n",
       "      <th>гражданский брак</th>\n",
       "      <td>4151</td>\n",
       "      <td>388</td>\n",
       "      <td>9.347145</td>\n",
       "    </tr>\n",
       "    <tr>\n",
       "      <th>женат / замужем</th>\n",
       "      <td>12339</td>\n",
       "      <td>931</td>\n",
       "      <td>7.545182</td>\n",
       "    </tr>\n",
       "  </tbody>\n",
       "</table>\n",
       "</div>"
      ],
      "text/plain": [
       "                       total  debt    % debt\n",
       "family_status                               \n",
       "Не женат / не замужем   2810   274  9.750890\n",
       "в разводе               1195    85  7.112971\n",
       "вдовец / вдова           959    63  6.569343\n",
       "гражданский брак        4151   388  9.347145\n",
       "женат / замужем        12339   931  7.545182"
      ]
     },
     "execution_count": 13,
     "metadata": {},
     "output_type": "execute_result"
    }
   ],
   "source": [
    "report_family = df.groupby('family_status').agg({'debt':['count', 'sum', 'mean']})\n",
    "report_family.columns = ['total', 'debt', '% debt']\n",
    "report_family['% debt'] = report_family['% debt']*100\n",
    "report_family"
   ]
  },
  {
   "cell_type": "markdown",
   "metadata": {},
   "source": [
    "### Вывод\n",
    "\n",
    "Меньше всего просрочек по кредитам у вдовцов/вдов, но и берут кредиты они меньше всего. \n",
    "Практически аналогичная ситуация с людьми в разводе. Они берут кредиты чуть больше, но и просрочек немного больше. \n",
    "Больше всего кредитов берут женатые люди и имеют по ним сравнительно низкий процент просрочек.\n",
    "Стоит обратить внимаение на неженатых клиентов и находящихся в гражданских браках, они имеют большой процент просрочек. "
   ]
  },
  {
   "cell_type": "markdown",
   "metadata": {},
   "source": [
    "- Есть ли зависимость между уровнем дохода и возвратом кредита в срок?"
   ]
  },
  {
   "cell_type": "code",
   "execution_count": 14,
   "metadata": {},
   "outputs": [
    {
     "data": {
      "text/html": [
       "<div>\n",
       "<style scoped>\n",
       "    .dataframe tbody tr th:only-of-type {\n",
       "        vertical-align: middle;\n",
       "    }\n",
       "\n",
       "    .dataframe tbody tr th {\n",
       "        vertical-align: top;\n",
       "    }\n",
       "\n",
       "    .dataframe thead th {\n",
       "        text-align: right;\n",
       "    }\n",
       "</style>\n",
       "<table border=\"1\" class=\"dataframe\">\n",
       "  <thead>\n",
       "    <tr style=\"text-align: right;\">\n",
       "      <th></th>\n",
       "      <th>total</th>\n",
       "      <th>debt</th>\n",
       "      <th>% debt</th>\n",
       "    </tr>\n",
       "    <tr>\n",
       "      <th>category_income</th>\n",
       "      <th></th>\n",
       "      <th></th>\n",
       "      <th></th>\n",
       "    </tr>\n",
       "  </thead>\n",
       "  <tbody>\n",
       "    <tr>\n",
       "      <th>богатые</th>\n",
       "      <td>222</td>\n",
       "      <td>14</td>\n",
       "      <td>6.306306</td>\n",
       "    </tr>\n",
       "    <tr>\n",
       "      <th>выше бедности</th>\n",
       "      <td>125</td>\n",
       "      <td>10</td>\n",
       "      <td>8.000000</td>\n",
       "    </tr>\n",
       "    <tr>\n",
       "      <th>ниже среднего</th>\n",
       "      <td>4338</td>\n",
       "      <td>344</td>\n",
       "      <td>7.929922</td>\n",
       "    </tr>\n",
       "    <tr>\n",
       "      <th>нижний средний</th>\n",
       "      <td>7160</td>\n",
       "      <td>624</td>\n",
       "      <td>8.715084</td>\n",
       "    </tr>\n",
       "    <tr>\n",
       "      <th>обеспеченныe</th>\n",
       "      <td>2591</td>\n",
       "      <td>180</td>\n",
       "      <td>6.947125</td>\n",
       "    </tr>\n",
       "    <tr>\n",
       "      <th>средний</th>\n",
       "      <td>7018</td>\n",
       "      <td>569</td>\n",
       "      <td>8.107723</td>\n",
       "    </tr>\n",
       "  </tbody>\n",
       "</table>\n",
       "</div>"
      ],
      "text/plain": [
       "                 total  debt    % debt\n",
       "category_income                       \n",
       "богатые            222    14  6.306306\n",
       "выше бедности      125    10  8.000000\n",
       "ниже среднего     4338   344  7.929922\n",
       "нижний средний    7160   624  8.715084\n",
       "обеспеченныe      2591   180  6.947125\n",
       "средний           7018   569  8.107723"
      ]
     },
     "execution_count": 14,
     "metadata": {},
     "output_type": "execute_result"
    }
   ],
   "source": [
    "report_income = df.groupby('category_income').agg({'debt':['count', 'sum', 'mean']})\n",
    "report_income.columns = ['total', 'debt', '% debt']\n",
    "report_income['% debt'] = report_income['% debt']*100\n",
    "report_income"
   ]
  },
  {
   "cell_type": "markdown",
   "metadata": {},
   "source": [
    "### Вывод\n",
    "\n",
    "Исходя из данных таблицы можно выдвинуть предположение, что уровень дохода влияет на возврат кредита, если речь идет о богатых и обеспеченных людях - они действительно допускают просрочки реже. Остальные категории доходов допускают просрочки примерно одинаково.  "
   ]
  },
  {
   "cell_type": "markdown",
   "metadata": {},
   "source": [
    "- Как разные цели кредита влияют на его возврат в срок?"
   ]
  },
  {
   "cell_type": "code",
   "execution_count": 15,
   "metadata": {},
   "outputs": [
    {
     "data": {
      "text/html": [
       "<div>\n",
       "<style scoped>\n",
       "    .dataframe tbody tr th:only-of-type {\n",
       "        vertical-align: middle;\n",
       "    }\n",
       "\n",
       "    .dataframe tbody tr th {\n",
       "        vertical-align: top;\n",
       "    }\n",
       "\n",
       "    .dataframe thead th {\n",
       "        text-align: right;\n",
       "    }\n",
       "</style>\n",
       "<table border=\"1\" class=\"dataframe\">\n",
       "  <thead>\n",
       "    <tr style=\"text-align: right;\">\n",
       "      <th></th>\n",
       "      <th>total</th>\n",
       "      <th>debt</th>\n",
       "      <th>% debt</th>\n",
       "    </tr>\n",
       "    <tr>\n",
       "      <th>category_purpose</th>\n",
       "      <th></th>\n",
       "      <th></th>\n",
       "      <th></th>\n",
       "    </tr>\n",
       "  </thead>\n",
       "  <tbody>\n",
       "    <tr>\n",
       "      <th>автомобиль</th>\n",
       "      <td>4306</td>\n",
       "      <td>403</td>\n",
       "      <td>9.359034</td>\n",
       "    </tr>\n",
       "    <tr>\n",
       "      <th>недвижимость</th>\n",
       "      <td>10811</td>\n",
       "      <td>782</td>\n",
       "      <td>7.233373</td>\n",
       "    </tr>\n",
       "    <tr>\n",
       "      <th>образование</th>\n",
       "      <td>4013</td>\n",
       "      <td>370</td>\n",
       "      <td>9.220035</td>\n",
       "    </tr>\n",
       "    <tr>\n",
       "      <th>свадьба</th>\n",
       "      <td>2324</td>\n",
       "      <td>186</td>\n",
       "      <td>8.003442</td>\n",
       "    </tr>\n",
       "  </tbody>\n",
       "</table>\n",
       "</div>"
      ],
      "text/plain": [
       "                  total  debt    % debt\n",
       "category_purpose                       \n",
       "автомобиль         4306   403  9.359034\n",
       "недвижимость      10811   782  7.233373\n",
       "образование        4013   370  9.220035\n",
       "свадьба            2324   186  8.003442"
      ]
     },
     "execution_count": 15,
     "metadata": {},
     "output_type": "execute_result"
    }
   ],
   "source": [
    "report_purpose = df.groupby('category_purpose').agg({'debt':['count', 'sum', 'mean']})\n",
    "report_purpose.columns = ['total', 'debt', '% debt']\n",
    "report_purpose['% debt'] = report_purpose['% debt']*100\n",
    "report_purpose"
   ]
  },
  {
   "cell_type": "markdown",
   "metadata": {},
   "source": [
    "### Вывод\n",
    "\n",
    "Меньше всего просрочек по кредитам на недвижимость, что объяснимо, так как жилье - это основная потребность человека. На втором месте кредиты на свадьбы. Больше всего просрочек по кредитам на образование и автомобили, стоит обратить внимание на это. "
   ]
  },
  {
   "cell_type": "markdown",
   "metadata": {},
   "source": [
    "## Шаг 4. Общий вывод"
   ]
  },
  {
   "cell_type": "markdown",
   "metadata": {},
   "source": [
    "Изучены 4 вопроса.\n",
    "\n",
    "Есть ли зависимость между наличием детей и возвратом кредита в срок?\n",
    "Действительно, это так. Меньше всего просрочек допускают заемщики без детей, больше всего просрочек у людей с 1-2 детьми. Многодетные люди берут кредиты намного реже, чем бездетные и люди, у кого есть 1-2 ребенка. \n",
    "\n",
    "Есть ли зависимость между семейным положением и возвратом кредита в срок?\n",
    "Есть,  самые надежные заемщики - люди в разводе и вдовцы. Небольшая разница с ними у женатых людей - эта самая многочисленная категория заемщиков. Самый большой процент просрочек у неженатых людей и живущих в гражданских браках, стоит обратить на это внимание. \n",
    "\n",
    "Есть ли зависимость между уровнем дохода и возвратом кредита в срок?\n",
    "Зависимость есть, но не такая сильная. Богатые и обеспеченные люди являются самыми надежными заемщиками. Остальные категории доходов возвращают кредиты одинаково.  \n",
    "\n",
    "Как разные цели кредита влияют на его возврат в срок?\n",
    "Меньше всего просрочек по кредитам на недвижимость - это оъяснимо, так как это самые обеспеченные кредиты. На втором месте кредиты на свадьбы. Больше всего просрочек по кредитам на образование и автомобили, это плохо обеспеченные кредиты, так как образование не гарантирует получение средств, а автомобиль может быть испорчен и сильно потерять в цене."
   ]
  }
 ],
 "metadata": {
  "ExecuteTimeLog": [
   {
    "duration": 1337,
    "start_time": "2021-12-29T11:42:07.161Z"
   },
   {
    "duration": 76,
    "start_time": "2021-12-29T11:42:19.517Z"
   },
   {
    "duration": 67,
    "start_time": "2021-12-29T11:42:25.805Z"
   },
   {
    "duration": 96,
    "start_time": "2021-12-29T11:44:02.757Z"
   },
   {
    "duration": 709,
    "start_time": "2021-12-29T17:14:34.269Z"
   },
   {
    "duration": 87,
    "start_time": "2021-12-29T17:29:15.180Z"
   },
   {
    "duration": 72,
    "start_time": "2021-12-29T17:52:23.912Z"
   },
   {
    "duration": 86,
    "start_time": "2021-12-29T18:09:54.137Z"
   },
   {
    "duration": 88,
    "start_time": "2021-12-29T18:11:00.633Z"
   },
   {
    "duration": 76,
    "start_time": "2021-12-29T18:13:47.937Z"
   },
   {
    "duration": 11,
    "start_time": "2021-12-29T18:39:29.581Z"
   },
   {
    "duration": 82,
    "start_time": "2021-12-29T18:40:03.757Z"
   },
   {
    "duration": 73,
    "start_time": "2021-12-29T18:40:44.524Z"
   },
   {
    "duration": 68,
    "start_time": "2021-12-29T19:03:13.483Z"
   },
   {
    "duration": 80,
    "start_time": "2021-12-29T19:03:22.535Z"
   },
   {
    "duration": 283,
    "start_time": "2021-12-29T19:04:37.038Z"
   },
   {
    "duration": 70,
    "start_time": "2021-12-29T19:04:42.872Z"
   },
   {
    "duration": 65,
    "start_time": "2021-12-29T19:04:54.972Z"
   },
   {
    "duration": 96,
    "start_time": "2021-12-29T19:09:10.176Z"
   },
   {
    "duration": 271,
    "start_time": "2021-12-29T19:09:17.214Z"
   },
   {
    "duration": -3144,
    "start_time": "2021-12-29T19:09:56.849Z"
   },
   {
    "duration": 8222,
    "start_time": "2021-12-29T19:10:06.047Z"
   },
   {
    "duration": 25,
    "start_time": "2021-12-29T19:10:35.582Z"
   },
   {
    "duration": 79,
    "start_time": "2021-12-29T19:38:44.124Z"
   },
   {
    "duration": 20,
    "start_time": "2021-12-29T20:02:34.774Z"
   },
   {
    "duration": 22,
    "start_time": "2021-12-29T20:03:13.797Z"
   },
   {
    "duration": 24,
    "start_time": "2021-12-29T20:03:34.501Z"
   },
   {
    "duration": 74,
    "start_time": "2021-12-29T20:05:07.610Z"
   },
   {
    "duration": 25,
    "start_time": "2021-12-29T20:05:40.021Z"
   },
   {
    "duration": 28,
    "start_time": "2021-12-29T20:07:29.310Z"
   },
   {
    "duration": 44,
    "start_time": "2021-12-29T20:08:06.046Z"
   },
   {
    "duration": 85,
    "start_time": "2021-12-29T20:08:49.495Z"
   },
   {
    "duration": 32,
    "start_time": "2021-12-29T20:09:07.487Z"
   },
   {
    "duration": 36,
    "start_time": "2021-12-29T20:11:13.799Z"
   },
   {
    "duration": 421,
    "start_time": "2021-12-29T20:11:22.414Z"
   },
   {
    "duration": 44,
    "start_time": "2021-12-29T20:11:39.742Z"
   },
   {
    "duration": 37,
    "start_time": "2021-12-29T20:11:43.475Z"
   },
   {
    "duration": 83,
    "start_time": "2021-12-29T20:11:48.840Z"
   },
   {
    "duration": 35,
    "start_time": "2021-12-29T20:11:53.375Z"
   },
   {
    "duration": 13,
    "start_time": "2021-12-29T20:21:49.518Z"
   },
   {
    "duration": 17,
    "start_time": "2021-12-29T20:22:06.392Z"
   },
   {
    "duration": 365,
    "start_time": "2021-12-29T20:29:07.290Z"
   },
   {
    "duration": 595,
    "start_time": "2021-12-29T20:29:11.800Z"
   },
   {
    "duration": 301,
    "start_time": "2021-12-29T20:29:40.670Z"
   },
   {
    "duration": 416,
    "start_time": "2021-12-29T20:30:01.610Z"
   },
   {
    "duration": 332,
    "start_time": "2021-12-29T20:30:07.521Z"
   },
   {
    "duration": 272,
    "start_time": "2021-12-29T20:32:05.679Z"
   },
   {
    "duration": 25,
    "start_time": "2021-12-29T20:33:22.162Z"
   },
   {
    "duration": 258,
    "start_time": "2021-12-29T20:43:14.628Z"
   },
   {
    "duration": 4285,
    "start_time": "2021-12-29T20:46:52.638Z"
   },
   {
    "duration": -3103,
    "start_time": "2021-12-29T20:47:00.116Z"
   },
   {
    "duration": 114,
    "start_time": "2021-12-29T20:47:00.392Z"
   },
   {
    "duration": 30,
    "start_time": "2021-12-29T20:47:11.299Z"
   },
   {
    "duration": 74,
    "start_time": "2021-12-29T20:47:16.870Z"
   },
   {
    "duration": 40,
    "start_time": "2021-12-29T20:47:20.046Z"
   },
   {
    "duration": 4543,
    "start_time": "2021-12-29T20:47:33.385Z"
   },
   {
    "duration": 86,
    "start_time": "2021-12-29T20:47:37.930Z"
   },
   {
    "duration": 27,
    "start_time": "2021-12-29T20:47:38.019Z"
   },
   {
    "duration": 89,
    "start_time": "2021-12-29T20:48:01.182Z"
   },
   {
    "duration": 34,
    "start_time": "2021-12-29T20:48:01.274Z"
   },
   {
    "duration": 4440,
    "start_time": "2021-12-29T20:48:01.310Z"
   },
   {
    "duration": 84,
    "start_time": "2021-12-29T20:48:05.752Z"
   },
   {
    "duration": 42,
    "start_time": "2021-12-29T20:48:05.837Z"
   },
   {
    "duration": 74,
    "start_time": "2021-12-29T20:48:27.002Z"
   },
   {
    "duration": 45,
    "start_time": "2021-12-29T20:48:27.079Z"
   },
   {
    "duration": 4461,
    "start_time": "2021-12-29T20:48:27.126Z"
   },
   {
    "duration": 2713,
    "start_time": "2021-12-29T20:49:45.437Z"
   },
   {
    "duration": 86,
    "start_time": "2021-12-29T20:49:48.417Z"
   },
   {
    "duration": 41,
    "start_time": "2021-12-29T20:49:48.505Z"
   },
   {
    "duration": 2677,
    "start_time": "2021-12-29T20:49:48.561Z"
   },
   {
    "duration": 18,
    "start_time": "2021-12-29T20:58:28.840Z"
   },
   {
    "duration": 75,
    "start_time": "2021-12-29T20:58:34.305Z"
   },
   {
    "duration": 22,
    "start_time": "2021-12-29T20:58:38.420Z"
   },
   {
    "duration": 90,
    "start_time": "2021-12-29T20:59:47.137Z"
   },
   {
    "duration": 17,
    "start_time": "2021-12-29T20:59:47.230Z"
   },
   {
    "duration": 99,
    "start_time": "2021-12-29T21:00:02.337Z"
   },
   {
    "duration": 39,
    "start_time": "2021-12-29T21:00:02.438Z"
   },
   {
    "duration": 2739,
    "start_time": "2021-12-29T21:00:20.685Z"
   },
   {
    "duration": 28,
    "start_time": "2021-12-29T21:01:41.814Z"
   },
   {
    "duration": 25,
    "start_time": "2021-12-29T22:09:49.758Z"
   },
   {
    "duration": 41,
    "start_time": "2021-12-29T22:16:39.613Z"
   },
   {
    "duration": 59,
    "start_time": "2021-12-29T22:16:49.761Z"
   },
   {
    "duration": 65,
    "start_time": "2021-12-29T22:16:53.783Z"
   },
   {
    "duration": 85,
    "start_time": "2021-12-29T22:17:01.780Z"
   },
   {
    "duration": 27,
    "start_time": "2021-12-29T22:17:01.867Z"
   },
   {
    "duration": 2612,
    "start_time": "2021-12-29T22:17:01.898Z"
   },
   {
    "duration": 51,
    "start_time": "2021-12-29T22:17:21.474Z"
   },
   {
    "duration": 72,
    "start_time": "2021-12-29T22:17:34.546Z"
   },
   {
    "duration": 84,
    "start_time": "2021-12-29T22:17:40.692Z"
   },
   {
    "duration": 17,
    "start_time": "2021-12-29T22:17:40.779Z"
   },
   {
    "duration": 2536,
    "start_time": "2021-12-29T22:17:40.799Z"
   },
   {
    "duration": 77,
    "start_time": "2021-12-29T22:18:03.275Z"
   },
   {
    "duration": 85,
    "start_time": "2021-12-29T22:25:10.210Z"
   },
   {
    "duration": 68,
    "start_time": "2021-12-29T22:25:14.390Z"
   },
   {
    "duration": 28,
    "start_time": "2021-12-29T22:25:14.460Z"
   },
   {
    "duration": 2604,
    "start_time": "2021-12-29T22:25:14.490Z"
   },
   {
    "duration": 95,
    "start_time": "2021-12-29T22:25:26.348Z"
   },
   {
    "duration": 21,
    "start_time": "2021-12-29T22:27:49.774Z"
   },
   {
    "duration": 5570,
    "start_time": "2021-12-29T22:35:23.165Z"
   },
   {
    "duration": 305,
    "start_time": "2021-12-29T22:37:06.710Z"
   },
   {
    "duration": 7729,
    "start_time": "2021-12-29T22:38:21.479Z"
   },
   {
    "duration": 7631,
    "start_time": "2021-12-29T22:38:32.423Z"
   },
   {
    "duration": 816,
    "start_time": "2021-12-29T22:38:46.991Z"
   },
   {
    "duration": 314,
    "start_time": "2021-12-29T22:40:19.158Z"
   },
   {
    "duration": 120,
    "start_time": "2021-12-29T22:41:34.264Z"
   },
   {
    "duration": 805,
    "start_time": "2021-12-29T22:42:06.095Z"
   },
   {
    "duration": 799,
    "start_time": "2021-12-29T22:42:27.224Z"
   },
   {
    "duration": 905,
    "start_time": "2022-01-08T12:22:08.508Z"
   },
   {
    "duration": 93,
    "start_time": "2022-01-08T12:30:36.589Z"
   },
   {
    "duration": 66,
    "start_time": "2022-01-08T12:54:27.795Z"
   },
   {
    "duration": 100,
    "start_time": "2022-01-08T13:14:17.925Z"
   },
   {
    "duration": 102,
    "start_time": "2022-01-08T13:14:23.672Z"
   },
   {
    "duration": 64,
    "start_time": "2022-01-08T13:15:37.929Z"
   },
   {
    "duration": 489,
    "start_time": "2022-01-08T19:40:31.340Z"
   },
   {
    "duration": 125,
    "start_time": "2022-01-08T19:40:49.052Z"
   },
   {
    "duration": 874,
    "start_time": "2022-01-08T19:40:52.056Z"
   },
   {
    "duration": 117,
    "start_time": "2022-01-08T19:40:52.933Z"
   },
   {
    "duration": 18,
    "start_time": "2022-01-08T19:41:18.355Z"
   },
   {
    "duration": 27,
    "start_time": "2022-01-08T19:42:41.682Z"
   },
   {
    "duration": 16,
    "start_time": "2022-01-08T19:42:51.672Z"
   },
   {
    "duration": 28,
    "start_time": "2022-01-08T19:43:29.945Z"
   },
   {
    "duration": 17,
    "start_time": "2022-01-08T19:44:09.633Z"
   },
   {
    "duration": 28,
    "start_time": "2022-01-08T19:44:16.107Z"
   },
   {
    "duration": 17,
    "start_time": "2022-01-08T19:44:38.235Z"
   },
   {
    "duration": 5,
    "start_time": "2022-01-08T19:47:03.366Z"
   },
   {
    "duration": 7,
    "start_time": "2022-01-08T19:47:12.001Z"
   },
   {
    "duration": 16,
    "start_time": "2022-01-08T19:50:07.098Z"
   },
   {
    "duration": 402,
    "start_time": "2022-01-08T19:51:29.524Z"
   },
   {
    "duration": 14,
    "start_time": "2022-01-08T19:53:22.840Z"
   },
   {
    "duration": 372,
    "start_time": "2022-01-08T19:53:33.382Z"
   },
   {
    "duration": 6,
    "start_time": "2022-01-08T19:53:35.808Z"
   },
   {
    "duration": 118,
    "start_time": "2022-01-08T19:55:25.100Z"
   },
   {
    "duration": 116,
    "start_time": "2022-01-08T19:55:51.995Z"
   },
   {
    "duration": 508,
    "start_time": "2022-01-08T19:56:03.605Z"
   },
   {
    "duration": 111,
    "start_time": "2022-01-08T19:56:15.079Z"
   },
   {
    "duration": 8,
    "start_time": "2022-01-08T19:56:42.215Z"
   },
   {
    "duration": 6,
    "start_time": "2022-01-08T19:56:47.774Z"
   },
   {
    "duration": 5,
    "start_time": "2022-01-08T19:59:41.318Z"
   },
   {
    "duration": 5,
    "start_time": "2022-01-08T20:04:34.908Z"
   },
   {
    "duration": 5,
    "start_time": "2022-01-08T20:05:32.922Z"
   },
   {
    "duration": 874,
    "start_time": "2022-01-08T20:05:39.337Z"
   },
   {
    "duration": 5,
    "start_time": "2022-01-08T20:05:44.463Z"
   },
   {
    "duration": 9845,
    "start_time": "2022-01-08T20:05:46.540Z"
   },
   {
    "duration": 5,
    "start_time": "2022-01-08T20:06:31.020Z"
   },
   {
    "duration": 10213,
    "start_time": "2022-01-08T20:06:32.261Z"
   },
   {
    "duration": 5,
    "start_time": "2022-01-08T20:06:54.368Z"
   },
   {
    "duration": 135,
    "start_time": "2022-01-08T20:06:54.642Z"
   },
   {
    "duration": 5,
    "start_time": "2022-01-08T20:07:02.545Z"
   },
   {
    "duration": 134,
    "start_time": "2022-01-08T20:08:00.624Z"
   },
   {
    "duration": 5,
    "start_time": "2022-01-08T20:12:34.622Z"
   },
   {
    "duration": 155,
    "start_time": "2022-01-08T20:12:35.977Z"
   },
   {
    "duration": 5,
    "start_time": "2022-01-08T20:12:44.659Z"
   },
   {
    "duration": 175,
    "start_time": "2022-01-08T20:12:45.446Z"
   },
   {
    "duration": 5,
    "start_time": "2022-01-08T20:13:01.602Z"
   },
   {
    "duration": 153,
    "start_time": "2022-01-08T20:13:02.141Z"
   },
   {
    "duration": 6,
    "start_time": "2022-01-08T20:13:09.560Z"
   },
   {
    "duration": 148,
    "start_time": "2022-01-08T20:13:09.880Z"
   },
   {
    "duration": 6,
    "start_time": "2022-01-08T20:13:50.640Z"
   },
   {
    "duration": 158,
    "start_time": "2022-01-08T20:13:51.131Z"
   },
   {
    "duration": 6,
    "start_time": "2022-01-08T20:13:57.164Z"
   },
   {
    "duration": 154,
    "start_time": "2022-01-08T20:13:57.377Z"
   },
   {
    "duration": 5,
    "start_time": "2022-01-08T20:15:09.826Z"
   },
   {
    "duration": 159,
    "start_time": "2022-01-08T20:15:10.609Z"
   },
   {
    "duration": 6,
    "start_time": "2022-01-08T20:15:27.498Z"
   },
   {
    "duration": 156,
    "start_time": "2022-01-08T20:15:27.957Z"
   },
   {
    "duration": 6,
    "start_time": "2022-01-08T20:15:34.715Z"
   },
   {
    "duration": 160,
    "start_time": "2022-01-08T20:15:35.198Z"
   },
   {
    "duration": 6,
    "start_time": "2022-01-08T20:15:40.661Z"
   },
   {
    "duration": 196,
    "start_time": "2022-01-08T20:15:40.933Z"
   },
   {
    "duration": 6,
    "start_time": "2022-01-08T20:15:46.396Z"
   },
   {
    "duration": 152,
    "start_time": "2022-01-08T20:15:46.717Z"
   },
   {
    "duration": 5,
    "start_time": "2022-01-08T20:17:23.009Z"
   },
   {
    "duration": 136,
    "start_time": "2022-01-08T20:17:23.382Z"
   },
   {
    "duration": 6,
    "start_time": "2022-01-08T20:17:29.648Z"
   },
   {
    "duration": 137,
    "start_time": "2022-01-08T20:17:29.894Z"
   },
   {
    "duration": 6,
    "start_time": "2022-01-08T20:17:33.256Z"
   },
   {
    "duration": 133,
    "start_time": "2022-01-08T20:17:33.445Z"
   },
   {
    "duration": 5,
    "start_time": "2022-01-08T20:17:37.457Z"
   },
   {
    "duration": 146,
    "start_time": "2022-01-08T20:17:37.641Z"
   },
   {
    "duration": 34,
    "start_time": "2022-01-08T20:18:44.853Z"
   },
   {
    "duration": 8,
    "start_time": "2022-01-08T20:18:55.070Z"
   },
   {
    "duration": 6,
    "start_time": "2022-01-08T20:19:22.937Z"
   },
   {
    "duration": 138,
    "start_time": "2022-01-08T20:19:23.435Z"
   },
   {
    "duration": 6,
    "start_time": "2022-01-08T20:19:37.800Z"
   },
   {
    "duration": 139,
    "start_time": "2022-01-08T20:19:38.262Z"
   },
   {
    "duration": 5,
    "start_time": "2022-01-08T20:19:41.770Z"
   },
   {
    "duration": 141,
    "start_time": "2022-01-08T20:19:41.959Z"
   },
   {
    "duration": 6,
    "start_time": "2022-01-08T20:19:44.721Z"
   },
   {
    "duration": 136,
    "start_time": "2022-01-08T20:19:44.901Z"
   },
   {
    "duration": 5,
    "start_time": "2022-01-08T20:21:21.540Z"
   },
   {
    "duration": 75,
    "start_time": "2022-01-08T20:21:21.872Z"
   },
   {
    "duration": 6,
    "start_time": "2022-01-08T20:21:30.331Z"
   },
   {
    "duration": 75,
    "start_time": "2022-01-08T20:21:30.514Z"
   },
   {
    "duration": 6,
    "start_time": "2022-01-08T20:22:19.131Z"
   },
   {
    "duration": 80,
    "start_time": "2022-01-08T20:22:19.584Z"
   },
   {
    "duration": 6,
    "start_time": "2022-01-08T20:22:26.039Z"
   },
   {
    "duration": 79,
    "start_time": "2022-01-08T20:22:26.355Z"
   },
   {
    "duration": 6,
    "start_time": "2022-01-08T20:23:26.811Z"
   },
   {
    "duration": 3027,
    "start_time": "2022-01-08T20:23:28.518Z"
   },
   {
    "duration": 6,
    "start_time": "2022-01-08T20:23:41.241Z"
   },
   {
    "duration": 75,
    "start_time": "2022-01-08T20:23:41.434Z"
   },
   {
    "duration": 6,
    "start_time": "2022-01-08T20:23:46.408Z"
   },
   {
    "duration": 77,
    "start_time": "2022-01-08T20:23:46.583Z"
   },
   {
    "duration": 7,
    "start_time": "2022-01-08T20:23:51.141Z"
   },
   {
    "duration": 75,
    "start_time": "2022-01-08T20:23:51.291Z"
   },
   {
    "duration": 5,
    "start_time": "2022-01-08T20:23:55.146Z"
   },
   {
    "duration": 75,
    "start_time": "2022-01-08T20:23:55.305Z"
   },
   {
    "duration": 5,
    "start_time": "2022-01-08T20:24:27.005Z"
   },
   {
    "duration": 76,
    "start_time": "2022-01-08T20:24:27.239Z"
   },
   {
    "duration": 6,
    "start_time": "2022-01-08T20:24:38.021Z"
   },
   {
    "duration": 79,
    "start_time": "2022-01-08T20:24:38.197Z"
   },
   {
    "duration": 6,
    "start_time": "2022-01-08T20:24:54.993Z"
   },
   {
    "duration": 75,
    "start_time": "2022-01-08T20:24:55.200Z"
   },
   {
    "duration": 105,
    "start_time": "2022-01-08T20:35:56.050Z"
   },
   {
    "duration": 5,
    "start_time": "2022-01-08T20:43:19.039Z"
   },
   {
    "duration": 793,
    "start_time": "2022-01-08T20:44:40.959Z"
   },
   {
    "duration": 6,
    "start_time": "2022-01-08T20:45:05.891Z"
   },
   {
    "duration": 5,
    "start_time": "2022-01-08T20:45:06.338Z"
   },
   {
    "duration": 1240,
    "start_time": "2022-01-08T20:45:07.022Z"
   },
   {
    "duration": 5,
    "start_time": "2022-01-08T20:45:19.487Z"
   },
   {
    "duration": 239,
    "start_time": "2022-01-08T20:45:19.975Z"
   },
   {
    "duration": 228,
    "start_time": "2022-01-08T20:45:35.625Z"
   },
   {
    "duration": 5,
    "start_time": "2022-01-08T20:53:32.764Z"
   },
   {
    "duration": 119,
    "start_time": "2022-01-08T20:53:33.528Z"
   },
   {
    "duration": 4,
    "start_time": "2022-01-08T20:56:34.577Z"
   },
   {
    "duration": 123,
    "start_time": "2022-01-08T20:56:34.928Z"
   },
   {
    "duration": 417,
    "start_time": "2022-01-08T20:58:26.138Z"
   },
   {
    "duration": 4,
    "start_time": "2022-01-08T20:58:41.350Z"
   },
   {
    "duration": 6,
    "start_time": "2022-01-08T20:58:42.067Z"
   },
   {
    "duration": 7,
    "start_time": "2022-01-08T20:58:56.497Z"
   },
   {
    "duration": 6,
    "start_time": "2022-01-08T20:59:05.610Z"
   },
   {
    "duration": 8,
    "start_time": "2022-01-08T20:59:43.117Z"
   },
   {
    "duration": 11,
    "start_time": "2022-01-08T20:59:51.842Z"
   },
   {
    "duration": 6,
    "start_time": "2022-01-08T20:59:55.797Z"
   },
   {
    "duration": 11,
    "start_time": "2022-01-08T20:59:56.257Z"
   },
   {
    "duration": 6,
    "start_time": "2022-01-08T21:00:17.114Z"
   },
   {
    "duration": 11,
    "start_time": "2022-01-08T21:00:20.534Z"
   },
   {
    "duration": 8,
    "start_time": "2022-01-08T21:00:30.042Z"
   },
   {
    "duration": 13,
    "start_time": "2022-01-08T21:00:32.434Z"
   },
   {
    "duration": 5,
    "start_time": "2022-01-08T21:00:39.848Z"
   },
   {
    "duration": 11,
    "start_time": "2022-01-08T21:00:40.709Z"
   },
   {
    "duration": 8,
    "start_time": "2022-01-08T21:00:50.091Z"
   },
   {
    "duration": 11,
    "start_time": "2022-01-08T21:00:51.864Z"
   },
   {
    "duration": 6,
    "start_time": "2022-01-08T21:01:31.168Z"
   },
   {
    "duration": 9,
    "start_time": "2022-01-08T21:01:36.241Z"
   },
   {
    "duration": 11,
    "start_time": "2022-01-08T22:01:55.519Z"
   },
   {
    "duration": 93,
    "start_time": "2022-01-08T22:02:02.254Z"
   },
   {
    "duration": 11,
    "start_time": "2022-01-08T22:02:02.350Z"
   },
   {
    "duration": 6,
    "start_time": "2022-01-08T22:02:02.364Z"
   },
   {
    "duration": 11,
    "start_time": "2022-01-08T22:02:02.372Z"
   },
   {
    "duration": 360,
    "start_time": "2022-01-08T22:02:02.385Z"
   },
   {
    "duration": 40,
    "start_time": "2022-01-08T22:02:02.708Z"
   },
   {
    "duration": 34,
    "start_time": "2022-01-08T22:02:02.715Z"
   },
   {
    "duration": 364,
    "start_time": "2022-01-08T22:02:12.068Z"
   },
   {
    "duration": 57,
    "start_time": "2022-01-08T22:32:50.143Z"
   },
   {
    "duration": 93,
    "start_time": "2022-01-08T22:51:56.039Z"
   },
   {
    "duration": 101,
    "start_time": "2022-01-08T22:52:17.821Z"
   },
   {
    "duration": 92,
    "start_time": "2022-01-08T22:52:24.532Z"
   },
   {
    "duration": 90,
    "start_time": "2022-01-08T22:52:43.048Z"
   },
   {
    "duration": 94,
    "start_time": "2022-01-08T22:53:11.904Z"
   },
   {
    "duration": 95,
    "start_time": "2022-01-08T22:53:21.153Z"
   },
   {
    "duration": 96,
    "start_time": "2022-01-08T22:53:35.825Z"
   },
   {
    "duration": 103,
    "start_time": "2022-01-08T22:53:46.368Z"
   },
   {
    "duration": 94,
    "start_time": "2022-01-08T22:54:17.347Z"
   },
   {
    "duration": 98,
    "start_time": "2022-01-08T22:54:27.544Z"
   },
   {
    "duration": 98,
    "start_time": "2022-01-08T22:54:40.975Z"
   },
   {
    "duration": 95,
    "start_time": "2022-01-08T22:54:46.816Z"
   },
   {
    "duration": 405,
    "start_time": "2022-01-08T22:55:10.945Z"
   },
   {
    "duration": 127,
    "start_time": "2022-01-08T22:55:24.998Z"
   },
   {
    "duration": 127,
    "start_time": "2022-01-08T22:55:51.439Z"
   },
   {
    "duration": 125,
    "start_time": "2022-01-08T22:56:22.560Z"
   },
   {
    "duration": 113,
    "start_time": "2022-01-08T22:56:26.865Z"
   },
   {
    "duration": 118,
    "start_time": "2022-01-08T22:56:44.554Z"
   },
   {
    "duration": 109,
    "start_time": "2022-01-08T22:56:53.392Z"
   },
   {
    "duration": 89,
    "start_time": "2022-01-08T22:57:07.492Z"
   },
   {
    "duration": 103,
    "start_time": "2022-01-08T22:58:37.057Z"
   },
   {
    "duration": 96,
    "start_time": "2022-01-08T22:58:48.706Z"
   },
   {
    "duration": 97,
    "start_time": "2022-01-08T22:58:56.129Z"
   },
   {
    "duration": 91,
    "start_time": "2022-01-08T22:59:01.964Z"
   },
   {
    "duration": 108,
    "start_time": "2022-01-08T22:59:02.058Z"
   },
   {
    "duration": 97,
    "start_time": "2022-01-08T22:59:20.945Z"
   },
   {
    "duration": 89,
    "start_time": "2022-01-08T22:59:24.979Z"
   },
   {
    "duration": 104,
    "start_time": "2022-01-08T22:59:25.071Z"
   },
   {
    "duration": 89,
    "start_time": "2022-01-08T23:01:19.105Z"
   },
   {
    "duration": 91,
    "start_time": "2022-01-08T23:01:54.691Z"
   },
   {
    "duration": 90,
    "start_time": "2022-01-08T23:02:25.803Z"
   },
   {
    "duration": 90,
    "start_time": "2022-01-08T23:02:36.708Z"
   },
   {
    "duration": 89,
    "start_time": "2022-01-08T23:02:56.402Z"
   },
   {
    "duration": 149,
    "start_time": "2022-01-08T23:03:07.337Z"
   },
   {
    "duration": 48,
    "start_time": "2022-01-08T23:03:19.864Z"
   },
   {
    "duration": 89,
    "start_time": "2022-01-08T23:04:02.373Z"
   },
   {
    "duration": 94,
    "start_time": "2022-01-08T23:04:16.504Z"
   },
   {
    "duration": 1131,
    "start_time": "2022-01-09T13:32:00.515Z"
   },
   {
    "duration": 101,
    "start_time": "2022-01-09T13:33:37.802Z"
   },
   {
    "duration": 64,
    "start_time": "2022-01-09T13:34:38.013Z"
   },
   {
    "duration": 64,
    "start_time": "2022-01-09T13:38:09.163Z"
   },
   {
    "duration": 70,
    "start_time": "2022-01-09T13:38:18.847Z"
   },
   {
    "duration": 68,
    "start_time": "2022-01-09T13:38:26.065Z"
   },
   {
    "duration": 93,
    "start_time": "2022-01-09T13:38:31.220Z"
   },
   {
    "duration": 90,
    "start_time": "2022-01-09T13:44:35.244Z"
   },
   {
    "duration": 64,
    "start_time": "2022-01-09T13:44:45.319Z"
   },
   {
    "duration": 105,
    "start_time": "2022-01-09T13:44:45.386Z"
   },
   {
    "duration": 12,
    "start_time": "2022-01-09T13:50:33.910Z"
   },
   {
    "duration": 12,
    "start_time": "2022-01-09T13:59:15.783Z"
   },
   {
    "duration": 100,
    "start_time": "2022-01-09T14:01:11.167Z"
   },
   {
    "duration": 60,
    "start_time": "2022-01-09T14:11:09.624Z"
   },
   {
    "duration": 72,
    "start_time": "2022-01-09T14:11:12.539Z"
   },
   {
    "duration": 95,
    "start_time": "2022-01-09T14:11:12.614Z"
   },
   {
    "duration": 12,
    "start_time": "2022-01-09T14:11:12.711Z"
   },
   {
    "duration": 69,
    "start_time": "2022-01-09T14:11:23.440Z"
   },
   {
    "duration": 95,
    "start_time": "2022-01-09T14:11:23.511Z"
   },
   {
    "duration": 13,
    "start_time": "2022-01-09T14:11:23.608Z"
   },
   {
    "duration": 73,
    "start_time": "2022-01-09T14:11:23.623Z"
   },
   {
    "duration": 691,
    "start_time": "2022-01-09T14:50:25.677Z"
   },
   {
    "duration": 664,
    "start_time": "2022-01-09T14:50:42.381Z"
   },
   {
    "duration": 704,
    "start_time": "2022-01-09T14:50:59.989Z"
   },
   {
    "duration": 697,
    "start_time": "2022-01-09T14:54:13.825Z"
   },
   {
    "duration": 729,
    "start_time": "2022-01-09T14:54:25.417Z"
   },
   {
    "duration": 676,
    "start_time": "2022-01-09T14:56:30.763Z"
   },
   {
    "duration": 97,
    "start_time": "2022-01-09T14:57:59.823Z"
   },
   {
    "duration": 675,
    "start_time": "2022-01-09T14:58:21.122Z"
   },
   {
    "duration": 719,
    "start_time": "2022-01-09T15:03:47.187Z"
   },
   {
    "duration": 79,
    "start_time": "2022-01-09T15:07:52.476Z"
   },
   {
    "duration": 689,
    "start_time": "2022-01-09T15:08:02.684Z"
   },
   {
    "duration": 1265,
    "start_time": "2022-01-09T15:45:53.508Z"
   },
   {
    "duration": 937,
    "start_time": "2022-01-09T15:47:00.767Z"
   },
   {
    "duration": 989,
    "start_time": "2022-01-09T15:51:17.239Z"
   },
   {
    "duration": 970,
    "start_time": "2022-01-09T15:51:49.025Z"
   },
   {
    "duration": 961,
    "start_time": "2022-01-09T15:52:08.008Z"
   },
   {
    "duration": 881,
    "start_time": "2022-01-09T15:53:52.960Z"
   },
   {
    "duration": 879,
    "start_time": "2022-01-09T15:54:16.768Z"
   },
   {
    "duration": 791,
    "start_time": "2022-01-09T15:54:55.922Z"
   },
   {
    "duration": 1289,
    "start_time": "2022-01-09T15:55:13.591Z"
   },
   {
    "duration": 930,
    "start_time": "2022-01-09T15:58:30.018Z"
   },
   {
    "duration": 3350,
    "start_time": "2022-01-09T16:10:27.657Z"
   },
   {
    "duration": 3620,
    "start_time": "2022-01-09T16:10:47.308Z"
   },
   {
    "duration": 66,
    "start_time": "2022-01-09T16:10:58.924Z"
   },
   {
    "duration": 91,
    "start_time": "2022-01-09T16:10:58.992Z"
   },
   {
    "duration": 11,
    "start_time": "2022-01-09T16:10:59.085Z"
   },
   {
    "duration": 66,
    "start_time": "2022-01-09T16:10:59.098Z"
   },
   {
    "duration": 16,
    "start_time": "2022-01-09T16:10:59.166Z"
   },
   {
    "duration": 16,
    "start_time": "2022-01-09T16:10:59.184Z"
   },
   {
    "duration": 3683,
    "start_time": "2022-01-09T16:13:22.237Z"
   },
   {
    "duration": 65,
    "start_time": "2022-01-09T16:19:36.505Z"
   },
   {
    "duration": 93,
    "start_time": "2022-01-09T16:19:36.571Z"
   },
   {
    "duration": 11,
    "start_time": "2022-01-09T16:19:36.666Z"
   },
   {
    "duration": 62,
    "start_time": "2022-01-09T16:19:36.679Z"
   },
   {
    "duration": 16,
    "start_time": "2022-01-09T16:19:36.742Z"
   },
   {
    "duration": 63,
    "start_time": "2022-01-09T16:20:37.777Z"
   },
   {
    "duration": 85,
    "start_time": "2022-01-09T16:20:37.842Z"
   },
   {
    "duration": 16,
    "start_time": "2022-01-09T16:20:37.929Z"
   },
   {
    "duration": 53,
    "start_time": "2022-01-09T16:20:37.946Z"
   },
   {
    "duration": 16,
    "start_time": "2022-01-09T16:20:38.001Z"
   },
   {
    "duration": 3627,
    "start_time": "2022-01-09T16:20:46.282Z"
   },
   {
    "duration": 3907,
    "start_time": "2022-01-09T16:26:31.173Z"
   },
   {
    "duration": 3550,
    "start_time": "2022-01-09T16:27:53.392Z"
   },
   {
    "duration": 3946,
    "start_time": "2022-01-09T16:28:15.713Z"
   },
   {
    "duration": 4236,
    "start_time": "2022-01-09T16:28:29.177Z"
   },
   {
    "duration": 3865,
    "start_time": "2022-01-09T16:29:18.434Z"
   },
   {
    "duration": 3509,
    "start_time": "2022-01-09T16:29:41.306Z"
   },
   {
    "duration": 3934,
    "start_time": "2022-01-09T16:36:12.201Z"
   },
   {
    "duration": 3592,
    "start_time": "2022-01-09T16:38:06.096Z"
   },
   {
    "duration": 11341,
    "start_time": "2022-01-09T16:39:01.903Z"
   },
   {
    "duration": 3844,
    "start_time": "2022-01-09T16:39:35.577Z"
   },
   {
    "duration": 3660,
    "start_time": "2022-01-09T16:40:07.161Z"
   },
   {
    "duration": 656,
    "start_time": "2022-01-10T17:11:20.499Z"
   },
   {
    "duration": 100,
    "start_time": "2022-01-10T17:11:21.157Z"
   },
   {
    "duration": 14,
    "start_time": "2022-01-10T17:11:21.260Z"
   },
   {
    "duration": 59,
    "start_time": "2022-01-10T17:11:21.290Z"
   },
   {
    "duration": 20,
    "start_time": "2022-01-10T17:11:21.351Z"
   },
   {
    "duration": 3640,
    "start_time": "2022-01-10T17:11:21.392Z"
   },
   {
    "duration": 363,
    "start_time": "2022-01-10T17:11:29.411Z"
   },
   {
    "duration": 8,
    "start_time": "2022-01-10T17:11:50.428Z"
   },
   {
    "duration": 1647,
    "start_time": "2022-01-10T18:04:34.709Z"
   },
   {
    "duration": 1432,
    "start_time": "2022-01-10T18:06:04.773Z"
   },
   {
    "duration": 67,
    "start_time": "2022-01-10T18:06:31.636Z"
   },
   {
    "duration": 60,
    "start_time": "2022-01-10T18:14:33.671Z"
   },
   {
    "duration": 73,
    "start_time": "2022-01-10T18:15:10.422Z"
   },
   {
    "duration": 111,
    "start_time": "2022-01-10T18:21:11.391Z"
   },
   {
    "duration": 75,
    "start_time": "2022-01-10T18:21:24.565Z"
   },
   {
    "duration": 64,
    "start_time": "2022-01-10T18:21:36.577Z"
   },
   {
    "duration": 122,
    "start_time": "2022-01-10T18:21:36.643Z"
   },
   {
    "duration": 29,
    "start_time": "2022-01-10T18:21:36.767Z"
   },
   {
    "duration": 60,
    "start_time": "2022-01-10T18:21:36.799Z"
   },
   {
    "duration": 41,
    "start_time": "2022-01-10T18:21:36.861Z"
   },
   {
    "duration": 3934,
    "start_time": "2022-01-10T18:21:36.905Z"
   },
   {
    "duration": 94,
    "start_time": "2022-01-10T18:21:40.841Z"
   },
   {
    "duration": 68,
    "start_time": "2022-01-10T18:21:48.143Z"
   },
   {
    "duration": 115,
    "start_time": "2022-01-10T18:21:48.213Z"
   },
   {
    "duration": 14,
    "start_time": "2022-01-10T18:21:48.330Z"
   },
   {
    "duration": 84,
    "start_time": "2022-01-10T18:21:48.346Z"
   },
   {
    "duration": 17,
    "start_time": "2022-01-10T18:21:48.432Z"
   },
   {
    "duration": 3995,
    "start_time": "2022-01-10T18:21:48.451Z"
   },
   {
    "duration": 87,
    "start_time": "2022-01-10T18:22:07.271Z"
   },
   {
    "duration": 178,
    "start_time": "2022-01-10T18:23:26.516Z"
   },
   {
    "duration": 71,
    "start_time": "2022-01-10T18:23:41.107Z"
   },
   {
    "duration": 73,
    "start_time": "2022-01-10T18:24:08.197Z"
   },
   {
    "duration": 74,
    "start_time": "2022-01-10T18:24:15.647Z"
   },
   {
    "duration": 111,
    "start_time": "2022-01-10T18:24:15.723Z"
   },
   {
    "duration": 12,
    "start_time": "2022-01-10T18:24:15.837Z"
   },
   {
    "duration": 70,
    "start_time": "2022-01-10T18:24:15.851Z"
   },
   {
    "duration": 18,
    "start_time": "2022-01-10T18:24:15.923Z"
   },
   {
    "duration": 3536,
    "start_time": "2022-01-10T18:24:15.944Z"
   },
   {
    "duration": 79,
    "start_time": "2022-01-10T18:27:42.752Z"
   },
   {
    "duration": 188,
    "start_time": "2022-01-10T18:30:06.970Z"
   },
   {
    "duration": 183,
    "start_time": "2022-01-10T18:31:32.518Z"
   },
   {
    "duration": 72,
    "start_time": "2022-01-10T18:31:38.169Z"
   },
   {
    "duration": 112,
    "start_time": "2022-01-10T18:31:38.243Z"
   },
   {
    "duration": 13,
    "start_time": "2022-01-10T18:31:38.357Z"
   },
   {
    "duration": 70,
    "start_time": "2022-01-10T18:31:38.372Z"
   },
   {
    "duration": 18,
    "start_time": "2022-01-10T18:31:38.445Z"
   },
   {
    "duration": 3913,
    "start_time": "2022-01-10T18:31:38.465Z"
   },
   {
    "duration": 73,
    "start_time": "2022-01-10T18:31:52.612Z"
   },
   {
    "duration": 196,
    "start_time": "2022-01-10T18:32:22.569Z"
   },
   {
    "duration": 70,
    "start_time": "2022-01-10T18:36:02.110Z"
   },
   {
    "duration": 201,
    "start_time": "2022-01-10T18:37:47.147Z"
   },
   {
    "duration": 213,
    "start_time": "2022-01-10T18:38:08.161Z"
   },
   {
    "duration": 223,
    "start_time": "2022-01-10T18:38:17.281Z"
   },
   {
    "duration": 67,
    "start_time": "2022-01-10T18:38:22.185Z"
   },
   {
    "duration": 106,
    "start_time": "2022-01-10T18:38:22.254Z"
   },
   {
    "duration": 11,
    "start_time": "2022-01-10T18:38:22.362Z"
   },
   {
    "duration": 69,
    "start_time": "2022-01-10T18:38:22.375Z"
   },
   {
    "duration": 17,
    "start_time": "2022-01-10T18:38:22.446Z"
   },
   {
    "duration": 3537,
    "start_time": "2022-01-10T18:38:22.465Z"
   },
   {
    "duration": 213,
    "start_time": "2022-01-10T18:39:06.233Z"
   },
   {
    "duration": 197,
    "start_time": "2022-01-10T18:40:17.664Z"
   },
   {
    "duration": 63,
    "start_time": "2022-01-10T18:41:03.008Z"
   },
   {
    "duration": 59,
    "start_time": "2022-01-10T18:41:14.927Z"
   },
   {
    "duration": 198,
    "start_time": "2022-01-10T18:41:24.871Z"
   },
   {
    "duration": 189,
    "start_time": "2022-01-10T18:42:28.095Z"
   },
   {
    "duration": 73,
    "start_time": "2022-01-10T18:42:46.859Z"
   },
   {
    "duration": 118,
    "start_time": "2022-01-10T18:42:46.935Z"
   },
   {
    "duration": 14,
    "start_time": "2022-01-10T18:42:47.055Z"
   },
   {
    "duration": 83,
    "start_time": "2022-01-10T18:42:47.072Z"
   },
   {
    "duration": 36,
    "start_time": "2022-01-10T18:42:47.157Z"
   },
   {
    "duration": 4431,
    "start_time": "2022-01-10T18:42:47.195Z"
   },
   {
    "duration": 89,
    "start_time": "2022-01-10T18:47:57.050Z"
   },
   {
    "duration": 79,
    "start_time": "2022-01-10T18:48:30.081Z"
   },
   {
    "duration": 67,
    "start_time": "2022-01-10T18:48:43.526Z"
   },
   {
    "duration": 107,
    "start_time": "2022-01-10T18:48:43.595Z"
   },
   {
    "duration": 14,
    "start_time": "2022-01-10T18:48:43.704Z"
   },
   {
    "duration": 77,
    "start_time": "2022-01-10T18:48:43.720Z"
   },
   {
    "duration": 17,
    "start_time": "2022-01-10T18:48:43.799Z"
   },
   {
    "duration": 3473,
    "start_time": "2022-01-10T18:48:43.818Z"
   },
   {
    "duration": 84,
    "start_time": "2022-01-10T18:48:51.169Z"
   },
   {
    "duration": 77,
    "start_time": "2022-01-10T18:50:24.130Z"
   },
   {
    "duration": 70,
    "start_time": "2022-01-10T18:50:30.467Z"
   },
   {
    "duration": 103,
    "start_time": "2022-01-10T18:50:30.539Z"
   },
   {
    "duration": 12,
    "start_time": "2022-01-10T18:50:30.644Z"
   },
   {
    "duration": 73,
    "start_time": "2022-01-10T18:50:30.657Z"
   },
   {
    "duration": 17,
    "start_time": "2022-01-10T18:50:30.732Z"
   },
   {
    "duration": 3580,
    "start_time": "2022-01-10T18:50:30.750Z"
   },
   {
    "duration": 70,
    "start_time": "2022-01-10T18:50:45.085Z"
   },
   {
    "duration": 102,
    "start_time": "2022-01-10T18:50:45.157Z"
   },
   {
    "duration": 13,
    "start_time": "2022-01-10T18:50:45.261Z"
   },
   {
    "duration": 70,
    "start_time": "2022-01-10T18:50:45.276Z"
   },
   {
    "duration": 17,
    "start_time": "2022-01-10T18:50:45.348Z"
   },
   {
    "duration": 3477,
    "start_time": "2022-01-10T18:50:45.367Z"
   },
   {
    "duration": 68,
    "start_time": "2022-01-10T18:50:50.981Z"
   },
   {
    "duration": 108,
    "start_time": "2022-01-10T18:50:51.051Z"
   },
   {
    "duration": 13,
    "start_time": "2022-01-10T18:50:51.161Z"
   },
   {
    "duration": 69,
    "start_time": "2022-01-10T18:50:51.176Z"
   },
   {
    "duration": 18,
    "start_time": "2022-01-10T18:50:51.246Z"
   },
   {
    "duration": 3902,
    "start_time": "2022-01-10T18:50:51.266Z"
   },
   {
    "duration": 74,
    "start_time": "2022-01-10T18:51:16.980Z"
   },
   {
    "duration": 76,
    "start_time": "2022-01-10T18:51:31.348Z"
   },
   {
    "duration": 96,
    "start_time": "2022-01-10T18:52:33.500Z"
   },
   {
    "duration": 59,
    "start_time": "2022-01-10T18:56:56.276Z"
   },
   {
    "duration": 138,
    "start_time": "2022-01-10T18:57:04.729Z"
   },
   {
    "duration": 68,
    "start_time": "2022-01-10T18:57:59.130Z"
   },
   {
    "duration": 71,
    "start_time": "2022-01-10T18:59:28.060Z"
   },
   {
    "duration": 75,
    "start_time": "2022-01-10T18:59:44.867Z"
   },
   {
    "duration": 90,
    "start_time": "2022-01-10T18:59:53.805Z"
   },
   {
    "duration": 134,
    "start_time": "2022-01-10T18:59:53.897Z"
   },
   {
    "duration": 14,
    "start_time": "2022-01-10T18:59:54.034Z"
   },
   {
    "duration": 78,
    "start_time": "2022-01-10T18:59:54.050Z"
   },
   {
    "duration": 19,
    "start_time": "2022-01-10T18:59:54.130Z"
   },
   {
    "duration": 4342,
    "start_time": "2022-01-10T18:59:54.151Z"
   },
   {
    "duration": 88,
    "start_time": "2022-01-10T19:00:02.456Z"
   },
   {
    "duration": 109,
    "start_time": "2022-01-10T19:00:02.546Z"
   },
   {
    "duration": 35,
    "start_time": "2022-01-10T19:00:02.657Z"
   },
   {
    "duration": 67,
    "start_time": "2022-01-10T19:00:02.694Z"
   },
   {
    "duration": 39,
    "start_time": "2022-01-10T19:00:02.763Z"
   },
   {
    "duration": 4489,
    "start_time": "2022-01-10T19:00:02.804Z"
   },
   {
    "duration": 106,
    "start_time": "2022-01-10T19:00:10.496Z"
   },
   {
    "duration": 77,
    "start_time": "2022-01-10T19:00:50.042Z"
   },
   {
    "duration": 1120,
    "start_time": "2022-01-10T19:05:29.717Z"
   },
   {
    "duration": 62,
    "start_time": "2022-01-10T19:06:49.314Z"
   },
   {
    "duration": 94,
    "start_time": "2022-01-10T19:06:56.122Z"
   },
   {
    "duration": 64,
    "start_time": "2022-01-10T19:18:17.944Z"
   },
   {
    "duration": 664,
    "start_time": "2022-01-10T19:18:36.148Z"
   },
   {
    "duration": 559,
    "start_time": "2022-01-10T19:20:36.542Z"
   },
   {
    "duration": 4631,
    "start_time": "2022-01-10T19:20:52.283Z"
   },
   {
    "duration": 4443,
    "start_time": "2022-01-10T19:21:14.085Z"
   },
   {
    "duration": 863,
    "start_time": "2022-01-11T19:13:02.471Z"
   },
   {
    "duration": 161,
    "start_time": "2022-01-11T19:13:03.337Z"
   },
   {
    "duration": 16,
    "start_time": "2022-01-11T19:13:03.502Z"
   },
   {
    "duration": 113,
    "start_time": "2022-01-11T19:13:03.521Z"
   },
   {
    "duration": 40,
    "start_time": "2022-01-11T19:13:03.636Z"
   },
   {
    "duration": 4924,
    "start_time": "2022-01-11T19:13:03.679Z"
   },
   {
    "duration": 160,
    "start_time": "2022-01-11T19:14:10.644Z"
   },
   {
    "duration": 15,
    "start_time": "2022-01-11T19:16:17.959Z"
   },
   {
    "duration": 401,
    "start_time": "2022-01-11T19:17:03.697Z"
   },
   {
    "duration": 18,
    "start_time": "2022-01-11T19:17:15.401Z"
   },
   {
    "duration": 19,
    "start_time": "2022-01-11T19:18:10.538Z"
   },
   {
    "duration": 19,
    "start_time": "2022-01-11T19:38:49.100Z"
   },
   {
    "duration": 871,
    "start_time": "2022-01-12T17:25:40.744Z"
   },
   {
    "duration": 155,
    "start_time": "2022-01-12T17:25:41.618Z"
   },
   {
    "duration": 18,
    "start_time": "2022-01-12T17:25:41.776Z"
   },
   {
    "duration": 110,
    "start_time": "2022-01-12T17:25:41.797Z"
   },
   {
    "duration": 24,
    "start_time": "2022-01-12T17:25:41.910Z"
   },
   {
    "duration": 5012,
    "start_time": "2022-01-12T17:25:41.936Z"
   },
   {
    "duration": 140,
    "start_time": "2022-01-12T17:25:46.960Z"
   },
   {
    "duration": 114,
    "start_time": "2022-01-12T17:26:13.110Z"
   },
   {
    "duration": 130,
    "start_time": "2022-01-12T17:26:41.516Z"
   },
   {
    "duration": 61,
    "start_time": "2022-01-12T17:27:03.375Z"
   },
   {
    "duration": 181,
    "start_time": "2022-01-12T17:28:36.809Z"
   },
   {
    "duration": 62,
    "start_time": "2022-01-12T17:29:20.089Z"
   },
   {
    "duration": 92,
    "start_time": "2022-01-12T17:29:50.593Z"
   },
   {
    "duration": 159,
    "start_time": "2022-01-12T17:29:50.688Z"
   },
   {
    "duration": 24,
    "start_time": "2022-01-12T17:29:50.850Z"
   },
   {
    "duration": 110,
    "start_time": "2022-01-12T17:29:50.876Z"
   },
   {
    "duration": 33,
    "start_time": "2022-01-12T17:29:50.989Z"
   },
   {
    "duration": 4916,
    "start_time": "2022-01-12T17:29:51.025Z"
   },
   {
    "duration": 96,
    "start_time": "2022-01-12T17:29:59.378Z"
   },
   {
    "duration": 170,
    "start_time": "2022-01-12T17:29:59.477Z"
   },
   {
    "duration": 23,
    "start_time": "2022-01-12T17:29:59.650Z"
   },
   {
    "duration": 104,
    "start_time": "2022-01-12T17:29:59.676Z"
   },
   {
    "duration": 24,
    "start_time": "2022-01-12T17:29:59.783Z"
   },
   {
    "duration": 5325,
    "start_time": "2022-01-12T17:29:59.809Z"
   },
   {
    "duration": 60,
    "start_time": "2022-01-12T17:31:09.949Z"
   },
   {
    "duration": 65,
    "start_time": "2022-01-12T17:33:58.145Z"
   },
   {
    "duration": 69,
    "start_time": "2022-01-12T17:36:06.922Z"
   },
   {
    "duration": 67,
    "start_time": "2022-01-12T17:37:03.233Z"
   },
   {
    "duration": 64,
    "start_time": "2022-01-12T17:38:03.864Z"
   },
   {
    "duration": 64,
    "start_time": "2022-01-12T17:38:27.601Z"
   },
   {
    "duration": 65,
    "start_time": "2022-01-12T17:39:57.057Z"
   },
   {
    "duration": 61,
    "start_time": "2022-01-12T17:40:07.009Z"
   },
   {
    "duration": 86,
    "start_time": "2022-01-12T17:40:37.897Z"
   },
   {
    "duration": 103,
    "start_time": "2022-01-12T20:01:04.787Z"
   },
   {
    "duration": 328,
    "start_time": "2022-01-12T20:01:16.329Z"
   },
   {
    "duration": 917,
    "start_time": "2022-01-12T20:01:39.728Z"
   },
   {
    "duration": 166,
    "start_time": "2022-01-12T20:01:40.647Z"
   },
   {
    "duration": 18,
    "start_time": "2022-01-12T20:01:40.816Z"
   },
   {
    "duration": 111,
    "start_time": "2022-01-12T20:01:40.837Z"
   },
   {
    "duration": 33,
    "start_time": "2022-01-12T20:01:40.951Z"
   },
   {
    "duration": 4795,
    "start_time": "2022-01-12T20:01:40.987Z"
   },
   {
    "duration": 95,
    "start_time": "2022-01-12T20:01:45.784Z"
   },
   {
    "duration": 93,
    "start_time": "2022-01-12T20:01:45.884Z"
   },
   {
    "duration": 120,
    "start_time": "2022-01-12T20:01:45.981Z"
   },
   {
    "duration": 1127,
    "start_time": "2022-01-12T20:01:46.104Z"
   },
   {
    "duration": 20,
    "start_time": "2022-01-12T20:02:25.342Z"
   },
   {
    "duration": 281,
    "start_time": "2022-01-12T20:04:34.462Z"
   },
   {
    "duration": 19,
    "start_time": "2022-01-12T20:05:19.262Z"
   },
   {
    "duration": 73,
    "start_time": "2022-01-12T20:07:41.504Z"
   },
   {
    "duration": 90,
    "start_time": "2022-01-12T20:07:49.029Z"
   },
   {
    "duration": 166,
    "start_time": "2022-01-12T20:07:49.121Z"
   },
   {
    "duration": 17,
    "start_time": "2022-01-12T20:07:49.290Z"
   },
   {
    "duration": 111,
    "start_time": "2022-01-12T20:07:49.310Z"
   },
   {
    "duration": 43,
    "start_time": "2022-01-12T20:07:49.424Z"
   },
   {
    "duration": 4828,
    "start_time": "2022-01-12T20:07:49.470Z"
   },
   {
    "duration": 91,
    "start_time": "2022-01-12T20:07:54.300Z"
   },
   {
    "duration": 88,
    "start_time": "2022-01-12T20:07:54.395Z"
   },
   {
    "duration": 117,
    "start_time": "2022-01-12T20:07:54.486Z"
   },
   {
    "duration": 21,
    "start_time": "2022-01-12T20:08:12.341Z"
   },
   {
    "duration": 21,
    "start_time": "2022-01-12T20:21:53.806Z"
   },
   {
    "duration": 21,
    "start_time": "2022-01-12T20:23:12.929Z"
   },
   {
    "duration": 5097,
    "start_time": "2022-01-12T20:27:48.288Z"
   },
   {
    "duration": 94,
    "start_time": "2022-01-12T20:29:20.116Z"
   },
   {
    "duration": 22,
    "start_time": "2022-01-12T20:31:30.874Z"
   },
   {
    "duration": 251,
    "start_time": "2022-01-13T19:14:51.771Z"
   },
   {
    "duration": 554,
    "start_time": "2022-01-13T19:14:54.864Z"
   },
   {
    "duration": 102,
    "start_time": "2022-01-13T19:14:55.419Z"
   },
   {
    "duration": 11,
    "start_time": "2022-01-13T19:14:55.523Z"
   },
   {
    "duration": 52,
    "start_time": "2022-01-13T19:14:55.536Z"
   },
   {
    "duration": 32,
    "start_time": "2022-01-13T19:14:55.590Z"
   },
   {
    "duration": 3208,
    "start_time": "2022-01-13T19:14:55.623Z"
   },
   {
    "duration": 627,
    "start_time": "2022-01-16T07:49:13.092Z"
   },
   {
    "duration": 104,
    "start_time": "2022-01-16T07:49:13.721Z"
   },
   {
    "duration": 12,
    "start_time": "2022-01-16T07:49:13.828Z"
   },
   {
    "duration": 75,
    "start_time": "2022-01-16T07:49:13.842Z"
   },
   {
    "duration": 3384,
    "start_time": "2022-01-16T07:49:13.919Z"
   },
   {
    "duration": 39,
    "start_time": "2022-01-16T07:49:17.305Z"
   },
   {
    "duration": 67,
    "start_time": "2022-01-16T07:49:17.346Z"
   },
   {
    "duration": 52,
    "start_time": "2022-01-16T07:49:17.416Z"
   },
   {
    "duration": 35,
    "start_time": "2022-01-16T07:49:17.469Z"
   },
   {
    "duration": 13,
    "start_time": "2022-01-16T07:49:17.506Z"
   },
   {
    "duration": 13,
    "start_time": "2022-01-16T07:49:17.520Z"
   },
   {
    "duration": 17,
    "start_time": "2022-01-16T07:49:17.535Z"
   },
   {
    "duration": 19,
    "start_time": "2022-01-16T07:54:39.364Z"
   },
   {
    "duration": 83,
    "start_time": "2022-01-20T21:05:24.185Z"
   },
   {
    "duration": 85,
    "start_time": "2022-01-20T21:05:31.600Z"
   },
   {
    "duration": 83,
    "start_time": "2022-01-20T21:05:41.648Z"
   },
   {
    "duration": 122,
    "start_time": "2022-01-20T21:06:32.305Z"
   },
   {
    "duration": 86,
    "start_time": "2022-01-20T21:07:04.687Z"
   },
   {
    "duration": 743,
    "start_time": "2022-01-20T21:10:36.360Z"
   },
   {
    "duration": 85,
    "start_time": "2022-01-20T21:10:37.105Z"
   },
   {
    "duration": 61,
    "start_time": "2022-01-20T21:10:51.833Z"
   },
   {
    "duration": 67,
    "start_time": "2022-01-20T21:10:55.490Z"
   },
   {
    "duration": 19,
    "start_time": "2022-01-20T21:11:38.515Z"
   },
   {
    "duration": 46,
    "start_time": "2022-01-20T21:11:42.953Z"
   },
   {
    "duration": 74,
    "start_time": "2022-01-20T21:18:08.047Z"
   },
   {
    "duration": 40,
    "start_time": "2022-01-20T21:18:08.124Z"
   },
   {
    "duration": 46,
    "start_time": "2022-01-20T21:18:08.166Z"
   },
   {
    "duration": 63,
    "start_time": "2022-01-20T21:18:08.214Z"
   },
   {
    "duration": 19,
    "start_time": "2022-01-20T21:18:08.278Z"
   },
   {
    "duration": 23,
    "start_time": "2022-01-20T21:18:08.299Z"
   },
   {
    "duration": 69,
    "start_time": "2022-01-20T21:18:13.485Z"
   },
   {
    "duration": 20,
    "start_time": "2022-01-20T21:18:13.556Z"
   },
   {
    "duration": 71,
    "start_time": "2022-01-20T21:18:13.579Z"
   },
   {
    "duration": 42,
    "start_time": "2022-01-20T21:18:13.653Z"
   },
   {
    "duration": 19,
    "start_time": "2022-01-20T21:18:13.697Z"
   },
   {
    "duration": 27,
    "start_time": "2022-01-20T21:18:13.718Z"
   },
   {
    "duration": 62,
    "start_time": "2022-01-20T21:18:15.927Z"
   },
   {
    "duration": 90,
    "start_time": "2022-01-20T21:18:56.329Z"
   },
   {
    "duration": 68,
    "start_time": "2022-01-20T21:19:04.801Z"
   },
   {
    "duration": 66,
    "start_time": "2022-01-20T21:19:59.936Z"
   },
   {
    "duration": 71,
    "start_time": "2022-01-20T21:20:04.600Z"
   },
   {
    "duration": 70,
    "start_time": "2022-01-20T21:20:08.605Z"
   },
   {
    "duration": 22,
    "start_time": "2022-01-20T21:20:08.677Z"
   },
   {
    "duration": 75,
    "start_time": "2022-01-20T21:20:08.702Z"
   },
   {
    "duration": 41,
    "start_time": "2022-01-20T21:20:08.780Z"
   },
   {
    "duration": 41,
    "start_time": "2022-01-20T21:20:08.823Z"
   },
   {
    "duration": 15,
    "start_time": "2022-01-20T21:20:08.866Z"
   },
   {
    "duration": 71,
    "start_time": "2022-01-20T21:20:11.159Z"
   },
   {
    "duration": 63,
    "start_time": "2022-01-20T21:20:50.657Z"
   },
   {
    "duration": 75,
    "start_time": "2022-01-20T21:20:55.853Z"
   },
   {
    "duration": 32,
    "start_time": "2022-01-20T21:20:55.930Z"
   },
   {
    "duration": 48,
    "start_time": "2022-01-20T21:20:55.965Z"
   },
   {
    "duration": 66,
    "start_time": "2022-01-20T21:20:56.016Z"
   },
   {
    "duration": 20,
    "start_time": "2022-01-20T21:20:56.084Z"
   },
   {
    "duration": 17,
    "start_time": "2022-01-20T21:20:56.106Z"
   },
   {
    "duration": 95,
    "start_time": "2022-01-20T21:20:56.126Z"
   },
   {
    "duration": 3841,
    "start_time": "2022-01-20T21:30:26.978Z"
   },
   {
    "duration": 104,
    "start_time": "2022-01-20T21:34:09.645Z"
   },
   {
    "duration": 84,
    "start_time": "2022-01-20T21:42:52.129Z"
   },
   {
    "duration": 30,
    "start_time": "2022-01-20T21:42:52.216Z"
   },
   {
    "duration": 69,
    "start_time": "2022-01-20T21:42:52.262Z"
   },
   {
    "duration": 59,
    "start_time": "2022-01-20T21:42:52.333Z"
   },
   {
    "duration": 19,
    "start_time": "2022-01-20T21:42:52.394Z"
   },
   {
    "duration": 48,
    "start_time": "2022-01-20T21:42:52.415Z"
   },
   {
    "duration": 77,
    "start_time": "2022-01-20T21:42:52.465Z"
   },
   {
    "duration": 3617,
    "start_time": "2022-01-20T21:42:52.545Z"
   },
   {
    "duration": 42,
    "start_time": "2022-01-20T21:42:56.164Z"
   },
   {
    "duration": 73,
    "start_time": "2022-01-20T21:42:56.208Z"
   },
   {
    "duration": 93,
    "start_time": "2022-01-20T21:42:56.283Z"
   },
   {
    "duration": 13,
    "start_time": "2022-01-20T21:42:56.378Z"
   },
   {
    "duration": 13,
    "start_time": "2022-01-20T21:42:56.394Z"
   },
   {
    "duration": 14,
    "start_time": "2022-01-20T21:42:56.409Z"
   },
   {
    "duration": 48,
    "start_time": "2022-01-20T21:42:56.424Z"
   },
   {
    "duration": 719,
    "start_time": "2022-01-21T13:07:59.887Z"
   },
   {
    "duration": 26,
    "start_time": "2022-01-21T13:08:00.608Z"
   },
   {
    "duration": 70,
    "start_time": "2022-01-21T13:08:00.636Z"
   },
   {
    "duration": 41,
    "start_time": "2022-01-21T13:08:00.708Z"
   },
   {
    "duration": 20,
    "start_time": "2022-01-21T13:08:00.751Z"
   },
   {
    "duration": 36,
    "start_time": "2022-01-21T13:08:00.773Z"
   },
   {
    "duration": 67,
    "start_time": "2022-01-21T13:08:00.811Z"
   },
   {
    "duration": 3702,
    "start_time": "2022-01-21T13:08:00.881Z"
   },
   {
    "duration": 46,
    "start_time": "2022-01-21T13:08:04.598Z"
   },
   {
    "duration": 74,
    "start_time": "2022-01-21T13:08:04.646Z"
   },
   {
    "duration": 90,
    "start_time": "2022-01-21T13:08:04.722Z"
   },
   {
    "duration": 15,
    "start_time": "2022-01-21T13:08:04.813Z"
   },
   {
    "duration": 30,
    "start_time": "2022-01-21T13:08:04.830Z"
   },
   {
    "duration": 35,
    "start_time": "2022-01-21T13:08:04.862Z"
   },
   {
    "duration": 50,
    "start_time": "2022-01-21T13:08:04.899Z"
   },
   {
    "duration": 739,
    "start_time": "2022-02-23T17:34:55.054Z"
   },
   {
    "duration": 3086,
    "start_time": "2022-02-23T17:34:56.525Z"
   },
   {
    "duration": 328,
    "start_time": "2022-02-23T17:35:43.187Z"
   },
   {
    "duration": 83,
    "start_time": "2022-02-23T17:35:59.919Z"
   },
   {
    "duration": 1340,
    "start_time": "2022-02-23T17:36:18.817Z"
   },
   {
    "duration": 23,
    "start_time": "2022-02-23T17:36:39.832Z"
   },
   {
    "duration": 36,
    "start_time": "2022-02-23T17:36:43.470Z"
   },
   {
    "duration": 554,
    "start_time": "2022-07-12T11:30:37.042Z"
   },
   {
    "duration": 19,
    "start_time": "2022-07-12T11:30:37.598Z"
   },
   {
    "duration": 45,
    "start_time": "2022-07-12T11:30:37.619Z"
   },
   {
    "duration": 32,
    "start_time": "2022-07-12T11:30:37.666Z"
   },
   {
    "duration": 20,
    "start_time": "2022-07-12T11:30:37.699Z"
   },
   {
    "duration": 16,
    "start_time": "2022-07-12T11:30:37.721Z"
   },
   {
    "duration": 81,
    "start_time": "2022-07-12T11:30:37.739Z"
   },
   {
    "duration": 3347,
    "start_time": "2022-07-12T11:30:37.822Z"
   },
   {
    "duration": 35,
    "start_time": "2022-07-12T11:30:41.170Z"
   },
   {
    "duration": 62,
    "start_time": "2022-07-12T11:30:41.206Z"
   },
   {
    "duration": 53,
    "start_time": "2022-07-12T11:30:41.270Z"
   },
   {
    "duration": 12,
    "start_time": "2022-07-12T11:30:41.324Z"
   },
   {
    "duration": 14,
    "start_time": "2022-07-12T11:30:41.364Z"
   },
   {
    "duration": 13,
    "start_time": "2022-07-12T11:30:41.380Z"
   },
   {
    "duration": 13,
    "start_time": "2022-07-12T11:30:41.394Z"
   },
   {
    "duration": 7,
    "start_time": "2022-07-12T11:30:41.409Z"
   },
   {
    "duration": 80,
    "start_time": "2022-07-12T11:30:41.417Z"
   },
   {
    "duration": 13,
    "start_time": "2022-07-12T11:30:41.499Z"
   },
   {
    "duration": 28,
    "start_time": "2022-07-12T11:30:41.514Z"
   },
   {
    "duration": 77,
    "start_time": "2022-07-12T11:31:08.410Z"
   },
   {
    "duration": 101,
    "start_time": "2022-07-12T11:31:32.597Z"
   },
   {
    "duration": 24,
    "start_time": "2022-07-12T11:31:32.701Z"
   },
   {
    "duration": 64,
    "start_time": "2022-07-12T11:31:32.727Z"
   },
   {
    "duration": 44,
    "start_time": "2022-07-12T11:36:56.080Z"
   }
  ],
  "kernelspec": {
   "display_name": "Python 3 (ipykernel)",
   "language": "python",
   "name": "python3"
  },
  "language_info": {
   "codemirror_mode": {
    "name": "ipython",
    "version": 3
   },
   "file_extension": ".py",
   "mimetype": "text/x-python",
   "name": "python",
   "nbconvert_exporter": "python",
   "pygments_lexer": "ipython3",
   "version": "3.9.13"
  },
  "toc": {
   "base_numbering": 1,
   "nav_menu": {},
   "number_sections": true,
   "sideBar": true,
   "skip_h1_title": true,
   "title_cell": "Table of Contents",
   "title_sidebar": "Contents",
   "toc_cell": false,
   "toc_position": {
    "height": "calc(100% - 180px)",
    "left": "10px",
    "top": "150px",
    "width": "165px"
   },
   "toc_section_display": true,
   "toc_window_display": true
  }
 },
 "nbformat": 4,
 "nbformat_minor": 2
}
