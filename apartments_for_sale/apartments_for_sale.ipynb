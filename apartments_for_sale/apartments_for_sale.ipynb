{
 "cells": [
  {
   "cell_type": "markdown",
   "metadata": {},
   "source": [
    "# Исследование объявлений о продаже квартир\n",
    "\n"
   ]
  },
  {
   "cell_type": "markdown",
   "metadata": {},
   "source": [
    "<h1>Содержание<span class=\"tocSkip\"></span></h1>\n",
    "<div class=\"toc\"><ul class=\"toc-item\"><li><span><a href=\"#Изучение-данных-из-файла\" data-toc-modified-id=\"Изучение-данных-из-файла-1\"><span class=\"toc-item-num\">1&nbsp;&nbsp;</span>Изучение данных из файла</a></span><ul class=\"toc-item\"><li><span><a href=\"#Вывод\" data-toc-modified-id=\"Вывод-1.1\"><span class=\"toc-item-num\">1.1&nbsp;&nbsp;</span>Вывод</a></span></li></ul></li><li><span><a href=\"#Предобработка-данных\" data-toc-modified-id=\"Предобработка-данных-2\"><span class=\"toc-item-num\">2&nbsp;&nbsp;</span>Предобработка данных</a></span><ul class=\"toc-item\"><li><span><a href=\"#Вывод\" data-toc-modified-id=\"Вывод-2.1\"><span class=\"toc-item-num\">2.1&nbsp;&nbsp;</span>Вывод</a></span></li></ul></li><li><span><a href=\"#Расчёты-и-добавление-результатов-в-таблицу\" data-toc-modified-id=\"Расчёты-и-добавление-результатов-в-таблицу-3\"><span class=\"toc-item-num\">3&nbsp;&nbsp;</span>Расчёты и добавление результатов в таблицу</a></span><ul class=\"toc-item\"><li><span><a href=\"#Вывод\" data-toc-modified-id=\"Вывод-3.1\"><span class=\"toc-item-num\">3.1&nbsp;&nbsp;</span>Вывод</a></span></li></ul></li><li><span><a href=\"#Исследовательский-анализ-данных\" data-toc-modified-id=\"Исследовательский-анализ-данных-4\"><span class=\"toc-item-num\">4&nbsp;&nbsp;</span>Исследовательский анализ данных</a></span></li><li><span><a href=\"#Общий-вывод\" data-toc-modified-id=\"Общий-вывод-5\"><span class=\"toc-item-num\">5&nbsp;&nbsp;</span>Общий вывод</a></span></li>"
   ]
  },
  {
   "cell_type": "markdown",
   "metadata": {},
   "source": [
    "## Изучение данных из файла"
   ]
  },
  {
   "cell_type": "code",
   "execution_count": null,
   "metadata": {},
   "outputs": [],
   "source": [
    "import pandas as pd\n",
    "import matplotlib.pyplot as plt\n",
    "import warnings\n",
    "warnings.filterwarnings('ignore')"
   ]
  },
  {
   "cell_type": "code",
   "execution_count": 2,
   "metadata": {},
   "outputs": [
    {
     "data": {
      "text/html": [
       "<div>\n",
       "<style scoped>\n",
       "    .dataframe tbody tr th:only-of-type {\n",
       "        vertical-align: middle;\n",
       "    }\n",
       "\n",
       "    .dataframe tbody tr th {\n",
       "        vertical-align: top;\n",
       "    }\n",
       "\n",
       "    .dataframe thead th {\n",
       "        text-align: right;\n",
       "    }\n",
       "</style>\n",
       "<table border=\"1\" class=\"dataframe\">\n",
       "  <thead>\n",
       "    <tr style=\"text-align: right;\">\n",
       "      <th></th>\n",
       "      <th>total_images\\tlast_price\\ttotal_area\\tfirst_day_exposition\\trooms\\tceiling_height\\tfloors_total\\tliving_area\\tfloor\\tis_apartment\\tstudio\\topen_plan\\tkitchen_area\\tbalcony\\tlocality_name\\tairports_nearest\\tcityCenters_nearest\\tparks_around3000\\tparks_nearest\\tponds_around3000\\tponds_nearest\\tdays_exposition</th>\n",
       "    </tr>\n",
       "  </thead>\n",
       "  <tbody>\n",
       "    <tr>\n",
       "      <td>0</td>\n",
       "      <td>20\\t13000000.0\\t108.0\\t2019-03-07T00:00:00\\t3\\...</td>\n",
       "    </tr>\n",
       "    <tr>\n",
       "      <td>1</td>\n",
       "      <td>7\\t3350000.0\\t40.4\\t2018-12-04T00:00:00\\t1\\t\\t...</td>\n",
       "    </tr>\n",
       "    <tr>\n",
       "      <td>2</td>\n",
       "      <td>10\\t5196000.0\\t56.0\\t2015-08-20T00:00:00\\t2\\t\\...</td>\n",
       "    </tr>\n",
       "    <tr>\n",
       "      <td>3</td>\n",
       "      <td>0\\t64900000.0\\t159.0\\t2015-07-24T00:00:00\\t3\\t...</td>\n",
       "    </tr>\n",
       "    <tr>\n",
       "      <td>4</td>\n",
       "      <td>2\\t10000000.0\\t100.0\\t2018-06-19T00:00:00\\t2\\t...</td>\n",
       "    </tr>\n",
       "  </tbody>\n",
       "</table>\n",
       "</div>"
      ],
      "text/plain": [
       "  total_images\\tlast_price\\ttotal_area\\tfirst_day_exposition\\trooms\\tceiling_height\\tfloors_total\\tliving_area\\tfloor\\tis_apartment\\tstudio\\topen_plan\\tkitchen_area\\tbalcony\\tlocality_name\\tairports_nearest\\tcityCenters_nearest\\tparks_around3000\\tparks_nearest\\tponds_around3000\\tponds_nearest\\tdays_exposition\n",
       "0  20\\t13000000.0\\t108.0\\t2019-03-07T00:00:00\\t3\\...                                                                                                                                                                                                                                                                  \n",
       "1  7\\t3350000.0\\t40.4\\t2018-12-04T00:00:00\\t1\\t\\t...                                                                                                                                                                                                                                                                  \n",
       "2  10\\t5196000.0\\t56.0\\t2015-08-20T00:00:00\\t2\\t\\...                                                                                                                                                                                                                                                                  \n",
       "3  0\\t64900000.0\\t159.0\\t2015-07-24T00:00:00\\t3\\t...                                                                                                                                                                                                                                                                  \n",
       "4  2\\t10000000.0\\t100.0\\t2018-06-19T00:00:00\\t2\\t...                                                                                                                                                                                                                                                                  "
      ]
     },
     "execution_count": 2,
     "metadata": {},
     "output_type": "execute_result"
    }
   ],
   "source": [
    "df = pd.read_csv('/datasets/')\n",
    "df.head()"
   ]
  },
  {
   "cell_type": "code",
   "execution_count": 3,
   "metadata": {},
   "outputs": [
    {
     "data": {
      "text/html": [
       "<div>\n",
       "<style scoped>\n",
       "    .dataframe tbody tr th:only-of-type {\n",
       "        vertical-align: middle;\n",
       "    }\n",
       "\n",
       "    .dataframe tbody tr th {\n",
       "        vertical-align: top;\n",
       "    }\n",
       "\n",
       "    .dataframe thead th {\n",
       "        text-align: right;\n",
       "    }\n",
       "</style>\n",
       "<table border=\"1\" class=\"dataframe\">\n",
       "  <thead>\n",
       "    <tr style=\"text-align: right;\">\n",
       "      <th></th>\n",
       "      <th>total_images</th>\n",
       "      <th>last_price</th>\n",
       "      <th>total_area</th>\n",
       "      <th>first_day_exposition</th>\n",
       "      <th>rooms</th>\n",
       "      <th>ceiling_height</th>\n",
       "      <th>floors_total</th>\n",
       "      <th>living_area</th>\n",
       "      <th>floor</th>\n",
       "      <th>is_apartment</th>\n",
       "      <th>...</th>\n",
       "      <th>kitchen_area</th>\n",
       "      <th>balcony</th>\n",
       "      <th>locality_name</th>\n",
       "      <th>airports_nearest</th>\n",
       "      <th>cityCenters_nearest</th>\n",
       "      <th>parks_around3000</th>\n",
       "      <th>parks_nearest</th>\n",
       "      <th>ponds_around3000</th>\n",
       "      <th>ponds_nearest</th>\n",
       "      <th>days_exposition</th>\n",
       "    </tr>\n",
       "  </thead>\n",
       "  <tbody>\n",
       "    <tr>\n",
       "      <td>0</td>\n",
       "      <td>20</td>\n",
       "      <td>13000000.0</td>\n",
       "      <td>108.0</td>\n",
       "      <td>2019-03-07T00:00:00</td>\n",
       "      <td>3</td>\n",
       "      <td>2.70</td>\n",
       "      <td>16.0</td>\n",
       "      <td>51.0</td>\n",
       "      <td>8</td>\n",
       "      <td>NaN</td>\n",
       "      <td>...</td>\n",
       "      <td>25.0</td>\n",
       "      <td>NaN</td>\n",
       "      <td>Санкт-Петербург</td>\n",
       "      <td>18863.0</td>\n",
       "      <td>16028.0</td>\n",
       "      <td>1.0</td>\n",
       "      <td>482.0</td>\n",
       "      <td>2.0</td>\n",
       "      <td>755.0</td>\n",
       "      <td>NaN</td>\n",
       "    </tr>\n",
       "    <tr>\n",
       "      <td>1</td>\n",
       "      <td>7</td>\n",
       "      <td>3350000.0</td>\n",
       "      <td>40.4</td>\n",
       "      <td>2018-12-04T00:00:00</td>\n",
       "      <td>1</td>\n",
       "      <td>NaN</td>\n",
       "      <td>11.0</td>\n",
       "      <td>18.6</td>\n",
       "      <td>1</td>\n",
       "      <td>NaN</td>\n",
       "      <td>...</td>\n",
       "      <td>11.0</td>\n",
       "      <td>2.0</td>\n",
       "      <td>посёлок Шушары</td>\n",
       "      <td>12817.0</td>\n",
       "      <td>18603.0</td>\n",
       "      <td>0.0</td>\n",
       "      <td>NaN</td>\n",
       "      <td>0.0</td>\n",
       "      <td>NaN</td>\n",
       "      <td>81.0</td>\n",
       "    </tr>\n",
       "    <tr>\n",
       "      <td>2</td>\n",
       "      <td>10</td>\n",
       "      <td>5196000.0</td>\n",
       "      <td>56.0</td>\n",
       "      <td>2015-08-20T00:00:00</td>\n",
       "      <td>2</td>\n",
       "      <td>NaN</td>\n",
       "      <td>5.0</td>\n",
       "      <td>34.3</td>\n",
       "      <td>4</td>\n",
       "      <td>NaN</td>\n",
       "      <td>...</td>\n",
       "      <td>8.3</td>\n",
       "      <td>0.0</td>\n",
       "      <td>Санкт-Петербург</td>\n",
       "      <td>21741.0</td>\n",
       "      <td>13933.0</td>\n",
       "      <td>1.0</td>\n",
       "      <td>90.0</td>\n",
       "      <td>2.0</td>\n",
       "      <td>574.0</td>\n",
       "      <td>558.0</td>\n",
       "    </tr>\n",
       "    <tr>\n",
       "      <td>3</td>\n",
       "      <td>0</td>\n",
       "      <td>64900000.0</td>\n",
       "      <td>159.0</td>\n",
       "      <td>2015-07-24T00:00:00</td>\n",
       "      <td>3</td>\n",
       "      <td>NaN</td>\n",
       "      <td>14.0</td>\n",
       "      <td>NaN</td>\n",
       "      <td>9</td>\n",
       "      <td>NaN</td>\n",
       "      <td>...</td>\n",
       "      <td>NaN</td>\n",
       "      <td>0.0</td>\n",
       "      <td>Санкт-Петербург</td>\n",
       "      <td>28098.0</td>\n",
       "      <td>6800.0</td>\n",
       "      <td>2.0</td>\n",
       "      <td>84.0</td>\n",
       "      <td>3.0</td>\n",
       "      <td>234.0</td>\n",
       "      <td>424.0</td>\n",
       "    </tr>\n",
       "    <tr>\n",
       "      <td>4</td>\n",
       "      <td>2</td>\n",
       "      <td>10000000.0</td>\n",
       "      <td>100.0</td>\n",
       "      <td>2018-06-19T00:00:00</td>\n",
       "      <td>2</td>\n",
       "      <td>3.03</td>\n",
       "      <td>14.0</td>\n",
       "      <td>32.0</td>\n",
       "      <td>13</td>\n",
       "      <td>NaN</td>\n",
       "      <td>...</td>\n",
       "      <td>41.0</td>\n",
       "      <td>NaN</td>\n",
       "      <td>Санкт-Петербург</td>\n",
       "      <td>31856.0</td>\n",
       "      <td>8098.0</td>\n",
       "      <td>2.0</td>\n",
       "      <td>112.0</td>\n",
       "      <td>1.0</td>\n",
       "      <td>48.0</td>\n",
       "      <td>121.0</td>\n",
       "    </tr>\n",
       "  </tbody>\n",
       "</table>\n",
       "<p>5 rows × 22 columns</p>\n",
       "</div>"
      ],
      "text/plain": [
       "   total_images  last_price  total_area first_day_exposition  rooms  \\\n",
       "0            20  13000000.0       108.0  2019-03-07T00:00:00      3   \n",
       "1             7   3350000.0        40.4  2018-12-04T00:00:00      1   \n",
       "2            10   5196000.0        56.0  2015-08-20T00:00:00      2   \n",
       "3             0  64900000.0       159.0  2015-07-24T00:00:00      3   \n",
       "4             2  10000000.0       100.0  2018-06-19T00:00:00      2   \n",
       "\n",
       "   ceiling_height  floors_total  living_area  floor is_apartment  ...  \\\n",
       "0            2.70          16.0         51.0      8          NaN  ...   \n",
       "1             NaN          11.0         18.6      1          NaN  ...   \n",
       "2             NaN           5.0         34.3      4          NaN  ...   \n",
       "3             NaN          14.0          NaN      9          NaN  ...   \n",
       "4            3.03          14.0         32.0     13          NaN  ...   \n",
       "\n",
       "   kitchen_area  balcony    locality_name  airports_nearest  \\\n",
       "0          25.0      NaN  Санкт-Петербург           18863.0   \n",
       "1          11.0      2.0   посёлок Шушары           12817.0   \n",
       "2           8.3      0.0  Санкт-Петербург           21741.0   \n",
       "3           NaN      0.0  Санкт-Петербург           28098.0   \n",
       "4          41.0      NaN  Санкт-Петербург           31856.0   \n",
       "\n",
       "  cityCenters_nearest  parks_around3000  parks_nearest  ponds_around3000  \\\n",
       "0             16028.0               1.0          482.0               2.0   \n",
       "1             18603.0               0.0            NaN               0.0   \n",
       "2             13933.0               1.0           90.0               2.0   \n",
       "3              6800.0               2.0           84.0               3.0   \n",
       "4              8098.0               2.0          112.0               1.0   \n",
       "\n",
       "   ponds_nearest  days_exposition  \n",
       "0          755.0              NaN  \n",
       "1            NaN             81.0  \n",
       "2          574.0            558.0  \n",
       "3          234.0            424.0  \n",
       "4           48.0            121.0  \n",
       "\n",
       "[5 rows x 22 columns]"
      ]
     },
     "execution_count": 3,
     "metadata": {},
     "output_type": "execute_result"
    }
   ],
   "source": [
    "#из вывода таблицы вижу, что необходимо открыть ее с разделителями\n",
    "df = pd.read_csv('/datasets/', sep='\\t' , decimal='.')\n",
    "df.head()"
   ]
  },
  {
   "cell_type": "code",
   "execution_count": 4,
   "metadata": {},
   "outputs": [
    {
     "name": "stdout",
     "output_type": "stream",
     "text": [
      "<class 'pandas.core.frame.DataFrame'>\n",
      "RangeIndex: 23699 entries, 0 to 23698\n",
      "Data columns (total 22 columns):\n",
      "total_images            23699 non-null int64\n",
      "last_price              23699 non-null float64\n",
      "total_area              23699 non-null float64\n",
      "first_day_exposition    23699 non-null object\n",
      "rooms                   23699 non-null int64\n",
      "ceiling_height          14504 non-null float64\n",
      "floors_total            23613 non-null float64\n",
      "living_area             21796 non-null float64\n",
      "floor                   23699 non-null int64\n",
      "is_apartment            2775 non-null object\n",
      "studio                  23699 non-null bool\n",
      "open_plan               23699 non-null bool\n",
      "kitchen_area            21421 non-null float64\n",
      "balcony                 12180 non-null float64\n",
      "locality_name           23650 non-null object\n",
      "airports_nearest        18157 non-null float64\n",
      "cityCenters_nearest     18180 non-null float64\n",
      "parks_around3000        18181 non-null float64\n",
      "parks_nearest           8079 non-null float64\n",
      "ponds_around3000        18181 non-null float64\n",
      "ponds_nearest           9110 non-null float64\n",
      "days_exposition         20518 non-null float64\n",
      "dtypes: bool(2), float64(14), int64(3), object(3)\n",
      "memory usage: 3.7+ MB\n"
     ]
    }
   ],
   "source": [
    "df.info()"
   ]
  },
  {
   "cell_type": "markdown",
   "metadata": {},
   "source": [
    "### Вывод\n",
    "\n",
    "В таблице двадцать два столбца. Тип данных — object, bool, int и float.\n",
    "\n",
    "Согласно документации к данным:\n",
    "\n",
    "* airports_nearest — расстояние до ближайшего аэропорта в метрах (м)\n",
    "* balcony — число балконов\n",
    "* ceiling_height — высота потолков (м)\n",
    "* cityCenters_nearest — расстояние до центра города (м)\n",
    "* days_exposition — сколько дней было размещено объявление (от публикации до снятия)\n",
    "* first_day_exposition — дата публикации\n",
    "* floor — этаж\n",
    "* floors_total — всего этажей в доме\n",
    "* is_apartment — апартаменты (булев тип)\n",
    "* kitchen_area — площадь кухни в квадратных метрах (м²)\n",
    "* last_price — цена на момент снятия с публикации\n",
    "* living_area — жилая площадь в квадратных метрах (м²)\n",
    "* locality_name — название населённого пункта\n",
    "* open_plan — свободная планировка (булев тип)\n",
    "* parks_around3000 — число парков в радиусе 3 км\n",
    "* parks_nearest — расстояние до ближайшего парка (м)\n",
    "* ponds_around3000 — число водоёмов в радиусе 3 км\n",
    "* ponds_nearest — расстояние до ближайшего водоёма (м)\n",
    "* rooms — число комнат\n",
    "* studio — квартира-студия (булев тип)\n",
    "* total_area — площадь квартиры в квадратных метрах (м²)\n",
    "* total_images — число фотографий квартиры в объявлении\n",
    "\n",
    "В названии колонок я вижу нарушения стиля (запись без пробелов, использование заглавных букв). В целом считаю, что есть слишком длинные зазвания столбцов, необходимо укоротить названия столбцов и поправить стиль. \n",
    "\n",
    "Много клонок имеют тип данных float, хотя в этом нет необходимости. Есть столбец с датой и временем, стоит изменить формат отображения.  Есть пропущенные значения типа Nan - необходимо заменить подходящим образом. \n",
    "\n",
    "Предварительно можно утверждать, что данных достаточно для проведения исследовательского анализа. Но чтобы двигаться дальше, нужно устранить проблемы в данных."
   ]
  },
  {
   "cell_type": "markdown",
   "metadata": {},
   "source": [
    "## Предобработка данных"
   ]
  },
  {
   "cell_type": "code",
   "execution_count": 5,
   "metadata": {},
   "outputs": [
    {
     "data": {
      "text/plain": [
       "Index(['total_images', 'last_price', 'total_area', 'first_day_exposition',\n",
       "       'rooms', 'ceiling_height', 'floors_total', 'living_area', 'floor',\n",
       "       'is_apartment', 'studio', 'open_plan', 'kitchen_area', 'balcony',\n",
       "       'locality_name', 'airports_nearest', 'cityCenters_nearest',\n",
       "       'parks_around3000', 'parks_nearest', 'ponds_around3000',\n",
       "       'ponds_nearest', 'days_exposition'],\n",
       "      dtype='object')"
      ]
     },
     "execution_count": 5,
     "metadata": {},
     "output_type": "execute_result"
    }
   ],
   "source": [
    "df.columns"
   ]
  },
  {
   "cell_type": "code",
   "execution_count": 6,
   "metadata": {},
   "outputs": [
    {
     "data": {
      "text/plain": [
       "Index(['images', 'last_price', 'total_area', 'first_day_exposition', 'rooms',\n",
       "       'ceiling_height', 'floors_total', 'living_area', 'floor',\n",
       "       'is_apartment', 'studio', 'open_plan', 'kitchen_area', 'balcony',\n",
       "       'locality_name', 'airports', 'centers_nearest', 'parks_around',\n",
       "       'parks_nearest', 'ponds_around', 'ponds_nearest', 'days_exposition'],\n",
       "      dtype='object')"
      ]
     },
     "execution_count": 6,
     "metadata": {},
     "output_type": "execute_result"
    }
   ],
   "source": [
    "#переименование столбцов\n",
    "df = df.rename(columns={'cityCenters_nearest':'centers_nearest', 'total_images':'images', 'airports_nearest':'airports', 'parks_around3000':'parks_around', 'ponds_around3000':'ponds_around'})\n",
    "df.columns #проверка замены"
   ]
  },
  {
   "cell_type": "code",
   "execution_count": 7,
   "metadata": {},
   "outputs": [
    {
     "data": {
      "text/plain": [
       "images                      0\n",
       "last_price                  0\n",
       "total_area                  0\n",
       "first_day_exposition        0\n",
       "rooms                       0\n",
       "ceiling_height           9195\n",
       "floors_total               86\n",
       "living_area              1903\n",
       "floor                       0\n",
       "is_apartment            20924\n",
       "studio                      0\n",
       "open_plan                   0\n",
       "kitchen_area             2278\n",
       "balcony                 11519\n",
       "locality_name              49\n",
       "airports                 5542\n",
       "centers_nearest          5519\n",
       "parks_around             5518\n",
       "parks_nearest           15620\n",
       "ponds_around             5518\n",
       "ponds_nearest           14589\n",
       "days_exposition          3181\n",
       "dtype: int64"
      ]
     },
     "execution_count": 7,
     "metadata": {},
     "output_type": "execute_result"
    }
   ],
   "source": [
    "df.isna().sum() #подсчет количества пропусков"
   ]
  },
  {
   "cell_type": "code",
   "execution_count": 8,
   "metadata": {},
   "outputs": [
    {
     "data": {
      "text/plain": [
       "images                      0\n",
       "last_price                  0\n",
       "total_area                  0\n",
       "first_day_exposition        0\n",
       "rooms                       0\n",
       "ceiling_height              0\n",
       "floors_total                0\n",
       "living_area              1865\n",
       "floor                       0\n",
       "is_apartment                0\n",
       "studio                      0\n",
       "open_plan                   0\n",
       "kitchen_area             2222\n",
       "balcony                     0\n",
       "locality_name               0\n",
       "airports                 5524\n",
       "centers_nearest          5501\n",
       "parks_around                0\n",
       "parks_nearest           15535\n",
       "ponds_around                0\n",
       "ponds_nearest           14529\n",
       "days_exposition          3171\n",
       "dtype: int64"
      ]
     },
     "execution_count": 8,
     "metadata": {},
     "output_type": "execute_result"
    }
   ],
   "source": [
    "#Пропущенные значения в названии населенных пунктов и общего количества этажей удаляю, \n",
    "#т.к. их незначительное количество. Если заменить медианой по всем данным \n",
    "#количество этажей, может получиться, что этаж квартиры будет выше, чем медиана.\n",
    "#Пропущенные значения появились, предположительно из-за того, что люди заполнили не все пункты.\n",
    "df.dropna(subset=['locality_name', 'floors_total'], inplace = True)\n",
    "\n",
    "#значения в высоте потолков заполняю медианой по всем данным, \n",
    "#т.к. это более-менее стандартная величина. \n",
    "df['ceiling_height'] = df['ceiling_height'].fillna(df['ceiling_height'].median())\n",
    "\n",
    "#Предположение- если пропущено сколько дней продовалась квартира, значит она еще продается \n",
    "#и можно заполнить значение медианой по всем данным. Но при исключении выбивающихся значений \n",
    "#это будет мешать, поэтому оставляю столбец как есть.\n",
    "\n",
    "#в значениях булевого типа можно заменить пропуски на False\n",
    "#print(df['apartment'].unique())\n",
    "df['is_apartment'] = df['is_apartment'].fillna('False')\n",
    "\n",
    "#в некоторых столбцах пропуск позразумевает отсутствие чего-либо, можно заменить на 0\n",
    "#print(df['balcony'].unique())\n",
    "df['balcony'] = df['balcony'].fillna('0')\n",
    "\n",
    "#print(df['parks_around'].unique())\n",
    "df['parks_around'] = df['parks_around'].fillna('0')\n",
    "\n",
    "#print(df['ponds_around'].unique())\n",
    "df['ponds_around'] = df['ponds_around'].fillna('0')\n",
    "\n",
    "#проверка устранены ли пропуски\n",
    "df.isna().sum() "
   ]
  },
  {
   "cell_type": "code",
   "execution_count": 9,
   "metadata": {
    "scrolled": true
   },
   "outputs": [
    {
     "name": "stdout",
     "output_type": "stream",
     "text": [
      "Число пропусков до замены: 1865\n",
      "Число пропусков после замены: 0\n"
     ]
    }
   ],
   "source": [
    "#Необходимо заполнить пропуски в жилой площади медианой с группировкой по числу комнат.\n",
    "#Жилая площадь также зависит от общей площади, но это не категориальная переменная.\n",
    "print('Число пропусков до замены:', df['living_area'].isna().sum())\n",
    "for room in df['rooms'].unique():\n",
    "    median = df.loc[df['rooms'] == room, 'living_area'].median()\n",
    "    df.loc[(df['living_area'].isna()) & (df['rooms'] == room), 'living_area'] = median\n",
    "print('Число пропусков после замены:', df['living_area'].isna().sum())\n"
   ]
  },
  {
   "cell_type": "code",
   "execution_count": 10,
   "metadata": {},
   "outputs": [
    {
     "name": "stdout",
     "output_type": "stream",
     "text": [
      "Число пропусков до замены: 2222\n",
      "Число пропусков после замены: 194\n",
      "Число пропусков после 2 замены: 0\n"
     ]
    }
   ],
   "source": [
    "#Также, заполним пропуски в площади кухни медианой с группировкой по числу комнат.\n",
    "\n",
    "print('Число пропусков до замены:', df['kitchen_area'].isna().sum())\n",
    "for room in df['rooms'].unique():\n",
    "    median = df.loc[df['rooms'] == room, 'kitchen_area'].median()\n",
    "    df.loc[(df['kitchen_area'].isna()) & (df['rooms'] == room), 'kitchen_area'] = median\n",
    "print('Число пропусков после замены:', df['kitchen_area'].isna().sum())\n",
    "\n",
    "#Оставшиеся пропуски - студии, у которых вообще не указана площадь кухни. \n",
    "#Предположительно, в студиях площадь кухни ближе к однокомнатным квартирам.\n",
    "df['kitchen_area'] = df['kitchen_area'].fillna(df.loc[df['rooms'] == 1, 'kitchen_area'].median())\n",
    "print('Число пропусков после 2 замены:', df['kitchen_area'].isna().sum())\n"
   ]
  },
  {
   "cell_type": "code",
   "execution_count": 11,
   "metadata": {},
   "outputs": [
    {
     "name": "stdout",
     "output_type": "stream",
     "text": [
      "images                      0\n",
      "last_price                  0\n",
      "total_area                  0\n",
      "first_day_exposition        0\n",
      "rooms                       0\n",
      "ceiling_height              0\n",
      "floors_total                0\n",
      "living_area                 0\n",
      "floor                       0\n",
      "is_apartment                0\n",
      "studio                      0\n",
      "open_plan                   0\n",
      "kitchen_area                0\n",
      "balcony                     0\n",
      "locality_name               0\n",
      "airports                 5524\n",
      "centers_nearest          5501\n",
      "parks_around                0\n",
      "parks_nearest           15535\n",
      "ponds_around                0\n",
      "ponds_nearest           14529\n",
      "days_exposition          3171\n",
      "dtype: int64\n"
     ]
    },
    {
     "data": {
      "text/plain": [
       "('Число пропусков после всех замен:',\n",
       " images                     0\n",
       " last_price                 0\n",
       " total_area                 0\n",
       " first_day_exposition       0\n",
       " rooms                      0\n",
       " ceiling_height             0\n",
       " floors_total               0\n",
       " living_area                0\n",
       " floor                      0\n",
       " is_apartment               0\n",
       " studio                     0\n",
       " open_plan                  0\n",
       " kitchen_area               0\n",
       " balcony                    0\n",
       " locality_name              0\n",
       " airports                   0\n",
       " centers_nearest            0\n",
       " parks_around               0\n",
       " parks_nearest              0\n",
       " ponds_around               0\n",
       " ponds_nearest              0\n",
       " days_exposition         3171\n",
       " dtype: int64)"
      ]
     },
     "execution_count": 11,
     "metadata": {},
     "output_type": "execute_result"
    }
   ],
   "source": [
    "#Оставшиеся пропуски - населенные пункты, для которых вообще не было заполнено расстояние до \n",
    "#аэропортов. Заполним медианой по всем данным.\n",
    "#Пропущенные значения появились, предположительно из-за того, что рассчитывались компьютером. \n",
    "#возможны ошибки, плюс, если в заданной удаленности нет пруда, парка, аэропорта, \n",
    "#нельзя расчитать расстояние.\n",
    "\n",
    "print(df.isna().sum())\n",
    "\n",
    "last=['airports', 'centers_nearest', 'parks_nearest', 'ponds_nearest']\n",
    "\n",
    "def fill_median(last):\n",
    "    for element in last:\n",
    "        for local in df['locality_name'].unique():\n",
    "            median = df.loc[df['locality_name'] == local, element].median()\n",
    "            df.loc[(df[element].isna()) & (df['locality_name'] == local), element] = median\n",
    "            df[element] = df[element].fillna(df[element].median())\n",
    "    return 'Число пропусков после всех замен:', df.isna().sum()\n",
    "   \n",
    "fill_median(last)"
   ]
  },
  {
   "cell_type": "code",
   "execution_count": 12,
   "metadata": {},
   "outputs": [
    {
     "name": "stdout",
     "output_type": "stream",
     "text": [
      "Количество дубликатов: 0\n"
     ]
    }
   ],
   "source": [
    "#нужно привести столбец `locality_name`к единообразию\n",
    "#print(df['locality_name'].sort_values().unique())\n",
    "\n",
    "#заменим ё на е\n",
    "df['locality_name'] = df['locality_name'].str.replace('ё', 'е')\n",
    "\n",
    "#уберем названия населенных пунктов, приведем к нижнему регистру\n",
    "delete = ['городской', 'поселок', 'послок', 'деревня', 'коттеджный', 'городского', 'типа', 'имени', 'станции', 'при', 'железнодорожной', 'садоводческое', 'некоммерческое', 'товарищество', 'садовое', 'село']\n",
    "for elem in delete:\n",
    "    df['locality_name'] = df['locality_name'].str.replace(elem, '')\n",
    "df['locality_name'] = df['locality_name'].str.lower()\n",
    "#print(df['locality_name'].sort_values().unique())\n",
    "\n",
    "print('Количество дубликатов:', df.duplicated().sum())"
   ]
  },
  {
   "cell_type": "code",
   "execution_count": 13,
   "metadata": {},
   "outputs": [
    {
     "name": "stdout",
     "output_type": "stream",
     "text": [
      "<class 'pandas.core.frame.DataFrame'>\n",
      "Int64Index: 23565 entries, 0 to 23698\n",
      "Data columns (total 22 columns):\n",
      "images                  23565 non-null int64\n",
      "last_price              23565 non-null float64\n",
      "total_area              23565 non-null float64\n",
      "first_day_exposition    23565 non-null object\n",
      "rooms                   23565 non-null int64\n",
      "ceiling_height          23565 non-null float64\n",
      "floors_total            23565 non-null float64\n",
      "living_area             23565 non-null float64\n",
      "floor                   23565 non-null int64\n",
      "is_apartment            23565 non-null object\n",
      "studio                  23565 non-null bool\n",
      "open_plan               23565 non-null bool\n",
      "kitchen_area            23565 non-null float64\n",
      "balcony                 23565 non-null object\n",
      "locality_name           23565 non-null object\n",
      "airports                23565 non-null float64\n",
      "centers_nearest         23565 non-null float64\n",
      "parks_around            23565 non-null object\n",
      "parks_nearest           23565 non-null float64\n",
      "ponds_around            23565 non-null object\n",
      "ponds_nearest           23565 non-null float64\n",
      "days_exposition         20394 non-null float64\n",
      "dtypes: bool(2), float64(11), int64(3), object(6)\n",
      "memory usage: 3.8+ MB\n"
     ]
    }
   ],
   "source": [
    "df.info()"
   ]
  },
  {
   "cell_type": "code",
   "execution_count": 14,
   "metadata": {},
   "outputs": [
    {
     "name": "stdout",
     "output_type": "stream",
     "text": [
      "<class 'pandas.core.frame.DataFrame'>\n",
      "Int64Index: 23565 entries, 0 to 23698\n",
      "Data columns (total 22 columns):\n",
      "images                  23565 non-null int64\n",
      "last_price              23565 non-null float64\n",
      "total_area              23565 non-null float64\n",
      "first_day_exposition    23565 non-null datetime64[ns]\n",
      "rooms                   23565 non-null int64\n",
      "ceiling_height          23565 non-null float64\n",
      "floors_total            23565 non-null int64\n",
      "living_area             23565 non-null float64\n",
      "floor                   23565 non-null int64\n",
      "is_apartment            23565 non-null object\n",
      "studio                  23565 non-null bool\n",
      "open_plan               23565 non-null bool\n",
      "kitchen_area            23565 non-null float64\n",
      "balcony                 23565 non-null int64\n",
      "locality_name           23565 non-null object\n",
      "airports                23565 non-null int64\n",
      "centers_nearest         23565 non-null int64\n",
      "parks_around            23565 non-null int64\n",
      "parks_nearest           23565 non-null int64\n",
      "ponds_around            23565 non-null int64\n",
      "ponds_nearest           23565 non-null int64\n",
      "days_exposition         20394 non-null float64\n",
      "dtypes: bool(2), datetime64[ns](1), float64(6), int64(11), object(2)\n",
      "memory usage: 3.8+ MB\n"
     ]
    }
   ],
   "source": [
    "#в целочисленный тип привожу столбцы, которые подразумевают целое число и столбцы с расстояниями\n",
    "#так будет аккуратней и не повлияет на дальнейшую обработку\n",
    "#столбцы с площадями и ценой к целому решила не приводить, так как округление может повлиять\n",
    "#на точность анализа. В 'days_exposition' не привожу к целому т.к. есть пропуски.\n",
    "columns_float = ['floors_total', 'airports', 'centers_nearest', 'parks_nearest', 'ponds_nearest', 'balcony', 'parks_around', 'ponds_around']\n",
    "for column in columns_float:\n",
    "    df[column] = df[column].astype('int')\n",
    "#в формат даты\n",
    "df['first_day_exposition'] = pd.to_datetime(df['first_day_exposition'], format='%Y-%m-%dT%H:%M:%S')\n",
    "df.info() #проверка типов данных"
   ]
  },
  {
   "cell_type": "markdown",
   "metadata": {},
   "source": [
    "### Вывод\n",
    "\n",
    "В ходе предобработки данных приведены к хорошему стилю и сокращены названия столбцов, заполнены пропуски в данных, обоснованы причины замены и причины их появления. Названия населенных пунктов приведены к единообразию, проверено наличие дубликатов - их не оказалось. Заменены типы данных в соответствии с содержанием столбца. \n",
    "\n",
    "Дале можно приступать к расчетам. "
   ]
  },
  {
   "cell_type": "markdown",
   "metadata": {},
   "source": [
    "## Расчёты и добавление результатов в таблицу"
   ]
  },
  {
   "cell_type": "code",
   "execution_count": 15,
   "metadata": {},
   "outputs": [],
   "source": [
    "#добавляю нужные для анализа столбцы\n",
    "#год, месяц,день недели\n",
    "df['year'] = df['first_day_exposition'].dt.year\n",
    "df['month'] = df['first_day_exposition'].dt.month\n",
    "df['weekday'] = df['first_day_exposition'].dt.weekday \n",
    "#цена квадратного метра\n",
    "df['m_price'] = (df['last_price']/df['total_area']).round(1)"
   ]
  },
  {
   "cell_type": "code",
   "execution_count": 16,
   "metadata": {},
   "outputs": [],
   "source": [
    "#этаж квартиры\n",
    "def floor_category(df):\n",
    "    if df['floor'] == 1:\n",
    "        return 'первый'\n",
    "    if df['floor'] == df['floors_total']:\n",
    "        return 'последний'\n",
    "    return 'другой'\n",
    "\n",
    "df['floor_cat'] = df.apply(floor_category, axis=1)\n",
    "#df.head()   "
   ]
  },
  {
   "cell_type": "code",
   "execution_count": 17,
   "metadata": {},
   "outputs": [
    {
     "data": {
      "text/html": [
       "<div>\n",
       "<style scoped>\n",
       "    .dataframe tbody tr th:only-of-type {\n",
       "        vertical-align: middle;\n",
       "    }\n",
       "\n",
       "    .dataframe tbody tr th {\n",
       "        vertical-align: top;\n",
       "    }\n",
       "\n",
       "    .dataframe thead th {\n",
       "        text-align: right;\n",
       "    }\n",
       "</style>\n",
       "<table border=\"1\" class=\"dataframe\">\n",
       "  <thead>\n",
       "    <tr style=\"text-align: right;\">\n",
       "      <th></th>\n",
       "      <th>images</th>\n",
       "      <th>last_price</th>\n",
       "      <th>total_area</th>\n",
       "      <th>first_day_exposition</th>\n",
       "      <th>rooms</th>\n",
       "      <th>ceiling_height</th>\n",
       "      <th>floors_total</th>\n",
       "      <th>living_area</th>\n",
       "      <th>floor</th>\n",
       "      <th>is_apartment</th>\n",
       "      <th>...</th>\n",
       "      <th>ponds_around</th>\n",
       "      <th>ponds_nearest</th>\n",
       "      <th>days_exposition</th>\n",
       "      <th>year</th>\n",
       "      <th>month</th>\n",
       "      <th>weekday</th>\n",
       "      <th>m_price</th>\n",
       "      <th>floor_cat</th>\n",
       "      <th>area_life_total</th>\n",
       "      <th>area_kitchen_total</th>\n",
       "    </tr>\n",
       "  </thead>\n",
       "  <tbody>\n",
       "    <tr>\n",
       "      <td>0</td>\n",
       "      <td>20</td>\n",
       "      <td>13000000.0</td>\n",
       "      <td>108.0</td>\n",
       "      <td>2019-03-07</td>\n",
       "      <td>3</td>\n",
       "      <td>2.70</td>\n",
       "      <td>16</td>\n",
       "      <td>51.0</td>\n",
       "      <td>8</td>\n",
       "      <td>False</td>\n",
       "      <td>...</td>\n",
       "      <td>2</td>\n",
       "      <td>755</td>\n",
       "      <td>NaN</td>\n",
       "      <td>2019</td>\n",
       "      <td>3</td>\n",
       "      <td>3</td>\n",
       "      <td>120370.4</td>\n",
       "      <td>другой</td>\n",
       "      <td>0.472</td>\n",
       "      <td>0.231</td>\n",
       "    </tr>\n",
       "    <tr>\n",
       "      <td>1</td>\n",
       "      <td>7</td>\n",
       "      <td>3350000.0</td>\n",
       "      <td>40.4</td>\n",
       "      <td>2018-12-04</td>\n",
       "      <td>1</td>\n",
       "      <td>2.65</td>\n",
       "      <td>11</td>\n",
       "      <td>18.6</td>\n",
       "      <td>1</td>\n",
       "      <td>False</td>\n",
       "      <td>...</td>\n",
       "      <td>0</td>\n",
       "      <td>504</td>\n",
       "      <td>81.0</td>\n",
       "      <td>2018</td>\n",
       "      <td>12</td>\n",
       "      <td>1</td>\n",
       "      <td>82920.8</td>\n",
       "      <td>первый</td>\n",
       "      <td>0.460</td>\n",
       "      <td>0.272</td>\n",
       "    </tr>\n",
       "    <tr>\n",
       "      <td>2</td>\n",
       "      <td>10</td>\n",
       "      <td>5196000.0</td>\n",
       "      <td>56.0</td>\n",
       "      <td>2015-08-20</td>\n",
       "      <td>2</td>\n",
       "      <td>2.65</td>\n",
       "      <td>5</td>\n",
       "      <td>34.3</td>\n",
       "      <td>4</td>\n",
       "      <td>False</td>\n",
       "      <td>...</td>\n",
       "      <td>2</td>\n",
       "      <td>574</td>\n",
       "      <td>558.0</td>\n",
       "      <td>2015</td>\n",
       "      <td>8</td>\n",
       "      <td>3</td>\n",
       "      <td>92785.7</td>\n",
       "      <td>другой</td>\n",
       "      <td>0.612</td>\n",
       "      <td>0.148</td>\n",
       "    </tr>\n",
       "    <tr>\n",
       "      <td>3</td>\n",
       "      <td>0</td>\n",
       "      <td>64900000.0</td>\n",
       "      <td>159.0</td>\n",
       "      <td>2015-07-24</td>\n",
       "      <td>3</td>\n",
       "      <td>2.65</td>\n",
       "      <td>14</td>\n",
       "      <td>45.0</td>\n",
       "      <td>9</td>\n",
       "      <td>False</td>\n",
       "      <td>...</td>\n",
       "      <td>3</td>\n",
       "      <td>234</td>\n",
       "      <td>424.0</td>\n",
       "      <td>2015</td>\n",
       "      <td>7</td>\n",
       "      <td>4</td>\n",
       "      <td>408176.1</td>\n",
       "      <td>другой</td>\n",
       "      <td>0.283</td>\n",
       "      <td>0.060</td>\n",
       "    </tr>\n",
       "    <tr>\n",
       "      <td>4</td>\n",
       "      <td>2</td>\n",
       "      <td>10000000.0</td>\n",
       "      <td>100.0</td>\n",
       "      <td>2018-06-19</td>\n",
       "      <td>2</td>\n",
       "      <td>3.03</td>\n",
       "      <td>14</td>\n",
       "      <td>32.0</td>\n",
       "      <td>13</td>\n",
       "      <td>False</td>\n",
       "      <td>...</td>\n",
       "      <td>1</td>\n",
       "      <td>48</td>\n",
       "      <td>121.0</td>\n",
       "      <td>2018</td>\n",
       "      <td>6</td>\n",
       "      <td>1</td>\n",
       "      <td>100000.0</td>\n",
       "      <td>другой</td>\n",
       "      <td>0.320</td>\n",
       "      <td>0.410</td>\n",
       "    </tr>\n",
       "  </tbody>\n",
       "</table>\n",
       "<p>5 rows × 29 columns</p>\n",
       "</div>"
      ],
      "text/plain": [
       "   images  last_price  total_area first_day_exposition  rooms  ceiling_height  \\\n",
       "0      20  13000000.0       108.0           2019-03-07      3            2.70   \n",
       "1       7   3350000.0        40.4           2018-12-04      1            2.65   \n",
       "2      10   5196000.0        56.0           2015-08-20      2            2.65   \n",
       "3       0  64900000.0       159.0           2015-07-24      3            2.65   \n",
       "4       2  10000000.0       100.0           2018-06-19      2            3.03   \n",
       "\n",
       "   floors_total  living_area  floor is_apartment  ...  ponds_around  \\\n",
       "0            16         51.0      8        False  ...             2   \n",
       "1            11         18.6      1        False  ...             0   \n",
       "2             5         34.3      4        False  ...             2   \n",
       "3            14         45.0      9        False  ...             3   \n",
       "4            14         32.0     13        False  ...             1   \n",
       "\n",
       "   ponds_nearest  days_exposition  year month  weekday   m_price  floor_cat  \\\n",
       "0            755              NaN  2019     3        3  120370.4     другой   \n",
       "1            504             81.0  2018    12        1   82920.8     первый   \n",
       "2            574            558.0  2015     8        3   92785.7     другой   \n",
       "3            234            424.0  2015     7        4  408176.1     другой   \n",
       "4             48            121.0  2018     6        1  100000.0     другой   \n",
       "\n",
       "   area_life_total  area_kitchen_total  \n",
       "0            0.472               0.231  \n",
       "1            0.460               0.272  \n",
       "2            0.612               0.148  \n",
       "3            0.283               0.060  \n",
       "4            0.320               0.410  \n",
       "\n",
       "[5 rows x 29 columns]"
      ]
     },
     "execution_count": 17,
     "metadata": {},
     "output_type": "execute_result"
    }
   ],
   "source": [
    "#соотношение жилой и общей площади\n",
    "df['area_life_total'] = (df['living_area']/df['total_area']).round(3)\n",
    "#отношение площади кухни к общей\n",
    "df['area_kitchen_total'] = (df['kitchen_area']/df['total_area']).round(3)\n",
    "df.head() "
   ]
  },
  {
   "cell_type": "markdown",
   "metadata": {},
   "source": [
    "### Вывод\n",
    "\n",
    "В таблицу добавлены необходимые для анализа столбцы. Далее можно приступать к анализу данных. "
   ]
  },
  {
   "cell_type": "markdown",
   "metadata": {},
   "source": [
    "## Исследовательский анализ данных"
   ]
  },
  {
   "cell_type": "code",
   "execution_count": 18,
   "metadata": {},
   "outputs": [
    {
     "name": "stdout",
     "output_type": "stream",
     "text": [
      "count    23565.000000\n",
      "mean        60.322824\n",
      "std         35.657060\n",
      "min         12.000000\n",
      "25%         40.000000\n",
      "50%         52.000000\n",
      "75%         69.700000\n",
      "max        900.000000\n",
      "Name: total_area, dtype: float64\n"
     ]
    },
    {
     "data": {
      "image/png": "[encoded data removed]",
      "text/plain": [
       "<Figure size 432x288 with 1 Axes>"
      ]
     },
     "metadata": {
      "needs_background": "light"
     },
     "output_type": "display_data"
    },
    {
     "data": {
      "image/png": "[encoded data removed]",
      "text/plain": [
       "<Figure size 432x288 with 1 Axes>"
      ]
     },
     "metadata": {
      "needs_background": "light"
     },
     "output_type": "display_data"
    }
   ],
   "source": [
    "#изучены следующие параметры: площадь, цена, число комнат, высота потолков \n",
    "#построены гистограммы для каждого параметра\n",
    "\n",
    "print(df['total_area'].describe())\n",
    "df['total_area'].plot(kind='hist', title='total_area', bins=50)\n",
    "plt.show()\n",
    "df.boxplot(column='total_area')\n",
    "plt.show()"
   ]
  },
  {
   "cell_type": "code",
   "execution_count": 19,
   "metadata": {},
   "outputs": [
    {
     "name": "stdout",
     "output_type": "stream",
     "text": [
      "Верхняя граница выбросов: 114.25\n"
     ]
    }
   ],
   "source": [
    "#из гистограммы по 'total_area' видно, что она похожа на распердение Пуассона, значит данные \n",
    "#похожи на правду. На диаграмме размаха видно, что имеется много выбросов. Определим границы.\n",
    "\n",
    "q1 = df['total_area'].quantile(0.25)\n",
    "q3 = df['total_area'].quantile(0.75)\n",
    "iqr = q3 - q1\n",
    "q1 - 1.5 * iqr, q3 + 1.5 * iqr #границы интервала наиболее вероятных значений\n",
    "print('Верхняя граница выбросов:',  q3 + 1.5 * iqr)\n"
   ]
  },
  {
   "cell_type": "code",
   "execution_count": 20,
   "metadata": {},
   "outputs": [
    {
     "name": "stdout",
     "output_type": "stream",
     "text": [
      "count    2.356500e+04\n",
      "mean     9.940584e+04\n",
      "std      5.038943e+04\n",
      "min      1.118000e+02\n",
      "25%      7.656610e+04\n",
      "50%      9.500000e+04\n",
      "75%      1.142132e+05\n",
      "max      1.907500e+06\n",
      "Name: m_price, dtype: float64\n"
     ]
    },
    {
     "data": {
      "image/png": "[encoded data removed]",
      "text/plain": [
       "<Figure size 432x288 with 1 Axes>"
      ]
     },
     "metadata": {
      "needs_background": "light"
     },
     "output_type": "display_data"
    },
    {
     "data": {
      "image/png": "[encoded data removed]",
      "text/plain": [
       "<Figure size 432x288 with 1 Axes>"
      ]
     },
     "metadata": {
      "needs_background": "light"
     },
     "output_type": "display_data"
    }
   ],
   "source": [
    "print(df['m_price'].describe())\n",
    "df['m_price'].plot(kind='hist', title='m_price', bins=40)\n",
    "plt.show()\n",
    "df.boxplot(column='m_price')\n",
    "plt.show()"
   ]
  },
  {
   "cell_type": "code",
   "execution_count": 21,
   "metadata": {},
   "outputs": [
    {
     "name": "stdout",
     "output_type": "stream",
     "text": [
      "Верхняя граница выбросов: 170683.85\n"
     ]
    }
   ],
   "source": [
    "#из графиков видно, что существуют достаточно большие выбросы, поэтому они не слишком показетельны\n",
    "q1 = df['m_price'].quantile(0.25)\n",
    "q3 = df['m_price'].quantile(0.75)\n",
    "iqr = q3 - q1\n",
    "q1 - 1.5 * iqr, q3 + 1.5 * iqr #границы интервала наиболее вероятных значений\n",
    "print('Верхняя граница выбросов:', (q3 + 1.5 * iqr).round(2))"
   ]
  },
  {
   "cell_type": "code",
   "execution_count": 22,
   "metadata": {},
   "outputs": [
    {
     "name": "stdout",
     "output_type": "stream",
     "text": [
      "count    23565.000000\n",
      "mean         2.070656\n",
      "std          1.078591\n",
      "min          0.000000\n",
      "25%          1.000000\n",
      "50%          2.000000\n",
      "75%          3.000000\n",
      "max         19.000000\n",
      "Name: rooms, dtype: float64\n"
     ]
    },
    {
     "data": {
      "image/png": "[encoded data removed]",
      "text/plain": [
       "<Figure size 432x288 with 1 Axes>"
      ]
     },
     "metadata": {
      "needs_background": "light"
     },
     "output_type": "display_data"
    },
    {
     "data": {
      "image/png": "[encoded data removed]",
      "text/plain": [
       "<Figure size 432x288 with 1 Axes>"
      ]
     },
     "metadata": {
      "needs_background": "light"
     },
     "output_type": "display_data"
    }
   ],
   "source": [
    "print(df['rooms'].describe())\n",
    "df['rooms'].plot(kind='hist', title='rooms', bins=19)\n",
    "plt.show()\n",
    "df.boxplot(column='rooms')\n",
    "plt.show()"
   ]
  },
  {
   "cell_type": "code",
   "execution_count": 23,
   "metadata": {},
   "outputs": [
    {
     "name": "stdout",
     "output_type": "stream",
     "text": [
      "Верхняя граница выбросов: 6.0\n"
     ]
    }
   ],
   "source": [
    "#гистограмма похожа на распределние Пуассона, это хорший знак, на диаграмме размаха хороошо видны\n",
    "#выбросы примерно после 6 комнат. Значение 0 комнат также считаю выбросом, т.к. это заведомо невозможно.\n",
    "q1 = df['rooms'].quantile(0.25)\n",
    "q3 = df['rooms'].quantile(0.75)\n",
    "iqr = q3 - q1\n",
    "q1 - 1.5 * iqr, q3 + 1.5 * iqr #границы интервала наиболее вероятных значений\n",
    "print('Верхняя граница выбросов:',  q3 + 1.5 * iqr)"
   ]
  },
  {
   "cell_type": "code",
   "execution_count": 24,
   "metadata": {},
   "outputs": [
    {
     "name": "stdout",
     "output_type": "stream",
     "text": [
      "count    23565.000000\n",
      "mean         2.724530\n",
      "std          0.991026\n",
      "min          1.000000\n",
      "25%          2.600000\n",
      "50%          2.650000\n",
      "75%          2.700000\n",
      "max        100.000000\n",
      "Name: ceiling_height, dtype: float64\n"
     ]
    },
    {
     "data": {
      "image/png": "[encoded data removed]",
      "text/plain": [
       "<Figure size 432x288 with 1 Axes>"
      ]
     },
     "metadata": {
      "needs_background": "light"
     },
     "output_type": "display_data"
    },
    {
     "data": {
      "image/png": "[encoded data removed]",
      "text/plain": [
       "<Figure size 432x288 with 1 Axes>"
      ]
     },
     "metadata": {
      "needs_background": "light"
     },
     "output_type": "display_data"
    }
   ],
   "source": [
    "print(df['ceiling_height'].describe())\n",
    "df['ceiling_height'].plot(kind='hist', title='ceiling_height', bins=50)\n",
    "plt.show()\n",
    "df.boxplot(column='ceiling_height')\n",
    "plt.show()"
   ]
  },
  {
   "cell_type": "code",
   "execution_count": 25,
   "metadata": {},
   "outputs": [
    {
     "name": "stdout",
     "output_type": "stream",
     "text": [
      "Верхняя граница выбросов: 2.85\n",
      "Нижняя граница выбросов: 2.45\n"
     ]
    }
   ],
   "source": [
    "#на гистограмме виден высокий пик - что соответствует сути данных (более-менее стандартная величина)\n",
    "#на диаграмме рассеяния присутствуют высокие выбросы\n",
    "q1 = df['ceiling_height'].quantile(0.25)\n",
    "q3 = df['ceiling_height'].quantile(0.75)\n",
    "iqr = q3 - q1\n",
    "q1 - 1.5 * iqr, q3 + 1.5 * iqr #границы интервала наиболее вероятных значений\n",
    "print('Верхняя граница выбросов:',  (q3 + 1.5 * iqr).round(2))\n",
    "print('Нижняя граница выбросов:', q1 - 1.5 * iqr)\n",
    "#Здесь считаю целесообразным ввести нижную границу выбросов, так как по строительным нормам есть нижний предел"
   ]
  },
  {
   "cell_type": "code",
   "execution_count": 26,
   "metadata": {},
   "outputs": [
    {
     "name": "stdout",
     "output_type": "stream",
     "text": [
      "count    20394.000000\n",
      "mean       180.741395\n",
      "std        219.732782\n",
      "min          1.000000\n",
      "25%         45.000000\n",
      "50%         95.000000\n",
      "75%        231.000000\n",
      "max       1580.000000\n",
      "Name: days_exposition, dtype: float64\n",
      "Среднее время продажи: 180.7413945278023\n",
      "Медианное время продажи: 95.0\n"
     ]
    }
   ],
   "source": [
    "#анализ времени продажи квартир\n",
    "print(df['days_exposition'].describe())\n",
    "print('Среднее время продажи:', df['days_exposition'].mean())\n",
    "print('Медианное время продажи:', df['days_exposition'].median())"
   ]
  },
  {
   "cell_type": "code",
   "execution_count": 27,
   "metadata": {},
   "outputs": [
    {
     "data": {
      "image/png": "[encoded data removed]",
      "text/plain": [
       "<Figure size 432x288 with 1 Axes>"
      ]
     },
     "metadata": {
      "needs_background": "light"
     },
     "output_type": "display_data"
    },
    {
     "data": {
      "image/png": "[encoded data removed]",
      "text/plain": [
       "<Figure size 432x288 with 1 Axes>"
      ]
     },
     "metadata": {
      "needs_background": "light"
     },
     "output_type": "display_data"
    }
   ],
   "source": [
    "df['days_exposition'].plot(kind='hist', title='days_exposition', bins=100)\n",
    "plt.show()\n",
    "df.boxplot(column='days_exposition')\n",
    "plt.show()"
   ]
  },
  {
   "cell_type": "markdown",
   "metadata": {},
   "source": [
    "В целом гистограмма напоминает распределение Пуассона, однако имеется пик около нуля, это является отклонением. На диаграмме рассеяния видна жирная линия выбросов. Также среднее время продажи примерно в 2 раза больше, чем медианное. Все это показывает существенное влияние выбросов, необходимо определить их границы."
   ]
  },
  {
   "cell_type": "code",
   "execution_count": 28,
   "metadata": {},
   "outputs": [
    {
     "name": "stdout",
     "output_type": "stream",
     "text": [
      "Верхняя граница выбросов: 510.0\n",
      "Нижняя граница выбросов: -234.0\n",
      "Первый квантиль: 45.00000000000001\n"
     ]
    }
   ],
   "source": [
    "q1 = df['days_exposition'].quantile(0.25)\n",
    "q3 = df['days_exposition'].quantile(0.75)\n",
    "iqr = q3 - q1\n",
    "q1 - 1.5 * iqr, q3 + 1.5 * iqr #границы интервала наиболее вероятных значений\n",
    "print('Верхняя граница выбросов:',  (q3 + 1.5 * iqr).round(2)) \n",
    "print('Нижняя граница выбросов:', q1 - 1.5 * iqr)\n",
    "print('Первый квантиль:', df['days_exposition'].quantile(0.25))"
   ]
  },
  {
   "cell_type": "markdown",
   "metadata": {},
   "source": [
    "Будем считать, что продажа происходит необычно долго, если длится больше 510 дней и исключим эти значения. К необычно быстрым продажам я бы отнесла те, что прошли быстрее 45 дней, так как это первый квантиль (75% данных больше этого значния). Также исходя из здравого смысла, можно считать эту величину разумной (есть необходимые временные затраты на просмотры и оформление документов на продажу). Однако исключать необычно долгие значения не считаю необходимым, так как они входят в нижнюю границу выбросов. "
   ]
  },
  {
   "cell_type": "code",
   "execution_count": 29,
   "metadata": {},
   "outputs": [
    {
     "data": {
      "text/html": [
       "<div>\n",
       "<style scoped>\n",
       "    .dataframe tbody tr th:only-of-type {\n",
       "        vertical-align: middle;\n",
       "    }\n",
       "\n",
       "    .dataframe tbody tr th {\n",
       "        vertical-align: top;\n",
       "    }\n",
       "\n",
       "    .dataframe thead th {\n",
       "        text-align: right;\n",
       "    }\n",
       "</style>\n",
       "<table border=\"1\" class=\"dataframe\">\n",
       "  <thead>\n",
       "    <tr style=\"text-align: right;\">\n",
       "      <th></th>\n",
       "      <th>images</th>\n",
       "      <th>last_price</th>\n",
       "      <th>total_area</th>\n",
       "      <th>first_day_exposition</th>\n",
       "      <th>rooms</th>\n",
       "      <th>ceiling_height</th>\n",
       "      <th>floors_total</th>\n",
       "      <th>living_area</th>\n",
       "      <th>floor</th>\n",
       "      <th>is_apartment</th>\n",
       "      <th>...</th>\n",
       "      <th>ponds_around</th>\n",
       "      <th>ponds_nearest</th>\n",
       "      <th>days_exposition</th>\n",
       "      <th>year</th>\n",
       "      <th>month</th>\n",
       "      <th>weekday</th>\n",
       "      <th>m_price</th>\n",
       "      <th>floor_cat</th>\n",
       "      <th>area_life_total</th>\n",
       "      <th>area_kitchen_total</th>\n",
       "    </tr>\n",
       "  </thead>\n",
       "  <tbody>\n",
       "    <tr>\n",
       "      <td>1</td>\n",
       "      <td>7</td>\n",
       "      <td>3350000.0</td>\n",
       "      <td>40.40</td>\n",
       "      <td>2018-12-04</td>\n",
       "      <td>1</td>\n",
       "      <td>2.65</td>\n",
       "      <td>11</td>\n",
       "      <td>18.60</td>\n",
       "      <td>1</td>\n",
       "      <td>False</td>\n",
       "      <td>...</td>\n",
       "      <td>0</td>\n",
       "      <td>504</td>\n",
       "      <td>81.0</td>\n",
       "      <td>2018</td>\n",
       "      <td>12</td>\n",
       "      <td>1</td>\n",
       "      <td>82920.8</td>\n",
       "      <td>первый</td>\n",
       "      <td>0.460</td>\n",
       "      <td>0.272</td>\n",
       "    </tr>\n",
       "    <tr>\n",
       "      <td>5</td>\n",
       "      <td>10</td>\n",
       "      <td>2890000.0</td>\n",
       "      <td>30.40</td>\n",
       "      <td>2018-09-10</td>\n",
       "      <td>1</td>\n",
       "      <td>2.65</td>\n",
       "      <td>12</td>\n",
       "      <td>14.40</td>\n",
       "      <td>5</td>\n",
       "      <td>False</td>\n",
       "      <td>...</td>\n",
       "      <td>0</td>\n",
       "      <td>504</td>\n",
       "      <td>55.0</td>\n",
       "      <td>2018</td>\n",
       "      <td>9</td>\n",
       "      <td>0</td>\n",
       "      <td>95065.8</td>\n",
       "      <td>другой</td>\n",
       "      <td>0.474</td>\n",
       "      <td>0.299</td>\n",
       "    </tr>\n",
       "    <tr>\n",
       "      <td>6</td>\n",
       "      <td>6</td>\n",
       "      <td>3700000.0</td>\n",
       "      <td>37.30</td>\n",
       "      <td>2017-11-02</td>\n",
       "      <td>1</td>\n",
       "      <td>2.65</td>\n",
       "      <td>26</td>\n",
       "      <td>10.60</td>\n",
       "      <td>6</td>\n",
       "      <td>False</td>\n",
       "      <td>...</td>\n",
       "      <td>0</td>\n",
       "      <td>504</td>\n",
       "      <td>155.0</td>\n",
       "      <td>2017</td>\n",
       "      <td>11</td>\n",
       "      <td>3</td>\n",
       "      <td>99195.7</td>\n",
       "      <td>другой</td>\n",
       "      <td>0.284</td>\n",
       "      <td>0.386</td>\n",
       "    </tr>\n",
       "    <tr>\n",
       "      <td>8</td>\n",
       "      <td>20</td>\n",
       "      <td>2900000.0</td>\n",
       "      <td>33.16</td>\n",
       "      <td>2018-05-23</td>\n",
       "      <td>1</td>\n",
       "      <td>2.65</td>\n",
       "      <td>27</td>\n",
       "      <td>15.43</td>\n",
       "      <td>26</td>\n",
       "      <td>False</td>\n",
       "      <td>...</td>\n",
       "      <td>0</td>\n",
       "      <td>504</td>\n",
       "      <td>189.0</td>\n",
       "      <td>2018</td>\n",
       "      <td>5</td>\n",
       "      <td>2</td>\n",
       "      <td>87454.8</td>\n",
       "      <td>другой</td>\n",
       "      <td>0.465</td>\n",
       "      <td>0.266</td>\n",
       "    </tr>\n",
       "    <tr>\n",
       "      <td>9</td>\n",
       "      <td>18</td>\n",
       "      <td>5400000.0</td>\n",
       "      <td>61.00</td>\n",
       "      <td>2017-02-26</td>\n",
       "      <td>3</td>\n",
       "      <td>2.50</td>\n",
       "      <td>9</td>\n",
       "      <td>43.60</td>\n",
       "      <td>7</td>\n",
       "      <td>False</td>\n",
       "      <td>...</td>\n",
       "      <td>0</td>\n",
       "      <td>504</td>\n",
       "      <td>289.0</td>\n",
       "      <td>2017</td>\n",
       "      <td>2</td>\n",
       "      <td>6</td>\n",
       "      <td>88524.6</td>\n",
       "      <td>другой</td>\n",
       "      <td>0.715</td>\n",
       "      <td>0.107</td>\n",
       "    </tr>\n",
       "  </tbody>\n",
       "</table>\n",
       "<p>5 rows × 29 columns</p>\n",
       "</div>"
      ],
      "text/plain": [
       "   images  last_price  total_area first_day_exposition  rooms  ceiling_height  \\\n",
       "1       7   3350000.0       40.40           2018-12-04      1            2.65   \n",
       "5      10   2890000.0       30.40           2018-09-10      1            2.65   \n",
       "6       6   3700000.0       37.30           2017-11-02      1            2.65   \n",
       "8      20   2900000.0       33.16           2018-05-23      1            2.65   \n",
       "9      18   5400000.0       61.00           2017-02-26      3            2.50   \n",
       "\n",
       "   floors_total  living_area  floor is_apartment  ...  ponds_around  \\\n",
       "1            11        18.60      1        False  ...             0   \n",
       "5            12        14.40      5        False  ...             0   \n",
       "6            26        10.60      6        False  ...             0   \n",
       "8            27        15.43     26        False  ...             0   \n",
       "9             9        43.60      7        False  ...             0   \n",
       "\n",
       "   ponds_nearest  days_exposition  year month  weekday  m_price  floor_cat  \\\n",
       "1            504             81.0  2018    12        1  82920.8     первый   \n",
       "5            504             55.0  2018     9        0  95065.8     другой   \n",
       "6            504            155.0  2017    11        3  99195.7     другой   \n",
       "8            504            189.0  2018     5        2  87454.8     другой   \n",
       "9            504            289.0  2017     2        6  88524.6     другой   \n",
       "\n",
       "   area_life_total  area_kitchen_total  \n",
       "1            0.460               0.272  \n",
       "5            0.474               0.299  \n",
       "6            0.284               0.386  \n",
       "8            0.465               0.266  \n",
       "9            0.715               0.107  \n",
       "\n",
       "[5 rows x 29 columns]"
      ]
     },
     "metadata": {},
     "output_type": "display_data"
    },
    {
     "name": "stdout",
     "output_type": "stream",
     "text": [
      "Выбросы составили: 0.3221302779545937\n"
     ]
    }
   ],
   "source": [
    "#Убираем значения-выбросы\n",
    "df_new = df.query('days_exposition <= 510.0')\n",
    "df_new = df_new.query('total_area <= 114.25')\n",
    "df_new = df_new.query('m_price <= 170683.85')\n",
    "df_new = df_new.query('1 <= rooms <= 6')\n",
    "df_new = df_new.query('2.45 <= ceiling_height <= 2.85')\n",
    "display(df_new.head())\n",
    "print('Выбросы составили:', (23565-15974)/23565)"
   ]
  },
  {
   "cell_type": "code",
   "execution_count": 30,
   "metadata": {},
   "outputs": [
    {
     "name": "stdout",
     "output_type": "stream",
     "text": [
      "Коэффициент кореляции: -0.0054955282547115274\n"
     ]
    },
    {
     "data": {
      "image/png": "[encoded data removed]",
      "text/plain": [
       "<Figure size 432x288 with 1 Axes>"
      ]
     },
     "metadata": {
      "needs_background": "light"
     },
     "output_type": "display_data"
    },
    {
     "data": {
      "image/png": "[encoded data removed]",
      "text/plain": [
       "<Figure size 432x288 with 1 Axes>"
      ]
     },
     "metadata": {
      "needs_background": "light"
     },
     "output_type": "display_data"
    }
   ],
   "source": [
    "#зависимость цены квадратного метра от площади\n",
    "print('Коэффициент корреляции:', df_new['m_price'].corr(df_new['total_area']))\n",
    "#видим, что линейной зависимости нет, построим графики зависимости\n",
    "df_new.plot(x='total_area', y='m_price', style='o', xlim=(0, 120), grid=True)\n",
    "plt.show()\n",
    "report_area = df_new.groupby('total_area').agg({'m_price':'median'})\n",
    "report_area.plot()\n",
    "plt.show()"
   ]
  },
  {
   "cell_type": "markdown",
   "metadata": {},
   "source": [
    "Из первого графика видно, что различная стоимость квадратного метра встречается в квартирах всех площадей. Только у квартир больше 80 м2 нижняя граница стоимости выше, чем у квартир меньшей площади. Это обусловлено тем, что квартиры такой большой площади встречаются в основном в жилье бизнес-класса, где цены априори выше, чем жилье эконом-класса. \n",
    "Из второго графика, постоенного по значениям медиан цены видно, что ее значения лежат примерно на одном уровне. Из этого делаю вывод, что зависимость отсутствует."
   ]
  },
  {
   "cell_type": "code",
   "execution_count": 31,
   "metadata": {},
   "outputs": [
    {
     "name": "stdout",
     "output_type": "stream",
     "text": [
      "Коэффициент кореляции: -0.19194573470176488\n"
     ]
    },
    {
     "data": {
      "image/png": "[encoded data removed]",
      "text/plain": [
       "<Figure size 432x288 with 1 Axes>"
      ]
     },
     "metadata": {
      "needs_background": "light"
     },
     "output_type": "display_data"
    },
    {
     "data": {
      "image/png": "[encoded data removed]",
      "text/plain": [
       "<Figure size 432x288 with 1 Axes>"
      ]
     },
     "metadata": {
      "needs_background": "light"
     },
     "output_type": "display_data"
    }
   ],
   "source": [
    "#зависимость цены квадратного метра от числа комнат\n",
    "print('Коэффициент корреляции:', df_new['m_price'].corr(df_new['rooms']))\n",
    "#видим, что линейной зависимости нет, построим графики зависимости\n",
    "df_new.boxplot(column = 'm_price', by = 'rooms')\n",
    "plt.show()\n",
    "report_room = df_new.groupby('rooms').agg({'m_price':'count'})\n",
    "report_room.plot()\n",
    "plt.show()"
   ]
  },
  {
   "cell_type": "markdown",
   "metadata": {},
   "source": [
    "Из диаграмм рассеяния видно, что медиана цены распределена достаточно равномерно с небольшой просадкой в районе 4-5 комнат. Из второго гарфика видна причина - данные распределены неравномерно. Одно и двух комнатные квартиры превалируют на рынке, по ним намного больше данных. Линейной зависимости между ценой квадратного метра и числом комнат не наблюдается."
   ]
  },
  {
   "cell_type": "code",
   "execution_count": 32,
   "metadata": {},
   "outputs": [
    {
     "data": {
      "image/png": "[encoded data removed]",
      "text/plain": [
       "<Figure size 432x288 with 1 Axes>"
      ]
     },
     "metadata": {
      "needs_background": "light"
     },
     "output_type": "display_data"
    },
    {
     "data": {
      "image/png": "[encoded data removed]",
      "text/plain": [
       "<Figure size 432x288 with 1 Axes>"
      ]
     },
     "metadata": {
      "needs_background": "light"
     },
     "output_type": "display_data"
    }
   ],
   "source": [
    "#зависимость цены квадратного метра от этажа\n",
    "#построим графики зависимости\n",
    "df_new.boxplot(column = 'm_price', by = 'floor_cat')\n",
    "plt.show()\n",
    "report_floor = df_new.groupby('floor_cat').agg({'m_price':'median'})\n",
    "report_floor.plot()\n",
    "plt.show()"
   ]
  },
  {
   "cell_type": "markdown",
   "metadata": {},
   "source": [
    "На диаграмме рассеяния видна просадка медианы на первом и последнем этажах. Однако более нагляден второй график - значения медиан цен от этажа. На нем явно видно, что самые дешевые квартиры - на первом и последнем этажах."
   ]
  },
  {
   "cell_type": "code",
   "execution_count": 33,
   "metadata": {},
   "outputs": [
    {
     "name": "stdout",
     "output_type": "stream",
     "text": [
      "Коэффициент кореляции: -0.17915649485322918\n"
     ]
    },
    {
     "data": {
      "image/png": "[encoded data removed]",
      "text/plain": [
       "<Figure size 432x288 with 1 Axes>"
      ]
     },
     "metadata": {
      "needs_background": "light"
     },
     "output_type": "display_data"
    },
    {
     "data": {
      "image/png": "[encoded data removed]",
      "text/plain": [
       "<Figure size 432x288 with 1 Axes>"
      ]
     },
     "metadata": {
      "needs_background": "light"
     },
     "output_type": "display_data"
    }
   ],
   "source": [
    "#зависимость цены квадратного метра от удаленности от центра \n",
    "print('Коэффициент корреляции:', df_new['m_price'].corr(df_new['centers_nearest']))\n",
    "#видим, что линейной зависимости нет, построим графики зависимости\n",
    "#разделим на 4 группы стлбец\n",
    "q1 = df_new['centers_nearest'].quantile(0.25)\n",
    "q3 = df_new['centers_nearest'].quantile(0.75)\n",
    "median = df_new['centers_nearest'].median()\n",
    "def nearest_category(df_new):\n",
    "    if df_new['centers_nearest'] < q1:\n",
    "        return 'очень близко'\n",
    "    if  df_new['centers_nearest']>= q1 and df_new['centers_nearest']<= median:\n",
    "        return 'близко'\n",
    "    if df_new['centers_nearest'] > median and df_new['centers_nearest'] <= q3:\n",
    "        return 'средне'\n",
    "    return 'далеко'\n",
    "\n",
    "df_new['centers_nearest_cat'] = df_new.apply(nearest_category, axis=1)\n",
    "\n",
    "df_new.boxplot(column = 'm_price', by = 'centers_nearest_cat')\n",
    "plt.show()\n",
    "report_nearest_count = df_new.groupby('centers_nearest_cat').agg({'m_price':'count'})\n",
    "report_nearest_count.plot()\n",
    "plt.show()"
   ]
  },
  {
   "cell_type": "markdown",
   "metadata": {},
   "source": [
    "Из диаграммы рассеяния видно , что медианы категорий `очень близко` и `средне` больше остальных, что странно. Так как при зависимсти, медиана `близко`, должна быть между ними.\n",
    "Ситуацию проясняет второй график. Он показывает, что данные сгруппированы не равномерно, поэтому линейной зависимости не наблюдается. "
   ]
  },
  {
   "cell_type": "code",
   "execution_count": 34,
   "metadata": {},
   "outputs": [
    {
     "name": "stdout",
     "output_type": "stream",
     "text": [
      "Коэффициент кореляции: -0.005550329895103583\n"
     ]
    },
    {
     "data": {
      "image/png": "[encoded data removed]",
      "text/plain": [
       "<Figure size 432x288 with 1 Axes>"
      ]
     },
     "metadata": {
      "needs_background": "light"
     },
     "output_type": "display_data"
    },
    {
     "data": {
      "text/plain": [
       "(1, 7)"
      ]
     },
     "execution_count": 34,
     "metadata": {},
     "output_type": "execute_result"
    },
    {
     "data": {
      "image/png": "[encoded data removed]",
      "text/plain": [
       "<Figure size 432x288 with 1 Axes>"
      ]
     },
     "metadata": {
      "needs_background": "light"
     },
     "output_type": "display_data"
    }
   ],
   "source": [
    "#зависимость цены квадратного метра от дня недели размещения\n",
    "print('Коэффициент корреляции:', df_new['m_price'].corr(df_new['weekday']))\n",
    "#видим, что линейной зависимости нет, построим графики зависимости\n",
    "df_new.boxplot(column = 'm_price', by = 'weekday')\n",
    "plt.show()\n",
    "report_weekday = df_new.groupby('weekday').agg({'m_price':'count'})\n",
    "report_weekday.plot()\n",
    "plt.xlim(1, 7)"
   ]
  },
  {
   "cell_type": "markdown",
   "metadata": {},
   "source": [
    "Линейной зависимости между ценой квадратного метра от дня недели размещения нет, из диаграммый рассеяния видно, что медиана стоимости на одном уровне. Из второго графика замечаем, что меньше всего обьявлений выкладывают с пятницы по воскресенье."
   ]
  },
  {
   "cell_type": "code",
   "execution_count": 35,
   "metadata": {},
   "outputs": [
    {
     "name": "stdout",
     "output_type": "stream",
     "text": [
      "Коэффициент кореляции: 0.005020095812778084\n"
     ]
    },
    {
     "data": {
      "image/png": "[encoded data removed]",
      "text/plain": [
       "<Figure size 432x288 with 1 Axes>"
      ]
     },
     "metadata": {
      "needs_background": "light"
     },
     "output_type": "display_data"
    },
    {
     "data": {
      "text/plain": [
       "(1, 12)"
      ]
     },
     "execution_count": 35,
     "metadata": {},
     "output_type": "execute_result"
    },
    {
     "data": {
      "image/png": "[encoded data removed]",
      "text/plain": [
       "<Figure size 432x288 with 1 Axes>"
      ]
     },
     "metadata": {
      "needs_background": "light"
     },
     "output_type": "display_data"
    }
   ],
   "source": [
    "#зависимость цены квадратного метра от месяца размещения\n",
    "print('Коэффициент корреляции:', df_new['m_price'].corr(df_new['month']))\n",
    "#видим, что линейной зависимости нет, построим графики зависимости\n",
    "df_new.boxplot(column = 'm_price', by = 'month')\n",
    "plt.show()\n",
    "report_month = df_new.groupby('month').agg({'m_price':'count'})\n",
    "report_month.plot()\n",
    "plt.xlim(1, 12)"
   ]
  },
  {
   "cell_type": "markdown",
   "metadata": {},
   "source": [
    "Линейной зависимости между ценой квадратного метра от месяца размещения нет, из диаграммый рассеяния видно, что медиана стоимости на одном уровне. Из второго графика замечаем, что меньше всего обьявлений выкладывают с марта по июль и в ноябре-декабре."
   ]
  },
  {
   "cell_type": "code",
   "execution_count": 36,
   "metadata": {},
   "outputs": [
    {
     "name": "stdout",
     "output_type": "stream",
     "text": [
      "Коэффициент кореляции: 0.07229754383218595\n"
     ]
    },
    {
     "data": {
      "image/png": "[encoded data removed]",
      "text/plain": [
       "<Figure size 432x288 with 1 Axes>"
      ]
     },
     "metadata": {
      "needs_background": "light"
     },
     "output_type": "display_data"
    },
    {
     "data": {
      "image/png": "[encoded data removed]",
      "text/plain": [
       "<Figure size 432x288 with 1 Axes>"
      ]
     },
     "metadata": {
      "needs_background": "light"
     },
     "output_type": "display_data"
    }
   ],
   "source": [
    "#зависимость цены квадратного метра от месяца размещения\n",
    "print('Коэффициент корреляции:', df_new['m_price'].corr(df_new['year']))\n",
    "#видим, что линейной зависимости нет, построим графики зависимости\n",
    "report_month_median = df_new.groupby('year').agg({'m_price':'median'})\n",
    "report_month_median.plot()\n",
    "plt.show()\n",
    "report_month = df_new.groupby('year').agg({'m_price':'count'})\n",
    "report_month.plot()\n",
    "plt.show()"
   ]
  },
  {
   "cell_type": "markdown",
   "metadata": {},
   "source": [
    "Из графика зависимости медианы цены мы видим явную экспоненциальную зависимость. Стоимость жилья со временем растет по экспоенете.\n",
    "Из второго графика видим, что в 2015-2016 годах наблюдалось увеличение предложения на рынке, в 2017 году была стагнация, а в 2018 резкий спад. Это еще раз подтверждает экспоненциальный рост цены, так как дефицит предложения при ,предположительно, постоянном спросе провоцирует рост цен. "
   ]
  },
  {
   "cell_type": "code",
   "execution_count": 37,
   "metadata": {},
   "outputs": [
    {
     "data": {
      "text/html": [
       "<div>\n",
       "<style scoped>\n",
       "    .dataframe tbody tr th:only-of-type {\n",
       "        vertical-align: middle;\n",
       "    }\n",
       "\n",
       "    .dataframe tbody tr th {\n",
       "        vertical-align: top;\n",
       "    }\n",
       "\n",
       "    .dataframe thead th {\n",
       "        text-align: right;\n",
       "    }\n",
       "</style>\n",
       "<table border=\"1\" class=\"dataframe\">\n",
       "  <thead>\n",
       "    <tr style=\"text-align: right;\">\n",
       "      <th></th>\n",
       "      <th>images</th>\n",
       "      <th>m_price</th>\n",
       "    </tr>\n",
       "    <tr>\n",
       "      <th>locality_name</th>\n",
       "      <th></th>\n",
       "      <th></th>\n",
       "    </tr>\n",
       "  </thead>\n",
       "  <tbody>\n",
       "    <tr>\n",
       "      <td>санкт-петербург</td>\n",
       "      <td>10065</td>\n",
       "      <td>103553.566518</td>\n",
       "    </tr>\n",
       "    <tr>\n",
       "      <td>мурино</td>\n",
       "      <td>484</td>\n",
       "      <td>85347.839256</td>\n",
       "    </tr>\n",
       "    <tr>\n",
       "      <td>шушары</td>\n",
       "      <td>377</td>\n",
       "      <td>77430.043236</td>\n",
       "    </tr>\n",
       "    <tr>\n",
       "      <td>всеволожск</td>\n",
       "      <td>291</td>\n",
       "      <td>66623.076976</td>\n",
       "    </tr>\n",
       "    <tr>\n",
       "      <td>парголово</td>\n",
       "      <td>283</td>\n",
       "      <td>89455.056537</td>\n",
       "    </tr>\n",
       "    <tr>\n",
       "      <td>колпино</td>\n",
       "      <td>276</td>\n",
       "      <td>74885.811232</td>\n",
       "    </tr>\n",
       "    <tr>\n",
       "      <td>кудрово</td>\n",
       "      <td>250</td>\n",
       "      <td>92461.368800</td>\n",
       "    </tr>\n",
       "    <tr>\n",
       "      <td>пушкин</td>\n",
       "      <td>239</td>\n",
       "      <td>100172.247699</td>\n",
       "    </tr>\n",
       "    <tr>\n",
       "      <td>гатчина</td>\n",
       "      <td>227</td>\n",
       "      <td>67859.799119</td>\n",
       "    </tr>\n",
       "    <tr>\n",
       "      <td>выборг</td>\n",
       "      <td>174</td>\n",
       "      <td>56856.476437</td>\n",
       "    </tr>\n",
       "  </tbody>\n",
       "</table>\n",
       "</div>"
      ],
      "text/plain": [
       "                 images        m_price\n",
       "locality_name                         \n",
       "санкт-петербург   10065  103553.566518\n",
       " мурино             484   85347.839256\n",
       " шушары             377   77430.043236\n",
       "всеволожск          291   66623.076976\n",
       " парголово          283   89455.056537\n",
       "колпино             276   74885.811232\n",
       " кудрово            250   92461.368800\n",
       "пушкин              239  100172.247699\n",
       "гатчина             227   67859.799119\n",
       "выборг              174   56856.476437"
      ]
     },
     "execution_count": 37,
     "metadata": {},
     "output_type": "execute_result"
    }
   ],
   "source": [
    "df_locality = df_new.groupby('locality_name').agg({'images':'count',\n",
    "                                                   'm_price':'mean'}).sort_values(by = 'images', ascending = False).head(10)\n",
    "df_locality #таблица 10 населенных пунктов с самым большим числом объявлений \n",
    "#и рассчетом средней цены квадратного метра в них"
   ]
  },
  {
   "cell_type": "code",
   "execution_count": 38,
   "metadata": {},
   "outputs": [
    {
     "data": {
      "text/plain": [
       "'Населенный пункт с самой высокой стоимостью жилья:'"
      ]
     },
     "metadata": {},
     "output_type": "display_data"
    },
    {
     "data": {
      "text/html": [
       "<div>\n",
       "<style scoped>\n",
       "    .dataframe tbody tr th:only-of-type {\n",
       "        vertical-align: middle;\n",
       "    }\n",
       "\n",
       "    .dataframe tbody tr th {\n",
       "        vertical-align: top;\n",
       "    }\n",
       "\n",
       "    .dataframe thead th {\n",
       "        text-align: right;\n",
       "    }\n",
       "</style>\n",
       "<table border=\"1\" class=\"dataframe\">\n",
       "  <thead>\n",
       "    <tr style=\"text-align: right;\">\n",
       "      <th></th>\n",
       "      <th>images</th>\n",
       "      <th>m_price</th>\n",
       "    </tr>\n",
       "    <tr>\n",
       "      <th>locality_name</th>\n",
       "      <th></th>\n",
       "      <th></th>\n",
       "    </tr>\n",
       "  </thead>\n",
       "  <tbody>\n",
       "    <tr>\n",
       "      <td>санкт-петербург</td>\n",
       "      <td>10065</td>\n",
       "      <td>103553.566518</td>\n",
       "    </tr>\n",
       "  </tbody>\n",
       "</table>\n",
       "</div>"
      ],
      "text/plain": [
       "                 images        m_price\n",
       "locality_name                         \n",
       "санкт-петербург   10065  103553.566518"
      ]
     },
     "metadata": {},
     "output_type": "display_data"
    },
    {
     "data": {
      "text/plain": [
       "'Населенный пункт с самой низкой стоимостью жилья:'"
      ]
     },
     "metadata": {},
     "output_type": "display_data"
    },
    {
     "data": {
      "text/html": [
       "<div>\n",
       "<style scoped>\n",
       "    .dataframe tbody tr th:only-of-type {\n",
       "        vertical-align: middle;\n",
       "    }\n",
       "\n",
       "    .dataframe tbody tr th {\n",
       "        vertical-align: top;\n",
       "    }\n",
       "\n",
       "    .dataframe thead th {\n",
       "        text-align: right;\n",
       "    }\n",
       "</style>\n",
       "<table border=\"1\" class=\"dataframe\">\n",
       "  <thead>\n",
       "    <tr style=\"text-align: right;\">\n",
       "      <th></th>\n",
       "      <th>images</th>\n",
       "      <th>m_price</th>\n",
       "    </tr>\n",
       "    <tr>\n",
       "      <th>locality_name</th>\n",
       "      <th></th>\n",
       "      <th></th>\n",
       "    </tr>\n",
       "  </thead>\n",
       "  <tbody>\n",
       "    <tr>\n",
       "      <td>выборг</td>\n",
       "      <td>174</td>\n",
       "      <td>56856.476437</td>\n",
       "    </tr>\n",
       "  </tbody>\n",
       "</table>\n",
       "</div>"
      ],
      "text/plain": [
       "               images       m_price\n",
       "locality_name                      \n",
       "выборг            174  56856.476437"
      ]
     },
     "metadata": {},
     "output_type": "display_data"
    }
   ],
   "source": [
    "display('Населенный пункт с самой высокой стоимостью жилья:', df_locality.sort_values(by = 'm_price', ascending = False).head(1))\n",
    "display('Населенный пункт с самой низкой стоимостью жилья:', df_locality.sort_values(by = 'm_price', ascending = False).tail(1))"
   ]
  },
  {
   "cell_type": "code",
   "execution_count": 39,
   "metadata": {},
   "outputs": [
    {
     "data": {
      "image/png": "[encoded data removed]",
      "text/plain": [
       "<Figure size 432x288 with 1 Axes>"
      ]
     },
     "metadata": {
      "needs_background": "light"
     },
     "output_type": "display_data"
    }
   ],
   "source": [
    "#изучим предложения квартир по Санкт-Петербургу\n",
    "city = 'санкт-петербург'\n",
    "df_piter = df_new.query('locality_name == @city')\n",
    "df_piter['centers_nearest_km'] = (df_piter['centers_nearest']/1000).astype('int')\n",
    "#выделим, какая область входит в центр \n",
    "report_price_median = df_piter.groupby('centers_nearest_km').agg({'m_price':'median'})\n",
    "report_price_median.plot(style='o-', grid=True)\n",
    "plt.show()"
   ]
  },
  {
   "cell_type": "code",
   "execution_count": 40,
   "metadata": {},
   "outputs": [],
   "source": [
    "#Из графика видим, что в точке 7 происходит резкое падение цены. \n",
    "#Соответственно, центром будем считать зону до 7 км включительно. \n",
    "df_piter_centr = df_piter.query('centers_nearest_km <= 7')\n",
    "df_piter_out = df_piter.query('centers_nearest_km > 7')"
   ]
  },
  {
   "cell_type": "code",
   "execution_count": 41,
   "metadata": {},
   "outputs": [
    {
     "name": "stdout",
     "output_type": "stream",
     "text": [
      "По городу: count    8879.000000\n",
      "mean       51.637059\n",
      "std        17.238754\n",
      "min        13.000000\n",
      "25%        38.725000\n",
      "50%        47.000000\n",
      "75%        61.400000\n",
      "max       114.200000\n",
      "Name: total_area, dtype: float64\n",
      "\n",
      "По центру: count    1186.000000\n",
      "mean       64.279688\n",
      "std        21.901476\n",
      "min        13.200000\n",
      "25%        46.000000\n",
      "50%        61.600000\n",
      "75%        81.000000\n",
      "max       114.200000\n",
      "Name: total_area, dtype: float64\n"
     ]
    }
   ],
   "source": [
    "#данные по общей площди\n",
    "print('По городу:', df_piter_out['total_area'].describe())\n",
    "print()\n",
    "print('По центру:',df_piter_centr['total_area'].describe())\n",
    "#из данных делаю вывод, что и среднее значение и медиана площади в центре выше\n",
    "#следовательно в центре города квартиры больше"
   ]
  },
  {
   "cell_type": "code",
   "execution_count": 42,
   "metadata": {},
   "outputs": [
    {
     "name": "stdout",
     "output_type": "stream",
     "text": [
      "По городу: count    8879.000000\n",
      "mean        1.882757\n",
      "std         0.859789\n",
      "min         1.000000\n",
      "25%         1.000000\n",
      "50%         2.000000\n",
      "75%         3.000000\n",
      "max         6.000000\n",
      "Name: rooms, dtype: float64\n",
      "\n",
      "По центру: count    1186.000000\n",
      "mean        2.235245\n",
      "std         0.922923\n",
      "min         1.000000\n",
      "25%         2.000000\n",
      "50%         2.000000\n",
      "75%         3.000000\n",
      "max         6.000000\n",
      "Name: rooms, dtype: float64\n"
     ]
    }
   ],
   "source": [
    "#данные по числу комнат\n",
    "print('По городу:', df_piter_out['rooms'].describe())\n",
    "print()\n",
    "print('По центру:',df_piter_centr['rooms'].describe())\n",
    "#и в центре и по гододу, медианное значение - это 2 комнатные квартиры. "
   ]
  },
  {
   "cell_type": "code",
   "execution_count": 43,
   "metadata": {},
   "outputs": [
    {
     "name": "stdout",
     "output_type": "stream",
     "text": [
      "По городу: count      8879.000000\n",
      "mean     101678.005260\n",
      "std       19361.918975\n",
      "min         111.800000\n",
      "25%       87935.350000\n",
      "50%       99827.900000\n",
      "75%      113232.450000\n",
      "max      170648.500000\n",
      "Name: m_price, dtype: float64\n",
      "\n",
      "По центру: count      1186.000000\n",
      "mean     117594.973272\n",
      "std       24460.928089\n",
      "min       26250.000000\n",
      "25%       99355.850000\n",
      "50%      116073.650000\n",
      "75%      136717.700000\n",
      "max      170312.500000\n",
      "Name: m_price, dtype: float64\n"
     ]
    }
   ],
   "source": [
    "#данные по цене квадратного метра\n",
    "print('По городу:', df_piter_out['m_price'].describe())\n",
    "print()\n",
    "print('По центру:',df_piter_centr['m_price'].describe())\n",
    "#ожидаемо, что и среднее значение и медиана цены в центре значительно выше, чем по городу"
   ]
  },
  {
   "cell_type": "code",
   "execution_count": 44,
   "metadata": {},
   "outputs": [
    {
     "name": "stdout",
     "output_type": "stream",
     "text": [
      "По городу: count    8879.000000\n",
      "mean        2.628724\n",
      "std         0.082549\n",
      "min         2.450000\n",
      "25%         2.560000\n",
      "50%         2.650000\n",
      "75%         2.650000\n",
      "max         2.850000\n",
      "Name: ceiling_height, dtype: float64\n",
      "\n",
      "По центру: count    1186.000000\n",
      "mean        2.658170\n",
      "std         0.072476\n",
      "min         2.460000\n",
      "25%         2.650000\n",
      "50%         2.650000\n",
      "75%         2.650000\n",
      "max         2.850000\n",
      "Name: ceiling_height, dtype: float64\n"
     ]
    }
   ],
   "source": [
    "#данные по высоте потолков\n",
    "print('По городу:', df_piter_out['ceiling_height'].describe())\n",
    "print()\n",
    "print('По центру:',df_piter_centr['ceiling_height'].describe())\n",
    "#по высоте потолков ситуция идентична и в центре и по городу"
   ]
  },
  {
   "cell_type": "code",
   "execution_count": 45,
   "metadata": {},
   "outputs": [],
   "source": [
    "df_piter_centr = df_piter_centr.rename(columns={'m_price':'m_price_centr'})\n",
    "df_piter_out = df_piter_out.rename(columns={'m_price':'m_price_out'})                                                "
   ]
  },
  {
   "cell_type": "code",
   "execution_count": 46,
   "metadata": {},
   "outputs": [
    {
     "data": {
      "image/png": "[encoded data removed]",
      "text/plain": [
       "<Figure size 432x288 with 1 Axes>"
      ]
     },
     "metadata": {
      "needs_background": "light"
     },
     "output_type": "display_data"
    }
   ],
   "source": [
    "#факторы, влияющие на стоимость, сравнение центра и окраин\n",
    "#число комнат\n",
    "ax = df_piter_centr.pivot_table(index = 'rooms',\n",
    "                               values = 'm_price_centr',\n",
    "                               aggfunc = 'median').plot(grid = True, label = 'центр')\n",
    "df_piter_out.pivot_table(index = 'rooms',\n",
    "                   values = 'm_price_out',\n",
    "                   aggfunc = 'median').plot(grid = True, label = 'окраины', ax=ax)\n",
    "ax.legend()\n",
    "plt.show()"
   ]
  },
  {
   "cell_type": "markdown",
   "metadata": {},
   "source": [
    "На графике видим снижение медианной цены с увеличением количества комнат. Ранее уже  рассматривался этот вопрос и было выяснено, что причина - данные распределены неравномерно. Одно и двух комнатные квартиры превалируют на рынке, по ним на много больше данных. Корреляции между ценой квадратного метра и числом комнат выявлено не было."
   ]
  },
  {
   "cell_type": "code",
   "execution_count": 47,
   "metadata": {},
   "outputs": [
    {
     "data": {
      "image/png": "[encoded data removed]",
      "text/plain": [
       "<Figure size 432x288 with 1 Axes>"
      ]
     },
     "metadata": {
      "needs_background": "light"
     },
     "output_type": "display_data"
    }
   ],
   "source": [
    "#этаж\n",
    "ax = df_piter_centr.pivot_table(index = 'floor_cat',\n",
    "                               values = 'm_price_centr',\n",
    "                               aggfunc = 'median').plot(grid = True, label = 'центр')\n",
    "df_piter_out.pivot_table(index = 'floor_cat',\n",
    "                   values = 'm_price_out',\n",
    "                   aggfunc = 'median').plot(grid = True, label = 'окраины', ax=ax)\n",
    "ax.legend()\n",
    "plt.show()"
   ]
  },
  {
   "cell_type": "markdown",
   "metadata": {},
   "source": [
    "Из графика видно - что самые дешевые квартиры всегда на первом и последнем этажах."
   ]
  },
  {
   "cell_type": "code",
   "execution_count": 48,
   "metadata": {},
   "outputs": [
    {
     "data": {
      "image/png": "[encoded data removed]",
      "text/plain": [
       "<Figure size 432x288 with 1 Axes>"
      ]
     },
     "metadata": {
      "needs_background": "light"
     },
     "output_type": "display_data"
    }
   ],
   "source": [
    "#удаленность от центра\n",
    "ax = df_piter_centr.pivot_table(index = 'centers_nearest_km',\n",
    "                               values = 'm_price_centr',\n",
    "                               aggfunc = 'median').plot(grid = True, label = 'центр')\n",
    "df_piter_out.pivot_table(index = 'centers_nearest_km',\n",
    "                   values = 'm_price_out',\n",
    "                   aggfunc = 'median').plot(grid = True, label = 'окраины', ax=ax)\n",
    "ax.legend()\n",
    "plt.show()"
   ]
  },
  {
   "cell_type": "markdown",
   "metadata": {},
   "source": [
    "На графике явно видно, что в центре медианная цена лежит между 110000 и 120000 рублями за квадрат, а на границе раздела резкий спад и чем дальше от центра - тем дешевле."
   ]
  },
  {
   "cell_type": "code",
   "execution_count": 49,
   "metadata": {},
   "outputs": [
    {
     "data": {
      "image/png": "[encoded data removed]",
      "text/plain": [
       "<Figure size 432x288 with 1 Axes>"
      ]
     },
     "metadata": {
      "needs_background": "light"
     },
     "output_type": "display_data"
    },
    {
     "data": {
      "image/png": "[encoded data removed]",
      "text/plain": [
       "<Figure size 432x288 with 1 Axes>"
      ]
     },
     "metadata": {
      "needs_background": "light"
     },
     "output_type": "display_data"
    },
    {
     "data": {
      "image/png": "[encoded data removed]",
      "text/plain": [
       "<Figure size 432x288 with 1 Axes>"
      ]
     },
     "metadata": {
      "needs_background": "light"
     },
     "output_type": "display_data"
    }
   ],
   "source": [
    "#день недели \n",
    "ax = df_piter_centr.pivot_table(index = 'weekday',\n",
    "                               values = 'm_price_centr',\n",
    "                               aggfunc = 'median').plot(grid = True, label = 'центр')\n",
    "df_piter_out.pivot_table(index = 'weekday',\n",
    "                   values = 'm_price_out',\n",
    "                   aggfunc = 'median').plot(grid = True, label = 'окраины', ax=ax)\n",
    "ax.legend()\n",
    "#месяц\n",
    "ax = df_piter_centr.pivot_table(index = 'month',\n",
    "                               values = 'm_price_centr',\n",
    "                               aggfunc = 'median').plot(grid = True, label = 'центр')\n",
    "df_piter_out.pivot_table(index = 'month',\n",
    "                   values = 'm_price_out',\n",
    "                   aggfunc = 'median').plot(grid = True, label = 'окраины', ax=ax)\n",
    "#год\n",
    "ax = df_piter_centr.pivot_table(index = 'year',\n",
    "                               values = 'm_price_centr',\n",
    "                               aggfunc = 'median').plot(grid = True, label = 'центр')\n",
    "df_piter_out.pivot_table(index = 'year',\n",
    "                   values = 'm_price_out',\n",
    "                   aggfunc = 'median').plot(grid = True, label = 'окраины', ax=ax)\n",
    "ax.legend()\n",
    "plt.show()"
   ]
  },
  {
   "cell_type": "markdown",
   "metadata": {},
   "source": [
    "Для квартир в центре наблюдается скачек стоимости в пятницу-субботу. Для квартир на окраинах такого не наблюдается. Я думаю, что и в центре зависимости от дня недели и цены нет, а результаты связаны с тем, что квартир в центре продается намного меньше. Если сделать выборку больше, ситуация будет как на окраинах.\n",
    "На графике зависимости цены от месяца объявления опять же в центре видим скачек в марте и небольшой в августе, для окраин график без перепадов. Предполагаю причину также в недостаточном количестве данных о продаже квартир в центре.\n",
    "На графике зависимости от года мы видим идентичную ситуацию - увеличение цены каждый год."
   ]
  },
  {
   "cell_type": "markdown",
   "metadata": {},
   "source": [
    "## Общий вывод"
   ]
  },
  {
   "cell_type": "markdown",
   "metadata": {},
   "source": [
    "В ходе анализа были изучены следующие параметры: площадь, цена, число комнат, высота потолков. \n",
    "\n",
    "Изучено время продажи квартир. Были удалены редкие и выбивающиеся значения. Медианное время продажи квартир составляет 95 дней - около трех месяцев.  Считается, что продажа происходит необычно долго, если длится больше 510 дней. К необычно быстрым продажам я отнесла те, что прошли быстрее 45 дней, так как это первый квантиль (75% данных больше этого значния), также исходя из здравого смысла, можно считать эту величину разумной (есть необходимые временные затраты на просмотры и оформление документов на продажу). \n",
    "\n",
    "Больше всего на стоимость квартиры влияют:\n",
    "* этаж - на первом и последнем этаже самые дешевые квартиры.\n",
    "* близость к центру города - чем ближе к центру города - тем дороже квартиры. \n",
    "\n",
    "День недели, месяц публикации объявления не влияют на стоимость квартиры. Однако с пятницы по воскресенье, с марта по июль и в ноябре-декабре  выкладывают намного меньше оъявлений, чем в остальные дни и месяца.\n",
    "\n",
    "Самая высокая стоимость жилья в Санк-Петербурге - 103553р/м2, сама низкая в Выборге - 56856р/м2.\n",
    "\n",
    "Выяснено, что в область центра Санкт-Петербурга входит территория, находящаяся не дальше 7 км от центра. \n",
    "Сравнительный анализ квартир в центре и на окраине города выявил, что квартиры в центре больше по площади, чем на окраине. На цену квартир в центре и на окраине одинаково влияет этаж (первый и последний дешевле). Для квартир на окраине видна очень явная зависимость: чем дальше - тем дешевле. Для квартир в центре такой явкой зависимости уже нет. Предположительно из-за того, что 7 км не такое большое расстояние, чтобы сильно менялась цена. \n",
    "\n",
    "Анализ цены от дня недели, месяца, и года продажи, на мой взгляд, покзал тот же результат, что и для всего города. "
   ]
  }
 ],
 "metadata": {
  "ExecuteTimeLog": [
   {
    "duration": 726,
    "start_time": "2022-01-22T11:27:08.470Z"
   },
   {
    "duration": 23,
    "start_time": "2022-01-22T11:28:40.174Z"
   },
   {
    "duration": 7,
    "start_time": "2022-01-22T11:29:23.670Z"
   },
   {
    "duration": 8,
    "start_time": "2022-01-22T11:33:48.015Z"
   },
   {
    "duration": 71,
    "start_time": "2022-01-22T11:35:40.974Z"
   },
   {
    "duration": 111,
    "start_time": "2022-01-22T11:36:49.014Z"
   },
   {
    "duration": 11,
    "start_time": "2022-01-22T11:38:15.093Z"
   },
   {
    "duration": 76,
    "start_time": "2022-01-22T12:19:23.579Z"
   },
   {
    "duration": 75,
    "start_time": "2022-01-22T12:19:32.386Z"
   },
   {
    "duration": 104,
    "start_time": "2022-01-22T12:19:44.947Z"
   },
   {
    "duration": 83,
    "start_time": "2022-01-22T12:39:41.318Z"
   },
   {
    "duration": 84,
    "start_time": "2022-01-22T12:40:29.683Z"
   },
   {
    "duration": 106,
    "start_time": "2022-01-22T12:52:38.182Z"
   },
   {
    "duration": 85,
    "start_time": "2022-01-22T13:00:18.183Z"
   },
   {
    "duration": 349,
    "start_time": "2022-01-22T13:12:34.090Z"
   },
   {
    "duration": 4,
    "start_time": "2022-01-22T13:12:53.814Z"
   },
   {
    "duration": 12,
    "start_time": "2022-01-22T13:27:15.090Z"
   },
   {
    "duration": 24,
    "start_time": "2022-01-22T13:28:34.590Z"
   },
   {
    "duration": 9,
    "start_time": "2022-01-22T13:31:42.889Z"
   },
   {
    "duration": 268,
    "start_time": "2022-01-22T13:42:07.510Z"
   },
   {
    "duration": 296,
    "start_time": "2022-01-22T13:42:22.649Z"
   },
   {
    "duration": 15,
    "start_time": "2022-01-22T13:43:18.849Z"
   },
   {
    "duration": 10,
    "start_time": "2022-01-22T13:45:00.778Z"
   },
   {
    "duration": 12,
    "start_time": "2022-01-22T14:05:41.805Z"
   },
   {
    "duration": 15,
    "start_time": "2022-01-22T14:05:54.814Z"
   },
   {
    "duration": 11,
    "start_time": "2022-01-22T14:06:10.117Z"
   },
   {
    "duration": 98,
    "start_time": "2022-01-22T14:07:53.157Z"
   },
   {
    "duration": 95,
    "start_time": "2022-01-22T14:08:58.188Z"
   },
   {
    "duration": 429,
    "start_time": "2022-01-22T14:10:31.511Z"
   },
   {
    "duration": 77,
    "start_time": "2022-01-22T14:14:18.805Z"
   },
   {
    "duration": -2090,
    "start_time": "2022-01-22T14:16:14.940Z"
   },
   {
    "duration": -2092,
    "start_time": "2022-01-22T14:16:14.943Z"
   },
   {
    "duration": -2094,
    "start_time": "2022-01-22T14:16:14.946Z"
   },
   {
    "duration": -2149,
    "start_time": "2022-01-22T14:16:15.002Z"
   },
   {
    "duration": -2168,
    "start_time": "2022-01-22T14:16:15.022Z"
   },
   {
    "duration": -2176,
    "start_time": "2022-01-22T14:16:15.031Z"
   },
   {
    "duration": -2201,
    "start_time": "2022-01-22T14:16:15.058Z"
   },
   {
    "duration": 6380,
    "start_time": "2022-01-22T14:16:21.374Z"
   },
   {
    "duration": 63,
    "start_time": "2022-01-22T14:16:53.385Z"
   },
   {
    "duration": 96,
    "start_time": "2022-01-22T14:16:53.450Z"
   },
   {
    "duration": 11,
    "start_time": "2022-01-22T14:16:53.548Z"
   },
   {
    "duration": 4,
    "start_time": "2022-01-22T14:16:53.561Z"
   },
   {
    "duration": 62,
    "start_time": "2022-01-22T14:17:25.954Z"
   },
   {
    "duration": 86,
    "start_time": "2022-01-22T14:17:26.019Z"
   },
   {
    "duration": 13,
    "start_time": "2022-01-22T14:17:26.108Z"
   },
   {
    "duration": 4,
    "start_time": "2022-01-22T14:17:26.123Z"
   },
   {
    "duration": 11,
    "start_time": "2022-01-22T14:17:26.130Z"
   },
   {
    "duration": 11,
    "start_time": "2022-01-22T14:17:26.143Z"
   },
   {
    "duration": 14,
    "start_time": "2022-01-22T14:17:37.318Z"
   },
   {
    "duration": 22,
    "start_time": "2022-01-22T14:18:01.623Z"
   },
   {
    "duration": 606,
    "start_time": "2022-01-23T11:54:24.875Z"
   },
   {
    "duration": 68,
    "start_time": "2022-01-23T11:54:25.483Z"
   },
   {
    "duration": 8,
    "start_time": "2022-01-23T11:54:25.553Z"
   },
   {
    "duration": 3,
    "start_time": "2022-01-23T11:54:25.563Z"
   },
   {
    "duration": 9,
    "start_time": "2022-01-23T11:54:25.568Z"
   },
   {
    "duration": 8,
    "start_time": "2022-01-23T11:54:25.579Z"
   },
   {
    "duration": 57,
    "start_time": "2022-01-23T11:54:25.589Z"
   },
   {
    "duration": 25,
    "start_time": "2022-01-23T11:55:16.824Z"
   },
   {
    "duration": 23,
    "start_time": "2022-01-23T11:55:28.568Z"
   },
   {
    "duration": 14,
    "start_time": "2022-01-23T11:55:36.525Z"
   },
   {
    "duration": 56,
    "start_time": "2022-01-23T11:55:47.874Z"
   },
   {
    "duration": 69,
    "start_time": "2022-01-23T11:55:47.932Z"
   },
   {
    "duration": 24,
    "start_time": "2022-01-23T11:55:48.003Z"
   },
   {
    "duration": 4,
    "start_time": "2022-01-23T11:55:48.028Z"
   },
   {
    "duration": 10,
    "start_time": "2022-01-23T11:55:48.033Z"
   },
   {
    "duration": 8,
    "start_time": "2022-01-23T11:55:48.044Z"
   },
   {
    "duration": 15,
    "start_time": "2022-01-23T11:55:52.744Z"
   },
   {
    "duration": 35,
    "start_time": "2022-01-23T11:59:04.609Z"
   },
   {
    "duration": 28,
    "start_time": "2022-01-23T12:01:21.640Z"
   },
   {
    "duration": 29,
    "start_time": "2022-01-23T12:03:09.321Z"
   },
   {
    "duration": 36,
    "start_time": "2022-01-23T12:03:56.476Z"
   },
   {
    "duration": 43,
    "start_time": "2022-01-23T12:04:46.927Z"
   },
   {
    "duration": 82,
    "start_time": "2022-01-23T12:05:22.481Z"
   },
   {
    "duration": -2907,
    "start_time": "2022-01-23T12:13:24.095Z"
   },
   {
    "duration": -2911,
    "start_time": "2022-01-23T12:13:24.100Z"
   },
   {
    "duration": -2913,
    "start_time": "2022-01-23T12:13:24.103Z"
   },
   {
    "duration": -2996,
    "start_time": "2022-01-23T12:13:24.187Z"
   },
   {
    "duration": -2998,
    "start_time": "2022-01-23T12:13:24.190Z"
   },
   {
    "duration": -2999,
    "start_time": "2022-01-23T12:13:24.192Z"
   },
   {
    "duration": -3001,
    "start_time": "2022-01-23T12:13:24.195Z"
   },
   {
    "duration": 9886,
    "start_time": "2022-01-23T12:13:23.250Z"
   },
   {
    "duration": 53,
    "start_time": "2022-01-23T12:14:22.987Z"
   },
   {
    "duration": 74,
    "start_time": "2022-01-23T12:14:23.041Z"
   },
   {
    "duration": 17,
    "start_time": "2022-01-23T12:14:23.117Z"
   },
   {
    "duration": 20,
    "start_time": "2022-01-23T12:14:23.136Z"
   },
   {
    "duration": 20,
    "start_time": "2022-01-23T12:14:23.158Z"
   },
   {
    "duration": 9,
    "start_time": "2022-01-23T12:14:23.180Z"
   },
   {
    "duration": 32,
    "start_time": "2022-01-23T12:14:31.122Z"
   },
   {
    "duration": 26,
    "start_time": "2022-01-23T12:40:57.290Z"
   },
   {
    "duration": 113,
    "start_time": "2022-01-23T13:39:35.684Z"
   },
   {
    "duration": 119,
    "start_time": "2022-01-23T13:40:08.124Z"
   },
   {
    "duration": 312,
    "start_time": "2022-01-23T13:40:23.219Z"
   },
   {
    "duration": -2556,
    "start_time": "2022-01-23T13:40:45.653Z"
   },
   {
    "duration": 78,
    "start_time": "2022-01-23T13:40:47.143Z"
   },
   {
    "duration": 100,
    "start_time": "2022-01-23T13:40:47.223Z"
   },
   {
    "duration": 13,
    "start_time": "2022-01-23T13:40:47.328Z"
   },
   {
    "duration": 4,
    "start_time": "2022-01-23T13:40:47.343Z"
   },
   {
    "duration": 11,
    "start_time": "2022-01-23T13:40:47.348Z"
   },
   {
    "duration": 10,
    "start_time": "2022-01-23T13:40:47.361Z"
   },
   {
    "duration": 58,
    "start_time": "2022-01-23T13:40:47.373Z"
   },
   {
    "duration": 8061,
    "start_time": "2022-01-23T13:40:52.532Z"
   },
   {
    "duration": 332,
    "start_time": "2022-01-23T13:41:11.325Z"
   },
   {
    "duration": 407,
    "start_time": "2022-01-23T13:42:41.084Z"
   },
   {
    "duration": 335,
    "start_time": "2022-01-23T13:43:09.184Z"
   },
   {
    "duration": 5,
    "start_time": "2022-01-23T13:45:33.987Z"
   },
   {
    "duration": 6,
    "start_time": "2022-01-23T13:45:57.277Z"
   },
   {
    "duration": 113,
    "start_time": "2022-01-23T13:51:26.726Z"
   },
   {
    "duration": 6,
    "start_time": "2022-01-23T13:51:37.812Z"
   },
   {
    "duration": -2993,
    "start_time": "2022-01-23T14:07:38.259Z"
   },
   {
    "duration": 370,
    "start_time": "2022-01-23T14:08:30.681Z"
   },
   {
    "duration": 427,
    "start_time": "2022-01-23T14:09:57.032Z"
   },
   {
    "duration": 459,
    "start_time": "2022-01-23T14:17:32.363Z"
   },
   {
    "duration": 58,
    "start_time": "2022-01-23T14:17:43.667Z"
   },
   {
    "duration": 64,
    "start_time": "2022-01-23T14:17:43.727Z"
   },
   {
    "duration": 10,
    "start_time": "2022-01-23T14:17:43.793Z"
   },
   {
    "duration": 4,
    "start_time": "2022-01-23T14:17:43.804Z"
   },
   {
    "duration": 25,
    "start_time": "2022-01-23T14:17:43.809Z"
   },
   {
    "duration": 7,
    "start_time": "2022-01-23T14:17:43.835Z"
   },
   {
    "duration": 33,
    "start_time": "2022-01-23T14:17:43.844Z"
   },
   {
    "duration": 462,
    "start_time": "2022-01-23T14:17:47.672Z"
   },
   {
    "duration": 47,
    "start_time": "2022-01-23T14:20:56.392Z"
   },
   {
    "duration": 4857,
    "start_time": "2022-01-23T14:21:29.558Z"
   },
   {
    "duration": 4752,
    "start_time": "2022-01-23T14:22:09.393Z"
   },
   {
    "duration": 5196,
    "start_time": "2022-01-23T14:22:28.002Z"
   },
   {
    "duration": 4859,
    "start_time": "2022-01-23T14:23:45.226Z"
   },
   {
    "duration": 4779,
    "start_time": "2022-01-23T14:25:32.983Z"
   },
   {
    "duration": 4785,
    "start_time": "2022-01-23T14:26:04.955Z"
   },
   {
    "duration": 57,
    "start_time": "2022-01-23T14:28:28.940Z"
   },
   {
    "duration": 77,
    "start_time": "2022-01-23T14:28:28.999Z"
   },
   {
    "duration": 9,
    "start_time": "2022-01-23T14:28:29.078Z"
   },
   {
    "duration": 3,
    "start_time": "2022-01-23T14:28:29.089Z"
   },
   {
    "duration": 10,
    "start_time": "2022-01-23T14:28:29.094Z"
   },
   {
    "duration": 26,
    "start_time": "2022-01-23T14:28:29.106Z"
   },
   {
    "duration": 35,
    "start_time": "2022-01-23T14:28:29.134Z"
   },
   {
    "duration": 4871,
    "start_time": "2022-01-23T14:28:38.890Z"
   },
   {
    "duration": 45,
    "start_time": "2022-01-23T14:29:24.874Z"
   },
   {
    "duration": 47,
    "start_time": "2022-01-23T14:29:47.909Z"
   },
   {
    "duration": 59,
    "start_time": "2022-01-23T14:29:57.349Z"
   },
   {
    "duration": 66,
    "start_time": "2022-01-23T14:29:57.410Z"
   },
   {
    "duration": 9,
    "start_time": "2022-01-23T14:29:57.478Z"
   },
   {
    "duration": 4,
    "start_time": "2022-01-23T14:29:57.490Z"
   },
   {
    "duration": 31,
    "start_time": "2022-01-23T14:29:57.496Z"
   },
   {
    "duration": 8,
    "start_time": "2022-01-23T14:29:57.529Z"
   },
   {
    "duration": 35,
    "start_time": "2022-01-23T14:29:57.539Z"
   },
   {
    "duration": 75,
    "start_time": "2022-01-23T14:29:57.575Z"
   },
   {
    "duration": 45,
    "start_time": "2022-01-23T14:39:13.141Z"
   },
   {
    "duration": 48,
    "start_time": "2022-01-23T14:44:30.663Z"
   },
   {
    "duration": 107,
    "start_time": "2022-01-23T14:45:24.106Z"
   },
   {
    "duration": 48,
    "start_time": "2022-01-23T14:46:00.011Z"
   },
   {
    "duration": 48,
    "start_time": "2022-01-23T14:46:10.441Z"
   },
   {
    "duration": 48,
    "start_time": "2022-01-23T14:47:04.386Z"
   },
   {
    "duration": 57,
    "start_time": "2022-01-23T14:47:08.300Z"
   },
   {
    "duration": 68,
    "start_time": "2022-01-23T14:47:08.359Z"
   },
   {
    "duration": 8,
    "start_time": "2022-01-23T14:47:08.429Z"
   },
   {
    "duration": 4,
    "start_time": "2022-01-23T14:47:08.439Z"
   },
   {
    "duration": 10,
    "start_time": "2022-01-23T14:47:08.444Z"
   },
   {
    "duration": 7,
    "start_time": "2022-01-23T14:47:08.456Z"
   },
   {
    "duration": 31,
    "start_time": "2022-01-23T14:47:08.465Z"
   },
   {
    "duration": 70,
    "start_time": "2022-01-23T14:47:08.498Z"
   },
   {
    "duration": 58,
    "start_time": "2022-01-23T14:47:08.570Z"
   },
   {
    "duration": 49,
    "start_time": "2022-01-23T14:47:19.002Z"
   },
   {
    "duration": 55,
    "start_time": "2022-01-23T14:48:30.132Z"
   },
   {
    "duration": 48,
    "start_time": "2022-01-23T14:48:52.819Z"
   },
   {
    "duration": 52,
    "start_time": "2022-01-23T14:49:17.780Z"
   },
   {
    "duration": 48,
    "start_time": "2022-01-23T14:49:39.811Z"
   },
   {
    "duration": 129,
    "start_time": "2022-01-23T14:50:47.450Z"
   },
   {
    "duration": 117,
    "start_time": "2022-01-23T14:51:01.355Z"
   },
   {
    "duration": 48,
    "start_time": "2022-01-23T14:51:40.587Z"
   },
   {
    "duration": 48,
    "start_time": "2022-01-23T14:51:47.900Z"
   },
   {
    "duration": 58,
    "start_time": "2022-01-23T14:51:51.796Z"
   },
   {
    "duration": 73,
    "start_time": "2022-01-23T14:51:51.856Z"
   },
   {
    "duration": 10,
    "start_time": "2022-01-23T14:51:51.930Z"
   },
   {
    "duration": 4,
    "start_time": "2022-01-23T14:51:51.942Z"
   },
   {
    "duration": 10,
    "start_time": "2022-01-23T14:51:51.949Z"
   },
   {
    "duration": 9,
    "start_time": "2022-01-23T14:51:51.960Z"
   },
   {
    "duration": 72,
    "start_time": "2022-01-23T14:51:51.971Z"
   },
   {
    "duration": 48,
    "start_time": "2022-01-23T14:51:52.045Z"
   },
   {
    "duration": 49,
    "start_time": "2022-01-23T14:51:55.119Z"
   },
   {
    "duration": 13311,
    "start_time": "2022-01-23T15:32:14.821Z"
   },
   {
    "duration": 6093,
    "start_time": "2022-01-23T15:32:49.758Z"
   },
   {
    "duration": 110,
    "start_time": "2022-01-23T15:33:08.461Z"
   },
   {
    "duration": 108,
    "start_time": "2022-01-23T15:33:33.286Z"
   },
   {
    "duration": 9643,
    "start_time": "2022-01-23T15:33:45.702Z"
   },
   {
    "duration": 9589,
    "start_time": "2022-01-23T15:34:02.031Z"
   },
   {
    "duration": 5888,
    "start_time": "2022-01-23T15:34:16.454Z"
   },
   {
    "duration": 59,
    "start_time": "2022-01-23T15:34:26.779Z"
   },
   {
    "duration": 68,
    "start_time": "2022-01-23T15:34:26.840Z"
   },
   {
    "duration": 18,
    "start_time": "2022-01-23T15:34:26.910Z"
   },
   {
    "duration": 4,
    "start_time": "2022-01-23T15:34:26.929Z"
   },
   {
    "duration": 11,
    "start_time": "2022-01-23T15:34:26.935Z"
   },
   {
    "duration": 9,
    "start_time": "2022-01-23T15:34:26.948Z"
   },
   {
    "duration": 30,
    "start_time": "2022-01-23T15:34:26.958Z"
   },
   {
    "duration": 82,
    "start_time": "2022-01-23T15:34:26.990Z"
   },
   {
    "duration": 72,
    "start_time": "2022-01-23T15:34:27.075Z"
   },
   {
    "duration": 5732,
    "start_time": "2022-01-23T15:34:27.148Z"
   },
   {
    "duration": 6153,
    "start_time": "2022-01-23T15:35:42.294Z"
   },
   {
    "duration": 5718,
    "start_time": "2022-01-23T15:36:41.271Z"
   },
   {
    "duration": 5995,
    "start_time": "2022-01-23T15:36:52.291Z"
   },
   {
    "duration": 61,
    "start_time": "2022-01-23T15:36:58.288Z"
   },
   {
    "duration": 80,
    "start_time": "2022-01-23T15:36:58.352Z"
   },
   {
    "duration": 10,
    "start_time": "2022-01-23T15:36:58.433Z"
   },
   {
    "duration": 4,
    "start_time": "2022-01-23T15:36:58.444Z"
   },
   {
    "duration": 11,
    "start_time": "2022-01-23T15:36:58.449Z"
   },
   {
    "duration": 8,
    "start_time": "2022-01-23T15:36:58.461Z"
   },
   {
    "duration": 62,
    "start_time": "2022-01-23T15:36:58.471Z"
   },
   {
    "duration": 51,
    "start_time": "2022-01-23T15:36:58.535Z"
   },
   {
    "duration": 82,
    "start_time": "2022-01-23T15:36:58.587Z"
   },
   {
    "duration": 48,
    "start_time": "2022-01-23T15:37:11.614Z"
   },
   {
    "duration": 48,
    "start_time": "2022-01-23T15:39:42.225Z"
   },
   {
    "duration": 5780,
    "start_time": "2022-01-23T15:40:11.257Z"
   },
   {
    "duration": 5802,
    "start_time": "2022-01-23T15:41:07.528Z"
   },
   {
    "duration": 5805,
    "start_time": "2022-01-23T15:41:21.832Z"
   },
   {
    "duration": 5770,
    "start_time": "2022-01-23T15:41:35.624Z"
   },
   {
    "duration": 60,
    "start_time": "2022-01-23T15:41:44.497Z"
   },
   {
    "duration": 72,
    "start_time": "2022-01-23T15:41:44.559Z"
   },
   {
    "duration": 10,
    "start_time": "2022-01-23T15:41:44.633Z"
   },
   {
    "duration": 3,
    "start_time": "2022-01-23T15:41:44.645Z"
   },
   {
    "duration": 10,
    "start_time": "2022-01-23T15:41:44.650Z"
   },
   {
    "duration": 7,
    "start_time": "2022-01-23T15:41:44.662Z"
   },
   {
    "duration": 65,
    "start_time": "2022-01-23T15:41:44.670Z"
   },
   {
    "duration": 46,
    "start_time": "2022-01-23T15:41:44.736Z"
   },
   {
    "duration": 62,
    "start_time": "2022-01-23T15:41:44.783Z"
   },
   {
    "duration": 5720,
    "start_time": "2022-01-23T15:41:55.528Z"
   },
   {
    "duration": 6931,
    "start_time": "2022-01-23T15:44:50.976Z"
   },
   {
    "duration": 6924,
    "start_time": "2022-01-23T15:45:27.480Z"
   },
   {
    "duration": 7011,
    "start_time": "2022-01-23T15:47:44.217Z"
   },
   {
    "duration": 63,
    "start_time": "2022-01-23T15:47:51.229Z"
   },
   {
    "duration": 71,
    "start_time": "2022-01-23T15:47:51.294Z"
   },
   {
    "duration": 11,
    "start_time": "2022-01-23T15:47:51.367Z"
   },
   {
    "duration": 3,
    "start_time": "2022-01-23T15:47:51.379Z"
   },
   {
    "duration": 13,
    "start_time": "2022-01-23T15:47:51.384Z"
   },
   {
    "duration": 29,
    "start_time": "2022-01-23T15:47:51.399Z"
   },
   {
    "duration": 32,
    "start_time": "2022-01-23T15:47:51.430Z"
   },
   {
    "duration": 46,
    "start_time": "2022-01-23T15:47:51.463Z"
   },
   {
    "duration": 62,
    "start_time": "2022-01-23T15:47:51.511Z"
   },
   {
    "duration": 6857,
    "start_time": "2022-01-23T15:48:02.158Z"
   },
   {
    "duration": 6,
    "start_time": "2022-01-23T16:16:50.437Z"
   },
   {
    "duration": 438,
    "start_time": "2022-01-23T16:18:46.335Z"
   },
   {
    "duration": 340,
    "start_time": "2022-01-23T16:19:04.448Z"
   },
   {
    "duration": 359,
    "start_time": "2022-01-23T16:19:16.501Z"
   },
   {
    "duration": 1435,
    "start_time": "2022-01-23T16:20:17.494Z"
   },
   {
    "duration": 338,
    "start_time": "2022-01-23T16:21:30.622Z"
   },
   {
    "duration": 111,
    "start_time": "2022-01-23T16:23:08.798Z"
   },
   {
    "duration": 353,
    "start_time": "2022-01-23T16:23:16.693Z"
   },
   {
    "duration": 104,
    "start_time": "2022-01-23T16:31:46.664Z"
   },
   {
    "duration": 17,
    "start_time": "2022-01-23T16:32:21.240Z"
   },
   {
    "duration": 26,
    "start_time": "2022-01-23T16:35:51.696Z"
   },
   {
    "duration": 39,
    "start_time": "2022-01-23T16:36:10.880Z"
   },
   {
    "duration": 28,
    "start_time": "2022-01-23T16:42:44.200Z"
   },
   {
    "duration": 27,
    "start_time": "2022-01-23T16:43:14.874Z"
   },
   {
    "duration": 28,
    "start_time": "2022-01-23T16:47:39.514Z"
   },
   {
    "duration": 26,
    "start_time": "2022-01-23T16:48:43.835Z"
   },
   {
    "duration": 443,
    "start_time": "2022-01-23T16:56:45.100Z"
   },
   {
    "duration": 178,
    "start_time": "2022-01-23T16:57:03.899Z"
   },
   {
    "duration": 179,
    "start_time": "2022-01-23T16:57:16.908Z"
   },
   {
    "duration": 173,
    "start_time": "2022-01-23T16:57:47.979Z"
   },
   {
    "duration": 174,
    "start_time": "2022-01-23T17:01:20.084Z"
   },
   {
    "duration": 515,
    "start_time": "2022-01-23T17:03:38.492Z"
   },
   {
    "duration": 178,
    "start_time": "2022-01-23T17:04:20.430Z"
   },
   {
    "duration": 177,
    "start_time": "2022-01-23T17:04:33.340Z"
   },
   {
    "duration": 58,
    "start_time": "2022-01-23T17:04:47.325Z"
   },
   {
    "duration": 67,
    "start_time": "2022-01-23T17:04:47.384Z"
   },
   {
    "duration": 9,
    "start_time": "2022-01-23T17:04:47.452Z"
   },
   {
    "duration": 3,
    "start_time": "2022-01-23T17:04:47.463Z"
   },
   {
    "duration": 12,
    "start_time": "2022-01-23T17:04:47.467Z"
   },
   {
    "duration": 8,
    "start_time": "2022-01-23T17:04:47.481Z"
   },
   {
    "duration": 60,
    "start_time": "2022-01-23T17:04:47.490Z"
   },
   {
    "duration": 45,
    "start_time": "2022-01-23T17:04:47.552Z"
   },
   {
    "duration": 60,
    "start_time": "2022-01-23T17:04:47.599Z"
   },
   {
    "duration": 7105,
    "start_time": "2022-01-23T17:04:47.661Z"
   },
   {
    "duration": 189,
    "start_time": "2022-01-23T17:04:54.768Z"
   },
   {
    "duration": 196,
    "start_time": "2022-01-23T17:05:18.125Z"
   },
   {
    "duration": 208,
    "start_time": "2022-01-23T17:09:40.278Z"
   },
   {
    "duration": 222,
    "start_time": "2022-01-23T17:09:46.686Z"
   },
   {
    "duration": 215,
    "start_time": "2022-01-23T17:10:46.125Z"
   },
   {
    "duration": 405,
    "start_time": "2022-01-23T19:29:13.212Z"
   },
   {
    "duration": 900,
    "start_time": "2022-01-23T19:29:20.301Z"
   },
   {
    "duration": 108,
    "start_time": "2022-01-23T19:29:21.204Z"
   },
   {
    "duration": 15,
    "start_time": "2022-01-23T19:29:21.315Z"
   },
   {
    "duration": 6,
    "start_time": "2022-01-23T19:29:21.333Z"
   },
   {
    "duration": 13,
    "start_time": "2022-01-23T19:29:21.359Z"
   },
   {
    "duration": 13,
    "start_time": "2022-01-23T19:29:21.374Z"
   },
   {
    "duration": 82,
    "start_time": "2022-01-23T19:29:21.389Z"
   },
   {
    "duration": 96,
    "start_time": "2022-01-23T19:29:21.475Z"
   },
   {
    "duration": 96,
    "start_time": "2022-01-23T19:29:21.574Z"
   },
   {
    "duration": 11500,
    "start_time": "2022-01-23T19:29:21.672Z"
   },
   {
    "duration": 365,
    "start_time": "2022-01-23T19:29:33.174Z"
   },
   {
    "duration": 26,
    "start_time": "2022-01-23T19:29:33.541Z"
   },
   {
    "duration": 84,
    "start_time": "2022-01-23T19:29:41.515Z"
   },
   {
    "duration": 367,
    "start_time": "2022-01-23T19:29:49.643Z"
   },
   {
    "duration": 346,
    "start_time": "2022-01-23T19:31:05.435Z"
   },
   {
    "duration": 353,
    "start_time": "2022-01-23T19:31:10.435Z"
   },
   {
    "duration": 18,
    "start_time": "2022-01-23T19:31:20.922Z"
   },
   {
    "duration": 119,
    "start_time": "2022-01-23T19:34:02.932Z"
   },
   {
    "duration": 123,
    "start_time": "2022-01-23T19:34:18.627Z"
   },
   {
    "duration": 137,
    "start_time": "2022-01-23T19:34:29.588Z"
   },
   {
    "duration": 2276,
    "start_time": "2022-01-23T19:35:21.525Z"
   },
   {
    "duration": 110,
    "start_time": "2022-01-23T19:35:54.835Z"
   },
   {
    "duration": 89,
    "start_time": "2022-01-23T19:36:39.611Z"
   },
   {
    "duration": 119,
    "start_time": "2022-01-23T19:36:58.508Z"
   },
   {
    "duration": 24,
    "start_time": "2022-01-23T19:40:56.900Z"
   },
   {
    "duration": 79,
    "start_time": "2022-01-23T19:41:11.087Z"
   },
   {
    "duration": 105,
    "start_time": "2022-01-23T19:41:11.169Z"
   },
   {
    "duration": 15,
    "start_time": "2022-01-23T19:41:11.277Z"
   },
   {
    "duration": 5,
    "start_time": "2022-01-23T19:41:11.295Z"
   },
   {
    "duration": 14,
    "start_time": "2022-01-23T19:41:11.303Z"
   },
   {
    "duration": 45,
    "start_time": "2022-01-23T19:41:11.320Z"
   },
   {
    "duration": 47,
    "start_time": "2022-01-23T19:41:11.368Z"
   },
   {
    "duration": 110,
    "start_time": "2022-01-23T19:41:11.417Z"
   },
   {
    "duration": 92,
    "start_time": "2022-01-23T19:41:11.531Z"
   },
   {
    "duration": 11408,
    "start_time": "2022-01-23T19:41:11.626Z"
   },
   {
    "duration": 392,
    "start_time": "2022-01-23T19:41:23.036Z"
   },
   {
    "duration": 23,
    "start_time": "2022-01-23T19:41:23.463Z"
   },
   {
    "duration": 21,
    "start_time": "2022-01-23T19:41:40.205Z"
   },
   {
    "duration": 22,
    "start_time": "2022-01-23T19:41:55.268Z"
   },
   {
    "duration": 80,
    "start_time": "2022-01-23T19:43:13.736Z"
   },
   {
    "duration": 115,
    "start_time": "2022-01-23T19:43:13.819Z"
   },
   {
    "duration": 26,
    "start_time": "2022-01-23T19:43:13.937Z"
   },
   {
    "duration": 6,
    "start_time": "2022-01-23T19:43:13.965Z"
   },
   {
    "duration": 14,
    "start_time": "2022-01-23T19:43:13.973Z"
   },
   {
    "duration": 11,
    "start_time": "2022-01-23T19:43:13.989Z"
   },
   {
    "duration": 88,
    "start_time": "2022-01-23T19:43:14.003Z"
   },
   {
    "duration": 91,
    "start_time": "2022-01-23T19:43:14.094Z"
   },
   {
    "duration": 99,
    "start_time": "2022-01-23T19:43:14.189Z"
   },
   {
    "duration": 11610,
    "start_time": "2022-01-23T19:43:14.291Z"
   },
   {
    "duration": 375,
    "start_time": "2022-01-23T19:43:25.904Z"
   },
   {
    "duration": 21,
    "start_time": "2022-01-23T19:43:26.281Z"
   },
   {
    "duration": 599,
    "start_time": "2022-01-23T19:49:28.806Z"
   },
   {
    "duration": 347,
    "start_time": "2022-01-23T19:49:58.551Z"
   },
   {
    "duration": 368,
    "start_time": "2022-01-23T19:55:07.958Z"
   },
   {
    "duration": 50,
    "start_time": "2022-01-23T19:55:28.431Z"
   },
   {
    "duration": 18,
    "start_time": "2022-01-23T19:55:55.422Z"
   },
   {
    "duration": 19,
    "start_time": "2022-01-23T19:56:23.439Z"
   },
   {
    "duration": 80,
    "start_time": "2022-01-23T19:56:34.882Z"
   },
   {
    "duration": 110,
    "start_time": "2022-01-23T19:56:34.964Z"
   },
   {
    "duration": 16,
    "start_time": "2022-01-23T19:56:35.077Z"
   },
   {
    "duration": 5,
    "start_time": "2022-01-23T19:56:35.096Z"
   },
   {
    "duration": 17,
    "start_time": "2022-01-23T19:56:35.103Z"
   },
   {
    "duration": 44,
    "start_time": "2022-01-23T19:56:35.122Z"
   },
   {
    "duration": 45,
    "start_time": "2022-01-23T19:56:35.169Z"
   },
   {
    "duration": 108,
    "start_time": "2022-01-23T19:56:35.216Z"
   },
   {
    "duration": 95,
    "start_time": "2022-01-23T19:56:35.328Z"
   },
   {
    "duration": 11573,
    "start_time": "2022-01-23T19:56:35.426Z"
   },
   {
    "duration": 360,
    "start_time": "2022-01-23T19:56:47.001Z"
   },
   {
    "duration": 18,
    "start_time": "2022-01-23T19:56:47.363Z"
   },
   {
    "duration": 32,
    "start_time": "2022-01-23T19:56:57.369Z"
   },
   {
    "duration": 28,
    "start_time": "2022-01-23T19:58:20.648Z"
   },
   {
    "duration": 32,
    "start_time": "2022-01-23T19:59:07.743Z"
   },
   {
    "duration": 37,
    "start_time": "2022-01-23T20:01:29.906Z"
   },
   {
    "duration": 31,
    "start_time": "2022-01-23T20:16:21.763Z"
   },
   {
    "duration": 47,
    "start_time": "2022-01-23T20:16:44.915Z"
   },
   {
    "duration": 48,
    "start_time": "2022-01-23T20:17:24.541Z"
   },
   {
    "duration": 54,
    "start_time": "2022-01-23T20:22:43.715Z"
   },
   {
    "duration": 96,
    "start_time": "2022-01-23T20:26:15.303Z"
   },
   {
    "duration": 65,
    "start_time": "2022-01-23T20:27:03.806Z"
   },
   {
    "duration": 67,
    "start_time": "2022-01-23T20:27:36.230Z"
   },
   {
    "duration": 60,
    "start_time": "2022-01-23T20:27:55.167Z"
   },
   {
    "duration": 59,
    "start_time": "2022-01-23T20:28:27.132Z"
   },
   {
    "duration": 26,
    "start_time": "2022-01-23T20:40:44.788Z"
   },
   {
    "duration": 35,
    "start_time": "2022-01-23T20:40:56.692Z"
   },
   {
    "duration": 79,
    "start_time": "2022-01-23T20:41:10.808Z"
   },
   {
    "duration": 119,
    "start_time": "2022-01-23T20:41:10.889Z"
   },
   {
    "duration": 16,
    "start_time": "2022-01-23T20:41:11.012Z"
   },
   {
    "duration": 29,
    "start_time": "2022-01-23T20:41:11.032Z"
   },
   {
    "duration": 13,
    "start_time": "2022-01-23T20:41:11.064Z"
   },
   {
    "duration": 12,
    "start_time": "2022-01-23T20:41:11.080Z"
   },
   {
    "duration": 94,
    "start_time": "2022-01-23T20:41:11.096Z"
   },
   {
    "duration": 122,
    "start_time": "2022-01-23T20:41:11.193Z"
   },
   {
    "duration": 99,
    "start_time": "2022-01-23T20:41:11.319Z"
   },
   {
    "duration": 11875,
    "start_time": "2022-01-23T20:41:11.421Z"
   },
   {
    "duration": 376,
    "start_time": "2022-01-23T20:41:23.298Z"
   },
   {
    "duration": 19,
    "start_time": "2022-01-23T20:41:23.677Z"
   },
   {
    "duration": 70,
    "start_time": "2022-01-23T20:41:23.698Z"
   },
   {
    "duration": 52,
    "start_time": "2022-01-23T20:41:40.636Z"
   },
   {
    "duration": 26,
    "start_time": "2022-01-23T20:43:22.767Z"
   },
   {
    "duration": 41,
    "start_time": "2022-01-23T20:49:49.857Z"
   },
   {
    "duration": 296,
    "start_time": "2022-01-24T15:38:48.590Z"
   },
   {
    "duration": 981,
    "start_time": "2022-01-24T15:38:59.578Z"
   },
   {
    "duration": 91,
    "start_time": "2022-01-24T15:39:00.561Z"
   },
   {
    "duration": 12,
    "start_time": "2022-01-24T15:39:00.654Z"
   },
   {
    "duration": 8,
    "start_time": "2022-01-24T15:39:00.668Z"
   },
   {
    "duration": 41,
    "start_time": "2022-01-24T15:39:00.678Z"
   },
   {
    "duration": 20,
    "start_time": "2022-01-24T15:39:00.721Z"
   },
   {
    "duration": 49,
    "start_time": "2022-01-24T15:39:00.743Z"
   },
   {
    "duration": 57,
    "start_time": "2022-01-24T15:39:00.794Z"
   },
   {
    "duration": 81,
    "start_time": "2022-01-24T15:39:00.854Z"
   },
   {
    "duration": 9265,
    "start_time": "2022-01-24T15:39:00.938Z"
   },
   {
    "duration": 260,
    "start_time": "2022-01-24T15:39:10.208Z"
   },
   {
    "duration": 13,
    "start_time": "2022-01-24T15:39:10.470Z"
   },
   {
    "duration": 54,
    "start_time": "2022-01-24T15:39:10.485Z"
   },
   {
    "duration": 31,
    "start_time": "2022-01-24T15:39:10.541Z"
   },
   {
    "duration": 71,
    "start_time": "2022-01-24T15:40:33.901Z"
   },
   {
    "duration": 4,
    "start_time": "2022-01-24T15:41:39.888Z"
   },
   {
    "duration": 22,
    "start_time": "2022-01-24T15:41:53.942Z"
   },
   {
    "duration": 29,
    "start_time": "2022-01-24T15:44:21.807Z"
   },
   {
    "duration": 72,
    "start_time": "2022-01-24T15:45:14.192Z"
   },
   {
    "duration": 97,
    "start_time": "2022-01-24T15:45:14.266Z"
   },
   {
    "duration": 11,
    "start_time": "2022-01-24T15:45:14.365Z"
   },
   {
    "duration": 9,
    "start_time": "2022-01-24T15:45:14.379Z"
   },
   {
    "duration": 27,
    "start_time": "2022-01-24T15:45:14.390Z"
   },
   {
    "duration": 12,
    "start_time": "2022-01-24T15:45:14.419Z"
   },
   {
    "duration": 41,
    "start_time": "2022-01-24T15:45:14.432Z"
   },
   {
    "duration": 90,
    "start_time": "2022-01-24T15:45:14.475Z"
   },
   {
    "duration": 76,
    "start_time": "2022-01-24T15:45:14.568Z"
   },
   {
    "duration": 8493,
    "start_time": "2022-01-24T15:45:14.646Z"
   },
   {
    "duration": 244,
    "start_time": "2022-01-24T15:45:23.142Z"
   },
   {
    "duration": 46,
    "start_time": "2022-01-24T15:45:23.388Z"
   },
   {
    "duration": 36,
    "start_time": "2022-01-24T15:45:43.556Z"
   },
   {
    "duration": 34,
    "start_time": "2022-01-24T15:46:05.687Z"
   },
   {
    "duration": 37,
    "start_time": "2022-01-24T15:53:14.540Z"
   },
   {
    "duration": 38,
    "start_time": "2022-01-24T15:53:47.382Z"
   },
   {
    "duration": 11,
    "start_time": "2022-01-24T15:58:00.150Z"
   },
   {
    "duration": 228,
    "start_time": "2022-01-24T15:58:59.029Z"
   },
   {
    "duration": 397,
    "start_time": "2022-01-24T15:59:18.129Z"
   },
   {
    "duration": 81,
    "start_time": "2022-01-24T15:59:18.528Z"
   },
   {
    "duration": 10,
    "start_time": "2022-01-24T15:59:18.612Z"
   },
   {
    "duration": 5,
    "start_time": "2022-01-24T15:59:18.624Z"
   },
   {
    "duration": 19,
    "start_time": "2022-01-24T15:59:18.631Z"
   },
   {
    "duration": 9,
    "start_time": "2022-01-24T15:59:18.652Z"
   },
   {
    "duration": 62,
    "start_time": "2022-01-24T15:59:18.663Z"
   },
   {
    "duration": 52,
    "start_time": "2022-01-24T15:59:18.727Z"
   },
   {
    "duration": 73,
    "start_time": "2022-01-24T15:59:18.782Z"
   },
   {
    "duration": 8261,
    "start_time": "2022-01-24T15:59:18.857Z"
   },
   {
    "duration": 228,
    "start_time": "2022-01-24T15:59:27.119Z"
   },
   {
    "duration": 13,
    "start_time": "2022-01-24T15:59:27.348Z"
   },
   {
    "duration": 58,
    "start_time": "2022-01-24T15:59:53.048Z"
   },
   {
    "duration": 38,
    "start_time": "2022-01-24T16:03:14.942Z"
   },
   {
    "duration": 31,
    "start_time": "2022-01-24T16:06:56.480Z"
   },
   {
    "duration": 32,
    "start_time": "2022-01-24T16:11:24.384Z"
   },
   {
    "duration": 32,
    "start_time": "2022-01-24T16:11:45.424Z"
   },
   {
    "duration": 31,
    "start_time": "2022-01-24T16:11:53.946Z"
   },
   {
    "duration": 31,
    "start_time": "2022-01-24T16:13:12.856Z"
   },
   {
    "duration": 312,
    "start_time": "2022-01-24T16:21:47.081Z"
   },
   {
    "duration": 21,
    "start_time": "2022-01-24T16:22:20.906Z"
   },
   {
    "duration": 605,
    "start_time": "2022-01-24T16:34:55.307Z"
   },
   {
    "duration": 31,
    "start_time": "2022-01-24T16:37:23.180Z"
   },
   {
    "duration": 14,
    "start_time": "2022-01-24T16:38:42.579Z"
   },
   {
    "duration": 581,
    "start_time": "2022-01-24T16:38:45.707Z"
   },
   {
    "duration": 24,
    "start_time": "2022-01-24T16:42:21.572Z"
   },
   {
    "duration": 27,
    "start_time": "2022-01-24T16:43:20.021Z"
   },
   {
    "duration": 991,
    "start_time": "2022-01-24T18:15:27.932Z"
   },
   {
    "duration": 831,
    "start_time": "2022-01-24T18:16:14.388Z"
   },
   {
    "duration": 838,
    "start_time": "2022-01-24T18:16:31.548Z"
   },
   {
    "duration": 1504,
    "start_time": "2022-01-24T18:16:48.267Z"
   },
   {
    "duration": 908,
    "start_time": "2022-01-24T18:17:02.779Z"
   },
   {
    "duration": 757,
    "start_time": "2022-01-24T18:17:19.796Z"
   },
   {
    "duration": 777,
    "start_time": "2022-01-24T18:17:31.421Z"
   },
   {
    "duration": 1004,
    "start_time": "2022-01-24T18:17:39.500Z"
   },
   {
    "duration": 1303,
    "start_time": "2022-01-24T18:18:37.281Z"
   },
   {
    "duration": 625,
    "start_time": "2022-01-24T18:18:43.388Z"
   },
   {
    "duration": 238,
    "start_time": "2022-01-24T18:21:11.373Z"
   },
   {
    "duration": 215,
    "start_time": "2022-01-24T18:21:20.492Z"
   },
   {
    "duration": 256,
    "start_time": "2022-01-24T18:22:42.524Z"
   },
   {
    "duration": 247,
    "start_time": "2022-01-24T18:23:23.611Z"
   },
   {
    "duration": 331,
    "start_time": "2022-01-24T18:29:27.413Z"
   },
   {
    "duration": 226,
    "start_time": "2022-01-24T18:30:07.039Z"
   },
   {
    "duration": 217,
    "start_time": "2022-01-24T18:31:33.165Z"
   },
   {
    "duration": 81,
    "start_time": "2022-01-24T18:31:34.646Z"
   },
   {
    "duration": 251,
    "start_time": "2022-01-24T18:31:42.645Z"
   },
   {
    "duration": 231,
    "start_time": "2022-01-24T18:32:50.166Z"
   },
   {
    "duration": 19,
    "start_time": "2022-01-24T18:34:39.181Z"
   },
   {
    "duration": 64,
    "start_time": "2022-01-24T18:35:01.223Z"
   },
   {
    "duration": 92,
    "start_time": "2022-01-24T18:35:01.290Z"
   },
   {
    "duration": 24,
    "start_time": "2022-01-24T18:35:01.385Z"
   },
   {
    "duration": 5,
    "start_time": "2022-01-24T18:35:01.411Z"
   },
   {
    "duration": 33,
    "start_time": "2022-01-24T18:35:01.418Z"
   },
   {
    "duration": 13,
    "start_time": "2022-01-24T18:35:01.453Z"
   },
   {
    "duration": 46,
    "start_time": "2022-01-24T18:35:01.468Z"
   },
   {
    "duration": 60,
    "start_time": "2022-01-24T18:35:01.517Z"
   },
   {
    "duration": 80,
    "start_time": "2022-01-24T18:35:01.579Z"
   },
   {
    "duration": 8833,
    "start_time": "2022-01-24T18:35:01.661Z"
   },
   {
    "duration": 246,
    "start_time": "2022-01-24T18:35:10.496Z"
   },
   {
    "duration": 15,
    "start_time": "2022-01-24T18:35:10.744Z"
   },
   {
    "duration": 51,
    "start_time": "2022-01-24T18:35:10.761Z"
   },
   {
    "duration": 15,
    "start_time": "2022-01-24T18:35:10.814Z"
   },
   {
    "duration": 607,
    "start_time": "2022-01-24T18:35:10.831Z"
   },
   {
    "duration": 27,
    "start_time": "2022-01-24T18:35:11.439Z"
   },
   {
    "duration": 242,
    "start_time": "2022-01-24T18:35:11.468Z"
   },
   {
    "duration": 246,
    "start_time": "2022-01-24T18:35:11.712Z"
   },
   {
    "duration": 253,
    "start_time": "2022-01-24T18:35:11.960Z"
   },
   {
    "duration": 310,
    "start_time": "2022-01-24T18:35:12.215Z"
   },
   {
    "duration": 358,
    "start_time": "2022-01-24T18:37:36.461Z"
   },
   {
    "duration": 398,
    "start_time": "2022-01-24T18:38:10.206Z"
   },
   {
    "duration": 429,
    "start_time": "2022-01-24T18:38:48.365Z"
   },
   {
    "duration": 365,
    "start_time": "2022-01-24T18:38:53.653Z"
   },
   {
    "duration": 362,
    "start_time": "2022-01-24T18:39:33.133Z"
   },
   {
    "duration": 707,
    "start_time": "2022-01-25T17:40:48.741Z"
   },
   {
    "duration": 84,
    "start_time": "2022-01-25T17:40:49.450Z"
   },
   {
    "duration": 25,
    "start_time": "2022-01-25T17:40:49.536Z"
   },
   {
    "duration": 18,
    "start_time": "2022-01-25T17:40:49.563Z"
   },
   {
    "duration": 46,
    "start_time": "2022-01-25T17:40:49.583Z"
   },
   {
    "duration": 26,
    "start_time": "2022-01-25T17:40:49.631Z"
   },
   {
    "duration": 56,
    "start_time": "2022-01-25T17:40:49.658Z"
   },
   {
    "duration": 57,
    "start_time": "2022-01-25T17:40:49.716Z"
   },
   {
    "duration": 55,
    "start_time": "2022-01-25T17:40:49.775Z"
   },
   {
    "duration": 65,
    "start_time": "2022-01-25T17:41:07.587Z"
   },
   {
    "duration": 7967,
    "start_time": "2022-01-25T17:41:14.323Z"
   },
   {
    "duration": 223,
    "start_time": "2022-01-25T17:41:22.881Z"
   },
   {
    "duration": 265,
    "start_time": "2022-01-25T17:41:28.657Z"
   },
   {
    "duration": 384,
    "start_time": "2022-01-25T17:41:55.618Z"
   },
   {
    "duration": 28,
    "start_time": "2022-01-25T17:42:54.010Z"
   },
   {
    "duration": 20,
    "start_time": "2022-01-25T17:43:51.721Z"
   },
   {
    "duration": 474,
    "start_time": "2022-01-25T17:47:04.257Z"
   },
   {
    "duration": 390,
    "start_time": "2022-01-25T17:50:12.392Z"
   },
   {
    "duration": 70,
    "start_time": "2022-01-25T17:50:46.813Z"
   },
   {
    "duration": 93,
    "start_time": "2022-01-25T17:50:46.886Z"
   },
   {
    "duration": 11,
    "start_time": "2022-01-25T17:50:46.981Z"
   },
   {
    "duration": 28,
    "start_time": "2022-01-25T17:50:46.994Z"
   },
   {
    "duration": 36,
    "start_time": "2022-01-25T17:50:47.024Z"
   },
   {
    "duration": 24,
    "start_time": "2022-01-25T17:50:47.062Z"
   },
   {
    "duration": 56,
    "start_time": "2022-01-25T17:50:47.089Z"
   },
   {
    "duration": 53,
    "start_time": "2022-01-25T17:50:47.147Z"
   },
   {
    "duration": 65,
    "start_time": "2022-01-25T17:50:47.203Z"
   },
   {
    "duration": 8142,
    "start_time": "2022-01-25T17:50:47.270Z"
   },
   {
    "duration": 253,
    "start_time": "2022-01-25T17:50:55.414Z"
   },
   {
    "duration": 13,
    "start_time": "2022-01-25T17:50:55.668Z"
   },
   {
    "duration": 45,
    "start_time": "2022-01-25T17:50:55.683Z"
   },
   {
    "duration": 15,
    "start_time": "2022-01-25T17:50:55.730Z"
   },
   {
    "duration": 706,
    "start_time": "2022-01-25T17:50:55.747Z"
   },
   {
    "duration": 29,
    "start_time": "2022-01-25T17:50:56.455Z"
   },
   {
    "duration": 377,
    "start_time": "2022-01-25T17:50:56.486Z"
   },
   {
    "duration": 372,
    "start_time": "2022-01-25T17:50:56.865Z"
   },
   {
    "duration": 372,
    "start_time": "2022-01-25T17:50:57.239Z"
   },
   {
    "duration": 416,
    "start_time": "2022-01-25T17:50:57.613Z"
   },
   {
    "duration": 358,
    "start_time": "2022-01-25T17:52:17.728Z"
   },
   {
    "duration": 420,
    "start_time": "2022-01-25T17:52:50.066Z"
   },
   {
    "duration": 399,
    "start_time": "2022-01-25T17:53:07.136Z"
   },
   {
    "duration": 399,
    "start_time": "2022-01-25T17:53:59.704Z"
   },
   {
    "duration": 576,
    "start_time": "2022-01-25T17:55:04.416Z"
   },
   {
    "duration": 306,
    "start_time": "2022-01-25T17:55:18.016Z"
   },
   {
    "duration": 596,
    "start_time": "2022-01-25T18:10:03.122Z"
   },
   {
    "duration": 543,
    "start_time": "2022-01-25T18:10:11.127Z"
   },
   {
    "duration": 514,
    "start_time": "2022-01-25T18:10:28.270Z"
   },
   {
    "duration": 379,
    "start_time": "2022-01-25T18:10:58.735Z"
   },
   {
    "duration": 248,
    "start_time": "2022-01-25T18:20:08.144Z"
   },
   {
    "duration": 8,
    "start_time": "2022-01-25T18:20:24.482Z"
   },
   {
    "duration": 8,
    "start_time": "2022-01-25T18:22:26.488Z"
   },
   {
    "duration": 8,
    "start_time": "2022-01-25T18:23:18.784Z"
   },
   {
    "duration": 394,
    "start_time": "2022-01-25T18:23:42.048Z"
   },
   {
    "duration": 344,
    "start_time": "2022-01-25T18:24:14.409Z"
   },
   {
    "duration": 1618,
    "start_time": "2022-01-25T18:24:52.521Z"
   },
   {
    "duration": 489,
    "start_time": "2022-01-25T18:25:14.437Z"
   },
   {
    "duration": 317,
    "start_time": "2022-01-25T18:25:37.793Z"
   },
   {
    "duration": 325,
    "start_time": "2022-01-25T18:25:50.848Z"
   },
   {
    "duration": 339,
    "start_time": "2022-01-25T18:26:02.594Z"
   },
   {
    "duration": 256,
    "start_time": "2022-01-25T18:27:51.226Z"
   },
   {
    "duration": 609,
    "start_time": "2022-01-25T18:28:06.842Z"
   },
   {
    "duration": 8,
    "start_time": "2022-01-25T18:30:57.203Z"
   },
   {
    "duration": 320,
    "start_time": "2022-01-25T18:31:57.274Z"
   },
   {
    "duration": 8,
    "start_time": "2022-01-25T18:35:44.155Z"
   },
   {
    "duration": 8,
    "start_time": "2022-01-25T18:36:07.353Z"
   },
   {
    "duration": 8,
    "start_time": "2022-01-25T18:36:15.810Z"
   },
   {
    "duration": 381,
    "start_time": "2022-01-25T18:36:32.834Z"
   },
   {
    "duration": 383,
    "start_time": "2022-01-25T18:36:40.568Z"
   },
   {
    "duration": 374,
    "start_time": "2022-01-25T18:36:54.226Z"
   },
   {
    "duration": 534,
    "start_time": "2022-01-25T18:38:06.348Z"
   },
   {
    "duration": 322,
    "start_time": "2022-01-25T18:40:05.475Z"
   },
   {
    "duration": 420,
    "start_time": "2022-01-25T18:40:25.461Z"
   },
   {
    "duration": 8,
    "start_time": "2022-01-25T18:40:59.529Z"
   },
   {
    "duration": 9,
    "start_time": "2022-01-25T18:41:26.875Z"
   },
   {
    "duration": 8,
    "start_time": "2022-01-25T18:41:49.179Z"
   },
   {
    "duration": 8,
    "start_time": "2022-01-25T18:42:25.459Z"
   },
   {
    "duration": 395,
    "start_time": "2022-01-25T19:13:34.727Z"
   },
   {
    "duration": 541,
    "start_time": "2022-01-25T19:14:14.224Z"
   },
   {
    "duration": 10,
    "start_time": "2022-01-25T19:25:09.553Z"
   },
   {
    "duration": 460,
    "start_time": "2022-01-25T19:25:48.600Z"
   },
   {
    "duration": 8,
    "start_time": "2022-01-25T19:31:57.425Z"
   },
   {
    "duration": 8,
    "start_time": "2022-01-25T19:33:19.223Z"
   },
   {
    "duration": 7,
    "start_time": "2022-01-25T19:57:57.724Z"
   },
   {
    "duration": 7,
    "start_time": "2022-01-25T19:59:03.594Z"
   },
   {
    "duration": 234,
    "start_time": "2022-01-25T19:59:28.020Z"
   },
   {
    "duration": 336,
    "start_time": "2022-01-25T20:00:50.900Z"
   },
   {
    "duration": 28,
    "start_time": "2022-01-25T20:01:39.540Z"
   },
   {
    "duration": 481,
    "start_time": "2022-01-25T20:02:19.662Z"
   },
   {
    "duration": 454,
    "start_time": "2022-01-25T20:02:50.860Z"
   },
   {
    "duration": 544,
    "start_time": "2022-01-25T20:04:02.886Z"
   },
   {
    "duration": 10,
    "start_time": "2022-01-25T20:18:09.471Z"
   },
   {
    "duration": 324,
    "start_time": "2022-01-25T20:28:21.639Z"
   },
   {
    "duration": 351,
    "start_time": "2022-01-25T20:28:50.569Z"
   },
   {
    "duration": 339,
    "start_time": "2022-01-25T20:29:14.072Z"
   },
   {
    "duration": 396,
    "start_time": "2022-01-25T20:29:22.670Z"
   },
   {
    "duration": 8,
    "start_time": "2022-01-25T20:30:05.735Z"
   },
   {
    "duration": 7,
    "start_time": "2022-01-25T20:30:36.609Z"
   },
   {
    "duration": 29,
    "start_time": "2022-01-25T20:39:09.433Z"
   },
   {
    "duration": 276,
    "start_time": "2022-01-25T20:40:28.331Z"
   },
   {
    "duration": 273,
    "start_time": "2022-01-25T20:40:42.681Z"
   },
   {
    "duration": 44,
    "start_time": "2022-01-25T20:41:06.041Z"
   },
   {
    "duration": 277,
    "start_time": "2022-01-25T20:42:03.250Z"
   },
   {
    "duration": 277,
    "start_time": "2022-01-25T20:43:06.017Z"
   },
   {
    "duration": 281,
    "start_time": "2022-01-25T20:43:25.655Z"
   },
   {
    "duration": 44,
    "start_time": "2022-01-25T20:44:05.787Z"
   },
   {
    "duration": 45,
    "start_time": "2022-01-25T20:44:09.874Z"
   },
   {
    "duration": 287,
    "start_time": "2022-01-25T20:44:51.259Z"
   },
   {
    "duration": 265,
    "start_time": "2022-01-25T20:44:58.722Z"
   },
   {
    "duration": 311,
    "start_time": "2022-01-25T20:45:29.643Z"
   },
   {
    "duration": 45,
    "start_time": "2022-01-25T20:45:50.336Z"
   },
   {
    "duration": 46,
    "start_time": "2022-01-25T20:46:20.666Z"
   },
   {
    "duration": 47,
    "start_time": "2022-01-25T20:47:11.104Z"
   },
   {
    "duration": 770,
    "start_time": "2022-01-25T20:47:33.890Z"
   },
   {
    "duration": 280,
    "start_time": "2022-01-25T20:47:58.140Z"
   },
   {
    "duration": 78,
    "start_time": "2022-01-25T20:48:18.441Z"
   },
   {
    "duration": 47,
    "start_time": "2022-01-25T20:48:26.720Z"
   },
   {
    "duration": 45,
    "start_time": "2022-01-25T20:48:32.571Z"
   },
   {
    "duration": 47,
    "start_time": "2022-01-25T20:48:48.467Z"
   },
   {
    "duration": 682,
    "start_time": "2022-01-26T14:27:22.061Z"
   },
   {
    "duration": 84,
    "start_time": "2022-01-26T14:27:22.745Z"
   },
   {
    "duration": 12,
    "start_time": "2022-01-26T14:27:22.832Z"
   },
   {
    "duration": 4,
    "start_time": "2022-01-26T14:27:22.847Z"
   },
   {
    "duration": 11,
    "start_time": "2022-01-26T14:27:22.852Z"
   },
   {
    "duration": 8,
    "start_time": "2022-01-26T14:27:22.865Z"
   },
   {
    "duration": 62,
    "start_time": "2022-01-26T14:27:22.875Z"
   },
   {
    "duration": 54,
    "start_time": "2022-01-26T14:27:22.938Z"
   },
   {
    "duration": 73,
    "start_time": "2022-01-26T14:27:22.994Z"
   },
   {
    "duration": 7709,
    "start_time": "2022-01-26T14:27:23.069Z"
   },
   {
    "duration": 223,
    "start_time": "2022-01-26T14:27:30.780Z"
   },
   {
    "duration": 15,
    "start_time": "2022-01-26T14:27:31.005Z"
   },
   {
    "duration": 41,
    "start_time": "2022-01-26T14:27:31.022Z"
   },
   {
    "duration": 15,
    "start_time": "2022-01-26T14:27:31.064Z"
   },
   {
    "duration": 600,
    "start_time": "2022-01-26T14:27:31.080Z"
   },
   {
    "duration": 32,
    "start_time": "2022-01-26T14:27:31.681Z"
   },
   {
    "duration": 435,
    "start_time": "2022-01-26T14:27:31.715Z"
   },
   {
    "duration": 6,
    "start_time": "2022-01-26T14:27:32.152Z"
   },
   {
    "duration": 419,
    "start_time": "2022-01-26T14:27:32.160Z"
   },
   {
    "duration": 7,
    "start_time": "2022-01-26T14:27:32.581Z"
   },
   {
    "duration": 401,
    "start_time": "2022-01-26T14:27:32.590Z"
   },
   {
    "duration": 20,
    "start_time": "2022-01-26T14:27:32.993Z"
   },
   {
    "duration": 420,
    "start_time": "2022-01-26T14:27:33.014Z"
   },
   {
    "duration": 8,
    "start_time": "2022-01-26T14:27:33.436Z"
   },
   {
    "duration": 11,
    "start_time": "2022-01-26T14:27:33.446Z"
   },
   {
    "duration": 504,
    "start_time": "2022-01-26T14:27:33.459Z"
   },
   {
    "duration": 8,
    "start_time": "2022-01-26T14:27:33.966Z"
   },
   {
    "duration": 122,
    "start_time": "2022-01-26T14:27:33.976Z"
   },
   {
    "duration": 5,
    "start_time": "2022-01-26T14:54:39.434Z"
   },
   {
    "duration": 404,
    "start_time": "2022-01-26T14:58:56.444Z"
   },
   {
    "duration": 300,
    "start_time": "2022-01-26T15:00:07.838Z"
   },
   {
    "duration": 807,
    "start_time": "2022-01-26T15:04:36.345Z"
   },
   {
    "duration": 802,
    "start_time": "2022-01-26T15:06:02.592Z"
   },
   {
    "duration": 792,
    "start_time": "2022-01-26T15:09:25.400Z"
   },
   {
    "duration": 299,
    "start_time": "2022-01-26T15:10:54.808Z"
   },
   {
    "duration": 253,
    "start_time": "2022-01-26T15:13:03.489Z"
   },
   {
    "duration": 258,
    "start_time": "2022-01-26T15:13:52.930Z"
   },
   {
    "duration": 203,
    "start_time": "2022-01-26T15:20:20.184Z"
   },
   {
    "duration": 463,
    "start_time": "2022-01-26T15:41:11.738Z"
   },
   {
    "duration": 470,
    "start_time": "2022-01-26T15:47:21.101Z"
   },
   {
    "duration": 517,
    "start_time": "2022-01-26T15:47:29.916Z"
   },
   {
    "duration": 459,
    "start_time": "2022-01-26T15:47:38.684Z"
   },
   {
    "duration": 102,
    "start_time": "2022-01-26T15:57:10.261Z"
   },
   {
    "duration": 456,
    "start_time": "2022-01-26T15:57:17.549Z"
   },
   {
    "duration": 438,
    "start_time": "2022-01-26T15:57:43.024Z"
   },
   {
    "duration": 440,
    "start_time": "2022-01-26T15:57:54.100Z"
   },
   {
    "duration": 410,
    "start_time": "2022-01-26T16:00:30.659Z"
   },
   {
    "duration": 472,
    "start_time": "2022-01-26T16:00:44.188Z"
   },
   {
    "duration": 637,
    "start_time": "2022-01-26T16:07:06.189Z"
   },
   {
    "duration": 425,
    "start_time": "2022-01-26T16:08:45.837Z"
   },
   {
    "duration": 55,
    "start_time": "2022-01-26T16:08:59.916Z"
   },
   {
    "duration": 2,
    "start_time": "2022-01-26T16:08:59.973Z"
   },
   {
    "duration": 76,
    "start_time": "2022-01-26T16:08:59.977Z"
   },
   {
    "duration": 9,
    "start_time": "2022-01-26T16:09:00.055Z"
   },
   {
    "duration": 3,
    "start_time": "2022-01-26T16:09:00.066Z"
   },
   {
    "duration": 9,
    "start_time": "2022-01-26T16:09:00.071Z"
   },
   {
    "duration": 8,
    "start_time": "2022-01-26T16:09:00.081Z"
   },
   {
    "duration": 32,
    "start_time": "2022-01-26T16:09:00.114Z"
   },
   {
    "duration": 64,
    "start_time": "2022-01-26T16:09:00.148Z"
   },
   {
    "duration": 50,
    "start_time": "2022-01-26T16:09:00.214Z"
   },
   {
    "duration": 7361,
    "start_time": "2022-01-26T16:09:00.266Z"
   },
   {
    "duration": 218,
    "start_time": "2022-01-26T16:09:07.629Z"
   },
   {
    "duration": 12,
    "start_time": "2022-01-26T16:09:07.849Z"
   },
   {
    "duration": 29,
    "start_time": "2022-01-26T16:09:07.862Z"
   },
   {
    "duration": 30,
    "start_time": "2022-01-26T16:09:07.892Z"
   },
   {
    "duration": 543,
    "start_time": "2022-01-26T16:09:07.923Z"
   },
   {
    "duration": 23,
    "start_time": "2022-01-26T16:09:08.468Z"
   },
   {
    "duration": 373,
    "start_time": "2022-01-26T16:09:08.493Z"
   },
   {
    "duration": 8,
    "start_time": "2022-01-26T16:09:08.868Z"
   },
   {
    "duration": 485,
    "start_time": "2022-01-26T16:09:08.877Z"
   },
   {
    "duration": 8,
    "start_time": "2022-01-26T16:09:09.364Z"
   },
   {
    "duration": 364,
    "start_time": "2022-01-26T16:09:09.374Z"
   },
   {
    "duration": 8,
    "start_time": "2022-01-26T16:09:09.740Z"
   },
   {
    "duration": 413,
    "start_time": "2022-01-26T16:09:09.749Z"
   },
   {
    "duration": 7,
    "start_time": "2022-01-26T16:09:10.163Z"
   },
   {
    "duration": 11,
    "start_time": "2022-01-26T16:09:10.171Z"
   },
   {
    "duration": 478,
    "start_time": "2022-01-26T16:09:10.185Z"
   },
   {
    "duration": 10,
    "start_time": "2022-01-26T16:09:10.664Z"
   },
   {
    "duration": 59,
    "start_time": "2022-01-26T16:09:10.675Z"
   },
   {
    "duration": 461,
    "start_time": "2022-01-26T16:09:10.735Z"
   },
   {
    "duration": 503,
    "start_time": "2022-01-26T16:09:11.198Z"
   },
   {
    "duration": 451,
    "start_time": "2022-01-26T16:10:46.845Z"
   },
   {
    "duration": 644,
    "start_time": "2022-01-26T16:17:09.126Z"
   },
   {
    "duration": 657,
    "start_time": "2022-01-26T16:18:29.020Z"
   },
   {
    "duration": 567,
    "start_time": "2022-01-26T16:19:36.501Z"
   },
   {
    "duration": 637,
    "start_time": "2022-01-26T16:20:13.997Z"
   },
   {
    "duration": 350,
    "start_time": "2022-01-26T16:20:35.166Z"
   },
   {
    "duration": 459,
    "start_time": "2022-01-26T16:21:54.476Z"
   },
   {
    "duration": 359,
    "start_time": "2022-01-26T16:22:00.381Z"
   },
   {
    "duration": 343,
    "start_time": "2022-01-26T16:22:45.862Z"
   },
   {
    "duration": 382,
    "start_time": "2022-01-26T16:22:55.705Z"
   },
   {
    "duration": 414,
    "start_time": "2022-01-26T16:48:42.418Z"
   },
   {
    "duration": 497,
    "start_time": "2022-01-26T16:49:02.487Z"
   },
   {
    "duration": 660,
    "start_time": "2022-01-26T16:58:19.298Z"
   },
   {
    "duration": 570,
    "start_time": "2022-01-26T16:58:48.019Z"
   },
   {
    "duration": 203,
    "start_time": "2022-01-26T16:59:14.163Z"
   },
   {
    "duration": 208,
    "start_time": "2022-01-26T16:59:27.830Z"
   },
   {
    "duration": 187,
    "start_time": "2022-01-26T16:59:43.104Z"
   },
   {
    "duration": 62,
    "start_time": "2022-01-26T17:00:52.573Z"
   },
   {
    "duration": 2,
    "start_time": "2022-01-26T17:00:52.637Z"
   },
   {
    "duration": 90,
    "start_time": "2022-01-26T17:00:52.642Z"
   },
   {
    "duration": 13,
    "start_time": "2022-01-26T17:00:52.734Z"
   },
   {
    "duration": 5,
    "start_time": "2022-01-26T17:00:52.748Z"
   },
   {
    "duration": 8,
    "start_time": "2022-01-26T17:00:52.754Z"
   },
   {
    "duration": 10,
    "start_time": "2022-01-26T17:00:52.764Z"
   },
   {
    "duration": 66,
    "start_time": "2022-01-26T17:00:52.775Z"
   },
   {
    "duration": 48,
    "start_time": "2022-01-26T17:00:52.844Z"
   },
   {
    "duration": 52,
    "start_time": "2022-01-26T17:00:52.913Z"
   },
   {
    "duration": 7288,
    "start_time": "2022-01-26T17:00:52.967Z"
   },
   {
    "duration": 222,
    "start_time": "2022-01-26T17:01:00.257Z"
   },
   {
    "duration": 15,
    "start_time": "2022-01-26T17:01:00.481Z"
   },
   {
    "duration": 42,
    "start_time": "2022-01-26T17:01:00.497Z"
   },
   {
    "duration": 16,
    "start_time": "2022-01-26T17:01:00.541Z"
   },
   {
    "duration": 558,
    "start_time": "2022-01-26T17:01:00.558Z"
   },
   {
    "duration": 25,
    "start_time": "2022-01-26T17:01:01.117Z"
   },
   {
    "duration": 387,
    "start_time": "2022-01-26T17:01:01.144Z"
   },
   {
    "duration": 6,
    "start_time": "2022-01-26T17:01:01.533Z"
   },
   {
    "duration": 398,
    "start_time": "2022-01-26T17:01:01.541Z"
   },
   {
    "duration": 6,
    "start_time": "2022-01-26T17:01:01.941Z"
   },
   {
    "duration": 450,
    "start_time": "2022-01-26T17:01:01.948Z"
   },
   {
    "duration": 14,
    "start_time": "2022-01-26T17:01:02.400Z"
   },
   {
    "duration": 414,
    "start_time": "2022-01-26T17:01:02.415Z"
   },
   {
    "duration": 7,
    "start_time": "2022-01-26T17:01:02.830Z"
   },
   {
    "duration": 10,
    "start_time": "2022-01-26T17:01:02.839Z"
   },
   {
    "duration": 500,
    "start_time": "2022-01-26T17:01:02.852Z"
   },
   {
    "duration": 9,
    "start_time": "2022-01-26T17:01:03.354Z"
   },
   {
    "duration": 56,
    "start_time": "2022-01-26T17:01:03.365Z"
   },
   {
    "duration": 471,
    "start_time": "2022-01-26T17:01:03.423Z"
   },
   {
    "duration": 443,
    "start_time": "2022-01-26T17:01:03.896Z"
   },
   {
    "duration": 480,
    "start_time": "2022-01-26T17:01:04.340Z"
   },
   {
    "duration": 193,
    "start_time": "2022-01-26T17:01:10.418Z"
   },
   {
    "duration": 370,
    "start_time": "2022-01-26T17:01:36.722Z"
   },
   {
    "duration": 384,
    "start_time": "2022-01-26T17:04:00.333Z"
   },
   {
    "duration": 466,
    "start_time": "2022-01-26T17:07:02.870Z"
   },
   {
    "duration": 875,
    "start_time": "2022-01-26T17:07:42.950Z"
   },
   {
    "duration": 899,
    "start_time": "2022-01-26T17:08:34.828Z"
   },
   {
    "duration": 979,
    "start_time": "2022-01-26T17:09:30.269Z"
   },
   {
    "duration": 852,
    "start_time": "2022-01-26T17:16:24.909Z"
   },
   {
    "duration": 73,
    "start_time": "2022-01-26T17:17:43.734Z"
   },
   {
    "duration": 67,
    "start_time": "2022-01-26T17:29:01.926Z"
   },
   {
    "duration": 13,
    "start_time": "2022-01-26T17:29:12.781Z"
   },
   {
    "duration": 5,
    "start_time": "2022-01-26T17:35:01.454Z"
   },
   {
    "duration": 9,
    "start_time": "2022-01-26T17:35:10.614Z"
   },
   {
    "duration": 8,
    "start_time": "2022-01-26T17:35:16.942Z"
   },
   {
    "duration": 12,
    "start_time": "2022-01-26T17:38:10.792Z"
   },
   {
    "duration": 13,
    "start_time": "2022-01-26T17:39:39.399Z"
   },
   {
    "duration": 482,
    "start_time": "2022-01-26T17:45:10.739Z"
   },
   {
    "duration": 435,
    "start_time": "2022-01-26T17:46:06.857Z"
   },
   {
    "duration": 742,
    "start_time": "2022-01-26T17:46:15.354Z"
   },
   {
    "duration": 643,
    "start_time": "2022-01-26T17:47:06.442Z"
   },
   {
    "duration": 673,
    "start_time": "2022-01-26T17:47:35.449Z"
   },
   {
    "duration": 443,
    "start_time": "2022-01-26T17:49:00.792Z"
   },
   {
    "duration": 814,
    "start_time": "2022-01-26T17:52:30.522Z"
   },
   {
    "duration": 568,
    "start_time": "2022-01-26T17:52:55.713Z"
   },
   {
    "duration": 452,
    "start_time": "2022-01-26T17:53:22.369Z"
   },
   {
    "duration": 449,
    "start_time": "2022-01-26T17:53:32.433Z"
   },
   {
    "duration": 436,
    "start_time": "2022-01-26T17:53:47.341Z"
   },
   {
    "duration": 58,
    "start_time": "2022-01-26T17:55:41.874Z"
   },
   {
    "duration": 544,
    "start_time": "2022-01-26T17:55:56.018Z"
   },
   {
    "duration": 711,
    "start_time": "2022-01-26T17:57:30.754Z"
   },
   {
    "duration": 665,
    "start_time": "2022-01-26T18:01:12.923Z"
   },
   {
    "duration": 414,
    "start_time": "2022-01-26T18:01:37.011Z"
   },
   {
    "duration": 433,
    "start_time": "2022-01-26T18:01:41.740Z"
   },
   {
    "duration": 629,
    "start_time": "2022-01-26T18:02:15.411Z"
   },
   {
    "duration": 372,
    "start_time": "2022-01-26T18:02:59.190Z"
   },
   {
    "duration": 438,
    "start_time": "2022-01-26T18:03:32.332Z"
   },
   {
    "duration": 799,
    "start_time": "2022-01-27T15:40:36.653Z"
   },
   {
    "duration": 2,
    "start_time": "2022-01-27T15:40:37.454Z"
   },
   {
    "duration": 87,
    "start_time": "2022-01-27T15:40:37.458Z"
   },
   {
    "duration": 11,
    "start_time": "2022-01-27T15:40:37.547Z"
   },
   {
    "duration": 4,
    "start_time": "2022-01-27T15:40:37.560Z"
   },
   {
    "duration": 13,
    "start_time": "2022-01-27T15:40:37.566Z"
   },
   {
    "duration": 31,
    "start_time": "2022-01-27T15:40:37.581Z"
   },
   {
    "duration": 37,
    "start_time": "2022-01-27T15:40:37.615Z"
   },
   {
    "duration": 80,
    "start_time": "2022-01-27T15:40:37.654Z"
   },
   {
    "duration": 71,
    "start_time": "2022-01-27T15:40:37.736Z"
   },
   {
    "duration": 8481,
    "start_time": "2022-01-27T15:40:37.809Z"
   },
   {
    "duration": 239,
    "start_time": "2022-01-27T15:40:46.291Z"
   },
   {
    "duration": 13,
    "start_time": "2022-01-27T15:40:46.532Z"
   },
   {
    "duration": 31,
    "start_time": "2022-01-27T15:40:46.547Z"
   },
   {
    "duration": 40,
    "start_time": "2022-01-27T15:40:46.580Z"
   },
   {
    "duration": 671,
    "start_time": "2022-01-27T15:40:46.622Z"
   },
   {
    "duration": 34,
    "start_time": "2022-01-27T15:40:47.295Z"
   },
   {
    "duration": 451,
    "start_time": "2022-01-27T15:40:47.331Z"
   },
   {
    "duration": 7,
    "start_time": "2022-01-27T15:40:47.784Z"
   },
   {
    "duration": 434,
    "start_time": "2022-01-27T15:40:47.793Z"
   },
   {
    "duration": 10,
    "start_time": "2022-01-27T15:40:48.229Z"
   },
   {
    "duration": 418,
    "start_time": "2022-01-27T15:40:48.241Z"
   },
   {
    "duration": 9,
    "start_time": "2022-01-27T15:40:48.662Z"
   },
   {
    "duration": 462,
    "start_time": "2022-01-27T15:40:48.674Z"
   },
   {
    "duration": 9,
    "start_time": "2022-01-27T15:40:49.138Z"
   },
   {
    "duration": 12,
    "start_time": "2022-01-27T15:40:49.149Z"
   },
   {
    "duration": 544,
    "start_time": "2022-01-27T15:40:49.163Z"
   },
   {
    "duration": 10,
    "start_time": "2022-01-27T15:40:49.710Z"
   },
   {
    "duration": 143,
    "start_time": "2022-01-27T15:40:49.722Z"
   },
   {
    "duration": 511,
    "start_time": "2022-01-27T15:40:49.867Z"
   },
   {
    "duration": 567,
    "start_time": "2022-01-27T15:40:50.380Z"
   },
   {
    "duration": 540,
    "start_time": "2022-01-27T15:40:50.949Z"
   },
   {
    "duration": 957,
    "start_time": "2022-01-27T15:40:51.492Z"
   },
   {
    "duration": 542,
    "start_time": "2022-01-27T15:40:52.451Z"
   },
   {
    "duration": 568,
    "start_time": "2022-01-27T15:40:52.996Z"
   },
   {
    "duration": 461,
    "start_time": "2022-01-27T15:40:53.567Z"
   },
   {
    "duration": 16,
    "start_time": "2022-01-27T15:40:54.031Z"
   },
   {
    "duration": 14,
    "start_time": "2022-01-27T15:40:54.049Z"
   },
   {
    "duration": 54,
    "start_time": "2022-01-27T15:40:54.065Z"
   },
   {
    "duration": 45,
    "start_time": "2022-01-27T15:41:06.855Z"
   },
   {
    "duration": 6,
    "start_time": "2022-01-27T15:41:52.743Z"
   },
   {
    "duration": 641,
    "start_time": "2022-01-27T15:46:00.840Z"
   },
   {
    "duration": 91,
    "start_time": "2022-01-27T15:47:17.434Z"
   },
   {
    "duration": 77,
    "start_time": "2022-01-27T15:48:13.817Z"
   },
   {
    "duration": 465,
    "start_time": "2022-01-27T15:48:21.799Z"
   },
   {
    "duration": 52,
    "start_time": "2022-01-27T15:49:37.481Z"
   },
   {
    "duration": 13,
    "start_time": "2022-01-27T15:50:03.979Z"
   },
   {
    "duration": 52,
    "start_time": "2022-01-27T15:50:38.680Z"
   },
   {
    "duration": 52,
    "start_time": "2022-01-27T15:53:14.916Z"
   },
   {
    "duration": 282,
    "start_time": "2022-01-27T15:57:06.994Z"
   },
   {
    "duration": 216,
    "start_time": "2022-01-27T15:57:26.824Z"
   },
   {
    "duration": 216,
    "start_time": "2022-01-27T16:00:03.650Z"
   },
   {
    "duration": 209,
    "start_time": "2022-01-27T16:00:09.720Z"
   },
   {
    "duration": 219,
    "start_time": "2022-01-27T16:07:04.529Z"
   },
   {
    "duration": 201,
    "start_time": "2022-01-27T16:19:41.565Z"
   },
   {
    "duration": 31,
    "start_time": "2022-01-27T16:20:18.124Z"
   },
   {
    "duration": 7,
    "start_time": "2022-01-27T16:20:47.020Z"
   },
   {
    "duration": 538,
    "start_time": "2022-01-27T17:02:32.411Z"
   },
   {
    "duration": 484,
    "start_time": "2022-01-27T17:03:03.601Z"
   },
   {
    "duration": 67,
    "start_time": "2022-01-27T17:27:23.559Z"
   },
   {
    "duration": 2,
    "start_time": "2022-01-27T17:27:23.628Z"
   },
   {
    "duration": 103,
    "start_time": "2022-01-27T17:27:23.633Z"
   },
   {
    "duration": 11,
    "start_time": "2022-01-27T17:27:23.738Z"
   },
   {
    "duration": 4,
    "start_time": "2022-01-27T17:27:23.751Z"
   },
   {
    "duration": 12,
    "start_time": "2022-01-27T17:27:23.757Z"
   },
   {
    "duration": 42,
    "start_time": "2022-01-27T17:27:23.771Z"
   },
   {
    "duration": 36,
    "start_time": "2022-01-27T17:27:23.816Z"
   },
   {
    "duration": 71,
    "start_time": "2022-01-27T17:27:23.854Z"
   },
   {
    "duration": 60,
    "start_time": "2022-01-27T17:27:23.927Z"
   },
   {
    "duration": 8734,
    "start_time": "2022-01-27T17:27:23.989Z"
   },
   {
    "duration": 248,
    "start_time": "2022-01-27T17:27:32.725Z"
   },
   {
    "duration": 14,
    "start_time": "2022-01-27T17:27:32.975Z"
   },
   {
    "duration": 48,
    "start_time": "2022-01-27T17:27:32.991Z"
   },
   {
    "duration": 16,
    "start_time": "2022-01-27T17:27:33.042Z"
   },
   {
    "duration": 629,
    "start_time": "2022-01-27T17:27:33.060Z"
   },
   {
    "duration": 34,
    "start_time": "2022-01-27T17:27:33.691Z"
   },
   {
    "duration": 400,
    "start_time": "2022-01-27T17:27:33.727Z"
   },
   {
    "duration": 8,
    "start_time": "2022-01-27T17:27:34.129Z"
   },
   {
    "duration": 424,
    "start_time": "2022-01-27T17:27:34.139Z"
   },
   {
    "duration": 7,
    "start_time": "2022-01-27T17:27:34.564Z"
   },
   {
    "duration": 455,
    "start_time": "2022-01-27T17:27:34.573Z"
   },
   {
    "duration": 7,
    "start_time": "2022-01-27T17:27:35.032Z"
   },
   {
    "duration": 431,
    "start_time": "2022-01-27T17:27:35.042Z"
   },
   {
    "duration": 10,
    "start_time": "2022-01-27T17:27:35.476Z"
   },
   {
    "duration": 27,
    "start_time": "2022-01-27T17:27:35.488Z"
   },
   {
    "duration": 523,
    "start_time": "2022-01-27T17:27:35.517Z"
   },
   {
    "duration": 12,
    "start_time": "2022-01-27T17:27:36.042Z"
   },
   {
    "duration": 75,
    "start_time": "2022-01-27T17:27:36.057Z"
   },
   {
    "duration": 490,
    "start_time": "2022-01-27T17:27:36.133Z"
   },
   {
    "duration": 429,
    "start_time": "2022-01-27T17:27:36.625Z"
   },
   {
    "duration": 458,
    "start_time": "2022-01-27T17:27:37.056Z"
   },
   {
    "duration": 883,
    "start_time": "2022-01-27T17:27:37.516Z"
   },
   {
    "duration": 444,
    "start_time": "2022-01-27T17:27:38.401Z"
   },
   {
    "duration": 515,
    "start_time": "2022-01-27T17:27:38.846Z"
   },
   {
    "duration": 406,
    "start_time": "2022-01-27T17:27:39.362Z"
   },
   {
    "duration": 13,
    "start_time": "2022-01-27T17:27:39.770Z"
   },
   {
    "duration": 29,
    "start_time": "2022-01-27T17:27:39.785Z"
   },
   {
    "duration": 297,
    "start_time": "2022-01-27T17:27:39.816Z"
   },
   {
    "duration": 7,
    "start_time": "2022-01-27T17:27:40.115Z"
   },
   {
    "duration": 401,
    "start_time": "2022-01-27T17:27:40.124Z"
   },
   {
    "duration": 12,
    "start_time": "2022-01-27T17:38:04.960Z"
   },
   {
    "duration": 13,
    "start_time": "2022-01-27T17:38:40.279Z"
   },
   {
    "duration": 13,
    "start_time": "2022-01-27T17:38:54.935Z"
   },
   {
    "duration": 12,
    "start_time": "2022-01-27T17:45:15.607Z"
   },
   {
    "duration": 12,
    "start_time": "2022-01-27T17:50:55.360Z"
   },
   {
    "duration": 13,
    "start_time": "2022-01-27T17:56:29.842Z"
   },
   {
    "duration": 112,
    "start_time": "2022-01-27T18:07:11.644Z"
   },
   {
    "duration": 6045,
    "start_time": "2022-01-27T18:07:20.964Z"
   },
   {
    "duration": 472,
    "start_time": "2022-01-27T18:07:38.103Z"
   },
   {
    "duration": 10,
    "start_time": "2022-01-27T18:16:10.417Z"
   },
   {
    "duration": 13,
    "start_time": "2022-01-27T18:16:35.529Z"
   },
   {
    "duration": 11,
    "start_time": "2022-01-27T18:17:06.088Z"
   },
   {
    "duration": 13,
    "start_time": "2022-01-27T18:17:08.673Z"
   },
   {
    "duration": 12,
    "start_time": "2022-01-27T18:17:18.536Z"
   },
   {
    "duration": 12,
    "start_time": "2022-01-27T18:19:00.384Z"
   },
   {
    "duration": 13,
    "start_time": "2022-01-27T18:19:45.577Z"
   },
   {
    "duration": 240,
    "start_time": "2022-01-27T18:21:59.708Z"
   },
   {
    "duration": 221,
    "start_time": "2022-01-27T18:26:50.477Z"
   },
   {
    "duration": 294,
    "start_time": "2022-01-27T18:27:08.484Z"
   },
   {
    "duration": 8,
    "start_time": "2022-01-27T18:30:23.620Z"
   },
   {
    "duration": 237,
    "start_time": "2022-01-27T18:30:39.452Z"
   },
   {
    "duration": 209,
    "start_time": "2022-01-27T18:39:14.940Z"
   },
   {
    "duration": 234,
    "start_time": "2022-01-27T18:43:16.814Z"
   },
   {
    "duration": 365,
    "start_time": "2022-01-27T18:49:21.815Z"
   },
   {
    "duration": 842,
    "start_time": "2022-01-27T18:49:55.320Z"
   },
   {
    "duration": 235,
    "start_time": "2022-01-27T19:00:21.975Z"
   },
   {
    "duration": 282,
    "start_time": "2022-01-27T19:57:04.853Z"
   },
   {
    "duration": 587,
    "start_time": "2022-01-27T19:57:14.765Z"
   },
   {
    "duration": 506,
    "start_time": "2022-01-27T19:57:38.484Z"
   },
   {
    "duration": 278,
    "start_time": "2022-01-27T19:57:53.659Z"
   },
   {
    "duration": 516,
    "start_time": "2022-01-27T19:58:05.773Z"
   },
   {
    "duration": 485,
    "start_time": "2022-01-27T19:58:17.558Z"
   },
   {
    "duration": 520,
    "start_time": "2022-01-27T19:58:40.805Z"
   },
   {
    "duration": 369,
    "start_time": "2022-01-27T19:58:48.764Z"
   },
   {
    "duration": 863,
    "start_time": "2022-01-27T19:59:13.069Z"
   },
   {
    "duration": 452,
    "start_time": "2022-01-27T19:59:44.547Z"
   },
   {
    "duration": 670,
    "start_time": "2022-01-27T20:00:03.708Z"
   },
   {
    "duration": 416,
    "start_time": "2022-01-27T20:00:42.693Z"
   },
   {
    "duration": 430,
    "start_time": "2022-01-27T20:00:49.228Z"
   },
   {
    "duration": 462,
    "start_time": "2022-01-27T20:01:17.684Z"
   },
   {
    "duration": 399,
    "start_time": "2022-01-27T20:01:24.491Z"
   },
   {
    "duration": 362,
    "start_time": "2022-01-27T20:01:30.692Z"
   },
   {
    "duration": 995,
    "start_time": "2022-01-27T20:01:38.347Z"
   },
   {
    "duration": 232,
    "start_time": "2022-01-27T20:08:57.428Z"
   },
   {
    "duration": 229,
    "start_time": "2022-01-27T20:09:14.884Z"
   },
   {
    "duration": 225,
    "start_time": "2022-01-27T20:09:24.477Z"
   },
   {
    "duration": 205,
    "start_time": "2022-01-27T20:09:29.541Z"
   },
   {
    "duration": 718,
    "start_time": "2022-01-27T20:09:59.597Z"
   },
   {
    "duration": 57,
    "start_time": "2022-01-27T20:17:55.294Z"
   },
   {
    "duration": 68,
    "start_time": "2022-01-27T20:20:36.099Z"
   },
   {
    "duration": 3,
    "start_time": "2022-01-27T20:20:36.169Z"
   },
   {
    "duration": 112,
    "start_time": "2022-01-27T20:20:36.174Z"
   },
   {
    "duration": 22,
    "start_time": "2022-01-27T20:20:36.288Z"
   },
   {
    "duration": 4,
    "start_time": "2022-01-27T20:20:36.312Z"
   },
   {
    "duration": 83,
    "start_time": "2022-01-27T20:20:36.318Z"
   },
   {
    "duration": -1006,
    "start_time": "2022-01-27T20:20:37.411Z"
   },
   {
    "duration": -1008,
    "start_time": "2022-01-27T20:20:37.414Z"
   },
   {
    "duration": -1008,
    "start_time": "2022-01-27T20:20:37.416Z"
   },
   {
    "duration": -1010,
    "start_time": "2022-01-27T20:20:37.419Z"
   },
   {
    "duration": -1011,
    "start_time": "2022-01-27T20:20:37.422Z"
   },
   {
    "duration": -1012,
    "start_time": "2022-01-27T20:20:37.424Z"
   },
   {
    "duration": -1014,
    "start_time": "2022-01-27T20:20:37.427Z"
   },
   {
    "duration": -1018,
    "start_time": "2022-01-27T20:20:37.432Z"
   },
   {
    "duration": -1020,
    "start_time": "2022-01-27T20:20:37.435Z"
   },
   {
    "duration": -1022,
    "start_time": "2022-01-27T20:20:37.438Z"
   },
   {
    "duration": -1022,
    "start_time": "2022-01-27T20:20:37.440Z"
   },
   {
    "duration": -1025,
    "start_time": "2022-01-27T20:20:37.444Z"
   },
   {
    "duration": -1052,
    "start_time": "2022-01-27T20:20:37.472Z"
   },
   {
    "duration": -1054,
    "start_time": "2022-01-27T20:20:37.475Z"
   },
   {
    "duration": -1057,
    "start_time": "2022-01-27T20:20:37.478Z"
   },
   {
    "duration": -1059,
    "start_time": "2022-01-27T20:20:37.482Z"
   },
   {
    "duration": -1059,
    "start_time": "2022-01-27T20:20:37.484Z"
   },
   {
    "duration": -1061,
    "start_time": "2022-01-27T20:20:37.487Z"
   },
   {
    "duration": -1063,
    "start_time": "2022-01-27T20:20:37.490Z"
   },
   {
    "duration": -1064,
    "start_time": "2022-01-27T20:20:37.492Z"
   },
   {
    "duration": -1066,
    "start_time": "2022-01-27T20:20:37.495Z"
   },
   {
    "duration": -1068,
    "start_time": "2022-01-27T20:20:37.498Z"
   },
   {
    "duration": -1068,
    "start_time": "2022-01-27T20:20:37.500Z"
   },
   {
    "duration": -1070,
    "start_time": "2022-01-27T20:20:37.503Z"
   },
   {
    "duration": -1072,
    "start_time": "2022-01-27T20:20:37.506Z"
   },
   {
    "duration": -1073,
    "start_time": "2022-01-27T20:20:37.509Z"
   },
   {
    "duration": 952,
    "start_time": "2022-01-27T20:20:36.513Z"
   },
   {
    "duration": 573,
    "start_time": "2022-01-27T20:20:37.468Z"
   },
   {
    "duration": 588,
    "start_time": "2022-01-27T20:20:38.043Z"
   },
   {
    "duration": 405,
    "start_time": "2022-01-27T20:20:38.633Z"
   },
   {
    "duration": 15,
    "start_time": "2022-01-27T20:20:39.040Z"
   },
   {
    "duration": 17,
    "start_time": "2022-01-27T20:20:39.057Z"
   },
   {
    "duration": 232,
    "start_time": "2022-01-27T20:20:39.076Z"
   },
   {
    "duration": 11,
    "start_time": "2022-01-27T20:20:39.310Z"
   },
   {
    "duration": 12,
    "start_time": "2022-01-27T20:20:39.324Z"
   },
   {
    "duration": 11,
    "start_time": "2022-01-27T20:20:39.338Z"
   },
   {
    "duration": 11,
    "start_time": "2022-01-27T20:20:39.351Z"
   },
   {
    "duration": 49,
    "start_time": "2022-01-27T20:20:39.364Z"
   },
   {
    "duration": 8,
    "start_time": "2022-01-27T20:20:39.415Z"
   },
   {
    "duration": 234,
    "start_time": "2022-01-27T20:20:39.425Z"
   },
   {
    "duration": 209,
    "start_time": "2022-01-27T20:20:39.661Z"
   },
   {
    "duration": 232,
    "start_time": "2022-01-27T20:20:39.872Z"
   },
   {
    "duration": 895,
    "start_time": "2022-01-27T20:20:40.107Z"
   },
   {
    "duration": 68,
    "start_time": "2022-01-27T20:20:46.803Z"
   },
   {
    "duration": 3,
    "start_time": "2022-01-27T20:20:46.873Z"
   },
   {
    "duration": 128,
    "start_time": "2022-01-27T20:20:46.878Z"
   },
   {
    "duration": 12,
    "start_time": "2022-01-27T20:20:47.008Z"
   },
   {
    "duration": 5,
    "start_time": "2022-01-27T20:20:47.022Z"
   },
   {
    "duration": 111,
    "start_time": "2022-01-27T20:20:47.029Z"
   },
   {
    "duration": -570,
    "start_time": "2022-01-27T20:20:47.714Z"
   },
   {
    "duration": -575,
    "start_time": "2022-01-27T20:20:47.720Z"
   },
   {
    "duration": -578,
    "start_time": "2022-01-27T20:20:47.724Z"
   },
   {
    "duration": -583,
    "start_time": "2022-01-27T20:20:47.731Z"
   },
   {
    "duration": -589,
    "start_time": "2022-01-27T20:20:47.738Z"
   },
   {
    "duration": -595,
    "start_time": "2022-01-27T20:20:47.745Z"
   },
   {
    "duration": -598,
    "start_time": "2022-01-27T20:20:47.749Z"
   },
   {
    "duration": -602,
    "start_time": "2022-01-27T20:20:47.754Z"
   },
   {
    "duration": -606,
    "start_time": "2022-01-27T20:20:47.759Z"
   },
   {
    "duration": -609,
    "start_time": "2022-01-27T20:20:47.764Z"
   },
   {
    "duration": -642,
    "start_time": "2022-01-27T20:20:47.798Z"
   },
   {
    "duration": -646,
    "start_time": "2022-01-27T20:20:47.803Z"
   },
   {
    "duration": -651,
    "start_time": "2022-01-27T20:20:47.809Z"
   },
   {
    "duration": -658,
    "start_time": "2022-01-27T20:20:47.816Z"
   },
   {
    "duration": -662,
    "start_time": "2022-01-27T20:20:47.821Z"
   },
   {
    "duration": -667,
    "start_time": "2022-01-27T20:20:47.827Z"
   },
   {
    "duration": -670,
    "start_time": "2022-01-27T20:20:47.831Z"
   },
   {
    "duration": -675,
    "start_time": "2022-01-27T20:20:47.836Z"
   },
   {
    "duration": -679,
    "start_time": "2022-01-27T20:20:47.841Z"
   },
   {
    "duration": -685,
    "start_time": "2022-01-27T20:20:47.848Z"
   },
   {
    "duration": -690,
    "start_time": "2022-01-27T20:20:47.854Z"
   },
   {
    "duration": -697,
    "start_time": "2022-01-27T20:20:47.861Z"
   },
   {
    "duration": -700,
    "start_time": "2022-01-27T20:20:47.865Z"
   },
   {
    "duration": -704,
    "start_time": "2022-01-27T20:20:47.870Z"
   },
   {
    "duration": -707,
    "start_time": "2022-01-27T20:20:47.874Z"
   },
   {
    "duration": -712,
    "start_time": "2022-01-27T20:20:47.880Z"
   },
   {
    "duration": -715,
    "start_time": "2022-01-27T20:20:47.884Z"
   },
   {
    "duration": -720,
    "start_time": "2022-01-27T20:20:47.890Z"
   },
   {
    "duration": -765,
    "start_time": "2022-01-27T20:20:47.936Z"
   },
   {
    "duration": -767,
    "start_time": "2022-01-27T20:20:47.939Z"
   },
   {
    "duration": -768,
    "start_time": "2022-01-27T20:20:47.941Z"
   },
   {
    "duration": -770,
    "start_time": "2022-01-27T20:20:47.945Z"
   },
   {
    "duration": -771,
    "start_time": "2022-01-27T20:20:47.947Z"
   },
   {
    "duration": -773,
    "start_time": "2022-01-27T20:20:47.950Z"
   },
   {
    "duration": -775,
    "start_time": "2022-01-27T20:20:47.953Z"
   },
   {
    "duration": -777,
    "start_time": "2022-01-27T20:20:47.956Z"
   },
   {
    "duration": -778,
    "start_time": "2022-01-27T20:20:47.958Z"
   },
   {
    "duration": -780,
    "start_time": "2022-01-27T20:20:47.961Z"
   },
   {
    "duration": -760,
    "start_time": "2022-01-27T20:20:47.966Z"
   },
   {
    "duration": -762,
    "start_time": "2022-01-27T20:20:47.970Z"
   },
   {
    "duration": -763,
    "start_time": "2022-01-27T20:20:47.973Z"
   },
   {
    "duration": -765,
    "start_time": "2022-01-27T20:20:47.976Z"
   },
   {
    "duration": -766,
    "start_time": "2022-01-27T20:20:47.978Z"
   },
   {
    "duration": 850,
    "start_time": "2022-02-05T14:08:59.837Z"
   },
   {
    "duration": 3,
    "start_time": "2022-02-05T14:09:00.689Z"
   },
   {
    "duration": 96,
    "start_time": "2022-02-05T14:09:00.694Z"
   },
   {
    "duration": 10,
    "start_time": "2022-02-05T14:09:00.792Z"
   },
   {
    "duration": 19,
    "start_time": "2022-02-05T14:09:00.804Z"
   },
   {
    "duration": 149,
    "start_time": "2022-02-05T14:09:00.825Z"
   },
   {
    "duration": -1385,
    "start_time": "2022-02-05T14:09:02.363Z"
   },
   {
    "duration": -1392,
    "start_time": "2022-02-05T14:09:02.371Z"
   },
   {
    "duration": -1397,
    "start_time": "2022-02-05T14:09:02.378Z"
   },
   {
    "duration": -1433,
    "start_time": "2022-02-05T14:09:02.415Z"
   },
   {
    "duration": -1436,
    "start_time": "2022-02-05T14:09:02.419Z"
   },
   {
    "duration": -1439,
    "start_time": "2022-02-05T14:09:02.424Z"
   },
   {
    "duration": -1442,
    "start_time": "2022-02-05T14:09:02.428Z"
   },
   {
    "duration": -1446,
    "start_time": "2022-02-05T14:09:02.433Z"
   },
   {
    "duration": -1449,
    "start_time": "2022-02-05T14:09:02.437Z"
   },
   {
    "duration": -1453,
    "start_time": "2022-02-05T14:09:02.441Z"
   },
   {
    "duration": -1456,
    "start_time": "2022-02-05T14:09:02.445Z"
   },
   {
    "duration": -1459,
    "start_time": "2022-02-05T14:09:02.449Z"
   },
   {
    "duration": -1462,
    "start_time": "2022-02-05T14:09:02.453Z"
   },
   {
    "duration": -1465,
    "start_time": "2022-02-05T14:09:02.457Z"
   },
   {
    "duration": -1469,
    "start_time": "2022-02-05T14:09:02.462Z"
   },
   {
    "duration": -1477,
    "start_time": "2022-02-05T14:09:02.471Z"
   },
   {
    "duration": -1492,
    "start_time": "2022-02-05T14:09:02.487Z"
   },
   {
    "duration": -1496,
    "start_time": "2022-02-05T14:09:02.492Z"
   },
   {
    "duration": -1501,
    "start_time": "2022-02-05T14:09:02.497Z"
   },
   {
    "duration": -1507,
    "start_time": "2022-02-05T14:09:02.504Z"
   },
   {
    "duration": -1512,
    "start_time": "2022-02-05T14:09:02.510Z"
   },
   {
    "duration": -1516,
    "start_time": "2022-02-05T14:09:02.515Z"
   },
   {
    "duration": -1518,
    "start_time": "2022-02-05T14:09:02.518Z"
   },
   {
    "duration": -1521,
    "start_time": "2022-02-05T14:09:02.522Z"
   },
   {
    "duration": -1524,
    "start_time": "2022-02-05T14:09:02.526Z"
   },
   {
    "duration": -1528,
    "start_time": "2022-02-05T14:09:02.531Z"
   },
   {
    "duration": -1532,
    "start_time": "2022-02-05T14:09:02.536Z"
   },
   {
    "duration": -1561,
    "start_time": "2022-02-05T14:09:02.566Z"
   },
   {
    "duration": -1566,
    "start_time": "2022-02-05T14:09:02.572Z"
   },
   {
    "duration": -1572,
    "start_time": "2022-02-05T14:09:02.579Z"
   },
   {
    "duration": -1576,
    "start_time": "2022-02-05T14:09:02.584Z"
   },
   {
    "duration": -1583,
    "start_time": "2022-02-05T14:09:02.591Z"
   },
   {
    "duration": -1587,
    "start_time": "2022-02-05T14:09:02.596Z"
   },
   {
    "duration": -1591,
    "start_time": "2022-02-05T14:09:02.601Z"
   },
   {
    "duration": -1594,
    "start_time": "2022-02-05T14:09:02.605Z"
   },
   {
    "duration": -1601,
    "start_time": "2022-02-05T14:09:02.613Z"
   },
   {
    "duration": -1610,
    "start_time": "2022-02-05T14:09:02.623Z"
   },
   {
    "duration": -1617,
    "start_time": "2022-02-05T14:09:02.631Z"
   },
   {
    "duration": -1622,
    "start_time": "2022-02-05T14:09:02.637Z"
   },
   {
    "duration": -1627,
    "start_time": "2022-02-05T14:09:02.643Z"
   },
   {
    "duration": -1634,
    "start_time": "2022-02-05T14:09:02.650Z"
   },
   {
    "duration": -1640,
    "start_time": "2022-02-05T14:09:02.657Z"
   },
   {
    "duration": -1643,
    "start_time": "2022-02-05T14:09:02.661Z"
   },
   {
    "duration": 855,
    "start_time": "2022-02-05T14:10:14.599Z"
   },
   {
    "duration": 3,
    "start_time": "2022-02-05T14:10:15.456Z"
   },
   {
    "duration": 77,
    "start_time": "2022-02-05T14:10:15.461Z"
   },
   {
    "duration": 12,
    "start_time": "2022-02-05T14:10:15.539Z"
   },
   {
    "duration": 4,
    "start_time": "2022-02-05T14:10:15.552Z"
   },
   {
    "duration": 15,
    "start_time": "2022-02-05T14:10:15.558Z"
   },
   {
    "duration": 10,
    "start_time": "2022-02-05T14:10:15.575Z"
   },
   {
    "duration": 7900,
    "start_time": "2022-02-05T14:10:15.588Z"
   },
   {
    "duration": -1689,
    "start_time": "2022-02-05T14:10:25.180Z"
   },
   {
    "duration": -1692,
    "start_time": "2022-02-05T14:10:25.184Z"
   },
   {
    "duration": -1696,
    "start_time": "2022-02-05T14:10:25.189Z"
   },
   {
    "duration": -1699,
    "start_time": "2022-02-05T14:10:25.193Z"
   },
   {
    "duration": -1701,
    "start_time": "2022-02-05T14:10:25.196Z"
   },
   {
    "duration": -1702,
    "start_time": "2022-02-05T14:10:25.198Z"
   },
   {
    "duration": -1736,
    "start_time": "2022-02-05T14:10:25.232Z"
   },
   {
    "duration": -1745,
    "start_time": "2022-02-05T14:10:25.242Z"
   },
   {
    "duration": -1756,
    "start_time": "2022-02-05T14:10:25.254Z"
   },
   {
    "duration": -1758,
    "start_time": "2022-02-05T14:10:25.257Z"
   },
   {
    "duration": -1759,
    "start_time": "2022-02-05T14:10:25.259Z"
   },
   {
    "duration": -1760,
    "start_time": "2022-02-05T14:10:25.261Z"
   },
   {
    "duration": -1760,
    "start_time": "2022-02-05T14:10:25.263Z"
   },
   {
    "duration": -1761,
    "start_time": "2022-02-05T14:10:25.265Z"
   },
   {
    "duration": -1762,
    "start_time": "2022-02-05T14:10:25.267Z"
   },
   {
    "duration": -1763,
    "start_time": "2022-02-05T14:10:25.269Z"
   },
   {
    "duration": -1765,
    "start_time": "2022-02-05T14:10:25.272Z"
   },
   {
    "duration": -1815,
    "start_time": "2022-02-05T14:10:25.323Z"
   },
   {
    "duration": -1816,
    "start_time": "2022-02-05T14:10:25.325Z"
   },
   {
    "duration": -1816,
    "start_time": "2022-02-05T14:10:25.326Z"
   },
   {
    "duration": -1817,
    "start_time": "2022-02-05T14:10:25.328Z"
   },
   {
    "duration": -1817,
    "start_time": "2022-02-05T14:10:25.329Z"
   },
   {
    "duration": -1818,
    "start_time": "2022-02-05T14:10:25.331Z"
   },
   {
    "duration": -1818,
    "start_time": "2022-02-05T14:10:25.332Z"
   },
   {
    "duration": -1819,
    "start_time": "2022-02-05T14:10:25.334Z"
   },
   {
    "duration": -1820,
    "start_time": "2022-02-05T14:10:25.336Z"
   },
   {
    "duration": -1820,
    "start_time": "2022-02-05T14:10:25.337Z"
   },
   {
    "duration": -1820,
    "start_time": "2022-02-05T14:10:25.338Z"
   },
   {
    "duration": -1821,
    "start_time": "2022-02-05T14:10:25.340Z"
   },
   {
    "duration": -1821,
    "start_time": "2022-02-05T14:10:25.341Z"
   },
   {
    "duration": -1822,
    "start_time": "2022-02-05T14:10:25.343Z"
   },
   {
    "duration": -1822,
    "start_time": "2022-02-05T14:10:25.344Z"
   },
   {
    "duration": -1841,
    "start_time": "2022-02-05T14:10:25.364Z"
   },
   {
    "duration": -1845,
    "start_time": "2022-02-05T14:10:25.369Z"
   },
   {
    "duration": -1846,
    "start_time": "2022-02-05T14:10:25.371Z"
   },
   {
    "duration": -1860,
    "start_time": "2022-02-05T14:10:25.386Z"
   },
   {
    "duration": -1861,
    "start_time": "2022-02-05T14:10:25.388Z"
   },
   {
    "duration": -1866,
    "start_time": "2022-02-05T14:10:25.394Z"
   },
   {
    "duration": -1867,
    "start_time": "2022-02-05T14:10:25.396Z"
   },
   {
    "duration": -1867,
    "start_time": "2022-02-05T14:10:25.397Z"
   },
   {
    "duration": -1869,
    "start_time": "2022-02-05T14:10:25.399Z"
   },
   {
    "duration": 771,
    "start_time": "2022-02-05T14:10:59.869Z"
   },
   {
    "duration": 2,
    "start_time": "2022-02-05T14:11:00.642Z"
   },
   {
    "duration": 95,
    "start_time": "2022-02-05T14:11:00.647Z"
   },
   {
    "duration": 12,
    "start_time": "2022-02-05T14:11:00.744Z"
   },
   {
    "duration": 7,
    "start_time": "2022-02-05T14:11:00.757Z"
   },
   {
    "duration": 85,
    "start_time": "2022-02-05T14:11:00.765Z"
   },
   {
    "duration": -1397,
    "start_time": "2022-02-05T14:11:02.250Z"
   },
   {
    "duration": -1400,
    "start_time": "2022-02-05T14:11:02.254Z"
   },
   {
    "duration": -1401,
    "start_time": "2022-02-05T14:11:02.256Z"
   },
   {
    "duration": -1403,
    "start_time": "2022-02-05T14:11:02.259Z"
   },
   {
    "duration": -1404,
    "start_time": "2022-02-05T14:11:02.261Z"
   },
   {
    "duration": -1406,
    "start_time": "2022-02-05T14:11:02.264Z"
   },
   {
    "duration": -1407,
    "start_time": "2022-02-05T14:11:02.266Z"
   },
   {
    "duration": -1422,
    "start_time": "2022-02-05T14:11:02.282Z"
   },
   {
    "duration": -1434,
    "start_time": "2022-02-05T14:11:02.294Z"
   },
   {
    "duration": -1463,
    "start_time": "2022-02-05T14:11:02.324Z"
   },
   {
    "duration": -1478,
    "start_time": "2022-02-05T14:11:02.340Z"
   },
   {
    "duration": -1479,
    "start_time": "2022-02-05T14:11:02.342Z"
   },
   {
    "duration": -1487,
    "start_time": "2022-02-05T14:11:02.350Z"
   },
   {
    "duration": -1488,
    "start_time": "2022-02-05T14:11:02.352Z"
   },
   {
    "duration": -1488,
    "start_time": "2022-02-05T14:11:02.354Z"
   },
   {
    "duration": -1490,
    "start_time": "2022-02-05T14:11:02.357Z"
   },
   {
    "duration": -1491,
    "start_time": "2022-02-05T14:11:02.358Z"
   },
   {
    "duration": -1493,
    "start_time": "2022-02-05T14:11:02.361Z"
   },
   {
    "duration": -1493,
    "start_time": "2022-02-05T14:11:02.363Z"
   },
   {
    "duration": -1494,
    "start_time": "2022-02-05T14:11:02.365Z"
   },
   {
    "duration": -1495,
    "start_time": "2022-02-05T14:11:02.367Z"
   },
   {
    "duration": -1496,
    "start_time": "2022-02-05T14:11:02.370Z"
   },
   {
    "duration": -1552,
    "start_time": "2022-02-05T14:11:02.427Z"
   },
   {
    "duration": -1553,
    "start_time": "2022-02-05T14:11:02.429Z"
   },
   {
    "duration": -1554,
    "start_time": "2022-02-05T14:11:02.431Z"
   },
   {
    "duration": -1555,
    "start_time": "2022-02-05T14:11:02.433Z"
   },
   {
    "duration": -1557,
    "start_time": "2022-02-05T14:11:02.435Z"
   },
   {
    "duration": -1556,
    "start_time": "2022-02-05T14:11:02.436Z"
   },
   {
    "duration": -1557,
    "start_time": "2022-02-05T14:11:02.438Z"
   },
   {
    "duration": -1558,
    "start_time": "2022-02-05T14:11:02.440Z"
   },
   {
    "duration": -1557,
    "start_time": "2022-02-05T14:11:02.441Z"
   },
   {
    "duration": -1558,
    "start_time": "2022-02-05T14:11:02.443Z"
   },
   {
    "duration": -1559,
    "start_time": "2022-02-05T14:11:02.445Z"
   },
   {
    "duration": -1573,
    "start_time": "2022-02-05T14:11:02.459Z"
   },
   {
    "duration": -1585,
    "start_time": "2022-02-05T14:11:02.472Z"
   },
   {
    "duration": -1585,
    "start_time": "2022-02-05T14:11:02.474Z"
   },
   {
    "duration": -1585,
    "start_time": "2022-02-05T14:11:02.475Z"
   },
   {
    "duration": -1586,
    "start_time": "2022-02-05T14:11:02.477Z"
   },
   {
    "duration": -1587,
    "start_time": "2022-02-05T14:11:02.479Z"
   },
   {
    "duration": -1563,
    "start_time": "2022-02-05T14:11:02.480Z"
   },
   {
    "duration": -1563,
    "start_time": "2022-02-05T14:11:02.482Z"
   },
   {
    "duration": -1563,
    "start_time": "2022-02-05T14:11:02.483Z"
   },
   {
    "duration": -1571,
    "start_time": "2022-02-05T14:11:02.493Z"
   },
   {
    "duration": 1061,
    "start_time": "2022-02-07T16:01:30.845Z"
   },
   {
    "duration": 3,
    "start_time": "2022-02-07T16:01:31.909Z"
   },
   {
    "duration": 122,
    "start_time": "2022-02-07T16:01:31.916Z"
   },
   {
    "duration": 18,
    "start_time": "2022-02-07T16:01:32.041Z"
   },
   {
    "duration": 7,
    "start_time": "2022-02-07T16:01:32.062Z"
   },
   {
    "duration": 53,
    "start_time": "2022-02-07T16:01:32.072Z"
   },
   {
    "duration": 16,
    "start_time": "2022-02-07T16:01:32.128Z"
   },
   {
    "duration": 13906,
    "start_time": "2022-02-07T16:01:32.148Z"
   },
   {
    "duration": -6734,
    "start_time": "2022-02-07T16:01:52.792Z"
   },
   {
    "duration": -6734,
    "start_time": "2022-02-07T16:01:52.794Z"
   },
   {
    "duration": -6736,
    "start_time": "2022-02-07T16:01:52.797Z"
   },
   {
    "duration": -6735,
    "start_time": "2022-02-07T16:01:52.798Z"
   },
   {
    "duration": -6737,
    "start_time": "2022-02-07T16:01:52.801Z"
   },
   {
    "duration": -6736,
    "start_time": "2022-02-07T16:01:52.802Z"
   },
   {
    "duration": -6737,
    "start_time": "2022-02-07T16:01:52.805Z"
   },
   {
    "duration": -6738,
    "start_time": "2022-02-07T16:01:52.807Z"
   },
   {
    "duration": -6763,
    "start_time": "2022-02-07T16:01:52.834Z"
   },
   {
    "duration": -6763,
    "start_time": "2022-02-07T16:01:52.836Z"
   },
   {
    "duration": -6765,
    "start_time": "2022-02-07T16:01:52.839Z"
   },
   {
    "duration": -6765,
    "start_time": "2022-02-07T16:01:52.841Z"
   },
   {
    "duration": -6766,
    "start_time": "2022-02-07T16:01:52.843Z"
   },
   {
    "duration": -6766,
    "start_time": "2022-02-07T16:01:52.845Z"
   },
   {
    "duration": -6767,
    "start_time": "2022-02-07T16:01:52.847Z"
   },
   {
    "duration": -6767,
    "start_time": "2022-02-07T16:01:52.849Z"
   },
   {
    "duration": -6768,
    "start_time": "2022-02-07T16:01:52.851Z"
   },
   {
    "duration": -6768,
    "start_time": "2022-02-07T16:01:52.853Z"
   },
   {
    "duration": -6769,
    "start_time": "2022-02-07T16:01:52.855Z"
   },
   {
    "duration": -6770,
    "start_time": "2022-02-07T16:01:52.857Z"
   },
   {
    "duration": -6771,
    "start_time": "2022-02-07T16:01:52.860Z"
   },
   {
    "duration": -6777,
    "start_time": "2022-02-07T16:01:52.867Z"
   },
   {
    "duration": -6778,
    "start_time": "2022-02-07T16:01:52.870Z"
   },
   {
    "duration": -6779,
    "start_time": "2022-02-07T16:01:52.872Z"
   },
   {
    "duration": -6780,
    "start_time": "2022-02-07T16:01:52.874Z"
   },
   {
    "duration": -6753,
    "start_time": "2022-02-07T16:01:52.876Z"
   },
   {
    "duration": -6753,
    "start_time": "2022-02-07T16:01:52.878Z"
   },
   {
    "duration": -6754,
    "start_time": "2022-02-07T16:01:52.880Z"
   },
   {
    "duration": -6754,
    "start_time": "2022-02-07T16:01:52.882Z"
   },
   {
    "duration": -6755,
    "start_time": "2022-02-07T16:01:52.884Z"
   },
   {
    "duration": -6755,
    "start_time": "2022-02-07T16:01:52.886Z"
   },
   {
    "duration": -6756,
    "start_time": "2022-02-07T16:01:52.888Z"
   },
   {
    "duration": -6757,
    "start_time": "2022-02-07T16:01:52.890Z"
   },
   {
    "duration": -6757,
    "start_time": "2022-02-07T16:01:52.892Z"
   },
   {
    "duration": -6758,
    "start_time": "2022-02-07T16:01:52.894Z"
   },
   {
    "duration": -6759,
    "start_time": "2022-02-07T16:01:52.896Z"
   },
   {
    "duration": -6778,
    "start_time": "2022-02-07T16:01:52.916Z"
   },
   {
    "duration": -6782,
    "start_time": "2022-02-07T16:01:52.922Z"
   },
   {
    "duration": -6783,
    "start_time": "2022-02-07T16:01:52.924Z"
   },
   {
    "duration": -6783,
    "start_time": "2022-02-07T16:01:52.926Z"
   },
   {
    "duration": -6784,
    "start_time": "2022-02-07T16:01:52.928Z"
   },
   {
    "duration": 48,
    "start_time": "2022-02-07T16:03:51.505Z"
   },
   {
    "duration": 943,
    "start_time": "2022-02-07T16:05:23.802Z"
   },
   {
    "duration": 3,
    "start_time": "2022-02-07T16:05:24.748Z"
   },
   {
    "duration": 116,
    "start_time": "2022-02-07T16:05:24.754Z"
   },
   {
    "duration": 15,
    "start_time": "2022-02-07T16:05:24.873Z"
   },
   {
    "duration": 5,
    "start_time": "2022-02-07T16:05:24.890Z"
   },
   {
    "duration": 36,
    "start_time": "2022-02-07T16:05:24.897Z"
   },
   {
    "duration": 11,
    "start_time": "2022-02-07T16:05:24.936Z"
   },
   {
    "duration": 72,
    "start_time": "2022-02-07T16:05:24.952Z"
   },
   {
    "duration": 80,
    "start_time": "2022-02-07T16:05:25.028Z"
   },
   {
    "duration": 82,
    "start_time": "2022-02-07T16:05:25.123Z"
   },
   {
    "duration": 11162,
    "start_time": "2022-02-07T16:05:25.207Z"
   },
   {
    "duration": 351,
    "start_time": "2022-02-07T16:05:36.372Z"
   },
   {
    "duration": 18,
    "start_time": "2022-02-07T16:05:36.725Z"
   },
   {
    "duration": 41,
    "start_time": "2022-02-07T16:05:36.745Z"
   },
   {
    "duration": 49,
    "start_time": "2022-02-07T16:05:36.788Z"
   },
   {
    "duration": 988,
    "start_time": "2022-02-07T16:05:36.839Z"
   },
   {
    "duration": 42,
    "start_time": "2022-02-07T16:05:37.829Z"
   },
   {
    "duration": 688,
    "start_time": "2022-02-07T16:05:37.874Z"
   },
   {
    "duration": 11,
    "start_time": "2022-02-07T16:05:38.565Z"
   },
   {
    "duration": 662,
    "start_time": "2022-02-07T16:05:38.579Z"
   },
   {
    "duration": 9,
    "start_time": "2022-02-07T16:05:39.243Z"
   },
   {
    "duration": 628,
    "start_time": "2022-02-07T16:05:39.255Z"
   },
   {
    "duration": 10,
    "start_time": "2022-02-07T16:05:39.885Z"
   },
   {
    "duration": 684,
    "start_time": "2022-02-07T16:05:39.897Z"
   },
   {
    "duration": 10,
    "start_time": "2022-02-07T16:05:40.584Z"
   },
   {
    "duration": 14,
    "start_time": "2022-02-07T16:05:40.624Z"
   },
   {
    "duration": 816,
    "start_time": "2022-02-07T16:05:40.641Z"
   },
   {
    "duration": 19,
    "start_time": "2022-02-07T16:05:41.459Z"
   },
   {
    "duration": 165,
    "start_time": "2022-02-07T16:05:41.481Z"
   },
   {
    "duration": 705,
    "start_time": "2022-02-07T16:05:41.649Z"
   },
   {
    "duration": 668,
    "start_time": "2022-02-07T16:05:42.357Z"
   },
   {
    "duration": 568,
    "start_time": "2022-02-07T16:05:43.028Z"
   },
   {
    "duration": 1625,
    "start_time": "2022-02-07T16:05:43.598Z"
   },
   {
    "duration": 781,
    "start_time": "2022-02-07T16:05:45.226Z"
   },
   {
    "duration": 816,
    "start_time": "2022-02-07T16:05:46.010Z"
   },
   {
    "duration": 612,
    "start_time": "2022-02-07T16:05:46.828Z"
   },
   {
    "duration": 18,
    "start_time": "2022-02-07T16:05:47.442Z"
   },
   {
    "duration": 19,
    "start_time": "2022-02-07T16:05:47.463Z"
   },
   {
    "duration": 343,
    "start_time": "2022-02-07T16:05:47.484Z"
   },
   {
    "duration": 13,
    "start_time": "2022-02-07T16:05:47.830Z"
   },
   {
    "duration": 20,
    "start_time": "2022-02-07T16:05:47.845Z"
   },
   {
    "duration": 15,
    "start_time": "2022-02-07T16:05:47.867Z"
   },
   {
    "duration": 55,
    "start_time": "2022-02-07T16:05:47.885Z"
   },
   {
    "duration": 16,
    "start_time": "2022-02-07T16:05:47.942Z"
   },
   {
    "duration": 10,
    "start_time": "2022-02-07T16:05:47.960Z"
   },
   {
    "duration": 377,
    "start_time": "2022-02-07T16:05:47.972Z"
   },
   {
    "duration": 342,
    "start_time": "2022-02-07T16:05:48.352Z"
   },
   {
    "duration": 353,
    "start_time": "2022-02-07T16:05:48.697Z"
   },
   {
    "duration": 1186,
    "start_time": "2022-02-07T16:05:49.052Z"
   },
   {
    "duration": 728,
    "start_time": "2022-02-07T16:41:15.450Z"
   },
   {
    "duration": 2,
    "start_time": "2022-02-07T16:41:16.180Z"
   },
   {
    "duration": 80,
    "start_time": "2022-02-07T16:41:16.184Z"
   },
   {
    "duration": 11,
    "start_time": "2022-02-07T16:41:16.266Z"
   },
   {
    "duration": 8,
    "start_time": "2022-02-07T16:41:16.279Z"
   },
   {
    "duration": 15,
    "start_time": "2022-02-07T16:41:16.289Z"
   },
   {
    "duration": 37,
    "start_time": "2022-02-07T16:41:16.306Z"
   },
   {
    "duration": 36,
    "start_time": "2022-02-07T16:41:16.345Z"
   },
   {
    "duration": 54,
    "start_time": "2022-02-07T16:41:16.383Z"
   },
   {
    "duration": 54,
    "start_time": "2022-02-07T16:41:16.440Z"
   },
   {
    "duration": 8174,
    "start_time": "2022-02-07T16:41:16.496Z"
   },
   {
    "duration": 233,
    "start_time": "2022-02-07T16:41:24.672Z"
   },
   {
    "duration": 16,
    "start_time": "2022-02-07T16:41:24.907Z"
   },
   {
    "duration": 30,
    "start_time": "2022-02-07T16:41:24.925Z"
   },
   {
    "duration": 18,
    "start_time": "2022-02-07T16:41:24.957Z"
   },
   {
    "duration": 611,
    "start_time": "2022-02-07T16:41:24.977Z"
   },
   {
    "duration": 29,
    "start_time": "2022-02-07T16:41:25.590Z"
   },
   {
    "duration": 440,
    "start_time": "2022-02-07T16:41:25.621Z"
   },
   {
    "duration": 7,
    "start_time": "2022-02-07T16:41:26.063Z"
   },
   {
    "duration": 409,
    "start_time": "2022-02-07T16:41:26.072Z"
   },
   {
    "duration": 7,
    "start_time": "2022-02-07T16:41:26.483Z"
   },
   {
    "duration": 353,
    "start_time": "2022-02-07T16:41:26.492Z"
   },
   {
    "duration": 6,
    "start_time": "2022-02-07T16:41:26.847Z"
   },
   {
    "duration": 394,
    "start_time": "2022-02-07T16:41:26.855Z"
   },
   {
    "duration": 8,
    "start_time": "2022-02-07T16:41:27.250Z"
   },
   {
    "duration": 9,
    "start_time": "2022-02-07T16:41:27.259Z"
   },
   {
    "duration": 473,
    "start_time": "2022-02-07T16:41:27.272Z"
   },
   {
    "duration": 10,
    "start_time": "2022-02-07T16:41:27.747Z"
   },
   {
    "duration": 137,
    "start_time": "2022-02-07T16:41:27.759Z"
   },
   {
    "duration": 445,
    "start_time": "2022-02-07T16:41:27.898Z"
   },
   {
    "duration": 405,
    "start_time": "2022-02-07T16:41:28.345Z"
   },
   {
    "duration": 364,
    "start_time": "2022-02-07T16:41:28.752Z"
   },
   {
    "duration": 867,
    "start_time": "2022-02-07T16:41:29.118Z"
   },
   {
    "duration": 524,
    "start_time": "2022-02-07T16:41:29.987Z"
   },
   {
    "duration": 494,
    "start_time": "2022-02-07T16:41:30.513Z"
   },
   {
    "duration": 396,
    "start_time": "2022-02-07T16:41:31.009Z"
   },
   {
    "duration": 22,
    "start_time": "2022-02-07T16:41:31.407Z"
   },
   {
    "duration": 14,
    "start_time": "2022-02-07T16:41:31.431Z"
   },
   {
    "duration": 229,
    "start_time": "2022-02-07T16:41:31.447Z"
   },
   {
    "duration": 11,
    "start_time": "2022-02-07T16:41:31.678Z"
   },
   {
    "duration": 18,
    "start_time": "2022-02-07T16:41:31.691Z"
   },
   {
    "duration": 10,
    "start_time": "2022-02-07T16:41:31.718Z"
   },
   {
    "duration": 12,
    "start_time": "2022-02-07T16:41:31.730Z"
   },
   {
    "duration": 16,
    "start_time": "2022-02-07T16:41:31.744Z"
   },
   {
    "duration": 7,
    "start_time": "2022-02-07T16:41:31.762Z"
   },
   {
    "duration": 225,
    "start_time": "2022-02-07T16:41:31.771Z"
   },
   {
    "duration": 198,
    "start_time": "2022-02-07T16:41:31.998Z"
   },
   {
    "duration": 212,
    "start_time": "2022-02-07T16:41:32.198Z"
   },
   {
    "duration": 702,
    "start_time": "2022-02-07T16:41:32.411Z"
   },
   {
    "duration": 726,
    "start_time": "2022-02-07T18:09:45.751Z"
   },
   {
    "duration": 3,
    "start_time": "2022-02-07T18:09:46.479Z"
   },
   {
    "duration": 68,
    "start_time": "2022-02-07T18:09:46.485Z"
   },
   {
    "duration": 24,
    "start_time": "2022-02-07T18:09:46.555Z"
   },
   {
    "duration": 5,
    "start_time": "2022-02-07T18:09:46.581Z"
   },
   {
    "duration": 10,
    "start_time": "2022-02-07T18:09:46.588Z"
   },
   {
    "duration": 9,
    "start_time": "2022-02-07T18:09:46.600Z"
   },
   {
    "duration": 61,
    "start_time": "2022-02-07T18:09:46.611Z"
   },
   {
    "duration": 47,
    "start_time": "2022-02-07T18:09:46.675Z"
   },
   {
    "duration": 69,
    "start_time": "2022-02-07T18:09:46.723Z"
   },
   {
    "duration": 7708,
    "start_time": "2022-02-07T18:09:46.794Z"
   },
   {
    "duration": 219,
    "start_time": "2022-02-07T18:09:54.504Z"
   },
   {
    "duration": 11,
    "start_time": "2022-02-07T18:09:54.725Z"
   },
   {
    "duration": 46,
    "start_time": "2022-02-07T18:09:54.737Z"
   },
   {
    "duration": 16,
    "start_time": "2022-02-07T18:09:54.785Z"
   },
   {
    "duration": 564,
    "start_time": "2022-02-07T18:09:54.803Z"
   },
   {
    "duration": 29,
    "start_time": "2022-02-07T18:09:55.369Z"
   },
   {
    "duration": 410,
    "start_time": "2022-02-07T18:09:55.400Z"
   },
   {
    "duration": 7,
    "start_time": "2022-02-07T18:09:55.811Z"
   },
   {
    "duration": 381,
    "start_time": "2022-02-07T18:09:55.820Z"
   },
   {
    "duration": 7,
    "start_time": "2022-02-07T18:09:56.203Z"
   },
   {
    "duration": 332,
    "start_time": "2022-02-07T18:09:56.212Z"
   },
   {
    "duration": 8,
    "start_time": "2022-02-07T18:09:56.546Z"
   },
   {
    "duration": 392,
    "start_time": "2022-02-07T18:09:56.556Z"
   },
   {
    "duration": 7,
    "start_time": "2022-02-07T18:09:56.949Z"
   },
   {
    "duration": 22,
    "start_time": "2022-02-07T18:09:56.958Z"
   },
   {
    "duration": 471,
    "start_time": "2022-02-07T18:09:56.984Z"
   },
   {
    "duration": 22,
    "start_time": "2022-02-07T18:09:57.457Z"
   },
   {
    "duration": 116,
    "start_time": "2022-02-07T18:09:57.481Z"
   },
   {
    "duration": 443,
    "start_time": "2022-02-07T18:09:57.599Z"
   },
   {
    "duration": 394,
    "start_time": "2022-02-07T18:09:58.044Z"
   },
   {
    "duration": 325,
    "start_time": "2022-02-07T18:09:58.439Z"
   },
   {
    "duration": 929,
    "start_time": "2022-02-07T18:09:58.766Z"
   },
   {
    "duration": 483,
    "start_time": "2022-02-07T18:09:59.697Z"
   },
   {
    "duration": 481,
    "start_time": "2022-02-07T18:10:00.182Z"
   },
   {
    "duration": 367,
    "start_time": "2022-02-07T18:10:00.665Z"
   },
   {
    "duration": 13,
    "start_time": "2022-02-07T18:10:01.034Z"
   },
   {
    "duration": 28,
    "start_time": "2022-02-07T18:10:01.049Z"
   },
   {
    "duration": 200,
    "start_time": "2022-02-07T18:10:01.081Z"
   },
   {
    "duration": 10,
    "start_time": "2022-02-07T18:10:01.284Z"
   },
   {
    "duration": 19,
    "start_time": "2022-02-07T18:10:01.296Z"
   },
   {
    "duration": 9,
    "start_time": "2022-02-07T18:10:01.316Z"
   },
   {
    "duration": 10,
    "start_time": "2022-02-07T18:10:01.327Z"
   },
   {
    "duration": 44,
    "start_time": "2022-02-07T18:10:01.339Z"
   },
   {
    "duration": 8,
    "start_time": "2022-02-07T18:10:01.385Z"
   },
   {
    "duration": 209,
    "start_time": "2022-02-07T18:10:01.394Z"
   },
   {
    "duration": 187,
    "start_time": "2022-02-07T18:10:01.605Z"
   },
   {
    "duration": 213,
    "start_time": "2022-02-07T18:10:01.794Z"
   },
   {
    "duration": 654,
    "start_time": "2022-02-07T18:10:02.009Z"
   },
   {
    "duration": 821,
    "start_time": "2022-02-17T22:45:53.093Z"
   },
   {
    "duration": 63,
    "start_time": "2022-02-17T22:46:13.050Z"
   }
  ],
  "kernelspec": {
   "display_name": "Python 3 (ipykernel)",
   "language": "python",
   "name": "python3"
  },
  "language_info": {
   "codemirror_mode": {
    "name": "ipython",
    "version": 3
   },
   "file_extension": ".py",
   "mimetype": "text/x-python",
   "name": "python",
   "nbconvert_exporter": "python",
   "pygments_lexer": "ipython3",
   "version": "3.9.13"
  },
  "toc": {
   "base_numbering": 1,
   "nav_menu": {},
   "number_sections": true,
   "sideBar": true,
   "skip_h1_title": true,
   "title_cell": "Содержание",
   "title_sidebar": "Contents",
   "toc_cell": true,
   "toc_position": {
    "height": "419.68px",
    "left": "930px",
    "top": "110.5px",
    "width": "165px"
   },
   "toc_section_display": true,
   "toc_window_display": true
  }
 },
 "nbformat": 4,
 "nbformat_minor": 2
}
