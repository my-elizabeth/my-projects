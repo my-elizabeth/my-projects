{
 "cells": [
  {
   "cell_type": "markdown",
   "id": "d08e1fe9",
   "metadata": {},
   "source": [
    "# SQL"
   ]
  },
  {
   "cell_type": "markdown",
   "id": "79447e7c",
   "metadata": {},
   "source": [
    "# Задания\n",
    "\n",
    "1) Посчитать, сколько книг вышло после 1 января 2000 года;\n",
    "\n",
    "2) Для каждой книги посчитать количество обзоров и среднюю оценку;\n",
    "\n",
    "3) Определить издательство, которое выпустило наибольшее число книг толще 50 страниц;\n",
    "\n",
    "4) Определить автора с самой высокой средней оценкой книг — учитывать только книги с 50 и более оценками;\n",
    "\n",
    "5) Посчитать среднее количество обзоров от пользователей, которые поставили больше 50 оценок.\n"
   ]
  },
  {
   "cell_type": "markdown",
   "id": "da0569e6",
   "metadata": {},
   "source": [
    "# Описание данных\n",
    "\n",
    "    Таблица books cодержит данные о книгах:\n",
    "    \n",
    "book_id — идентификатор книги;\n",
    "\n",
    "author_id — идентификатор автора;\n",
    "\n",
    "title — название книги;\n",
    "\n",
    "num_pages — количество страниц;\n",
    "\n",
    "publication_date — дата публикации книги;\n",
    "\n",
    "publisher_id — идентификатор издателя.\n",
    "\n",
    "    Таблица authors cодержит данные об авторах:\n",
    "    \n",
    "author_id — идентификатор автора;\n",
    "\n",
    "author — имя автора.\n",
    "\n",
    "    Таблица publishers содержит данные об издательствах:\n",
    "\n",
    "publisher_id — идентификатор издательства;\n",
    "\n",
    "publisher — название издательства;\n",
    "\n",
    "Таблица ratings содержит данные о пользовательских оценках книг:\n",
    "\n",
    "rating_id — идентификатор оценки;\n",
    "\n",
    "book_id — идентификатор книги;\n",
    "\n",
    "username — имя пользователя, оставившего оценку;\n",
    "\n",
    "rating — оценка книги.\n",
    "\n",
    "    Таблица reviews содержит данные о пользовательских обзорах на книги:\n",
    "    \n",
    "review_id — идентификатор обзора;\n",
    "\n",
    "book_id — идентификатор книги;\n",
    "\n",
    "username — имя пользователя, написавшего обзор;\n",
    "\n",
    "text — текст обзора."
   ]
  },
  {
   "cell_type": "markdown",
   "id": "2f9bd9bb",
   "metadata": {},
   "source": [
    "## Загрузка и исследование данных"
   ]
  },
  {
   "cell_type": "code",
   "execution_count": 1,
   "id": "8df82248",
   "metadata": {},
   "outputs": [],
   "source": [
    "# импортируем библиотеки\n",
    "import pandas as pd\n",
    "from sqlalchemy import create_engine\n",
    "\n",
    "# устанавливаем параметры\n",
    "db_config = {'user': '', # имя пользователя\n",
    "'pwd': '', # пароль\n",
    "'host': '',\n",
    "'port': , # порт подключения\n",
    "'db': ''} # название базы данных\n",
    "connection_string = 'postgresql://{}:{}@{}:{}/{}'.format(db_config['user'],\n",
    "db_config['pwd'],\n",
    "db_config['host'],\n",
    "db_config['port'],\n",
    "db_config['db'])\n",
    "\n",
    "# сохраняем коннектор\n",
    "engine = create_engine(connection_string, connect_args={'sslmode':'require'})\n"
   ]
  },
  {
   "cell_type": "code",
   "execution_count": 3,
   "id": "3acc3b40",
   "metadata": {},
   "outputs": [
    {
     "name": "stdout",
     "output_type": "stream",
     "text": [
      "Таблица \"books\"\n"
     ]
    },
    {
     "data": {
      "text/html": [
       "<div>\n",
       "<style scoped>\n",
       "    .dataframe tbody tr th:only-of-type {\n",
       "        vertical-align: middle;\n",
       "    }\n",
       "\n",
       "    .dataframe tbody tr th {\n",
       "        vertical-align: top;\n",
       "    }\n",
       "\n",
       "    .dataframe thead th {\n",
       "        text-align: right;\n",
       "    }\n",
       "</style>\n",
       "<table border=\"1\" class=\"dataframe\">\n",
       "  <thead>\n",
       "    <tr style=\"text-align: right;\">\n",
       "      <th></th>\n",
       "      <th>book_id</th>\n",
       "      <th>author_id</th>\n",
       "      <th>title</th>\n",
       "      <th>num_pages</th>\n",
       "      <th>publication_date</th>\n",
       "      <th>publisher_id</th>\n",
       "    </tr>\n",
       "  </thead>\n",
       "  <tbody>\n",
       "    <tr>\n",
       "      <th>0</th>\n",
       "      <td>1</td>\n",
       "      <td>546</td>\n",
       "      <td>'Salem's Lot</td>\n",
       "      <td>594</td>\n",
       "      <td>2005-11-01</td>\n",
       "      <td>93</td>\n",
       "    </tr>\n",
       "    <tr>\n",
       "      <th>1</th>\n",
       "      <td>2</td>\n",
       "      <td>465</td>\n",
       "      <td>1 000 Places to See Before You Die</td>\n",
       "      <td>992</td>\n",
       "      <td>2003-05-22</td>\n",
       "      <td>336</td>\n",
       "    </tr>\n",
       "    <tr>\n",
       "      <th>2</th>\n",
       "      <td>3</td>\n",
       "      <td>407</td>\n",
       "      <td>13 Little Blue Envelopes (Little Blue Envelope...</td>\n",
       "      <td>322</td>\n",
       "      <td>2010-12-21</td>\n",
       "      <td>135</td>\n",
       "    </tr>\n",
       "    <tr>\n",
       "      <th>3</th>\n",
       "      <td>4</td>\n",
       "      <td>82</td>\n",
       "      <td>1491: New Revelations of the Americas Before C...</td>\n",
       "      <td>541</td>\n",
       "      <td>2006-10-10</td>\n",
       "      <td>309</td>\n",
       "    </tr>\n",
       "    <tr>\n",
       "      <th>4</th>\n",
       "      <td>5</td>\n",
       "      <td>125</td>\n",
       "      <td>1776</td>\n",
       "      <td>386</td>\n",
       "      <td>2006-07-04</td>\n",
       "      <td>268</td>\n",
       "    </tr>\n",
       "  </tbody>\n",
       "</table>\n",
       "</div>"
      ],
      "text/plain": [
       "   book_id  author_id                                              title  \\\n",
       "0        1        546                                       'Salem's Lot   \n",
       "1        2        465                 1 000 Places to See Before You Die   \n",
       "2        3        407  13 Little Blue Envelopes (Little Blue Envelope...   \n",
       "3        4         82  1491: New Revelations of the Americas Before C...   \n",
       "4        5        125                                               1776   \n",
       "\n",
       "   num_pages publication_date  publisher_id  \n",
       "0        594       2005-11-01            93  \n",
       "1        992       2003-05-22           336  \n",
       "2        322       2010-12-21           135  \n",
       "3        541       2006-10-10           309  \n",
       "4        386       2006-07-04           268  "
      ]
     },
     "metadata": {},
     "output_type": "display_data"
    },
    {
     "name": "stdout",
     "output_type": "stream",
     "text": [
      "<class 'pandas.core.frame.DataFrame'>\n",
      "RangeIndex: 1000 entries, 0 to 999\n",
      "Data columns (total 6 columns):\n",
      " #   Column            Non-Null Count  Dtype \n",
      "---  ------            --------------  ----- \n",
      " 0   book_id           1000 non-null   int64 \n",
      " 1   author_id         1000 non-null   int64 \n",
      " 2   title             1000 non-null   object\n",
      " 3   num_pages         1000 non-null   int64 \n",
      " 4   publication_date  1000 non-null   object\n",
      " 5   publisher_id      1000 non-null   int64 \n",
      "dtypes: int64(4), object(2)\n",
      "memory usage: 47.0+ KB\n",
      "None\n",
      "Таблица \"authors\"\n"
     ]
    },
    {
     "data": {
      "text/html": [
       "<div>\n",
       "<style scoped>\n",
       "    .dataframe tbody tr th:only-of-type {\n",
       "        vertical-align: middle;\n",
       "    }\n",
       "\n",
       "    .dataframe tbody tr th {\n",
       "        vertical-align: top;\n",
       "    }\n",
       "\n",
       "    .dataframe thead th {\n",
       "        text-align: right;\n",
       "    }\n",
       "</style>\n",
       "<table border=\"1\" class=\"dataframe\">\n",
       "  <thead>\n",
       "    <tr style=\"text-align: right;\">\n",
       "      <th></th>\n",
       "      <th>author_id</th>\n",
       "      <th>author</th>\n",
       "    </tr>\n",
       "  </thead>\n",
       "  <tbody>\n",
       "    <tr>\n",
       "      <th>0</th>\n",
       "      <td>1</td>\n",
       "      <td>A.S. Byatt</td>\n",
       "    </tr>\n",
       "    <tr>\n",
       "      <th>1</th>\n",
       "      <td>2</td>\n",
       "      <td>Aesop/Laura Harris/Laura Gibbs</td>\n",
       "    </tr>\n",
       "    <tr>\n",
       "      <th>2</th>\n",
       "      <td>3</td>\n",
       "      <td>Agatha Christie</td>\n",
       "    </tr>\n",
       "    <tr>\n",
       "      <th>3</th>\n",
       "      <td>4</td>\n",
       "      <td>Alan Brennert</td>\n",
       "    </tr>\n",
       "    <tr>\n",
       "      <th>4</th>\n",
       "      <td>5</td>\n",
       "      <td>Alan Moore/David   Lloyd</td>\n",
       "    </tr>\n",
       "  </tbody>\n",
       "</table>\n",
       "</div>"
      ],
      "text/plain": [
       "   author_id                          author\n",
       "0          1                      A.S. Byatt\n",
       "1          2  Aesop/Laura Harris/Laura Gibbs\n",
       "2          3                 Agatha Christie\n",
       "3          4                   Alan Brennert\n",
       "4          5        Alan Moore/David   Lloyd"
      ]
     },
     "metadata": {},
     "output_type": "display_data"
    },
    {
     "name": "stdout",
     "output_type": "stream",
     "text": [
      "<class 'pandas.core.frame.DataFrame'>\n",
      "RangeIndex: 636 entries, 0 to 635\n",
      "Data columns (total 2 columns):\n",
      " #   Column     Non-Null Count  Dtype \n",
      "---  ------     --------------  ----- \n",
      " 0   author_id  636 non-null    int64 \n",
      " 1   author     636 non-null    object\n",
      "dtypes: int64(1), object(1)\n",
      "memory usage: 10.1+ KB\n",
      "None\n",
      "Таблица \"publishers\"\n"
     ]
    },
    {
     "data": {
      "text/html": [
       "<div>\n",
       "<style scoped>\n",
       "    .dataframe tbody tr th:only-of-type {\n",
       "        vertical-align: middle;\n",
       "    }\n",
       "\n",
       "    .dataframe tbody tr th {\n",
       "        vertical-align: top;\n",
       "    }\n",
       "\n",
       "    .dataframe thead th {\n",
       "        text-align: right;\n",
       "    }\n",
       "</style>\n",
       "<table border=\"1\" class=\"dataframe\">\n",
       "  <thead>\n",
       "    <tr style=\"text-align: right;\">\n",
       "      <th></th>\n",
       "      <th>publisher_id</th>\n",
       "      <th>publisher</th>\n",
       "    </tr>\n",
       "  </thead>\n",
       "  <tbody>\n",
       "    <tr>\n",
       "      <th>0</th>\n",
       "      <td>1</td>\n",
       "      <td>Ace</td>\n",
       "    </tr>\n",
       "    <tr>\n",
       "      <th>1</th>\n",
       "      <td>2</td>\n",
       "      <td>Ace Book</td>\n",
       "    </tr>\n",
       "    <tr>\n",
       "      <th>2</th>\n",
       "      <td>3</td>\n",
       "      <td>Ace Books</td>\n",
       "    </tr>\n",
       "    <tr>\n",
       "      <th>3</th>\n",
       "      <td>4</td>\n",
       "      <td>Ace Hardcover</td>\n",
       "    </tr>\n",
       "    <tr>\n",
       "      <th>4</th>\n",
       "      <td>5</td>\n",
       "      <td>Addison Wesley Publishing Company</td>\n",
       "    </tr>\n",
       "  </tbody>\n",
       "</table>\n",
       "</div>"
      ],
      "text/plain": [
       "   publisher_id                          publisher\n",
       "0             1                                Ace\n",
       "1             2                           Ace Book\n",
       "2             3                          Ace Books\n",
       "3             4                      Ace Hardcover\n",
       "4             5  Addison Wesley Publishing Company"
      ]
     },
     "metadata": {},
     "output_type": "display_data"
    },
    {
     "name": "stdout",
     "output_type": "stream",
     "text": [
      "<class 'pandas.core.frame.DataFrame'>\n",
      "RangeIndex: 340 entries, 0 to 339\n",
      "Data columns (total 2 columns):\n",
      " #   Column        Non-Null Count  Dtype \n",
      "---  ------        --------------  ----- \n",
      " 0   publisher_id  340 non-null    int64 \n",
      " 1   publisher     340 non-null    object\n",
      "dtypes: int64(1), object(1)\n",
      "memory usage: 5.4+ KB\n",
      "None\n",
      "Таблица \"ratings\"\n"
     ]
    },
    {
     "data": {
      "text/html": [
       "<div>\n",
       "<style scoped>\n",
       "    .dataframe tbody tr th:only-of-type {\n",
       "        vertical-align: middle;\n",
       "    }\n",
       "\n",
       "    .dataframe tbody tr th {\n",
       "        vertical-align: top;\n",
       "    }\n",
       "\n",
       "    .dataframe thead th {\n",
       "        text-align: right;\n",
       "    }\n",
       "</style>\n",
       "<table border=\"1\" class=\"dataframe\">\n",
       "  <thead>\n",
       "    <tr style=\"text-align: right;\">\n",
       "      <th></th>\n",
       "      <th>rating_id</th>\n",
       "      <th>book_id</th>\n",
       "      <th>username</th>\n",
       "      <th>rating</th>\n",
       "    </tr>\n",
       "  </thead>\n",
       "  <tbody>\n",
       "    <tr>\n",
       "      <th>0</th>\n",
       "      <td>1</td>\n",
       "      <td>1</td>\n",
       "      <td>ryanfranco</td>\n",
       "      <td>4</td>\n",
       "    </tr>\n",
       "    <tr>\n",
       "      <th>1</th>\n",
       "      <td>2</td>\n",
       "      <td>1</td>\n",
       "      <td>grantpatricia</td>\n",
       "      <td>2</td>\n",
       "    </tr>\n",
       "    <tr>\n",
       "      <th>2</th>\n",
       "      <td>3</td>\n",
       "      <td>1</td>\n",
       "      <td>brandtandrea</td>\n",
       "      <td>5</td>\n",
       "    </tr>\n",
       "    <tr>\n",
       "      <th>3</th>\n",
       "      <td>4</td>\n",
       "      <td>2</td>\n",
       "      <td>lorichen</td>\n",
       "      <td>3</td>\n",
       "    </tr>\n",
       "    <tr>\n",
       "      <th>4</th>\n",
       "      <td>5</td>\n",
       "      <td>2</td>\n",
       "      <td>mariokeller</td>\n",
       "      <td>2</td>\n",
       "    </tr>\n",
       "  </tbody>\n",
       "</table>\n",
       "</div>"
      ],
      "text/plain": [
       "   rating_id  book_id       username  rating\n",
       "0          1        1     ryanfranco       4\n",
       "1          2        1  grantpatricia       2\n",
       "2          3        1   brandtandrea       5\n",
       "3          4        2       lorichen       3\n",
       "4          5        2    mariokeller       2"
      ]
     },
     "metadata": {},
     "output_type": "display_data"
    },
    {
     "name": "stdout",
     "output_type": "stream",
     "text": [
      "<class 'pandas.core.frame.DataFrame'>\n",
      "RangeIndex: 6456 entries, 0 to 6455\n",
      "Data columns (total 4 columns):\n",
      " #   Column     Non-Null Count  Dtype \n",
      "---  ------     --------------  ----- \n",
      " 0   rating_id  6456 non-null   int64 \n",
      " 1   book_id    6456 non-null   int64 \n",
      " 2   username   6456 non-null   object\n",
      " 3   rating     6456 non-null   int64 \n",
      "dtypes: int64(3), object(1)\n",
      "memory usage: 201.9+ KB\n",
      "None\n",
      "Таблица \"reviews\"\n"
     ]
    },
    {
     "data": {
      "text/html": [
       "<div>\n",
       "<style scoped>\n",
       "    .dataframe tbody tr th:only-of-type {\n",
       "        vertical-align: middle;\n",
       "    }\n",
       "\n",
       "    .dataframe tbody tr th {\n",
       "        vertical-align: top;\n",
       "    }\n",
       "\n",
       "    .dataframe thead th {\n",
       "        text-align: right;\n",
       "    }\n",
       "</style>\n",
       "<table border=\"1\" class=\"dataframe\">\n",
       "  <thead>\n",
       "    <tr style=\"text-align: right;\">\n",
       "      <th></th>\n",
       "      <th>review_id</th>\n",
       "      <th>book_id</th>\n",
       "      <th>username</th>\n",
       "      <th>text</th>\n",
       "    </tr>\n",
       "  </thead>\n",
       "  <tbody>\n",
       "    <tr>\n",
       "      <th>0</th>\n",
       "      <td>1</td>\n",
       "      <td>1</td>\n",
       "      <td>brandtandrea</td>\n",
       "      <td>Mention society tell send professor analysis. ...</td>\n",
       "    </tr>\n",
       "    <tr>\n",
       "      <th>1</th>\n",
       "      <td>2</td>\n",
       "      <td>1</td>\n",
       "      <td>ryanfranco</td>\n",
       "      <td>Foot glass pretty audience hit themselves. Amo...</td>\n",
       "    </tr>\n",
       "    <tr>\n",
       "      <th>2</th>\n",
       "      <td>3</td>\n",
       "      <td>2</td>\n",
       "      <td>lorichen</td>\n",
       "      <td>Listen treat keep worry. Miss husband tax but ...</td>\n",
       "    </tr>\n",
       "    <tr>\n",
       "      <th>3</th>\n",
       "      <td>4</td>\n",
       "      <td>3</td>\n",
       "      <td>johnsonamanda</td>\n",
       "      <td>Finally month interesting blue could nature cu...</td>\n",
       "    </tr>\n",
       "    <tr>\n",
       "      <th>4</th>\n",
       "      <td>5</td>\n",
       "      <td>3</td>\n",
       "      <td>scotttamara</td>\n",
       "      <td>Nation purpose heavy give wait song will. List...</td>\n",
       "    </tr>\n",
       "  </tbody>\n",
       "</table>\n",
       "</div>"
      ],
      "text/plain": [
       "   review_id  book_id       username  \\\n",
       "0          1        1   brandtandrea   \n",
       "1          2        1     ryanfranco   \n",
       "2          3        2       lorichen   \n",
       "3          4        3  johnsonamanda   \n",
       "4          5        3    scotttamara   \n",
       "\n",
       "                                                text  \n",
       "0  Mention society tell send professor analysis. ...  \n",
       "1  Foot glass pretty audience hit themselves. Amo...  \n",
       "2  Listen treat keep worry. Miss husband tax but ...  \n",
       "3  Finally month interesting blue could nature cu...  \n",
       "4  Nation purpose heavy give wait song will. List...  "
      ]
     },
     "metadata": {},
     "output_type": "display_data"
    },
    {
     "name": "stdout",
     "output_type": "stream",
     "text": [
      "<class 'pandas.core.frame.DataFrame'>\n",
      "RangeIndex: 2793 entries, 0 to 2792\n",
      "Data columns (total 4 columns):\n",
      " #   Column     Non-Null Count  Dtype \n",
      "---  ------     --------------  ----- \n",
      " 0   review_id  2793 non-null   int64 \n",
      " 1   book_id    2793 non-null   int64 \n",
      " 2   username   2793 non-null   object\n",
      " 3   text       2793 non-null   object\n",
      "dtypes: int64(2), object(2)\n",
      "memory usage: 87.4+ KB\n",
      "None\n"
     ]
    }
   ],
   "source": [
    "tables  = ['books', 'authors', 'publishers', 'ratings', 'reviews']\n",
    "for table in tables:\n",
    "    query = ''' SELECT * FROM {}; \n",
    "    '''.format(table) \n",
    "\n",
    "    for_table = pd.io.sql.read_sql(query, con = engine) \n",
    "    print(f'Таблица \"{table}\"')\n",
    "    display(for_table.head())\n",
    "    print(for_table.info())"
   ]
  },
  {
   "cell_type": "markdown",
   "id": "8796dae3",
   "metadata": {},
   "source": [
    "### Вывод\n",
    "\n",
    "В данных отсутствуют пропуски, можно заменить тип данных в таблице books колонка publication_date. Но для написания запросов это не требуется. Можно приступать к написанию запросов."
   ]
  },
  {
   "cell_type": "markdown",
   "id": "b6159094",
   "metadata": {},
   "source": [
    "## Задание 1 \n",
    "\n",
    "Посчитать, сколько книг вышло после 1 января 2000 года."
   ]
  },
  {
   "cell_type": "code",
   "execution_count": 4,
   "id": "682903b1",
   "metadata": {},
   "outputs": [
    {
     "name": "stdout",
     "output_type": "stream",
     "text": [
      "После 1 января 2000 года вышло 819 книг\n"
     ]
    }
   ],
   "source": [
    "query1 = '''\n",
    "SELECT COUNT(book_id)\n",
    "FROM books\n",
    "WHERE publication_date > '2000-01-01';\n",
    "'''\n",
    "request1 = pd.io.sql.read_sql(query1, con = engine)\n",
    "book_count = request1.loc[0, 'count']\n",
    "print(f'После 1 января 2000 года вышло {book_count} книг')"
   ]
  },
  {
   "cell_type": "markdown",
   "id": "e363d63f",
   "metadata": {},
   "source": [
    "### Вывод \n",
    "\n",
    "После 1 января 2000 года вышло 819 книг."
   ]
  },
  {
   "cell_type": "markdown",
   "id": "b43a120c",
   "metadata": {},
   "source": [
    "## Задание 2\n",
    "\n",
    "Для каждой книги посчитать количество обзоров и среднюю оценку."
   ]
  },
  {
   "cell_type": "code",
   "execution_count": 6,
   "id": "62b10a6f",
   "metadata": {},
   "outputs": [
    {
     "data": {
      "text/html": [
       "<div>\n",
       "<style scoped>\n",
       "    .dataframe tbody tr th:only-of-type {\n",
       "        vertical-align: middle;\n",
       "    }\n",
       "\n",
       "    .dataframe tbody tr th {\n",
       "        vertical-align: top;\n",
       "    }\n",
       "\n",
       "    .dataframe thead th {\n",
       "        text-align: right;\n",
       "    }\n",
       "</style>\n",
       "<table border=\"1\" class=\"dataframe\">\n",
       "  <thead>\n",
       "    <tr style=\"text-align: right;\">\n",
       "      <th></th>\n",
       "      <th>book_id</th>\n",
       "      <th>title</th>\n",
       "      <th>count_rewiew</th>\n",
       "      <th>avg_rating</th>\n",
       "    </tr>\n",
       "  </thead>\n",
       "  <tbody>\n",
       "    <tr>\n",
       "      <th>0</th>\n",
       "      <td>808</td>\n",
       "      <td>The Natural Way to Draw</td>\n",
       "      <td>NaN</td>\n",
       "      <td>3.000000</td>\n",
       "    </tr>\n",
       "    <tr>\n",
       "      <th>1</th>\n",
       "      <td>191</td>\n",
       "      <td>Disney's Beauty and the Beast (A Little Golden...</td>\n",
       "      <td>NaN</td>\n",
       "      <td>4.000000</td>\n",
       "    </tr>\n",
       "    <tr>\n",
       "      <th>2</th>\n",
       "      <td>221</td>\n",
       "      <td>Essential Tales and Poems</td>\n",
       "      <td>NaN</td>\n",
       "      <td>4.000000</td>\n",
       "    </tr>\n",
       "    <tr>\n",
       "      <th>3</th>\n",
       "      <td>83</td>\n",
       "      <td>Anne Rice's The Vampire Lestat: A Graphic Novel</td>\n",
       "      <td>NaN</td>\n",
       "      <td>3.666667</td>\n",
       "    </tr>\n",
       "    <tr>\n",
       "      <th>4</th>\n",
       "      <td>387</td>\n",
       "      <td>Leonardo's Notebooks</td>\n",
       "      <td>NaN</td>\n",
       "      <td>4.000000</td>\n",
       "    </tr>\n",
       "    <tr>\n",
       "      <th>5</th>\n",
       "      <td>672</td>\n",
       "      <td>The Cat in the Hat and Other Dr. Seuss Favorites</td>\n",
       "      <td>NaN</td>\n",
       "      <td>5.000000</td>\n",
       "    </tr>\n",
       "    <tr>\n",
       "      <th>6</th>\n",
       "      <td>948</td>\n",
       "      <td>Twilight (Twilight  #1)</td>\n",
       "      <td>7.0</td>\n",
       "      <td>3.662500</td>\n",
       "    </tr>\n",
       "    <tr>\n",
       "      <th>7</th>\n",
       "      <td>302</td>\n",
       "      <td>Harry Potter and the Prisoner of Azkaban (Harr...</td>\n",
       "      <td>6.0</td>\n",
       "      <td>4.414634</td>\n",
       "    </tr>\n",
       "    <tr>\n",
       "      <th>8</th>\n",
       "      <td>779</td>\n",
       "      <td>The Lightning Thief (Percy Jackson and the Oly...</td>\n",
       "      <td>6.0</td>\n",
       "      <td>4.080645</td>\n",
       "    </tr>\n",
       "    <tr>\n",
       "      <th>9</th>\n",
       "      <td>695</td>\n",
       "      <td>The Curious Incident of the Dog in the Night-Time</td>\n",
       "      <td>6.0</td>\n",
       "      <td>4.081081</td>\n",
       "    </tr>\n",
       "  </tbody>\n",
       "</table>\n",
       "</div>"
      ],
      "text/plain": [
       "   book_id                                              title  count_rewiew  \\\n",
       "0      808                            The Natural Way to Draw           NaN   \n",
       "1      191  Disney's Beauty and the Beast (A Little Golden...           NaN   \n",
       "2      221                          Essential Tales and Poems           NaN   \n",
       "3       83    Anne Rice's The Vampire Lestat: A Graphic Novel           NaN   \n",
       "4      387                               Leonardo's Notebooks           NaN   \n",
       "5      672   The Cat in the Hat and Other Dr. Seuss Favorites           NaN   \n",
       "6      948                            Twilight (Twilight  #1)           7.0   \n",
       "7      302  Harry Potter and the Prisoner of Azkaban (Harr...           6.0   \n",
       "8      779  The Lightning Thief (Percy Jackson and the Oly...           6.0   \n",
       "9      695  The Curious Incident of the Dog in the Night-Time           6.0   \n",
       "\n",
       "   avg_rating  \n",
       "0    3.000000  \n",
       "1    4.000000  \n",
       "2    4.000000  \n",
       "3    3.666667  \n",
       "4    4.000000  \n",
       "5    5.000000  \n",
       "6    3.662500  \n",
       "7    4.414634  \n",
       "8    4.080645  \n",
       "9    4.081081  "
      ]
     },
     "execution_count": 6,
     "metadata": {},
     "output_type": "execute_result"
    }
   ],
   "source": [
    "query2 = ''' \n",
    "\n",
    "SELECT \n",
    "    b.book_id,\n",
    "    b.title,\n",
    "    re.count_rewiew, \n",
    "    ra.avg_rating\n",
    "FROM books AS b\n",
    "LEFT JOIN  (SELECT book_id,\n",
    "                   AVG(rating) AS avg_rating\n",
    "            FROM ratings\n",
    "            GROUP BY(book_id)) AS ra ON b.book_id= ra.book_id\n",
    "LEFT JOIN (SELECT book_id,\n",
    "                  COUNT(review_id) AS count_rewiew\n",
    "           FROM reviews\n",
    "           GROUP BY(book_id)) AS re ON b.book_id = re.book_id\n",
    "ORDER BY  re.count_rewiew DESC,\n",
    "          re.count_rewiew DESC;  \n",
    "\n",
    "'''\n",
    "request2 = pd.io.sql.read_sql(query2, con = engine)\n",
    "request2.head(10)"
   ]
  },
  {
   "cell_type": "markdown",
   "id": "19537ac4",
   "metadata": {},
   "source": [
    "### Вывод \n",
    "\n",
    "Самое большое количество обзоров (7) у книги Twilight (Twilight #1) и самая высокая оценка - 5."
   ]
  },
  {
   "cell_type": "markdown",
   "id": "b1692338",
   "metadata": {},
   "source": [
    "## Задание 3\n",
    "\n",
    "Определить издательство, которое выпустило наибольшее число книг толще 50 страниц — так мы исключим из анализа брошюры."
   ]
  },
  {
   "cell_type": "code",
   "execution_count": 7,
   "id": "5df09320",
   "metadata": {},
   "outputs": [
    {
     "name": "stdout",
     "output_type": "stream",
     "text": [
      "Издательство, которое выпустило наибольшее число книг (42 штуки) толще 50 страниц - Penguin Books.\n"
     ]
    }
   ],
   "source": [
    "query3 = ''' \n",
    "\n",
    "SELECT b.publisher_id,\n",
    "       p.publisher,\n",
    "       COUNT(b.book_id)\n",
    "FROM books AS b \n",
    "LEFT JOIN publishers as p ON b.publisher_id=p.publisher_id\n",
    "WHERE num_pages>50\n",
    "GROUP BY\n",
    "        b.publisher_id,\n",
    "        p.publisher\n",
    "ORDER BY COUNT(b.book_id)DESC\n",
    "Limit 1; \n",
    "''' \n",
    "\n",
    "request3 = pd.io.sql.read_sql(query3, con = engine)\n",
    "publisher_max = request3.loc[0, 'publisher']\n",
    "books_max = request3.loc[0, 'count']\n",
    "print(f'Издательство, которое выпустило наибольшее число книг ({books_max} штуки) толще 50 страниц - {publisher_max}.')"
   ]
  },
  {
   "cell_type": "markdown",
   "id": "2f64d20e",
   "metadata": {},
   "source": [
    "### Вывод \n",
    "\n",
    "Издательство, которое выпустило наибольшее число книг (42 штуки) толще 50 страниц - Penguin Books."
   ]
  },
  {
   "cell_type": "markdown",
   "id": "577270c1",
   "metadata": {},
   "source": [
    "## Задание 4\n",
    "\n",
    "Определить автора с самой высокой средней оценкой книг — учитывать только книги с 50 и более оценками."
   ]
  },
  {
   "cell_type": "code",
   "execution_count": 9,
   "id": "8f3b4dd7",
   "metadata": {},
   "outputs": [
    {
     "name": "stdout",
     "output_type": "stream",
     "text": [
      "Автор с самой высокой средней оценкой книг (4.283844) - J.K. Rowling/Mary GrandPré.\n"
     ]
    }
   ],
   "source": [
    "query4 = ''' \n",
    "SELECT first.author,\n",
    "       AVG(book_avg) AS author_AVG\n",
    "FROM (SELECT r.book_id,\n",
    "                    r.book_avg,\n",
    "                    r.count_rating,\n",
    "                    a.author\n",
    "             FROM (SELECT book_id,\n",
    "                   COUNT(rating_id) AS count_rating,\n",
    "                   AVG(rating) AS book_avg \n",
    "                 FROM ratings \n",
    "                 GROUP BY book_id\n",
    "                 HAVING COUNT(rating_id) >=50) AS r\n",
    "             LEFT JOIN books AS b ON r.book_id = b.book_id\n",
    "             LEFT JOIN authors AS a ON b.author_id = a.author_id) AS first\n",
    "GROUP BY first.author\n",
    "ORDER BY author_AVG DESC\n",
    "Limit 1; \n",
    "'''\n",
    "\n",
    "request4 = pd.io.sql.read_sql(query4, con = engine)\n",
    "author_max = request4.loc[0, 'author']\n",
    "author_avg_max4 = request4.loc[0, 'author_avg'].round(6)\n",
    "print(f'Автор с самой высокой средней оценкой книг ({author_avg_max4}) - {author_max}.')"
   ]
  },
  {
   "cell_type": "markdown",
   "id": "37ade94d",
   "metadata": {},
   "source": [
    "### Вывод \n",
    "\n",
    "Автор с самой высокой средней оценкой книг - J.K. Rowling/Mary GrandPré."
   ]
  },
  {
   "cell_type": "markdown",
   "id": "cb0bcd7f",
   "metadata": {},
   "source": [
    "## Задание 5\n",
    "\n",
    "Посчитать среднее количество обзоров от пользователей, которые поставили больше 50 оценок."
   ]
  },
  {
   "cell_type": "code",
   "execution_count": 14,
   "id": "45f20376",
   "metadata": {},
   "outputs": [
    {
     "name": "stdout",
     "output_type": "stream",
     "text": [
      "Cреднее количество обзоров от пользователей, которые поставили больше 50 оценок - 24.2\n"
     ]
    }
   ],
   "source": [
    "query5 = ''' \n",
    "SELECT AVG(first.count_review) AS avg_review\n",
    "FROM (SELECT username,\n",
    "             COUNT(review_id) AS count_review\n",
    "      FROM reviews AS re\n",
    "      WHERE username IN (\n",
    "            SELECT username\n",
    "            FROM ratings\n",
    "            GROUP BY username\n",
    "            HAVING COUNT(rating_id) >=50) \n",
    "      GROUP BY username) AS first\n",
    "; \n",
    "''' \n",
    "\n",
    "request5 = pd.io.sql.read_sql(query5, con = engine)\n",
    "review_max = request5.loc[0, 'avg_review'].round(1)\n",
    "print(f'Cреднее количество обзоров от пользователей, которые поставили больше 50 оценок - {review_max}')"
   ]
  },
  {
   "cell_type": "markdown",
   "id": "5dae35ca",
   "metadata": {},
   "source": [
    "### Вывод \n",
    "\n",
    "Cреднее количество обзоров от пользователей, которые поставили больше 50 оценок - 24,2 ."
   ]
  },
  {
   "cell_type": "markdown",
   "id": "56d24ee2",
   "metadata": {},
   "source": [
    "## Вывод\n",
    "\n"
   ]
  },
  {
   "cell_type": "markdown",
   "id": "0172371e",
   "metadata": {},
   "source": [
    "После 1 января 2000 года вышло 819 книг.\n",
    "\n",
    "Самое большое количество обзоров 7 у книги Twilight (Twilight #1) и самая высокая оценка 5.\n",
    "\n",
    "Издательство, которое выпустило наибольшее число книг (42 штуки) толще 50 страниц - Penguin Books.\n",
    "\n",
    "Автор с самой высокой средней оценкой книг - J.K. Rowling/Mary GrandPré.\n",
    "\n",
    "Cреднее количество обзоров от пользователей, которые поставили больше 50 оценок - 24,2 . \n"
   ]
  }
 ],
 "metadata": {
  "ExecuteTimeLog": [
   {
    "duration": 64,
    "start_time": "2022-07-13T17:11:18.693Z"
   },
   {
    "duration": 5,
    "start_time": "2022-07-13T17:11:53.922Z"
   },
   {
    "duration": 3,
    "start_time": "2022-07-13T17:17:15.527Z"
   },
   {
    "duration": 589,
    "start_time": "2022-07-13T17:26:57.102Z"
   },
   {
    "duration": 212,
    "start_time": "2022-07-13T17:27:45.284Z"
   },
   {
    "duration": 494,
    "start_time": "2022-07-13T17:27:51.485Z"
   },
   {
    "duration": 455,
    "start_time": "2022-07-13T17:31:53.931Z"
   },
   {
    "duration": 439,
    "start_time": "2022-07-13T17:32:02.754Z"
   },
   {
    "duration": 64,
    "start_time": "2022-07-13T17:42:43.982Z"
   },
   {
    "duration": 48,
    "start_time": "2022-07-13T17:44:12.576Z"
   },
   {
    "duration": 90,
    "start_time": "2022-07-13T17:44:18.270Z"
   },
   {
    "duration": 48,
    "start_time": "2022-07-13T17:44:55.277Z"
   },
   {
    "duration": 49,
    "start_time": "2022-07-13T17:45:04.784Z"
   },
   {
    "duration": 50,
    "start_time": "2022-07-13T17:45:21.748Z"
   },
   {
    "duration": 65,
    "start_time": "2022-07-13T17:46:07.591Z"
   },
   {
    "duration": 75,
    "start_time": "2022-07-13T17:46:18.858Z"
   },
   {
    "duration": 61,
    "start_time": "2022-07-13T17:46:34.309Z"
   },
   {
    "duration": 142,
    "start_time": "2022-07-13T18:04:32.554Z"
   },
   {
    "duration": 215,
    "start_time": "2022-07-13T18:05:01.700Z"
   },
   {
    "duration": 153,
    "start_time": "2022-07-13T18:05:39.358Z"
   },
   {
    "duration": 187,
    "start_time": "2022-07-13T18:08:04.158Z"
   },
   {
    "duration": 145,
    "start_time": "2022-07-13T18:08:42.693Z"
   },
   {
    "duration": 145,
    "start_time": "2022-07-13T18:10:42.064Z"
   },
   {
    "duration": 135,
    "start_time": "2022-07-13T18:12:59.160Z"
   },
   {
    "duration": 100,
    "start_time": "2022-07-13T18:13:18.511Z"
   },
   {
    "duration": 105,
    "start_time": "2022-07-13T18:15:50.733Z"
   },
   {
    "duration": 176,
    "start_time": "2022-07-13T18:19:27.581Z"
   },
   {
    "duration": 107,
    "start_time": "2022-07-13T18:20:50.807Z"
   },
   {
    "duration": 90,
    "start_time": "2022-07-13T18:30:46.633Z"
   },
   {
    "duration": 101,
    "start_time": "2022-07-13T18:32:00.629Z"
   },
   {
    "duration": 168,
    "start_time": "2022-07-13T18:32:23.226Z"
   },
   {
    "duration": 108,
    "start_time": "2022-07-13T18:32:37.561Z"
   },
   {
    "duration": 96,
    "start_time": "2022-07-13T18:33:24.008Z"
   },
   {
    "duration": 102,
    "start_time": "2022-07-13T18:33:43.621Z"
   },
   {
    "duration": 109,
    "start_time": "2022-07-13T18:33:53.573Z"
   },
   {
    "duration": 95,
    "start_time": "2022-07-13T18:34:28.619Z"
   },
   {
    "duration": 66,
    "start_time": "2022-07-13T18:35:32.567Z"
   },
   {
    "duration": 1061,
    "start_time": "2022-07-13T18:36:50.155Z"
   },
   {
    "duration": 66,
    "start_time": "2022-07-13T18:37:22.016Z"
   },
   {
    "duration": 893,
    "start_time": "2022-07-13T18:37:31.704Z"
   },
   {
    "duration": 63,
    "start_time": "2022-07-13T18:37:51.718Z"
   },
   {
    "duration": 66,
    "start_time": "2022-07-13T18:38:00.213Z"
   },
   {
    "duration": 66,
    "start_time": "2022-07-13T18:38:03.959Z"
   },
   {
    "duration": 137,
    "start_time": "2022-07-13T19:00:35.544Z"
   },
   {
    "duration": 218,
    "start_time": "2022-07-13T19:01:00.084Z"
   },
   {
    "duration": 74,
    "start_time": "2022-07-13T19:01:55.480Z"
   },
   {
    "duration": 76,
    "start_time": "2022-07-13T19:02:34.241Z"
   },
   {
    "duration": 132,
    "start_time": "2022-07-13T19:08:27.837Z"
   },
   {
    "duration": 123,
    "start_time": "2022-07-13T19:11:38.263Z"
   },
   {
    "duration": 127,
    "start_time": "2022-07-13T19:12:01.153Z"
   },
   {
    "duration": 125,
    "start_time": "2022-07-13T19:12:15.521Z"
   },
   {
    "duration": 126,
    "start_time": "2022-07-13T19:13:51.919Z"
   },
   {
    "duration": 124,
    "start_time": "2022-07-13T19:14:00.369Z"
   },
   {
    "duration": 78,
    "start_time": "2022-07-13T19:14:14.035Z"
   },
   {
    "duration": 125,
    "start_time": "2022-07-13T19:19:13.950Z"
   },
   {
    "duration": 70,
    "start_time": "2022-07-13T19:20:15.817Z"
   },
   {
    "duration": 72,
    "start_time": "2022-07-13T19:20:32.368Z"
   },
   {
    "duration": 67,
    "start_time": "2022-07-13T19:22:02.132Z"
   },
   {
    "duration": 70,
    "start_time": "2022-07-13T19:45:54.177Z"
   },
   {
    "duration": 84,
    "start_time": "2022-07-13T19:46:02.161Z"
   },
   {
    "duration": 7413,
    "start_time": "2022-07-13T19:46:19.483Z"
   },
   {
    "duration": 3,
    "start_time": "2022-07-13T19:46:26.898Z"
   },
   {
    "duration": 661,
    "start_time": "2022-07-13T19:46:26.903Z"
   },
   {
    "duration": 67,
    "start_time": "2022-07-13T19:46:27.566Z"
   },
   {
    "duration": 92,
    "start_time": "2022-07-13T19:46:27.635Z"
   },
   {
    "duration": 66,
    "start_time": "2022-07-13T19:46:27.728Z"
   },
   {
    "duration": 73,
    "start_time": "2022-07-13T19:46:27.796Z"
   },
   {
    "duration": 79,
    "start_time": "2022-07-13T19:46:27.874Z"
   },
   {
    "duration": 223,
    "start_time": "2022-07-13T19:47:30.978Z"
   },
   {
    "duration": 914,
    "start_time": "2022-07-13T19:48:03.737Z"
   },
   {
    "duration": 78,
    "start_time": "2022-07-13T19:48:31.078Z"
   },
   {
    "duration": 168,
    "start_time": "2022-07-13T19:51:21.621Z"
   },
   {
    "duration": 149,
    "start_time": "2022-07-13T19:51:40.580Z"
   },
   {
    "duration": 144,
    "start_time": "2022-07-13T19:51:52.609Z"
   },
   {
    "duration": 102,
    "start_time": "2022-07-13T19:52:01.231Z"
   },
   {
    "duration": 91,
    "start_time": "2022-07-13T19:52:42.918Z"
   },
   {
    "duration": 80,
    "start_time": "2022-07-13T19:53:06.654Z"
   },
   {
    "duration": 72,
    "start_time": "2022-07-13T19:54:13.584Z"
   },
   {
    "duration": 148,
    "start_time": "2022-07-13T19:55:20.132Z"
   },
   {
    "duration": 145,
    "start_time": "2022-07-13T19:55:29.235Z"
   },
   {
    "duration": 165,
    "start_time": "2022-07-13T19:55:44.786Z"
   },
   {
    "duration": 99,
    "start_time": "2022-07-13T19:56:48.388Z"
   },
   {
    "duration": 71,
    "start_time": "2022-07-13T20:00:45.647Z"
   },
   {
    "duration": 67,
    "start_time": "2022-07-13T20:02:28.296Z"
   },
   {
    "duration": 71,
    "start_time": "2022-07-13T20:02:42.973Z"
   },
   {
    "duration": 69,
    "start_time": "2022-07-13T20:02:50.175Z"
   },
   {
    "duration": 85,
    "start_time": "2022-07-13T20:02:58.704Z"
   },
   {
    "duration": 68,
    "start_time": "2022-07-13T20:03:07.981Z"
   },
   {
    "duration": 147,
    "start_time": "2022-07-13T20:15:03.208Z"
   },
   {
    "duration": 108,
    "start_time": "2022-07-13T20:15:14.530Z"
   },
   {
    "duration": 4,
    "start_time": "2022-07-13T20:18:31.720Z"
   },
   {
    "duration": 11,
    "start_time": "2022-07-13T20:18:31.727Z"
   },
   {
    "duration": 719,
    "start_time": "2022-07-13T20:18:31.740Z"
   },
   {
    "duration": 82,
    "start_time": "2022-07-13T20:18:32.462Z"
   },
   {
    "duration": 91,
    "start_time": "2022-07-13T20:18:32.546Z"
   },
   {
    "duration": 79,
    "start_time": "2022-07-13T20:18:32.639Z"
   },
   {
    "duration": 95,
    "start_time": "2022-07-13T20:18:32.720Z"
   },
   {
    "duration": 77,
    "start_time": "2022-07-13T20:18:32.816Z"
   },
   {
    "duration": 84,
    "start_time": "2022-07-13T20:28:36.160Z"
   },
   {
    "duration": 68,
    "start_time": "2022-07-13T20:29:01.438Z"
   },
   {
    "duration": 60,
    "start_time": "2022-07-13T20:29:48.656Z"
   },
   {
    "duration": 7376,
    "start_time": "2022-07-13T20:33:30.668Z"
   },
   {
    "duration": 4,
    "start_time": "2022-07-13T20:33:38.046Z"
   },
   {
    "duration": 768,
    "start_time": "2022-07-13T20:33:38.052Z"
   },
   {
    "duration": 100,
    "start_time": "2022-07-13T20:33:38.821Z"
   },
   {
    "duration": 104,
    "start_time": "2022-07-13T20:33:38.923Z"
   },
   {
    "duration": 83,
    "start_time": "2022-07-13T20:33:39.030Z"
   },
   {
    "duration": 86,
    "start_time": "2022-07-13T20:33:39.115Z"
   },
   {
    "duration": 85,
    "start_time": "2022-07-13T20:33:39.203Z"
   },
   {
    "duration": 12963,
    "start_time": "2022-07-14T13:04:27.338Z"
   },
   {
    "duration": 2,
    "start_time": "2022-07-14T13:04:40.303Z"
   },
   {
    "duration": 671,
    "start_time": "2022-07-14T13:04:40.306Z"
   },
   {
    "duration": 73,
    "start_time": "2022-07-14T13:04:40.979Z"
   },
   {
    "duration": 89,
    "start_time": "2022-07-14T13:04:41.054Z"
   },
   {
    "duration": 72,
    "start_time": "2022-07-14T13:04:41.144Z"
   },
   {
    "duration": 77,
    "start_time": "2022-07-14T13:04:41.218Z"
   },
   {
    "duration": 73,
    "start_time": "2022-07-14T13:04:41.297Z"
   },
   {
    "duration": 472,
    "start_time": "2022-07-14T13:05:35.653Z"
   },
   {
    "duration": 420,
    "start_time": "2022-07-14T13:05:42.542Z"
   },
   {
    "duration": 109,
    "start_time": "2022-07-14T13:05:51.064Z"
   },
   {
    "duration": 76,
    "start_time": "2022-07-14T13:07:27.402Z"
   },
   {
    "duration": 48,
    "start_time": "2022-07-14T13:31:01.352Z"
   },
   {
    "duration": 8767,
    "start_time": "2022-07-14T13:31:11.126Z"
   },
   {
    "duration": 3,
    "start_time": "2022-07-14T13:31:19.895Z"
   },
   {
    "duration": 694,
    "start_time": "2022-07-14T13:31:19.900Z"
   },
   {
    "duration": 80,
    "start_time": "2022-07-14T13:31:20.596Z"
   },
   {
    "duration": 91,
    "start_time": "2022-07-14T13:31:20.678Z"
   },
   {
    "duration": 77,
    "start_time": "2022-07-14T13:31:20.770Z"
   },
   {
    "duration": 81,
    "start_time": "2022-07-14T13:31:20.849Z"
   },
   {
    "duration": 76,
    "start_time": "2022-07-14T13:31:20.932Z"
   },
   {
    "duration": 195,
    "start_time": "2022-07-14T13:37:20.143Z"
   },
   {
    "duration": 190,
    "start_time": "2022-07-14T13:37:41.209Z"
   },
   {
    "duration": 143,
    "start_time": "2022-07-14T13:40:31.455Z"
   },
   {
    "duration": 6907,
    "start_time": "2022-07-14T13:42:10.888Z"
   },
   {
    "duration": 3,
    "start_time": "2022-07-14T13:42:17.797Z"
   },
   {
    "duration": 706,
    "start_time": "2022-07-14T13:42:17.802Z"
   },
   {
    "duration": 73,
    "start_time": "2022-07-14T13:42:18.510Z"
   },
   {
    "duration": 191,
    "start_time": "2022-07-14T13:42:18.585Z"
   },
   {
    "duration": 0,
    "start_time": "2022-07-14T13:42:18.778Z"
   },
   {
    "duration": 0,
    "start_time": "2022-07-14T13:42:18.779Z"
   },
   {
    "duration": 0,
    "start_time": "2022-07-14T13:42:18.780Z"
   },
   {
    "duration": 137,
    "start_time": "2022-07-14T13:42:49.647Z"
   },
   {
    "duration": 110,
    "start_time": "2022-07-14T13:44:01.641Z"
   },
   {
    "duration": 166,
    "start_time": "2022-07-14T13:44:16.779Z"
   },
   {
    "duration": 89,
    "start_time": "2022-07-14T13:45:11.161Z"
   },
   {
    "duration": 152,
    "start_time": "2022-07-14T13:45:48.277Z"
   },
   {
    "duration": 160,
    "start_time": "2022-07-14T13:46:01.192Z"
   },
   {
    "duration": 90,
    "start_time": "2022-07-14T13:46:17.651Z"
   },
   {
    "duration": 174,
    "start_time": "2022-07-14T14:00:18.800Z"
   },
   {
    "duration": 206,
    "start_time": "2022-07-14T14:00:37.222Z"
   },
   {
    "duration": 109,
    "start_time": "2022-07-14T14:01:36.032Z"
   },
   {
    "duration": 107,
    "start_time": "2022-07-14T14:35:22.602Z"
   },
   {
    "duration": 201,
    "start_time": "2022-07-14T14:36:06.510Z"
   },
   {
    "duration": 2,
    "start_time": "2022-07-14T14:36:34.806Z"
   },
   {
    "duration": 104,
    "start_time": "2022-07-14T14:36:36.449Z"
   },
   {
    "duration": 105,
    "start_time": "2022-07-14T14:39:49.444Z"
   },
   {
    "duration": 109,
    "start_time": "2022-07-14T14:40:01.873Z"
   },
   {
    "duration": 75,
    "start_time": "2022-07-14T14:51:42.301Z"
   },
   {
    "duration": 82,
    "start_time": "2022-07-14T14:53:19.914Z"
   },
   {
    "duration": 81,
    "start_time": "2022-07-14T14:53:25.197Z"
   },
   {
    "duration": 77,
    "start_time": "2022-07-14T14:53:31.303Z"
   },
   {
    "duration": 78,
    "start_time": "2022-07-14T14:53:42.770Z"
   },
   {
    "duration": 181,
    "start_time": "2022-07-14T15:03:33.410Z"
   },
   {
    "duration": 159,
    "start_time": "2022-07-14T15:08:14.451Z"
   },
   {
    "duration": 151,
    "start_time": "2022-07-14T15:08:43.933Z"
   },
   {
    "duration": 78,
    "start_time": "2022-07-14T15:12:22.695Z"
   },
   {
    "duration": 107,
    "start_time": "2022-07-14T15:15:31.336Z"
   },
   {
    "duration": 142,
    "start_time": "2022-07-14T15:16:32.833Z"
   },
   {
    "duration": 152,
    "start_time": "2022-07-14T15:17:09.303Z"
   },
   {
    "duration": 138,
    "start_time": "2022-07-14T15:17:53.092Z"
   },
   {
    "duration": 148,
    "start_time": "2022-07-14T15:21:29.069Z"
   },
   {
    "duration": 90,
    "start_time": "2022-07-14T15:24:22.731Z"
   },
   {
    "duration": 106,
    "start_time": "2022-07-14T15:24:41.897Z"
   },
   {
    "duration": 141,
    "start_time": "2022-07-14T15:25:58.631Z"
   },
   {
    "duration": 91,
    "start_time": "2022-07-14T15:26:04.052Z"
   },
   {
    "duration": 58,
    "start_time": "2022-07-14T15:32:12.154Z"
   },
   {
    "duration": 76,
    "start_time": "2022-07-14T15:33:19.660Z"
   },
   {
    "duration": 76,
    "start_time": "2022-07-14T15:35:10.475Z"
   },
   {
    "duration": 94,
    "start_time": "2022-07-14T15:35:28.286Z"
   },
   {
    "duration": 89,
    "start_time": "2022-07-14T15:37:07.331Z"
   },
   {
    "duration": 86,
    "start_time": "2022-07-14T15:37:42.501Z"
   },
   {
    "duration": 75,
    "start_time": "2022-07-14T15:38:30.533Z"
   },
   {
    "duration": 82,
    "start_time": "2022-07-14T15:44:59.704Z"
   },
   {
    "duration": 79,
    "start_time": "2022-07-14T15:48:50.583Z"
   },
   {
    "duration": 80,
    "start_time": "2022-07-14T15:49:44.277Z"
   },
   {
    "duration": 144,
    "start_time": "2022-07-14T15:50:01.864Z"
   },
   {
    "duration": 90,
    "start_time": "2022-07-14T15:50:08.713Z"
   },
   {
    "duration": 3,
    "start_time": "2022-07-14T15:53:27.933Z"
   },
   {
    "duration": 78,
    "start_time": "2022-07-14T15:53:30.440Z"
   },
   {
    "duration": 78,
    "start_time": "2022-07-14T15:56:15.807Z"
   },
   {
    "duration": 85,
    "start_time": "2022-07-14T15:57:41.057Z"
   },
   {
    "duration": 81,
    "start_time": "2022-07-14T15:58:32.472Z"
   },
   {
    "duration": 160,
    "start_time": "2022-07-14T16:02:35.510Z"
   },
   {
    "duration": 202,
    "start_time": "2022-07-14T16:02:47.082Z"
   },
   {
    "duration": 78,
    "start_time": "2022-07-14T16:02:58.031Z"
   },
   {
    "duration": 80,
    "start_time": "2022-07-14T16:03:45.427Z"
   },
   {
    "duration": 77,
    "start_time": "2022-07-14T16:05:11.049Z"
   },
   {
    "duration": 78,
    "start_time": "2022-07-14T16:06:35.786Z"
   },
   {
    "duration": 78,
    "start_time": "2022-07-14T16:09:23.723Z"
   },
   {
    "duration": 77,
    "start_time": "2022-07-14T16:13:01.992Z"
   },
   {
    "duration": 86,
    "start_time": "2022-07-14T16:13:59.648Z"
   },
   {
    "duration": 78,
    "start_time": "2022-07-14T16:15:43.002Z"
   },
   {
    "duration": 79,
    "start_time": "2022-07-14T16:17:33.627Z"
   },
   {
    "duration": 105,
    "start_time": "2022-07-14T16:18:07.130Z"
   },
   {
    "duration": 89,
    "start_time": "2022-07-14T16:18:16.897Z"
   },
   {
    "duration": 77,
    "start_time": "2022-07-14T16:19:00.447Z"
   },
   {
    "duration": 77,
    "start_time": "2022-07-14T16:19:14.013Z"
   },
   {
    "duration": 79,
    "start_time": "2022-07-14T16:21:08.461Z"
   },
   {
    "duration": 84,
    "start_time": "2022-07-14T16:22:38.785Z"
   },
   {
    "duration": 160,
    "start_time": "2022-07-14T16:23:17.921Z"
   },
   {
    "duration": 79,
    "start_time": "2022-07-14T16:23:27.651Z"
   },
   {
    "duration": 80,
    "start_time": "2022-07-14T16:23:50.462Z"
   },
   {
    "duration": 92,
    "start_time": "2022-07-14T16:24:40.411Z"
   },
   {
    "duration": 79,
    "start_time": "2022-07-14T16:24:52.793Z"
   },
   {
    "duration": 77,
    "start_time": "2022-07-14T16:25:01.128Z"
   },
   {
    "duration": 84,
    "start_time": "2022-07-14T16:26:28.203Z"
   },
   {
    "duration": 80,
    "start_time": "2022-07-14T16:26:52.460Z"
   },
   {
    "duration": 80,
    "start_time": "2022-07-14T16:27:22.839Z"
   },
   {
    "duration": 79,
    "start_time": "2022-07-14T16:27:28.633Z"
   },
   {
    "duration": 77,
    "start_time": "2022-07-14T16:28:17.998Z"
   },
   {
    "duration": 77,
    "start_time": "2022-07-14T16:28:32.624Z"
   },
   {
    "duration": 5805,
    "start_time": "2022-07-14T16:30:46.659Z"
   },
   {
    "duration": 2,
    "start_time": "2022-07-14T16:30:52.466Z"
   },
   {
    "duration": 721,
    "start_time": "2022-07-14T16:30:52.470Z"
   },
   {
    "duration": 77,
    "start_time": "2022-07-14T16:30:53.193Z"
   },
   {
    "duration": 2,
    "start_time": "2022-07-14T16:30:53.273Z"
   },
   {
    "duration": 105,
    "start_time": "2022-07-14T16:30:53.277Z"
   },
   {
    "duration": 91,
    "start_time": "2022-07-14T16:30:53.383Z"
   },
   {
    "duration": 82,
    "start_time": "2022-07-14T16:30:53.475Z"
   },
   {
    "duration": 78,
    "start_time": "2022-07-14T16:30:53.559Z"
   },
   {
    "duration": 80,
    "start_time": "2022-07-14T16:30:53.639Z"
   },
   {
    "duration": 78,
    "start_time": "2022-07-14T16:30:53.721Z"
   },
   {
    "duration": 78,
    "start_time": "2022-07-14T16:30:53.801Z"
   },
   {
    "duration": 6820,
    "start_time": "2022-07-14T16:42:24.150Z"
   },
   {
    "duration": 3,
    "start_time": "2022-07-14T16:42:30.972Z"
   },
   {
    "duration": 723,
    "start_time": "2022-07-14T16:42:30.977Z"
   },
   {
    "duration": 80,
    "start_time": "2022-07-14T16:42:31.702Z"
   },
   {
    "duration": 3,
    "start_time": "2022-07-14T16:42:31.783Z"
   },
   {
    "duration": 98,
    "start_time": "2022-07-14T16:42:31.787Z"
   },
   {
    "duration": 85,
    "start_time": "2022-07-14T16:42:31.887Z"
   },
   {
    "duration": 79,
    "start_time": "2022-07-14T16:42:31.974Z"
   },
   {
    "duration": 81,
    "start_time": "2022-07-14T16:42:32.056Z"
   },
   {
    "duration": 77,
    "start_time": "2022-07-14T16:42:32.140Z"
   },
   {
    "duration": 78,
    "start_time": "2022-07-14T16:42:32.219Z"
   },
   {
    "duration": 85,
    "start_time": "2022-07-14T16:42:32.299Z"
   },
   {
    "duration": 126,
    "start_time": "2022-07-14T20:57:32.025Z"
   },
   {
    "duration": 68,
    "start_time": "2022-07-14T20:57:43.176Z"
   },
   {
    "duration": 11239,
    "start_time": "2022-07-14T20:58:22.506Z"
   },
   {
    "duration": 16,
    "start_time": "2022-07-14T20:58:33.747Z"
   },
   {
    "duration": 1253,
    "start_time": "2022-07-14T20:58:33.764Z"
   },
   {
    "duration": 115,
    "start_time": "2022-07-14T20:58:35.021Z"
   },
   {
    "duration": 4,
    "start_time": "2022-07-14T20:58:35.139Z"
   },
   {
    "duration": 199,
    "start_time": "2022-07-14T20:58:35.145Z"
   },
   {
    "duration": 118,
    "start_time": "2022-07-14T20:58:35.349Z"
   },
   {
    "duration": 153,
    "start_time": "2022-07-14T20:58:35.470Z"
   },
   {
    "duration": 113,
    "start_time": "2022-07-14T20:58:35.625Z"
   },
   {
    "duration": 146,
    "start_time": "2022-07-14T20:58:35.741Z"
   },
   {
    "duration": 138,
    "start_time": "2022-07-14T20:58:35.889Z"
   },
   {
    "duration": 145,
    "start_time": "2022-07-14T20:58:36.031Z"
   },
   {
    "duration": 155,
    "start_time": "2022-07-14T20:58:36.178Z"
   },
   {
    "duration": 169,
    "start_time": "2022-07-14T20:58:36.336Z"
   }
  ],
  "kernelspec": {
   "display_name": "Python 3 (ipykernel)",
   "language": "python",
   "name": "python3"
  },
  "language_info": {
   "codemirror_mode": {
    "name": "ipython",
    "version": 3
   },
   "file_extension": ".py",
   "mimetype": "text/x-python",
   "name": "python",
   "nbconvert_exporter": "python",
   "pygments_lexer": "ipython3",
   "version": "3.9.13"
  },
  "toc": {
   "base_numbering": 1,
   "nav_menu": {},
   "number_sections": true,
   "sideBar": true,
   "skip_h1_title": true,
   "title_cell": "Table of Contents",
   "title_sidebar": "Contents",
   "toc_cell": false,
   "toc_position": {
    "height": "calc(100% - 180px)",
    "left": "10px",
    "top": "150px",
    "width": "165px"
   },
   "toc_section_display": true,
   "toc_window_display": true
  }
 },
 "nbformat": 4,
 "nbformat_minor": 5
}
