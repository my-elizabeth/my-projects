{
 "cells": [
  {
   "cell_type": "markdown",
   "metadata": {
    "id": "Ml1hmfXC_Zcs"
   },
   "source": [
    "## Обзор данных"
   ]
  },
  {
   "cell_type": "code",
   "execution_count": 1,
   "metadata": {
    "id": "AXN7PHPN_Zcs"
   },
   "outputs": [],
   "source": [
    "import pandas as pd # импорт библиотеки pandas"
   ]
  },
  {
   "cell_type": "code",
   "execution_count": 3,
   "metadata": {
    "id": "oWTVX3gW_Zct"
   },
   "outputs": [
    {
     "data": {
      "text/html": [
       "<div>\n",
       "<style scoped>\n",
       "    .dataframe tbody tr th:only-of-type {\n",
       "        vertical-align: middle;\n",
       "    }\n",
       "\n",
       "    .dataframe tbody tr th {\n",
       "        vertical-align: top;\n",
       "    }\n",
       "\n",
       "    .dataframe thead th {\n",
       "        text-align: right;\n",
       "    }\n",
       "</style>\n",
       "<table border=\"1\" class=\"dataframe\">\n",
       "  <thead>\n",
       "    <tr style=\"text-align: right;\">\n",
       "      <th></th>\n",
       "      <th>userID</th>\n",
       "      <th>Track</th>\n",
       "      <th>artist</th>\n",
       "      <th>genre</th>\n",
       "      <th>City</th>\n",
       "      <th>time</th>\n",
       "      <th>Day</th>\n",
       "    </tr>\n",
       "  </thead>\n",
       "  <tbody>\n",
       "    <tr>\n",
       "      <th>0</th>\n",
       "      <td>FFB692EC</td>\n",
       "      <td>Kamigata To Boots</td>\n",
       "      <td>The Mass Missile</td>\n",
       "      <td>rock</td>\n",
       "      <td>Saint-Petersburg</td>\n",
       "      <td>20:28:33</td>\n",
       "      <td>Wednesday</td>\n",
       "    </tr>\n",
       "    <tr>\n",
       "      <th>1</th>\n",
       "      <td>55204538</td>\n",
       "      <td>Delayed Because of Accident</td>\n",
       "      <td>Andreas Rönnberg</td>\n",
       "      <td>rock</td>\n",
       "      <td>Moscow</td>\n",
       "      <td>14:07:09</td>\n",
       "      <td>Friday</td>\n",
       "    </tr>\n",
       "    <tr>\n",
       "      <th>2</th>\n",
       "      <td>20EC38</td>\n",
       "      <td>Funiculì funiculà</td>\n",
       "      <td>Mario Lanza</td>\n",
       "      <td>pop</td>\n",
       "      <td>Saint-Petersburg</td>\n",
       "      <td>20:58:07</td>\n",
       "      <td>Wednesday</td>\n",
       "    </tr>\n",
       "    <tr>\n",
       "      <th>3</th>\n",
       "      <td>A3DD03C9</td>\n",
       "      <td>Dragons in the Sunset</td>\n",
       "      <td>Fire + Ice</td>\n",
       "      <td>folk</td>\n",
       "      <td>Saint-Petersburg</td>\n",
       "      <td>08:37:09</td>\n",
       "      <td>Monday</td>\n",
       "    </tr>\n",
       "    <tr>\n",
       "      <th>4</th>\n",
       "      <td>E2DC1FAE</td>\n",
       "      <td>Soul People</td>\n",
       "      <td>Space Echo</td>\n",
       "      <td>dance</td>\n",
       "      <td>Moscow</td>\n",
       "      <td>08:34:34</td>\n",
       "      <td>Monday</td>\n",
       "    </tr>\n",
       "  </tbody>\n",
       "</table>\n",
       "</div>"
      ],
      "text/plain": [
       "     userID                        Track            artist  genre  \\\n",
       "0  FFB692EC            Kamigata To Boots  The Mass Missile   rock   \n",
       "1  55204538  Delayed Because of Accident  Andreas Rönnberg   rock   \n",
       "2    20EC38            Funiculì funiculà       Mario Lanza    pop   \n",
       "3  A3DD03C9        Dragons in the Sunset        Fire + Ice   folk   \n",
       "4  E2DC1FAE                  Soul People        Space Echo  dance   \n",
       "\n",
       "             City        time        Day  \n",
       "0  Saint-Petersburg  20:28:33  Wednesday  \n",
       "1            Moscow  14:07:09     Friday  \n",
       "2  Saint-Petersburg  20:58:07  Wednesday  \n",
       "3  Saint-Petersburg  08:37:09     Monday  \n",
       "4            Moscow  08:34:34     Monday  "
      ]
     },
     "execution_count": 3,
     "metadata": {},
     "output_type": "execute_result"
    }
   ],
   "source": [
    "df.head() # получение первых 5 строк таблицы df"
   ]
  },
  {
   "cell_type": "code",
   "execution_count": 4,
   "metadata": {
    "id": "DSf2kIb-_Zct",
    "scrolled": true
   },
   "outputs": [
    {
     "name": "stdout",
     "output_type": "stream",
     "text": [
      "<class 'pandas.core.frame.DataFrame'>\n",
      "RangeIndex: 65079 entries, 0 to 65078\n",
      "Data columns (total 7 columns):\n",
      " #   Column    Non-Null Count  Dtype \n",
      "---  ------    --------------  ----- \n",
      " 0     userID  65079 non-null  object\n",
      " 1   Track     63848 non-null  object\n",
      " 2   artist    57876 non-null  object\n",
      " 3   genre     63881 non-null  object\n",
      " 4     City    65079 non-null  object\n",
      " 5   time      65079 non-null  object\n",
      " 6   Day       65079 non-null  object\n",
      "dtypes: object(7)\n",
      "memory usage: 3.5+ MB\n"
     ]
    }
   ],
   "source": [
    "df.info() # получение общей информации о данных в таблице df"
   ]
  },
  {
   "cell_type": "markdown",
   "metadata": {
    "id": "TaQ2Iwbr_Zct"
   },
   "source": [
    "Структура файла:\n",
    "* `userID` — идентификатор пользователя;\n",
    "* `Track` — название трека;  \n",
    "* `artist` — имя исполнителя;\n",
    "* `genre` — жанр;\n",
    "* `City` — город;\n",
    "* `time` — время начала прослушивания;\n",
    "* `Day` — день недели.\n",
    "\n",
    "Тип данных во всех слолбцах — `object`.\n",
    "\n",
    "В названиях колонок видны нарушения стиля:\n",
    "\n",
    "1. Строчные буквы сочетаются с прописными.\n",
    "2. Встречаются пробелы.\n",
    "3. Из названия столбца 'time' не понятно, о каком именно времени идет речь.\n",
    "4. В названии колонки 'userID' пропущен пробел, не спользован змеиный регистр.\n",
    "\n",
    "Количество значений в столбцах различается. Значит, в данных есть пропущенные значения.\n"
   ]
  },
  {
   "cell_type": "markdown",
   "metadata": {
    "id": "MCB6-dXG_Zct"
   },
   "source": [
    "**Выводы**\n",
    "\n",
    "Строки содержат информацию о прослушивании трека (характеристики трека и ползователя, его прослушавшего).\n",
    "\n",
    "Предварительно можно утверждать, что, данных достаточно для проверки гипотез. Но встречаются пропуски в данных, а в названиях колонок — расхождения с хорошим стилем. \n",
    "\n",
    "Необходимо выполнить предобработку данных. "
   ]
  },
  {
   "cell_type": "markdown",
   "metadata": {
    "id": "SjYF6Ub9_Zct"
   },
   "source": [
    "## Предобработка данных"
   ]
  },
  {
   "cell_type": "markdown",
   "metadata": {
    "id": "dIaKXr29_Zct"
   },
   "source": [
    "### Стиль заголовков"
   ]
  },
  {
   "cell_type": "code",
   "execution_count": 5,
   "metadata": {
    "id": "oKOTdF_Q_Zct"
   },
   "outputs": [
    {
     "data": {
      "text/plain": [
       "Index(['  userID', 'Track', 'artist', 'genre', '  City  ', 'time', 'Day'], dtype='object')"
      ]
     },
     "execution_count": 5,
     "metadata": {},
     "output_type": "execute_result"
    }
   ],
   "source": [
    " df.columns # названия столбцов "
   ]
  },
  {
   "cell_type": "markdown",
   "metadata": {
    "id": "zj5534cv_Zct"
   },
   "source": [
    "Приведем названия в соответствие с хорошим стилем"
   ]
  },
  {
   "cell_type": "code",
   "execution_count": 6,
   "metadata": {
    "id": "ISlFqs5y_Zct"
   },
   "outputs": [],
   "source": [
    "df = df.rename(columns={'  userID':'user_id', 'Track': 'track', '  City  ':'city', 'time': 'time_start', 'Day': 'day'}) # переименование столбцов"
   ]
  },
  {
   "cell_type": "code",
   "execution_count": 7,
   "metadata": {
    "id": "d4NOAmTW_Zct"
   },
   "outputs": [
    {
     "data": {
      "text/plain": [
       "Index(['user_id', 'track', 'artist', 'genre', 'city', 'time_start', 'day'], dtype='object')"
      ]
     },
     "execution_count": 7,
     "metadata": {},
     "output_type": "execute_result"
    }
   ],
   "source": [
    "df.columns # проверка"
   ]
  },
  {
   "cell_type": "markdown",
   "metadata": {
    "id": "5ISfbcfY_Zct"
   },
   "source": [
    "### Пропущенные значения"
   ]
  },
  {
   "cell_type": "code",
   "execution_count": 8,
   "metadata": {
    "id": "RskX29qr_Zct"
   },
   "outputs": [
    {
     "data": {
      "text/plain": [
       "user_id          0\n",
       "track         1231\n",
       "artist        7203\n",
       "genre         1198\n",
       "city             0\n",
       "time_start       0\n",
       "day              0\n",
       "dtype: int64"
      ]
     },
     "execution_count": 8,
     "metadata": {},
     "output_type": "execute_result"
    }
   ],
   "source": [
    "df.isna().sum() # подсчёт пропусков"
   ]
  },
  {
   "cell_type": "code",
   "execution_count": 9,
   "metadata": {
    "id": "KplB5qWs_Zct"
   },
   "outputs": [],
   "source": [
    "#заменим пропущенные значения в столбцах track, artist и genre на строку 'unknown', \n",
    "#пропуски в track и artist не влияют на исследование, а причину продусков в genre установить не возможно в рамках проекта\n",
    "columns_to_replace = ['track', 'artist', 'genre']\n",
    "for column in columns_to_replace:\n",
    "    df[column] =  df[column].fillna('unknown')\n",
    "# перебор названий столбцов в цикле и замена пропущенных значений на 'unknown'"
   ]
  },
  {
   "cell_type": "code",
   "execution_count": 10,
   "metadata": {
    "id": "Tq4nYRX4_Zct"
   },
   "outputs": [
    {
     "data": {
      "text/plain": [
       "user_id       0\n",
       "track         0\n",
       "artist        0\n",
       "genre         0\n",
       "city          0\n",
       "time_start    0\n",
       "day           0\n",
       "dtype: int64"
      ]
     },
     "execution_count": 10,
     "metadata": {},
     "output_type": "execute_result"
    }
   ],
   "source": [
    "df.isna().sum() # подсчёт пропусков после"
   ]
  },
  {
   "cell_type": "markdown",
   "metadata": {
    "id": "BWKRtBJ3_Zct"
   },
   "source": [
    "### Дубликаты"
   ]
  },
  {
   "cell_type": "code",
   "execution_count": 11,
   "metadata": {
    "id": "36eES_S0_Zct"
   },
   "outputs": [
    {
     "data": {
      "text/plain": [
       "3826"
      ]
     },
     "execution_count": 11,
     "metadata": {},
     "output_type": "execute_result"
    }
   ],
   "source": [
    "df.duplicated().sum() # подсчёт явных дубликатов"
   ]
  },
  {
   "cell_type": "code",
   "execution_count": 12,
   "metadata": {
    "id": "exFHq6tt_Zct"
   },
   "outputs": [],
   "source": [
    "df = df.drop_duplicates().reset_index(drop = True) # удаление явных дубликатов (с удалением старых индексов и формированием новых)"
   ]
  },
  {
   "cell_type": "code",
   "execution_count": 13,
   "metadata": {
    "id": "-8PuNWQ0_Zct"
   },
   "outputs": [
    {
     "data": {
      "text/plain": [
       "0"
      ]
     },
     "execution_count": 13,
     "metadata": {},
     "output_type": "execute_result"
    }
   ],
   "source": [
    "df.duplicated().sum() # проверка "
   ]
  },
  {
   "cell_type": "markdown",
   "metadata": {
    "id": "QlFBsxAr_Zct"
   },
   "source": [
    "Избавимся от неявных дубликатов в колонке `genre`."
   ]
  },
  {
   "cell_type": "code",
   "execution_count": 14,
   "metadata": {
    "id": "JIUcqzZN_Zct"
   },
   "outputs": [
    {
     "data": {
      "text/plain": [
       "array(['acid', 'acoustic', 'action', 'adult', 'africa', 'afrikaans',\n",
       "       'alternative', 'alternativepunk', 'ambient', 'americana',\n",
       "       'animated', 'anime', 'arabesk', 'arabic', 'arena',\n",
       "       'argentinetango', 'art', 'audiobook', 'author', 'avantgarde',\n",
       "       'axé', 'baile', 'balkan', 'beats', 'bigroom', 'black', 'bluegrass',\n",
       "       'blues', 'bollywood', 'bossa', 'brazilian', 'breakbeat', 'breaks',\n",
       "       'broadway', 'cantautori', 'cantopop', 'canzone', 'caribbean',\n",
       "       'caucasian', 'celtic', 'chamber', 'chanson', 'children', 'chill',\n",
       "       'chinese', 'choral', 'christian', 'christmas', 'classical',\n",
       "       'classicmetal', 'club', 'colombian', 'comedy', 'conjazz',\n",
       "       'contemporary', 'country', 'cuban', 'dance', 'dancehall',\n",
       "       'dancepop', 'dark', 'death', 'deep', 'deutschrock', 'deutschspr',\n",
       "       'dirty', 'disco', 'dnb', 'documentary', 'downbeat', 'downtempo',\n",
       "       'drum', 'dub', 'dubstep', 'eastern', 'easy', 'electronic',\n",
       "       'electropop', 'emo', 'entehno', 'epicmetal', 'estrada', 'ethnic',\n",
       "       'eurofolk', 'european', 'experimental', 'extrememetal', 'fado',\n",
       "       'fairytail', 'film', 'fitness', 'flamenco', 'folk', 'folklore',\n",
       "       'folkmetal', 'folkrock', 'folktronica', 'forró', 'frankreich',\n",
       "       'französisch', 'french', 'funk', 'future', 'gangsta', 'garage',\n",
       "       'german', 'ghazal', 'gitarre', 'glitch', 'gospel', 'gothic',\n",
       "       'grime', 'grunge', 'gypsy', 'handsup', \"hard'n'heavy\", 'hardcore',\n",
       "       'hardstyle', 'hardtechno', 'hip', 'hip-hop', 'hiphop',\n",
       "       'historisch', 'holiday', 'hop', 'horror', 'house', 'hymn', 'idm',\n",
       "       'independent', 'indian', 'indie', 'indipop', 'industrial',\n",
       "       'inspirational', 'instrumental', 'international', 'irish', 'jam',\n",
       "       'japanese', 'jazz', 'jewish', 'jpop', 'jungle', 'k-pop',\n",
       "       'karadeniz', 'karaoke', 'kayokyoku', 'korean', 'laiko', 'latin',\n",
       "       'latino', 'leftfield', 'local', 'lounge', 'loungeelectronic',\n",
       "       'lovers', 'malaysian', 'mandopop', 'marschmusik', 'meditative',\n",
       "       'mediterranean', 'melodic', 'metal', 'metalcore', 'mexican',\n",
       "       'middle', 'minimal', 'miscellaneous', 'modern', 'mood', 'mpb',\n",
       "       'muslim', 'native', 'neoklassik', 'neue', 'new', 'newage',\n",
       "       'newwave', 'nu', 'nujazz', 'numetal', 'oceania', 'old', 'opera',\n",
       "       'orchestral', 'other', 'piano', 'podcasts', 'pop', 'popdance',\n",
       "       'popelectronic', 'popeurodance', 'poprussian', 'post',\n",
       "       'posthardcore', 'postrock', 'power', 'progmetal', 'progressive',\n",
       "       'psychedelic', 'punjabi', 'punk', 'quebecois', 'ragga', 'ram',\n",
       "       'rancheras', 'rap', 'rave', 'reggae', 'reggaeton', 'regional',\n",
       "       'relax', 'religious', 'retro', 'rhythm', 'rnb', 'rnr', 'rock',\n",
       "       'rockabilly', 'rockalternative', 'rockindie', 'rockother',\n",
       "       'romance', 'roots', 'ruspop', 'rusrap', 'rusrock', 'russian',\n",
       "       'salsa', 'samba', 'scenic', 'schlager', 'self', 'sertanejo',\n",
       "       'shanson', 'shoegazing', 'showtunes', 'singer', 'ska', 'skarock',\n",
       "       'slow', 'smooth', 'soft', 'soul', 'soulful', 'sound', 'soundtrack',\n",
       "       'southern', 'specialty', 'speech', 'spiritual', 'sport',\n",
       "       'stonerrock', 'surf', 'swing', 'synthpop', 'synthrock',\n",
       "       'sängerportrait', 'tango', 'tanzorchester', 'taraftar', 'tatar',\n",
       "       'tech', 'techno', 'teen', 'thrash', 'top', 'traditional',\n",
       "       'tradjazz', 'trance', 'tribal', 'trip', 'triphop', 'tropical',\n",
       "       'türk', 'türkçe', 'ukrrock', 'unknown', 'urban', 'uzbek',\n",
       "       'variété', 'vi', 'videogame', 'vocal', 'western', 'world',\n",
       "       'worldbeat', 'ïîï', 'электроника'], dtype=object)"
      ]
     },
     "execution_count": 14,
     "metadata": {},
     "output_type": "execute_result"
    }
   ],
   "source": [
    "#Просмотр уникальных названий жанров\n",
    "df['genre'].sort_values().unique()"
   ]
  },
  {
   "cell_type": "markdown",
   "metadata": {},
   "source": [
    "В списке названий жанров есть неявные дубликаты названия hiphop (hip, hiphop, hop). Напишу функцию для их замены. "
   ]
  },
  {
   "cell_type": "code",
   "execution_count": 15,
   "metadata": {
    "id": "ErNDkmns_Zct"
   },
   "outputs": [],
   "source": [
    "#функция для замены неявных дубликатов\n",
    "def replace_wrong_genres(wrong_genres,correct_genre):\n",
    "    for wrong_genre in wrong_genres:\n",
    "        df['genre'] = df['genre'].replace(wrong_genre, correct_genre)    "
   ]
  },
  {
   "cell_type": "code",
   "execution_count": 16,
   "metadata": {
    "id": "YN5i2hpmSo09"
   },
   "outputs": [],
   "source": [
    "#устраню неявные дубликаты\n",
    "duplicates = ['hip', 'hop', 'hip-hop']\n",
    "correct = 'hiphop'\n",
    "replace_wrong_genres(duplicates, correct)"
   ]
  },
  {
   "cell_type": "code",
   "execution_count": 17,
   "metadata": {
    "id": "wvixALnFG15m"
   },
   "outputs": [
    {
     "name": "stdout",
     "output_type": "stream",
     "text": [
      "['acid' 'acoustic' 'action' 'adult' 'africa' 'afrikaans' 'alternative'\n",
      " 'alternativepunk' 'ambient' 'americana' 'animated' 'anime' 'arabesk'\n",
      " 'arabic' 'arena' 'argentinetango' 'art' 'audiobook' 'author' 'avantgarde'\n",
      " 'axé' 'baile' 'balkan' 'beats' 'bigroom' 'black' 'bluegrass' 'blues'\n",
      " 'bollywood' 'bossa' 'brazilian' 'breakbeat' 'breaks' 'broadway'\n",
      " 'cantautori' 'cantopop' 'canzone' 'caribbean' 'caucasian' 'celtic'\n",
      " 'chamber' 'chanson' 'children' 'chill' 'chinese' 'choral' 'christian'\n",
      " 'christmas' 'classical' 'classicmetal' 'club' 'colombian' 'comedy'\n",
      " 'conjazz' 'contemporary' 'country' 'cuban' 'dance' 'dancehall' 'dancepop'\n",
      " 'dark' 'death' 'deep' 'deutschrock' 'deutschspr' 'dirty' 'disco' 'dnb'\n",
      " 'documentary' 'downbeat' 'downtempo' 'drum' 'dub' 'dubstep' 'eastern'\n",
      " 'easy' 'electronic' 'electropop' 'emo' 'entehno' 'epicmetal' 'estrada'\n",
      " 'ethnic' 'eurofolk' 'european' 'experimental' 'extrememetal' 'fado'\n",
      " 'fairytail' 'film' 'fitness' 'flamenco' 'folk' 'folklore' 'folkmetal'\n",
      " 'folkrock' 'folktronica' 'forró' 'frankreich' 'französisch' 'french'\n",
      " 'funk' 'future' 'gangsta' 'garage' 'german' 'ghazal' 'gitarre' 'glitch'\n",
      " 'gospel' 'gothic' 'grime' 'grunge' 'gypsy' 'handsup' \"hard'n'heavy\"\n",
      " 'hardcore' 'hardstyle' 'hardtechno' 'hiphop' 'historisch' 'holiday'\n",
      " 'horror' 'house' 'hymn' 'idm' 'independent' 'indian' 'indie' 'indipop'\n",
      " 'industrial' 'inspirational' 'instrumental' 'international' 'irish' 'jam'\n",
      " 'japanese' 'jazz' 'jewish' 'jpop' 'jungle' 'k-pop' 'karadeniz' 'karaoke'\n",
      " 'kayokyoku' 'korean' 'laiko' 'latin' 'latino' 'leftfield' 'local'\n",
      " 'lounge' 'loungeelectronic' 'lovers' 'malaysian' 'mandopop' 'marschmusik'\n",
      " 'meditative' 'mediterranean' 'melodic' 'metal' 'metalcore' 'mexican'\n",
      " 'middle' 'minimal' 'miscellaneous' 'modern' 'mood' 'mpb' 'muslim'\n",
      " 'native' 'neoklassik' 'neue' 'new' 'newage' 'newwave' 'nu' 'nujazz'\n",
      " 'numetal' 'oceania' 'old' 'opera' 'orchestral' 'other' 'piano' 'podcasts'\n",
      " 'pop' 'popdance' 'popelectronic' 'popeurodance' 'poprussian' 'post'\n",
      " 'posthardcore' 'postrock' 'power' 'progmetal' 'progressive' 'psychedelic'\n",
      " 'punjabi' 'punk' 'quebecois' 'ragga' 'ram' 'rancheras' 'rap' 'rave'\n",
      " 'reggae' 'reggaeton' 'regional' 'relax' 'religious' 'retro' 'rhythm'\n",
      " 'rnb' 'rnr' 'rock' 'rockabilly' 'rockalternative' 'rockindie' 'rockother'\n",
      " 'romance' 'roots' 'ruspop' 'rusrap' 'rusrock' 'russian' 'salsa' 'samba'\n",
      " 'scenic' 'schlager' 'self' 'sertanejo' 'shanson' 'shoegazing' 'showtunes'\n",
      " 'singer' 'ska' 'skarock' 'slow' 'smooth' 'soft' 'soul' 'soulful' 'sound'\n",
      " 'soundtrack' 'southern' 'specialty' 'speech' 'spiritual' 'sport'\n",
      " 'stonerrock' 'surf' 'swing' 'synthpop' 'synthrock' 'sängerportrait'\n",
      " 'tango' 'tanzorchester' 'taraftar' 'tatar' 'tech' 'techno' 'teen'\n",
      " 'thrash' 'top' 'traditional' 'tradjazz' 'trance' 'tribal' 'trip'\n",
      " 'triphop' 'tropical' 'türk' 'türkçe' 'ukrrock' 'unknown' 'urban' 'uzbek'\n",
      " 'variété' 'vi' 'videogame' 'vocal' 'western' 'world' 'worldbeat' 'ïîï'\n",
      " 'электроника']\n"
     ]
    }
   ],
   "source": [
    "print(df['genre'].sort_values().unique()) #проверка"
   ]
  },
  {
   "cell_type": "markdown",
   "metadata": {
    "id": "jz6a9-7HQUDd"
   },
   "source": [
    "**Выводы**\n",
    "\n",
    "Выполнена предобработка данных, было обнаружено три проблемы в данных:\n",
    "\n",
    "- нарушения в стиле заголовков,\n",
    "- пропущенные значения,\n",
    "- дубликаты — явные и неявные. \n",
    "\n",
    "Можно приступать к проверке гипотез. "
   ]
  },
  {
   "cell_type": "markdown",
   "metadata": {
    "id": "WttZHXH0SqKk"
   },
   "source": [
    "## Проверка гипотез"
   ]
  },
  {
   "cell_type": "markdown",
   "metadata": {
    "id": "Im936VVi_Zcu"
   },
   "source": [
    "### Сравнение поведения пользователей двух столиц"
   ]
  },
  {
   "cell_type": "markdown",
   "metadata": {
    "id": "nwt_MuaL_Zcu"
   },
   "source": [
    "Первая гипотеза: пользователи по-разному слушают музыку в Москве и Санкт-Петербурге. \n",
    "Проверим это предположение по данным о трёх днях недели — понедельнике, среде и пятнице.\n",
    "Для этого:"
   ]
  },
  {
   "cell_type": "code",
   "execution_count": 18,
   "metadata": {
    "id": "0_Qs96oh_Zcu"
   },
   "outputs": [
    {
     "data": {
      "text/plain": [
       "city\n",
       "Moscow              42741\n",
       "Saint-Petersburg    18512\n",
       "Name: track, dtype: int64"
      ]
     },
     "metadata": {},
     "output_type": "display_data"
    }
   ],
   "source": [
    "#посчитаю число прослушиваний в каждом городе\n",
    "df_group_city = df.groupby('city')['track'].count()\n",
    "display(df_group_city)\n"
   ]
  },
  {
   "cell_type": "markdown",
   "metadata": {
    "id": "dzli3w8o_Zcu"
   },
   "source": [
    "В Москве прослушиваний больше, чем в Петербурге, но и пользователей в Москве больше."
   ]
  },
  {
   "cell_type": "code",
   "execution_count": 19,
   "metadata": {
    "id": "uZMKjiJz_Zcu"
   },
   "outputs": [
    {
     "data": {
      "text/plain": [
       "day\n",
       "Friday       21840\n",
       "Monday       21354\n",
       "Wednesday    18059\n",
       "Name: track, dtype: int64"
      ]
     },
     "metadata": {},
     "output_type": "display_data"
    }
   ],
   "source": [
    "#посчитаю число прослушиваний в каждый из трёх дней\n",
    "df_group_day = df.groupby('day')['track'].count()\n",
    "display(df_group_day)"
   ]
  },
  {
   "cell_type": "markdown",
   "metadata": {
    "id": "cC2tNrlL_Zcu"
   },
   "source": [
    "В среднем пользователи из двух городов менее активны по средам. Но необходимо посмотреть города по отдельности."
   ]
  },
  {
   "cell_type": "code",
   "execution_count": 20,
   "metadata": {
    "id": "Nz3GdQB1_Zcu"
   },
   "outputs": [],
   "source": [
    "#функция для подсчета прослушивания для заданного дня и города.\n",
    "def number_tracks(day, city): \n",
    "    track_list = df[df['day'] == day]\n",
    "    track_list = track_list[track_list['city'] == city]\n",
    "    track_list_count = track_list['user_id'].count()\n",
    "    return track_list_count"
   ]
  },
  {
   "cell_type": "code",
   "execution_count": 21,
   "metadata": {
    "id": "rJcRATNQ_Zcu"
   },
   "outputs": [
    {
     "data": {
      "text/plain": [
       "15740"
      ]
     },
     "execution_count": 21,
     "metadata": {},
     "output_type": "execute_result"
    }
   ],
   "source": [
    "number_tracks('Monday', 'Moscow') # количество прослушиваний в Москве по понедельникам"
   ]
  },
  {
   "cell_type": "code",
   "execution_count": 22,
   "metadata": {
    "id": "hq_ncZ5T_Zcu"
   },
   "outputs": [
    {
     "data": {
      "text/plain": [
       "5614"
      ]
     },
     "execution_count": 22,
     "metadata": {},
     "output_type": "execute_result"
    }
   ],
   "source": [
    "number_tracks('Monday', 'Saint-Petersburg')# количество прослушиваний в Санкт-Петербурге по понедельникам"
   ]
  },
  {
   "cell_type": "code",
   "execution_count": 23,
   "metadata": {
    "id": "_NTy2VPU_Zcu"
   },
   "outputs": [
    {
     "data": {
      "text/plain": [
       "11056"
      ]
     },
     "execution_count": 23,
     "metadata": {},
     "output_type": "execute_result"
    }
   ],
   "source": [
    "number_tracks('Wednesday', 'Moscow')# количество прослушиваний в Москве по средам"
   ]
  },
  {
   "cell_type": "code",
   "execution_count": 24,
   "metadata": {
    "id": "j2y3TAwo_Zcu"
   },
   "outputs": [
    {
     "data": {
      "text/plain": [
       "7003"
      ]
     },
     "execution_count": 24,
     "metadata": {},
     "output_type": "execute_result"
    }
   ],
   "source": [
    "number_tracks('Wednesday', 'Saint-Petersburg')# количество прослушиваний в Санкт-Петербурге по средам"
   ]
  },
  {
   "cell_type": "code",
   "execution_count": 25,
   "metadata": {
    "id": "vYDw5u_K_Zcu"
   },
   "outputs": [
    {
     "data": {
      "text/plain": [
       "15945"
      ]
     },
     "execution_count": 25,
     "metadata": {},
     "output_type": "execute_result"
    }
   ],
   "source": [
    "number_tracks('Friday', 'Moscow')# количество прослушиваний в Москве по пятницам"
   ]
  },
  {
   "cell_type": "code",
   "execution_count": 26,
   "metadata": {
    "id": "8_yzFtW3_Zcu"
   },
   "outputs": [
    {
     "data": {
      "text/plain": [
       "5895"
      ]
     },
     "execution_count": 26,
     "metadata": {},
     "output_type": "execute_result"
    }
   ],
   "source": [
    "number_tracks('Friday', 'Saint-Petersburg')# количество прослушиваний в Санкт-Петербурге по пятницам"
   ]
  },
  {
   "cell_type": "code",
   "execution_count": 27,
   "metadata": {
    "id": "APAcLpOr_Zcu"
   },
   "outputs": [
    {
     "data": {
      "text/html": [
       "<div>\n",
       "<style scoped>\n",
       "    .dataframe tbody tr th:only-of-type {\n",
       "        vertical-align: middle;\n",
       "    }\n",
       "\n",
       "    .dataframe tbody tr th {\n",
       "        vertical-align: top;\n",
       "    }\n",
       "\n",
       "    .dataframe thead th {\n",
       "        text-align: right;\n",
       "    }\n",
       "</style>\n",
       "<table border=\"1\" class=\"dataframe\">\n",
       "  <thead>\n",
       "    <tr style=\"text-align: right;\">\n",
       "      <th></th>\n",
       "      <th>city</th>\n",
       "      <th>monday</th>\n",
       "      <th>wednesday</th>\n",
       "      <th>friday</th>\n",
       "    </tr>\n",
       "  </thead>\n",
       "  <tbody>\n",
       "    <tr>\n",
       "      <th>0</th>\n",
       "      <td>Moscow</td>\n",
       "      <td>15740</td>\n",
       "      <td>11056</td>\n",
       "      <td>15945</td>\n",
       "    </tr>\n",
       "    <tr>\n",
       "      <th>1</th>\n",
       "      <td>Saint-Petersburg</td>\n",
       "      <td>5614</td>\n",
       "      <td>7003</td>\n",
       "      <td>5895</td>\n",
       "    </tr>\n",
       "  </tbody>\n",
       "</table>\n",
       "</div>"
      ],
      "text/plain": [
       "               city  monday  wednesday  friday\n",
       "0            Moscow   15740      11056   15945\n",
       "1  Saint-Petersburg    5614       7003    5895"
      ]
     },
     "execution_count": 27,
     "metadata": {},
     "output_type": "execute_result"
    }
   ],
   "source": [
    "#создам таблицу по полученным данным\n",
    "data = [\n",
    "    ['Moscow', 15740, 11056, 15945],\n",
    "    ['Saint-Petersburg', 5614, 7003, 5895]\n",
    "]\n",
    "columns = ['city', 'monday', 'wednesday', 'friday']\n",
    "pd.DataFrame(data = data, columns = columns) # Таблица с результатами"
   ]
  },
  {
   "cell_type": "markdown",
   "metadata": {
    "id": "-EgPIHYu_Zcu"
   },
   "source": [
    "**Выводы**\n",
    "\n",
    "Данные показывают разницу поведения пользователей:\n",
    "\n",
    "- В Москве больше прослушиваний в понедельник и пятницу.\n",
    "- В Петербурге, наоборот, больше всего прослушаваний по средам. Активность в понедельник и пятницу здесь почти в равной мере уступает среде.\n",
    "\n",
    "Значит, можно предположить, что гипотеза верна. Пользователи по-разному слушают музыку в Москве и Санкт-Петербурге."
   ]
  },
  {
   "cell_type": "markdown",
   "metadata": {
    "id": "atZAxtq4_Zcu"
   },
   "source": [
    "### Музыка в начале и в конце недели"
   ]
  },
  {
   "cell_type": "markdown",
   "metadata": {
    "id": "eXrQqXFH_Zcu"
   },
   "source": [
    "Вторая гипотеза: утром в понедельник в Москве преобладают одни жанры, а в Петербурге — другие. Так же и вечером пятницы преобладают разные жанры — в зависимости от города."
   ]
  },
  {
   "cell_type": "code",
   "execution_count": 28,
   "metadata": {
    "id": "qeaFfM_P_Zcu"
   },
   "outputs": [],
   "source": [
    "# получение таблицы moscow_general из тех строк таблицы df, для которых значение в столбце 'city' равно 'Moscow'\n",
    "moscow_general = df[df['city'] == 'Moscow']"
   ]
  },
  {
   "cell_type": "code",
   "execution_count": 29,
   "metadata": {
    "id": "ORaVRKto_Zcu"
   },
   "outputs": [],
   "source": [
    "# получение таблицы spb_general из тех строк таблицы df, для которых значение в столбце 'city' равно 'Saint-Petersburg'\n",
    "spb_general = df[df['city'] == 'Saint-Petersburg']"
   ]
  },
  {
   "cell_type": "code",
   "execution_count": 30,
   "metadata": {
    "id": "laJT9BYl_Zcu"
   },
   "outputs": [],
   "source": [
    "#функция для получения информации о топ-10 жанров тех треков, которые прослушивали в указанный день, в промежутке между двумя отметками времени.\n",
    "def genre_weekday(table, day, time1, time2):\n",
    "    genre_df = table[table['day'] == day]\n",
    "    genre_df = genre_df[genre_df['time_start'] > time1]\n",
    "    genre_df = genre_df[genre_df['time_start'] < time2]  \n",
    "\n",
    "    genre_df_count = genre_df.groupby('genre')['track'].count()\n",
    "\n",
    "    genre_df_sorted = genre_df_count.sort_values(ascending = False)\n",
    "    return genre_df_sorted.head(10)"
   ]
  },
  {
   "cell_type": "markdown",
   "metadata": {
    "id": "la2s2_PF_Zcu"
   },
   "source": [
    "Cравним результаты функции `genre_weekday()` для Москвы и Санкт-Петербурга в понедельник утром (с 7:00 до 11:00) и в пятницу вечером (с 17:00 до 23:00):"
   ]
  },
  {
   "cell_type": "code",
   "execution_count": 31,
   "metadata": {
    "id": "yz7itPUQ_Zcu"
   },
   "outputs": [
    {
     "data": {
      "text/plain": [
       "genre\n",
       "pop            781\n",
       "dance          549\n",
       "electronic     480\n",
       "rock           474\n",
       "hiphop         286\n",
       "ruspop         186\n",
       "world          181\n",
       "rusrap         175\n",
       "alternative    164\n",
       "unknown        161\n",
       "Name: track, dtype: int64"
      ]
     },
     "execution_count": 31,
     "metadata": {},
     "output_type": "execute_result"
    }
   ],
   "source": [
    "#вызов функции для утра понедельника в Москве\n",
    "genre_weekday(moscow_general, 'Monday', '07:00', '11:00')"
   ]
  },
  {
   "cell_type": "code",
   "execution_count": 32,
   "metadata": {
    "id": "kwUcHPdy_Zcu"
   },
   "outputs": [
    {
     "data": {
      "text/plain": [
       "genre\n",
       "pop            218\n",
       "dance          182\n",
       "rock           162\n",
       "electronic     147\n",
       "hiphop          80\n",
       "ruspop          64\n",
       "alternative     58\n",
       "rusrap          55\n",
       "jazz            44\n",
       "classical       40\n",
       "Name: track, dtype: int64"
      ]
     },
     "execution_count": 32,
     "metadata": {},
     "output_type": "execute_result"
    }
   ],
   "source": [
    "#вызов функции для утра понедельника в Петербурге\n",
    "genre_weekday(spb_general, 'Monday', '07:00', '11:00')"
   ]
  },
  {
   "cell_type": "code",
   "execution_count": 33,
   "metadata": {
    "id": "EzXVRE1o_Zcu"
   },
   "outputs": [
    {
     "data": {
      "text/plain": [
       "genre\n",
       "pop            713\n",
       "rock           517\n",
       "dance          495\n",
       "electronic     482\n",
       "hiphop         273\n",
       "world          208\n",
       "ruspop         170\n",
       "alternative    163\n",
       "classical      163\n",
       "rusrap         142\n",
       "Name: track, dtype: int64"
      ]
     },
     "execution_count": 33,
     "metadata": {},
     "output_type": "execute_result"
    }
   ],
   "source": [
    "#вызов функции для вечера пятницы в Москве\n",
    "genre_weekday(moscow_general, 'Friday', '17:00', '23:00')"
   ]
  },
  {
   "cell_type": "code",
   "execution_count": 34,
   "metadata": {
    "id": "JZaEKu5v_Zcu"
   },
   "outputs": [
    {
     "data": {
      "text/plain": [
       "genre\n",
       "pop            256\n",
       "electronic     216\n",
       "rock           216\n",
       "dance          210\n",
       "hiphop          97\n",
       "alternative     63\n",
       "jazz            61\n",
       "classical       60\n",
       "rusrap          59\n",
       "world           54\n",
       "Name: track, dtype: int64"
      ]
     },
     "execution_count": 34,
     "metadata": {},
     "output_type": "execute_result"
    }
   ],
   "source": [
    "# вызов функции для вечера пятницы в Петербурге\n",
    "genre_weekday(spb_general, 'Friday', '17:00', '23:00')"
   ]
  },
  {
   "cell_type": "markdown",
   "metadata": {
    "id": "wrCe4MNX_Zcu"
   },
   "source": [
    "**Выводы**\n",
    "\n",
    "Если сравнить топ-10 жанров в понедельник утром, можно сделать такие выводы:\n",
    "\n",
    "1. В Москве и Петербурге слушают похожую музыку. Отличие — в московский рейтинг вошёл жанр “world”, а в петербургский — джаз и классика.\n",
    "\n",
    "2. В Москве пропущенных значений оказалось так много, что значение `'unknown'` заняло десятое место среди самых популярных жанров. Значит, пропущенные значения занимают существенную долю в данных и влияют на качество исследования.\n",
    "\n",
    "Вечер пятницы не меняет эту картину. Некоторые жанры поднимаются немного выше, другие спускаются, но в целом топ-10 остаётся тем же самым.\n",
    "\n",
    "Таким образом, вторая гипотеза подтвердилась лишь частично:\n",
    "* Пользователи слушают похожую музыку в начале недели и в конце.\n",
    "* Разница между Москвой и Петербургом не слишком выражена. В Москве чаще слушают русскую популярную музыку, в Петербурге — джаз.\n",
    "\n",
    "Однако пропуски в данных ставят под сомнение этот результат. В Москве их так много, что рейтинг топ-10 мог бы выглядеть иначе, если бы не утерянные  данные о жанрах."
   ]
  },
  {
   "cell_type": "markdown",
   "metadata": {
    "id": "JolODAqr_Zcu"
   },
   "source": [
    "### Жанровые предпочтения в Москве и Петербурге\n",
    "\n",
    "Третья гипотеза: Петербург — столица рэпа, музыку этого жанра там слушают чаще, чем в Москве.  А Москва — город контрастов, в котором, тем не менее, преобладает поп-музыка."
   ]
  },
  {
   "cell_type": "code",
   "execution_count": 35,
   "metadata": {
    "id": "r19lIPke_Zcu"
   },
   "outputs": [],
   "source": [
    "#сгруппирую таблицу moscow_general по жанру и посчитаю просушивания треков\n",
    "moscow_genres = moscow_general.groupby('genre')['genre'].count().sort_values(ascending = False)"
   ]
  },
  {
   "cell_type": "code",
   "execution_count": 36,
   "metadata": {
    "id": "WhCSooF8_Zcv"
   },
   "outputs": [
    {
     "data": {
      "text/plain": [
       "genre\n",
       "pop            5892\n",
       "dance          4435\n",
       "rock           3965\n",
       "electronic     3786\n",
       "hiphop         2096\n",
       "classical      1616\n",
       "world          1432\n",
       "alternative    1379\n",
       "ruspop         1372\n",
       "rusrap         1161\n",
       "Name: genre, dtype: int64"
      ]
     },
     "execution_count": 36,
     "metadata": {},
     "output_type": "execute_result"
    }
   ],
   "source": [
    "moscow_genres.head(10)"
   ]
  },
  {
   "cell_type": "code",
   "execution_count": 37,
   "metadata": {
    "id": "gluLIpE7_Zcv"
   },
   "outputs": [],
   "source": [
    "#сгруппирую таблицу spb_general по жанру и посчитаю просушивания треков\n",
    "spb_genres = spb_general.groupby('genre')['genre'].count().sort_values(ascending = False)"
   ]
  },
  {
   "cell_type": "code",
   "execution_count": 38,
   "metadata": {
    "id": "uaGJHjVU_Zcv"
   },
   "outputs": [
    {
     "data": {
      "text/plain": [
       "genre\n",
       "pop            2431\n",
       "dance          1932\n",
       "rock           1879\n",
       "electronic     1736\n",
       "hiphop          960\n",
       "alternative     649\n",
       "classical       646\n",
       "rusrap          564\n",
       "ruspop          538\n",
       "world           515\n",
       "Name: genre, dtype: int64"
      ]
     },
     "execution_count": 38,
     "metadata": {},
     "output_type": "execute_result"
    }
   ],
   "source": [
    "spb_genres.head(10)"
   ]
  },
  {
   "cell_type": "markdown",
   "metadata": {
    "id": "RY51YJYu_Zcv"
   },
   "source": [
    "**Вывод**"
   ]
  },
  {
   "cell_type": "markdown",
   "metadata": {
    "id": "nVhnJEm__Zcv"
   },
   "source": [
    "Гипотеза частично подтвердилась:\n",
    "* Поп-музыка — самый популярный жанр в Москве, как и предполагала гипотеза. Более того, в топ-10 жанров встречается близкий жанр — русская популярная музыка.\n",
    "* Рэп одинаково популярен в Москве и Петербурге. \n"
   ]
  },
  {
   "cell_type": "markdown",
   "metadata": {
    "id": "ykKQ0N65_Zcv"
   },
   "source": [
    "## Итоги исследования"
   ]
  },
  {
   "cell_type": "markdown",
   "metadata": {
    "id": "tjUwbHb3_Zcv"
   },
   "source": [
    "Проверены три гипотезы и установлена:\n",
    "\n",
    "1. День недели по-разному влияет на активность пользователей в Москве и Петербурге. \n",
    "\n",
    "Первая гипотеза полностью подтвердилась.\n",
    "\n",
    "2. Музыкальные предпочтения не сильно меняются в течение недели — будь то Москва или Петербург. Небольшие различия заметны в начале недели, по понедельникам:\n",
    "* в Москве слушают музыку жанра “world”,\n",
    "* в Петербурге — джаз и классику.\n",
    "\n",
    "Таким образом, вторая гипотеза подтвердилась лишь отчасти. Этот результат мог оказаться иным, если бы не пропуски в данных.\n",
    "\n",
    "3. Во вкусах пользователей Москвы и Петербурга больше общего чем различий. Предпочтения жанров в Петербурге напоминают московские.\n",
    "\n",
    "Третья гипотеза не подтвердилась. Если различия в предпочтениях и существуют, на основной массе пользователей они незаметны."
   ]
  }
 ],
 "metadata": {
  "ExecuteTimeLog": [
   {
    "duration": 951,
    "start_time": "2021-12-18T09:56:18.899Z"
   },
   {
    "duration": 4,
    "start_time": "2021-12-18T09:56:22.008Z"
   },
   {
    "duration": 3,
    "start_time": "2021-12-18T09:56:26.383Z"
   },
   {
    "duration": 3,
    "start_time": "2021-12-18T09:59:42.423Z"
   },
   {
    "duration": 187,
    "start_time": "2021-12-18T09:59:42.429Z"
   },
   {
    "duration": 4,
    "start_time": "2021-12-18T09:59:46.872Z"
   },
   {
    "duration": 261,
    "start_time": "2021-12-18T09:59:46.879Z"
   },
   {
    "duration": 28,
    "start_time": "2021-12-18T09:59:51.668Z"
   },
   {
    "duration": 3,
    "start_time": "2021-12-18T09:59:51.699Z"
   },
   {
    "duration": 7,
    "start_time": "2021-12-18T09:59:51.706Z"
   },
   {
    "duration": 43,
    "start_time": "2021-12-18T09:59:51.716Z"
   },
   {
    "duration": 4,
    "start_time": "2021-12-18T09:59:51.763Z"
   },
   {
    "duration": 4,
    "start_time": "2021-12-18T09:59:51.770Z"
   },
   {
    "duration": 6,
    "start_time": "2021-12-18T09:59:51.777Z"
   },
   {
    "duration": 4,
    "start_time": "2021-12-18T09:59:51.789Z"
   },
   {
    "duration": 7,
    "start_time": "2021-12-18T09:59:51.797Z"
   },
   {
    "duration": 52,
    "start_time": "2021-12-18T09:59:51.807Z"
   },
   {
    "duration": 10,
    "start_time": "2021-12-18T09:59:51.863Z"
   },
   {
    "duration": 7,
    "start_time": "2021-12-18T09:59:51.876Z"
   },
   {
    "duration": 7,
    "start_time": "2021-12-18T09:59:51.886Z"
   },
   {
    "duration": 11,
    "start_time": "2021-12-18T09:59:51.896Z"
   },
   {
    "duration": 6,
    "start_time": "2021-12-18T09:59:51.910Z"
   },
   {
    "duration": 6,
    "start_time": "2021-12-18T09:59:51.919Z"
   },
   {
    "duration": 8,
    "start_time": "2021-12-18T09:59:51.928Z"
   },
   {
    "duration": 3,
    "start_time": "2021-12-18T09:59:51.960Z"
   },
   {
    "duration": 17,
    "start_time": "2021-12-18T09:59:51.966Z"
   },
   {
    "duration": 8,
    "start_time": "2021-12-18T09:59:51.986Z"
   },
   {
    "duration": 7,
    "start_time": "2021-12-18T09:59:51.996Z"
   },
   {
    "duration": 7,
    "start_time": "2021-12-18T09:59:52.005Z"
   },
   {
    "duration": 3,
    "start_time": "2021-12-18T09:59:52.017Z"
   },
   {
    "duration": 9,
    "start_time": "2021-12-18T09:59:52.024Z"
   },
   {
    "duration": 28,
    "start_time": "2021-12-18T09:59:52.036Z"
   },
   {
    "duration": 6,
    "start_time": "2021-12-18T09:59:52.067Z"
   },
   {
    "duration": 7,
    "start_time": "2021-12-18T09:59:52.075Z"
   },
   {
    "duration": 11,
    "start_time": "2021-12-18T09:59:52.084Z"
   },
   {
    "duration": 8,
    "start_time": "2021-12-18T09:59:52.097Z"
   },
   {
    "duration": 8,
    "start_time": "2021-12-18T09:59:52.107Z"
   },
   {
    "duration": 10,
    "start_time": "2021-12-18T09:59:52.118Z"
   },
   {
    "duration": 28,
    "start_time": "2021-12-18T09:59:52.131Z"
   },
   {
    "duration": 4,
    "start_time": "2021-12-18T09:59:52.163Z"
   },
   {
    "duration": 7,
    "start_time": "2021-12-18T09:59:52.170Z"
   },
   {
    "duration": 9,
    "start_time": "2021-12-18T09:59:52.179Z"
   },
   {
    "duration": 18,
    "start_time": "2021-12-18T09:59:52.191Z"
   },
   {
    "duration": 32,
    "start_time": "2021-12-18T10:01:55.628Z"
   },
   {
    "duration": 49,
    "start_time": "2021-12-18T10:12:13.079Z"
   },
   {
    "duration": 6,
    "start_time": "2021-12-18T10:36:30.442Z"
   },
   {
    "duration": 4,
    "start_time": "2021-12-18T10:47:42.053Z"
   },
   {
    "duration": 17,
    "start_time": "2021-12-18T10:47:45.861Z"
   },
   {
    "duration": 32,
    "start_time": "2021-12-18T10:49:42.288Z"
   },
   {
    "duration": 23,
    "start_time": "2021-12-18T11:01:32.993Z"
   },
   {
    "duration": 46,
    "start_time": "2021-12-18T11:01:46.571Z"
   },
   {
    "duration": 100,
    "start_time": "2021-12-18T11:02:30.180Z"
   },
   {
    "duration": 152,
    "start_time": "2021-12-18T11:04:36.036Z"
   },
   {
    "duration": 79,
    "start_time": "2021-12-18T11:05:09.499Z"
   },
   {
    "duration": 137,
    "start_time": "2021-12-18T11:05:23.417Z"
   },
   {
    "duration": 104,
    "start_time": "2021-12-18T11:05:42.491Z"
   },
   {
    "duration": 104,
    "start_time": "2021-12-18T11:05:48.340Z"
   },
   {
    "duration": 81,
    "start_time": "2021-12-18T11:05:53.140Z"
   },
   {
    "duration": 110,
    "start_time": "2021-12-18T11:17:40.375Z"
   },
   {
    "duration": 83,
    "start_time": "2021-12-18T11:17:53.622Z"
   },
   {
    "duration": 127,
    "start_time": "2021-12-18T11:19:18.630Z"
   },
   {
    "duration": 98,
    "start_time": "2021-12-18T11:19:36.186Z"
   },
   {
    "duration": 76,
    "start_time": "2021-12-18T11:19:38.854Z"
   },
   {
    "duration": 76,
    "start_time": "2021-12-18T11:23:31.047Z"
   },
   {
    "duration": 684,
    "start_time": "2021-12-18T11:24:15.983Z"
   },
   {
    "duration": 428,
    "start_time": "2021-12-18T11:24:56.519Z"
   },
   {
    "duration": 131,
    "start_time": "2021-12-18T11:26:25.784Z"
   },
   {
    "duration": 107,
    "start_time": "2021-12-18T11:26:29.487Z"
   },
   {
    "duration": 140,
    "start_time": "2021-12-18T11:28:23.464Z"
   },
   {
    "duration": 146,
    "start_time": "2021-12-18T11:28:56.040Z"
   },
   {
    "duration": 95,
    "start_time": "2021-12-18T11:29:44.288Z"
   },
   {
    "duration": 3,
    "start_time": "2021-12-18T11:29:57.574Z"
   },
   {
    "duration": 109,
    "start_time": "2021-12-18T11:30:18.416Z"
   },
   {
    "duration": 84,
    "start_time": "2021-12-18T11:30:30.951Z"
   },
   {
    "duration": 4,
    "start_time": "2021-12-18T11:30:44.042Z"
   },
   {
    "duration": 201,
    "start_time": "2021-12-18T11:30:49.824Z"
   },
   {
    "duration": 16,
    "start_time": "2021-12-18T11:30:52.936Z"
   },
   {
    "duration": 57,
    "start_time": "2021-12-18T11:31:06.240Z"
   },
   {
    "duration": 6,
    "start_time": "2021-12-18T11:31:22.080Z"
   },
   {
    "duration": 4,
    "start_time": "2021-12-18T11:31:27.832Z"
   },
   {
    "duration": 6,
    "start_time": "2021-12-18T11:31:37.393Z"
   },
   {
    "duration": 19,
    "start_time": "2021-12-18T11:31:45.847Z"
   },
   {
    "duration": 7,
    "start_time": "2021-12-18T11:31:54.296Z"
   },
   {
    "duration": 31,
    "start_time": "2021-12-18T11:32:02.088Z"
   },
   {
    "duration": 43,
    "start_time": "2021-12-18T11:32:37.823Z"
   },
   {
    "duration": 9994,
    "start_time": "2021-12-18T11:37:46.691Z"
   },
   {
    "duration": -1012,
    "start_time": "2021-12-18T11:38:13.419Z"
   },
   {
    "duration": -1006,
    "start_time": "2021-12-18T11:39:51.281Z"
   },
   {
    "duration": 16783,
    "start_time": "2021-12-18T11:39:51.765Z"
   },
   {
    "duration": -1012,
    "start_time": "2021-12-18T11:40:09.566Z"
   },
   {
    "duration": 5,
    "start_time": "2021-12-18T11:41:14.185Z"
   },
   {
    "duration": -1014,
    "start_time": "2021-12-18T11:41:28.192Z"
   },
   {
    "duration": -1017,
    "start_time": "2021-12-18T11:41:28.197Z"
   },
   {
    "duration": -1019,
    "start_time": "2021-12-18T11:41:28.201Z"
   },
   {
    "duration": 10859,
    "start_time": "2021-12-18T11:41:52.230Z"
   },
   {
    "duration": -1000,
    "start_time": "2021-12-18T11:42:04.100Z"
   },
   {
    "duration": 22,
    "start_time": "2021-12-18T11:42:31.438Z"
   },
   {
    "duration": 24,
    "start_time": "2021-12-18T11:42:34.053Z"
   },
   {
    "duration": 33,
    "start_time": "2021-12-18T11:42:37.621Z"
   },
   {
    "duration": 34,
    "start_time": "2021-12-18T11:42:47.533Z"
   },
   {
    "duration": 31,
    "start_time": "2021-12-18T11:42:59.461Z"
   },
   {
    "duration": 87,
    "start_time": "2021-12-18T11:43:12.453Z"
   },
   {
    "duration": 89,
    "start_time": "2021-12-18T11:43:24.021Z"
   },
   {
    "duration": 78,
    "start_time": "2021-12-18T11:43:28.461Z"
   },
   {
    "duration": 88,
    "start_time": "2021-12-18T11:43:38.325Z"
   },
   {
    "duration": 74,
    "start_time": "2021-12-18T11:43:46.611Z"
   },
   {
    "duration": 124,
    "start_time": "2021-12-18T11:54:16.977Z"
   },
   {
    "duration": 171,
    "start_time": "2021-12-18T11:54:32.481Z"
   },
   {
    "duration": 422,
    "start_time": "2021-12-18T11:54:49.155Z"
   },
   {
    "duration": 6,
    "start_time": "2021-12-18T11:58:10.074Z"
   },
   {
    "duration": 18,
    "start_time": "2021-12-18T11:58:39.241Z"
   },
   {
    "duration": 93,
    "start_time": "2021-12-18T11:58:50.137Z"
   },
   {
    "duration": 16,
    "start_time": "2021-12-18T11:59:37.111Z"
   },
   {
    "duration": 4,
    "start_time": "2021-12-18T12:01:40.430Z"
   },
   {
    "duration": 180,
    "start_time": "2021-12-18T12:01:40.436Z"
   },
   {
    "duration": 4,
    "start_time": "2021-12-18T12:01:51.183Z"
   },
   {
    "duration": 244,
    "start_time": "2021-12-18T12:01:51.190Z"
   },
   {
    "duration": 4,
    "start_time": "2021-12-18T12:02:46.983Z"
   },
   {
    "duration": 187,
    "start_time": "2021-12-18T12:02:46.990Z"
   },
   {
    "duration": 3,
    "start_time": "2021-12-18T12:02:55.087Z"
   },
   {
    "duration": 200,
    "start_time": "2021-12-18T12:02:56.822Z"
   },
   {
    "duration": 16,
    "start_time": "2021-12-18T12:02:58.764Z"
   },
   {
    "duration": 3,
    "start_time": "2021-12-18T12:03:03.555Z"
   },
   {
    "duration": 200,
    "start_time": "2021-12-18T12:03:03.561Z"
   },
   {
    "duration": 33,
    "start_time": "2021-12-18T12:03:07.758Z"
   },
   {
    "duration": 6,
    "start_time": "2021-12-18T12:03:17.182Z"
   },
   {
    "duration": 6,
    "start_time": "2021-12-18T12:03:25.886Z"
   },
   {
    "duration": 7,
    "start_time": "2021-12-18T12:03:28.423Z"
   },
   {
    "duration": 46,
    "start_time": "2021-12-18T12:03:34.877Z"
   },
   {
    "duration": 33,
    "start_time": "2021-12-18T12:03:40.551Z"
   },
   {
    "duration": 49,
    "start_time": "2021-12-18T12:04:01.941Z"
   },
   {
    "duration": 112,
    "start_time": "2021-12-18T12:04:10.186Z"
   },
   {
    "duration": 32,
    "start_time": "2021-12-18T12:04:17.159Z"
   },
   {
    "duration": 93,
    "start_time": "2021-12-18T12:04:23.135Z"
   },
   {
    "duration": 107,
    "start_time": "2021-12-18T12:04:30.293Z"
   },
   {
    "duration": 129,
    "start_time": "2021-12-18T12:04:33.591Z"
   },
   {
    "duration": 18,
    "start_time": "2021-12-18T12:04:49.855Z"
   },
   {
    "duration": 25,
    "start_time": "2021-12-18T12:04:53.383Z"
   },
   {
    "duration": 108,
    "start_time": "2021-12-18T12:09:58.304Z"
   },
   {
    "duration": 88,
    "start_time": "2021-12-18T12:11:38.735Z"
   },
   {
    "duration": 9,
    "start_time": "2021-12-18T12:13:32.255Z"
   },
   {
    "duration": 83,
    "start_time": "2021-12-18T12:14:09.079Z"
   },
   {
    "duration": 88,
    "start_time": "2021-12-18T12:20:11.174Z"
   },
   {
    "duration": 84,
    "start_time": "2021-12-18T12:26:59.457Z"
   },
   {
    "duration": 50,
    "start_time": "2021-12-18T12:29:18.745Z"
   },
   {
    "duration": 78,
    "start_time": "2021-12-18T12:37:12.187Z"
   },
   {
    "duration": 4,
    "start_time": "2021-12-18T12:41:48.395Z"
   },
   {
    "duration": 151,
    "start_time": "2021-12-18T12:45:52.722Z"
   },
   {
    "duration": 395,
    "start_time": "2021-12-18T12:46:00.604Z"
   },
   {
    "duration": 1330,
    "start_time": "2021-12-18T12:46:08.636Z"
   },
   {
    "duration": 4,
    "start_time": "2021-12-18T12:47:24.445Z"
   },
   {
    "duration": 6,
    "start_time": "2021-12-18T12:48:10.012Z"
   },
   {
    "duration": 793,
    "start_time": "2021-12-18T12:58:53.661Z"
   },
   {
    "duration": 756,
    "start_time": "2021-12-18T12:59:09.823Z"
   },
   {
    "duration": 5,
    "start_time": "2021-12-18T13:02:43.232Z"
   },
   {
    "duration": 822,
    "start_time": "2021-12-18T13:02:46.774Z"
   },
   {
    "duration": 5,
    "start_time": "2021-12-18T13:04:24.752Z"
   },
   {
    "duration": 964,
    "start_time": "2021-12-18T13:04:27.656Z"
   },
   {
    "duration": 743,
    "start_time": "2021-12-18T13:06:20.256Z"
   },
   {
    "duration": 3,
    "start_time": "2021-12-18T13:06:39.381Z"
   },
   {
    "duration": 197,
    "start_time": "2021-12-18T13:06:39.387Z"
   },
   {
    "duration": 15,
    "start_time": "2021-12-18T13:06:39.587Z"
   },
   {
    "duration": 55,
    "start_time": "2021-12-18T13:06:39.605Z"
   },
   {
    "duration": 8,
    "start_time": "2021-12-18T13:06:39.663Z"
   },
   {
    "duration": 7,
    "start_time": "2021-12-18T13:06:39.674Z"
   },
   {
    "duration": 10,
    "start_time": "2021-12-18T13:06:39.683Z"
   },
   {
    "duration": 66,
    "start_time": "2021-12-18T13:06:39.695Z"
   },
   {
    "duration": 23,
    "start_time": "2021-12-18T13:06:39.764Z"
   },
   {
    "duration": 32,
    "start_time": "2021-12-18T13:06:39.791Z"
   },
   {
    "duration": 113,
    "start_time": "2021-12-18T13:06:39.825Z"
   },
   {
    "duration": 123,
    "start_time": "2021-12-18T13:06:39.940Z"
   },
   {
    "duration": 78,
    "start_time": "2021-12-18T13:06:40.066Z"
   },
   {
    "duration": 59,
    "start_time": "2021-12-18T13:06:40.161Z"
   },
   {
    "duration": 3,
    "start_time": "2021-12-18T13:06:40.223Z"
   },
   {
    "duration": 735,
    "start_time": "2021-12-18T13:06:42.831Z"
   },
   {
    "duration": 1043,
    "start_time": "2021-12-18T13:07:04.040Z"
   },
   {
    "duration": 763,
    "start_time": "2021-12-18T13:07:29.016Z"
   },
   {
    "duration": 4,
    "start_time": "2021-12-18T13:07:37.331Z"
   },
   {
    "duration": 37,
    "start_time": "2021-12-18T13:07:39.696Z"
   },
   {
    "duration": 66,
    "start_time": "2021-12-18T13:09:10.232Z"
   },
   {
    "duration": 18,
    "start_time": "2021-12-18T13:09:13.821Z"
   },
   {
    "duration": 58,
    "start_time": "2021-12-18T13:09:17.152Z"
   },
   {
    "duration": 298,
    "start_time": "2021-12-18T18:25:22.302Z"
   },
   {
    "duration": 235,
    "start_time": "2021-12-18T18:25:59.957Z"
   },
   {
    "duration": 235,
    "start_time": "2021-12-18T18:56:23.293Z"
   },
   {
    "duration": 275,
    "start_time": "2021-12-18T18:56:36.140Z"
   },
   {
    "duration": 776,
    "start_time": "2021-12-18T18:56:57.629Z"
   },
   {
    "duration": 182,
    "start_time": "2021-12-18T18:56:58.408Z"
   },
   {
    "duration": 29,
    "start_time": "2021-12-18T18:56:58.593Z"
   },
   {
    "duration": 30,
    "start_time": "2021-12-18T18:56:58.625Z"
   },
   {
    "duration": 5,
    "start_time": "2021-12-18T18:56:58.658Z"
   },
   {
    "duration": 4,
    "start_time": "2021-12-18T18:56:58.665Z"
   },
   {
    "duration": 7,
    "start_time": "2021-12-18T18:56:58.671Z"
   },
   {
    "duration": 30,
    "start_time": "2021-12-18T18:56:58.717Z"
   },
   {
    "duration": 23,
    "start_time": "2021-12-18T18:56:58.751Z"
   },
   {
    "duration": 48,
    "start_time": "2021-12-18T18:56:58.777Z"
   },
   {
    "duration": 103,
    "start_time": "2021-12-18T18:56:58.828Z"
   },
   {
    "duration": 105,
    "start_time": "2021-12-18T18:56:58.934Z"
   },
   {
    "duration": 86,
    "start_time": "2021-12-18T18:56:59.041Z"
   },
   {
    "duration": 55,
    "start_time": "2021-12-18T18:56:59.129Z"
   },
   {
    "duration": 3,
    "start_time": "2021-12-18T18:56:59.187Z"
   },
   {
    "duration": 35,
    "start_time": "2021-12-18T18:56:59.193Z"
   },
   {
    "duration": 63,
    "start_time": "2021-12-18T18:56:59.230Z"
   },
   {
    "duration": 57,
    "start_time": "2021-12-18T18:57:08.172Z"
   },
   {
    "duration": 14,
    "start_time": "2021-12-18T18:57:11.661Z"
   },
   {
    "duration": 14,
    "start_time": "2021-12-18T18:57:38.364Z"
   },
   {
    "duration": 59,
    "start_time": "2021-12-18T18:57:41.789Z"
   },
   {
    "duration": 43,
    "start_time": "2021-12-18T18:58:05.621Z"
   },
   {
    "duration": 525,
    "start_time": "2021-12-18T23:05:52.322Z"
   },
   {
    "duration": 793,
    "start_time": "2021-12-18T23:05:55.648Z"
   },
   {
    "duration": 192,
    "start_time": "2021-12-18T23:05:56.444Z"
   },
   {
    "duration": 33,
    "start_time": "2021-12-18T23:05:56.639Z"
   },
   {
    "duration": 36,
    "start_time": "2021-12-18T23:05:56.675Z"
   },
   {
    "duration": 6,
    "start_time": "2021-12-18T23:05:56.714Z"
   },
   {
    "duration": 4,
    "start_time": "2021-12-18T23:05:56.758Z"
   },
   {
    "duration": 9,
    "start_time": "2021-12-18T23:05:56.765Z"
   },
   {
    "duration": 31,
    "start_time": "2021-12-18T23:05:56.778Z"
   },
   {
    "duration": 48,
    "start_time": "2021-12-18T23:05:56.812Z"
   },
   {
    "duration": 30,
    "start_time": "2021-12-18T23:05:56.862Z"
   },
   {
    "duration": 108,
    "start_time": "2021-12-18T23:05:56.894Z"
   },
   {
    "duration": 107,
    "start_time": "2021-12-18T23:05:57.004Z"
   },
   {
    "duration": 78,
    "start_time": "2021-12-18T23:05:57.113Z"
   },
   {
    "duration": 69,
    "start_time": "2021-12-18T23:05:57.193Z"
   },
   {
    "duration": 4,
    "start_time": "2021-12-18T23:05:57.264Z"
   },
   {
    "duration": 15,
    "start_time": "2021-12-18T23:05:57.271Z"
   },
   {
    "duration": 80,
    "start_time": "2021-12-18T23:05:57.288Z"
   },
   {
    "duration": 43,
    "start_time": "2021-12-18T23:05:57.370Z"
   },
   {
    "duration": 16,
    "start_time": "2021-12-18T23:07:01.393Z"
   },
   {
    "duration": 42,
    "start_time": "2021-12-18T23:07:21.913Z"
   },
   {
    "duration": 32,
    "start_time": "2021-12-18T23:08:00.839Z"
   },
   {
    "duration": 16,
    "start_time": "2021-12-18T23:08:34.846Z"
   },
   {
    "duration": 290,
    "start_time": "2021-12-19T20:21:39.710Z"
   },
   {
    "duration": 524,
    "start_time": "2021-12-19T20:21:47.149Z"
   },
   {
    "duration": 133,
    "start_time": "2021-12-19T20:21:47.675Z"
   },
   {
    "duration": 15,
    "start_time": "2021-12-19T20:21:47.810Z"
   },
   {
    "duration": 23,
    "start_time": "2021-12-19T20:21:47.827Z"
   },
   {
    "duration": 10,
    "start_time": "2021-12-19T20:21:47.852Z"
   },
   {
    "duration": 6,
    "start_time": "2021-12-19T20:21:47.864Z"
   },
   {
    "duration": 25,
    "start_time": "2021-12-19T20:21:47.871Z"
   },
   {
    "duration": 22,
    "start_time": "2021-12-19T20:21:47.899Z"
   },
   {
    "duration": 17,
    "start_time": "2021-12-19T20:21:47.924Z"
   },
   {
    "duration": 25,
    "start_time": "2021-12-19T20:21:47.943Z"
   },
   {
    "duration": 70,
    "start_time": "2021-12-19T20:21:47.969Z"
   },
   {
    "duration": 70,
    "start_time": "2021-12-19T20:21:48.041Z"
   },
   {
    "duration": 46,
    "start_time": "2021-12-19T20:21:48.113Z"
   },
   {
    "duration": 55,
    "start_time": "2021-12-19T20:21:48.160Z"
   },
   {
    "duration": 3,
    "start_time": "2021-12-19T20:21:48.217Z"
   },
   {
    "duration": 10,
    "start_time": "2021-12-19T20:21:48.221Z"
   },
   {
    "duration": 36,
    "start_time": "2021-12-19T20:21:48.232Z"
   },
   {
    "duration": 10,
    "start_time": "2021-12-19T20:21:54.876Z"
   },
   {
    "duration": 2,
    "start_time": "2021-12-19T20:21:54.892Z"
   },
   {
    "duration": 4,
    "start_time": "2021-12-19T20:21:54.897Z"
   },
   {
    "duration": 7,
    "start_time": "2021-12-19T20:21:54.903Z"
   },
   {
    "duration": 9,
    "start_time": "2021-12-19T20:21:54.911Z"
   },
   {
    "duration": 13,
    "start_time": "2021-12-19T20:21:54.921Z"
   },
   {
    "duration": 5,
    "start_time": "2021-12-19T20:21:54.936Z"
   },
   {
    "duration": 7,
    "start_time": "2021-12-19T20:21:54.943Z"
   },
   {
    "duration": 7,
    "start_time": "2021-12-19T20:21:54.952Z"
   },
   {
    "duration": 6,
    "start_time": "2021-12-19T20:21:54.960Z"
   },
   {
    "duration": 11,
    "start_time": "2021-12-19T20:21:54.967Z"
   },
   {
    "duration": 6,
    "start_time": "2021-12-19T20:21:54.979Z"
   },
   {
    "duration": 7,
    "start_time": "2021-12-19T20:21:54.987Z"
   },
   {
    "duration": 9,
    "start_time": "2021-12-19T20:21:54.996Z"
   },
   {
    "duration": 5,
    "start_time": "2021-12-19T20:21:55.007Z"
   },
   {
    "duration": 8,
    "start_time": "2021-12-19T20:21:55.013Z"
   },
   {
    "duration": 4,
    "start_time": "2021-12-19T20:21:55.023Z"
   },
   {
    "duration": 4,
    "start_time": "2021-12-19T20:21:55.029Z"
   },
   {
    "duration": 5,
    "start_time": "2021-12-19T20:21:55.035Z"
   },
   {
    "duration": 7,
    "start_time": "2021-12-19T20:21:55.041Z"
   },
   {
    "duration": 5,
    "start_time": "2021-12-19T20:21:55.049Z"
   },
   {
    "duration": 9,
    "start_time": "2021-12-19T20:22:08.572Z"
   },
   {
    "duration": 3,
    "start_time": "2021-12-19T20:27:53.780Z"
   },
   {
    "duration": 3,
    "start_time": "2021-12-19T20:27:56.069Z"
   },
   {
    "duration": 4,
    "start_time": "2021-12-19T20:28:19.764Z"
   },
   {
    "duration": 3,
    "start_time": "2021-12-19T20:28:53.466Z"
   },
   {
    "duration": 141,
    "start_time": "2021-12-19T20:28:53.471Z"
   },
   {
    "duration": 9,
    "start_time": "2021-12-19T20:28:53.614Z"
   },
   {
    "duration": 23,
    "start_time": "2021-12-19T20:28:53.625Z"
   },
   {
    "duration": 4,
    "start_time": "2021-12-19T20:28:53.650Z"
   },
   {
    "duration": 9,
    "start_time": "2021-12-19T20:28:53.656Z"
   },
   {
    "duration": 4,
    "start_time": "2021-12-19T20:28:53.668Z"
   },
   {
    "duration": 28,
    "start_time": "2021-12-19T20:28:53.688Z"
   },
   {
    "duration": 15,
    "start_time": "2021-12-19T20:28:53.717Z"
   },
   {
    "duration": 22,
    "start_time": "2021-12-19T20:28:53.734Z"
   },
   {
    "duration": 69,
    "start_time": "2021-12-19T20:28:53.758Z"
   },
   {
    "duration": 67,
    "start_time": "2021-12-19T20:28:53.829Z"
   },
   {
    "duration": 46,
    "start_time": "2021-12-19T20:28:53.897Z"
   },
   {
    "duration": 44,
    "start_time": "2021-12-19T20:28:53.944Z"
   },
   {
    "duration": 3,
    "start_time": "2021-12-19T20:28:53.990Z"
   },
   {
    "duration": 11,
    "start_time": "2021-12-19T20:28:53.996Z"
   },
   {
    "duration": 36,
    "start_time": "2021-12-19T20:28:54.008Z"
   },
   {
    "duration": 10,
    "start_time": "2021-12-19T20:28:54.046Z"
   },
   {
    "duration": 8,
    "start_time": "2021-12-19T20:28:58.075Z"
   },
   {
    "duration": 10,
    "start_time": "2021-12-19T20:29:28.979Z"
   },
   {
    "duration": 4,
    "start_time": "2021-12-19T20:29:38.723Z"
   },
   {
    "duration": 5,
    "start_time": "2021-12-19T20:29:54.419Z"
   },
   {
    "duration": 9,
    "start_time": "2021-12-19T20:30:09.115Z"
   },
   {
    "duration": 10,
    "start_time": "2021-12-19T20:31:27.299Z"
   },
   {
    "duration": 3,
    "start_time": "2021-12-19T21:14:17.046Z"
   },
   {
    "duration": 139,
    "start_time": "2021-12-19T21:14:17.050Z"
   },
   {
    "duration": 16,
    "start_time": "2021-12-19T21:14:17.191Z"
   },
   {
    "duration": 23,
    "start_time": "2021-12-19T21:14:17.209Z"
   },
   {
    "duration": 3,
    "start_time": "2021-12-19T21:14:17.234Z"
   },
   {
    "duration": 4,
    "start_time": "2021-12-19T21:14:17.239Z"
   },
   {
    "duration": 5,
    "start_time": "2021-12-19T21:14:17.245Z"
   },
   {
    "duration": 51,
    "start_time": "2021-12-19T21:14:17.252Z"
   },
   {
    "duration": 20,
    "start_time": "2021-12-19T21:14:17.306Z"
   },
   {
    "duration": 23,
    "start_time": "2021-12-19T21:14:17.328Z"
   },
   {
    "duration": 86,
    "start_time": "2021-12-19T21:14:17.352Z"
   },
   {
    "duration": 87,
    "start_time": "2021-12-19T21:14:17.439Z"
   },
   {
    "duration": 45,
    "start_time": "2021-12-19T21:14:17.527Z"
   },
   {
    "duration": 55,
    "start_time": "2021-12-19T21:14:17.573Z"
   },
   {
    "duration": 2,
    "start_time": "2021-12-19T21:14:17.629Z"
   },
   {
    "duration": 10,
    "start_time": "2021-12-19T21:14:17.633Z"
   },
   {
    "duration": 52,
    "start_time": "2021-12-19T21:14:17.644Z"
   },
   {
    "duration": 14,
    "start_time": "2021-12-19T21:14:17.698Z"
   },
   {
    "duration": 10,
    "start_time": "2021-12-19T21:14:17.716Z"
   },
   {
    "duration": 379,
    "start_time": "2021-12-19T21:14:17.728Z"
   },
   {
    "duration": 3,
    "start_time": "2021-12-19T21:15:25.487Z"
   },
   {
    "duration": 163,
    "start_time": "2021-12-19T21:15:25.492Z"
   },
   {
    "duration": 10,
    "start_time": "2021-12-19T21:15:25.657Z"
   },
   {
    "duration": 36,
    "start_time": "2021-12-19T21:15:25.669Z"
   },
   {
    "duration": 6,
    "start_time": "2021-12-19T21:15:25.707Z"
   },
   {
    "duration": 5,
    "start_time": "2021-12-19T21:15:25.714Z"
   },
   {
    "duration": 6,
    "start_time": "2021-12-19T21:15:25.721Z"
   },
   {
    "duration": 22,
    "start_time": "2021-12-19T21:15:25.729Z"
   },
   {
    "duration": 44,
    "start_time": "2021-12-19T21:15:25.753Z"
   },
   {
    "duration": 21,
    "start_time": "2021-12-19T21:15:25.799Z"
   },
   {
    "duration": 51,
    "start_time": "2021-12-19T21:15:25.822Z"
   },
   {
    "duration": 65,
    "start_time": "2021-12-19T21:15:25.889Z"
   },
   {
    "duration": 57,
    "start_time": "2021-12-19T21:15:25.956Z"
   },
   {
    "duration": 37,
    "start_time": "2021-12-19T21:15:26.014Z"
   },
   {
    "duration": 3,
    "start_time": "2021-12-19T21:15:26.052Z"
   },
   {
    "duration": 11,
    "start_time": "2021-12-19T21:15:26.056Z"
   },
   {
    "duration": 54,
    "start_time": "2021-12-19T21:15:26.068Z"
   },
   {
    "duration": 10,
    "start_time": "2021-12-19T21:15:26.124Z"
   },
   {
    "duration": 9,
    "start_time": "2021-12-19T21:15:26.136Z"
   },
   {
    "duration": 2,
    "start_time": "2021-12-19T21:15:29.278Z"
   },
   {
    "duration": 134,
    "start_time": "2021-12-19T21:15:29.292Z"
   },
   {
    "duration": 9,
    "start_time": "2021-12-19T21:15:29.428Z"
   },
   {
    "duration": 23,
    "start_time": "2021-12-19T21:15:29.439Z"
   },
   {
    "duration": 3,
    "start_time": "2021-12-19T21:15:29.464Z"
   },
   {
    "duration": 4,
    "start_time": "2021-12-19T21:15:29.469Z"
   },
   {
    "duration": 13,
    "start_time": "2021-12-19T21:15:29.488Z"
   },
   {
    "duration": 26,
    "start_time": "2021-12-19T21:15:29.503Z"
   },
   {
    "duration": 16,
    "start_time": "2021-12-19T21:15:29.531Z"
   },
   {
    "duration": 64,
    "start_time": "2021-12-19T21:15:29.550Z"
   },
   {
    "duration": 55,
    "start_time": "2021-12-19T21:15:29.617Z"
   },
   {
    "duration": 75,
    "start_time": "2021-12-19T21:15:29.674Z"
   },
   {
    "duration": 62,
    "start_time": "2021-12-19T21:15:29.751Z"
   },
   {
    "duration": 37,
    "start_time": "2021-12-19T21:15:29.814Z"
   },
   {
    "duration": 3,
    "start_time": "2021-12-19T21:15:29.852Z"
   },
   {
    "duration": 15,
    "start_time": "2021-12-19T21:15:29.857Z"
   },
   {
    "duration": 48,
    "start_time": "2021-12-19T21:15:29.874Z"
   },
   {
    "duration": 10,
    "start_time": "2021-12-19T21:15:29.924Z"
   },
   {
    "duration": 10,
    "start_time": "2021-12-19T21:15:29.936Z"
   },
   {
    "duration": 4,
    "start_time": "2021-12-19T21:15:32.652Z"
   },
   {
    "duration": 267,
    "start_time": "2021-12-19T21:15:38.015Z"
   },
   {
    "duration": 21,
    "start_time": "2021-12-19T21:16:25.567Z"
   },
   {
    "duration": 3,
    "start_time": "2021-12-19T21:16:26.847Z"
   },
   {
    "duration": 2,
    "start_time": "2021-12-19T21:16:27.767Z"
   },
   {
    "duration": 4,
    "start_time": "2021-12-19T21:16:36.880Z"
   },
   {
    "duration": 14,
    "start_time": "2021-12-19T21:16:40.303Z"
   },
   {
    "duration": 3,
    "start_time": "2021-12-19T21:16:45.344Z"
   },
   {
    "duration": 20,
    "start_time": "2021-12-19T21:18:09.463Z"
   },
   {
    "duration": 3,
    "start_time": "2021-12-19T21:18:10.282Z"
   },
   {
    "duration": 28,
    "start_time": "2021-12-19T21:18:13.975Z"
   },
   {
    "duration": 2,
    "start_time": "2021-12-19T21:29:01.064Z"
   },
   {
    "duration": 148,
    "start_time": "2021-12-19T21:29:01.068Z"
   },
   {
    "duration": 10,
    "start_time": "2021-12-19T21:29:01.218Z"
   },
   {
    "duration": 46,
    "start_time": "2021-12-19T21:29:01.230Z"
   },
   {
    "duration": 5,
    "start_time": "2021-12-19T21:29:01.278Z"
   },
   {
    "duration": 8,
    "start_time": "2021-12-19T21:29:01.284Z"
   },
   {
    "duration": 6,
    "start_time": "2021-12-19T21:29:01.295Z"
   },
   {
    "duration": 26,
    "start_time": "2021-12-19T21:29:01.303Z"
   },
   {
    "duration": 17,
    "start_time": "2021-12-19T21:29:01.331Z"
   },
   {
    "duration": 24,
    "start_time": "2021-12-19T21:29:01.350Z"
   },
   {
    "duration": 61,
    "start_time": "2021-12-19T21:29:01.376Z"
   },
   {
    "duration": 78,
    "start_time": "2021-12-19T21:29:01.439Z"
   },
   {
    "duration": 45,
    "start_time": "2021-12-19T21:29:01.518Z"
   },
   {
    "duration": 50,
    "start_time": "2021-12-19T21:29:01.564Z"
   },
   {
    "duration": 9,
    "start_time": "2021-12-19T21:29:01.615Z"
   },
   {
    "duration": 21,
    "start_time": "2021-12-19T21:29:01.625Z"
   },
   {
    "duration": 39,
    "start_time": "2021-12-19T21:29:01.647Z"
   },
   {
    "duration": 12,
    "start_time": "2021-12-19T21:29:01.688Z"
   },
   {
    "duration": 17,
    "start_time": "2021-12-19T21:29:01.702Z"
   },
   {
    "duration": 3,
    "start_time": "2021-12-19T21:29:01.721Z"
   },
   {
    "duration": 3,
    "start_time": "2021-12-19T21:29:04.193Z"
   },
   {
    "duration": 452,
    "start_time": "2021-12-19T21:29:06.993Z"
   },
   {
    "duration": 4,
    "start_time": "2021-12-19T21:29:37.968Z"
   },
   {
    "duration": 16,
    "start_time": "2021-12-19T21:29:41.329Z"
   },
   {
    "duration": 3,
    "start_time": "2021-12-19T21:30:38.924Z"
   },
   {
    "duration": -2127,
    "start_time": "2021-12-19T21:30:47.310Z"
   },
   {
    "duration": 3,
    "start_time": "2021-12-19T21:30:52.216Z"
   },
   {
    "duration": 19,
    "start_time": "2021-12-19T21:30:54.376Z"
   },
   {
    "duration": 3,
    "start_time": "2021-12-19T21:31:04.257Z"
   },
   {
    "duration": 17,
    "start_time": "2021-12-19T21:31:06.272Z"
   },
   {
    "duration": 17,
    "start_time": "2021-12-19T21:31:23.944Z"
   },
   {
    "duration": 17,
    "start_time": "2021-12-19T21:31:29.777Z"
   },
   {
    "duration": 9,
    "start_time": "2021-12-19T21:32:03.545Z"
   },
   {
    "duration": 2,
    "start_time": "2021-12-19T21:32:04.680Z"
   },
   {
    "duration": 9,
    "start_time": "2021-12-19T21:32:07.632Z"
   },
   {
    "duration": 3,
    "start_time": "2021-12-19T21:32:10.209Z"
   },
   {
    "duration": 9,
    "start_time": "2021-12-19T21:32:17.064Z"
   },
   {
    "duration": 17,
    "start_time": "2021-12-19T21:32:24.040Z"
   },
   {
    "duration": 16,
    "start_time": "2021-12-19T21:33:19.880Z"
   },
   {
    "duration": 17,
    "start_time": "2021-12-19T21:33:24.768Z"
   },
   {
    "duration": 15,
    "start_time": "2021-12-19T21:33:48.632Z"
   },
   {
    "duration": 13,
    "start_time": "2021-12-19T21:34:03.201Z"
   },
   {
    "duration": 16,
    "start_time": "2021-12-19T21:34:16.193Z"
   },
   {
    "duration": 16,
    "start_time": "2021-12-19T21:34:21.913Z"
   },
   {
    "duration": 14,
    "start_time": "2021-12-19T21:34:26.913Z"
   },
   {
    "duration": 15,
    "start_time": "2021-12-19T21:34:32.529Z"
   },
   {
    "duration": 14,
    "start_time": "2021-12-19T21:34:45.897Z"
   },
   {
    "duration": 16,
    "start_time": "2021-12-19T21:34:52.075Z"
   },
   {
    "duration": 14,
    "start_time": "2021-12-19T21:34:58.801Z"
   },
   {
    "duration": 259,
    "start_time": "2021-12-19T21:45:06.267Z"
   },
   {
    "duration": 111,
    "start_time": "2021-12-19T21:53:08.605Z"
   },
   {
    "duration": 100,
    "start_time": "2021-12-19T21:53:51.852Z"
   },
   {
    "duration": 8,
    "start_time": "2021-12-19T21:54:24.471Z"
   },
   {
    "duration": 8,
    "start_time": "2021-12-19T21:54:58.116Z"
   },
   {
    "duration": 10,
    "start_time": "2021-12-19T22:00:09.772Z"
   },
   {
    "duration": 12,
    "start_time": "2021-12-19T22:00:11.892Z"
   },
   {
    "duration": 19,
    "start_time": "2021-12-19T22:01:09.956Z"
   },
   {
    "duration": 11,
    "start_time": "2021-12-19T22:01:28.954Z"
   },
   {
    "duration": 353,
    "start_time": "2021-12-20T11:45:36.498Z"
   },
   {
    "duration": 353,
    "start_time": "2021-12-20T11:46:00.981Z"
   },
   {
    "duration": 185,
    "start_time": "2021-12-20T11:46:51.256Z"
   },
   {
    "duration": 4,
    "start_time": "2021-12-20T11:46:58.223Z"
   },
   {
    "duration": 5,
    "start_time": "2021-12-20T11:47:02.614Z"
   },
   {
    "duration": 591,
    "start_time": "2021-12-20T11:51:36.307Z"
   },
   {
    "duration": 773,
    "start_time": "2021-12-20T11:51:58.479Z"
   },
   {
    "duration": 134,
    "start_time": "2021-12-20T11:51:59.254Z"
   },
   {
    "duration": 16,
    "start_time": "2021-12-20T11:51:59.391Z"
   },
   {
    "duration": 34,
    "start_time": "2021-12-20T11:51:59.409Z"
   },
   {
    "duration": 10,
    "start_time": "2021-12-20T11:51:59.445Z"
   },
   {
    "duration": 11,
    "start_time": "2021-12-20T11:51:59.457Z"
   },
   {
    "duration": 13,
    "start_time": "2021-12-20T11:51:59.470Z"
   },
   {
    "duration": 24,
    "start_time": "2021-12-20T11:51:59.489Z"
   },
   {
    "duration": 19,
    "start_time": "2021-12-20T11:51:59.516Z"
   },
   {
    "duration": 51,
    "start_time": "2021-12-20T11:51:59.538Z"
   },
   {
    "duration": 61,
    "start_time": "2021-12-20T11:51:59.590Z"
   },
   {
    "duration": 81,
    "start_time": "2021-12-20T11:51:59.653Z"
   },
   {
    "duration": 55,
    "start_time": "2021-12-20T11:51:59.735Z"
   },
   {
    "duration": 38,
    "start_time": "2021-12-20T11:51:59.792Z"
   },
   {
    "duration": 6,
    "start_time": "2021-12-20T11:51:59.831Z"
   },
   {
    "duration": 20,
    "start_time": "2021-12-20T11:51:59.839Z"
   },
   {
    "duration": 46,
    "start_time": "2021-12-20T11:51:59.861Z"
   },
   {
    "duration": 11,
    "start_time": "2021-12-20T11:51:59.909Z"
   },
   {
    "duration": 11,
    "start_time": "2021-12-20T11:51:59.922Z"
   },
   {
    "duration": 5,
    "start_time": "2021-12-20T11:51:59.935Z"
   },
   {
    "duration": 47,
    "start_time": "2021-12-20T11:51:59.942Z"
   },
   {
    "duration": 15,
    "start_time": "2021-12-20T11:51:59.991Z"
   },
   {
    "duration": 20,
    "start_time": "2021-12-20T11:52:00.008Z"
   },
   {
    "duration": 16,
    "start_time": "2021-12-20T11:52:00.030Z"
   },
   {
    "duration": 42,
    "start_time": "2021-12-20T11:52:00.048Z"
   },
   {
    "duration": 15,
    "start_time": "2021-12-20T11:52:00.091Z"
   },
   {
    "duration": 12,
    "start_time": "2021-12-20T11:52:00.109Z"
   },
   {
    "duration": 31,
    "start_time": "2021-12-20T11:52:00.122Z"
   },
   {
    "duration": 9,
    "start_time": "2021-12-20T11:52:00.155Z"
   },
   {
    "duration": 10,
    "start_time": "2021-12-20T11:52:00.166Z"
   },
   {
    "duration": -3322,
    "start_time": "2021-12-20T11:52:17.963Z"
   },
   {
    "duration": -3324,
    "start_time": "2021-12-20T11:52:17.966Z"
   },
   {
    "duration": 15,
    "start_time": "2021-12-20T11:52:24.927Z"
   },
   {
    "duration": 8,
    "start_time": "2021-12-20T11:52:27.824Z"
   },
   {
    "duration": 10,
    "start_time": "2021-12-20T11:52:31.408Z"
   },
   {
    "duration": 10,
    "start_time": "2021-12-20T11:52:33.584Z"
   },
   {
    "duration": 3,
    "start_time": "2021-12-20T11:52:36.109Z"
   },
   {
    "duration": 9261,
    "start_time": "2021-12-20T11:52:42.080Z"
   },
   {
    "duration": 3,
    "start_time": "2021-12-20T11:54:29.941Z"
   },
   {
    "duration": 143,
    "start_time": "2021-12-20T11:54:29.945Z"
   },
   {
    "duration": 9,
    "start_time": "2021-12-20T11:54:30.090Z"
   },
   {
    "duration": 31,
    "start_time": "2021-12-20T11:54:30.101Z"
   },
   {
    "duration": 11,
    "start_time": "2021-12-20T11:54:30.134Z"
   },
   {
    "duration": 7,
    "start_time": "2021-12-20T11:54:30.146Z"
   },
   {
    "duration": 10,
    "start_time": "2021-12-20T11:54:30.155Z"
   },
   {
    "duration": 24,
    "start_time": "2021-12-20T11:54:30.167Z"
   },
   {
    "duration": 19,
    "start_time": "2021-12-20T11:54:30.192Z"
   },
   {
    "duration": 26,
    "start_time": "2021-12-20T11:54:30.212Z"
   },
   {
    "duration": 58,
    "start_time": "2021-12-20T11:54:30.240Z"
   },
   {
    "duration": 56,
    "start_time": "2021-12-20T11:54:30.300Z"
   },
   {
    "duration": 76,
    "start_time": "2021-12-20T11:54:30.358Z"
   },
   {
    "duration": 39,
    "start_time": "2021-12-20T11:54:30.436Z"
   },
   {
    "duration": 13,
    "start_time": "2021-12-20T11:54:30.476Z"
   },
   {
    "duration": 21,
    "start_time": "2021-12-20T11:54:30.490Z"
   },
   {
    "duration": 42,
    "start_time": "2021-12-20T11:54:30.512Z"
   },
   {
    "duration": 22,
    "start_time": "2021-12-20T11:54:30.555Z"
   },
   {
    "duration": 14,
    "start_time": "2021-12-20T11:54:30.580Z"
   },
   {
    "duration": 5,
    "start_time": "2021-12-20T11:54:30.596Z"
   },
   {
    "duration": 27,
    "start_time": "2021-12-20T11:54:30.603Z"
   },
   {
    "duration": 17,
    "start_time": "2021-12-20T11:54:30.632Z"
   },
   {
    "duration": 25,
    "start_time": "2021-12-20T11:54:30.650Z"
   },
   {
    "duration": 14,
    "start_time": "2021-12-20T11:54:30.677Z"
   },
   {
    "duration": 21,
    "start_time": "2021-12-20T11:54:30.693Z"
   },
   {
    "duration": 20,
    "start_time": "2021-12-20T11:54:30.716Z"
   },
   {
    "duration": 9,
    "start_time": "2021-12-20T11:54:30.738Z"
   },
   {
    "duration": 42,
    "start_time": "2021-12-20T11:54:30.749Z"
   },
   {
    "duration": 24,
    "start_time": "2021-12-20T11:54:30.793Z"
   },
   {
    "duration": 6,
    "start_time": "2021-12-20T11:54:30.819Z"
   },
   {
    "duration": 871,
    "start_time": "2021-12-20T11:54:33.216Z"
   },
   {
    "duration": 4,
    "start_time": "2021-12-20T11:56:02.298Z"
   },
   {
    "duration": 869,
    "start_time": "2021-12-20T11:56:05.610Z"
   },
   {
    "duration": 4,
    "start_time": "2021-12-20T11:56:52.097Z"
   },
   {
    "duration": 24,
    "start_time": "2021-12-20T11:56:54.755Z"
   },
   {
    "duration": 4,
    "start_time": "2021-12-20T11:57:36.754Z"
   },
   {
    "duration": 530,
    "start_time": "2021-12-20T11:57:38.710Z"
   },
   {
    "duration": 5,
    "start_time": "2021-12-20T11:58:34.355Z"
   },
   {
    "duration": 23,
    "start_time": "2021-12-20T11:58:39.553Z"
   },
   {
    "duration": 142,
    "start_time": "2021-12-20T12:00:43.708Z"
   },
   {
    "duration": 5,
    "start_time": "2021-12-20T12:00:52.458Z"
   },
   {
    "duration": 483,
    "start_time": "2021-12-20T12:00:55.864Z"
   },
   {
    "duration": 5,
    "start_time": "2021-12-20T12:01:31.994Z"
   },
   {
    "duration": 31,
    "start_time": "2021-12-20T12:01:34.818Z"
   },
   {
    "duration": 18,
    "start_time": "2021-12-20T12:02:00.618Z"
   },
   {
    "duration": 21,
    "start_time": "2021-12-20T12:02:58.666Z"
   },
   {
    "duration": 16,
    "start_time": "2021-12-20T12:03:19.179Z"
   },
   {
    "duration": 8,
    "start_time": "2021-12-20T12:10:43.740Z"
   },
   {
    "duration": 5,
    "start_time": "2021-12-20T12:11:14.177Z"
   },
   {
    "duration": 4,
    "start_time": "2021-12-20T12:12:47.285Z"
   },
   {
    "duration": 20,
    "start_time": "2021-12-20T12:12:54.901Z"
   },
   {
    "duration": 12,
    "start_time": "2021-12-20T12:13:38.494Z"
   },
   {
    "duration": 16,
    "start_time": "2021-12-20T12:13:42.486Z"
   },
   {
    "duration": 12,
    "start_time": "2021-12-20T12:13:44.574Z"
   },
   {
    "duration": 4,
    "start_time": "2021-12-20T12:14:00.870Z"
   },
   {
    "duration": 9,
    "start_time": "2021-12-20T12:17:14.775Z"
   },
   {
    "duration": 5,
    "start_time": "2021-12-20T12:17:17.349Z"
   },
   {
    "duration": 7,
    "start_time": "2021-12-20T12:17:28.910Z"
   },
   {
    "duration": 5,
    "start_time": "2021-12-20T12:17:35.556Z"
   },
   {
    "duration": 6,
    "start_time": "2021-12-20T12:17:42.550Z"
   },
   {
    "duration": 5,
    "start_time": "2021-12-20T12:18:01.039Z"
   },
   {
    "duration": 748,
    "start_time": "2021-12-21T08:26:28.462Z"
   },
   {
    "duration": 181,
    "start_time": "2021-12-21T08:26:29.212Z"
   },
   {
    "duration": 30,
    "start_time": "2021-12-21T08:26:29.396Z"
   },
   {
    "duration": 32,
    "start_time": "2021-12-21T08:26:29.428Z"
   },
   {
    "duration": 12,
    "start_time": "2021-12-21T08:26:29.462Z"
   },
   {
    "duration": 5,
    "start_time": "2021-12-21T08:26:29.476Z"
   },
   {
    "duration": 7,
    "start_time": "2021-12-21T08:26:29.483Z"
   },
   {
    "duration": 30,
    "start_time": "2021-12-21T08:26:29.519Z"
   },
   {
    "duration": 23,
    "start_time": "2021-12-21T08:26:29.552Z"
   },
   {
    "duration": 59,
    "start_time": "2021-12-21T08:26:29.578Z"
   },
   {
    "duration": 99,
    "start_time": "2021-12-21T08:26:29.639Z"
   },
   {
    "duration": 106,
    "start_time": "2021-12-21T08:26:29.741Z"
   },
   {
    "duration": 83,
    "start_time": "2021-12-21T08:26:29.849Z"
   },
   {
    "duration": 57,
    "start_time": "2021-12-21T08:26:29.935Z"
   },
   {
    "duration": 22,
    "start_time": "2021-12-21T08:26:29.995Z"
   },
   {
    "duration": 15,
    "start_time": "2021-12-21T08:26:30.019Z"
   },
   {
    "duration": 56,
    "start_time": "2021-12-21T08:26:30.037Z"
   },
   {
    "duration": 36,
    "start_time": "2021-12-21T08:26:30.095Z"
   },
   {
    "duration": 15,
    "start_time": "2021-12-21T08:26:30.134Z"
   },
   {
    "duration": 5,
    "start_time": "2021-12-21T08:26:30.151Z"
   },
   {
    "duration": 61,
    "start_time": "2021-12-21T08:26:30.158Z"
   },
   {
    "duration": 19,
    "start_time": "2021-12-21T08:26:30.221Z"
   },
   {
    "duration": 18,
    "start_time": "2021-12-21T08:26:30.245Z"
   },
   {
    "duration": 17,
    "start_time": "2021-12-21T08:26:30.266Z"
   },
   {
    "duration": 50,
    "start_time": "2021-12-21T08:26:30.285Z"
   },
   {
    "duration": 19,
    "start_time": "2021-12-21T08:26:30.337Z"
   },
   {
    "duration": 11,
    "start_time": "2021-12-21T08:26:30.359Z"
   },
   {
    "duration": 53,
    "start_time": "2021-12-21T08:26:30.373Z"
   },
   {
    "duration": 19,
    "start_time": "2021-12-21T08:26:30.428Z"
   },
   {
    "duration": 8,
    "start_time": "2021-12-21T08:26:30.449Z"
   },
   {
    "duration": 39,
    "start_time": "2021-12-21T08:26:30.459Z"
   },
   {
    "duration": 23,
    "start_time": "2021-12-21T08:26:30.501Z"
   },
   {
    "duration": 23,
    "start_time": "2021-12-21T08:26:30.526Z"
   },
   {
    "duration": 16,
    "start_time": "2021-12-21T08:26:30.551Z"
   },
   {
    "duration": 11,
    "start_time": "2021-12-21T08:26:30.569Z"
   },
   {
    "duration": 39,
    "start_time": "2021-12-21T08:26:30.582Z"
   },
   {
    "duration": 12,
    "start_time": "2021-12-21T08:26:30.623Z"
   },
   {
    "duration": 10,
    "start_time": "2021-12-21T08:26:30.637Z"
   },
   {
    "duration": 312,
    "start_time": "2021-12-21T16:50:14.919Z"
   },
   {
    "duration": 755,
    "start_time": "2021-12-21T16:50:56.897Z"
   },
   {
    "duration": 198,
    "start_time": "2021-12-21T16:50:57.655Z"
   },
   {
    "duration": 24,
    "start_time": "2021-12-21T16:50:57.856Z"
   },
   {
    "duration": 48,
    "start_time": "2021-12-21T16:50:57.883Z"
   },
   {
    "duration": 6,
    "start_time": "2021-12-21T16:50:57.933Z"
   },
   {
    "duration": 27,
    "start_time": "2021-12-21T16:50:59.013Z"
   },
   {
    "duration": 5,
    "start_time": "2021-12-21T16:51:03.509Z"
   },
   {
    "duration": 577,
    "start_time": "2021-12-21T20:48:12.276Z"
   },
   {
    "duration": 145,
    "start_time": "2021-12-21T20:48:12.855Z"
   },
   {
    "duration": 17,
    "start_time": "2021-12-21T20:48:13.005Z"
   },
   {
    "duration": 42,
    "start_time": "2021-12-21T20:48:13.023Z"
   },
   {
    "duration": 4,
    "start_time": "2021-12-21T20:48:13.067Z"
   },
   {
    "duration": 28,
    "start_time": "2021-12-21T20:48:13.073Z"
   },
   {
    "duration": 11,
    "start_time": "2021-12-21T20:48:13.104Z"
   },
   {
    "duration": 27,
    "start_time": "2021-12-21T20:48:13.117Z"
   },
   {
    "duration": 26,
    "start_time": "2021-12-21T20:48:13.146Z"
   },
   {
    "duration": 21,
    "start_time": "2021-12-21T20:48:13.174Z"
   },
   {
    "duration": 73,
    "start_time": "2021-12-21T20:48:13.197Z"
   },
   {
    "duration": 66,
    "start_time": "2021-12-21T20:48:13.271Z"
   },
   {
    "duration": 62,
    "start_time": "2021-12-21T20:48:13.339Z"
   },
   {
    "duration": 39,
    "start_time": "2021-12-21T20:48:13.402Z"
   },
   {
    "duration": 3,
    "start_time": "2021-12-21T20:48:13.443Z"
   },
   {
    "duration": 22,
    "start_time": "2021-12-21T20:48:13.447Z"
   },
   {
    "duration": 36,
    "start_time": "2021-12-21T20:48:13.470Z"
   },
   {
    "duration": 10,
    "start_time": "2021-12-21T20:48:13.508Z"
   },
   {
    "duration": 10,
    "start_time": "2021-12-21T20:48:13.519Z"
   },
   {
    "duration": 32,
    "start_time": "2021-12-21T20:48:13.531Z"
   },
   {
    "duration": 20,
    "start_time": "2021-12-21T20:48:13.565Z"
   },
   {
    "duration": 14,
    "start_time": "2021-12-21T20:48:13.588Z"
   },
   {
    "duration": 13,
    "start_time": "2021-12-21T20:48:13.603Z"
   },
   {
    "duration": 13,
    "start_time": "2021-12-21T20:48:13.618Z"
   },
   {
    "duration": 40,
    "start_time": "2021-12-21T20:48:13.633Z"
   },
   {
    "duration": 13,
    "start_time": "2021-12-21T20:48:13.674Z"
   },
   {
    "duration": 8,
    "start_time": "2021-12-21T20:48:13.689Z"
   },
   {
    "duration": 22,
    "start_time": "2021-12-21T20:48:13.698Z"
   },
   {
    "duration": 8,
    "start_time": "2021-12-21T20:48:13.722Z"
   },
   {
    "duration": 7,
    "start_time": "2021-12-21T20:48:13.732Z"
   },
   {
    "duration": 43,
    "start_time": "2021-12-21T20:48:13.741Z"
   },
   {
    "duration": 12,
    "start_time": "2021-12-21T20:48:13.785Z"
   },
   {
    "duration": 15,
    "start_time": "2021-12-21T20:48:13.799Z"
   },
   {
    "duration": 11,
    "start_time": "2021-12-21T20:48:13.816Z"
   },
   {
    "duration": 7,
    "start_time": "2021-12-21T20:48:13.828Z"
   },
   {
    "duration": 5,
    "start_time": "2021-12-21T20:48:13.860Z"
   },
   {
    "duration": 7,
    "start_time": "2021-12-21T20:48:13.866Z"
   },
   {
    "duration": 4,
    "start_time": "2021-12-21T20:48:13.875Z"
   },
   {
    "duration": 92,
    "start_time": "2021-12-21T20:53:29.949Z"
   },
   {
    "duration": 100,
    "start_time": "2021-12-21T20:53:40.077Z"
   },
   {
    "duration": 86,
    "start_time": "2021-12-21T20:53:50.215Z"
   },
   {
    "duration": 20,
    "start_time": "2021-12-21T20:54:40.936Z"
   },
   {
    "duration": 106,
    "start_time": "2021-12-22T18:55:58.735Z"
   },
   {
    "duration": 113,
    "start_time": "2021-12-22T18:56:32.560Z"
   },
   {
    "duration": 121,
    "start_time": "2021-12-22T18:57:12.342Z"
   },
   {
    "duration": 118,
    "start_time": "2021-12-22T18:57:19.199Z"
   },
   {
    "duration": 118,
    "start_time": "2021-12-22T18:58:10.512Z"
   },
   {
    "duration": 106,
    "start_time": "2021-12-22T18:58:46.199Z"
   },
   {
    "duration": 124,
    "start_time": "2021-12-22T19:00:00.167Z"
   },
   {
    "duration": 119,
    "start_time": "2022-07-11T17:56:56.889Z"
   },
   {
    "duration": 61,
    "start_time": "2022-07-11T17:57:40.398Z"
   },
   {
    "duration": 6774,
    "start_time": "2022-07-11T17:58:02.770Z"
   },
   {
    "duration": 452,
    "start_time": "2022-07-11T18:06:15.806Z"
   },
   {
    "duration": 123,
    "start_time": "2022-07-11T18:06:57.770Z"
   },
   {
    "duration": 75,
    "start_time": "2022-07-11T18:10:55.975Z"
   },
   {
    "duration": 100,
    "start_time": "2022-07-11T18:19:27.509Z"
   },
   {
    "duration": 198,
    "start_time": "2022-07-11T18:52:15.085Z"
   },
   {
    "duration": 136,
    "start_time": "2022-07-11T18:54:36.997Z"
   },
   {
    "duration": 141,
    "start_time": "2022-07-11T18:56:32.248Z"
   },
   {
    "duration": 134,
    "start_time": "2022-07-11T18:56:57.854Z"
   },
   {
    "duration": 141,
    "start_time": "2022-07-11T18:57:14.554Z"
   },
   {
    "duration": 154,
    "start_time": "2022-07-11T18:58:02.631Z"
   },
   {
    "duration": 157,
    "start_time": "2022-07-11T18:58:19.655Z"
   },
   {
    "duration": 159,
    "start_time": "2022-07-11T18:58:37.918Z"
   },
   {
    "duration": 132,
    "start_time": "2022-07-11T18:59:54.696Z"
   },
   {
    "duration": 128,
    "start_time": "2022-07-11T19:00:09.895Z"
   },
   {
    "duration": 137,
    "start_time": "2022-07-11T19:00:51.888Z"
   },
   {
    "duration": 150,
    "start_time": "2022-07-11T19:01:42.547Z"
   },
   {
    "duration": 138,
    "start_time": "2022-07-11T19:11:49.146Z"
   },
   {
    "duration": 147,
    "start_time": "2022-07-11T19:13:00.597Z"
   },
   {
    "duration": 147,
    "start_time": "2022-07-11T19:16:09.359Z"
   },
   {
    "duration": 211,
    "start_time": "2022-07-11T19:16:55.353Z"
   },
   {
    "duration": 127,
    "start_time": "2022-07-11T19:19:34.183Z"
   },
   {
    "duration": 80,
    "start_time": "2022-07-11T19:20:18.548Z"
   },
   {
    "duration": 74,
    "start_time": "2022-07-11T19:21:41.365Z"
   },
   {
    "duration": 182,
    "start_time": "2022-07-11T19:22:44.888Z"
   },
   {
    "duration": 68,
    "start_time": "2022-07-11T19:22:54.097Z"
   },
   {
    "duration": 74,
    "start_time": "2022-07-11T19:23:51.045Z"
   },
   {
    "duration": 72,
    "start_time": "2022-07-11T19:24:18.050Z"
   },
   {
    "duration": 132,
    "start_time": "2022-07-11T19:26:24.395Z"
   },
   {
    "duration": 97,
    "start_time": "2022-07-11T19:26:45.572Z"
   },
   {
    "duration": 61,
    "start_time": "2022-07-11T19:35:36.213Z"
   },
   {
    "duration": 51,
    "start_time": "2022-07-11T19:35:48.199Z"
   },
   {
    "duration": 74,
    "start_time": "2022-07-11T19:36:01.863Z"
   },
   {
    "duration": 76,
    "start_time": "2022-07-11T19:36:23.796Z"
   },
   {
    "duration": 124,
    "start_time": "2022-07-11T19:41:16.664Z"
   },
   {
    "duration": 344,
    "start_time": "2022-07-11T19:42:06.498Z"
   },
   {
    "duration": 150,
    "start_time": "2022-07-11T19:43:52.483Z"
   },
   {
    "duration": 79,
    "start_time": "2022-07-11T19:44:17.115Z"
   },
   {
    "duration": 71,
    "start_time": "2022-07-11T19:44:32.159Z"
   },
   {
    "duration": 73,
    "start_time": "2022-07-11T19:44:56.949Z"
   },
   {
    "duration": 72,
    "start_time": "2022-07-11T19:45:14.428Z"
   },
   {
    "duration": 147,
    "start_time": "2022-07-11T19:46:30.518Z"
   },
   {
    "duration": 144,
    "start_time": "2022-07-11T19:46:49.932Z"
   },
   {
    "duration": 164,
    "start_time": "2022-07-11T19:47:11.562Z"
   },
   {
    "duration": 54,
    "start_time": "2022-07-13T18:16:34.122Z"
   },
   {
    "duration": 7907,
    "start_time": "2022-07-13T18:16:40.937Z"
   },
   {
    "duration": 223,
    "start_time": "2022-07-13T18:16:48.846Z"
   },
   {
    "duration": 106,
    "start_time": "2022-07-13T18:16:49.071Z"
   },
   {
    "duration": 69,
    "start_time": "2022-07-13T18:16:49.179Z"
   },
   {
    "duration": 70,
    "start_time": "2022-07-13T18:16:49.250Z"
   },
   {
    "duration": 71,
    "start_time": "2022-07-13T18:16:49.322Z"
   },
   {
    "duration": 6,
    "start_time": "2022-07-13T18:16:49.394Z"
   },
   {
    "duration": 230,
    "start_time": "2022-07-13T18:16:49.401Z"
   },
   {
    "duration": 11,
    "start_time": "2022-07-13T18:16:49.633Z"
   },
   {
    "duration": 46,
    "start_time": "2022-07-13T18:16:49.645Z"
   },
   {
    "duration": 4,
    "start_time": "2022-07-13T18:16:49.693Z"
   },
   {
    "duration": 15,
    "start_time": "2022-07-13T18:16:49.698Z"
   },
   {
    "duration": 6,
    "start_time": "2022-07-13T18:16:49.715Z"
   },
   {
    "duration": 54,
    "start_time": "2022-07-13T18:16:49.724Z"
   },
   {
    "duration": 23,
    "start_time": "2022-07-13T18:16:49.781Z"
   },
   {
    "duration": 24,
    "start_time": "2022-07-13T18:16:49.806Z"
   },
   {
    "duration": 88,
    "start_time": "2022-07-13T18:16:49.832Z"
   },
   {
    "duration": 90,
    "start_time": "2022-07-13T18:16:49.922Z"
   },
   {
    "duration": 67,
    "start_time": "2022-07-13T18:16:50.014Z"
   },
   {
    "duration": 38,
    "start_time": "2022-07-13T18:16:50.083Z"
   },
   {
    "duration": 2,
    "start_time": "2022-07-13T18:16:50.123Z"
   },
   {
    "duration": 20,
    "start_time": "2022-07-13T18:16:50.127Z"
   },
   {
    "duration": 48,
    "start_time": "2022-07-13T18:16:50.171Z"
   },
   {
    "duration": 13,
    "start_time": "2022-07-13T18:16:50.220Z"
   },
   {
    "duration": 25,
    "start_time": "2022-07-13T18:16:50.235Z"
   },
   {
    "duration": 7,
    "start_time": "2022-07-13T18:16:50.263Z"
   },
   {
    "duration": 30,
    "start_time": "2022-07-13T18:16:50.272Z"
   },
   {
    "duration": 15,
    "start_time": "2022-07-13T18:16:50.304Z"
   },
   {
    "duration": 14,
    "start_time": "2022-07-13T18:16:50.320Z"
   },
   {
    "duration": 37,
    "start_time": "2022-07-13T18:16:50.336Z"
   },
   {
    "duration": 20,
    "start_time": "2022-07-13T18:16:50.375Z"
   },
   {
    "duration": 20,
    "start_time": "2022-07-13T18:16:50.396Z"
   },
   {
    "duration": 10,
    "start_time": "2022-07-13T18:16:50.418Z"
   },
   {
    "duration": 45,
    "start_time": "2022-07-13T18:16:50.430Z"
   },
   {
    "duration": 15,
    "start_time": "2022-07-13T18:16:50.477Z"
   },
   {
    "duration": 5,
    "start_time": "2022-07-13T18:16:50.494Z"
   },
   {
    "duration": 25,
    "start_time": "2022-07-13T18:16:50.501Z"
   },
   {
    "duration": 34,
    "start_time": "2022-07-13T18:16:50.528Z"
   },
   {
    "duration": 25,
    "start_time": "2022-07-13T18:16:50.564Z"
   },
   {
    "duration": 14,
    "start_time": "2022-07-13T18:16:50.591Z"
   },
   {
    "duration": 11,
    "start_time": "2022-07-13T18:16:50.609Z"
   },
   {
    "duration": 5,
    "start_time": "2022-07-13T18:16:50.622Z"
   },
   {
    "duration": 33,
    "start_time": "2022-07-13T18:16:50.629Z"
   },
   {
    "duration": 22,
    "start_time": "2022-07-13T18:16:50.664Z"
   }
  ],
  "colab": {
   "collapsed_sections": [
    "E0vqbgi9ay0H",
    "VUC88oWjTJw2"
   ],
   "name": "yandex_music_project_2021.2.ipynb",
   "provenance": []
  },
  "kernelspec": {
   "display_name": "Python 3 (ipykernel)",
   "language": "python",
   "name": "python3"
  },
  "language_info": {
   "codemirror_mode": {
    "name": "ipython",
    "version": 3
   },
   "file_extension": ".py",
   "mimetype": "text/x-python",
   "name": "python",
   "nbconvert_exporter": "python",
   "pygments_lexer": "ipython3",
   "version": "3.9.13"
  },
  "toc": {
   "base_numbering": 1,
   "nav_menu": {},
   "number_sections": true,
   "sideBar": true,
   "skip_h1_title": true,
   "title_cell": "Table of Contents",
   "title_sidebar": "Contents",
   "toc_cell": false,
   "toc_position": {},
   "toc_section_display": true,
   "toc_window_display": true
  }
 },
 "nbformat": 4,
 "nbformat_minor": 1
}
