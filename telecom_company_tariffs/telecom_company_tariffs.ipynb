{
 "cells": [
  {
   "cell_type": "markdown",
   "metadata": {},
   "source": [
    "# Определение перспективного тарифа для телеком-компании"
   ]
  },
  {
   "cell_type": "markdown",
   "metadata": {},
   "source": [
    "## Изучение данных из файлов  и предобработка данных"
   ]
  },
  {
   "cell_type": "code",
   "execution_count": 1,
   "metadata": {},
   "outputs": [],
   "source": [
    "import pandas as pd\n",
    "import matplotlib.pyplot as plt\n",
    "import math\n",
    "import numpy as np\n",
    "import warnings\n",
    "warnings.filterwarnings('ignore')\n",
    "pd.set_option('display.float_format', '{:,.1f}'.format)\n",
    "from scipy import stats as st"
   ]
  },
  {
   "cell_type": "code",
   "execution_count": 2,
   "metadata": {},
   "outputs": [
    {
     "data": {
      "text/html": [
       "<div>\n",
       "<style scoped>\n",
       "    .dataframe tbody tr th:only-of-type {\n",
       "        vertical-align: middle;\n",
       "    }\n",
       "\n",
       "    .dataframe tbody tr th {\n",
       "        vertical-align: top;\n",
       "    }\n",
       "\n",
       "    .dataframe thead th {\n",
       "        text-align: right;\n",
       "    }\n",
       "</style>\n",
       "<table border=\"1\" class=\"dataframe\">\n",
       "  <thead>\n",
       "    <tr style=\"text-align: right;\">\n",
       "      <th></th>\n",
       "      <th>id</th>\n",
       "      <th>call_date</th>\n",
       "      <th>duration</th>\n",
       "      <th>user_id</th>\n",
       "    </tr>\n",
       "  </thead>\n",
       "  <tbody>\n",
       "    <tr>\n",
       "      <td>0</td>\n",
       "      <td>1000_0</td>\n",
       "      <td>2018-07-25</td>\n",
       "      <td>0.0</td>\n",
       "      <td>1000</td>\n",
       "    </tr>\n",
       "    <tr>\n",
       "      <td>1</td>\n",
       "      <td>1000_1</td>\n",
       "      <td>2018-08-17</td>\n",
       "      <td>0.0</td>\n",
       "      <td>1000</td>\n",
       "    </tr>\n",
       "    <tr>\n",
       "      <td>2</td>\n",
       "      <td>1000_2</td>\n",
       "      <td>2018-06-11</td>\n",
       "      <td>2.9</td>\n",
       "      <td>1000</td>\n",
       "    </tr>\n",
       "    <tr>\n",
       "      <td>3</td>\n",
       "      <td>1000_3</td>\n",
       "      <td>2018-09-21</td>\n",
       "      <td>13.8</td>\n",
       "      <td>1000</td>\n",
       "    </tr>\n",
       "    <tr>\n",
       "      <td>4</td>\n",
       "      <td>1000_4</td>\n",
       "      <td>2018-12-15</td>\n",
       "      <td>5.2</td>\n",
       "      <td>1000</td>\n",
       "    </tr>\n",
       "  </tbody>\n",
       "</table>\n",
       "</div>"
      ],
      "text/plain": [
       "       id   call_date  duration  user_id\n",
       "0  1000_0  2018-07-25       0.0     1000\n",
       "1  1000_1  2018-08-17       0.0     1000\n",
       "2  1000_2  2018-06-11       2.9     1000\n",
       "3  1000_3  2018-09-21      13.8     1000\n",
       "4  1000_4  2018-12-15       5.2     1000"
      ]
     },
     "execution_count": 2,
     "metadata": {},
     "output_type": "execute_result"
    }
   ],
   "source": [
    "call = pd.read_csv('')\n",
    "call.head()"
   ]
  },
  {
   "cell_type": "code",
   "execution_count": 3,
   "metadata": {},
   "outputs": [
    {
     "name": "stdout",
     "output_type": "stream",
     "text": [
      "<class 'pandas.core.frame.DataFrame'>\n",
      "RangeIndex: 202607 entries, 0 to 202606\n",
      "Data columns (total 4 columns):\n",
      "id           202607 non-null object\n",
      "call_date    202607 non-null object\n",
      "duration     202607 non-null float64\n",
      "user_id      202607 non-null int64\n",
      "dtypes: float64(1), int64(1), object(2)\n",
      "memory usage: 6.2+ MB\n",
      "None\n"
     ]
    },
    {
     "data": {
      "text/html": [
       "<div>\n",
       "<style scoped>\n",
       "    .dataframe tbody tr th:only-of-type {\n",
       "        vertical-align: middle;\n",
       "    }\n",
       "\n",
       "    .dataframe tbody tr th {\n",
       "        vertical-align: top;\n",
       "    }\n",
       "\n",
       "    .dataframe thead th {\n",
       "        text-align: right;\n",
       "    }\n",
       "</style>\n",
       "<table border=\"1\" class=\"dataframe\">\n",
       "  <thead>\n",
       "    <tr style=\"text-align: right;\">\n",
       "      <th></th>\n",
       "      <th>duration</th>\n",
       "      <th>user_id</th>\n",
       "    </tr>\n",
       "  </thead>\n",
       "  <tbody>\n",
       "    <tr>\n",
       "      <td>count</td>\n",
       "      <td>202,607.0</td>\n",
       "      <td>202,607.0</td>\n",
       "    </tr>\n",
       "    <tr>\n",
       "      <td>mean</td>\n",
       "      <td>6.8</td>\n",
       "      <td>1,253.9</td>\n",
       "    </tr>\n",
       "    <tr>\n",
       "      <td>std</td>\n",
       "      <td>5.8</td>\n",
       "      <td>144.7</td>\n",
       "    </tr>\n",
       "    <tr>\n",
       "      <td>min</td>\n",
       "      <td>0.0</td>\n",
       "      <td>1,000.0</td>\n",
       "    </tr>\n",
       "    <tr>\n",
       "      <td>25%</td>\n",
       "      <td>1.3</td>\n",
       "      <td>1,126.0</td>\n",
       "    </tr>\n",
       "    <tr>\n",
       "      <td>50%</td>\n",
       "      <td>6.0</td>\n",
       "      <td>1,260.0</td>\n",
       "    </tr>\n",
       "    <tr>\n",
       "      <td>75%</td>\n",
       "      <td>10.7</td>\n",
       "      <td>1,379.0</td>\n",
       "    </tr>\n",
       "    <tr>\n",
       "      <td>max</td>\n",
       "      <td>38.0</td>\n",
       "      <td>1,499.0</td>\n",
       "    </tr>\n",
       "  </tbody>\n",
       "</table>\n",
       "</div>"
      ],
      "text/plain": [
       "       duration   user_id\n",
       "count 202,607.0 202,607.0\n",
       "mean        6.8   1,253.9\n",
       "std         5.8     144.7\n",
       "min         0.0   1,000.0\n",
       "25%         1.3   1,126.0\n",
       "50%         6.0   1,260.0\n",
       "75%        10.7   1,379.0\n",
       "max        38.0   1,499.0"
      ]
     },
     "execution_count": 3,
     "metadata": {},
     "output_type": "execute_result"
    }
   ],
   "source": [
    "print(call.info())\n",
    "call.describe()"
   ]
  },
  {
   "cell_type": "markdown",
   "metadata": {},
   "source": [
    "В столбце duration (продолжительность звонков) есть нули. Предположительно, это непринятые звонки. Максимальная длинна звонка - 38 мин. "
   ]
  },
  {
   "cell_type": "code",
   "execution_count": 4,
   "metadata": {},
   "outputs": [],
   "source": [
    "#в формат даты\n",
    "call['call_date'] = pd.to_datetime(call['call_date'], format='%Y-%m-%dT%H:%M:%S')"
   ]
  },
  {
   "cell_type": "code",
   "execution_count": 5,
   "metadata": {},
   "outputs": [
    {
     "data": {
      "text/html": [
       "<div>\n",
       "<style scoped>\n",
       "    .dataframe tbody tr th:only-of-type {\n",
       "        vertical-align: middle;\n",
       "    }\n",
       "\n",
       "    .dataframe tbody tr th {\n",
       "        vertical-align: top;\n",
       "    }\n",
       "\n",
       "    .dataframe thead th {\n",
       "        text-align: right;\n",
       "    }\n",
       "</style>\n",
       "<table border=\"1\" class=\"dataframe\">\n",
       "  <thead>\n",
       "    <tr style=\"text-align: right;\">\n",
       "      <th></th>\n",
       "      <th>id</th>\n",
       "      <th>call_date</th>\n",
       "      <th>duration</th>\n",
       "      <th>user_id</th>\n",
       "    </tr>\n",
       "  </thead>\n",
       "  <tbody>\n",
       "    <tr>\n",
       "      <td>0</td>\n",
       "      <td>1000_0</td>\n",
       "      <td>2018-07-25</td>\n",
       "      <td>0</td>\n",
       "      <td>1000</td>\n",
       "    </tr>\n",
       "    <tr>\n",
       "      <td>1</td>\n",
       "      <td>1000_1</td>\n",
       "      <td>2018-08-17</td>\n",
       "      <td>0</td>\n",
       "      <td>1000</td>\n",
       "    </tr>\n",
       "    <tr>\n",
       "      <td>2</td>\n",
       "      <td>1000_2</td>\n",
       "      <td>2018-06-11</td>\n",
       "      <td>3</td>\n",
       "      <td>1000</td>\n",
       "    </tr>\n",
       "    <tr>\n",
       "      <td>3</td>\n",
       "      <td>1000_3</td>\n",
       "      <td>2018-09-21</td>\n",
       "      <td>14</td>\n",
       "      <td>1000</td>\n",
       "    </tr>\n",
       "    <tr>\n",
       "      <td>4</td>\n",
       "      <td>1000_4</td>\n",
       "      <td>2018-12-15</td>\n",
       "      <td>6</td>\n",
       "      <td>1000</td>\n",
       "    </tr>\n",
       "  </tbody>\n",
       "</table>\n",
       "</div>"
      ],
      "text/plain": [
       "       id  call_date  duration  user_id\n",
       "0  1000_0 2018-07-25         0     1000\n",
       "1  1000_1 2018-08-17         0     1000\n",
       "2  1000_2 2018-06-11         3     1000\n",
       "3  1000_3 2018-09-21        14     1000\n",
       "4  1000_4 2018-12-15         6     1000"
      ]
     },
     "execution_count": 5,
     "metadata": {},
     "output_type": "execute_result"
    }
   ],
   "source": [
    "#так как оператор округляет минуты в секунды при каждом звонке, нужно сделать то же\n",
    "call['duration'] = call['duration'].apply(math.ceil)\n",
    "call.head()"
   ]
  },
  {
   "cell_type": "code",
   "execution_count": 6,
   "metadata": {},
   "outputs": [
    {
     "data": {
      "text/html": [
       "<div>\n",
       "<style scoped>\n",
       "    .dataframe tbody tr th:only-of-type {\n",
       "        vertical-align: middle;\n",
       "    }\n",
       "\n",
       "    .dataframe tbody tr th {\n",
       "        vertical-align: top;\n",
       "    }\n",
       "\n",
       "    .dataframe thead th {\n",
       "        text-align: right;\n",
       "    }\n",
       "</style>\n",
       "<table border=\"1\" class=\"dataframe\">\n",
       "  <thead>\n",
       "    <tr style=\"text-align: right;\">\n",
       "      <th></th>\n",
       "      <th>Unnamed: 0</th>\n",
       "      <th>id</th>\n",
       "      <th>mb_used</th>\n",
       "      <th>session_date</th>\n",
       "      <th>user_id</th>\n",
       "    </tr>\n",
       "  </thead>\n",
       "  <tbody>\n",
       "    <tr>\n",
       "      <td>0</td>\n",
       "      <td>0</td>\n",
       "      <td>1000_0</td>\n",
       "      <td>113.0</td>\n",
       "      <td>2018-11-25</td>\n",
       "      <td>1000</td>\n",
       "    </tr>\n",
       "    <tr>\n",
       "      <td>1</td>\n",
       "      <td>1</td>\n",
       "      <td>1000_1</td>\n",
       "      <td>1,052.8</td>\n",
       "      <td>2018-09-07</td>\n",
       "      <td>1000</td>\n",
       "    </tr>\n",
       "    <tr>\n",
       "      <td>2</td>\n",
       "      <td>2</td>\n",
       "      <td>1000_2</td>\n",
       "      <td>1,197.3</td>\n",
       "      <td>2018-06-25</td>\n",
       "      <td>1000</td>\n",
       "    </tr>\n",
       "    <tr>\n",
       "      <td>3</td>\n",
       "      <td>3</td>\n",
       "      <td>1000_3</td>\n",
       "      <td>550.3</td>\n",
       "      <td>2018-08-22</td>\n",
       "      <td>1000</td>\n",
       "    </tr>\n",
       "    <tr>\n",
       "      <td>4</td>\n",
       "      <td>4</td>\n",
       "      <td>1000_4</td>\n",
       "      <td>302.6</td>\n",
       "      <td>2018-09-24</td>\n",
       "      <td>1000</td>\n",
       "    </tr>\n",
       "  </tbody>\n",
       "</table>\n",
       "</div>"
      ],
      "text/plain": [
       "   Unnamed: 0      id  mb_used session_date  user_id\n",
       "0           0  1000_0    113.0   2018-11-25     1000\n",
       "1           1  1000_1  1,052.8   2018-09-07     1000\n",
       "2           2  1000_2  1,197.3   2018-06-25     1000\n",
       "3           3  1000_3    550.3   2018-08-22     1000\n",
       "4           4  1000_4    302.6   2018-09-24     1000"
      ]
     },
     "execution_count": 6,
     "metadata": {},
     "output_type": "execute_result"
    }
   ],
   "source": [
    "inter = pd.read_csv('')\n",
    "inter.head()"
   ]
  },
  {
   "cell_type": "code",
   "execution_count": 7,
   "metadata": {},
   "outputs": [
    {
     "name": "stdout",
     "output_type": "stream",
     "text": [
      "<class 'pandas.core.frame.DataFrame'>\n",
      "RangeIndex: 149396 entries, 0 to 149395\n",
      "Data columns (total 5 columns):\n",
      "Unnamed: 0      149396 non-null int64\n",
      "id              149396 non-null object\n",
      "mb_used         149396 non-null float64\n",
      "session_date    149396 non-null object\n",
      "user_id         149396 non-null int64\n",
      "dtypes: float64(1), int64(2), object(2)\n",
      "memory usage: 5.7+ MB\n"
     ]
    }
   ],
   "source": [
    "inter.info()"
   ]
  },
  {
   "cell_type": "code",
   "execution_count": 8,
   "metadata": {},
   "outputs": [],
   "source": [
    "#в формат даты\n",
    "inter['session_date'] = pd.to_datetime(inter['session_date'], format='%Y-%m-%dT%H:%M:%S')"
   ]
  },
  {
   "cell_type": "code",
   "execution_count": 9,
   "metadata": {},
   "outputs": [],
   "source": [
    "#перевод мб в гб\n",
    "inter['gb_used'] = inter['mb_used']/1024"
   ]
  },
  {
   "cell_type": "code",
   "execution_count": 10,
   "metadata": {},
   "outputs": [
    {
     "data": {
      "text/html": [
       "<div>\n",
       "<style scoped>\n",
       "    .dataframe tbody tr th:only-of-type {\n",
       "        vertical-align: middle;\n",
       "    }\n",
       "\n",
       "    .dataframe tbody tr th {\n",
       "        vertical-align: top;\n",
       "    }\n",
       "\n",
       "    .dataframe thead th {\n",
       "        text-align: right;\n",
       "    }\n",
       "</style>\n",
       "<table border=\"1\" class=\"dataframe\">\n",
       "  <thead>\n",
       "    <tr style=\"text-align: right;\">\n",
       "      <th></th>\n",
       "      <th>Unnamed: 0</th>\n",
       "      <th>mb_used</th>\n",
       "      <th>user_id</th>\n",
       "      <th>gb_used</th>\n",
       "    </tr>\n",
       "  </thead>\n",
       "  <tbody>\n",
       "    <tr>\n",
       "      <td>count</td>\n",
       "      <td>149,396.0</td>\n",
       "      <td>149,396.0</td>\n",
       "      <td>149,396.0</td>\n",
       "      <td>149,396.0</td>\n",
       "    </tr>\n",
       "    <tr>\n",
       "      <td>mean</td>\n",
       "      <td>74,697.5</td>\n",
       "      <td>370.2</td>\n",
       "      <td>1,252.1</td>\n",
       "      <td>0.4</td>\n",
       "    </tr>\n",
       "    <tr>\n",
       "      <td>std</td>\n",
       "      <td>43,127.1</td>\n",
       "      <td>278.3</td>\n",
       "      <td>144.1</td>\n",
       "      <td>0.3</td>\n",
       "    </tr>\n",
       "    <tr>\n",
       "      <td>min</td>\n",
       "      <td>0.0</td>\n",
       "      <td>0.0</td>\n",
       "      <td>1,000.0</td>\n",
       "      <td>0.0</td>\n",
       "    </tr>\n",
       "    <tr>\n",
       "      <td>25%</td>\n",
       "      <td>37,348.8</td>\n",
       "      <td>138.2</td>\n",
       "      <td>1,130.0</td>\n",
       "      <td>0.1</td>\n",
       "    </tr>\n",
       "    <tr>\n",
       "      <td>50%</td>\n",
       "      <td>74,697.5</td>\n",
       "      <td>348.0</td>\n",
       "      <td>1,251.0</td>\n",
       "      <td>0.3</td>\n",
       "    </tr>\n",
       "    <tr>\n",
       "      <td>75%</td>\n",
       "      <td>112,046.2</td>\n",
       "      <td>559.6</td>\n",
       "      <td>1,380.0</td>\n",
       "      <td>0.5</td>\n",
       "    </tr>\n",
       "    <tr>\n",
       "      <td>max</td>\n",
       "      <td>149,395.0</td>\n",
       "      <td>1,724.8</td>\n",
       "      <td>1,499.0</td>\n",
       "      <td>1.7</td>\n",
       "    </tr>\n",
       "  </tbody>\n",
       "</table>\n",
       "</div>"
      ],
      "text/plain": [
       "       Unnamed: 0   mb_used   user_id   gb_used\n",
       "count   149,396.0 149,396.0 149,396.0 149,396.0\n",
       "mean     74,697.5     370.2   1,252.1       0.4\n",
       "std      43,127.1     278.3     144.1       0.3\n",
       "min           0.0       0.0   1,000.0       0.0\n",
       "25%      37,348.8     138.2   1,130.0       0.1\n",
       "50%      74,697.5     348.0   1,251.0       0.3\n",
       "75%     112,046.2     559.6   1,380.0       0.5\n",
       "max     149,395.0   1,724.8   1,499.0       1.7"
      ]
     },
     "execution_count": 10,
     "metadata": {},
     "output_type": "execute_result"
    }
   ],
   "source": [
    "inter.describe()"
   ]
  },
  {
   "cell_type": "markdown",
   "metadata": {},
   "source": [
    "В данных присутствуют нулевые сесии. Предположительно, это ошибочные сессии. Максимальный расход гб за сессию - 1.7 гб. "
   ]
  },
  {
   "cell_type": "code",
   "execution_count": 11,
   "metadata": {},
   "outputs": [
    {
     "data": {
      "text/html": [
       "<div>\n",
       "<style scoped>\n",
       "    .dataframe tbody tr th:only-of-type {\n",
       "        vertical-align: middle;\n",
       "    }\n",
       "\n",
       "    .dataframe tbody tr th {\n",
       "        vertical-align: top;\n",
       "    }\n",
       "\n",
       "    .dataframe thead th {\n",
       "        text-align: right;\n",
       "    }\n",
       "</style>\n",
       "<table border=\"1\" class=\"dataframe\">\n",
       "  <thead>\n",
       "    <tr style=\"text-align: right;\">\n",
       "      <th></th>\n",
       "      <th>id</th>\n",
       "      <th>message_date</th>\n",
       "      <th>user_id</th>\n",
       "    </tr>\n",
       "  </thead>\n",
       "  <tbody>\n",
       "    <tr>\n",
       "      <td>0</td>\n",
       "      <td>1000_0</td>\n",
       "      <td>2018-06-27</td>\n",
       "      <td>1000</td>\n",
       "    </tr>\n",
       "    <tr>\n",
       "      <td>1</td>\n",
       "      <td>1000_1</td>\n",
       "      <td>2018-10-08</td>\n",
       "      <td>1000</td>\n",
       "    </tr>\n",
       "    <tr>\n",
       "      <td>2</td>\n",
       "      <td>1000_2</td>\n",
       "      <td>2018-08-04</td>\n",
       "      <td>1000</td>\n",
       "    </tr>\n",
       "    <tr>\n",
       "      <td>3</td>\n",
       "      <td>1000_3</td>\n",
       "      <td>2018-06-16</td>\n",
       "      <td>1000</td>\n",
       "    </tr>\n",
       "    <tr>\n",
       "      <td>4</td>\n",
       "      <td>1000_4</td>\n",
       "      <td>2018-12-05</td>\n",
       "      <td>1000</td>\n",
       "    </tr>\n",
       "  </tbody>\n",
       "</table>\n",
       "</div>"
      ],
      "text/plain": [
       "       id message_date  user_id\n",
       "0  1000_0   2018-06-27     1000\n",
       "1  1000_1   2018-10-08     1000\n",
       "2  1000_2   2018-08-04     1000\n",
       "3  1000_3   2018-06-16     1000\n",
       "4  1000_4   2018-12-05     1000"
      ]
     },
     "execution_count": 11,
     "metadata": {},
     "output_type": "execute_result"
    }
   ],
   "source": [
    "mess = pd.read_csv('')\n",
    "mess.head()"
   ]
  },
  {
   "cell_type": "code",
   "execution_count": 12,
   "metadata": {},
   "outputs": [
    {
     "name": "stdout",
     "output_type": "stream",
     "text": [
      "<class 'pandas.core.frame.DataFrame'>\n",
      "RangeIndex: 123036 entries, 0 to 123035\n",
      "Data columns (total 3 columns):\n",
      "id              123036 non-null object\n",
      "message_date    123036 non-null object\n",
      "user_id         123036 non-null int64\n",
      "dtypes: int64(1), object(2)\n",
      "memory usage: 2.8+ MB\n"
     ]
    }
   ],
   "source": [
    "mess.info()"
   ]
  },
  {
   "cell_type": "code",
   "execution_count": 13,
   "metadata": {},
   "outputs": [
    {
     "data": {
      "text/plain": [
       "user_id\n",
       "1000     496\n",
       "1002      70\n",
       "1003     380\n",
       "1004    1192\n",
       "1005     552\n",
       "Name: id, dtype: int64"
      ]
     },
     "execution_count": 13,
     "metadata": {},
     "output_type": "execute_result"
    }
   ],
   "source": [
    "count_mess = mess.groupby(['user_id'])['id'].count()\n",
    "count_mess.head()"
   ]
  },
  {
   "cell_type": "code",
   "execution_count": 14,
   "metadata": {},
   "outputs": [
    {
     "data": {
      "text/plain": [
       "count     426.0\n",
       "mean      288.8\n",
       "std       267.6\n",
       "min         1.0\n",
       "25%        85.8\n",
       "50%       215.5\n",
       "75%       414.0\n",
       "max     1,463.0\n",
       "Name: id, dtype: float64"
      ]
     },
     "execution_count": 14,
     "metadata": {},
     "output_type": "execute_result"
    }
   ],
   "source": [
    "count_mess.describe()"
   ]
  },
  {
   "cell_type": "markdown",
   "metadata": {},
   "source": [
    "Максимальное количество сообщений в месяц - 1463. Считаю, что такой максимум возможен. "
   ]
  },
  {
   "cell_type": "code",
   "execution_count": 15,
   "metadata": {},
   "outputs": [],
   "source": [
    "#в формат даты\n",
    "mess['message_date'] = pd.to_datetime(mess['message_date'], format='%Y-%m-%dT%H:%M:%S')"
   ]
  },
  {
   "cell_type": "code",
   "execution_count": 16,
   "metadata": {},
   "outputs": [
    {
     "data": {
      "text/html": [
       "<div>\n",
       "<style scoped>\n",
       "    .dataframe tbody tr th:only-of-type {\n",
       "        vertical-align: middle;\n",
       "    }\n",
       "\n",
       "    .dataframe tbody tr th {\n",
       "        vertical-align: top;\n",
       "    }\n",
       "\n",
       "    .dataframe thead th {\n",
       "        text-align: right;\n",
       "    }\n",
       "</style>\n",
       "<table border=\"1\" class=\"dataframe\">\n",
       "  <thead>\n",
       "    <tr style=\"text-align: right;\">\n",
       "      <th></th>\n",
       "      <th>messages_included</th>\n",
       "      <th>mb_per_month_included</th>\n",
       "      <th>minutes_included</th>\n",
       "      <th>rub_monthly_fee</th>\n",
       "      <th>rub_per_gb</th>\n",
       "      <th>rub_per_message</th>\n",
       "      <th>rub_per_minute</th>\n",
       "      <th>tariff_name</th>\n",
       "      <th>gb_per_month_included</th>\n",
       "    </tr>\n",
       "  </thead>\n",
       "  <tbody>\n",
       "    <tr>\n",
       "      <td>0</td>\n",
       "      <td>50</td>\n",
       "      <td>15360</td>\n",
       "      <td>500</td>\n",
       "      <td>550</td>\n",
       "      <td>200</td>\n",
       "      <td>3</td>\n",
       "      <td>3</td>\n",
       "      <td>smart</td>\n",
       "      <td>15.0</td>\n",
       "    </tr>\n",
       "    <tr>\n",
       "      <td>1</td>\n",
       "      <td>1000</td>\n",
       "      <td>30720</td>\n",
       "      <td>3000</td>\n",
       "      <td>1950</td>\n",
       "      <td>150</td>\n",
       "      <td>1</td>\n",
       "      <td>1</td>\n",
       "      <td>ultra</td>\n",
       "      <td>30.0</td>\n",
       "    </tr>\n",
       "  </tbody>\n",
       "</table>\n",
       "</div>"
      ],
      "text/plain": [
       "   messages_included  mb_per_month_included  minutes_included  \\\n",
       "0                 50                  15360               500   \n",
       "1               1000                  30720              3000   \n",
       "\n",
       "   rub_monthly_fee  rub_per_gb  rub_per_message  rub_per_minute tariff_name  \\\n",
       "0              550         200                3               3       smart   \n",
       "1             1950         150                1               1       ultra   \n",
       "\n",
       "   gb_per_month_included  \n",
       "0                   15.0  \n",
       "1                   30.0  "
      ]
     },
     "execution_count": 16,
     "metadata": {},
     "output_type": "execute_result"
    }
   ],
   "source": [
    "tariffs = pd.read_csv('')\n",
    "tariffs['gb_per_month_included'] = tariffs['mb_per_month_included']/1024\n",
    "tariffs.head()"
   ]
  },
  {
   "cell_type": "code",
   "execution_count": 17,
   "metadata": {},
   "outputs": [
    {
     "data": {
      "text/html": [
       "<div>\n",
       "<style scoped>\n",
       "    .dataframe tbody tr th:only-of-type {\n",
       "        vertical-align: middle;\n",
       "    }\n",
       "\n",
       "    .dataframe tbody tr th {\n",
       "        vertical-align: top;\n",
       "    }\n",
       "\n",
       "    .dataframe thead th {\n",
       "        text-align: right;\n",
       "    }\n",
       "</style>\n",
       "<table border=\"1\" class=\"dataframe\">\n",
       "  <thead>\n",
       "    <tr style=\"text-align: right;\">\n",
       "      <th></th>\n",
       "      <th>user_id</th>\n",
       "      <th>age</th>\n",
       "      <th>churn_date</th>\n",
       "      <th>city</th>\n",
       "      <th>first_name</th>\n",
       "      <th>last_name</th>\n",
       "      <th>reg_date</th>\n",
       "      <th>tariff</th>\n",
       "    </tr>\n",
       "  </thead>\n",
       "  <tbody>\n",
       "    <tr>\n",
       "      <td>0</td>\n",
       "      <td>1000</td>\n",
       "      <td>52</td>\n",
       "      <td>NaN</td>\n",
       "      <td>Краснодар</td>\n",
       "      <td>Рафаил</td>\n",
       "      <td>Верещагин</td>\n",
       "      <td>2018-05-25</td>\n",
       "      <td>ultra</td>\n",
       "    </tr>\n",
       "    <tr>\n",
       "      <td>1</td>\n",
       "      <td>1001</td>\n",
       "      <td>41</td>\n",
       "      <td>NaN</td>\n",
       "      <td>Москва</td>\n",
       "      <td>Иван</td>\n",
       "      <td>Ежов</td>\n",
       "      <td>2018-11-01</td>\n",
       "      <td>smart</td>\n",
       "    </tr>\n",
       "    <tr>\n",
       "      <td>2</td>\n",
       "      <td>1002</td>\n",
       "      <td>59</td>\n",
       "      <td>NaN</td>\n",
       "      <td>Стерлитамак</td>\n",
       "      <td>Евгений</td>\n",
       "      <td>Абрамович</td>\n",
       "      <td>2018-06-17</td>\n",
       "      <td>smart</td>\n",
       "    </tr>\n",
       "    <tr>\n",
       "      <td>3</td>\n",
       "      <td>1003</td>\n",
       "      <td>23</td>\n",
       "      <td>NaN</td>\n",
       "      <td>Москва</td>\n",
       "      <td>Белла</td>\n",
       "      <td>Белякова</td>\n",
       "      <td>2018-08-17</td>\n",
       "      <td>ultra</td>\n",
       "    </tr>\n",
       "    <tr>\n",
       "      <td>4</td>\n",
       "      <td>1004</td>\n",
       "      <td>68</td>\n",
       "      <td>NaN</td>\n",
       "      <td>Новокузнецк</td>\n",
       "      <td>Татьяна</td>\n",
       "      <td>Авдеенко</td>\n",
       "      <td>2018-05-14</td>\n",
       "      <td>ultra</td>\n",
       "    </tr>\n",
       "  </tbody>\n",
       "</table>\n",
       "</div>"
      ],
      "text/plain": [
       "   user_id  age churn_date         city first_name  last_name    reg_date  \\\n",
       "0     1000   52        NaN    Краснодар     Рафаил  Верещагин  2018-05-25   \n",
       "1     1001   41        NaN       Москва       Иван       Ежов  2018-11-01   \n",
       "2     1002   59        NaN  Стерлитамак    Евгений  Абрамович  2018-06-17   \n",
       "3     1003   23        NaN       Москва      Белла   Белякова  2018-08-17   \n",
       "4     1004   68        NaN  Новокузнецк    Татьяна   Авдеенко  2018-05-14   \n",
       "\n",
       "  tariff  \n",
       "0  ultra  \n",
       "1  smart  \n",
       "2  smart  \n",
       "3  ultra  \n",
       "4  ultra  "
      ]
     },
     "execution_count": 17,
     "metadata": {},
     "output_type": "execute_result"
    }
   ],
   "source": [
    "user = pd.read_csv('')\n",
    "user.head()"
   ]
  },
  {
   "cell_type": "markdown",
   "metadata": {},
   "source": [
    "В столбце \"churm date\" присутствуют значения NaN. Это означает, что тариф еще действует. Не считаю нужным заменять эти пропуски. "
   ]
  },
  {
   "cell_type": "code",
   "execution_count": 18,
   "metadata": {},
   "outputs": [
    {
     "name": "stdout",
     "output_type": "stream",
     "text": [
      "<class 'pandas.core.frame.DataFrame'>\n",
      "RangeIndex: 500 entries, 0 to 499\n",
      "Data columns (total 8 columns):\n",
      "user_id       500 non-null int64\n",
      "age           500 non-null int64\n",
      "churn_date    38 non-null object\n",
      "city          500 non-null object\n",
      "first_name    500 non-null object\n",
      "last_name     500 non-null object\n",
      "reg_date      500 non-null object\n",
      "tariff        500 non-null object\n",
      "dtypes: int64(2), object(6)\n",
      "memory usage: 31.4+ KB\n"
     ]
    }
   ],
   "source": [
    "user.info()"
   ]
  },
  {
   "cell_type": "code",
   "execution_count": 19,
   "metadata": {},
   "outputs": [],
   "source": [
    "#в формат даты\n",
    "user['churn_date'] = pd.to_datetime(user['churn_date'], format='%Y-%m-%dT%H:%M:%S')\n",
    "user['reg_date'] = pd.to_datetime(user['reg_date'], format='%Y-%m-%dT%H:%M:%S')"
   ]
  },
  {
   "cell_type": "code",
   "execution_count": 20,
   "metadata": {},
   "outputs": [
    {
     "name": "stdout",
     "output_type": "stream",
     "text": [
      "             id  call_date  duration  user_id\n",
      "20082  1054_415 2018-03-22         0     1054\n",
      "<class 'pandas.core.frame.DataFrame'>\n",
      "RangeIndex: 202607 entries, 0 to 202606\n",
      "Data columns (total 4 columns):\n",
      "id           202607 non-null object\n",
      "call_date    202607 non-null datetime64[ns]\n",
      "duration     202607 non-null int64\n",
      "user_id      202607 non-null int64\n",
      "dtypes: datetime64[ns](1), int64(2), object(1)\n",
      "memory usage: 6.2+ MB\n",
      "Дубликаты 0\n",
      "\n",
      "       Unnamed: 0        id  mb_used session_date  user_id  gb_used\n",
      "65669       65669  1224_315    158.3   2018-09-07     1224      0.2\n",
      "<class 'pandas.core.frame.DataFrame'>\n",
      "RangeIndex: 149396 entries, 0 to 149395\n",
      "Data columns (total 6 columns):\n",
      "Unnamed: 0      149396 non-null int64\n",
      "id              149396 non-null object\n",
      "mb_used         149396 non-null float64\n",
      "session_date    149396 non-null datetime64[ns]\n",
      "user_id         149396 non-null int64\n",
      "gb_used         149396 non-null float64\n",
      "dtypes: datetime64[ns](1), float64(2), int64(2), object(1)\n",
      "memory usage: 6.8+ MB\n",
      "Дубликаты 0\n",
      "\n",
      "              id message_date  user_id\n",
      "119963  1484_484   2018-11-11     1484\n",
      "<class 'pandas.core.frame.DataFrame'>\n",
      "RangeIndex: 123036 entries, 0 to 123035\n",
      "Data columns (total 3 columns):\n",
      "id              123036 non-null object\n",
      "message_date    123036 non-null datetime64[ns]\n",
      "user_id         123036 non-null int64\n",
      "dtypes: datetime64[ns](1), int64(1), object(1)\n",
      "memory usage: 2.8+ MB\n",
      "Дубликаты 0\n",
      "\n",
      "   messages_included  mb_per_month_included  minutes_included  \\\n",
      "0                 50                  15360               500   \n",
      "\n",
      "   rub_monthly_fee  rub_per_gb  rub_per_message  rub_per_minute tariff_name  \\\n",
      "0              550         200                3               3       smart   \n",
      "\n",
      "   gb_per_month_included  \n",
      "0                   15.0  \n",
      "<class 'pandas.core.frame.DataFrame'>\n",
      "RangeIndex: 2 entries, 0 to 1\n",
      "Data columns (total 9 columns):\n",
      "messages_included        2 non-null int64\n",
      "mb_per_month_included    2 non-null int64\n",
      "minutes_included         2 non-null int64\n",
      "rub_monthly_fee          2 non-null int64\n",
      "rub_per_gb               2 non-null int64\n",
      "rub_per_message          2 non-null int64\n",
      "rub_per_minute           2 non-null int64\n",
      "tariff_name              2 non-null object\n",
      "gb_per_month_included    2 non-null float64\n",
      "dtypes: float64(1), int64(7), object(1)\n",
      "memory usage: 272.0+ bytes\n",
      "Дубликаты 0\n",
      "\n",
      "     user_id  age churn_date  city first_name last_name   reg_date tariff\n",
      "354     1354   56        NaT  Сочи       Лола  Кулагина 2018-08-19  smart\n",
      "<class 'pandas.core.frame.DataFrame'>\n",
      "RangeIndex: 500 entries, 0 to 499\n",
      "Data columns (total 8 columns):\n",
      "user_id       500 non-null int64\n",
      "age           500 non-null int64\n",
      "churn_date    38 non-null datetime64[ns]\n",
      "city          500 non-null object\n",
      "first_name    500 non-null object\n",
      "last_name     500 non-null object\n",
      "reg_date      500 non-null datetime64[ns]\n",
      "tariff        500 non-null object\n",
      "dtypes: datetime64[ns](2), int64(2), object(4)\n",
      "memory usage: 31.4+ KB\n",
      "Дубликаты 0\n",
      "\n"
     ]
    }
   ],
   "source": [
    "#проверка, что предыдущие этапы подготовки данных прошли успешно \n",
    "title = [call, inter, mess, tariffs, user]\n",
    "for elem in title:\n",
    "    print(elem.sample())\n",
    "    elem.info()\n",
    "    print('Дубликаты', elem.duplicated().sum())\n",
    "    print()"
   ]
  },
  {
   "cell_type": "markdown",
   "metadata": {},
   "source": [
    "### Вывод\n",
    "\n",
    "Проведена предобработка данных: заменены типы данных, округлены значения минут (как это делает оператор), мб переведены в гб (так как оператор производит учет именно в гб), обнаружены и обоснованы нулевые значения. Далее можно приступать к расчетам. "
   ]
  },
  {
   "cell_type": "markdown",
   "metadata": {},
   "source": [
    "## Расчёты и добавление результатов в таблицу"
   ]
  },
  {
   "cell_type": "markdown",
   "metadata": {},
   "source": [
    "Для дальнейших манипуляций необходимо сгруппировать данные по юзеру и месяцу."
   ]
  },
  {
   "cell_type": "code",
   "execution_count": 21,
   "metadata": {},
   "outputs": [],
   "source": [
    "#сначала добавлю столбец с месяцем\n",
    "call['month'] = call['call_date'].dt.month\n",
    "inter['month'] = inter['session_date'].dt.month\n",
    "mess['month'] = mess['message_date'].dt.month"
   ]
  },
  {
   "cell_type": "code",
   "execution_count": 22,
   "metadata": {},
   "outputs": [
    {
     "data": {
      "text/html": [
       "<div>\n",
       "<style scoped>\n",
       "    .dataframe tbody tr th:only-of-type {\n",
       "        vertical-align: middle;\n",
       "    }\n",
       "\n",
       "    .dataframe tbody tr th {\n",
       "        vertical-align: top;\n",
       "    }\n",
       "\n",
       "    .dataframe thead th {\n",
       "        text-align: right;\n",
       "    }\n",
       "</style>\n",
       "<table border=\"1\" class=\"dataframe\">\n",
       "  <thead>\n",
       "    <tr style=\"text-align: right;\">\n",
       "      <th></th>\n",
       "      <th>user_id</th>\n",
       "      <th>month</th>\n",
       "      <th>min_sum</th>\n",
       "      <th>call_count</th>\n",
       "    </tr>\n",
       "  </thead>\n",
       "  <tbody>\n",
       "    <tr>\n",
       "      <td>0</td>\n",
       "      <td>1000</td>\n",
       "      <td>5</td>\n",
       "      <td>159</td>\n",
       "      <td>22</td>\n",
       "    </tr>\n",
       "    <tr>\n",
       "      <td>1</td>\n",
       "      <td>1000</td>\n",
       "      <td>6</td>\n",
       "      <td>172</td>\n",
       "      <td>43</td>\n",
       "    </tr>\n",
       "    <tr>\n",
       "      <td>2</td>\n",
       "      <td>1000</td>\n",
       "      <td>7</td>\n",
       "      <td>340</td>\n",
       "      <td>47</td>\n",
       "    </tr>\n",
       "    <tr>\n",
       "      <td>3</td>\n",
       "      <td>1000</td>\n",
       "      <td>8</td>\n",
       "      <td>408</td>\n",
       "      <td>52</td>\n",
       "    </tr>\n",
       "    <tr>\n",
       "      <td>4</td>\n",
       "      <td>1000</td>\n",
       "      <td>9</td>\n",
       "      <td>466</td>\n",
       "      <td>58</td>\n",
       "    </tr>\n",
       "  </tbody>\n",
       "</table>\n",
       "</div>"
      ],
      "text/plain": [
       "   user_id  month  min_sum  call_count\n",
       "0     1000      5      159          22\n",
       "1     1000      6      172          43\n",
       "2     1000      7      340          47\n",
       "3     1000      8      408          52\n",
       "4     1000      9      466          58"
      ]
     },
     "execution_count": 22,
     "metadata": {},
     "output_type": "execute_result"
    }
   ],
   "source": [
    "#группировка таблицы call и подсчет  количества сделанных звонков и \n",
    "#израсходованных минут разговора по месяцам\n",
    "\n",
    "call_group= call.groupby(['user_id', 'month']).agg({'duration':'sum', 'id':'count'}).reset_index()\n",
    "call_group = call_group.rename(columns={'duration':'min_sum', 'id': 'call_count'})\n",
    "call_group.head()"
   ]
  },
  {
   "cell_type": "code",
   "execution_count": 23,
   "metadata": {},
   "outputs": [
    {
     "data": {
      "text/html": [
       "<div>\n",
       "<style scoped>\n",
       "    .dataframe tbody tr th:only-of-type {\n",
       "        vertical-align: middle;\n",
       "    }\n",
       "\n",
       "    .dataframe tbody tr th {\n",
       "        vertical-align: top;\n",
       "    }\n",
       "\n",
       "    .dataframe thead th {\n",
       "        text-align: right;\n",
       "    }\n",
       "</style>\n",
       "<table border=\"1\" class=\"dataframe\">\n",
       "  <thead>\n",
       "    <tr style=\"text-align: right;\">\n",
       "      <th></th>\n",
       "      <th>user_id</th>\n",
       "      <th>month</th>\n",
       "      <th>mess_count</th>\n",
       "    </tr>\n",
       "  </thead>\n",
       "  <tbody>\n",
       "    <tr>\n",
       "      <td>0</td>\n",
       "      <td>1000</td>\n",
       "      <td>5</td>\n",
       "      <td>22</td>\n",
       "    </tr>\n",
       "    <tr>\n",
       "      <td>1</td>\n",
       "      <td>1000</td>\n",
       "      <td>6</td>\n",
       "      <td>60</td>\n",
       "    </tr>\n",
       "    <tr>\n",
       "      <td>2</td>\n",
       "      <td>1000</td>\n",
       "      <td>7</td>\n",
       "      <td>75</td>\n",
       "    </tr>\n",
       "    <tr>\n",
       "      <td>3</td>\n",
       "      <td>1000</td>\n",
       "      <td>8</td>\n",
       "      <td>81</td>\n",
       "    </tr>\n",
       "    <tr>\n",
       "      <td>4</td>\n",
       "      <td>1000</td>\n",
       "      <td>9</td>\n",
       "      <td>57</td>\n",
       "    </tr>\n",
       "  </tbody>\n",
       "</table>\n",
       "</div>"
      ],
      "text/plain": [
       "   user_id  month  mess_count\n",
       "0     1000      5          22\n",
       "1     1000      6          60\n",
       "2     1000      7          75\n",
       "3     1000      8          81\n",
       "4     1000      9          57"
      ]
     },
     "execution_count": 23,
     "metadata": {},
     "output_type": "execute_result"
    }
   ],
   "source": [
    "#группировка таблицы mess и подсчет  количества отправленных смс\n",
    "mess_group = mess.groupby(['user_id', 'month']).agg({'id':'count'}).reset_index()\n",
    "mess_group = mess_group.rename(columns={'id':'mess_count'})\n",
    "mess_group.head()"
   ]
  },
  {
   "cell_type": "code",
   "execution_count": 24,
   "metadata": {},
   "outputs": [
    {
     "data": {
      "text/html": [
       "<div>\n",
       "<style scoped>\n",
       "    .dataframe tbody tr th:only-of-type {\n",
       "        vertical-align: middle;\n",
       "    }\n",
       "\n",
       "    .dataframe tbody tr th {\n",
       "        vertical-align: top;\n",
       "    }\n",
       "\n",
       "    .dataframe thead th {\n",
       "        text-align: right;\n",
       "    }\n",
       "</style>\n",
       "<table border=\"1\" class=\"dataframe\">\n",
       "  <thead>\n",
       "    <tr style=\"text-align: right;\">\n",
       "      <th></th>\n",
       "      <th>user_id</th>\n",
       "      <th>month</th>\n",
       "      <th>gb_used</th>\n",
       "    </tr>\n",
       "  </thead>\n",
       "  <tbody>\n",
       "    <tr>\n",
       "      <td>0</td>\n",
       "      <td>1000</td>\n",
       "      <td>5</td>\n",
       "      <td>3</td>\n",
       "    </tr>\n",
       "    <tr>\n",
       "      <td>1</td>\n",
       "      <td>1000</td>\n",
       "      <td>6</td>\n",
       "      <td>23</td>\n",
       "    </tr>\n",
       "    <tr>\n",
       "      <td>2</td>\n",
       "      <td>1000</td>\n",
       "      <td>7</td>\n",
       "      <td>14</td>\n",
       "    </tr>\n",
       "    <tr>\n",
       "      <td>3</td>\n",
       "      <td>1000</td>\n",
       "      <td>8</td>\n",
       "      <td>14</td>\n",
       "    </tr>\n",
       "    <tr>\n",
       "      <td>4</td>\n",
       "      <td>1000</td>\n",
       "      <td>9</td>\n",
       "      <td>15</td>\n",
       "    </tr>\n",
       "  </tbody>\n",
       "</table>\n",
       "</div>"
      ],
      "text/plain": [
       "   user_id  month  gb_used\n",
       "0     1000      5        3\n",
       "1     1000      6       23\n",
       "2     1000      7       14\n",
       "3     1000      8       14\n",
       "4     1000      9       15"
      ]
     },
     "execution_count": 24,
     "metadata": {},
     "output_type": "execute_result"
    }
   ],
   "source": [
    "#группировка таблицы inter и подсчет  количества гб\n",
    "inter_group = inter.groupby(['user_id', 'month']).agg({'gb_used':'sum'}).reset_index()\n",
    "#теперь округлим гб до ближайшего целого, так как это делает опрератор \n",
    "inter_group['gb_used'] = inter_group['gb_used'].apply(math.ceil)\n",
    "inter_group.head()"
   ]
  },
  {
   "cell_type": "code",
   "execution_count": 25,
   "metadata": {},
   "outputs": [
    {
     "data": {
      "text/html": [
       "<div>\n",
       "<style scoped>\n",
       "    .dataframe tbody tr th:only-of-type {\n",
       "        vertical-align: middle;\n",
       "    }\n",
       "\n",
       "    .dataframe tbody tr th {\n",
       "        vertical-align: top;\n",
       "    }\n",
       "\n",
       "    .dataframe thead th {\n",
       "        text-align: right;\n",
       "    }\n",
       "</style>\n",
       "<table border=\"1\" class=\"dataframe\">\n",
       "  <thead>\n",
       "    <tr style=\"text-align: right;\">\n",
       "      <th></th>\n",
       "      <th>user_id</th>\n",
       "      <th>month</th>\n",
       "      <th>gb_used</th>\n",
       "      <th>mess_count</th>\n",
       "      <th>min_sum</th>\n",
       "      <th>call_count</th>\n",
       "    </tr>\n",
       "  </thead>\n",
       "  <tbody>\n",
       "    <tr>\n",
       "      <td>0</td>\n",
       "      <td>1000</td>\n",
       "      <td>5</td>\n",
       "      <td>3.0</td>\n",
       "      <td>22.0</td>\n",
       "      <td>159.0</td>\n",
       "      <td>22.0</td>\n",
       "    </tr>\n",
       "    <tr>\n",
       "      <td>1</td>\n",
       "      <td>1000</td>\n",
       "      <td>6</td>\n",
       "      <td>23.0</td>\n",
       "      <td>60.0</td>\n",
       "      <td>172.0</td>\n",
       "      <td>43.0</td>\n",
       "    </tr>\n",
       "    <tr>\n",
       "      <td>2</td>\n",
       "      <td>1000</td>\n",
       "      <td>7</td>\n",
       "      <td>14.0</td>\n",
       "      <td>75.0</td>\n",
       "      <td>340.0</td>\n",
       "      <td>47.0</td>\n",
       "    </tr>\n",
       "    <tr>\n",
       "      <td>3</td>\n",
       "      <td>1000</td>\n",
       "      <td>8</td>\n",
       "      <td>14.0</td>\n",
       "      <td>81.0</td>\n",
       "      <td>408.0</td>\n",
       "      <td>52.0</td>\n",
       "    </tr>\n",
       "    <tr>\n",
       "      <td>4</td>\n",
       "      <td>1000</td>\n",
       "      <td>9</td>\n",
       "      <td>15.0</td>\n",
       "      <td>57.0</td>\n",
       "      <td>466.0</td>\n",
       "      <td>58.0</td>\n",
       "    </tr>\n",
       "    <tr>\n",
       "      <td>...</td>\n",
       "      <td>...</td>\n",
       "      <td>...</td>\n",
       "      <td>...</td>\n",
       "      <td>...</td>\n",
       "      <td>...</td>\n",
       "      <td>...</td>\n",
       "    </tr>\n",
       "    <tr>\n",
       "      <td>3209</td>\n",
       "      <td>1273</td>\n",
       "      <td>11</td>\n",
       "      <td>0.0</td>\n",
       "      <td>29.0</td>\n",
       "      <td>272.0</td>\n",
       "      <td>45.0</td>\n",
       "    </tr>\n",
       "    <tr>\n",
       "      <td>3210</td>\n",
       "      <td>1273</td>\n",
       "      <td>12</td>\n",
       "      <td>0.0</td>\n",
       "      <td>39.0</td>\n",
       "      <td>260.0</td>\n",
       "      <td>41.0</td>\n",
       "    </tr>\n",
       "    <tr>\n",
       "      <td>3211</td>\n",
       "      <td>1377</td>\n",
       "      <td>2</td>\n",
       "      <td>0.0</td>\n",
       "      <td>2.0</td>\n",
       "      <td>179.0</td>\n",
       "      <td>23.0</td>\n",
       "    </tr>\n",
       "    <tr>\n",
       "      <td>3212</td>\n",
       "      <td>1392</td>\n",
       "      <td>2</td>\n",
       "      <td>0.0</td>\n",
       "      <td>3.0</td>\n",
       "      <td>13.0</td>\n",
       "      <td>2.0</td>\n",
       "    </tr>\n",
       "    <tr>\n",
       "      <td>3213</td>\n",
       "      <td>1446</td>\n",
       "      <td>8</td>\n",
       "      <td>0.0</td>\n",
       "      <td>1.0</td>\n",
       "      <td>50.0</td>\n",
       "      <td>4.0</td>\n",
       "    </tr>\n",
       "  </tbody>\n",
       "</table>\n",
       "<p>3214 rows × 6 columns</p>\n",
       "</div>"
      ],
      "text/plain": [
       "      user_id  month  gb_used  mess_count  min_sum  call_count\n",
       "0        1000      5      3.0        22.0    159.0        22.0\n",
       "1        1000      6     23.0        60.0    172.0        43.0\n",
       "2        1000      7     14.0        75.0    340.0        47.0\n",
       "3        1000      8     14.0        81.0    408.0        52.0\n",
       "4        1000      9     15.0        57.0    466.0        58.0\n",
       "...       ...    ...      ...         ...      ...         ...\n",
       "3209     1273     11      0.0        29.0    272.0        45.0\n",
       "3210     1273     12      0.0        39.0    260.0        41.0\n",
       "3211     1377      2      0.0         2.0    179.0        23.0\n",
       "3212     1392      2      0.0         3.0     13.0         2.0\n",
       "3213     1446      8      0.0         1.0     50.0         4.0\n",
       "\n",
       "[3214 rows x 6 columns]"
      ]
     },
     "metadata": {},
     "output_type": "display_data"
    }
   ],
   "source": [
    "#необходимо соединить таблицы 'call_group', 'inter_group' и 'mess_group' в одну\n",
    "one = inter_group.merge(mess_group, on=['user_id', 'month'], how='outer').merge(call_group, on=['user_id', 'month'], how='outer').fillna(0)\n",
    "display(one)"
   ]
  },
  {
   "cell_type": "code",
   "execution_count": 26,
   "metadata": {},
   "outputs": [
    {
     "data": {
      "text/html": [
       "<div>\n",
       "<style scoped>\n",
       "    .dataframe tbody tr th:only-of-type {\n",
       "        vertical-align: middle;\n",
       "    }\n",
       "\n",
       "    .dataframe tbody tr th {\n",
       "        vertical-align: top;\n",
       "    }\n",
       "\n",
       "    .dataframe thead th {\n",
       "        text-align: right;\n",
       "    }\n",
       "</style>\n",
       "<table border=\"1\" class=\"dataframe\">\n",
       "  <thead>\n",
       "    <tr style=\"text-align: right;\">\n",
       "      <th></th>\n",
       "      <th>user_id</th>\n",
       "      <th>month</th>\n",
       "      <th>gb_used</th>\n",
       "      <th>mess_count</th>\n",
       "      <th>min_sum</th>\n",
       "      <th>call_count</th>\n",
       "      <th>age</th>\n",
       "      <th>churn_date</th>\n",
       "      <th>city</th>\n",
       "      <th>first_name</th>\n",
       "      <th>...</th>\n",
       "      <th>tariff</th>\n",
       "      <th>messages_included</th>\n",
       "      <th>mb_per_month_included</th>\n",
       "      <th>minutes_included</th>\n",
       "      <th>rub_monthly_fee</th>\n",
       "      <th>rub_per_gb</th>\n",
       "      <th>rub_per_message</th>\n",
       "      <th>rub_per_minute</th>\n",
       "      <th>tariff_name</th>\n",
       "      <th>gb_per_month_included</th>\n",
       "    </tr>\n",
       "  </thead>\n",
       "  <tbody>\n",
       "    <tr>\n",
       "      <td>0</td>\n",
       "      <td>1000</td>\n",
       "      <td>5</td>\n",
       "      <td>3.0</td>\n",
       "      <td>22.0</td>\n",
       "      <td>159.0</td>\n",
       "      <td>22.0</td>\n",
       "      <td>52</td>\n",
       "      <td>NaT</td>\n",
       "      <td>Краснодар</td>\n",
       "      <td>Рафаил</td>\n",
       "      <td>...</td>\n",
       "      <td>ultra</td>\n",
       "      <td>1000</td>\n",
       "      <td>30720</td>\n",
       "      <td>3000</td>\n",
       "      <td>1950</td>\n",
       "      <td>150</td>\n",
       "      <td>1</td>\n",
       "      <td>1</td>\n",
       "      <td>ultra</td>\n",
       "      <td>30.0</td>\n",
       "    </tr>\n",
       "    <tr>\n",
       "      <td>1</td>\n",
       "      <td>1000</td>\n",
       "      <td>6</td>\n",
       "      <td>23.0</td>\n",
       "      <td>60.0</td>\n",
       "      <td>172.0</td>\n",
       "      <td>43.0</td>\n",
       "      <td>52</td>\n",
       "      <td>NaT</td>\n",
       "      <td>Краснодар</td>\n",
       "      <td>Рафаил</td>\n",
       "      <td>...</td>\n",
       "      <td>ultra</td>\n",
       "      <td>1000</td>\n",
       "      <td>30720</td>\n",
       "      <td>3000</td>\n",
       "      <td>1950</td>\n",
       "      <td>150</td>\n",
       "      <td>1</td>\n",
       "      <td>1</td>\n",
       "      <td>ultra</td>\n",
       "      <td>30.0</td>\n",
       "    </tr>\n",
       "    <tr>\n",
       "      <td>2</td>\n",
       "      <td>1000</td>\n",
       "      <td>7</td>\n",
       "      <td>14.0</td>\n",
       "      <td>75.0</td>\n",
       "      <td>340.0</td>\n",
       "      <td>47.0</td>\n",
       "      <td>52</td>\n",
       "      <td>NaT</td>\n",
       "      <td>Краснодар</td>\n",
       "      <td>Рафаил</td>\n",
       "      <td>...</td>\n",
       "      <td>ultra</td>\n",
       "      <td>1000</td>\n",
       "      <td>30720</td>\n",
       "      <td>3000</td>\n",
       "      <td>1950</td>\n",
       "      <td>150</td>\n",
       "      <td>1</td>\n",
       "      <td>1</td>\n",
       "      <td>ultra</td>\n",
       "      <td>30.0</td>\n",
       "    </tr>\n",
       "    <tr>\n",
       "      <td>3</td>\n",
       "      <td>1000</td>\n",
       "      <td>8</td>\n",
       "      <td>14.0</td>\n",
       "      <td>81.0</td>\n",
       "      <td>408.0</td>\n",
       "      <td>52.0</td>\n",
       "      <td>52</td>\n",
       "      <td>NaT</td>\n",
       "      <td>Краснодар</td>\n",
       "      <td>Рафаил</td>\n",
       "      <td>...</td>\n",
       "      <td>ultra</td>\n",
       "      <td>1000</td>\n",
       "      <td>30720</td>\n",
       "      <td>3000</td>\n",
       "      <td>1950</td>\n",
       "      <td>150</td>\n",
       "      <td>1</td>\n",
       "      <td>1</td>\n",
       "      <td>ultra</td>\n",
       "      <td>30.0</td>\n",
       "    </tr>\n",
       "    <tr>\n",
       "      <td>4</td>\n",
       "      <td>1000</td>\n",
       "      <td>9</td>\n",
       "      <td>15.0</td>\n",
       "      <td>57.0</td>\n",
       "      <td>466.0</td>\n",
       "      <td>58.0</td>\n",
       "      <td>52</td>\n",
       "      <td>NaT</td>\n",
       "      <td>Краснодар</td>\n",
       "      <td>Рафаил</td>\n",
       "      <td>...</td>\n",
       "      <td>ultra</td>\n",
       "      <td>1000</td>\n",
       "      <td>30720</td>\n",
       "      <td>3000</td>\n",
       "      <td>1950</td>\n",
       "      <td>150</td>\n",
       "      <td>1</td>\n",
       "      <td>1</td>\n",
       "      <td>ultra</td>\n",
       "      <td>30.0</td>\n",
       "    </tr>\n",
       "  </tbody>\n",
       "</table>\n",
       "<p>5 rows × 22 columns</p>\n",
       "</div>"
      ],
      "text/plain": [
       "   user_id  month  gb_used  mess_count  min_sum  call_count  age churn_date  \\\n",
       "0     1000      5      3.0        22.0    159.0        22.0   52        NaT   \n",
       "1     1000      6     23.0        60.0    172.0        43.0   52        NaT   \n",
       "2     1000      7     14.0        75.0    340.0        47.0   52        NaT   \n",
       "3     1000      8     14.0        81.0    408.0        52.0   52        NaT   \n",
       "4     1000      9     15.0        57.0    466.0        58.0   52        NaT   \n",
       "\n",
       "        city first_name  ... tariff messages_included mb_per_month_included  \\\n",
       "0  Краснодар     Рафаил  ...  ultra              1000                 30720   \n",
       "1  Краснодар     Рафаил  ...  ultra              1000                 30720   \n",
       "2  Краснодар     Рафаил  ...  ultra              1000                 30720   \n",
       "3  Краснодар     Рафаил  ...  ultra              1000                 30720   \n",
       "4  Краснодар     Рафаил  ...  ultra              1000                 30720   \n",
       "\n",
       "   minutes_included  rub_monthly_fee  rub_per_gb  rub_per_message  \\\n",
       "0              3000             1950         150                1   \n",
       "1              3000             1950         150                1   \n",
       "2              3000             1950         150                1   \n",
       "3              3000             1950         150                1   \n",
       "4              3000             1950         150                1   \n",
       "\n",
       "   rub_per_minute  tariff_name  gb_per_month_included  \n",
       "0               1        ultra                   30.0  \n",
       "1               1        ultra                   30.0  \n",
       "2               1        ultra                   30.0  \n",
       "3               1        ultra                   30.0  \n",
       "4               1        ultra                   30.0  \n",
       "\n",
       "[5 rows x 22 columns]"
      ]
     },
     "execution_count": 26,
     "metadata": {},
     "output_type": "execute_result"
    }
   ],
   "source": [
    "#далее присоединяю таблицы 'user' и 'tariffs'\n",
    "one = one.merge(user, on = 'user_id', how = 'left').merge(tariffs, left_on = 'tariff', right_on = 'tariff_name', how = 'left')\n",
    "one.head()\n",
    "#one.info()"
   ]
  },
  {
   "cell_type": "code",
   "execution_count": 27,
   "metadata": {},
   "outputs": [],
   "source": [
    "#функция для рассчета прибыли, полученной с каждого пользователя\n",
    "def benefit(df):\n",
    "    if (df['min_sum'] - df['minutes_included']) > 0:\n",
    "        over_min = (df['min_sum'] - df['minutes_included'])*df['rub_per_minute']\n",
    "    else:\n",
    "        over_min = 0\n",
    "    if (df['mess_count'] - df['messages_included']) > 0:\n",
    "        over_mess = (df['mess_count'] - df['messages_included'])*df['rub_per_message']\n",
    "    else:\n",
    "        over_mess = 0\n",
    "    if (df['gb_used'] - df['gb_per_month_included']) > 0:\n",
    "        over_gb = (df['gb_used'] - df['gb_per_month_included'])*df['rub_per_gb']\n",
    "    else:\n",
    "        over_gb = 0\n",
    "    benefit = df['rub_monthly_fee'] + over_min + over_mess +  over_gb    \n",
    "    return benefit\n"
   ]
  },
  {
   "cell_type": "code",
   "execution_count": 28,
   "metadata": {},
   "outputs": [
    {
     "data": {
      "text/html": [
       "<div>\n",
       "<style scoped>\n",
       "    .dataframe tbody tr th:only-of-type {\n",
       "        vertical-align: middle;\n",
       "    }\n",
       "\n",
       "    .dataframe tbody tr th {\n",
       "        vertical-align: top;\n",
       "    }\n",
       "\n",
       "    .dataframe thead th {\n",
       "        text-align: right;\n",
       "    }\n",
       "</style>\n",
       "<table border=\"1\" class=\"dataframe\">\n",
       "  <thead>\n",
       "    <tr style=\"text-align: right;\">\n",
       "      <th></th>\n",
       "      <th>user_id</th>\n",
       "      <th>month</th>\n",
       "      <th>gb_used</th>\n",
       "      <th>mess_count</th>\n",
       "      <th>min_sum</th>\n",
       "      <th>call_count</th>\n",
       "      <th>age</th>\n",
       "      <th>churn_date</th>\n",
       "      <th>city</th>\n",
       "      <th>first_name</th>\n",
       "      <th>...</th>\n",
       "      <th>messages_included</th>\n",
       "      <th>mb_per_month_included</th>\n",
       "      <th>minutes_included</th>\n",
       "      <th>rub_monthly_fee</th>\n",
       "      <th>rub_per_gb</th>\n",
       "      <th>rub_per_message</th>\n",
       "      <th>rub_per_minute</th>\n",
       "      <th>tariff_name</th>\n",
       "      <th>gb_per_month_included</th>\n",
       "      <th>benefit_one</th>\n",
       "    </tr>\n",
       "  </thead>\n",
       "  <tbody>\n",
       "    <tr>\n",
       "      <td>0</td>\n",
       "      <td>1000</td>\n",
       "      <td>5</td>\n",
       "      <td>3.0</td>\n",
       "      <td>22.0</td>\n",
       "      <td>159.0</td>\n",
       "      <td>22.0</td>\n",
       "      <td>52</td>\n",
       "      <td>NaT</td>\n",
       "      <td>Краснодар</td>\n",
       "      <td>Рафаил</td>\n",
       "      <td>...</td>\n",
       "      <td>1000</td>\n",
       "      <td>30720</td>\n",
       "      <td>3000</td>\n",
       "      <td>1950</td>\n",
       "      <td>150</td>\n",
       "      <td>1</td>\n",
       "      <td>1</td>\n",
       "      <td>ultra</td>\n",
       "      <td>30.0</td>\n",
       "      <td>1,950.0</td>\n",
       "    </tr>\n",
       "    <tr>\n",
       "      <td>1</td>\n",
       "      <td>1000</td>\n",
       "      <td>6</td>\n",
       "      <td>23.0</td>\n",
       "      <td>60.0</td>\n",
       "      <td>172.0</td>\n",
       "      <td>43.0</td>\n",
       "      <td>52</td>\n",
       "      <td>NaT</td>\n",
       "      <td>Краснодар</td>\n",
       "      <td>Рафаил</td>\n",
       "      <td>...</td>\n",
       "      <td>1000</td>\n",
       "      <td>30720</td>\n",
       "      <td>3000</td>\n",
       "      <td>1950</td>\n",
       "      <td>150</td>\n",
       "      <td>1</td>\n",
       "      <td>1</td>\n",
       "      <td>ultra</td>\n",
       "      <td>30.0</td>\n",
       "      <td>1,950.0</td>\n",
       "    </tr>\n",
       "    <tr>\n",
       "      <td>2</td>\n",
       "      <td>1000</td>\n",
       "      <td>7</td>\n",
       "      <td>14.0</td>\n",
       "      <td>75.0</td>\n",
       "      <td>340.0</td>\n",
       "      <td>47.0</td>\n",
       "      <td>52</td>\n",
       "      <td>NaT</td>\n",
       "      <td>Краснодар</td>\n",
       "      <td>Рафаил</td>\n",
       "      <td>...</td>\n",
       "      <td>1000</td>\n",
       "      <td>30720</td>\n",
       "      <td>3000</td>\n",
       "      <td>1950</td>\n",
       "      <td>150</td>\n",
       "      <td>1</td>\n",
       "      <td>1</td>\n",
       "      <td>ultra</td>\n",
       "      <td>30.0</td>\n",
       "      <td>1,950.0</td>\n",
       "    </tr>\n",
       "    <tr>\n",
       "      <td>3</td>\n",
       "      <td>1000</td>\n",
       "      <td>8</td>\n",
       "      <td>14.0</td>\n",
       "      <td>81.0</td>\n",
       "      <td>408.0</td>\n",
       "      <td>52.0</td>\n",
       "      <td>52</td>\n",
       "      <td>NaT</td>\n",
       "      <td>Краснодар</td>\n",
       "      <td>Рафаил</td>\n",
       "      <td>...</td>\n",
       "      <td>1000</td>\n",
       "      <td>30720</td>\n",
       "      <td>3000</td>\n",
       "      <td>1950</td>\n",
       "      <td>150</td>\n",
       "      <td>1</td>\n",
       "      <td>1</td>\n",
       "      <td>ultra</td>\n",
       "      <td>30.0</td>\n",
       "      <td>1,950.0</td>\n",
       "    </tr>\n",
       "    <tr>\n",
       "      <td>4</td>\n",
       "      <td>1000</td>\n",
       "      <td>9</td>\n",
       "      <td>15.0</td>\n",
       "      <td>57.0</td>\n",
       "      <td>466.0</td>\n",
       "      <td>58.0</td>\n",
       "      <td>52</td>\n",
       "      <td>NaT</td>\n",
       "      <td>Краснодар</td>\n",
       "      <td>Рафаил</td>\n",
       "      <td>...</td>\n",
       "      <td>1000</td>\n",
       "      <td>30720</td>\n",
       "      <td>3000</td>\n",
       "      <td>1950</td>\n",
       "      <td>150</td>\n",
       "      <td>1</td>\n",
       "      <td>1</td>\n",
       "      <td>ultra</td>\n",
       "      <td>30.0</td>\n",
       "      <td>1,950.0</td>\n",
       "    </tr>\n",
       "  </tbody>\n",
       "</table>\n",
       "<p>5 rows × 23 columns</p>\n",
       "</div>"
      ],
      "text/plain": [
       "   user_id  month  gb_used  mess_count  min_sum  call_count  age churn_date  \\\n",
       "0     1000      5      3.0        22.0    159.0        22.0   52        NaT   \n",
       "1     1000      6     23.0        60.0    172.0        43.0   52        NaT   \n",
       "2     1000      7     14.0        75.0    340.0        47.0   52        NaT   \n",
       "3     1000      8     14.0        81.0    408.0        52.0   52        NaT   \n",
       "4     1000      9     15.0        57.0    466.0        58.0   52        NaT   \n",
       "\n",
       "        city first_name  ... messages_included mb_per_month_included  \\\n",
       "0  Краснодар     Рафаил  ...              1000                 30720   \n",
       "1  Краснодар     Рафаил  ...              1000                 30720   \n",
       "2  Краснодар     Рафаил  ...              1000                 30720   \n",
       "3  Краснодар     Рафаил  ...              1000                 30720   \n",
       "4  Краснодар     Рафаил  ...              1000                 30720   \n",
       "\n",
       "  minutes_included  rub_monthly_fee  rub_per_gb  rub_per_message  \\\n",
       "0             3000             1950         150                1   \n",
       "1             3000             1950         150                1   \n",
       "2             3000             1950         150                1   \n",
       "3             3000             1950         150                1   \n",
       "4             3000             1950         150                1   \n",
       "\n",
       "   rub_per_minute  tariff_name  gb_per_month_included  benefit_one  \n",
       "0               1        ultra                   30.0      1,950.0  \n",
       "1               1        ultra                   30.0      1,950.0  \n",
       "2               1        ultra                   30.0      1,950.0  \n",
       "3               1        ultra                   30.0      1,950.0  \n",
       "4               1        ultra                   30.0      1,950.0  \n",
       "\n",
       "[5 rows x 23 columns]"
      ]
     },
     "execution_count": 28,
     "metadata": {},
     "output_type": "execute_result"
    }
   ],
   "source": [
    "one['benefit_one'] = one.apply(benefit, axis=1)\n",
    "one.head()"
   ]
  },
  {
   "cell_type": "markdown",
   "metadata": {},
   "source": [
    "### Вывод\n",
    "\n",
    "В таблицу добавлены необходимые для анализа столбцы. Таблицы соеденены в одну, проведен расчет прибыли, полученной с каждого пользователя в месяц. Далее можно приступать к анализу данных. "
   ]
  },
  {
   "cell_type": "markdown",
   "metadata": {},
   "source": [
    "## Исследовательский анализ данных"
   ]
  },
  {
   "cell_type": "code",
   "execution_count": 29,
   "metadata": {},
   "outputs": [],
   "source": [
    "#для дальнейшей обработки разделяю таблицу по тарифам\n",
    "tariff_smart = one.query('tariff_name != \"ultra\"')"
   ]
  },
  {
   "cell_type": "code",
   "execution_count": 30,
   "metadata": {},
   "outputs": [],
   "source": [
    "tariff_ultra = one.query('tariff_name == \"ultra\"')"
   ]
  },
  {
   "cell_type": "code",
   "execution_count": 31,
   "metadata": {},
   "outputs": [
    {
     "name": "stdout",
     "output_type": "stream",
     "text": [
      "Тариф Смарт\n",
      "       gb_used  mess_count  min_sum  benefit_one\n",
      "count  2,229.0     2,229.0  2,229.0      2,229.0\n",
      "mean      16.3        33.4    417.9      1,290.0\n",
      "std        5.7        28.2    190.3        818.4\n",
      "min        0.0         0.0      0.0        550.0\n",
      "25%       13.0        10.0    282.0        550.0\n",
      "50%       17.0        28.0    422.0      1,023.0\n",
      "75%       20.0        51.0    545.0      1,750.0\n",
      "max       38.0       143.0  1,435.0      6,770.0\n",
      "Тариф Ультра\n",
      "       gb_used  mess_count  min_sum  benefit_one\n",
      "count    985.0       985.0    985.0        985.0\n",
      "mean      19.5        49.4    526.6      2,070.2\n",
      "std        9.9        47.8    317.6        376.2\n",
      "min        0.0         0.0      0.0      1,950.0\n",
      "25%       12.0         6.0    284.0      1,950.0\n",
      "50%       19.0        38.0    518.0      1,950.0\n",
      "75%       27.0        79.0    752.0      1,950.0\n",
      "max       49.0       224.0  1,673.0      4,800.0\n"
     ]
    }
   ],
   "source": [
    "#получим данные о средних значения и стандартном отклонении\n",
    "print('Тариф Смарт')\n",
    "print(tariff_smart[['gb_used', 'mess_count', 'min_sum', 'benefit_one']].describe().round(1))\n",
    "print('Тариф Ультра')\n",
    "print(tariff_ultra[['gb_used', 'mess_count', 'min_sum', 'benefit_one']].describe().round(1))"
   ]
  },
  {
   "cell_type": "markdown",
   "metadata": {},
   "source": [
    " Из таблицы видно,  что в среднем пользователям тарифа Смарт требуется 16.3 гб, 33.4 сообщения и 420 минут разговоров в месяц. И тратят они в среднем 1290р в месяц. В тариф включено  15 Гб интернет-трафика, 50 сообщений, 500 минут разговора за плату 550р, а значит, чаще всего люди превышают лимит по интернет трафику. Также стоит обратить внимание, что средние затраты за месяц в 2  раза превышают абонентскую плату. Многим пользователям стоит обратить внимание на тариф с большими лимитами.\n",
    " \n",
    "Пользователи тарифа Ультра используют в среднем в месяц 19.5 гб, 49.4 сообщения и 526 минут разговоров. В тариф включено 30 гб, 1000 сообщения и 3000 минут разговоров, следовательно, в среднем пользователи не превышают тарифные лимиты. Ежемесячная плата за тариф составляет 1950 р, а средние траты клиентов - 2070.2р, разница не значительна.\n",
    "\n",
    "Пользователи тарифа Смарт более склонны превышать лимиты по тарифу. А пользователи тарифа Ультра в среднем платят больше (2070.2р), чем пользователи Смарта (1290р). "
   ]
  },
  {
   "cell_type": "code",
   "execution_count": 32,
   "metadata": {},
   "outputs": [
    {
     "name": "stdout",
     "output_type": "stream",
     "text": [
      "Тариф Смарт\n",
      "gb_used            33.0\n",
      "mess_count        796.8\n",
      "min_sum        36,219.3\n",
      "benefit_one   669,785.7\n",
      "dtype: float64\n",
      "Тариф Ультра\n"
     ]
    },
    {
     "data": {
      "text/plain": [
       "gb_used            97.1\n",
       "mess_count      2,285.3\n",
       "min_sum       100,873.6\n",
       "benefit_one   141,516.7\n",
       "dtype: float64"
      ]
     },
     "execution_count": 32,
     "metadata": {},
     "output_type": "execute_result"
    }
   ],
   "source": [
    "#расчет дисперсии\n",
    "print('Тариф Смарт')\n",
    "print(tariff_smart[['gb_used', 'mess_count', 'min_sum', 'benefit_one']].var().round(1))\n",
    "print('Тариф Ультра')\n",
    "tariff_ultra[['gb_used', 'mess_count', 'min_sum', 'benefit_one']].var().round(1)"
   ]
  },
  {
   "cell_type": "markdown",
   "metadata": {},
   "source": [
    "Из величин стандартных отклонений и дисперсий видно, что для обоих тарифов самый большой разброс от среднего у минут разгоровор и выручки с клиента в месяц. Значит их значения будут находиться в самом широком промежутке (по правилу 3-х сигм)."
   ]
  },
  {
   "cell_type": "code",
   "execution_count": 33,
   "metadata": {},
   "outputs": [
    {
     "data": {
      "image/png": "[encoded data removed]",
      "text/plain": [
       "<Figure size 432x288 with 1 Axes>"
      ]
     },
     "metadata": {
      "needs_background": "light"
     },
     "output_type": "display_data"
    }
   ],
   "source": [
    "#построение гистограммы по гб\n",
    "plt.style.use('seaborn-deep')\n",
    "\n",
    "plt.hist([tariff_smart['gb_used'],tariff_ultra['gb_used']], bins = 50, label=['smart', 'ultra'])\n",
    "plt.legend(loc='upper right')\n",
    "plt.xlabel(r'$gb$', fontsize=13)\n",
    "plt.show()"
   ]
  },
  {
   "cell_type": "markdown",
   "metadata": {},
   "source": [
    "Гистограмма тарифа Смарт имеет распределение близкое к нормальному с выраженным пиком наиболее часто встречающихся значений, а гистограмма тарифа Ультра, на мой взгляд, также стремится к нормальному распределению, но не так выраженно. "
   ]
  },
  {
   "cell_type": "code",
   "execution_count": 34,
   "metadata": {},
   "outputs": [
    {
     "data": {
      "image/png": "[encoded data removed]",
      "text/plain": [
       "<Figure size 432x288 with 1 Axes>"
      ]
     },
     "metadata": {
      "needs_background": "light"
     },
     "output_type": "display_data"
    }
   ],
   "source": [
    "#построение гистограммы по количеству сообщений\n",
    "plt.style.use('seaborn-deep')\n",
    "\n",
    "plt.hist([tariff_smart['mess_count'],tariff_ultra['mess_count']], bins = 30, label=['smart', 'ultra'])\n",
    "plt.legend(loc='upper right')\n",
    "plt.xlabel(r'$mess$', fontsize=13)\n",
    "plt.show()"
   ]
  },
  {
   "cell_type": "markdown",
   "metadata": {},
   "source": [
    "Гистограммы по количеству сообщений напоминают распределение Пуассона, однако, на обеих гистограммах есть высокие пики около нуля - это является отклонением. На практике это связано с тем, что большое количество людей практически не используют смс сообщения."
   ]
  },
  {
   "cell_type": "code",
   "execution_count": 35,
   "metadata": {},
   "outputs": [
    {
     "data": {
      "image/png": "[encoded data removed]",
      "text/plain": [
       "<Figure size 432x288 with 1 Axes>"
      ]
     },
     "metadata": {
      "needs_background": "light"
     },
     "output_type": "display_data"
    }
   ],
   "source": [
    "#построение гистограммы по количеству минут разговоров\n",
    "plt.style.use('seaborn-deep')\n",
    "\n",
    "plt.hist([tariff_smart['min_sum'],tariff_ultra['min_sum']], bins = 40, label=['smart', 'ultra'])\n",
    "plt.legend(loc='upper right')\n",
    "plt.xlabel(r'$min$', fontsize=13)\n",
    "plt.show()"
   ]
  },
  {
   "cell_type": "markdown",
   "metadata": {},
   "source": [
    "Гистограмма по количеству использованных минут тарифа Смарт имеет распределения близкое к нормальному, но со скошенностью вправо. Для тарифа Ультра гистограмма также имеет скошенность вправо и высокие пики около нулевых значений, что не соответствует нормальному распределению."
   ]
  },
  {
   "cell_type": "code",
   "execution_count": 36,
   "metadata": {},
   "outputs": [
    {
     "data": {
      "image/png": "[encoded data removed]",
      "text/plain": [
       "<Figure size 432x288 with 1 Axes>"
      ]
     },
     "metadata": {
      "needs_background": "light"
     },
     "output_type": "display_data"
    }
   ],
   "source": [
    "#построение гистограммы по прибыли\n",
    "plt.style.use('seaborn-deep')\n",
    "\n",
    "plt.hist([tariff_smart['benefit_one'],tariff_ultra['benefit_one']], bins = 10, label=['smart', 'ultra'])\n",
    "plt.legend(loc='upper right')\n",
    "plt.xlabel(r'$benefit$', fontsize=13)\n",
    "plt.show()"
   ]
  },
  {
   "cell_type": "markdown",
   "metadata": {},
   "source": [
    "Из гистограмм видно, что больше всего платят пользователи тарифа Ультра."
   ]
  },
  {
   "cell_type": "markdown",
   "metadata": {},
   "source": [
    "### Вывод\n",
    "\n",
    "Проведен исследовательский анализ данных. Описано поведение клиентов оператора, исходя из выборки.\n",
    "\n",
    "В среднем пользователям тарифа Смарт требуется 16.3 гб, 33.4 сообщения и 420 минут разговоров в месяц. И тратят они в среднем 1290р в месяц. Пользователи тарифа Ультра используют в среднем в месяц 19.5 гб, 49.4 сообщения и 526 минут разговоров. \n",
    "\n",
    "Пользователи тарифа Смарт более склонны превышать лимиты по тарифу. А пользователи тарифа Ультра в среднем платят больше (2070.2р), чем пользователи Смарта (1290р). \n",
    "\n",
    "Посчитаны дисперсия и стандартное отклонение, построены гистограммы."
   ]
  },
  {
   "cell_type": "markdown",
   "metadata": {},
   "source": [
    "## Проверка гипотез"
   ]
  },
  {
   "cell_type": "markdown",
   "metadata": {},
   "source": [
    "Гипотезы:\n",
    "    \n",
    "Средняя выручка пользователей тарифов «Ультра» и «Смарт» различаются;\n",
    "\n",
    "Средняя выручка пользователей из Москвы отличается от выручки пользователей из других регионов."
   ]
  },
  {
   "cell_type": "markdown",
   "metadata": {},
   "source": [
    "Сначала создам выборки по городам."
   ]
  },
  {
   "cell_type": "code",
   "execution_count": 38,
   "metadata": {},
   "outputs": [
    {
     "data": {
      "text/plain": [
       "565636.5"
      ]
     },
     "execution_count": 38,
     "metadata": {},
     "output_type": "execute_result"
    }
   ],
   "source": [
    "#таблица по Москве\n",
    "from_msk = one.query('city == \"Москва\"')\n",
    "from_msk['benefit_one'].var().round(1)"
   ]
  },
  {
   "cell_type": "code",
   "execution_count": 39,
   "metadata": {},
   "outputs": [
    {
     "data": {
      "text/plain": [
       "654137.6"
      ]
     },
     "execution_count": 39,
     "metadata": {},
     "output_type": "execute_result"
    }
   ],
   "source": [
    "#таблица по регионам\n",
    "from_regions = one.query('city != \"Москва\"')\n",
    "from_regions['benefit_one'].var().round(1)"
   ]
  },
  {
   "cell_type": "markdown",
   "metadata": {},
   "source": [
    "Выше я проверила дисперсии выборок, чтобы определиться с параметром equal_var. Считаю, что дисперсии выборок можно приближенно считать равными."
   ]
  },
  {
   "cell_type": "markdown",
   "metadata": {},
   "source": [
    "Проверим 1 гипотезу:\n",
    "Средняя выручка пользователей тарифов «Ультра» и «Смарт» различаются.\n",
    "Для этого необходимо сформулировать нулевую гипотезу. Нулевая гипотеза всегда формируется исходя из равенства чего-либо к чему-либо.\n",
    "\n",
    "H0: Средняя выручка пользователей тарифов «Ультра» и «Смарт» равны, между ними нет разницы.\n",
    "\n",
    "Н1: Средняя выручка пользователей тарифов «Ультра» и «Смарт» не равны, между ними есть разница.\n",
    "\n",
    "Для своих тестов я выбрала критический уровень - статистической значимости 0.05, следоватльно, уровень ошибки 5%. Считаю этот процент ошибки приемлемым в данном случае. "
   ]
  },
  {
   "cell_type": "code",
   "execution_count": 42,
   "metadata": {},
   "outputs": [
    {
     "name": "stdout",
     "output_type": "stream",
     "text": [
      "p-значение:  4.2606313931076085e-250\n",
      "Отвергаем нулевую гипотезу\n"
     ]
    }
   ],
   "source": [
    "alpha = .05\n",
    "results = st.ttest_ind(tariff_smart['benefit_one'], tariff_ultra['benefit_one'], equal_var = False)\n",
    "#В тест добавила параметр equal_var = False, так как дисперсии у генеральных совокупностей \n",
    "#не равны (см. ячейку 29 в шаге 3) и выборки разного размера.\n",
    "print('p-значение: ', results.pvalue)\n",
    "if results.pvalue < alpha:\n",
    "    print(\"Отвергаем нулевую гипотезу\")\n",
    "else:\n",
    "    print(\"Не получилось отвергнуть нулевую гипотезу\")"
   ]
  },
  {
   "cell_type": "markdown",
   "metadata": {},
   "source": [
    "В результате теста нулевая гипотеза была отвергнута. Следовательно, есть основания предполагать, что  средняя выручка пользователей тарифов «Ультра» и «Смарт» не равны, между ними есть разница."
   ]
  },
  {
   "cell_type": "markdown",
   "metadata": {},
   "source": [
    "Ранее выявлено, что пользователи тарифа Ультра в среднем платят больше (2070.2р), чем пользователи Смарта (1290р). Возможны 2 варианта - разница действительно есть или же наблюдаемая разница - случайность.\n",
    "Но так как был проведен двухсторонний тест и гипотеза H0 о равенстве средних была отвергнута,  то есть основания предполагать, что наблюдаемая разница действительно существует. Теперь можно сделать вывод, что тариф Ультра является более выгодным для оператора. "
   ]
  },
  {
   "cell_type": "markdown",
   "metadata": {},
   "source": [
    "Проверим 2 гипотезу:\n",
    "Средняя выручка пользователей из Москвы отличается от выручки пользователей из других регионов.\n",
    "Для этого необходимо сформулировать нулевую гипотезу.\n",
    "\n",
    "H0: Средняя выручка пользователей из Москвы и выручка пользователей из других регионов равны, между ними нет разницы.\n",
    "\n",
    "Н1: Средняя выручка пользователей из Москвы и выручка пользователей из других регионов не равны, между ними есть разница.\n"
   ]
  },
  {
   "cell_type": "code",
   "execution_count": 43,
   "metadata": {},
   "outputs": [
    {
     "name": "stdout",
     "output_type": "stream",
     "text": [
      "p-значение:  0.5440152911670224\n",
      "Не получилось отвергнуть нулевую гипотезу\n"
     ]
    }
   ],
   "source": [
    "alpha = .05\n",
    "results = st.ttest_ind(from_msk['benefit_one'], from_regions['benefit_one'])\n",
    "#не стала добавлять параметр  equal_var, так как считаю дисперсии выборок равными\n",
    "print('p-значение: ', results.pvalue)\n",
    "if results.pvalue < alpha:\n",
    "    print(\"Отвергаем нулевую гипотезу\")\n",
    "else:\n",
    "    print(\"Не получилось отвергнуть нулевую гипотезу\")"
   ]
  },
  {
   "cell_type": "markdown",
   "metadata": {},
   "source": [
    "В результате теста нулевая гипотеза не была отвергнута. Следовательно, есть основания предполагать, что cредняя выручка пользователей из Москвы и выручка пользователей из других регионов не отличается."
   ]
  },
  {
   "cell_type": "markdown",
   "metadata": {},
   "source": [
    "## Общий вывод"
   ]
  },
  {
   "cell_type": "markdown",
   "metadata": {},
   "source": [
    "В ходе анализа проведена предобработка данных: заменены типы данных, округлены значения минут (как это делает оператор), мб переведены в гб (так как оператор производит учет именно в гб), обнаружены и объяснены нулевые значения.\n",
    "\n",
    "В таблицу добавлены необходимые для анализа столбцы, таблицы соеденены в одну, проведен рассчет прибыли, полученной с каждого пользователя в месяц. \n",
    "\n",
    "Проведен иссследовательский анализ данных. Описно поведение клиентов оператора, исходя из выборки.\n",
    "\n",
    "В среднем пользователям тарифа Смарт требуется 16.3 гб, 33.4 сообщения и 420 минут разговоров в месяц. И тратят они в среднем 1290р в месяц. В тариф включено  15 Гб интернет-трафика, 50 сообщений, 500 минут разговора за плату 550р, а значит, чаще всего люди превышают лимит по интеренет трафику. Также стоит обратить внимание, что средние затраты за месяц в 2  раза превышают абонентскую плату. Многим позьзователям стои обратить внимаание на тариф с большими лимитами.\n",
    " \n",
    "Пользователи тарифа Ультра используют в среднем в месяц 19.5 гб, 49.4 сообщения и 526 минут разговоров. В тариф включено 30 гб, 1000 сообщения и 3000 минут разговоров, следовательно, в среднем пользователи не превышают тарифные лимиты. Ежемесячная плата за тариф составляет 1950 р, а средние траты клиентов - 2070.2р, разница не значительна.\n",
    "\n",
    "Пользователи тарифа Смарт более склонны превышать лимиты по тарифу. А пользователи тарифа Ультра в среднем платят больше (2070.2р), чем пользователи Смарта (1290р). \n",
    "\n",
    "Проверены 2 гипотезы.\n",
    "\n",
    "Средняя выручка пользователей из Москвы отличается от выручки пользователей из других регионов.\n",
    "\n",
    "В результате теста нулевая гипотеза не была отвергнута. Следовательно, есть основания предполагать, что cредняя выручка пользователей из Москвы и выручка пользователей из других регионов не отличается.\n",
    "\n",
    "Средняя выручка пользователей тарифов «Ультра» и «Смарт» различаются.\n",
    "\n",
    "Было выявлено, что пользователи тарифа Ультра в среднем платят больше (2070.2р), чем пользователи Смарта (1290р). Возможны 2 варианта - разница действительно есть или же наблюдаемая разница - случайность.\n",
    "\n",
    "Но так как был проведен двухсторонний тест и гипотеза H0 о равенстве средних была отвергнута, то есть основания предполагать, что  средняя выручка пользователей тарифов «Ультра» и «Смарт» не равны, между ними есть разница.\n",
    "\n",
    "Теперь можно сделать вывод, что тариф Ультра является более выгодным и перспективным для опрератора. \n"
   ]
  }
 ],
 "metadata": {
  "ExecuteTimeLog": [
   {
    "duration": 854,
    "start_time": "2022-02-09T17:07:03.211Z"
   },
   {
    "duration": 212,
    "start_time": "2022-02-09T17:07:04.068Z"
   },
   {
    "duration": 174,
    "start_time": "2022-02-09T17:07:04.285Z"
   },
   {
    "duration": 121,
    "start_time": "2022-02-09T17:07:04.462Z"
   },
   {
    "duration": 22,
    "start_time": "2022-02-09T17:07:04.586Z"
   },
   {
    "duration": 47,
    "start_time": "2022-02-09T17:07:04.610Z"
   },
   {
    "duration": 3,
    "start_time": "2022-02-09T17:09:56.842Z"
   },
   {
    "duration": 199,
    "start_time": "2022-02-09T17:09:56.848Z"
   },
   {
    "duration": 163,
    "start_time": "2022-02-09T17:09:57.050Z"
   },
   {
    "duration": 116,
    "start_time": "2022-02-09T17:09:57.215Z"
   },
   {
    "duration": 20,
    "start_time": "2022-02-09T17:09:57.333Z"
   },
   {
    "duration": 35,
    "start_time": "2022-02-09T17:10:00.268Z"
   },
   {
    "duration": 26,
    "start_time": "2022-02-09T17:37:42.085Z"
   },
   {
    "duration": 24,
    "start_time": "2022-02-09T17:45:22.799Z"
   },
   {
    "duration": 19,
    "start_time": "2022-02-09T18:45:02.361Z"
   },
   {
    "duration": 23,
    "start_time": "2022-02-09T18:46:41.663Z"
   },
   {
    "duration": 10,
    "start_time": "2022-02-09T18:48:07.706Z"
   },
   {
    "duration": 9,
    "start_time": "2022-02-09T18:54:57.752Z"
   },
   {
    "duration": 13,
    "start_time": "2022-02-09T19:07:42.218Z"
   },
   {
    "duration": 377,
    "start_time": "2022-02-09T19:08:05.226Z"
   },
   {
    "duration": 7,
    "start_time": "2022-02-09T19:10:24.835Z"
   },
   {
    "duration": 280,
    "start_time": "2022-02-09T19:13:09.139Z"
   },
   {
    "duration": 898,
    "start_time": "2022-02-09T19:13:48.656Z"
   },
   {
    "duration": 258,
    "start_time": "2022-02-09T19:13:49.558Z"
   },
   {
    "duration": 29,
    "start_time": "2022-02-09T19:13:49.819Z"
   },
   {
    "duration": 200,
    "start_time": "2022-02-09T19:13:49.850Z"
   },
   {
    "duration": 25,
    "start_time": "2022-02-09T19:13:50.052Z"
   },
   {
    "duration": 7,
    "start_time": "2022-02-09T19:13:50.079Z"
   },
   {
    "duration": 143,
    "start_time": "2022-02-09T19:13:50.088Z"
   },
   {
    "duration": 20,
    "start_time": "2022-02-09T19:13:50.234Z"
   },
   {
    "duration": 23,
    "start_time": "2022-02-09T19:13:50.256Z"
   },
   {
    "duration": 43,
    "start_time": "2022-02-09T19:13:50.281Z"
   },
   {
    "duration": 9,
    "start_time": "2022-02-09T19:13:50.327Z"
   },
   {
    "duration": 473,
    "start_time": "2022-02-09T19:13:50.338Z"
   },
   {
    "duration": 71,
    "start_time": "2022-02-09T19:15:04.048Z"
   },
   {
    "duration": 332,
    "start_time": "2022-02-09T19:17:35.695Z"
   },
   {
    "duration": 397,
    "start_time": "2022-02-09T19:21:01.703Z"
   },
   {
    "duration": 350,
    "start_time": "2022-02-09T19:22:20.025Z"
   },
   {
    "duration": 377,
    "start_time": "2022-02-10T17:14:25.692Z"
   },
   {
    "duration": 1035,
    "start_time": "2022-02-10T17:15:04.247Z"
   },
   {
    "duration": 361,
    "start_time": "2022-02-10T17:15:05.285Z"
   },
   {
    "duration": 119,
    "start_time": "2022-02-10T17:15:05.657Z"
   },
   {
    "duration": 327,
    "start_time": "2022-02-10T17:15:05.782Z"
   },
   {
    "duration": 142,
    "start_time": "2022-02-10T17:15:06.112Z"
   },
   {
    "duration": 22,
    "start_time": "2022-02-10T17:15:06.257Z"
   },
   {
    "duration": 55,
    "start_time": "2022-02-10T17:15:06.282Z"
   },
   {
    "duration": 446,
    "start_time": "2022-02-10T17:15:06.339Z"
   },
   {
    "duration": 13,
    "start_time": "2022-02-10T17:16:08.393Z"
   },
   {
    "duration": 19,
    "start_time": "2022-02-10T17:16:40.879Z"
   },
   {
    "duration": 946,
    "start_time": "2022-02-10T17:16:58.140Z"
   },
   {
    "duration": 255,
    "start_time": "2022-02-10T17:16:59.089Z"
   },
   {
    "duration": 40,
    "start_time": "2022-02-10T17:16:59.347Z"
   },
   {
    "duration": 90,
    "start_time": "2022-02-10T17:16:59.391Z"
   },
   {
    "duration": 13,
    "start_time": "2022-02-10T17:16:59.483Z"
   },
   {
    "duration": 204,
    "start_time": "2022-02-10T17:16:59.498Z"
   },
   {
    "duration": 158,
    "start_time": "2022-02-10T17:16:59.705Z"
   },
   {
    "duration": 24,
    "start_time": "2022-02-10T17:16:59.866Z"
   },
   {
    "duration": 50,
    "start_time": "2022-02-10T17:16:59.893Z"
   },
   {
    "duration": 590,
    "start_time": "2022-02-10T17:16:59.946Z"
   },
   {
    "duration": 302,
    "start_time": "2022-02-10T17:21:30.064Z"
   },
   {
    "duration": 26,
    "start_time": "2022-02-10T17:29:40.104Z"
   },
   {
    "duration": 26,
    "start_time": "2022-02-10T17:29:54.737Z"
   },
   {
    "duration": 45,
    "start_time": "2022-02-10T17:31:14.162Z"
   },
   {
    "duration": 222,
    "start_time": "2022-02-10T17:31:44.138Z"
   },
   {
    "duration": 28,
    "start_time": "2022-02-10T17:32:00.297Z"
   },
   {
    "duration": 55,
    "start_time": "2022-02-10T17:33:50.226Z"
   },
   {
    "duration": 4,
    "start_time": "2022-02-10T17:34:16.882Z"
   },
   {
    "duration": 12,
    "start_time": "2022-02-10T17:35:42.616Z"
   },
   {
    "duration": 186,
    "start_time": "2022-02-10T17:46:36.708Z"
   },
   {
    "duration": 15,
    "start_time": "2022-02-10T17:49:09.196Z"
   },
   {
    "duration": 11,
    "start_time": "2022-02-10T17:49:33.163Z"
   },
   {
    "duration": 12,
    "start_time": "2022-02-10T17:49:39.011Z"
   },
   {
    "duration": 10,
    "start_time": "2022-02-10T17:51:00.469Z"
   },
   {
    "duration": 401,
    "start_time": "2022-02-10T18:07:50.325Z"
   },
   {
    "duration": 1484,
    "start_time": "2022-02-10T18:18:52.587Z"
   },
   {
    "duration": -1555,
    "start_time": "2022-02-10T18:18:55.631Z"
   },
   {
    "duration": -1556,
    "start_time": "2022-02-10T18:18:55.634Z"
   },
   {
    "duration": -1579,
    "start_time": "2022-02-10T18:18:55.659Z"
   },
   {
    "duration": -1585,
    "start_time": "2022-02-10T18:18:55.666Z"
   },
   {
    "duration": -1585,
    "start_time": "2022-02-10T18:18:55.669Z"
   },
   {
    "duration": -1586,
    "start_time": "2022-02-10T18:18:55.671Z"
   },
   {
    "duration": -1585,
    "start_time": "2022-02-10T18:18:55.673Z"
   },
   {
    "duration": -1585,
    "start_time": "2022-02-10T18:18:55.675Z"
   },
   {
    "duration": -1586,
    "start_time": "2022-02-10T18:18:55.678Z"
   },
   {
    "duration": -1586,
    "start_time": "2022-02-10T18:18:55.680Z"
   },
   {
    "duration": 410,
    "start_time": "2022-02-10T18:23:33.256Z"
   },
   {
    "duration": 4,
    "start_time": "2022-02-10T18:35:49.913Z"
   },
   {
    "duration": 1033,
    "start_time": "2022-02-10T18:35:57.501Z"
   },
   {
    "duration": 264,
    "start_time": "2022-02-10T18:35:58.538Z"
   },
   {
    "duration": 3,
    "start_time": "2022-02-10T18:35:58.805Z"
   },
   {
    "duration": 83,
    "start_time": "2022-02-10T18:35:58.810Z"
   },
   {
    "duration": 614,
    "start_time": "2022-02-10T18:35:58.896Z"
   },
   {
    "duration": -1790,
    "start_time": "2022-02-10T18:36:01.303Z"
   },
   {
    "duration": -1790,
    "start_time": "2022-02-10T18:36:01.305Z"
   },
   {
    "duration": -1789,
    "start_time": "2022-02-10T18:36:01.306Z"
   },
   {
    "duration": -1790,
    "start_time": "2022-02-10T18:36:01.308Z"
   },
   {
    "duration": -1790,
    "start_time": "2022-02-10T18:36:01.310Z"
   },
   {
    "duration": -1790,
    "start_time": "2022-02-10T18:36:01.311Z"
   },
   {
    "duration": 1656,
    "start_time": "2022-02-10T18:50:16.317Z"
   },
   {
    "duration": -1514,
    "start_time": "2022-02-10T18:50:19.490Z"
   },
   {
    "duration": -1515,
    "start_time": "2022-02-10T18:50:19.492Z"
   },
   {
    "duration": -1514,
    "start_time": "2022-02-10T18:50:19.494Z"
   },
   {
    "duration": -1584,
    "start_time": "2022-02-10T18:50:19.565Z"
   },
   {
    "duration": -1589,
    "start_time": "2022-02-10T18:50:19.572Z"
   },
   {
    "duration": -1589,
    "start_time": "2022-02-10T18:50:19.574Z"
   },
   {
    "duration": -1590,
    "start_time": "2022-02-10T18:50:19.576Z"
   },
   {
    "duration": -1589,
    "start_time": "2022-02-10T18:50:19.577Z"
   },
   {
    "duration": -1589,
    "start_time": "2022-02-10T18:50:19.579Z"
   },
   {
    "duration": -1589,
    "start_time": "2022-02-10T18:50:19.581Z"
   },
   {
    "duration": 5,
    "start_time": "2022-02-10T19:02:37.159Z"
   },
   {
    "duration": 873,
    "start_time": "2022-02-10T19:02:44.879Z"
   },
   {
    "duration": 234,
    "start_time": "2022-02-10T19:02:45.755Z"
   },
   {
    "duration": 4,
    "start_time": "2022-02-10T19:02:45.994Z"
   },
   {
    "duration": 87,
    "start_time": "2022-02-10T19:02:46.002Z"
   },
   {
    "duration": 620,
    "start_time": "2022-02-10T19:02:46.092Z"
   },
   {
    "duration": -1490,
    "start_time": "2022-02-10T19:02:48.205Z"
   },
   {
    "duration": -1491,
    "start_time": "2022-02-10T19:02:48.208Z"
   },
   {
    "duration": -1490,
    "start_time": "2022-02-10T19:02:48.209Z"
   },
   {
    "duration": -1489,
    "start_time": "2022-02-10T19:02:48.210Z"
   },
   {
    "duration": -1589,
    "start_time": "2022-02-10T19:02:48.315Z"
   },
   {
    "duration": -1587,
    "start_time": "2022-02-10T19:02:48.317Z"
   },
   {
    "duration": 135,
    "start_time": "2022-02-10T19:03:07.210Z"
   },
   {
    "duration": 176,
    "start_time": "2022-02-10T19:11:00.820Z"
   },
   {
    "duration": 254,
    "start_time": "2022-02-10T19:14:24.828Z"
   },
   {
    "duration": 31,
    "start_time": "2022-02-10T19:14:53.997Z"
   },
   {
    "duration": 25,
    "start_time": "2022-02-10T19:15:10.187Z"
   },
   {
    "duration": 26,
    "start_time": "2022-02-10T19:19:36.613Z"
   },
   {
    "duration": 20,
    "start_time": "2022-02-10T19:20:31.243Z"
   },
   {
    "duration": 174,
    "start_time": "2022-02-10T19:21:00.917Z"
   },
   {
    "duration": 168,
    "start_time": "2022-02-10T19:21:40.925Z"
   },
   {
    "duration": 23,
    "start_time": "2022-02-10T19:30:52.086Z"
   },
   {
    "duration": 344,
    "start_time": "2022-02-10T19:30:59.815Z"
   },
   {
    "duration": 306,
    "start_time": "2022-02-10T19:31:10.377Z"
   },
   {
    "duration": 6,
    "start_time": "2022-02-10T19:31:14.297Z"
   },
   {
    "duration": 231,
    "start_time": "2022-02-10T19:31:14.307Z"
   },
   {
    "duration": 3,
    "start_time": "2022-02-10T19:31:14.541Z"
   },
   {
    "duration": 78,
    "start_time": "2022-02-10T19:31:14.547Z"
   },
   {
    "duration": 122,
    "start_time": "2022-02-10T19:31:14.629Z"
   },
   {
    "duration": 174,
    "start_time": "2022-02-10T19:31:14.753Z"
   },
   {
    "duration": 27,
    "start_time": "2022-02-10T19:31:14.930Z"
   },
   {
    "duration": 31,
    "start_time": "2022-02-10T19:31:14.960Z"
   },
   {
    "duration": 34,
    "start_time": "2022-02-10T19:31:14.995Z"
   },
   {
    "duration": 141,
    "start_time": "2022-02-10T19:31:15.035Z"
   },
   {
    "duration": 24,
    "start_time": "2022-02-10T19:31:15.181Z"
   },
   {
    "duration": 55,
    "start_time": "2022-02-10T19:31:15.208Z"
   },
   {
    "duration": 398,
    "start_time": "2022-02-10T19:31:15.266Z"
   },
   {
    "duration": 22,
    "start_time": "2022-02-10T19:36:12.351Z"
   },
   {
    "duration": 38,
    "start_time": "2022-02-10T19:36:54.595Z"
   },
   {
    "duration": 13,
    "start_time": "2022-02-10T19:46:46.489Z"
   },
   {
    "duration": 170,
    "start_time": "2022-02-10T19:49:50.424Z"
   },
   {
    "duration": 299,
    "start_time": "2022-02-10T19:57:48.076Z"
   },
   {
    "duration": 10,
    "start_time": "2022-02-10T19:58:41.082Z"
   },
   {
    "duration": 6,
    "start_time": "2022-02-10T20:01:27.764Z"
   },
   {
    "duration": 118,
    "start_time": "2022-02-10T20:02:56.076Z"
   },
   {
    "duration": 21,
    "start_time": "2022-02-10T20:03:26.605Z"
   },
   {
    "duration": 26,
    "start_time": "2022-02-10T20:04:22.325Z"
   },
   {
    "duration": 22,
    "start_time": "2022-02-10T20:06:42.269Z"
   },
   {
    "duration": 55,
    "start_time": "2022-02-10T20:10:12.302Z"
   },
   {
    "duration": 9,
    "start_time": "2022-02-10T20:10:55.014Z"
   },
   {
    "duration": 31,
    "start_time": "2022-02-10T20:11:07.070Z"
   },
   {
    "duration": 14,
    "start_time": "2022-02-10T20:14:44.071Z"
   },
   {
    "duration": 369,
    "start_time": "2022-02-10T20:14:52.838Z"
   },
   {
    "duration": 255,
    "start_time": "2022-02-12T14:36:46.185Z"
   },
   {
    "duration": 1235,
    "start_time": "2022-02-12T14:36:56.322Z"
   },
   {
    "duration": 278,
    "start_time": "2022-02-12T14:36:57.561Z"
   },
   {
    "duration": 42,
    "start_time": "2022-02-12T14:36:57.842Z"
   },
   {
    "duration": 83,
    "start_time": "2022-02-12T14:36:57.887Z"
   },
   {
    "duration": 201,
    "start_time": "2022-02-12T14:36:57.973Z"
   },
   {
    "duration": 254,
    "start_time": "2022-02-12T14:36:58.177Z"
   },
   {
    "duration": 28,
    "start_time": "2022-02-12T14:36:58.435Z"
   },
   {
    "duration": 79,
    "start_time": "2022-02-12T14:36:58.469Z"
   },
   {
    "duration": 12,
    "start_time": "2022-02-12T14:36:58.551Z"
   },
   {
    "duration": 139,
    "start_time": "2022-02-12T14:36:58.566Z"
   },
   {
    "duration": 30,
    "start_time": "2022-02-12T14:36:58.707Z"
   },
   {
    "duration": 41,
    "start_time": "2022-02-12T14:36:58.741Z"
   },
   {
    "duration": 50,
    "start_time": "2022-02-12T14:36:58.786Z"
   },
   {
    "duration": 36,
    "start_time": "2022-02-12T14:36:58.839Z"
   },
   {
    "duration": 10,
    "start_time": "2022-02-12T14:36:58.878Z"
   },
   {
    "duration": 42,
    "start_time": "2022-02-12T14:36:58.890Z"
   },
   {
    "duration": 444,
    "start_time": "2022-02-12T14:36:58.935Z"
   },
   {
    "duration": 94,
    "start_time": "2022-02-12T14:36:59.381Z"
   },
   {
    "duration": 381,
    "start_time": "2022-02-12T14:37:30.840Z"
   },
   {
    "duration": 37,
    "start_time": "2022-02-12T14:38:06.058Z"
   },
   {
    "duration": 6,
    "start_time": "2022-02-12T14:43:16.825Z"
   },
   {
    "duration": 131,
    "start_time": "2022-02-12T14:46:09.129Z"
   },
   {
    "duration": 7454,
    "start_time": "2022-02-12T14:47:19.497Z"
   },
   {
    "duration": 178,
    "start_time": "2022-02-12T14:47:50.228Z"
   },
   {
    "duration": 8081,
    "start_time": "2022-02-12T15:01:15.060Z"
   },
   {
    "duration": 973,
    "start_time": "2022-02-12T15:01:40.950Z"
   },
   {
    "duration": 295,
    "start_time": "2022-02-12T15:01:41.931Z"
   },
   {
    "duration": 47,
    "start_time": "2022-02-12T15:01:42.231Z"
   },
   {
    "duration": 101,
    "start_time": "2022-02-12T15:01:42.281Z"
   },
   {
    "duration": 164,
    "start_time": "2022-02-12T15:01:42.385Z"
   },
   {
    "duration": 287,
    "start_time": "2022-02-12T15:01:42.552Z"
   },
   {
    "duration": 36,
    "start_time": "2022-02-12T15:01:42.842Z"
   },
   {
    "duration": 74,
    "start_time": "2022-02-12T15:01:42.883Z"
   },
   {
    "duration": 14,
    "start_time": "2022-02-12T15:01:42.962Z"
   },
   {
    "duration": 227,
    "start_time": "2022-02-12T15:01:42.980Z"
   },
   {
    "duration": 43,
    "start_time": "2022-02-12T15:01:43.210Z"
   },
   {
    "duration": 30,
    "start_time": "2022-02-12T15:01:43.257Z"
   },
   {
    "duration": 35,
    "start_time": "2022-02-12T15:01:43.323Z"
   },
   {
    "duration": 31,
    "start_time": "2022-02-12T15:01:43.362Z"
   },
   {
    "duration": 35,
    "start_time": "2022-02-12T15:01:43.396Z"
   },
   {
    "duration": 16,
    "start_time": "2022-02-12T15:01:43.434Z"
   },
   {
    "duration": 474,
    "start_time": "2022-02-12T15:01:43.453Z"
   },
   {
    "duration": 74,
    "start_time": "2022-02-12T15:01:43.929Z"
   },
   {
    "duration": 69,
    "start_time": "2022-02-12T15:01:44.006Z"
   },
   {
    "duration": 77,
    "start_time": "2022-02-12T15:02:13.133Z"
   },
   {
    "duration": -723,
    "start_time": "2022-02-12T15:02:38.404Z"
   },
   {
    "duration": 1076,
    "start_time": "2022-02-12T15:02:55.343Z"
   },
   {
    "duration": 224,
    "start_time": "2022-02-12T15:02:56.423Z"
   },
   {
    "duration": 33,
    "start_time": "2022-02-12T15:02:56.656Z"
   },
   {
    "duration": 61,
    "start_time": "2022-02-12T15:02:56.724Z"
   },
   {
    "duration": 178,
    "start_time": "2022-02-12T15:02:56.788Z"
   },
   {
    "duration": 252,
    "start_time": "2022-02-12T15:02:56.971Z"
   },
   {
    "duration": 36,
    "start_time": "2022-02-12T15:02:57.228Z"
   },
   {
    "duration": 72,
    "start_time": "2022-02-12T15:02:57.268Z"
   },
   {
    "duration": 13,
    "start_time": "2022-02-12T15:02:57.343Z"
   },
   {
    "duration": 196,
    "start_time": "2022-02-12T15:02:57.359Z"
   },
   {
    "duration": 30,
    "start_time": "2022-02-12T15:02:57.559Z"
   },
   {
    "duration": 72,
    "start_time": "2022-02-12T15:02:57.593Z"
   },
   {
    "duration": 22,
    "start_time": "2022-02-12T15:02:57.669Z"
   },
   {
    "duration": 56,
    "start_time": "2022-02-12T15:02:57.694Z"
   },
   {
    "duration": 14,
    "start_time": "2022-02-12T15:02:57.753Z"
   },
   {
    "duration": 60,
    "start_time": "2022-02-12T15:02:57.770Z"
   },
   {
    "duration": 460,
    "start_time": "2022-02-12T15:02:57.833Z"
   },
   {
    "duration": 95,
    "start_time": "2022-02-12T15:02:58.295Z"
   },
   {
    "duration": 60,
    "start_time": "2022-02-12T15:02:58.393Z"
   },
   {
    "duration": 36,
    "start_time": "2022-02-12T15:08:42.542Z"
   },
   {
    "duration": 55,
    "start_time": "2022-02-12T15:09:00.965Z"
   },
   {
    "duration": 14948,
    "start_time": "2022-02-12T15:09:11.927Z"
   },
   {
    "duration": 961,
    "start_time": "2022-02-12T15:40:48.440Z"
   },
   {
    "duration": 232,
    "start_time": "2022-02-12T15:40:49.404Z"
   },
   {
    "duration": 33,
    "start_time": "2022-02-12T15:40:49.640Z"
   },
   {
    "duration": 70,
    "start_time": "2022-02-12T15:40:49.676Z"
   },
   {
    "duration": 147,
    "start_time": "2022-02-12T15:40:49.749Z"
   },
   {
    "duration": 187,
    "start_time": "2022-02-12T15:40:49.899Z"
   },
   {
    "duration": 21,
    "start_time": "2022-02-12T15:40:50.089Z"
   },
   {
    "duration": 45,
    "start_time": "2022-02-12T15:40:50.114Z"
   },
   {
    "duration": 13,
    "start_time": "2022-02-12T15:40:50.163Z"
   },
   {
    "duration": 129,
    "start_time": "2022-02-12T15:40:50.178Z"
   },
   {
    "duration": 28,
    "start_time": "2022-02-12T15:40:50.310Z"
   },
   {
    "duration": 25,
    "start_time": "2022-02-12T15:40:50.341Z"
   },
   {
    "duration": 22,
    "start_time": "2022-02-12T15:40:50.369Z"
   },
   {
    "duration": 76,
    "start_time": "2022-02-12T15:40:50.394Z"
   },
   {
    "duration": 9,
    "start_time": "2022-02-12T15:40:50.473Z"
   },
   {
    "duration": 11,
    "start_time": "2022-02-12T15:40:50.484Z"
   },
   {
    "duration": 379,
    "start_time": "2022-02-12T15:40:50.497Z"
   },
   {
    "duration": 92,
    "start_time": "2022-02-12T15:40:50.878Z"
   },
   {
    "duration": 58,
    "start_time": "2022-02-12T15:40:50.973Z"
   },
   {
    "duration": 31,
    "start_time": "2022-02-12T15:40:51.034Z"
   },
   {
    "duration": 25,
    "start_time": "2022-02-12T15:42:09.603Z"
   },
   {
    "duration": 192,
    "start_time": "2022-02-12T15:42:21.770Z"
   },
   {
    "duration": 8004,
    "start_time": "2022-02-12T15:44:32.643Z"
   },
   {
    "duration": 1036,
    "start_time": "2022-02-12T15:44:55.853Z"
   },
   {
    "duration": 265,
    "start_time": "2022-02-12T15:44:56.894Z"
   },
   {
    "duration": 64,
    "start_time": "2022-02-12T15:44:57.164Z"
   },
   {
    "duration": 48,
    "start_time": "2022-02-12T15:44:57.233Z"
   },
   {
    "duration": 123,
    "start_time": "2022-02-12T15:44:57.283Z"
   },
   {
    "duration": 263,
    "start_time": "2022-02-12T15:44:57.408Z"
   },
   {
    "duration": 22,
    "start_time": "2022-02-12T15:44:57.674Z"
   },
   {
    "duration": 56,
    "start_time": "2022-02-12T15:44:57.699Z"
   },
   {
    "duration": 14,
    "start_time": "2022-02-12T15:44:57.761Z"
   },
   {
    "duration": 147,
    "start_time": "2022-02-12T15:44:57.778Z"
   },
   {
    "duration": 32,
    "start_time": "2022-02-12T15:44:57.928Z"
   },
   {
    "duration": 25,
    "start_time": "2022-02-12T15:44:57.963Z"
   },
   {
    "duration": 46,
    "start_time": "2022-02-12T15:44:57.991Z"
   },
   {
    "duration": 69,
    "start_time": "2022-02-12T15:44:58.039Z"
   },
   {
    "duration": 11,
    "start_time": "2022-02-12T15:44:58.111Z"
   },
   {
    "duration": 16,
    "start_time": "2022-02-12T15:44:58.126Z"
   },
   {
    "duration": 457,
    "start_time": "2022-02-12T15:44:58.145Z"
   },
   {
    "duration": 91,
    "start_time": "2022-02-12T15:44:58.605Z"
   },
   {
    "duration": 73,
    "start_time": "2022-02-12T15:44:58.699Z"
   },
   {
    "duration": 50,
    "start_time": "2022-02-12T15:44:58.776Z"
   },
   {
    "duration": 7465,
    "start_time": "2022-02-12T15:44:58.829Z"
   },
   {
    "duration": 187,
    "start_time": "2022-02-12T15:45:52.534Z"
   },
   {
    "duration": 6943,
    "start_time": "2022-02-12T15:45:54.635Z"
   },
   {
    "duration": 1033,
    "start_time": "2022-02-12T15:46:09.379Z"
   },
   {
    "duration": 222,
    "start_time": "2022-02-12T15:46:10.422Z"
   },
   {
    "duration": 29,
    "start_time": "2022-02-12T15:46:10.647Z"
   },
   {
    "duration": 69,
    "start_time": "2022-02-12T15:46:10.679Z"
   },
   {
    "duration": 122,
    "start_time": "2022-02-12T15:46:10.751Z"
   },
   {
    "duration": 188,
    "start_time": "2022-02-12T15:46:10.876Z"
   },
   {
    "duration": 24,
    "start_time": "2022-02-12T15:46:11.069Z"
   },
   {
    "duration": 49,
    "start_time": "2022-02-12T15:46:11.098Z"
   },
   {
    "duration": 10,
    "start_time": "2022-02-12T15:46:11.151Z"
   },
   {
    "duration": 148,
    "start_time": "2022-02-12T15:46:11.164Z"
   },
   {
    "duration": 25,
    "start_time": "2022-02-12T15:46:11.315Z"
   },
   {
    "duration": 58,
    "start_time": "2022-02-12T15:46:11.343Z"
   },
   {
    "duration": 35,
    "start_time": "2022-02-12T15:46:11.404Z"
   },
   {
    "duration": 41,
    "start_time": "2022-02-12T15:46:11.443Z"
   },
   {
    "duration": 8,
    "start_time": "2022-02-12T15:46:11.487Z"
   },
   {
    "duration": 34,
    "start_time": "2022-02-12T15:46:11.498Z"
   },
   {
    "duration": 442,
    "start_time": "2022-02-12T15:46:11.534Z"
   },
   {
    "duration": 97,
    "start_time": "2022-02-12T15:46:11.979Z"
   },
   {
    "duration": 70,
    "start_time": "2022-02-12T15:46:12.079Z"
   },
   {
    "duration": 35,
    "start_time": "2022-02-12T15:46:12.152Z"
   },
   {
    "duration": 7554,
    "start_time": "2022-02-12T15:46:12.190Z"
   },
   {
    "duration": 43,
    "start_time": "2022-02-12T15:47:19.308Z"
   },
   {
    "duration": 27,
    "start_time": "2022-02-12T15:49:34.862Z"
   },
   {
    "duration": 862,
    "start_time": "2022-02-13T15:14:22.217Z"
   },
   {
    "duration": 240,
    "start_time": "2022-02-13T15:14:23.082Z"
   },
   {
    "duration": 246,
    "start_time": "2022-02-13T15:14:23.326Z"
   },
   {
    "duration": 315,
    "start_time": "2022-02-13T15:14:23.578Z"
   },
   {
    "duration": 433,
    "start_time": "2022-02-13T15:14:23.896Z"
   },
   {
    "duration": 566,
    "start_time": "2022-02-13T15:14:24.332Z"
   },
   {
    "duration": 49,
    "start_time": "2022-02-13T15:14:24.900Z"
   },
   {
    "duration": 290,
    "start_time": "2022-02-13T15:14:24.952Z"
   },
   {
    "duration": 365,
    "start_time": "2022-02-13T15:14:25.246Z"
   },
   {
    "duration": 434,
    "start_time": "2022-02-13T15:14:25.614Z"
   },
   {
    "duration": 263,
    "start_time": "2022-02-13T15:14:26.051Z"
   },
   {
    "duration": 298,
    "start_time": "2022-02-13T15:14:26.316Z"
   },
   {
    "duration": 264,
    "start_time": "2022-02-13T15:14:26.617Z"
   },
   {
    "duration": 277,
    "start_time": "2022-02-13T15:14:26.883Z"
   },
   {
    "duration": 220,
    "start_time": "2022-02-13T15:14:27.162Z"
   },
   {
    "duration": 370,
    "start_time": "2022-02-13T15:14:27.385Z"
   },
   {
    "duration": 793,
    "start_time": "2022-02-13T15:14:27.759Z"
   },
   {
    "duration": 82,
    "start_time": "2022-02-13T15:14:28.555Z"
   },
   {
    "duration": 444,
    "start_time": "2022-02-13T15:14:28.640Z"
   },
   {
    "duration": 466,
    "start_time": "2022-02-13T15:14:29.087Z"
   },
   {
    "duration": 538,
    "start_time": "2022-02-13T15:14:29.556Z"
   },
   {
    "duration": 293,
    "start_time": "2022-02-13T15:14:30.097Z"
   },
   {
    "duration": 44,
    "start_time": "2022-02-13T15:14:34.467Z"
   },
   {
    "duration": 60,
    "start_time": "2022-02-13T15:15:30.724Z"
   },
   {
    "duration": 32,
    "start_time": "2022-02-13T15:15:46.932Z"
   },
   {
    "duration": 35,
    "start_time": "2022-02-13T15:19:09.581Z"
   },
   {
    "duration": 28,
    "start_time": "2022-02-13T15:30:59.310Z"
   },
   {
    "duration": 33,
    "start_time": "2022-02-13T15:31:02.734Z"
   },
   {
    "duration": 868,
    "start_time": "2022-02-13T15:31:11.080Z"
   },
   {
    "duration": 221,
    "start_time": "2022-02-13T15:31:11.950Z"
   },
   {
    "duration": 27,
    "start_time": "2022-02-13T15:31:12.174Z"
   },
   {
    "duration": 247,
    "start_time": "2022-02-13T15:31:12.204Z"
   },
   {
    "duration": 266,
    "start_time": "2022-02-13T15:31:12.453Z"
   },
   {
    "duration": 416,
    "start_time": "2022-02-13T15:31:12.721Z"
   },
   {
    "duration": 136,
    "start_time": "2022-02-13T15:31:13.140Z"
   },
   {
    "duration": 284,
    "start_time": "2022-02-13T15:31:13.280Z"
   },
   {
    "duration": 287,
    "start_time": "2022-02-13T15:31:13.567Z"
   },
   {
    "duration": 444,
    "start_time": "2022-02-13T15:31:13.857Z"
   },
   {
    "duration": 225,
    "start_time": "2022-02-13T15:31:14.303Z"
   },
   {
    "duration": 287,
    "start_time": "2022-02-13T15:31:14.530Z"
   },
   {
    "duration": 299,
    "start_time": "2022-02-13T15:31:14.820Z"
   },
   {
    "duration": 362,
    "start_time": "2022-02-13T15:31:15.121Z"
   },
   {
    "duration": 332,
    "start_time": "2022-02-13T15:31:15.486Z"
   },
   {
    "duration": 298,
    "start_time": "2022-02-13T15:31:15.820Z"
   },
   {
    "duration": 689,
    "start_time": "2022-02-13T15:31:16.121Z"
   },
   {
    "duration": 91,
    "start_time": "2022-02-13T15:31:16.812Z"
   },
   {
    "duration": 130,
    "start_time": "2022-02-13T15:31:16.906Z"
   },
   {
    "duration": 281,
    "start_time": "2022-02-13T15:31:17.038Z"
   },
   {
    "duration": 330,
    "start_time": "2022-02-13T15:31:17.322Z"
   },
   {
    "duration": 435,
    "start_time": "2022-02-13T15:31:17.655Z"
   },
   {
    "duration": 28,
    "start_time": "2022-02-13T15:31:40.820Z"
   },
   {
    "duration": 31,
    "start_time": "2022-02-13T15:31:47.891Z"
   },
   {
    "duration": 57,
    "start_time": "2022-02-13T15:31:48.788Z"
   },
   {
    "duration": 30,
    "start_time": "2022-02-13T15:31:53.819Z"
   },
   {
    "duration": 920,
    "start_time": "2022-02-13T15:32:01.012Z"
   },
   {
    "duration": 248,
    "start_time": "2022-02-13T15:32:01.935Z"
   },
   {
    "duration": 111,
    "start_time": "2022-02-13T15:32:02.188Z"
   },
   {
    "duration": 350,
    "start_time": "2022-02-13T15:32:02.302Z"
   },
   {
    "duration": 386,
    "start_time": "2022-02-13T15:32:02.655Z"
   },
   {
    "duration": 362,
    "start_time": "2022-02-13T15:32:03.044Z"
   },
   {
    "duration": 128,
    "start_time": "2022-02-13T15:32:03.409Z"
   },
   {
    "duration": 357,
    "start_time": "2022-02-13T15:32:03.540Z"
   },
   {
    "duration": 336,
    "start_time": "2022-02-13T15:32:03.902Z"
   },
   {
    "duration": 330,
    "start_time": "2022-02-13T15:32:04.241Z"
   },
   {
    "duration": 156,
    "start_time": "2022-02-13T15:32:04.575Z"
   },
   {
    "duration": 212,
    "start_time": "2022-02-13T15:32:04.733Z"
   },
   {
    "duration": 276,
    "start_time": "2022-02-13T15:32:04.948Z"
   },
   {
    "duration": 385,
    "start_time": "2022-02-13T15:32:05.228Z"
   },
   {
    "duration": 273,
    "start_time": "2022-02-13T15:32:05.616Z"
   },
   {
    "duration": 232,
    "start_time": "2022-02-13T15:32:05.892Z"
   },
   {
    "duration": 671,
    "start_time": "2022-02-13T15:32:06.128Z"
   },
   {
    "duration": 101,
    "start_time": "2022-02-13T15:32:06.803Z"
   },
   {
    "duration": 511,
    "start_time": "2022-02-13T15:32:06.907Z"
   },
   {
    "duration": 310,
    "start_time": "2022-02-13T15:32:07.421Z"
   },
   {
    "duration": 349,
    "start_time": "2022-02-13T15:32:07.735Z"
   },
   {
    "duration": 328,
    "start_time": "2022-02-13T15:32:08.087Z"
   },
   {
    "duration": 24,
    "start_time": "2022-02-13T15:32:28.114Z"
   },
   {
    "duration": 24,
    "start_time": "2022-02-13T15:32:36.275Z"
   },
   {
    "duration": 23,
    "start_time": "2022-02-13T15:32:39.963Z"
   },
   {
    "duration": 1062,
    "start_time": "2022-02-13T15:33:14.939Z"
   },
   {
    "duration": 244,
    "start_time": "2022-02-13T15:33:16.004Z"
   },
   {
    "duration": 52,
    "start_time": "2022-02-13T15:33:16.251Z"
   },
   {
    "duration": 312,
    "start_time": "2022-02-13T15:33:16.307Z"
   },
   {
    "duration": 364,
    "start_time": "2022-02-13T15:33:16.622Z"
   },
   {
    "duration": 317,
    "start_time": "2022-02-13T15:33:16.989Z"
   },
   {
    "duration": 147,
    "start_time": "2022-02-13T15:33:17.309Z"
   },
   {
    "duration": 335,
    "start_time": "2022-02-13T15:33:17.459Z"
   },
   {
    "duration": 260,
    "start_time": "2022-02-13T15:33:17.800Z"
   },
   {
    "duration": 396,
    "start_time": "2022-02-13T15:33:18.064Z"
   },
   {
    "duration": 165,
    "start_time": "2022-02-13T15:33:18.469Z"
   },
   {
    "duration": 331,
    "start_time": "2022-02-13T15:33:18.637Z"
   },
   {
    "duration": 324,
    "start_time": "2022-02-13T15:33:18.972Z"
   },
   {
    "duration": 317,
    "start_time": "2022-02-13T15:33:19.299Z"
   },
   {
    "duration": 162,
    "start_time": "2022-02-13T15:33:19.619Z"
   },
   {
    "duration": 183,
    "start_time": "2022-02-13T15:33:19.784Z"
   },
   {
    "duration": 607,
    "start_time": "2022-02-13T15:33:19.970Z"
   },
   {
    "duration": 71,
    "start_time": "2022-02-13T15:33:20.579Z"
   },
   {
    "duration": 153,
    "start_time": "2022-02-13T15:33:20.670Z"
   },
   {
    "duration": 262,
    "start_time": "2022-02-13T15:33:20.825Z"
   },
   {
    "duration": 277,
    "start_time": "2022-02-13T15:33:21.089Z"
   },
   {
    "duration": 326,
    "start_time": "2022-02-13T15:33:21.368Z"
   },
   {
    "duration": 30,
    "start_time": "2022-02-13T15:33:45.143Z"
   },
   {
    "duration": 21,
    "start_time": "2022-02-13T15:33:50.391Z"
   },
   {
    "duration": 24,
    "start_time": "2022-02-13T15:34:00.711Z"
   },
   {
    "duration": 29,
    "start_time": "2022-02-13T15:34:11.575Z"
   },
   {
    "duration": 28,
    "start_time": "2022-02-13T15:34:20.642Z"
   },
   {
    "duration": 20,
    "start_time": "2022-02-13T15:34:25.153Z"
   },
   {
    "duration": 23,
    "start_time": "2022-02-13T15:35:18.567Z"
   },
   {
    "duration": 24,
    "start_time": "2022-02-13T15:35:47.522Z"
   },
   {
    "duration": 34,
    "start_time": "2022-02-13T15:35:51.559Z"
   },
   {
    "duration": 29,
    "start_time": "2022-02-13T15:37:05.098Z"
   },
   {
    "duration": 29,
    "start_time": "2022-02-13T15:38:42.168Z"
   },
   {
    "duration": 25,
    "start_time": "2022-02-13T15:38:51.305Z"
   },
   {
    "duration": 37,
    "start_time": "2022-02-13T15:39:26.953Z"
   },
   {
    "duration": 453,
    "start_time": "2022-02-13T15:42:20.378Z"
   },
   {
    "duration": 43,
    "start_time": "2022-02-13T15:42:43.322Z"
   },
   {
    "duration": 27,
    "start_time": "2022-02-13T15:43:35.338Z"
   },
   {
    "duration": 6357,
    "start_time": "2022-02-13T15:44:20.497Z"
   },
   {
    "duration": 6292,
    "start_time": "2022-02-13T15:44:27.001Z"
   },
   {
    "duration": 29,
    "start_time": "2022-02-13T15:45:06.946Z"
   },
   {
    "duration": 30,
    "start_time": "2022-02-13T15:45:25.403Z"
   },
   {
    "duration": 34,
    "start_time": "2022-02-13T15:49:59.444Z"
   },
   {
    "duration": 35,
    "start_time": "2022-02-13T15:50:09.884Z"
   },
   {
    "duration": 26,
    "start_time": "2022-02-13T15:50:20.699Z"
   },
   {
    "duration": 28,
    "start_time": "2022-02-13T15:50:40.676Z"
   },
   {
    "duration": 29,
    "start_time": "2022-02-13T15:50:50.307Z"
   },
   {
    "duration": 68,
    "start_time": "2022-02-13T15:52:51.548Z"
   },
   {
    "duration": 28,
    "start_time": "2022-02-13T16:03:42.751Z"
   },
   {
    "duration": 27,
    "start_time": "2022-02-13T16:14:49.556Z"
   },
   {
    "duration": 212,
    "start_time": "2022-02-13T22:14:32.992Z"
   },
   {
    "duration": 649,
    "start_time": "2022-02-13T22:14:45.711Z"
   },
   {
    "duration": 155,
    "start_time": "2022-02-13T22:14:46.362Z"
   },
   {
    "duration": 21,
    "start_time": "2022-02-13T22:14:46.519Z"
   },
   {
    "duration": 40,
    "start_time": "2022-02-13T22:14:46.542Z"
   },
   {
    "duration": 84,
    "start_time": "2022-02-13T22:14:46.584Z"
   },
   {
    "duration": 140,
    "start_time": "2022-02-13T22:14:46.670Z"
   },
   {
    "duration": 19,
    "start_time": "2022-02-13T22:14:46.812Z"
   },
   {
    "duration": 43,
    "start_time": "2022-02-13T22:14:46.834Z"
   },
   {
    "duration": 7,
    "start_time": "2022-02-13T22:14:46.879Z"
   },
   {
    "duration": 108,
    "start_time": "2022-02-13T22:14:46.888Z"
   },
   {
    "duration": 15,
    "start_time": "2022-02-13T22:14:46.998Z"
   },
   {
    "duration": 16,
    "start_time": "2022-02-13T22:14:47.015Z"
   },
   {
    "duration": 37,
    "start_time": "2022-02-13T22:14:47.033Z"
   },
   {
    "duration": 22,
    "start_time": "2022-02-13T22:14:47.071Z"
   },
   {
    "duration": 6,
    "start_time": "2022-02-13T22:14:47.095Z"
   },
   {
    "duration": 7,
    "start_time": "2022-02-13T22:14:47.103Z"
   },
   {
    "duration": 267,
    "start_time": "2022-02-13T22:14:47.111Z"
   },
   {
    "duration": 47,
    "start_time": "2022-02-13T22:14:47.380Z"
   },
   {
    "duration": 55,
    "start_time": "2022-02-13T22:14:47.428Z"
   },
   {
    "duration": 20,
    "start_time": "2022-02-13T22:14:47.485Z"
   },
   {
    "duration": 22,
    "start_time": "2022-02-13T22:14:47.506Z"
   },
   {
    "duration": 35,
    "start_time": "2022-02-13T22:14:47.530Z"
   },
   {
    "duration": 26,
    "start_time": "2022-02-13T22:17:50.050Z"
   },
   {
    "duration": 4505,
    "start_time": "2022-02-13T22:19:24.094Z"
   },
   {
    "duration": 28,
    "start_time": "2022-02-13T22:19:48.946Z"
   },
   {
    "duration": 28,
    "start_time": "2022-02-13T22:20:05.001Z"
   },
   {
    "duration": 28,
    "start_time": "2022-02-13T22:25:05.049Z"
   },
   {
    "duration": 29,
    "start_time": "2022-02-13T22:25:12.857Z"
   },
   {
    "duration": 31,
    "start_time": "2022-02-13T22:26:16.001Z"
   },
   {
    "duration": 19,
    "start_time": "2022-02-13T22:27:36.427Z"
   },
   {
    "duration": 18,
    "start_time": "2022-02-13T22:27:55.657Z"
   },
   {
    "duration": 20,
    "start_time": "2022-02-13T22:28:41.891Z"
   },
   {
    "duration": 17,
    "start_time": "2022-02-13T22:32:37.355Z"
   },
   {
    "duration": 181,
    "start_time": "2022-02-13T22:49:07.901Z"
   },
   {
    "duration": 11,
    "start_time": "2022-02-13T22:49:20.357Z"
   },
   {
    "duration": 206,
    "start_time": "2022-02-13T22:49:33.684Z"
   },
   {
    "duration": 18,
    "start_time": "2022-02-13T22:51:00.508Z"
   },
   {
    "duration": 646,
    "start_time": "2022-02-13T22:52:18.851Z"
   },
   {
    "duration": 162,
    "start_time": "2022-02-13T22:52:19.498Z"
   },
   {
    "duration": 21,
    "start_time": "2022-02-13T22:52:19.661Z"
   },
   {
    "duration": 26,
    "start_time": "2022-02-13T22:52:19.684Z"
   },
   {
    "duration": 102,
    "start_time": "2022-02-13T22:52:19.712Z"
   },
   {
    "duration": 143,
    "start_time": "2022-02-13T22:52:19.816Z"
   },
   {
    "duration": 15,
    "start_time": "2022-02-13T22:52:19.961Z"
   },
   {
    "duration": 20,
    "start_time": "2022-02-13T22:52:19.978Z"
   },
   {
    "duration": 5,
    "start_time": "2022-02-13T22:52:20.001Z"
   },
   {
    "duration": 121,
    "start_time": "2022-02-13T22:52:20.008Z"
   },
   {
    "duration": 13,
    "start_time": "2022-02-13T22:52:20.131Z"
   },
   {
    "duration": 17,
    "start_time": "2022-02-13T22:52:20.158Z"
   },
   {
    "duration": 16,
    "start_time": "2022-02-13T22:52:20.176Z"
   },
   {
    "duration": 27,
    "start_time": "2022-02-13T22:52:20.194Z"
   },
   {
    "duration": 7,
    "start_time": "2022-02-13T22:52:20.222Z"
   },
   {
    "duration": 31,
    "start_time": "2022-02-13T22:52:20.230Z"
   },
   {
    "duration": 258,
    "start_time": "2022-02-13T22:52:20.263Z"
   },
   {
    "duration": 64,
    "start_time": "2022-02-13T22:52:20.523Z"
   },
   {
    "duration": 50,
    "start_time": "2022-02-13T22:52:20.588Z"
   },
   {
    "duration": 38,
    "start_time": "2022-02-13T22:52:20.640Z"
   },
   {
    "duration": 24,
    "start_time": "2022-02-13T22:52:20.680Z"
   },
   {
    "duration": 19,
    "start_time": "2022-02-13T22:52:20.706Z"
   },
   {
    "duration": 52,
    "start_time": "2022-02-13T22:52:20.727Z"
   },
   {
    "duration": 271,
    "start_time": "2022-02-13T22:52:20.780Z"
   },
   {
    "duration": 19,
    "start_time": "2022-02-13T22:56:33.747Z"
   },
   {
    "duration": 679,
    "start_time": "2022-02-13T22:57:00.241Z"
   },
   {
    "duration": 169,
    "start_time": "2022-02-13T22:57:00.922Z"
   },
   {
    "duration": 23,
    "start_time": "2022-02-13T22:57:01.094Z"
   },
   {
    "duration": 52,
    "start_time": "2022-02-13T22:57:01.119Z"
   },
   {
    "duration": 99,
    "start_time": "2022-02-13T22:57:01.173Z"
   },
   {
    "duration": 156,
    "start_time": "2022-02-13T22:57:01.274Z"
   },
   {
    "duration": 31,
    "start_time": "2022-02-13T22:57:01.433Z"
   },
   {
    "duration": 29,
    "start_time": "2022-02-13T22:57:01.469Z"
   },
   {
    "duration": 8,
    "start_time": "2022-02-13T22:57:01.500Z"
   },
   {
    "duration": 114,
    "start_time": "2022-02-13T22:57:01.510Z"
   },
   {
    "duration": 17,
    "start_time": "2022-02-13T22:57:01.625Z"
   },
   {
    "duration": 38,
    "start_time": "2022-02-13T22:57:01.644Z"
   },
   {
    "duration": 26,
    "start_time": "2022-02-13T22:57:01.684Z"
   },
   {
    "duration": 29,
    "start_time": "2022-02-13T22:57:01.713Z"
   },
   {
    "duration": 20,
    "start_time": "2022-02-13T22:57:01.744Z"
   },
   {
    "duration": 18,
    "start_time": "2022-02-13T22:57:01.766Z"
   },
   {
    "duration": 310,
    "start_time": "2022-02-13T22:57:01.786Z"
   },
   {
    "duration": 63,
    "start_time": "2022-02-13T22:57:02.098Z"
   },
   {
    "duration": 66,
    "start_time": "2022-02-13T22:57:02.162Z"
   },
   {
    "duration": 49,
    "start_time": "2022-02-13T22:57:02.230Z"
   },
   {
    "duration": 25,
    "start_time": "2022-02-13T22:57:02.281Z"
   },
   {
    "duration": 20,
    "start_time": "2022-02-13T22:57:02.308Z"
   },
   {
    "duration": 52,
    "start_time": "2022-02-13T22:57:02.332Z"
   },
   {
    "duration": 274,
    "start_time": "2022-02-13T22:57:02.386Z"
   },
   {
    "duration": 182,
    "start_time": "2022-02-13T22:58:48.126Z"
   },
   {
    "duration": 266,
    "start_time": "2022-02-13T22:58:59.526Z"
   },
   {
    "duration": 685,
    "start_time": "2022-02-13T22:59:13.234Z"
   },
   {
    "duration": 200,
    "start_time": "2022-02-13T22:59:13.920Z"
   },
   {
    "duration": 22,
    "start_time": "2022-02-13T22:59:14.122Z"
   },
   {
    "duration": 49,
    "start_time": "2022-02-13T22:59:14.146Z"
   },
   {
    "duration": 111,
    "start_time": "2022-02-13T22:59:14.198Z"
   },
   {
    "duration": 156,
    "start_time": "2022-02-13T22:59:14.311Z"
   },
   {
    "duration": 17,
    "start_time": "2022-02-13T22:59:14.469Z"
   },
   {
    "duration": 23,
    "start_time": "2022-02-13T22:59:14.489Z"
   },
   {
    "duration": 7,
    "start_time": "2022-02-13T22:59:14.514Z"
   },
   {
    "duration": 118,
    "start_time": "2022-02-13T22:59:14.522Z"
   },
   {
    "duration": 23,
    "start_time": "2022-02-13T22:59:14.643Z"
   },
   {
    "duration": 25,
    "start_time": "2022-02-13T22:59:14.668Z"
   },
   {
    "duration": 18,
    "start_time": "2022-02-13T22:59:14.695Z"
   },
   {
    "duration": 26,
    "start_time": "2022-02-13T22:59:14.716Z"
   },
   {
    "duration": 7,
    "start_time": "2022-02-13T22:59:14.759Z"
   },
   {
    "duration": 10,
    "start_time": "2022-02-13T22:59:14.768Z"
   },
   {
    "duration": 310,
    "start_time": "2022-02-13T22:59:14.780Z"
   },
   {
    "duration": 50,
    "start_time": "2022-02-13T22:59:15.092Z"
   },
   {
    "duration": 62,
    "start_time": "2022-02-13T22:59:15.144Z"
   },
   {
    "duration": 52,
    "start_time": "2022-02-13T22:59:15.208Z"
   },
   {
    "duration": 23,
    "start_time": "2022-02-13T22:59:15.261Z"
   },
   {
    "duration": 18,
    "start_time": "2022-02-13T22:59:15.286Z"
   },
   {
    "duration": 16,
    "start_time": "2022-02-13T22:59:15.306Z"
   },
   {
    "duration": 280,
    "start_time": "2022-02-15T20:32:49.306Z"
   },
   {
    "duration": 697,
    "start_time": "2022-02-15T20:32:55.002Z"
   },
   {
    "duration": 159,
    "start_time": "2022-02-15T20:32:55.701Z"
   },
   {
    "duration": 20,
    "start_time": "2022-02-15T20:32:55.862Z"
   },
   {
    "duration": 47,
    "start_time": "2022-02-15T20:32:55.884Z"
   },
   {
    "duration": 90,
    "start_time": "2022-02-15T20:32:55.933Z"
   },
   {
    "duration": 146,
    "start_time": "2022-02-15T20:32:56.024Z"
   },
   {
    "duration": 18,
    "start_time": "2022-02-15T20:32:56.172Z"
   },
   {
    "duration": 43,
    "start_time": "2022-02-15T20:32:56.192Z"
   },
   {
    "duration": 9,
    "start_time": "2022-02-15T20:32:56.237Z"
   },
   {
    "duration": 97,
    "start_time": "2022-02-15T20:32:56.248Z"
   },
   {
    "duration": 15,
    "start_time": "2022-02-15T20:32:56.347Z"
   },
   {
    "duration": 18,
    "start_time": "2022-02-15T20:32:56.364Z"
   },
   {
    "duration": 43,
    "start_time": "2022-02-15T20:32:56.384Z"
   },
   {
    "duration": 37,
    "start_time": "2022-02-15T20:32:56.429Z"
   },
   {
    "duration": 7,
    "start_time": "2022-02-15T20:32:56.468Z"
   },
   {
    "duration": 15,
    "start_time": "2022-02-15T20:32:56.476Z"
   },
   {
    "duration": 253,
    "start_time": "2022-02-15T20:32:56.493Z"
   },
   {
    "duration": 52,
    "start_time": "2022-02-15T20:32:56.748Z"
   },
   {
    "duration": 6701,
    "start_time": "2022-02-15T20:32:56.818Z"
   },
   {
    "duration": -588,
    "start_time": "2022-02-15T20:33:04.110Z"
   },
   {
    "duration": -590,
    "start_time": "2022-02-15T20:33:04.113Z"
   },
   {
    "duration": -591,
    "start_time": "2022-02-15T20:33:04.115Z"
   },
   {
    "duration": -609,
    "start_time": "2022-02-15T20:33:04.134Z"
   },
   {
    "duration": 66,
    "start_time": "2022-02-15T20:34:50.006Z"
   },
   {
    "duration": 22,
    "start_time": "2022-02-15T20:36:55.012Z"
   },
   {
    "duration": 24,
    "start_time": "2022-02-15T20:37:07.605Z"
   },
   {
    "duration": 243,
    "start_time": "2022-02-15T20:37:32.534Z"
   },
   {
    "duration": 664,
    "start_time": "2022-02-15T20:37:48.898Z"
   },
   {
    "duration": 151,
    "start_time": "2022-02-15T20:37:49.564Z"
   },
   {
    "duration": 20,
    "start_time": "2022-02-15T20:37:49.719Z"
   },
   {
    "duration": 32,
    "start_time": "2022-02-15T20:37:49.741Z"
   },
   {
    "duration": 95,
    "start_time": "2022-02-15T20:37:49.774Z"
   },
   {
    "duration": 137,
    "start_time": "2022-02-15T20:37:49.871Z"
   },
   {
    "duration": 22,
    "start_time": "2022-02-15T20:37:50.010Z"
   },
   {
    "duration": 23,
    "start_time": "2022-02-15T20:37:50.035Z"
   },
   {
    "duration": 6,
    "start_time": "2022-02-15T20:37:50.060Z"
   },
   {
    "duration": 115,
    "start_time": "2022-02-15T20:37:50.067Z"
   },
   {
    "duration": 15,
    "start_time": "2022-02-15T20:37:50.184Z"
   },
   {
    "duration": 31,
    "start_time": "2022-02-15T20:37:50.201Z"
   },
   {
    "duration": 22,
    "start_time": "2022-02-15T20:37:50.234Z"
   },
   {
    "duration": 25,
    "start_time": "2022-02-15T20:37:50.258Z"
   },
   {
    "duration": 6,
    "start_time": "2022-02-15T20:37:50.285Z"
   },
   {
    "duration": 26,
    "start_time": "2022-02-15T20:37:50.293Z"
   },
   {
    "duration": 249,
    "start_time": "2022-02-15T20:37:50.320Z"
   },
   {
    "duration": 66,
    "start_time": "2022-02-15T20:37:50.571Z"
   },
   {
    "duration": 28,
    "start_time": "2022-02-15T20:37:50.639Z"
   },
   {
    "duration": 21,
    "start_time": "2022-02-15T20:37:50.668Z"
   },
   {
    "duration": 42,
    "start_time": "2022-02-15T20:37:50.691Z"
   },
   {
    "duration": 19,
    "start_time": "2022-02-15T20:37:50.735Z"
   },
   {
    "duration": 16,
    "start_time": "2022-02-15T20:37:50.757Z"
   },
   {
    "duration": 19,
    "start_time": "2022-02-15T20:38:42.024Z"
   },
   {
    "duration": 30,
    "start_time": "2022-02-15T20:39:43.562Z"
   },
   {
    "duration": 27,
    "start_time": "2022-02-15T20:43:56.362Z"
   },
   {
    "duration": 3,
    "start_time": "2022-02-15T20:44:13.411Z"
   },
   {
    "duration": 168,
    "start_time": "2022-02-15T20:44:13.416Z"
   },
   {
    "duration": 34,
    "start_time": "2022-02-15T20:44:13.586Z"
   },
   {
    "duration": 28,
    "start_time": "2022-02-15T20:44:13.622Z"
   },
   {
    "duration": 91,
    "start_time": "2022-02-15T20:44:13.652Z"
   },
   {
    "duration": 146,
    "start_time": "2022-02-15T20:44:13.745Z"
   },
   {
    "duration": 30,
    "start_time": "2022-02-15T20:44:13.892Z"
   },
   {
    "duration": 22,
    "start_time": "2022-02-15T20:44:13.924Z"
   },
   {
    "duration": 7,
    "start_time": "2022-02-15T20:44:13.949Z"
   },
   {
    "duration": 119,
    "start_time": "2022-02-15T20:44:13.958Z"
   },
   {
    "duration": 17,
    "start_time": "2022-02-15T20:44:14.079Z"
   },
   {
    "duration": 38,
    "start_time": "2022-02-15T20:44:14.098Z"
   },
   {
    "duration": 20,
    "start_time": "2022-02-15T20:44:14.138Z"
   },
   {
    "duration": 40,
    "start_time": "2022-02-15T20:44:14.160Z"
   },
   {
    "duration": 10,
    "start_time": "2022-02-15T20:44:14.201Z"
   },
   {
    "duration": 13,
    "start_time": "2022-02-15T20:44:14.213Z"
   },
   {
    "duration": 280,
    "start_time": "2022-02-15T20:44:14.227Z"
   },
   {
    "duration": 57,
    "start_time": "2022-02-15T20:44:14.509Z"
   },
   {
    "duration": 51,
    "start_time": "2022-02-15T20:44:14.567Z"
   },
   {
    "duration": 21,
    "start_time": "2022-02-15T20:44:14.620Z"
   },
   {
    "duration": 20,
    "start_time": "2022-02-15T20:44:14.642Z"
   },
   {
    "duration": 19,
    "start_time": "2022-02-15T20:44:14.664Z"
   },
   {
    "duration": 46,
    "start_time": "2022-02-15T20:44:14.685Z"
   },
   {
    "duration": 384,
    "start_time": "2022-02-15T20:49:58.335Z"
   },
   {
    "duration": 262,
    "start_time": "2022-02-15T20:50:43.243Z"
   },
   {
    "duration": 719,
    "start_time": "2022-02-15T20:50:49.390Z"
   },
   {
    "duration": 168,
    "start_time": "2022-02-15T20:50:50.111Z"
   },
   {
    "duration": 35,
    "start_time": "2022-02-15T20:50:50.283Z"
   },
   {
    "duration": 28,
    "start_time": "2022-02-15T20:50:50.321Z"
   },
   {
    "duration": 91,
    "start_time": "2022-02-15T20:50:50.350Z"
   },
   {
    "duration": 144,
    "start_time": "2022-02-15T20:50:50.443Z"
   },
   {
    "duration": 29,
    "start_time": "2022-02-15T20:50:50.590Z"
   },
   {
    "duration": 26,
    "start_time": "2022-02-15T20:50:50.621Z"
   },
   {
    "duration": 13,
    "start_time": "2022-02-15T20:50:50.649Z"
   },
   {
    "duration": 91,
    "start_time": "2022-02-15T20:50:50.664Z"
   },
   {
    "duration": 15,
    "start_time": "2022-02-15T20:50:50.756Z"
   },
   {
    "duration": 18,
    "start_time": "2022-02-15T20:50:50.772Z"
   },
   {
    "duration": 33,
    "start_time": "2022-02-15T20:50:50.792Z"
   },
   {
    "duration": 27,
    "start_time": "2022-02-15T20:50:50.827Z"
   },
   {
    "duration": 6,
    "start_time": "2022-02-15T20:50:50.856Z"
   },
   {
    "duration": 10,
    "start_time": "2022-02-15T20:50:50.863Z"
   },
   {
    "duration": 275,
    "start_time": "2022-02-15T20:50:50.875Z"
   },
   {
    "duration": 66,
    "start_time": "2022-02-15T20:50:51.152Z"
   },
   {
    "duration": 41,
    "start_time": "2022-02-15T20:50:51.220Z"
   },
   {
    "duration": 24,
    "start_time": "2022-02-15T20:50:51.263Z"
   },
   {
    "duration": 46,
    "start_time": "2022-02-15T20:50:51.289Z"
   },
   {
    "duration": 26,
    "start_time": "2022-02-15T20:50:51.339Z"
   },
   {
    "duration": 65,
    "start_time": "2022-02-15T20:50:51.367Z"
   },
   {
    "duration": 90,
    "start_time": "2022-02-15T21:51:40.631Z"
   },
   {
    "duration": 91,
    "start_time": "2022-02-15T21:52:03.431Z"
   },
   {
    "duration": 84,
    "start_time": "2022-02-15T21:52:42.216Z"
   },
   {
    "duration": 5,
    "start_time": "2022-02-15T21:53:17.064Z"
   },
   {
    "duration": 693,
    "start_time": "2022-02-15T21:53:21.015Z"
   },
   {
    "duration": 641,
    "start_time": "2022-02-15T21:53:47.808Z"
   },
   {
    "duration": 5,
    "start_time": "2022-02-15T21:54:02.623Z"
   },
   {
    "duration": 6,
    "start_time": "2022-02-15T21:54:05.248Z"
   },
   {
    "duration": 518,
    "start_time": "2022-02-15T21:54:06.560Z"
   },
   {
    "duration": 5,
    "start_time": "2022-02-15T21:56:19.921Z"
   },
   {
    "duration": 235,
    "start_time": "2022-02-15T21:56:22.079Z"
   },
   {
    "duration": 218,
    "start_time": "2022-02-15T21:57:42.713Z"
   },
   {
    "duration": 5,
    "start_time": "2022-02-15T21:58:46.536Z"
   },
   {
    "duration": 22,
    "start_time": "2022-02-15T21:59:36.350Z"
   },
   {
    "duration": 3,
    "start_time": "2022-02-15T21:59:41.123Z"
   },
   {
    "duration": 171,
    "start_time": "2022-02-15T21:59:41.127Z"
   },
   {
    "duration": 30,
    "start_time": "2022-02-15T21:59:41.300Z"
   },
   {
    "duration": 27,
    "start_time": "2022-02-15T21:59:41.332Z"
   },
   {
    "duration": 95,
    "start_time": "2022-02-15T21:59:41.360Z"
   },
   {
    "duration": 139,
    "start_time": "2022-02-15T21:59:41.457Z"
   },
   {
    "duration": 26,
    "start_time": "2022-02-15T21:59:41.598Z"
   },
   {
    "duration": 21,
    "start_time": "2022-02-15T21:59:41.626Z"
   },
   {
    "duration": 4,
    "start_time": "2022-02-15T21:59:41.650Z"
   },
   {
    "duration": 126,
    "start_time": "2022-02-15T21:59:41.656Z"
   },
   {
    "duration": 16,
    "start_time": "2022-02-15T21:59:41.783Z"
   },
   {
    "duration": 33,
    "start_time": "2022-02-15T21:59:41.801Z"
   },
   {
    "duration": 19,
    "start_time": "2022-02-15T21:59:41.835Z"
   },
   {
    "duration": 31,
    "start_time": "2022-02-15T21:59:41.856Z"
   },
   {
    "duration": 7,
    "start_time": "2022-02-15T21:59:41.889Z"
   },
   {
    "duration": 20,
    "start_time": "2022-02-15T21:59:41.898Z"
   },
   {
    "duration": 268,
    "start_time": "2022-02-15T21:59:41.920Z"
   },
   {
    "duration": 69,
    "start_time": "2022-02-15T21:59:42.190Z"
   },
   {
    "duration": 33,
    "start_time": "2022-02-15T21:59:42.261Z"
   },
   {
    "duration": 36,
    "start_time": "2022-02-15T21:59:42.296Z"
   },
   {
    "duration": 21,
    "start_time": "2022-02-15T21:59:42.334Z"
   },
   {
    "duration": 22,
    "start_time": "2022-02-15T21:59:42.357Z"
   },
   {
    "duration": 65,
    "start_time": "2022-02-15T21:59:42.381Z"
   },
   {
    "duration": 5,
    "start_time": "2022-02-15T21:59:42.448Z"
   },
   {
    "duration": 222,
    "start_time": "2022-02-15T21:59:45.424Z"
   },
   {
    "duration": 5,
    "start_time": "2022-02-15T22:19:26.524Z"
   },
   {
    "duration": 247,
    "start_time": "2022-02-15T22:20:36.244Z"
   },
   {
    "duration": 292,
    "start_time": "2022-02-15T22:20:51.420Z"
   },
   {
    "duration": 21,
    "start_time": "2022-02-15T22:36:13.110Z"
   },
   {
    "duration": 20,
    "start_time": "2022-02-15T22:36:42.982Z"
   },
   {
    "duration": 21,
    "start_time": "2022-02-15T22:37:13.286Z"
   },
   {
    "duration": 6,
    "start_time": "2022-02-15T22:37:24.829Z"
   },
   {
    "duration": 19,
    "start_time": "2022-02-15T22:44:30.110Z"
   },
   {
    "duration": 20,
    "start_time": "2022-02-15T22:44:50.192Z"
   },
   {
    "duration": 23,
    "start_time": "2022-02-15T22:50:51.793Z"
   },
   {
    "duration": 23,
    "start_time": "2022-02-15T22:51:09.416Z"
   },
   {
    "duration": 21,
    "start_time": "2022-02-15T22:51:42.857Z"
   },
   {
    "duration": 238,
    "start_time": "2022-02-16T08:55:26.741Z"
   },
   {
    "duration": 590,
    "start_time": "2022-02-16T08:56:03.315Z"
   },
   {
    "duration": 157,
    "start_time": "2022-02-16T08:56:03.907Z"
   },
   {
    "duration": 20,
    "start_time": "2022-02-16T08:56:04.066Z"
   },
   {
    "duration": 26,
    "start_time": "2022-02-16T08:56:04.088Z"
   },
   {
    "duration": 87,
    "start_time": "2022-02-16T08:56:04.116Z"
   },
   {
    "duration": 131,
    "start_time": "2022-02-16T08:56:04.205Z"
   },
   {
    "duration": 22,
    "start_time": "2022-02-16T08:56:04.337Z"
   },
   {
    "duration": 19,
    "start_time": "2022-02-16T08:56:04.361Z"
   },
   {
    "duration": 5,
    "start_time": "2022-02-16T08:56:04.381Z"
   },
   {
    "duration": 120,
    "start_time": "2022-02-16T08:56:04.388Z"
   },
   {
    "duration": 13,
    "start_time": "2022-02-16T08:56:04.510Z"
   },
   {
    "duration": 18,
    "start_time": "2022-02-16T08:56:04.524Z"
   },
   {
    "duration": 17,
    "start_time": "2022-02-16T08:56:04.559Z"
   },
   {
    "duration": 31,
    "start_time": "2022-02-16T08:56:04.578Z"
   },
   {
    "duration": 6,
    "start_time": "2022-02-16T08:56:04.610Z"
   },
   {
    "duration": 7,
    "start_time": "2022-02-16T08:56:04.617Z"
   },
   {
    "duration": 235,
    "start_time": "2022-02-16T08:56:04.625Z"
   },
   {
    "duration": 47,
    "start_time": "2022-02-16T08:56:04.861Z"
   },
   {
    "duration": 50,
    "start_time": "2022-02-16T08:56:04.909Z"
   },
   {
    "duration": 22,
    "start_time": "2022-02-16T08:56:04.961Z"
   },
   {
    "duration": 21,
    "start_time": "2022-02-16T08:56:04.984Z"
   },
   {
    "duration": 20,
    "start_time": "2022-02-16T08:56:05.006Z"
   },
   {
    "duration": 52,
    "start_time": "2022-02-16T08:56:05.029Z"
   },
   {
    "duration": 4,
    "start_time": "2022-02-16T08:56:05.082Z"
   },
   {
    "duration": 224,
    "start_time": "2022-02-16T08:56:05.088Z"
   },
   {
    "duration": 6,
    "start_time": "2022-02-16T08:56:05.314Z"
   },
   {
    "duration": 13,
    "start_time": "2022-02-16T08:56:05.321Z"
   },
   {
    "duration": 48,
    "start_time": "2022-02-16T08:56:05.336Z"
   },
   {
    "duration": 10,
    "start_time": "2022-02-16T09:33:21.078Z"
   },
   {
    "duration": 48,
    "start_time": "2022-02-16T09:33:22.921Z"
   },
   {
    "duration": 290,
    "start_time": "2022-02-16T22:14:08.824Z"
   },
   {
    "duration": 790,
    "start_time": "2022-02-16T22:14:22.258Z"
   },
   {
    "duration": 172,
    "start_time": "2022-02-16T22:14:23.050Z"
   },
   {
    "duration": 23,
    "start_time": "2022-02-16T22:14:23.224Z"
   },
   {
    "duration": 35,
    "start_time": "2022-02-16T22:14:23.249Z"
   },
   {
    "duration": 80,
    "start_time": "2022-02-16T22:14:23.307Z"
   },
   {
    "duration": 159,
    "start_time": "2022-02-16T22:14:23.389Z"
   },
   {
    "duration": 20,
    "start_time": "2022-02-16T22:14:23.549Z"
   },
   {
    "duration": 45,
    "start_time": "2022-02-16T22:14:23.572Z"
   },
   {
    "duration": 9,
    "start_time": "2022-02-16T22:14:23.620Z"
   },
   {
    "duration": 107,
    "start_time": "2022-02-16T22:14:23.631Z"
   },
   {
    "duration": 16,
    "start_time": "2022-02-16T22:14:23.740Z"
   },
   {
    "duration": 26,
    "start_time": "2022-02-16T22:14:23.758Z"
   },
   {
    "duration": 33,
    "start_time": "2022-02-16T22:14:23.786Z"
   },
   {
    "duration": 37,
    "start_time": "2022-02-16T22:14:23.821Z"
   },
   {
    "duration": 7,
    "start_time": "2022-02-16T22:14:23.860Z"
   },
   {
    "duration": 12,
    "start_time": "2022-02-16T22:14:23.869Z"
   },
   {
    "duration": 302,
    "start_time": "2022-02-16T22:14:23.883Z"
   },
   {
    "duration": 69,
    "start_time": "2022-02-16T22:14:24.187Z"
   },
   {
    "duration": 58,
    "start_time": "2022-02-16T22:14:24.259Z"
   },
   {
    "duration": 25,
    "start_time": "2022-02-16T22:14:24.319Z"
   },
   {
    "duration": 24,
    "start_time": "2022-02-16T22:14:24.346Z"
   },
   {
    "duration": 52,
    "start_time": "2022-02-16T22:14:24.372Z"
   },
   {
    "duration": 32,
    "start_time": "2022-02-16T22:14:24.428Z"
   },
   {
    "duration": 5,
    "start_time": "2022-02-16T22:14:24.462Z"
   },
   {
    "duration": 285,
    "start_time": "2022-02-16T22:14:24.469Z"
   },
   {
    "duration": 7,
    "start_time": "2022-02-16T22:14:24.756Z"
   },
   {
    "duration": 15,
    "start_time": "2022-02-16T22:14:24.765Z"
   },
   {
    "duration": 54,
    "start_time": "2022-02-16T22:14:24.782Z"
   },
   {
    "duration": 10,
    "start_time": "2022-02-16T22:14:24.839Z"
   },
   {
    "duration": 232,
    "start_time": "2022-02-16T22:14:28.413Z"
   },
   {
    "duration": 238,
    "start_time": "2022-02-16T22:15:24.839Z"
   },
   {
    "duration": 269,
    "start_time": "2022-02-16T22:15:41.377Z"
   },
   {
    "duration": 295,
    "start_time": "2022-02-16T22:16:52.687Z"
   },
   {
    "duration": 510,
    "start_time": "2022-02-16T22:17:29.370Z"
   },
   {
    "duration": 510,
    "start_time": "2022-02-16T22:20:18.561Z"
   },
   {
    "duration": 645,
    "start_time": "2022-02-16T22:20:30.466Z"
   },
   {
    "duration": 250,
    "start_time": "2022-02-16T22:21:11.032Z"
   },
   {
    "duration": 207,
    "start_time": "2022-02-16T22:31:07.362Z"
   },
   {
    "duration": 585,
    "start_time": "2022-02-16T22:31:25.500Z"
   },
   {
    "duration": 463,
    "start_time": "2022-02-16T22:32:42.940Z"
   },
   {
    "duration": 4,
    "start_time": "2022-02-16T22:33:32.965Z"
   },
   {
    "duration": 481,
    "start_time": "2022-02-16T22:33:37.588Z"
   },
   {
    "duration": 632,
    "start_time": "2022-02-16T22:33:44.666Z"
   },
   {
    "duration": 389,
    "start_time": "2022-02-16T22:34:29.350Z"
   },
   {
    "duration": 548,
    "start_time": "2022-02-16T22:34:37.957Z"
   },
   {
    "duration": 515,
    "start_time": "2022-02-16T22:34:42.950Z"
   },
   {
    "duration": 1095,
    "start_time": "2022-02-16T22:36:03.490Z"
   },
   {
    "duration": 551,
    "start_time": "2022-02-16T22:36:18.998Z"
   },
   {
    "duration": 503,
    "start_time": "2022-02-16T22:36:26.651Z"
   },
   {
    "duration": 385,
    "start_time": "2022-02-16T22:37:44.507Z"
   },
   {
    "duration": 296,
    "start_time": "2022-02-16T22:37:52.099Z"
   },
   {
    "duration": 321,
    "start_time": "2022-02-16T22:39:23.122Z"
   },
   {
    "duration": 399,
    "start_time": "2022-02-16T22:39:31.808Z"
   },
   {
    "duration": 460,
    "start_time": "2022-02-16T22:39:42.189Z"
   },
   {
    "duration": 460,
    "start_time": "2022-02-16T22:40:42.881Z"
   },
   {
    "duration": 243,
    "start_time": "2022-02-16T22:40:56.433Z"
   },
   {
    "duration": 5,
    "start_time": "2022-02-16T23:05:36.003Z"
   },
   {
    "duration": 11,
    "start_time": "2022-02-16T23:25:21.017Z"
   },
   {
    "duration": 9,
    "start_time": "2022-02-16T23:26:35.896Z"
   },
   {
    "duration": 440,
    "start_time": "2022-02-16T23:29:02.146Z"
   },
   {
    "duration": 26,
    "start_time": "2022-02-16T23:29:18.794Z"
   },
   {
    "duration": 4,
    "start_time": "2022-02-16T23:29:40.752Z"
   },
   {
    "duration": 26,
    "start_time": "2022-02-16T23:29:46.224Z"
   },
   {
    "duration": 19,
    "start_time": "2022-02-16T23:30:20.634Z"
   },
   {
    "duration": 25,
    "start_time": "2022-02-16T23:30:37.328Z"
   },
   {
    "duration": 13,
    "start_time": "2022-02-16T23:31:32.314Z"
   },
   {
    "duration": 13,
    "start_time": "2022-02-16T23:31:40.430Z"
   },
   {
    "duration": 12,
    "start_time": "2022-02-16T23:31:53.615Z"
   },
   {
    "duration": 448,
    "start_time": "2022-02-16T23:32:11.394Z"
   },
   {
    "duration": 429,
    "start_time": "2022-02-16T23:32:15.994Z"
   },
   {
    "duration": 12,
    "start_time": "2022-02-16T23:32:28.279Z"
   },
   {
    "duration": 24,
    "start_time": "2022-02-16T23:32:52.561Z"
   },
   {
    "duration": 81,
    "start_time": "2022-02-16T23:33:37.385Z"
   },
   {
    "duration": 83,
    "start_time": "2022-02-16T23:34:02.458Z"
   },
   {
    "duration": 12,
    "start_time": "2022-02-16T23:34:07.379Z"
   },
   {
    "duration": 17,
    "start_time": "2022-02-16T23:35:03.882Z"
   },
   {
    "duration": 289,
    "start_time": "2022-02-16T23:37:58.285Z"
   },
   {
    "duration": 22,
    "start_time": "2022-02-16T23:41:07.843Z"
   },
   {
    "duration": 24,
    "start_time": "2022-02-16T23:41:52.641Z"
   },
   {
    "duration": 5,
    "start_time": "2022-02-16T23:42:42.627Z"
   },
   {
    "duration": 5,
    "start_time": "2022-02-16T23:42:48.535Z"
   },
   {
    "duration": 22,
    "start_time": "2022-02-16T23:42:52.442Z"
   },
   {
    "duration": 6,
    "start_time": "2022-02-16T23:42:55.223Z"
   },
   {
    "duration": 755,
    "start_time": "2022-02-16T23:43:19.791Z"
   },
   {
    "duration": 195,
    "start_time": "2022-02-16T23:43:20.548Z"
   },
   {
    "duration": 23,
    "start_time": "2022-02-16T23:43:20.746Z"
   },
   {
    "duration": 58,
    "start_time": "2022-02-16T23:43:20.772Z"
   },
   {
    "duration": 107,
    "start_time": "2022-02-16T23:43:20.833Z"
   },
   {
    "duration": 160,
    "start_time": "2022-02-16T23:43:20.942Z"
   },
   {
    "duration": 18,
    "start_time": "2022-02-16T23:43:21.108Z"
   },
   {
    "duration": 36,
    "start_time": "2022-02-16T23:43:21.130Z"
   },
   {
    "duration": 16,
    "start_time": "2022-02-16T23:43:21.169Z"
   },
   {
    "duration": 146,
    "start_time": "2022-02-16T23:43:21.188Z"
   },
   {
    "duration": 21,
    "start_time": "2022-02-16T23:43:21.336Z"
   },
   {
    "duration": 45,
    "start_time": "2022-02-16T23:43:21.359Z"
   },
   {
    "duration": 32,
    "start_time": "2022-02-16T23:43:21.406Z"
   },
   {
    "duration": 55,
    "start_time": "2022-02-16T23:43:21.440Z"
   },
   {
    "duration": 15,
    "start_time": "2022-02-16T23:43:21.497Z"
   },
   {
    "duration": 34,
    "start_time": "2022-02-16T23:43:21.515Z"
   },
   {
    "duration": 336,
    "start_time": "2022-02-16T23:43:21.552Z"
   },
   {
    "duration": 65,
    "start_time": "2022-02-16T23:43:21.890Z"
   },
   {
    "duration": 65,
    "start_time": "2022-02-16T23:43:21.957Z"
   },
   {
    "duration": 25,
    "start_time": "2022-02-16T23:43:22.024Z"
   },
   {
    "duration": 36,
    "start_time": "2022-02-16T23:43:22.051Z"
   },
   {
    "duration": 39,
    "start_time": "2022-02-16T23:43:22.089Z"
   },
   {
    "duration": 45,
    "start_time": "2022-02-16T23:43:22.131Z"
   },
   {
    "duration": 23,
    "start_time": "2022-02-16T23:43:22.179Z"
   },
   {
    "duration": 292,
    "start_time": "2022-02-16T23:43:22.205Z"
   },
   {
    "duration": 16,
    "start_time": "2022-02-16T23:43:22.499Z"
   },
   {
    "duration": 22,
    "start_time": "2022-02-16T23:43:22.517Z"
   },
   {
    "duration": 70,
    "start_time": "2022-02-16T23:43:22.541Z"
   },
   {
    "duration": 21,
    "start_time": "2022-02-16T23:43:22.614Z"
   },
   {
    "duration": 504,
    "start_time": "2022-02-16T23:43:22.637Z"
   },
   {
    "duration": 366,
    "start_time": "2022-02-16T23:43:23.144Z"
   },
   {
    "duration": 401,
    "start_time": "2022-02-16T23:43:23.512Z"
   },
   {
    "duration": 273,
    "start_time": "2022-02-16T23:43:23.915Z"
   },
   {
    "duration": 6,
    "start_time": "2022-02-16T23:43:24.190Z"
   },
   {
    "duration": 35,
    "start_time": "2022-02-16T23:43:24.208Z"
   },
   {
    "duration": 46,
    "start_time": "2022-02-16T23:43:24.245Z"
   },
   {
    "duration": 5,
    "start_time": "2022-02-16T23:43:24.294Z"
   },
   {
    "duration": 20,
    "start_time": "2022-02-16T23:43:24.306Z"
   },
   {
    "duration": 6,
    "start_time": "2022-02-16T23:45:13.462Z"
   },
   {
    "duration": 25,
    "start_time": "2022-02-16T23:46:08.829Z"
   },
   {
    "duration": 6,
    "start_time": "2022-02-16T23:46:34.536Z"
   },
   {
    "duration": 6,
    "start_time": "2022-02-16T23:46:35.438Z"
   },
   {
    "duration": 29,
    "start_time": "2022-02-16T23:47:11.823Z"
   },
   {
    "duration": 5,
    "start_time": "2022-02-16T23:47:28.579Z"
   },
   {
    "duration": 25,
    "start_time": "2022-02-16T23:47:30.628Z"
   },
   {
    "duration": 7,
    "start_time": "2022-02-16T23:51:03.719Z"
   },
   {
    "duration": 7,
    "start_time": "2022-02-16T23:51:04.854Z"
   },
   {
    "duration": 4,
    "start_time": "2022-02-16T23:51:06.149Z"
   },
   {
    "duration": 21,
    "start_time": "2022-02-16T23:51:07.626Z"
   },
   {
    "duration": 3,
    "start_time": "2022-02-16T23:51:22.983Z"
   },
   {
    "duration": 1142,
    "start_time": "2022-02-17T21:14:28.468Z"
   },
   {
    "duration": 1118,
    "start_time": "2022-02-17T21:28:08.539Z"
   },
   {
    "duration": 193,
    "start_time": "2022-02-17T21:28:09.660Z"
   },
   {
    "duration": 25,
    "start_time": "2022-02-17T21:28:09.855Z"
   },
   {
    "duration": 47,
    "start_time": "2022-02-17T21:28:09.882Z"
   },
   {
    "duration": 102,
    "start_time": "2022-02-17T21:28:09.931Z"
   },
   {
    "duration": 157,
    "start_time": "2022-02-17T21:28:10.035Z"
   },
   {
    "duration": 31,
    "start_time": "2022-02-17T21:28:10.194Z"
   },
   {
    "duration": 23,
    "start_time": "2022-02-17T21:28:10.229Z"
   },
   {
    "duration": 9,
    "start_time": "2022-02-17T21:28:10.255Z"
   },
   {
    "duration": 126,
    "start_time": "2022-02-17T21:28:10.266Z"
   },
   {
    "duration": 21,
    "start_time": "2022-02-17T21:28:10.394Z"
   },
   {
    "duration": 24,
    "start_time": "2022-02-17T21:28:10.417Z"
   },
   {
    "duration": 20,
    "start_time": "2022-02-17T21:28:10.443Z"
   },
   {
    "duration": 44,
    "start_time": "2022-02-17T21:28:10.465Z"
   },
   {
    "duration": 7,
    "start_time": "2022-02-17T21:28:10.511Z"
   },
   {
    "duration": 11,
    "start_time": "2022-02-17T21:28:10.520Z"
   },
   {
    "duration": 326,
    "start_time": "2022-02-17T21:28:10.532Z"
   },
   {
    "duration": 68,
    "start_time": "2022-02-17T21:28:10.859Z"
   },
   {
    "duration": 43,
    "start_time": "2022-02-17T21:28:10.929Z"
   },
   {
    "duration": 48,
    "start_time": "2022-02-17T21:28:10.974Z"
   },
   {
    "duration": 27,
    "start_time": "2022-02-17T21:28:11.024Z"
   },
   {
    "duration": 24,
    "start_time": "2022-02-17T21:28:11.053Z"
   },
   {
    "duration": 28,
    "start_time": "2022-02-17T21:28:11.110Z"
   },
   {
    "duration": 5,
    "start_time": "2022-02-17T21:28:11.141Z"
   },
   {
    "duration": 287,
    "start_time": "2022-02-17T21:28:11.148Z"
   },
   {
    "duration": 8,
    "start_time": "2022-02-17T21:28:11.438Z"
   },
   {
    "duration": 10,
    "start_time": "2022-02-17T21:28:11.448Z"
   },
   {
    "duration": 65,
    "start_time": "2022-02-17T21:28:11.460Z"
   },
   {
    "duration": 13,
    "start_time": "2022-02-17T21:28:11.527Z"
   },
   {
    "duration": 504,
    "start_time": "2022-02-17T21:28:11.542Z"
   },
   {
    "duration": 317,
    "start_time": "2022-02-17T21:28:12.048Z"
   },
   {
    "duration": 369,
    "start_time": "2022-02-17T21:28:12.367Z"
   },
   {
    "duration": 255,
    "start_time": "2022-02-17T21:28:12.738Z"
   },
   {
    "duration": 13,
    "start_time": "2022-02-17T21:28:12.995Z"
   },
   {
    "duration": 11,
    "start_time": "2022-02-17T21:28:13.010Z"
   },
   {
    "duration": 14,
    "start_time": "2022-02-17T21:28:13.023Z"
   },
   {
    "duration": 11,
    "start_time": "2022-02-17T21:28:13.039Z"
   },
   {
    "duration": 114,
    "start_time": "2022-02-17T21:28:13.053Z"
   },
   {
    "duration": 7,
    "start_time": "2022-02-17T21:28:13.169Z"
   },
   {
    "duration": 7,
    "start_time": "2022-02-17T21:31:50.079Z"
   },
   {
    "duration": 7,
    "start_time": "2022-02-17T21:31:56.216Z"
   },
   {
    "duration": 7,
    "start_time": "2022-02-17T21:33:21.108Z"
   },
   {
    "duration": 12,
    "start_time": "2022-02-17T21:38:03.821Z"
   },
   {
    "duration": 13,
    "start_time": "2022-02-17T21:38:06.879Z"
   },
   {
    "duration": 9,
    "start_time": "2022-02-17T21:38:45.888Z"
   },
   {
    "duration": 9,
    "start_time": "2022-02-17T21:39:13.908Z"
   },
   {
    "duration": 11,
    "start_time": "2022-02-17T21:42:13.090Z"
   },
   {
    "duration": 11,
    "start_time": "2022-02-17T21:42:15.558Z"
   },
   {
    "duration": 6,
    "start_time": "2022-02-17T21:49:40.980Z"
   },
   {
    "duration": 3,
    "start_time": "2022-02-17T21:49:57.741Z"
   },
   {
    "duration": 6,
    "start_time": "2022-02-17T21:50:02.865Z"
   },
   {
    "duration": 6,
    "start_time": "2022-02-17T21:50:06.612Z"
   },
   {
    "duration": 4,
    "start_time": "2022-02-17T21:50:20.440Z"
   },
   {
    "duration": 176,
    "start_time": "2022-02-17T21:50:20.446Z"
   },
   {
    "duration": 23,
    "start_time": "2022-02-17T21:50:20.624Z"
   },
   {
    "duration": 31,
    "start_time": "2022-02-17T21:50:20.649Z"
   },
   {
    "duration": 101,
    "start_time": "2022-02-17T21:50:20.682Z"
   },
   {
    "duration": 169,
    "start_time": "2022-02-17T21:50:20.786Z"
   },
   {
    "duration": 20,
    "start_time": "2022-02-17T21:50:20.957Z"
   },
   {
    "duration": 43,
    "start_time": "2022-02-17T21:50:20.979Z"
   },
   {
    "duration": 6,
    "start_time": "2022-02-17T21:50:21.025Z"
   },
   {
    "duration": 121,
    "start_time": "2022-02-17T21:50:21.033Z"
   },
   {
    "duration": 16,
    "start_time": "2022-02-17T21:50:21.156Z"
   },
   {
    "duration": 39,
    "start_time": "2022-02-17T21:50:21.174Z"
   },
   {
    "duration": 19,
    "start_time": "2022-02-17T21:50:21.215Z"
   },
   {
    "duration": 31,
    "start_time": "2022-02-17T21:50:21.237Z"
   },
   {
    "duration": 7,
    "start_time": "2022-02-17T21:50:21.270Z"
   },
   {
    "duration": 28,
    "start_time": "2022-02-17T21:50:21.279Z"
   },
   {
    "duration": 283,
    "start_time": "2022-02-17T21:50:21.310Z"
   },
   {
    "duration": 55,
    "start_time": "2022-02-17T21:50:21.607Z"
   },
   {
    "duration": 54,
    "start_time": "2022-02-17T21:50:21.664Z"
   },
   {
    "duration": 25,
    "start_time": "2022-02-17T21:50:21.721Z"
   },
   {
    "duration": 24,
    "start_time": "2022-02-17T21:50:21.747Z"
   },
   {
    "duration": 51,
    "start_time": "2022-02-17T21:50:21.773Z"
   },
   {
    "duration": 29,
    "start_time": "2022-02-17T21:50:21.826Z"
   },
   {
    "duration": 5,
    "start_time": "2022-02-17T21:50:21.856Z"
   },
   {
    "duration": 277,
    "start_time": "2022-02-17T21:50:21.863Z"
   },
   {
    "duration": 8,
    "start_time": "2022-02-17T21:50:22.142Z"
   },
   {
    "duration": 6,
    "start_time": "2022-02-17T21:50:22.155Z"
   },
   {
    "duration": 61,
    "start_time": "2022-02-17T21:50:22.163Z"
   },
   {
    "duration": 14,
    "start_time": "2022-02-17T21:50:22.226Z"
   },
   {
    "duration": 396,
    "start_time": "2022-02-17T21:50:22.242Z"
   },
   {
    "duration": 305,
    "start_time": "2022-02-17T21:50:22.640Z"
   },
   {
    "duration": 363,
    "start_time": "2022-02-17T21:50:22.947Z"
   },
   {
    "duration": 243,
    "start_time": "2022-02-17T21:50:23.313Z"
   },
   {
    "duration": 3,
    "start_time": "2022-02-17T21:50:23.558Z"
   },
   {
    "duration": 11,
    "start_time": "2022-02-17T21:50:23.563Z"
   },
   {
    "duration": 32,
    "start_time": "2022-02-17T21:50:23.576Z"
   },
   {
    "duration": 3,
    "start_time": "2022-02-17T21:50:23.611Z"
   },
   {
    "duration": 31,
    "start_time": "2022-02-17T21:50:23.616Z"
   },
   {
    "duration": 6,
    "start_time": "2022-02-17T21:50:23.649Z"
   },
   {
    "duration": 7,
    "start_time": "2022-02-17T22:09:51.462Z"
   },
   {
    "duration": 6,
    "start_time": "2022-02-17T22:10:30.994Z"
   },
   {
    "duration": 6,
    "start_time": "2022-02-17T22:10:40.752Z"
   },
   {
    "duration": 6,
    "start_time": "2022-02-17T22:11:13.312Z"
   },
   {
    "duration": 6,
    "start_time": "2022-02-17T22:11:20.772Z"
   },
   {
    "duration": 89,
    "start_time": "2022-02-17T22:34:08.507Z"
   },
   {
    "duration": 18,
    "start_time": "2022-02-17T22:43:59.953Z"
   },
   {
    "duration": 8,
    "start_time": "2022-02-17T22:44:22.169Z"
   },
   {
    "duration": 149,
    "start_time": "2022-02-17T22:44:37.675Z"
   },
   {
    "duration": 260,
    "start_time": "2022-02-17T22:48:05.464Z"
   },
   {
    "duration": 247,
    "start_time": "2022-02-17T22:48:13.589Z"
   },
   {
    "duration": 39,
    "start_time": "2022-02-17T22:59:30.226Z"
   },
   {
    "duration": 13,
    "start_time": "2022-02-17T23:01:44.837Z"
   },
   {
    "duration": 284,
    "start_time": "2022-02-17T23:03:18.085Z"
   },
   {
    "duration": 329,
    "start_time": "2022-02-17T23:03:46.369Z"
   },
   {
    "duration": 241,
    "start_time": "2022-02-17T23:03:57.582Z"
   },
   {
    "duration": 12,
    "start_time": "2022-02-17T23:11:51.259Z"
   },
   {
    "duration": 1155,
    "start_time": "2022-02-17T23:12:10.160Z"
   },
   {
    "duration": 185,
    "start_time": "2022-02-17T23:12:11.317Z"
   },
   {
    "duration": 23,
    "start_time": "2022-02-17T23:12:11.508Z"
   },
   {
    "duration": 67,
    "start_time": "2022-02-17T23:12:11.533Z"
   },
   {
    "duration": 77,
    "start_time": "2022-02-17T23:12:11.602Z"
   },
   {
    "duration": 151,
    "start_time": "2022-02-17T23:12:11.681Z"
   },
   {
    "duration": 19,
    "start_time": "2022-02-17T23:12:11.834Z"
   },
   {
    "duration": 46,
    "start_time": "2022-02-17T23:12:11.856Z"
   },
   {
    "duration": 9,
    "start_time": "2022-02-17T23:12:11.904Z"
   },
   {
    "duration": 134,
    "start_time": "2022-02-17T23:12:11.915Z"
   },
   {
    "duration": 17,
    "start_time": "2022-02-17T23:12:12.051Z"
   },
   {
    "duration": 45,
    "start_time": "2022-02-17T23:12:12.070Z"
   },
   {
    "duration": 19,
    "start_time": "2022-02-17T23:12:12.117Z"
   },
   {
    "duration": 47,
    "start_time": "2022-02-17T23:12:12.143Z"
   },
   {
    "duration": 38,
    "start_time": "2022-02-17T23:12:12.192Z"
   },
   {
    "duration": 38,
    "start_time": "2022-02-17T23:12:12.232Z"
   },
   {
    "duration": 312,
    "start_time": "2022-02-17T23:12:12.273Z"
   },
   {
    "duration": 67,
    "start_time": "2022-02-17T23:12:12.587Z"
   },
   {
    "duration": 59,
    "start_time": "2022-02-17T23:12:12.656Z"
   },
   {
    "duration": 26,
    "start_time": "2022-02-17T23:12:12.717Z"
   },
   {
    "duration": 27,
    "start_time": "2022-02-17T23:12:12.745Z"
   },
   {
    "duration": 47,
    "start_time": "2022-02-17T23:12:12.774Z"
   },
   {
    "duration": 28,
    "start_time": "2022-02-17T23:12:12.825Z"
   },
   {
    "duration": 5,
    "start_time": "2022-02-17T23:12:12.856Z"
   },
   {
    "duration": 290,
    "start_time": "2022-02-17T23:12:12.863Z"
   },
   {
    "duration": 10,
    "start_time": "2022-02-17T23:12:13.156Z"
   },
   {
    "duration": 17,
    "start_time": "2022-02-17T23:12:13.168Z"
   },
   {
    "duration": 57,
    "start_time": "2022-02-17T23:12:13.187Z"
   },
   {
    "duration": 10,
    "start_time": "2022-02-17T23:12:13.246Z"
   },
   {
    "duration": 497,
    "start_time": "2022-02-17T23:12:13.259Z"
   },
   {
    "duration": 300,
    "start_time": "2022-02-17T23:12:13.758Z"
   },
   {
    "duration": 350,
    "start_time": "2022-02-17T23:12:14.060Z"
   },
   {
    "duration": 257,
    "start_time": "2022-02-17T23:12:14.412Z"
   },
   {
    "duration": 2,
    "start_time": "2022-02-17T23:12:14.672Z"
   },
   {
    "duration": 25,
    "start_time": "2022-02-17T23:12:14.676Z"
   },
   {
    "duration": 23,
    "start_time": "2022-02-17T23:12:14.707Z"
   },
   {
    "duration": 20,
    "start_time": "2022-02-17T23:12:14.732Z"
   },
   {
    "duration": 122,
    "start_time": "2022-02-17T23:12:14.754Z"
   },
   {
    "duration": 6,
    "start_time": "2022-02-17T23:12:14.879Z"
   },
   {
    "duration": 28,
    "start_time": "2022-02-17T23:12:14.888Z"
   },
   {
    "duration": 6,
    "start_time": "2022-02-17T23:12:56.602Z"
   },
   {
    "duration": 1157,
    "start_time": "2022-02-17T23:22:56.357Z"
   },
   {
    "duration": 187,
    "start_time": "2022-02-17T23:22:57.517Z"
   },
   {
    "duration": 24,
    "start_time": "2022-02-17T23:22:57.709Z"
   },
   {
    "duration": 37,
    "start_time": "2022-02-17T23:22:57.735Z"
   },
   {
    "duration": 113,
    "start_time": "2022-02-17T23:22:57.774Z"
   },
   {
    "duration": 167,
    "start_time": "2022-02-17T23:22:57.889Z"
   },
   {
    "duration": 19,
    "start_time": "2022-02-17T23:22:58.059Z"
   },
   {
    "duration": 46,
    "start_time": "2022-02-17T23:22:58.082Z"
   },
   {
    "duration": 9,
    "start_time": "2022-02-17T23:22:58.131Z"
   },
   {
    "duration": 116,
    "start_time": "2022-02-17T23:22:58.142Z"
   },
   {
    "duration": 17,
    "start_time": "2022-02-17T23:22:58.261Z"
   },
   {
    "duration": 41,
    "start_time": "2022-02-17T23:22:58.280Z"
   },
   {
    "duration": 20,
    "start_time": "2022-02-17T23:22:58.323Z"
   },
   {
    "duration": 27,
    "start_time": "2022-02-17T23:22:58.345Z"
   },
   {
    "duration": 7,
    "start_time": "2022-02-17T23:22:58.374Z"
   },
   {
    "duration": 27,
    "start_time": "2022-02-17T23:22:58.383Z"
   },
   {
    "duration": 309,
    "start_time": "2022-02-17T23:22:58.412Z"
   },
   {
    "duration": 54,
    "start_time": "2022-02-17T23:22:58.723Z"
   },
   {
    "duration": 63,
    "start_time": "2022-02-17T23:22:58.780Z"
   },
   {
    "duration": 25,
    "start_time": "2022-02-17T23:22:58.845Z"
   },
   {
    "duration": 52,
    "start_time": "2022-02-17T23:22:58.872Z"
   },
   {
    "duration": 24,
    "start_time": "2022-02-17T23:22:58.929Z"
   },
   {
    "duration": 26,
    "start_time": "2022-02-17T23:22:58.955Z"
   },
   {
    "duration": 26,
    "start_time": "2022-02-17T23:22:58.983Z"
   },
   {
    "duration": 257,
    "start_time": "2022-02-17T23:22:59.010Z"
   },
   {
    "duration": 7,
    "start_time": "2022-02-17T23:22:59.268Z"
   },
   {
    "duration": 8,
    "start_time": "2022-02-17T23:22:59.277Z"
   },
   {
    "duration": 57,
    "start_time": "2022-02-17T23:22:59.288Z"
   },
   {
    "duration": 11,
    "start_time": "2022-02-17T23:22:59.347Z"
   },
   {
    "duration": 521,
    "start_time": "2022-02-17T23:22:59.360Z"
   },
   {
    "duration": 310,
    "start_time": "2022-02-17T23:22:59.884Z"
   },
   {
    "duration": 357,
    "start_time": "2022-02-17T23:23:00.196Z"
   },
   {
    "duration": 243,
    "start_time": "2022-02-17T23:23:00.555Z"
   },
   {
    "duration": 3,
    "start_time": "2022-02-17T23:23:00.800Z"
   },
   {
    "duration": 23,
    "start_time": "2022-02-17T23:23:00.807Z"
   },
   {
    "duration": 22,
    "start_time": "2022-02-17T23:23:00.831Z"
   },
   {
    "duration": 20,
    "start_time": "2022-02-17T23:23:00.855Z"
   },
   {
    "duration": 112,
    "start_time": "2022-02-17T23:23:00.877Z"
   },
   {
    "duration": 5,
    "start_time": "2022-02-17T23:23:00.991Z"
   },
   {
    "duration": 31,
    "start_time": "2022-02-17T23:23:00.999Z"
   },
   {
    "duration": 1164,
    "start_time": "2022-02-17T23:23:09.470Z"
   },
   {
    "duration": 187,
    "start_time": "2022-02-17T23:23:10.637Z"
   },
   {
    "duration": 25,
    "start_time": "2022-02-17T23:23:10.826Z"
   },
   {
    "duration": 54,
    "start_time": "2022-02-17T23:23:10.853Z"
   },
   {
    "duration": 84,
    "start_time": "2022-02-17T23:23:10.909Z"
   },
   {
    "duration": 160,
    "start_time": "2022-02-17T23:23:10.995Z"
   },
   {
    "duration": 19,
    "start_time": "2022-02-17T23:23:11.157Z"
   },
   {
    "duration": 47,
    "start_time": "2022-02-17T23:23:11.178Z"
   },
   {
    "duration": 9,
    "start_time": "2022-02-17T23:23:11.227Z"
   },
   {
    "duration": 101,
    "start_time": "2022-02-17T23:23:11.238Z"
   },
   {
    "duration": 16,
    "start_time": "2022-02-17T23:23:11.341Z"
   },
   {
    "duration": 33,
    "start_time": "2022-02-17T23:23:11.359Z"
   },
   {
    "duration": 23,
    "start_time": "2022-02-17T23:23:11.394Z"
   },
   {
    "duration": 39,
    "start_time": "2022-02-17T23:23:11.419Z"
   },
   {
    "duration": 10,
    "start_time": "2022-02-17T23:23:11.460Z"
   },
   {
    "duration": 24,
    "start_time": "2022-02-17T23:23:11.472Z"
   },
   {
    "duration": 283,
    "start_time": "2022-02-17T23:23:11.498Z"
   },
   {
    "duration": 69,
    "start_time": "2022-02-17T23:23:11.782Z"
   },
   {
    "duration": 55,
    "start_time": "2022-02-17T23:23:11.853Z"
   },
   {
    "duration": 26,
    "start_time": "2022-02-17T23:23:11.910Z"
   },
   {
    "duration": 27,
    "start_time": "2022-02-17T23:23:11.938Z"
   },
   {
    "duration": 52,
    "start_time": "2022-02-17T23:23:11.967Z"
   },
   {
    "duration": 29,
    "start_time": "2022-02-17T23:23:12.022Z"
   },
   {
    "duration": 4,
    "start_time": "2022-02-17T23:23:12.053Z"
   },
   {
    "duration": 264,
    "start_time": "2022-02-17T23:23:12.060Z"
   },
   {
    "duration": 7,
    "start_time": "2022-02-17T23:23:12.326Z"
   },
   {
    "duration": 23,
    "start_time": "2022-02-17T23:23:12.335Z"
   },
   {
    "duration": 47,
    "start_time": "2022-02-17T23:23:12.360Z"
   },
   {
    "duration": 10,
    "start_time": "2022-02-17T23:23:12.409Z"
   },
   {
    "duration": 447,
    "start_time": "2022-02-17T23:23:12.421Z"
   },
   {
    "duration": 299,
    "start_time": "2022-02-17T23:23:12.870Z"
   },
   {
    "duration": 358,
    "start_time": "2022-02-17T23:23:13.172Z"
   },
   {
    "duration": 245,
    "start_time": "2022-02-17T23:23:13.533Z"
   },
   {
    "duration": 3,
    "start_time": "2022-02-17T23:23:13.780Z"
   },
   {
    "duration": 27,
    "start_time": "2022-02-17T23:23:13.785Z"
   },
   {
    "duration": 9,
    "start_time": "2022-02-17T23:23:13.813Z"
   },
   {
    "duration": 7,
    "start_time": "2022-02-17T23:23:13.824Z"
   },
   {
    "duration": 118,
    "start_time": "2022-02-17T23:23:13.833Z"
   },
   {
    "duration": 5,
    "start_time": "2022-02-17T23:23:13.953Z"
   },
   {
    "duration": 12,
    "start_time": "2022-02-17T23:23:13.960Z"
   },
   {
    "duration": 1113,
    "start_time": "2022-02-17T23:24:57.502Z"
   },
   {
    "duration": 182,
    "start_time": "2022-02-17T23:24:58.618Z"
   },
   {
    "duration": 23,
    "start_time": "2022-02-17T23:24:58.802Z"
   },
   {
    "duration": 32,
    "start_time": "2022-02-17T23:24:58.828Z"
   },
   {
    "duration": 109,
    "start_time": "2022-02-17T23:24:58.861Z"
   },
   {
    "duration": 153,
    "start_time": "2022-02-17T23:24:58.972Z"
   },
   {
    "duration": 21,
    "start_time": "2022-02-17T23:24:59.128Z"
   },
   {
    "duration": 54,
    "start_time": "2022-02-17T23:24:59.153Z"
   },
   {
    "duration": 10,
    "start_time": "2022-02-17T23:24:59.210Z"
   },
   {
    "duration": 110,
    "start_time": "2022-02-17T23:24:59.222Z"
   },
   {
    "duration": 15,
    "start_time": "2022-02-17T23:24:59.335Z"
   },
   {
    "duration": 25,
    "start_time": "2022-02-17T23:24:59.353Z"
   },
   {
    "duration": 35,
    "start_time": "2022-02-17T23:24:59.380Z"
   },
   {
    "duration": 29,
    "start_time": "2022-02-17T23:24:59.417Z"
   },
   {
    "duration": 7,
    "start_time": "2022-02-17T23:24:59.448Z"
   },
   {
    "duration": 12,
    "start_time": "2022-02-17T23:24:59.457Z"
   },
   {
    "duration": 314,
    "start_time": "2022-02-17T23:24:59.471Z"
   },
   {
    "duration": 68,
    "start_time": "2022-02-17T23:24:59.787Z"
   },
   {
    "duration": 56,
    "start_time": "2022-02-17T23:24:59.857Z"
   },
   {
    "duration": 27,
    "start_time": "2022-02-17T23:24:59.914Z"
   },
   {
    "duration": 25,
    "start_time": "2022-02-17T23:24:59.943Z"
   },
   {
    "duration": 52,
    "start_time": "2022-02-17T23:24:59.970Z"
   },
   {
    "duration": 34,
    "start_time": "2022-02-17T23:25:00.027Z"
   },
   {
    "duration": 6,
    "start_time": "2022-02-17T23:25:00.064Z"
   },
   {
    "duration": 263,
    "start_time": "2022-02-17T23:25:00.108Z"
   },
   {
    "duration": 8,
    "start_time": "2022-02-17T23:25:00.374Z"
   },
   {
    "duration": 31,
    "start_time": "2022-02-17T23:25:00.384Z"
   },
   {
    "duration": 56,
    "start_time": "2022-02-17T23:25:00.417Z"
   },
   {
    "duration": 15,
    "start_time": "2022-02-17T23:25:00.474Z"
   },
   {
    "duration": 481,
    "start_time": "2022-02-17T23:25:00.491Z"
   },
   {
    "duration": 314,
    "start_time": "2022-02-17T23:25:00.974Z"
   },
   {
    "duration": 362,
    "start_time": "2022-02-17T23:25:01.290Z"
   },
   {
    "duration": 255,
    "start_time": "2022-02-17T23:25:01.655Z"
   },
   {
    "duration": 3,
    "start_time": "2022-02-17T23:25:01.912Z"
   },
   {
    "duration": 79,
    "start_time": "2022-02-17T23:25:01.917Z"
   },
   {
    "duration": 58,
    "start_time": "2022-02-17T23:25:01.999Z"
   },
   {
    "duration": 38,
    "start_time": "2022-02-17T23:25:02.059Z"
   },
   {
    "duration": 128,
    "start_time": "2022-02-17T23:25:02.099Z"
   },
   {
    "duration": 6,
    "start_time": "2022-02-17T23:25:02.229Z"
   },
   {
    "duration": 38,
    "start_time": "2022-02-17T23:25:02.237Z"
   },
   {
    "duration": 934,
    "start_time": "2022-02-27T08:52:39.735Z"
   },
   {
    "duration": 137,
    "start_time": "2022-02-27T08:52:40.671Z"
   },
   {
    "duration": 19,
    "start_time": "2022-02-27T08:52:40.810Z"
   },
   {
    "duration": 26,
    "start_time": "2022-02-27T08:52:40.830Z"
   },
   {
    "duration": 81,
    "start_time": "2022-02-27T08:52:40.858Z"
   },
   {
    "duration": 114,
    "start_time": "2022-02-27T08:52:40.941Z"
   },
   {
    "duration": 15,
    "start_time": "2022-02-27T08:52:41.056Z"
   },
   {
    "duration": 28,
    "start_time": "2022-02-27T08:52:41.073Z"
   },
   {
    "duration": 5,
    "start_time": "2022-02-27T08:52:41.103Z"
   },
   {
    "duration": 79,
    "start_time": "2022-02-27T08:52:41.109Z"
   },
   {
    "duration": 12,
    "start_time": "2022-02-27T08:52:41.189Z"
   },
   {
    "duration": 16,
    "start_time": "2022-02-27T08:52:41.202Z"
   },
   {
    "duration": 20,
    "start_time": "2022-02-27T08:52:41.219Z"
   },
   {
    "duration": 40,
    "start_time": "2022-02-27T08:52:41.241Z"
   },
   {
    "duration": 4,
    "start_time": "2022-02-27T08:52:41.282Z"
   },
   {
    "duration": 7,
    "start_time": "2022-02-27T08:52:41.288Z"
   },
   {
    "duration": 184,
    "start_time": "2022-02-27T08:52:41.296Z"
   },
   {
    "duration": 51,
    "start_time": "2022-02-27T08:52:41.482Z"
   },
   {
    "duration": 33,
    "start_time": "2022-02-27T08:52:41.534Z"
   },
   {
    "duration": 34,
    "start_time": "2022-02-27T08:52:41.568Z"
   },
   {
    "duration": 19,
    "start_time": "2022-02-27T08:52:41.603Z"
   },
   {
    "duration": 17,
    "start_time": "2022-02-27T08:52:41.623Z"
   },
   {
    "duration": 22,
    "start_time": "2022-02-27T08:52:41.643Z"
   },
   {
    "duration": 4,
    "start_time": "2022-02-27T08:52:41.667Z"
   },
   {
    "duration": 231,
    "start_time": "2022-02-27T08:52:41.672Z"
   },
   {
    "duration": 5,
    "start_time": "2022-02-27T08:52:41.905Z"
   },
   {
    "duration": 6,
    "start_time": "2022-02-27T08:52:41.911Z"
   },
   {
    "duration": 27,
    "start_time": "2022-02-27T08:52:41.919Z"
   },
   {
    "duration": 8,
    "start_time": "2022-02-27T08:52:41.948Z"
   },
   {
    "duration": 433,
    "start_time": "2022-02-27T08:52:41.957Z"
   },
   {
    "duration": 229,
    "start_time": "2022-02-27T08:52:42.392Z"
   },
   {
    "duration": 283,
    "start_time": "2022-02-27T08:52:42.623Z"
   },
   {
    "duration": 185,
    "start_time": "2022-02-27T08:52:42.908Z"
   },
   {
    "duration": 3,
    "start_time": "2022-02-27T08:52:43.095Z"
   },
   {
    "duration": 9,
    "start_time": "2022-02-27T08:52:43.099Z"
   },
   {
    "duration": 7,
    "start_time": "2022-02-27T08:52:43.110Z"
   },
   {
    "duration": 4,
    "start_time": "2022-02-27T08:52:43.118Z"
   },
   {
    "duration": 102,
    "start_time": "2022-02-27T08:52:43.123Z"
   },
   {
    "duration": 5,
    "start_time": "2022-02-27T08:52:43.226Z"
   },
   {
    "duration": 5,
    "start_time": "2022-02-27T08:52:43.233Z"
   },
   {
    "duration": 23,
    "start_time": "2022-02-27T08:56:12.135Z"
   },
   {
    "duration": 14,
    "start_time": "2022-02-27T08:56:36.066Z"
   },
   {
    "duration": 198,
    "start_time": "2022-02-27T15:44:45.541Z"
   },
   {
    "duration": 935,
    "start_time": "2022-02-27T15:44:55.383Z"
   },
   {
    "duration": 140,
    "start_time": "2022-02-27T15:44:57.562Z"
   },
   {
    "duration": 43,
    "start_time": "2022-02-27T15:45:28.178Z"
   },
   {
    "duration": 137,
    "start_time": "2022-02-27T15:50:53.092Z"
   },
   {
    "duration": 39,
    "start_time": "2022-02-27T15:51:46.921Z"
   },
   {
    "duration": 38,
    "start_time": "2022-02-27T15:52:22.437Z"
   },
   {
    "duration": 16,
    "start_time": "2022-02-27T15:53:12.274Z"
   },
   {
    "duration": 27,
    "start_time": "2022-02-27T15:53:26.772Z"
   },
   {
    "duration": 25,
    "start_time": "2022-02-27T16:08:04.746Z"
   },
   {
    "duration": 4,
    "start_time": "2022-02-27T16:08:25.203Z"
   },
   {
    "duration": 160,
    "start_time": "2022-02-27T16:08:25.208Z"
   },
   {
    "duration": 41,
    "start_time": "2022-02-27T16:08:25.370Z"
   },
   {
    "duration": 48,
    "start_time": "2022-02-27T16:08:25.412Z"
   },
   {
    "duration": 80,
    "start_time": "2022-02-27T16:08:25.462Z"
   },
   {
    "duration": 126,
    "start_time": "2022-02-27T16:08:25.543Z"
   },
   {
    "duration": 15,
    "start_time": "2022-02-27T16:08:25.671Z"
   },
   {
    "duration": 19,
    "start_time": "2022-02-27T16:08:25.688Z"
   },
   {
    "duration": 30,
    "start_time": "2022-02-27T16:08:25.708Z"
   },
   {
    "duration": 36,
    "start_time": "2022-02-27T16:08:25.739Z"
   },
   {
    "duration": 90,
    "start_time": "2022-02-27T16:08:25.776Z"
   },
   {
    "duration": 13,
    "start_time": "2022-02-27T16:08:25.868Z"
   },
   {
    "duration": 20,
    "start_time": "2022-02-27T16:08:25.883Z"
   },
   {
    "duration": 17,
    "start_time": "2022-02-27T16:08:25.905Z"
   },
   {
    "duration": 29,
    "start_time": "2022-02-27T16:08:25.937Z"
   },
   {
    "duration": 6,
    "start_time": "2022-02-27T16:08:25.968Z"
   },
   {
    "duration": 15,
    "start_time": "2022-02-27T16:08:25.976Z"
   },
   {
    "duration": 266,
    "start_time": "2022-02-27T16:08:25.993Z"
   },
   {
    "duration": 48,
    "start_time": "2022-02-27T16:08:26.263Z"
   },
   {
    "duration": 52,
    "start_time": "2022-02-27T16:08:26.313Z"
   },
   {
    "duration": 25,
    "start_time": "2022-02-27T16:08:26.366Z"
   },
   {
    "duration": 48,
    "start_time": "2022-02-27T16:08:26.393Z"
   },
   {
    "duration": 18,
    "start_time": "2022-02-27T16:08:26.443Z"
   },
   {
    "duration": 41,
    "start_time": "2022-02-27T16:08:26.464Z"
   },
   {
    "duration": 7,
    "start_time": "2022-02-27T16:08:26.507Z"
   },
   {
    "duration": 240,
    "start_time": "2022-02-27T16:08:26.537Z"
   },
   {
    "duration": 6,
    "start_time": "2022-02-27T16:08:26.778Z"
   },
   {
    "duration": 7,
    "start_time": "2022-02-27T16:08:26.786Z"
   },
   {
    "duration": 45,
    "start_time": "2022-02-27T16:08:26.795Z"
   },
   {
    "duration": 10,
    "start_time": "2022-02-27T16:08:26.842Z"
   },
   {
    "duration": 445,
    "start_time": "2022-02-27T16:08:26.853Z"
   },
   {
    "duration": 270,
    "start_time": "2022-02-27T16:08:27.300Z"
   },
   {
    "duration": 323,
    "start_time": "2022-02-27T16:08:27.571Z"
   },
   {
    "duration": 225,
    "start_time": "2022-02-27T16:08:27.896Z"
   },
   {
    "duration": 3,
    "start_time": "2022-02-27T16:08:28.123Z"
   },
   {
    "duration": 16,
    "start_time": "2022-02-27T16:08:28.128Z"
   },
   {
    "duration": 7,
    "start_time": "2022-02-27T16:08:28.145Z"
   },
   {
    "duration": 3,
    "start_time": "2022-02-27T16:08:28.153Z"
   },
   {
    "duration": 107,
    "start_time": "2022-02-27T16:08:28.158Z"
   },
   {
    "duration": 6,
    "start_time": "2022-02-27T16:08:28.266Z"
   },
   {
    "duration": 6,
    "start_time": "2022-02-27T16:08:28.273Z"
   },
   {
    "duration": 40,
    "start_time": "2022-02-27T16:09:51.673Z"
   },
   {
    "duration": 19,
    "start_time": "2022-02-27T16:14:47.082Z"
   },
   {
    "duration": 12,
    "start_time": "2022-02-27T16:17:13.983Z"
   },
   {
    "duration": 11,
    "start_time": "2022-02-27T16:17:47.624Z"
   },
   {
    "duration": 14,
    "start_time": "2022-02-27T16:20:32.048Z"
   },
   {
    "duration": 16,
    "start_time": "2022-02-27T16:21:16.894Z"
   },
   {
    "duration": 14,
    "start_time": "2022-02-27T16:21:27.720Z"
   },
   {
    "duration": 12,
    "start_time": "2022-02-27T16:21:45.329Z"
   },
   {
    "duration": 8,
    "start_time": "2022-02-27T16:21:55.296Z"
   },
   {
    "duration": 16,
    "start_time": "2022-02-27T16:53:24.948Z"
   },
   {
    "duration": 7,
    "start_time": "2022-02-27T17:06:21.103Z"
   },
   {
    "duration": 5,
    "start_time": "2022-02-27T17:13:33.035Z"
   },
   {
    "duration": 5,
    "start_time": "2022-02-27T17:19:19.122Z"
   },
   {
    "duration": 1014,
    "start_time": "2022-02-27T17:56:12.511Z"
   },
   {
    "duration": 152,
    "start_time": "2022-02-27T17:56:13.527Z"
   },
   {
    "duration": 42,
    "start_time": "2022-02-27T17:56:13.681Z"
   },
   {
    "duration": 36,
    "start_time": "2022-02-27T17:56:13.725Z"
   },
   {
    "duration": 88,
    "start_time": "2022-02-27T17:56:13.763Z"
   },
   {
    "duration": 127,
    "start_time": "2022-02-27T17:56:13.853Z"
   },
   {
    "duration": 15,
    "start_time": "2022-02-27T17:56:13.982Z"
   },
   {
    "duration": 38,
    "start_time": "2022-02-27T17:56:14.000Z"
   },
   {
    "duration": 6,
    "start_time": "2022-02-27T17:56:14.039Z"
   },
   {
    "duration": 38,
    "start_time": "2022-02-27T17:56:14.046Z"
   },
   {
    "duration": 102,
    "start_time": "2022-02-27T17:56:14.085Z"
   },
   {
    "duration": 13,
    "start_time": "2022-02-27T17:56:14.189Z"
   },
   {
    "duration": 11,
    "start_time": "2022-02-27T17:56:14.204Z"
   },
   {
    "duration": 25,
    "start_time": "2022-02-27T17:56:14.217Z"
   },
   {
    "duration": 17,
    "start_time": "2022-02-27T17:56:14.243Z"
   },
   {
    "duration": 16,
    "start_time": "2022-02-27T17:56:14.262Z"
   },
   {
    "duration": 29,
    "start_time": "2022-02-27T17:56:14.280Z"
   },
   {
    "duration": 6,
    "start_time": "2022-02-27T17:56:14.311Z"
   },
   {
    "duration": 21,
    "start_time": "2022-02-27T17:56:14.318Z"
   },
   {
    "duration": 248,
    "start_time": "2022-02-27T17:56:14.340Z"
   },
   {
    "duration": 55,
    "start_time": "2022-02-27T17:56:14.589Z"
   },
   {
    "duration": 34,
    "start_time": "2022-02-27T17:56:14.645Z"
   },
   {
    "duration": 20,
    "start_time": "2022-02-27T17:56:14.682Z"
   },
   {
    "duration": 49,
    "start_time": "2022-02-27T17:56:14.704Z"
   },
   {
    "duration": 18,
    "start_time": "2022-02-27T17:56:14.754Z"
   },
   {
    "duration": 29,
    "start_time": "2022-02-27T17:56:14.774Z"
   },
   {
    "duration": 5,
    "start_time": "2022-02-27T17:56:14.804Z"
   },
   {
    "duration": 252,
    "start_time": "2022-02-27T17:56:14.810Z"
   },
   {
    "duration": 9,
    "start_time": "2022-02-27T17:56:15.065Z"
   },
   {
    "duration": 8,
    "start_time": "2022-02-27T17:56:15.077Z"
   },
   {
    "duration": 66,
    "start_time": "2022-02-27T17:56:15.087Z"
   },
   {
    "duration": 9,
    "start_time": "2022-02-27T17:56:15.155Z"
   },
   {
    "duration": 450,
    "start_time": "2022-02-27T17:56:15.166Z"
   },
   {
    "duration": 271,
    "start_time": "2022-02-27T17:56:15.618Z"
   },
   {
    "duration": 335,
    "start_time": "2022-02-27T17:56:15.891Z"
   },
   {
    "duration": 215,
    "start_time": "2022-02-27T17:56:16.228Z"
   },
   {
    "duration": 3,
    "start_time": "2022-02-27T17:56:16.445Z"
   },
   {
    "duration": 10,
    "start_time": "2022-02-27T17:56:16.450Z"
   },
   {
    "duration": 8,
    "start_time": "2022-02-27T17:56:16.462Z"
   },
   {
    "duration": 2,
    "start_time": "2022-02-27T17:56:16.472Z"
   },
   {
    "duration": 6,
    "start_time": "2022-02-27T17:56:16.475Z"
   },
   {
    "duration": 9,
    "start_time": "2022-02-27T17:56:16.482Z"
   },
   {
    "duration": 47,
    "start_time": "2022-02-27T17:56:16.492Z"
   }
  ],
  "kernelspec": {
   "display_name": "Python 3 (ipykernel)",
   "language": "python",
   "name": "python3"
  },
  "language_info": {
   "codemirror_mode": {
    "name": "ipython",
    "version": 3
   },
   "file_extension": ".py",
   "mimetype": "text/x-python",
   "name": "python",
   "nbconvert_exporter": "python",
   "pygments_lexer": "ipython3",
   "version": "3.9.13"
  },
  "toc": {
   "base_numbering": 1,
   "nav_menu": {
    "height": "142px",
    "width": "180px"
   },
   "number_sections": false,
   "sideBar": true,
   "skip_h1_title": false,
   "title_cell": "Table of Contents",
   "title_sidebar": "Contents",
   "toc_cell": false,
   "toc_position": {
    "height": "100px",
    "left": "573px",
    "top": "159.14px",
    "width": "165px"
   },
   "toc_section_display": true,
   "toc_window_display": true
  }
 },
 "nbformat": 4,
 "nbformat_minor": 2
}
